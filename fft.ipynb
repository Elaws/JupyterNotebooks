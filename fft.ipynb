{
 "cells": [
  {
   "cell_type": "markdown",
   "metadata": {},
   "source": [
    "# Discrete Fourier Transform example\n",
    "\n",
    "Display the DFT and FFT (for comparison) of a 1 Hz cosine.\n",
    "\n",
    "PARAMETERS :\n",
    "\n",
    "    - Periods : Number of cosine periods\n",
    "    - Sampling : Sampling frequency\n",
    "    - 0-padding : Number of zero samples to be added at the end of signal (for better spectral interpolation)"
   ]
  },
  {
   "cell_type": "code",
   "execution_count": 14,
   "metadata": {
    "scrolled": false
   },
   "outputs": [
    {
     "data": {
      "application/vnd.jupyter.widget-view+json": {
       "model_id": "6f26715cf91f4d1b9b1a6e5dc8ad8329",
       "version_major": 2,
       "version_minor": 0
      },
      "text/plain": [
       "HBox(children=(Output(), VBox(children=(IntSlider(value=2, continuous_update=False, description='Periods', max…"
      ]
     },
     "metadata": {},
     "output_type": "display_data"
    }
   ],
   "source": [
    "%matplotlib widget\n",
    "\n",
    "import numpy as np\n",
    "import matplotlib.pyplot as plt\n",
    "import time\n",
    "\n",
    "from ipywidgets import interactive, interact, widgets, HBox, VBox, Layout\n",
    "\n",
    "\n",
    "# Display the DFT and FFT (for comparison) of a 1 Hz cosine.\n",
    "# PARAMETERS OF UI:\n",
    "    # Periods : Number of cosine periods\n",
    "    # Sampling (Hz) : Sampling frequency\n",
    "    # 0-padding : Number of zero samples to be added at the end of signal (for better spectral interpolation)\n",
    "\n",
    "    \n",
    "def fourierTransform(numberOfPeriods, samplesPerPeriod, zeroPadding):\n",
    "    \n",
    "    # VARIABLE INITIALIZATION #\n",
    "    \n",
    "    # Signal variables\n",
    "    T = 1.0 # period of signal (s)  \n",
    "    Np = numberOfPeriods # number of desired periods\n",
    "    omega = 2*(np.pi)/T\n",
    "    \n",
    "    # Sampling variables\n",
    "    fs = samplesPerPeriod/T # sampling frequency (Hz)\n",
    "    N = int(Np*T*fs) + zeroPadding # number of samples\n",
    "    \n",
    "    # Creation of time and frequency axis\n",
    "    t = (1/fs)*np.arange(0, N, 1)\n",
    "    f = (fs/N)*np.arange(-(N/2)+1,N/2+1,1)\n",
    "    \n",
    "    \n",
    "    # SIGNAL DEFINITION #\n",
    "    \n",
    "    signal = np.concatenate([(np.cos(omega*t))[0:N-zeroPadding],np.zeros(zeroPadding)]) # Signal and its zero padding\n",
    "    \n",
    "    \n",
    "    # DFT COMPUTATION #\n",
    "\n",
    "    # Vandermonde-Fourier Matrix for DFT computation\n",
    "    baseFourier = np.exp(-2j*(np.pi)/N)\n",
    "    arrayFourier = np.power(np.full(N, baseFourier), np.arange(0, N, 1))\n",
    "    matrixFourier = np.vander(arrayFourier, N, 1)\n",
    "    \n",
    "    # DFT computation\n",
    "    DFT = matrixFourier.dot(signal)\n",
    "    normalizedMagnitudeDFT = (np.absolute(DFT))/(N-zeroPadding)\n",
    "    \n",
    "    \n",
    "    # NUMPY FFT COMPUTATION #\n",
    "    \n",
    "    normalizedMagnitudeFFT = np.absolute(np.fft.fft(signal))/(N-zeroPadding)\n",
    "    \n",
    "    \n",
    "    # DISPLAYING RESULTS #\n",
    "    \n",
    "    # Signal\n",
    "    ax1.clear()\n",
    "    ax1.plot(t, signal)\n",
    "    ax1.set_title('Signal')\n",
    "    ax1.set_xlabel(\"t (s)\")\n",
    "    \n",
    "    # DFT\n",
    "    ax2.clear()\n",
    "    ax2.plot(f, np.concatenate([(normalizedMagnitudeDFT)[int((N/2))+1:N],(normalizedMagnitudeDFT)[0:int((N/2))+1]]))\n",
    "    ax2.set_title('DFT')\n",
    "    ax2.set_xlabel('f (Hz)')\n",
    "    \n",
    "    # FFT \n",
    "    ax3.clear()\n",
    "    ax3.plot(f,np.concatenate([(normalizedMagnitudeFFT)[int((N/2))+1:N],(normalizedMagnitudeFFT)[0:int((N/2))+1]]))\n",
    "    ax3.set_title('FFT')\n",
    "    ax3.set_xlabel('f (Hz)')\n",
    "\n",
    "\n",
    "# CREATE INTERACTIBLE GRAPH #\n",
    "\n",
    "style = {'description_width': 'initial'} # To prevent slider text collapsing\n",
    "\n",
    "# Creation of sliders\n",
    "numberOfPeriodsWidget = widgets.IntSlider(min=1, max=50, step=1, value=2, description=\"Periods\", style=style, continuous_update=False) \n",
    "samplesPerPeriodWidget = widgets.IntSlider(min=2, max=20, step=2, value=4, description=\"Sampling (Hz)\", style=style, continuous_update=False) \n",
    "zeroPaddingWidget = widgets.IntSlider(min=0, max=500, step=1, value=0, description=\"0-Padding\", style=style, continuous_update=False)\n",
    "\n",
    "# No matter chosen period and sampling, zero padding can represent up to 90% of signal length\n",
    "def update_zeroPadding(*args):\n",
    "    zeroPaddingWidget.max = 9*(numberOfPeriodsWidget.value)*(samplesPerPeriodWidget.value)\n",
    "    zeroPaddingWidget.step = (zeroPaddingWidget.max)/30\n",
    "\n",
    "numberOfPeriodsWidget.observe(update_zeroPadding, 'value')\n",
    "samplesPerPeriodWidget.observe(update_zeroPadding, 'value')\n",
    "\n",
    "# Creating figure inside an \"Output widget\"\n",
    "output = widgets.Output()\n",
    "\n",
    "with output :\n",
    "    fig, (ax1, ax2, ax3) = plt.subplots(constrained_layout=True, nrows=3, ncols=1)\n",
    "    fig.suptitle('DFT and FFT of 1 Hz cosine', fontsize=16)\n",
    "    fig.canvas.header_visible = False\n",
    "\n",
    "# Linking sliders with function it controls ('fourierTransform')\n",
    "widget = interactive(fourierTransform, numberOfPeriods = numberOfPeriodsWidget,\n",
    "         samplesPerPeriod = samplesPerPeriodWidget, \n",
    "         zeroPadding = zeroPaddingWidget)\n",
    "\n",
    "# We run 'fourierTransform' before displaying widget so graphs are not empty \n",
    "fourierTransform(numberOfPeriodsWidget.value, samplesPerPeriodWidget.value, zeroPaddingWidget.value)\n",
    "\n",
    "# Display sliders and graphs with proper layout\n",
    "box_layout = Layout(display='flex',\n",
    "                    align_items='center')\n",
    "controls = VBox(widget.children[:-1])\n",
    "display(HBox([output, controls], layout=box_layout))"
   ]
  },
  {
   "cell_type": "code",
   "execution_count": null,
   "metadata": {},
   "outputs": [],
   "source": []
  }
 ],
 "metadata": {
  "kernelspec": {
   "display_name": "Python 3",
   "language": "python",
   "name": "python3"
  },
  "language_info": {
   "codemirror_mode": {
    "name": "ipython",
    "version": 3
   },
   "file_extension": ".py",
   "mimetype": "text/x-python",
   "name": "python",
   "nbconvert_exporter": "python",
   "pygments_lexer": "ipython3",
   "version": "3.8.5"
  },
  "widgets": {
   "application/vnd.jupyter.widget-state+json": {
    "state": {
     "00586626e45a4a089549aaf5c02490fb": {
      "model_module": "@jupyter-widgets/controls",
      "model_module_version": "1.5.0",
      "model_name": "VBoxModel",
      "state": {
       "children": [
        "IPY_MODEL_93148e5fefbd4dc58bb05f0976367bd2",
        "IPY_MODEL_21ef4e711a1947e6872f562f603e59c4"
       ],
       "layout": "IPY_MODEL_56d95ee1384446abbc68cf51c661f9c0"
      }
     },
     "00862ee89c89413c9f9266ace5c7ea12": {
      "model_module": "@jupyter-widgets/base",
      "model_module_version": "1.2.0",
      "model_name": "LayoutModel",
      "state": {}
     },
     "009653b0d10c42578fdcaa8cc444c55a": {
      "model_module": "@jupyter-widgets/base",
      "model_module_version": "1.2.0",
      "model_name": "LayoutModel",
      "state": {}
     },
     "00aff58e2246470dad8c8b5b1597998f": {
      "model_module": "@jupyter-widgets/base",
      "model_module_version": "1.2.0",
      "model_name": "LayoutModel",
      "state": {}
     },
     "00c56cb5a0f94cb58785fb0ef6c7d0a0": {
      "model_module": "@jupyter-widgets/base",
      "model_module_version": "1.2.0",
      "model_name": "LayoutModel",
      "state": {}
     },
     "00d2de3138ed4167954123b0889cbf7c": {
      "model_module": "@jupyter-widgets/controls",
      "model_module_version": "1.5.0",
      "model_name": "SliderStyleModel",
      "state": {
       "description_width": "initial"
      }
     },
     "00d65c214a1e4bee980e1746f12a3391": {
      "model_module": "@jupyter-widgets/base",
      "model_module_version": "1.2.0",
      "model_name": "LayoutModel",
      "state": {}
     },
     "0139d47b3e0b4297a8ddf51f4e1d09cd": {
      "model_module": "@jupyter-widgets/controls",
      "model_module_version": "1.5.0",
      "model_name": "SliderStyleModel",
      "state": {
       "description_width": "initial"
      }
     },
     "0154529c464941b896519df19390d79c": {
      "model_module": "@jupyter-widgets/base",
      "model_module_version": "1.2.0",
      "model_name": "LayoutModel",
      "state": {}
     },
     "016cf943f49148fb9d1a66587caf4d59": {
      "model_module": "@jupyter-widgets/base",
      "model_module_version": "1.2.0",
      "model_name": "LayoutModel",
      "state": {}
     },
     "018017b77e0046e484b9325dc92cd4aa": {
      "model_module": "jupyter-matplotlib",
      "model_module_version": "^0.7.4",
      "model_name": "ToolbarModel",
      "state": {
       "layout": "IPY_MODEL_3c61ec38dd6a407fbfd27fdb426c1773",
       "toolitems": [
        [
         "Home",
         "Reset original view",
         "home",
         "home"
        ],
        [
         "Back",
         "Back to previous view",
         "arrow-left",
         "back"
        ],
        [
         "Forward",
         "Forward to next view",
         "arrow-right",
         "forward"
        ],
        [
         "Pan",
         "Left button pans, Right button zooms\nx/y fixes axis, CTRL fixes aspect",
         "arrows",
         "pan"
        ],
        [
         "Zoom",
         "Zoom to rectangle\nx/y fixes axis, CTRL fixes aspect",
         "square-o",
         "zoom"
        ],
        [
         "Download",
         "Download plot",
         "floppy-o",
         "save_figure"
        ]
       ]
      }
     },
     "0190e51c66374459932896747ce0e7b0": {
      "model_module": "@jupyter-widgets/base",
      "model_module_version": "1.2.0",
      "model_name": "LayoutModel",
      "state": {}
     },
     "01a33a806c7340d599380dcaea2fe9d0": {
      "model_module": "@jupyter-widgets/output",
      "model_module_version": "1.0.0",
      "model_name": "OutputModel",
      "state": {
       "layout": "IPY_MODEL_808af03be28a4852bc0a0886a4cbab51",
       "outputs": [
        {
         "name": "stderr",
         "output_type": "stream",
         "text": "<ipython-input-1-1c4ca2a74e1e>:59: MatplotlibDeprecationWarning: Adding an axes using the same arguments as a previous axes currently reuses the earlier instance.  In a future version, a new instance will always be created and returned.  Meanwhile, this warning can be suppressed, and the future behavior ensured, by passing a unique label to each axes instance.\n  plt.subplot(311)\n<ipython-input-1-1c4ca2a74e1e>:65: MatplotlibDeprecationWarning: Adding an axes using the same arguments as a previous axes currently reuses the earlier instance.  In a future version, a new instance will always be created and returned.  Meanwhile, this warning can be suppressed, and the future behavior ensured, by passing a unique label to each axes instance.\n  plt.subplot(312)\n<ipython-input-1-1c4ca2a74e1e>:72: MatplotlibDeprecationWarning: Adding an axes using the same arguments as a previous axes currently reuses the earlier instance.  In a future version, a new instance will always be created and returned.  Meanwhile, this warning can be suppressed, and the future behavior ensured, by passing a unique label to each axes instance.\n  plt.subplot(313)\n"
        }
       ]
      }
     },
     "01b3976213074cb7af597cdfb49586fa": {
      "model_module": "@jupyter-widgets/base",
      "model_module_version": "1.2.0",
      "model_name": "LayoutModel",
      "state": {}
     },
     "01e5b49f373d4dadace65950ce203da1": {
      "model_module": "@jupyter-widgets/base",
      "model_module_version": "1.2.0",
      "model_name": "LayoutModel",
      "state": {}
     },
     "020214bddb2c433aa3e001d716a5b4ef": {
      "model_module": "@jupyter-widgets/controls",
      "model_module_version": "1.5.0",
      "model_name": "VBoxModel",
      "state": {
       "_dom_classes": [
        "widget-interact"
       ],
       "children": [
        "IPY_MODEL_6d3f02b5ce7f4a37b038870bc88fbb3d",
        "IPY_MODEL_369591f0edc8421aa91632deefa03eac",
        "IPY_MODEL_21390cefcfb8483ea503cec95ecc9d10",
        "IPY_MODEL_d6d1df9792ea40aca5cb8b03f2c8da24"
       ],
       "layout": "IPY_MODEL_6c812165a1c94e38acc5be0251bd0f94"
      }
     },
     "020ec8d2c88b47d5bbe0391bf86361d4": {
      "model_module": "@jupyter-widgets/base",
      "model_module_version": "1.2.0",
      "model_name": "LayoutModel",
      "state": {}
     },
     "023a2110b0474b0dbdefbfa1eaae5923": {
      "model_module": "@jupyter-widgets/base",
      "model_module_version": "1.2.0",
      "model_name": "LayoutModel",
      "state": {}
     },
     "024fe6633c3c43f7871a959f358fe4ba": {
      "model_module": "@jupyter-widgets/controls",
      "model_module_version": "1.5.0",
      "model_name": "IntSliderModel",
      "state": {
       "description": "0-Padding",
       "layout": "IPY_MODEL_318a359c78854e6592f587ff118f4a88",
       "max": 10,
       "style": "IPY_MODEL_fc51b07b2ddc4c229521b38abfdf6fb8"
      }
     },
     "02583b5ba97f412287e72f9a2352e693": {
      "model_module": "@jupyter-widgets/controls",
      "model_module_version": "1.5.0",
      "model_name": "IntSliderModel",
      "state": {
       "continuous_update": false,
       "description": "Sampling (Hz)",
       "layout": "IPY_MODEL_d6ed2a818f9a4bca8d8fd492d5affde1",
       "max": 20,
       "min": 2,
       "step": 2,
       "style": "IPY_MODEL_9bc97e0f7a024293a6451a010c17654c",
       "value": 4
      }
     },
     "0258cc60f92d4ff388d5a3e091e2522a": {
      "model_module": "@jupyter-widgets/base",
      "model_module_version": "1.2.0",
      "model_name": "LayoutModel",
      "state": {}
     },
     "0264fd799929451f967d87d2e5b46972": {
      "model_module": "@jupyter-widgets/controls",
      "model_module_version": "1.5.0",
      "model_name": "IntSliderModel",
      "state": {
       "continuous_update": false,
       "description": "0-Padding",
       "layout": "IPY_MODEL_238f54818ed84a2bb50880b03c94d0d8",
       "max": 500,
       "style": "IPY_MODEL_0acc0d4f6b704a7cb0b3611c32356249",
       "value": 108
      }
     },
     "0271254a7a5e41238bb40a46d52b67af": {
      "model_module": "@jupyter-widgets/controls",
      "model_module_version": "1.5.0",
      "model_name": "IntSliderModel",
      "state": {
       "continuous_update": false,
       "description": "Sampling (Hz)",
       "layout": "IPY_MODEL_5dba7379f5f842409759c6f063d273a1",
       "max": 20,
       "min": 2,
       "step": 2,
       "style": "IPY_MODEL_f2374f97d28b4826985a825cf9004d1e",
       "value": 4
      }
     },
     "029ea9e26e214b7d88d27aa48af25a33": {
      "model_module": "@jupyter-widgets/base",
      "model_module_version": "1.2.0",
      "model_name": "LayoutModel",
      "state": {}
     },
     "02bd54680a8b447189244398f3ba6fea": {
      "model_module": "@jupyter-widgets/output",
      "model_module_version": "1.0.0",
      "model_name": "OutputModel",
      "state": {
       "layout": "IPY_MODEL_aea612e6b9c74ecfbf641f5f7004e350",
       "outputs": [
        {
         "data": {
          "application/vnd.jupyter.widget-view+json": {
           "model_id": "f5fa176d00bf4550bb9b3a140dff79c2",
           "version_major": 2,
           "version_minor": 0
          },
          "text/plain": "Canvas(toolbar=Toolbar(toolitems=[('Home', 'Reset original view', 'home', 'home'), ('Back', 'Back to previous …"
         },
         "metadata": {},
         "output_type": "display_data"
        }
       ]
      }
     },
     "02c16c79c0a8438ab9fa2e9ab9c10dbd": {
      "model_module": "@jupyter-widgets/controls",
      "model_module_version": "1.5.0",
      "model_name": "SliderStyleModel",
      "state": {
       "description_width": "initial"
      }
     },
     "02e19eae49864341ac74dce2d03a3505": {
      "model_module": "jupyter-matplotlib",
      "model_module_version": "^0.7.4",
      "model_name": "ToolbarModel",
      "state": {
       "layout": "IPY_MODEL_e2997811776f4c1fac143700e91bcb4b",
       "toolitems": [
        [
         "Home",
         "Reset original view",
         "home",
         "home"
        ],
        [
         "Back",
         "Back to previous view",
         "arrow-left",
         "back"
        ],
        [
         "Forward",
         "Forward to next view",
         "arrow-right",
         "forward"
        ],
        [
         "Pan",
         "Left button pans, Right button zooms\nx/y fixes axis, CTRL fixes aspect",
         "arrows",
         "pan"
        ],
        [
         "Zoom",
         "Zoom to rectangle\nx/y fixes axis, CTRL fixes aspect",
         "square-o",
         "zoom"
        ],
        [
         "Download",
         "Download plot",
         "floppy-o",
         "save_figure"
        ]
       ]
      }
     },
     "02f418f8503b4994a7bea7346b15a2fb": {
      "model_module": "@jupyter-widgets/controls",
      "model_module_version": "1.5.0",
      "model_name": "IntSliderModel",
      "state": {
       "continuous_update": false,
       "description": "Periods",
       "layout": "IPY_MODEL_a3bdd914c20746719c1af0d56cf99b89",
       "max": 50,
       "min": 1,
       "style": "IPY_MODEL_bf70fc12f5a447829c1fea6515b2aaef",
       "value": 2
      }
     },
     "0325e47dd80640d3b07657eb19e375ca": {
      "model_module": "@jupyter-widgets/controls",
      "model_module_version": "1.5.0",
      "model_name": "IntSliderModel",
      "state": {
       "description": "Periods",
       "layout": "IPY_MODEL_969963b60c4942c49017a1592d2fda38",
       "max": 50,
       "min": 1,
       "style": "IPY_MODEL_1d2388d49fd845dca31375fb098100f3",
       "value": 2
      }
     },
     "033ddcdf0f5a452aa2921ba04221238d": {
      "model_module": "@jupyter-widgets/controls",
      "model_module_version": "1.5.0",
      "model_name": "HBoxModel",
      "state": {
       "children": [
        "IPY_MODEL_d056bb6b6fdf4010a0b507a35c541533",
        "IPY_MODEL_8aaa3fc20eff4fed9d7a3b75f151ae5b"
       ],
       "layout": "IPY_MODEL_adf7c6bc0590431abf9b81a65bba05f3"
      }
     },
     "03586dc0d18c4760a36a0e2ec4796eeb": {
      "model_module": "@jupyter-widgets/controls",
      "model_module_version": "1.5.0",
      "model_name": "VBoxModel",
      "state": {
       "_dom_classes": [
        "widget-interact"
       ],
       "children": [
        "IPY_MODEL_02f418f8503b4994a7bea7346b15a2fb",
        "IPY_MODEL_b5c928b108434032a40560974cd4b228",
        "IPY_MODEL_3616e29265b7453ca29130876037e544",
        "IPY_MODEL_a358658709ae43fa9c708dca3d161337"
       ],
       "layout": "IPY_MODEL_bb8bff2315e44acc9c8e26e95ed65f9e"
      }
     },
     "03886457c6064754980239ddb3d02287": {
      "model_module": "jupyter-matplotlib",
      "model_module_version": "^0.7.4",
      "model_name": "ToolbarModel",
      "state": {
       "layout": "IPY_MODEL_5888ad9c69814421995f6e85f8630cff",
       "toolitems": [
        [
         "Home",
         "Reset original view",
         "home",
         "home"
        ],
        [
         "Back",
         "Back to previous view",
         "arrow-left",
         "back"
        ],
        [
         "Forward",
         "Forward to next view",
         "arrow-right",
         "forward"
        ],
        [
         "Pan",
         "Left button pans, Right button zooms\nx/y fixes axis, CTRL fixes aspect",
         "arrows",
         "pan"
        ],
        [
         "Zoom",
         "Zoom to rectangle\nx/y fixes axis, CTRL fixes aspect",
         "square-o",
         "zoom"
        ],
        [
         "Download",
         "Download plot",
         "floppy-o",
         "save_figure"
        ]
       ]
      }
     },
     "0393aef2fc324ba1bff67d4a2ce6cbb6": {
      "model_module": "@jupyter-widgets/output",
      "model_module_version": "1.0.0",
      "model_name": "OutputModel",
      "state": {
       "layout": "IPY_MODEL_340dbc2785f1414bba6538014a579231"
      }
     },
     "039cc2099fe043afbd76d791a5388764": {
      "model_module": "@jupyter-widgets/controls",
      "model_module_version": "1.5.0",
      "model_name": "IntSliderModel",
      "state": {
       "continuous_update": false,
       "description": "0-Padding",
       "layout": "IPY_MODEL_468f14a5b4254ce3bd8e2c78672384f8",
       "max": 4536,
       "step": 151,
       "style": "IPY_MODEL_a8d715a4df294767a032b9ed1a7b7e73",
       "value": 3473
      }
     },
     "0403012e9d21462999478f4ae670e520": {
      "model_module": "@jupyter-widgets/controls",
      "model_module_version": "1.5.0",
      "model_name": "SliderStyleModel",
      "state": {
       "description_width": "initial"
      }
     },
     "040f6f79d471491783c7245f2c9e171e": {
      "model_module": "@jupyter-widgets/base",
      "model_module_version": "1.2.0",
      "model_name": "LayoutModel",
      "state": {}
     },
     "0411147f8ac641819c1fd89bf7be4688": {
      "model_module": "@jupyter-widgets/base",
      "model_module_version": "1.2.0",
      "model_name": "LayoutModel",
      "state": {}
     },
     "04348bf325e14e96a4eaba7f2249b935": {
      "model_module": "@jupyter-widgets/controls",
      "model_module_version": "1.5.0",
      "model_name": "HBoxModel",
      "state": {
       "children": [
        "IPY_MODEL_b1cf9ef923ae40308b4a345a60ea02f1",
        "IPY_MODEL_69a4636621ec406b9169b2d99a2cdec5",
        "IPY_MODEL_a8536dddd31c4d1f8c9b8acfe0b88011"
       ],
       "layout": "IPY_MODEL_d2d502d3110b439e87acfad01ee3bbbd"
      }
     },
     "04354570b78843ac96ef808b7b359737": {
      "model_module": "@jupyter-widgets/controls",
      "model_module_version": "1.5.0",
      "model_name": "SliderStyleModel",
      "state": {
       "description_width": "initial"
      }
     },
     "04459924839547238bd072edbc584af2": {
      "model_module": "@jupyter-widgets/base",
      "model_module_version": "1.2.0",
      "model_name": "LayoutModel",
      "state": {}
     },
     "044a8d0f51d04d48acef6a5e515ff9ad": {
      "model_module": "@jupyter-widgets/base",
      "model_module_version": "1.2.0",
      "model_name": "LayoutModel",
      "state": {
       "flex_flow": "row wrap"
      }
     },
     "0474afdd62854168b168a24b6151408c": {
      "model_module": "@jupyter-widgets/controls",
      "model_module_version": "1.5.0",
      "model_name": "SliderStyleModel",
      "state": {
       "description_width": "initial"
      }
     },
     "0480c2d54f1e41e382e49ac852d42f55": {
      "model_module": "jupyter-matplotlib",
      "model_module_version": "^0.7.4",
      "model_name": "ToolbarModel",
      "state": {
       "layout": "IPY_MODEL_ec4798cecffb4153ae9ac46c95e5423b",
       "toolitems": [
        [
         "Home",
         "Reset original view",
         "home",
         "home"
        ],
        [
         "Back",
         "Back to previous view",
         "arrow-left",
         "back"
        ],
        [
         "Forward",
         "Forward to next view",
         "arrow-right",
         "forward"
        ],
        [
         "Pan",
         "Left button pans, Right button zooms\nx/y fixes axis, CTRL fixes aspect",
         "arrows",
         "pan"
        ],
        [
         "Zoom",
         "Zoom to rectangle\nx/y fixes axis, CTRL fixes aspect",
         "square-o",
         "zoom"
        ],
        [
         "Download",
         "Download plot",
         "floppy-o",
         "save_figure"
        ]
       ]
      }
     },
     "048d2dd4d871418b95365725dfcecf8c": {
      "model_module": "@jupyter-widgets/controls",
      "model_module_version": "1.5.0",
      "model_name": "IntSliderModel",
      "state": {
       "continuous_update": false,
       "description": "Periods",
       "layout": "IPY_MODEL_26176e0808e1461aa860b8e01f7675e8",
       "max": 50,
       "min": 1,
       "style": "IPY_MODEL_734885b10ab243d9b56f7c106fc7198e",
       "value": 20
      }
     },
     "04aa9898002644d1bbe82a68079cfc16": {
      "model_module": "@jupyter-widgets/controls",
      "model_module_version": "1.5.0",
      "model_name": "SliderStyleModel",
      "state": {
       "description_width": "initial"
      }
     },
     "04b285419b57464a8b567dbc11222654": {
      "model_module": "@jupyter-widgets/controls",
      "model_module_version": "1.5.0",
      "model_name": "IntSliderModel",
      "state": {
       "continuous_update": false,
       "description": "0-Padding",
       "layout": "IPY_MODEL_53f6e727ecfb4156914b233b851290df",
       "max": 500,
       "style": "IPY_MODEL_dba2e76ca56b42518335a0e39ca06619"
      }
     },
     "04ead8a308b446378bcd1822fb8723bf": {
      "model_module": "@jupyter-widgets/controls",
      "model_module_version": "1.5.0",
      "model_name": "HBoxModel",
      "state": {
       "children": [
        "IPY_MODEL_3a134546395040ea87096560d4bb20f3",
        "IPY_MODEL_638d895878f940aab1ed26c648dc127a"
       ],
       "layout": "IPY_MODEL_1c3e9c7b938841eea88fe5ab084457a0"
      }
     },
     "0509305ab7ea47709e27856382ee8ab6": {
      "model_module": "@jupyter-widgets/controls",
      "model_module_version": "1.5.0",
      "model_name": "IntSliderModel",
      "state": {
       "continuous_update": false,
       "description": "0-Padding",
       "layout": "IPY_MODEL_1ac6b64c10494b70a4a623ece09b6a4d",
       "max": 500,
       "style": "IPY_MODEL_e515890fcd5c47d0a3552c09e4de46dd"
      }
     },
     "052a058933b74755a61fa13968ad1380": {
      "model_module": "@jupyter-widgets/output",
      "model_module_version": "1.0.0",
      "model_name": "OutputModel",
      "state": {
       "layout": "IPY_MODEL_c09729c30ebc452fb456447bc7852500"
      }
     },
     "05348ff21580458286e14f1cf9c3aa32": {
      "model_module": "@jupyter-widgets/controls",
      "model_module_version": "1.5.0",
      "model_name": "VBoxModel",
      "state": {
       "_dom_classes": [
        "widget-interact"
       ],
       "children": [
        "IPY_MODEL_5d75272d8800487a92d4a52b9b48245a",
        "IPY_MODEL_3589ce212b474739a531829641c8bffe",
        "IPY_MODEL_48b3539ac43f43709f269f7c44f85544",
        "IPY_MODEL_ee9b62ff97074eae96fdd6004228330a"
       ],
       "layout": "IPY_MODEL_cd5489dbe9f64995be9d6147ecd11936"
      }
     },
     "05357a330815441b8ed30ef98ca9ad5e": {
      "model_module": "@jupyter-widgets/base",
      "model_module_version": "1.2.0",
      "model_name": "LayoutModel",
      "state": {}
     },
     "055d0c7aa9b4491bac0b9f94a719fcfc": {
      "model_module": "@jupyter-widgets/controls",
      "model_module_version": "1.5.0",
      "model_name": "SliderStyleModel",
      "state": {
       "description_width": "initial"
      }
     },
     "056a779cfb58412a8090d34678a3492e": {
      "model_module": "@jupyter-widgets/base",
      "model_module_version": "1.2.0",
      "model_name": "LayoutModel",
      "state": {}
     },
     "05c952f7123948f995cafe5fd687e53d": {
      "model_module": "@jupyter-widgets/base",
      "model_module_version": "1.2.0",
      "model_name": "LayoutModel",
      "state": {}
     },
     "0611321e060444dc9ecf537088c0b37d": {
      "model_module": "@jupyter-widgets/base",
      "model_module_version": "1.2.0",
      "model_name": "LayoutModel",
      "state": {}
     },
     "0611bc9765f24b93bd37209156a54ca5": {
      "model_module": "@jupyter-widgets/controls",
      "model_module_version": "1.5.0",
      "model_name": "IntSliderModel",
      "state": {
       "continuous_update": false,
       "description": "0-Padding",
       "layout": "IPY_MODEL_5b6236f4d98e4241aaaf26ac7a77223b",
       "max": 500,
       "style": "IPY_MODEL_9be3beb3ef344e9dad94ec7863934425",
       "value": 51
      }
     },
     "06580b650f8c45029764ff3e87a2d5c2": {
      "model_module": "@jupyter-widgets/controls",
      "model_module_version": "1.5.0",
      "model_name": "VBoxModel",
      "state": {
       "_dom_classes": [
        "widget-interact"
       ],
       "children": [
        "IPY_MODEL_8c887c296eee42ca9f5fe74daa3fdfc3",
        "IPY_MODEL_272dc035710a4ca08bb9c7360d961c74",
        "IPY_MODEL_af1b5e0565e14f138af75645d92bc031",
        "IPY_MODEL_638d895878f940aab1ed26c648dc127a"
       ],
       "layout": "IPY_MODEL_b5d47c3a8bb54bf9a392e2cc78decc35"
      }
     },
     "067a414e37c744f5a33139789f037add": {
      "model_module": "@jupyter-widgets/controls",
      "model_module_version": "1.5.0",
      "model_name": "IntSliderModel",
      "state": {
       "continuous_update": false,
       "description": "Periods",
       "layout": "IPY_MODEL_4982fad83a364d428069bdcbeee7c312",
       "max": 50,
       "min": 1,
       "style": "IPY_MODEL_7a369a07d83a493c82c0166a5c483f8c",
       "value": 15
      }
     },
     "06876b02ea85459b97b24a605540b7c8": {
      "model_module": "@jupyter-widgets/base",
      "model_module_version": "1.2.0",
      "model_name": "LayoutModel",
      "state": {}
     },
     "0692500368cc475e97f49262ffd58345": {
      "model_module": "@jupyter-widgets/controls",
      "model_module_version": "1.5.0",
      "model_name": "SliderStyleModel",
      "state": {
       "description_width": "initial"
      }
     },
     "06a069583c2a45c28e33f7e08842d8ca": {
      "model_module": "@jupyter-widgets/controls",
      "model_module_version": "1.5.0",
      "model_name": "SliderStyleModel",
      "state": {
       "description_width": "initial"
      }
     },
     "06a51758e793477a845f91a4a1bc284e": {
      "model_module": "@jupyter-widgets/controls",
      "model_module_version": "1.5.0",
      "model_name": "SliderStyleModel",
      "state": {
       "description_width": "initial"
      }
     },
     "06a5d55108d8438cbe00d244bc36426c": {
      "model_module": "@jupyter-widgets/base",
      "model_module_version": "1.2.0",
      "model_name": "LayoutModel",
      "state": {}
     },
     "06b754a69cd24aa19cfec870763fde1a": {
      "model_module": "@jupyter-widgets/base",
      "model_module_version": "1.2.0",
      "model_name": "LayoutModel",
      "state": {}
     },
     "06e683027a5444b4823e8d36c6fca806": {
      "model_module": "@jupyter-widgets/output",
      "model_module_version": "1.0.0",
      "model_name": "OutputModel",
      "state": {
       "layout": "IPY_MODEL_446a3c2807824af09097444e96979889"
      }
     },
     "06ee6ad21dfb415a924772a0bc9fba4c": {
      "model_module": "@jupyter-widgets/output",
      "model_module_version": "1.0.0",
      "model_name": "OutputModel",
      "state": {
       "layout": "IPY_MODEL_700e6ee219164463a4368e3aa6add2a2"
      }
     },
     "06f865c38116466e88ee8841732a9351": {
      "model_module": "@jupyter-widgets/base",
      "model_module_version": "1.2.0",
      "model_name": "LayoutModel",
      "state": {}
     },
     "070ed78c3ae94bf98a14a900ebd3fc2c": {
      "model_module": "@jupyter-widgets/controls",
      "model_module_version": "1.5.0",
      "model_name": "IntSliderModel",
      "state": {
       "continuous_update": false,
       "description": "0-Padding",
       "layout": "IPY_MODEL_a08a44dac77743fbaf99339d98756c82",
       "max": 500,
       "style": "IPY_MODEL_b1b70326397944b7be64ea0bce0a5f15"
      }
     },
     "074b574ef1a244d49967403d84b9690f": {
      "model_module": "@jupyter-widgets/controls",
      "model_module_version": "1.5.0",
      "model_name": "VBoxModel",
      "state": {
       "_dom_classes": [
        "widget-interact"
       ],
       "children": [
        "IPY_MODEL_558918a7785a453ea4bccee5fd2107e0",
        "IPY_MODEL_1a25b09e34e44bb3ba3ff8387626f585",
        "IPY_MODEL_4b7eabce2e21408ebd7c4655f51c437c",
        "IPY_MODEL_9b24ff754b114a97bcf75e81a26df605"
       ],
       "layout": "IPY_MODEL_6d83ddafc519476c809f858e37673bd9"
      }
     },
     "0758050ee84d4815b07fb0ef6bddaa12": {
      "model_module": "@jupyter-widgets/controls",
      "model_module_version": "1.5.0",
      "model_name": "VBoxModel",
      "state": {
       "children": [
        "IPY_MODEL_104c9ada33204f528639573a850a4c09",
        "IPY_MODEL_2e3807d67c724d8a951c97ee461c1ad6",
        "IPY_MODEL_e41a8d644db84dc696233e24fb14780b"
       ],
       "layout": "IPY_MODEL_fd300e2ea5274cf39e5017beb0eccbf2"
      }
     },
     "076026223de645e08a068ed9dc10bff2": {
      "model_module": "@jupyter-widgets/base",
      "model_module_version": "1.2.0",
      "model_name": "LayoutModel",
      "state": {}
     },
     "076195bebbc24308b9db406defa36b24": {
      "model_module": "@jupyter-widgets/controls",
      "model_module_version": "1.5.0",
      "model_name": "IntSliderModel",
      "state": {
       "continuous_update": false,
       "description": "0-Padding",
       "layout": "IPY_MODEL_9639879fe97e49e4bc7ee519f079ef2b",
       "max": 500,
       "style": "IPY_MODEL_90070b57be8c4cc4b69bf3717b3a59ca"
      }
     },
     "0763fb7c3f2c4545859a7008dc042bf3": {
      "model_module": "@jupyter-widgets/base",
      "model_module_version": "1.2.0",
      "model_name": "LayoutModel",
      "state": {}
     },
     "0766deedacee4347a94b0e0a5e971939": {
      "model_module": "@jupyter-widgets/output",
      "model_module_version": "1.0.0",
      "model_name": "OutputModel",
      "state": {
       "layout": "IPY_MODEL_c708fdb297424aee93908f9ce422e8eb"
      }
     },
     "076b00d6e74c4cf485a80993a96ae7f8": {
      "model_module": "@jupyter-widgets/controls",
      "model_module_version": "1.5.0",
      "model_name": "VBoxModel",
      "state": {
       "_dom_classes": [
        "widget-interact"
       ],
       "children": [
        "IPY_MODEL_663981a5da86493392a485dddf9b45ed",
        "IPY_MODEL_bfdcdd373caf4178974932657971adc0",
        "IPY_MODEL_ba3629101b034f8890ef22e708c0afbc",
        "IPY_MODEL_2475c7374d1b4dcc985df69a95e7eba7"
       ],
       "layout": "IPY_MODEL_b0e8efb0714e483d9080722c70f119f1"
      }
     },
     "077010a7f07246abb670a3f75b9d7693": {
      "model_module": "jupyter-matplotlib",
      "model_module_version": "^0.7.4",
      "model_name": "ToolbarModel",
      "state": {
       "layout": "IPY_MODEL_1f3a73303b524cbe8dae903e7e29da4e",
       "toolitems": [
        [
         "Home",
         "Reset original view",
         "home",
         "home"
        ],
        [
         "Back",
         "Back to previous view",
         "arrow-left",
         "back"
        ],
        [
         "Forward",
         "Forward to next view",
         "arrow-right",
         "forward"
        ],
        [
         "Pan",
         "Left button pans, Right button zooms\nx/y fixes axis, CTRL fixes aspect",
         "arrows",
         "pan"
        ],
        [
         "Zoom",
         "Zoom to rectangle\nx/y fixes axis, CTRL fixes aspect",
         "square-o",
         "zoom"
        ],
        [
         "Download",
         "Download plot",
         "floppy-o",
         "save_figure"
        ]
       ]
      }
     },
     "0777844f4688468ba0f6d9a314d163cc": {
      "model_module": "jupyter-matplotlib",
      "model_module_version": "^0.7.4",
      "model_name": "ToolbarModel",
      "state": {
       "layout": "IPY_MODEL_44d15128dea5436a94d716a252b2debb",
       "toolitems": [
        [
         "Home",
         "Reset original view",
         "home",
         "home"
        ],
        [
         "Back",
         "Back to previous view",
         "arrow-left",
         "back"
        ],
        [
         "Forward",
         "Forward to next view",
         "arrow-right",
         "forward"
        ],
        [
         "Pan",
         "Left button pans, Right button zooms\nx/y fixes axis, CTRL fixes aspect",
         "arrows",
         "pan"
        ],
        [
         "Zoom",
         "Zoom to rectangle\nx/y fixes axis, CTRL fixes aspect",
         "square-o",
         "zoom"
        ],
        [
         "Download",
         "Download plot",
         "floppy-o",
         "save_figure"
        ]
       ]
      }
     },
     "07cb252ae06d49559f28b336343e632a": {
      "model_module": "@jupyter-widgets/controls",
      "model_module_version": "1.5.0",
      "model_name": "IntSliderModel",
      "state": {
       "continuous_update": false,
       "description": "Periods",
       "layout": "IPY_MODEL_5b93bff5c7b1413e95f215b67589fabc",
       "max": 50,
       "min": 1,
       "style": "IPY_MODEL_81527624a3fc42a68f088e557b724332",
       "value": 2
      }
     },
     "07cf9897c93749e1812853346b5ef146": {
      "model_module": "@jupyter-widgets/controls",
      "model_module_version": "1.5.0",
      "model_name": "VBoxModel",
      "state": {
       "children": [
        "IPY_MODEL_da4b5c5c9444489398d57ec2589f04ef",
        "IPY_MODEL_86970977b2084a478acc271010cb16aa",
        "IPY_MODEL_ede2d4420b0041d7b00f4aebfacdd4d5"
       ],
       "layout": "IPY_MODEL_29de83db2d0f4222b685e43e30055a70"
      }
     },
     "080c8cba8f11486eb0ae13ef09ce1877": {
      "model_module": "@jupyter-widgets/output",
      "model_module_version": "1.0.0",
      "model_name": "OutputModel",
      "state": {
       "layout": "IPY_MODEL_3d9b68de8780474880ceae68d7a218a6",
       "outputs": [
        {
         "data": {
          "application/vnd.jupyter.widget-view+json": {
           "model_id": "aba1a92ed8f54a1ba3bdc3f74bb64e29",
           "version_major": 2,
           "version_minor": 0
          },
          "text/plain": "Canvas(toolbar=Toolbar(toolitems=[('Home', 'Reset original view', 'home', 'home'), ('Back', 'Back to previous …"
         },
         "metadata": {},
         "output_type": "display_data"
        }
       ]
      }
     },
     "0811dd9520da4486811c815eb2ed3cad": {
      "model_module": "@jupyter-widgets/controls",
      "model_module_version": "1.5.0",
      "model_name": "IntSliderModel",
      "state": {
       "continuous_update": false,
       "description": "0-Padding",
       "layout": "IPY_MODEL_d198be8d061945fe952f00ab09fa2947",
       "max": 500,
       "style": "IPY_MODEL_7b2509b2597e4fbbb3175f0daf10261d"
      }
     },
     "082a341f080444758dddc0a5a276325f": {
      "model_module": "@jupyter-widgets/output",
      "model_module_version": "1.0.0",
      "model_name": "OutputModel",
      "state": {
       "layout": "IPY_MODEL_7eeab54de3f640d8815fabbfcde7f4bb"
      }
     },
     "083b8c441e894693bab8f9f3d19f763c": {
      "model_module": "@jupyter-widgets/base",
      "model_module_version": "1.2.0",
      "model_name": "LayoutModel",
      "state": {}
     },
     "0851dd925f014ea0aabb3eb86e6608ef": {
      "model_module": "@jupyter-widgets/base",
      "model_module_version": "1.2.0",
      "model_name": "LayoutModel",
      "state": {}
     },
     "0855d1ea4aec46bc85e44b5bc251828e": {
      "model_module": "@jupyter-widgets/base",
      "model_module_version": "1.2.0",
      "model_name": "LayoutModel",
      "state": {}
     },
     "08739678e87b497894fea5fe630efb4a": {
      "model_module": "@jupyter-widgets/output",
      "model_module_version": "1.0.0",
      "model_name": "OutputModel",
      "state": {
       "layout": "IPY_MODEL_0eff567ba7864afe9304b3ece4940614"
      }
     },
     "087745a124934c8bad4e40e653792ed2": {
      "model_module": "@jupyter-widgets/controls",
      "model_module_version": "1.5.0",
      "model_name": "SliderStyleModel",
      "state": {
       "description_width": "initial"
      }
     },
     "087e73618ded42388cdd66ec4ed6d218": {
      "model_module": "@jupyter-widgets/base",
      "model_module_version": "1.2.0",
      "model_name": "LayoutModel",
      "state": {}
     },
     "08848aa6dd8f424d86664c5e3c2ed66c": {
      "model_module": "@jupyter-widgets/controls",
      "model_module_version": "1.5.0",
      "model_name": "VBoxModel",
      "state": {
       "_dom_classes": [
        "widget-interact"
       ],
       "children": [
        "IPY_MODEL_f744cf5e50be4f2ab7328d99cc7a242a",
        "IPY_MODEL_52e4c05533724b00b287b20f2a2f5be7",
        "IPY_MODEL_cab5c6a8bfc44e48967544edcc13622a",
        "IPY_MODEL_8087ae08a56b41df846425620d50348e"
       ],
       "layout": "IPY_MODEL_a5aba68bf81946959f53bd5f3635331c"
      }
     },
     "0884b6fa169148ea8e9595dbfd22eabe": {
      "model_module": "@jupyter-widgets/base",
      "model_module_version": "1.2.0",
      "model_name": "LayoutModel",
      "state": {}
     },
     "08cfa550fb1a43ada3efe8c2f07612cc": {
      "model_module": "@jupyter-widgets/controls",
      "model_module_version": "1.5.0",
      "model_name": "SliderStyleModel",
      "state": {
       "description_width": "initial"
      }
     },
     "08d4ced18c2446b69f0b69d455c930af": {
      "model_module": "jupyter-matplotlib",
      "model_module_version": "^0.7.4",
      "model_name": "ToolbarModel",
      "state": {
       "layout": "IPY_MODEL_548b1eb9ebfe4a2abfc9062147cb3d36",
       "toolitems": [
        [
         "Home",
         "Reset original view",
         "home",
         "home"
        ],
        [
         "Back",
         "Back to previous view",
         "arrow-left",
         "back"
        ],
        [
         "Forward",
         "Forward to next view",
         "arrow-right",
         "forward"
        ],
        [
         "Pan",
         "Left button pans, Right button zooms\nx/y fixes axis, CTRL fixes aspect",
         "arrows",
         "pan"
        ],
        [
         "Zoom",
         "Zoom to rectangle\nx/y fixes axis, CTRL fixes aspect",
         "square-o",
         "zoom"
        ],
        [
         "Download",
         "Download plot",
         "floppy-o",
         "save_figure"
        ]
       ]
      }
     },
     "08d4d0e1452749a9b88389027725578a": {
      "model_module": "@jupyter-widgets/base",
      "model_module_version": "1.2.0",
      "model_name": "LayoutModel",
      "state": {}
     },
     "08daf4ac1ff54f0da8c202621da37d97": {
      "model_module": "@jupyter-widgets/base",
      "model_module_version": "1.2.0",
      "model_name": "LayoutModel",
      "state": {}
     },
     "08e9b7633f9e4909a0cfa3e105932290": {
      "model_module": "@jupyter-widgets/base",
      "model_module_version": "1.2.0",
      "model_name": "LayoutModel",
      "state": {}
     },
     "08f38850863e4c35a02de5319b3a84df": {
      "model_module": "@jupyter-widgets/controls",
      "model_module_version": "1.5.0",
      "model_name": "SliderStyleModel",
      "state": {
       "description_width": "initial"
      }
     },
     "091444ff1f8a4e60ac5294d4e1cd7517": {
      "model_module": "@jupyter-widgets/controls",
      "model_module_version": "1.5.0",
      "model_name": "VBoxModel",
      "state": {
       "children": [
        "IPY_MODEL_c0e5dfbb78354f30a519f6d238930452",
        "IPY_MODEL_48c6f0c174b64722894b45ee96ef0a5e"
       ],
       "layout": "IPY_MODEL_d700c3e3fb0546c7a2f96960ad4cbc40"
      }
     },
     "091e3e52b4424284ab854e9ac2edef2e": {
      "model_module": "@jupyter-widgets/output",
      "model_module_version": "1.0.0",
      "model_name": "OutputModel",
      "state": {
       "layout": "IPY_MODEL_57d3d4d1c9a443319cbe14dfc9224c12"
      }
     },
     "0920eaa1deb744a792015cc1a51d261e": {
      "model_module": "@jupyter-widgets/base",
      "model_module_version": "1.2.0",
      "model_name": "LayoutModel",
      "state": {}
     },
     "096ed22e08104929ac05f4794922d242": {
      "model_module": "@jupyter-widgets/output",
      "model_module_version": "1.0.0",
      "model_name": "OutputModel",
      "state": {
       "layout": "IPY_MODEL_a9833501b333432fa7bbf4b3cbaccec0"
      }
     },
     "09a98643c27545fcafb21c5ed5d38d4f": {
      "model_module": "@jupyter-widgets/controls",
      "model_module_version": "1.5.0",
      "model_name": "SliderStyleModel",
      "state": {
       "description_width": "initial"
      }
     },
     "09b2a1f76c9048faac6c8adf23ec4698": {
      "model_module": "@jupyter-widgets/base",
      "model_module_version": "1.2.0",
      "model_name": "LayoutModel",
      "state": {}
     },
     "09c4ae3981484d2a8ec88ca5dfd16bc2": {
      "model_module": "@jupyter-widgets/controls",
      "model_module_version": "1.5.0",
      "model_name": "VBoxModel",
      "state": {
       "_dom_classes": [
        "widget-interact"
       ],
       "children": [
        "IPY_MODEL_9216cfc424134ee98b84f781fd907561",
        "IPY_MODEL_d19366c725634a0abc98221cc268d557",
        "IPY_MODEL_54ae24da972d43c6a1d179a0609b69d3",
        "IPY_MODEL_77261c2303f7498381c1fb980d56aa6a"
       ],
       "layout": "IPY_MODEL_c9c9c2c5cd3c432e8a4473543ca3a833"
      }
     },
     "09cb556257d0452b8b019799af27de02": {
      "model_module": "@jupyter-widgets/base",
      "model_module_version": "1.2.0",
      "model_name": "LayoutModel",
      "state": {}
     },
     "09e14a66353b4a8e8f05336b8ce7c177": {
      "model_module": "@jupyter-widgets/controls",
      "model_module_version": "1.5.0",
      "model_name": "IntSliderModel",
      "state": {
       "continuous_update": false,
       "description": "0-Padding",
       "layout": "IPY_MODEL_2b156acb8ed2426b8f6d371673ec6dec",
       "max": 500,
       "style": "IPY_MODEL_2cd36de1e9194654bfe001fa60bd3604"
      }
     },
     "09e4c5cbe5d04a1c9706a56447a9d654": {
      "model_module": "@jupyter-widgets/base",
      "model_module_version": "1.2.0",
      "model_name": "LayoutModel",
      "state": {}
     },
     "09e53f11ee7342b0874a2942cfc0d4d8": {
      "model_module": "@jupyter-widgets/base",
      "model_module_version": "1.2.0",
      "model_name": "LayoutModel",
      "state": {}
     },
     "0a11a92accc041408bf5215b035327fd": {
      "model_module": "@jupyter-widgets/controls",
      "model_module_version": "1.5.0",
      "model_name": "VBoxModel",
      "state": {
       "children": [
        "IPY_MODEL_ee5b53db16da453d8d5004940c5e74e9",
        "IPY_MODEL_9adf5a082d7f40beb0781dfd4225774a",
        "IPY_MODEL_315a0bc32c6d4b4d95396bfe042f596b"
       ],
       "layout": "IPY_MODEL_d689749f44734b439772c0b0781b5dd9"
      }
     },
     "0a31a090cc3a415e92a52c85bb930687": {
      "model_module": "@jupyter-widgets/controls",
      "model_module_version": "1.5.0",
      "model_name": "SliderStyleModel",
      "state": {
       "description_width": "initial"
      }
     },
     "0a5d96347d6f43a59cafbf7c30bc167f": {
      "model_module": "@jupyter-widgets/controls",
      "model_module_version": "1.5.0",
      "model_name": "IntSliderModel",
      "state": {
       "continuous_update": false,
       "description": "Periods",
       "layout": "IPY_MODEL_55a89c717a1240af90f27fb2edb406e2",
       "max": 50,
       "min": 1,
       "style": "IPY_MODEL_0b570e78bde04d71ac201e0133cb8d99",
       "value": 2
      }
     },
     "0a5f2c1d5a294dcbaed51c81981a9d5b": {
      "model_module": "@jupyter-widgets/base",
      "model_module_version": "1.2.0",
      "model_name": "LayoutModel",
      "state": {}
     },
     "0a8ef10fb39f4fccb335d0a293c81c17": {
      "model_module": "@jupyter-widgets/base",
      "model_module_version": "1.2.0",
      "model_name": "LayoutModel",
      "state": {}
     },
     "0a94da8aee364efcba9a3db284008388": {
      "model_module": "@jupyter-widgets/base",
      "model_module_version": "1.2.0",
      "model_name": "LayoutModel",
      "state": {}
     },
     "0ac8584528d746abbe8db3a63f86000b": {
      "model_module": "@jupyter-widgets/base",
      "model_module_version": "1.2.0",
      "model_name": "LayoutModel",
      "state": {}
     },
     "0acc0d4f6b704a7cb0b3611c32356249": {
      "model_module": "@jupyter-widgets/controls",
      "model_module_version": "1.5.0",
      "model_name": "SliderStyleModel",
      "state": {
       "description_width": "initial"
      }
     },
     "0ad5d6ed1d594963aa2c621550d1dbea": {
      "model_module": "@jupyter-widgets/base",
      "model_module_version": "1.2.0",
      "model_name": "LayoutModel",
      "state": {}
     },
     "0aff0968681446519c695d9cdefd3e01": {
      "model_module": "@jupyter-widgets/controls",
      "model_module_version": "1.5.0",
      "model_name": "IntSliderModel",
      "state": {
       "continuous_update": false,
       "description": "Sampling (Hz)",
       "layout": "IPY_MODEL_cffd6da3d55d44a3939bd52c9c85c6c1",
       "max": 12,
       "min": 2,
       "step": 2,
       "style": "IPY_MODEL_b8a14f392dc64a12b2a90f86ae822471",
       "value": 4
      }
     },
     "0b3bdcac961f490596abec9e4f7516e8": {
      "model_module": "@jupyter-widgets/controls",
      "model_module_version": "1.5.0",
      "model_name": "SliderStyleModel",
      "state": {
       "description_width": "initial"
      }
     },
     "0b570e78bde04d71ac201e0133cb8d99": {
      "model_module": "@jupyter-widgets/controls",
      "model_module_version": "1.5.0",
      "model_name": "SliderStyleModel",
      "state": {
       "description_width": "initial"
      }
     },
     "0b74ac6a420c4a6aa20aca6fcbdc88c6": {
      "model_module": "@jupyter-widgets/controls",
      "model_module_version": "1.5.0",
      "model_name": "SliderStyleModel",
      "state": {
       "description_width": "initial"
      }
     },
     "0ba4ef0fbc704c29ab085429376a428b": {
      "model_module": "@jupyter-widgets/base",
      "model_module_version": "1.2.0",
      "model_name": "LayoutModel",
      "state": {}
     },
     "0bf082dfbb1e4d33bd7c69e1324f1459": {
      "model_module": "@jupyter-widgets/controls",
      "model_module_version": "1.5.0",
      "model_name": "VBoxModel",
      "state": {
       "children": [
        "IPY_MODEL_ba421b3569174760b86835f88cd489d7",
        "IPY_MODEL_4ee87764329d4bb0ad70c35fd8c148be",
        "IPY_MODEL_0e5689531d5249d0b282082520d462d7"
       ],
       "layout": "IPY_MODEL_cb6a94b7b2784e5f915846a3a0cae875"
      }
     },
     "0bfd27b80fb44a46bcae05230067c2d0": {
      "model_module": "@jupyter-widgets/controls",
      "model_module_version": "1.5.0",
      "model_name": "IntSliderModel",
      "state": {
       "continuous_update": false,
       "description": "Sampling (Hz)",
       "layout": "IPY_MODEL_79de160c9cfb44188b2447bc45939a7d",
       "max": 20,
       "min": 2,
       "step": 2,
       "style": "IPY_MODEL_f0e63f1172b0449b8ed31af600cc05a7",
       "value": 4
      }
     },
     "0bfdddb06c734ac7b62afc9b6515c2f0": {
      "model_module": "@jupyter-widgets/controls",
      "model_module_version": "1.5.0",
      "model_name": "HBoxModel",
      "state": {
       "children": [
        "IPY_MODEL_4040e2b2fec949628acc81bed623f6f7",
        "IPY_MODEL_22980c442b284218bd19d2d77a74bc90"
       ],
       "layout": "IPY_MODEL_7fc9085fd2c04d8c8e3f5c27a8ec0c53"
      }
     },
     "0c077d380c924c798ea6ed86c261bd24": {
      "model_module": "@jupyter-widgets/controls",
      "model_module_version": "1.5.0",
      "model_name": "SliderStyleModel",
      "state": {
       "description_width": "initial"
      }
     },
     "0c09de0ddf664992a871b39a79a32ecb": {
      "model_module": "@jupyter-widgets/base",
      "model_module_version": "1.2.0",
      "model_name": "LayoutModel",
      "state": {}
     },
     "0c0b05604e924989966d801da2d6f6bd": {
      "model_module": "jupyter-matplotlib",
      "model_module_version": "^0.7.4",
      "model_name": "ToolbarModel",
      "state": {
       "layout": "IPY_MODEL_80c72c8d5fee462d9da6147bf21ed741",
       "toolitems": [
        [
         "Home",
         "Reset original view",
         "home",
         "home"
        ],
        [
         "Back",
         "Back to previous view",
         "arrow-left",
         "back"
        ],
        [
         "Forward",
         "Forward to next view",
         "arrow-right",
         "forward"
        ],
        [
         "Pan",
         "Left button pans, Right button zooms\nx/y fixes axis, CTRL fixes aspect",
         "arrows",
         "pan"
        ],
        [
         "Zoom",
         "Zoom to rectangle\nx/y fixes axis, CTRL fixes aspect",
         "square-o",
         "zoom"
        ],
        [
         "Download",
         "Download plot",
         "floppy-o",
         "save_figure"
        ]
       ]
      }
     },
     "0c197555892c4fec8aaca59a6e221a68": {
      "model_module": "@jupyter-widgets/base",
      "model_module_version": "1.2.0",
      "model_name": "LayoutModel",
      "state": {}
     },
     "0c236cddf2f0469c8aea9d34c3e33dfe": {
      "model_module": "@jupyter-widgets/controls",
      "model_module_version": "1.5.0",
      "model_name": "IntSliderModel",
      "state": {
       "continuous_update": false,
       "description": "0-Padding",
       "layout": "IPY_MODEL_eedb249f2a114c33b0f9bdf0f89b1abe",
       "max": 500,
       "style": "IPY_MODEL_6278a854d8594ad79f371039c1dede7e"
      }
     },
     "0c3e1ee79f8549f595c51478d9fb2e49": {
      "model_module": "@jupyter-widgets/controls",
      "model_module_version": "1.5.0",
      "model_name": "HBoxModel",
      "state": {
       "children": [
        "IPY_MODEL_04348bf325e14e96a4eaba7f2249b935",
        "IPY_MODEL_488e8ae1719e4da78f32ea8aa2dc2a75"
       ],
       "layout": "IPY_MODEL_c3b78fbe72b54bdc957e34b72274dc73"
      }
     },
     "0c488afc96ca4a16aca1fc0b58540126": {
      "model_module": "@jupyter-widgets/base",
      "model_module_version": "1.2.0",
      "model_name": "LayoutModel",
      "state": {}
     },
     "0c49178cde004f92ac21fd57c01c39bc": {
      "model_module": "@jupyter-widgets/base",
      "model_module_version": "1.2.0",
      "model_name": "LayoutModel",
      "state": {}
     },
     "0c6a63d83b6a4511829a4109c33ab30a": {
      "model_module": "@jupyter-widgets/controls",
      "model_module_version": "1.5.0",
      "model_name": "SliderStyleModel",
      "state": {
       "description_width": "initial"
      }
     },
     "0c6d98e4fdf64203b4da06e808dd2fd5": {
      "model_module": "@jupyter-widgets/controls",
      "model_module_version": "1.5.0",
      "model_name": "SliderStyleModel",
      "state": {
       "description_width": "initial"
      }
     },
     "0c7709a45f7a4924b9764fb9219f1597": {
      "model_module": "@jupyter-widgets/controls",
      "model_module_version": "1.5.0",
      "model_name": "HBoxModel",
      "state": {
       "children": [
        "IPY_MODEL_6d3f02b5ce7f4a37b038870bc88fbb3d",
        "IPY_MODEL_369591f0edc8421aa91632deefa03eac",
        "IPY_MODEL_21390cefcfb8483ea503cec95ecc9d10"
       ],
       "layout": "IPY_MODEL_88621f1972f549daace7a65541ea33cb"
      }
     },
     "0ca1698afcf14705919539d67451dcda": {
      "model_module": "@jupyter-widgets/controls",
      "model_module_version": "1.5.0",
      "model_name": "IntSliderModel",
      "state": {
       "continuous_update": false,
       "description": "0-Padding",
       "layout": "IPY_MODEL_b790d8bf4c79417db75403c625805ab5",
       "max": 500,
       "style": "IPY_MODEL_12ef7d7ed5a243ee9da30b8f2e03fb0c"
      }
     },
     "0ca84ecd174e4cf3bee228f9d669403b": {
      "model_module": "@jupyter-widgets/base",
      "model_module_version": "1.2.0",
      "model_name": "LayoutModel",
      "state": {}
     },
     "0cc1fd5c687444c888eac895c719293c": {
      "model_module": "@jupyter-widgets/controls",
      "model_module_version": "1.5.0",
      "model_name": "VBoxModel",
      "state": {
       "_dom_classes": [
        "widget-interact"
       ],
       "children": [
        "IPY_MODEL_cecaba9394234ddcb222dd09af80608c",
        "IPY_MODEL_768240ca46944efdb6db4ac163f172c5",
        "IPY_MODEL_74035b1c90c34f4a8c5d6d1c75a576d4",
        "IPY_MODEL_f079a899ff764a588cf6d28fe3a63bc0"
       ],
       "layout": "IPY_MODEL_b5c98c6f54da44c093c10af7f0394847"
      }
     },
     "0cf16ff97902409dbe1814c63eb00075": {
      "model_module": "@jupyter-widgets/controls",
      "model_module_version": "1.5.0",
      "model_name": "SliderStyleModel",
      "state": {
       "description_width": "initial"
      }
     },
     "0d2d47039f5d4263af16a40530d5ce9c": {
      "model_module": "@jupyter-widgets/base",
      "model_module_version": "1.2.0",
      "model_name": "LayoutModel",
      "state": {}
     },
     "0d39ded4335c4cf0b863d53917099dc1": {
      "model_module": "@jupyter-widgets/base",
      "model_module_version": "1.2.0",
      "model_name": "LayoutModel",
      "state": {}
     },
     "0d746c8f1ca449d0950bd2a1cee64bf3": {
      "model_module": "@jupyter-widgets/controls",
      "model_module_version": "1.5.0",
      "model_name": "IntSliderModel",
      "state": {
       "description": "Sampling (Hz)",
       "layout": "IPY_MODEL_d3a21764134447d181d4c15b95b27f4f",
       "max": 12,
       "min": 2,
       "step": 2,
       "style": "IPY_MODEL_66b8673803fb4d7fa468787195948581",
       "value": 4
      }
     },
     "0d87901877ae499abdd956546d2c5924": {
      "model_module": "@jupyter-widgets/base",
      "model_module_version": "1.2.0",
      "model_name": "LayoutModel",
      "state": {}
     },
     "0db222780f7a44118fcfe2320ea9c95c": {
      "model_module": "@jupyter-widgets/base",
      "model_module_version": "1.2.0",
      "model_name": "LayoutModel",
      "state": {}
     },
     "0dcf3cd8f3954eef814a9497d31be5b0": {
      "model_module": "@jupyter-widgets/controls",
      "model_module_version": "1.5.0",
      "model_name": "VBoxModel",
      "state": {
       "_dom_classes": [
        "widget-interact"
       ],
       "children": [
        "IPY_MODEL_e06f94d9ec0f4a0cbb224ebd3e6dfcf0",
        "IPY_MODEL_2d3a791d5951469b9b88bc5e6332ae5e",
        "IPY_MODEL_e952c570850640309e0e7d7baa279ab1",
        "IPY_MODEL_64b4d3485b5d460382986f442fe0974c"
       ],
       "layout": "IPY_MODEL_c76372be4674468cab451ff142d1d82e"
      }
     },
     "0dd289c7add74f0daa9b88e11469bd7f": {
      "model_module": "@jupyter-widgets/controls",
      "model_module_version": "1.5.0",
      "model_name": "IntSliderModel",
      "state": {
       "continuous_update": false,
       "description": "Periods",
       "layout": "IPY_MODEL_6a2d62a9bf22464b86788d79bdddf385",
       "max": 50,
       "min": 1,
       "style": "IPY_MODEL_205263da4f294e6b96778e34d56b75b4",
       "value": 2
      }
     },
     "0de069297f614ea4bc48d0c5794197fa": {
      "model_module": "@jupyter-widgets/output",
      "model_module_version": "1.0.0",
      "model_name": "OutputModel",
      "state": {
       "layout": "IPY_MODEL_41d865d1168e4c7e9e267c708e58ccf3"
      }
     },
     "0e2bc5828e1b4e51a1c707814b104b56": {
      "model_module": "@jupyter-widgets/controls",
      "model_module_version": "1.5.0",
      "model_name": "SliderStyleModel",
      "state": {
       "description_width": "initial"
      }
     },
     "0e2de83729a34e3aba0b712406a376ee": {
      "model_module": "@jupyter-widgets/controls",
      "model_module_version": "1.5.0",
      "model_name": "IntSliderModel",
      "state": {
       "continuous_update": false,
       "description": "Periods",
       "layout": "IPY_MODEL_32d665a6f1da4d67ba1e863933ff2e2f",
       "max": 50,
       "min": 1,
       "style": "IPY_MODEL_8acf203ecc5d466e82fe48776d70898d",
       "value": 2
      }
     },
     "0e4af99cfb8f42dda2897d977ff191d0": {
      "model_module": "@jupyter-widgets/controls",
      "model_module_version": "1.5.0",
      "model_name": "SliderStyleModel",
      "state": {
       "description_width": "initial"
      }
     },
     "0e5689531d5249d0b282082520d462d7": {
      "model_module": "@jupyter-widgets/controls",
      "model_module_version": "1.5.0",
      "model_name": "IntSliderModel",
      "state": {
       "continuous_update": false,
       "description": "0-Padding",
       "layout": "IPY_MODEL_8350105964d04e4983dc745185b09f9e",
       "max": 6000,
       "step": 200,
       "style": "IPY_MODEL_4df3c90ce17b420aa666e991b6444e11",
       "value": 6000
      }
     },
     "0e8a52a841004622b44ef38089f62026": {
      "model_module": "@jupyter-widgets/controls",
      "model_module_version": "1.5.0",
      "model_name": "IntSliderModel",
      "state": {
       "continuous_update": false,
       "description": "Periods",
       "layout": "IPY_MODEL_e215025046b34f1da94248fd05761fee",
       "max": 50,
       "min": 1,
       "style": "IPY_MODEL_bce4a1d617124a9fa71b73a2a7dc1a0e",
       "value": 2
      }
     },
     "0ebe73eb983c48e0a091edd04cbaf011": {
      "model_module": "@jupyter-widgets/base",
      "model_module_version": "1.2.0",
      "model_name": "LayoutModel",
      "state": {}
     },
     "0ec5b6e387014580b131c7f7b6147e9f": {
      "model_module": "@jupyter-widgets/base",
      "model_module_version": "1.2.0",
      "model_name": "LayoutModel",
      "state": {}
     },
     "0edad3594ecf49ab87cec7a1854f09f9": {
      "model_module": "@jupyter-widgets/base",
      "model_module_version": "1.2.0",
      "model_name": "LayoutModel",
      "state": {}
     },
     "0ee8d5a074c24be999abdf711e85c520": {
      "model_module": "@jupyter-widgets/controls",
      "model_module_version": "1.5.0",
      "model_name": "VBoxModel",
      "state": {
       "children": [
        "IPY_MODEL_74e98234c182422abf0ba68758b6ced1",
        "IPY_MODEL_106ada5269df47a8bb9deb5667a64566",
        "IPY_MODEL_712edfa25abb455999fa6954f4da0454"
       ],
       "layout": "IPY_MODEL_36031b40b3144155af3f13ddfae37c5a"
      }
     },
     "0ef9d52b4172468f9df0e2cdf1f6ff5b": {
      "model_module": "@jupyter-widgets/base",
      "model_module_version": "1.2.0",
      "model_name": "LayoutModel",
      "state": {}
     },
     "0eff567ba7864afe9304b3ece4940614": {
      "model_module": "@jupyter-widgets/base",
      "model_module_version": "1.2.0",
      "model_name": "LayoutModel",
      "state": {}
     },
     "0f00a05b32d64438a902eed5b284159e": {
      "model_module": "@jupyter-widgets/controls",
      "model_module_version": "1.5.0",
      "model_name": "IntSliderModel",
      "state": {
       "continuous_update": false,
       "description": "Sampling (Hz)",
       "layout": "IPY_MODEL_646c04251904447e865bbbc0d85ff4ec",
       "max": 20,
       "min": 2,
       "step": 2,
       "style": "IPY_MODEL_38133791f4be4bd6ba56082615b82831",
       "value": 4
      }
     },
     "0f3f5022882e42c5a0bb67241120737d": {
      "model_module": "@jupyter-widgets/base",
      "model_module_version": "1.2.0",
      "model_name": "LayoutModel",
      "state": {}
     },
     "0fa28e7796714efe9a4780a980f52267": {
      "model_module": "@jupyter-widgets/base",
      "model_module_version": "1.2.0",
      "model_name": "LayoutModel",
      "state": {}
     },
     "0fe43be0b280415081c5e7ace780fbcc": {
      "model_module": "@jupyter-widgets/base",
      "model_module_version": "1.2.0",
      "model_name": "LayoutModel",
      "state": {}
     },
     "0fe5a9b4ef2d4e0a822303692d4716f2": {
      "model_module": "@jupyter-widgets/base",
      "model_module_version": "1.2.0",
      "model_name": "LayoutModel",
      "state": {}
     },
     "1000f2b1a3ca415e94248b80472f3539": {
      "model_module": "@jupyter-widgets/base",
      "model_module_version": "1.2.0",
      "model_name": "LayoutModel",
      "state": {}
     },
     "10267755fa334631bb085ec9d94cc8ed": {
      "model_module": "@jupyter-widgets/controls",
      "model_module_version": "1.5.0",
      "model_name": "SliderStyleModel",
      "state": {
       "description_width": "initial"
      }
     },
     "103a65dccc874cbead6e6ed10d18610a": {
      "model_module": "@jupyter-widgets/controls",
      "model_module_version": "1.5.0",
      "model_name": "IntSliderModel",
      "state": {
       "description": "0-Padding",
       "layout": "IPY_MODEL_1f348a21f8934d80bb727b3e11ea4116",
       "max": 10,
       "style": "IPY_MODEL_7046402d00cb45e0bbc5739071cf2c09"
      }
     },
     "104c9ada33204f528639573a850a4c09": {
      "model_module": "@jupyter-widgets/controls",
      "model_module_version": "1.5.0",
      "model_name": "IntSliderModel",
      "state": {
       "continuous_update": false,
       "description": "Periods",
       "layout": "IPY_MODEL_2e5cab94a4f6468698f8921ee5673e25",
       "max": 50,
       "min": 1,
       "style": "IPY_MODEL_f055697b667c44a0ae7ed6a047d73a2d",
       "value": 2
      }
     },
     "105ac69a1ca441f8b36986163d9ab99c": {
      "model_module": "@jupyter-widgets/output",
      "model_module_version": "1.0.0",
      "model_name": "OutputModel",
      "state": {
       "layout": "IPY_MODEL_09cb556257d0452b8b019799af27de02"
      }
     },
     "106ada5269df47a8bb9deb5667a64566": {
      "model_module": "@jupyter-widgets/controls",
      "model_module_version": "1.5.0",
      "model_name": "IntSliderModel",
      "state": {
       "continuous_update": false,
       "description": "Sampling (Hz)",
       "layout": "IPY_MODEL_641f5a439e3c4210aceb4c8ffa337da4",
       "max": 20,
       "min": 2,
       "step": 2,
       "style": "IPY_MODEL_47dbce0ecd014fc69e73dc4eeeff7b78",
       "value": 4
      }
     },
     "106d26598afd463fba65c15376872e38": {
      "model_module": "@jupyter-widgets/controls",
      "model_module_version": "1.5.0",
      "model_name": "SliderStyleModel",
      "state": {
       "description_width": "initial"
      }
     },
     "1072afaa767349d7bb9bf351c4adb128": {
      "model_module": "@jupyter-widgets/controls",
      "model_module_version": "1.5.0",
      "model_name": "SliderStyleModel",
      "state": {
       "description_width": "initial"
      }
     },
     "107369d9523c41998010d9d25971af62": {
      "model_module": "@jupyter-widgets/controls",
      "model_module_version": "1.5.0",
      "model_name": "IntSliderModel",
      "state": {
       "continuous_update": false,
       "description": "Periods",
       "layout": "IPY_MODEL_f9ce9129094241b49c5e4de921b5457a",
       "max": 50,
       "min": 1,
       "style": "IPY_MODEL_b9d7b35f8b7a49f4a3512ed1289e4ffd",
       "value": 30
      }
     },
     "10a5d720c1bd4dee80e014b951d97648": {
      "model_module": "@jupyter-widgets/base",
      "model_module_version": "1.2.0",
      "model_name": "LayoutModel",
      "state": {}
     },
     "10b1cd8d810f44f88fcf1a08fa3b64b3": {
      "model_module": "@jupyter-widgets/base",
      "model_module_version": "1.2.0",
      "model_name": "LayoutModel",
      "state": {}
     },
     "10d23e61603e49538c58096dc6b1fe38": {
      "model_module": "@jupyter-widgets/base",
      "model_module_version": "1.2.0",
      "model_name": "LayoutModel",
      "state": {}
     },
     "10e78e7d3da442b8bf40028a566c60f3": {
      "model_module": "@jupyter-widgets/base",
      "model_module_version": "1.2.0",
      "model_name": "LayoutModel",
      "state": {}
     },
     "10ed90a00aa841c8afef4525b8d06dd0": {
      "model_module": "jupyter-matplotlib",
      "model_module_version": "^0.7.4",
      "model_name": "ToolbarModel",
      "state": {
       "layout": "IPY_MODEL_30b4e0b7a8ba41e2953bb42003b8f1ba",
       "toolitems": [
        [
         "Home",
         "Reset original view",
         "home",
         "home"
        ],
        [
         "Back",
         "Back to previous view",
         "arrow-left",
         "back"
        ],
        [
         "Forward",
         "Forward to next view",
         "arrow-right",
         "forward"
        ],
        [
         "Pan",
         "Left button pans, Right button zooms\nx/y fixes axis, CTRL fixes aspect",
         "arrows",
         "pan"
        ],
        [
         "Zoom",
         "Zoom to rectangle\nx/y fixes axis, CTRL fixes aspect",
         "square-o",
         "zoom"
        ],
        [
         "Download",
         "Download plot",
         "floppy-o",
         "save_figure"
        ]
       ]
      }
     },
     "11073bb5a07f4b128c3bd58539e6fac4": {
      "model_module": "@jupyter-widgets/base",
      "model_module_version": "1.2.0",
      "model_name": "LayoutModel",
      "state": {}
     },
     "1142d912675c4e2a8779d37bbda13e33": {
      "model_module": "@jupyter-widgets/controls",
      "model_module_version": "1.5.0",
      "model_name": "VBoxModel",
      "state": {
       "_dom_classes": [
        "widget-interact"
       ],
       "children": [
        "IPY_MODEL_ad8db9eac7fb430db58ee359ade628c0",
        "IPY_MODEL_4eae58f2eba34e48b57fbf9c88ad0c5f",
        "IPY_MODEL_16e43d19eac04ef3be4d22e35da24196",
        "IPY_MODEL_a015b798b7e54397b76b9805244a7e04"
       ],
       "layout": "IPY_MODEL_10d23e61603e49538c58096dc6b1fe38"
      }
     },
     "118725db49c4442f8976315384fde5db": {
      "model_module": "@jupyter-widgets/controls",
      "model_module_version": "1.5.0",
      "model_name": "SliderStyleModel",
      "state": {
       "description_width": "initial"
      }
     },
     "11f1fcb682344abaa89dac017c8c24de": {
      "model_module": "@jupyter-widgets/base",
      "model_module_version": "1.2.0",
      "model_name": "LayoutModel",
      "state": {}
     },
     "11fff34b7f03426984e13bfda8f4930c": {
      "model_module": "@jupyter-widgets/output",
      "model_module_version": "1.0.0",
      "model_name": "OutputModel",
      "state": {
       "layout": "IPY_MODEL_087e73618ded42388cdd66ec4ed6d218",
       "outputs": [
        {
         "data": {
          "application/vnd.jupyter.widget-view+json": {
           "model_id": "d80ce08c14ad4fa5a07f8da54a258d74",
           "version_major": 2,
           "version_minor": 0
          },
          "text/plain": "Canvas(toolbar=Toolbar(toolitems=[('Home', 'Reset original view', 'home', 'home'), ('Back', 'Back to previous …"
         },
         "metadata": {},
         "output_type": "display_data"
        }
       ]
      }
     },
     "120f24269501446e9a3ff80adf67fe3c": {
      "model_module": "@jupyter-widgets/base",
      "model_module_version": "1.2.0",
      "model_name": "LayoutModel",
      "state": {}
     },
     "1217758563b9491c88b6dace81941c95": {
      "model_module": "@jupyter-widgets/base",
      "model_module_version": "1.2.0",
      "model_name": "LayoutModel",
      "state": {
       "flex_flow": "column wrap"
      }
     },
     "1269df6fe9e94c3a8822c6ca3a4df4b8": {
      "model_module": "@jupyter-widgets/controls",
      "model_module_version": "1.5.0",
      "model_name": "SliderStyleModel",
      "state": {
       "description_width": "initial"
      }
     },
     "127cbc6665244ba3b529a6cac9a4b0e1": {
      "model_module": "@jupyter-widgets/base",
      "model_module_version": "1.2.0",
      "model_name": "LayoutModel",
      "state": {}
     },
     "12827e072dbe4d079f4a59b5d536e4ca": {
      "model_module": "@jupyter-widgets/controls",
      "model_module_version": "1.5.0",
      "model_name": "SliderStyleModel",
      "state": {
       "description_width": "initial"
      }
     },
     "12bbedd342cb460e8291e11ef287ef30": {
      "model_module": "@jupyter-widgets/controls",
      "model_module_version": "1.5.0",
      "model_name": "SliderStyleModel",
      "state": {
       "description_width": "initial"
      }
     },
     "12c682e9d74c42a6945f18a9e08f9c13": {
      "model_module": "@jupyter-widgets/controls",
      "model_module_version": "1.5.0",
      "model_name": "IntSliderModel",
      "state": {
       "continuous_update": false,
       "description": "Periods",
       "layout": "IPY_MODEL_8ddb41074d67477bb73eaeb3322dfb88",
       "max": 50,
       "min": 1,
       "style": "IPY_MODEL_4b532a8ee3b14f97b11f76481226e673",
       "value": 2
      }
     },
     "12ef7d7ed5a243ee9da30b8f2e03fb0c": {
      "model_module": "@jupyter-widgets/controls",
      "model_module_version": "1.5.0",
      "model_name": "SliderStyleModel",
      "state": {
       "description_width": "initial"
      }
     },
     "133b3412ba304f618d40e57d413efcb7": {
      "model_module": "@jupyter-widgets/controls",
      "model_module_version": "1.5.0",
      "model_name": "IntSliderModel",
      "state": {
       "description": "0-Padding",
       "layout": "IPY_MODEL_420c07e6637f456db14d8e9617cf9ec9",
       "max": 840,
       "step": 28,
       "style": "IPY_MODEL_dc621b09e33f402794137e901463f82f"
      }
     },
     "138c7051047040a0ae90369d105507b2": {
      "model_module": "@jupyter-widgets/base",
      "model_module_version": "1.2.0",
      "model_name": "LayoutModel",
      "state": {}
     },
     "13aedf1661bd4303ad5c7cb348475521": {
      "model_module": "@jupyter-widgets/output",
      "model_module_version": "1.0.0",
      "model_name": "OutputModel",
      "state": {
       "layout": "IPY_MODEL_6ba72afe0d874216bbfda0159271f7cc",
       "outputs": [
        {
         "data": {
          "application/vnd.jupyter.widget-view+json": {
           "model_id": "a05e553fab944f76a26df990bf1d81be",
           "version_major": 2,
           "version_minor": 0
          },
          "text/plain": "Canvas(toolbar=Toolbar(toolitems=[('Home', 'Reset original view', 'home', 'home'), ('Back', 'Back to previous …"
         },
         "metadata": {},
         "output_type": "display_data"
        }
       ]
      }
     },
     "13c0512a7b9c4d67936780bc87b0fd3f": {
      "model_module": "@jupyter-widgets/controls",
      "model_module_version": "1.5.0",
      "model_name": "SliderStyleModel",
      "state": {
       "description_width": "initial"
      }
     },
     "13c4920143124ee19ae9be717483a49e": {
      "model_module": "@jupyter-widgets/base",
      "model_module_version": "1.2.0",
      "model_name": "LayoutModel",
      "state": {}
     },
     "13cd3750576249739b1ab9a590cead6f": {
      "model_module": "@jupyter-widgets/base",
      "model_module_version": "1.2.0",
      "model_name": "LayoutModel",
      "state": {}
     },
     "13cd694d95e247c98b9fe72c37cb3b50": {
      "model_module": "jupyter-matplotlib",
      "model_module_version": "^0.7.4",
      "model_name": "ToolbarModel",
      "state": {
       "layout": "IPY_MODEL_2a8ee51ae639496bbc811f3717186125",
       "toolitems": [
        [
         "Home",
         "Reset original view",
         "home",
         "home"
        ],
        [
         "Back",
         "Back to previous view",
         "arrow-left",
         "back"
        ],
        [
         "Forward",
         "Forward to next view",
         "arrow-right",
         "forward"
        ],
        [
         "Pan",
         "Left button pans, Right button zooms\nx/y fixes axis, CTRL fixes aspect",
         "arrows",
         "pan"
        ],
        [
         "Zoom",
         "Zoom to rectangle\nx/y fixes axis, CTRL fixes aspect",
         "square-o",
         "zoom"
        ],
        [
         "Download",
         "Download plot",
         "floppy-o",
         "save_figure"
        ]
       ]
      }
     },
     "13e0b1a515564694ab5e87c3d85ebd97": {
      "model_module": "@jupyter-widgets/controls",
      "model_module_version": "1.5.0",
      "model_name": "SliderStyleModel",
      "state": {
       "description_width": "initial"
      }
     },
     "13f63e7e4cbb44ff8ac838231be13de5": {
      "model_module": "@jupyter-widgets/controls",
      "model_module_version": "1.5.0",
      "model_name": "IntSliderModel",
      "state": {
       "description": "0-Padding",
       "layout": "IPY_MODEL_da0d35a74b19410ca3d1c571e4191bd6",
       "max": 720,
       "step": 24,
       "style": "IPY_MODEL_3780826768ea4bf19c35837b3c7c806a"
      }
     },
     "140da92974d94e7a8be3c60588467c6e": {
      "model_module": "@jupyter-widgets/base",
      "model_module_version": "1.2.0",
      "model_name": "LayoutModel",
      "state": {}
     },
     "1422ba4e9b454a88bc270658ed551bed": {
      "model_module": "@jupyter-widgets/controls",
      "model_module_version": "1.5.0",
      "model_name": "SliderStyleModel",
      "state": {
       "description_width": "initial"
      }
     },
     "14370765f0f440a08b372c752229bafc": {
      "model_module": "@jupyter-widgets/base",
      "model_module_version": "1.2.0",
      "model_name": "LayoutModel",
      "state": {}
     },
     "143f7b729d4a469a80fcadabe7a5dfe5": {
      "model_module": "@jupyter-widgets/controls",
      "model_module_version": "1.5.0",
      "model_name": "SliderStyleModel",
      "state": {
       "description_width": "initial"
      }
     },
     "14591a874b6e4f97be6c35c3eabffbc7": {
      "model_module": "@jupyter-widgets/base",
      "model_module_version": "1.2.0",
      "model_name": "LayoutModel",
      "state": {}
     },
     "1498c72bd33544d4b7ba9d656aac9dbe": {
      "model_module": "@jupyter-widgets/controls",
      "model_module_version": "1.5.0",
      "model_name": "SliderStyleModel",
      "state": {
       "description_width": "initial"
      }
     },
     "14a176a6c3324086973f8593b80393db": {
      "model_module": "@jupyter-widgets/base",
      "model_module_version": "1.2.0",
      "model_name": "LayoutModel",
      "state": {}
     },
     "14a9bdc9cc0945b5bb0a29179ee36414": {
      "model_module": "@jupyter-widgets/controls",
      "model_module_version": "1.5.0",
      "model_name": "IntSliderModel",
      "state": {
       "continuous_update": false,
       "description": "Sampling (Hz)",
       "layout": "IPY_MODEL_a12b5b25b28749a5b8efb1d52c9a5118",
       "max": 12,
       "min": 2,
       "step": 2,
       "style": "IPY_MODEL_b2abeddec5314a94894fd33d6a7df3e6",
       "value": 4
      }
     },
     "14b6bc21478e48f892f0c74f1c52a1ad": {
      "model_module": "@jupyter-widgets/base",
      "model_module_version": "1.2.0",
      "model_name": "LayoutModel",
      "state": {}
     },
     "14d90a58fb7d443cb8807cdf2c94080d": {
      "model_module": "@jupyter-widgets/controls",
      "model_module_version": "1.5.0",
      "model_name": "IntSliderModel",
      "state": {
       "continuous_update": false,
       "description": "0-Padding",
       "layout": "IPY_MODEL_d44c2e8c8b7e472abfc58af9195af992",
       "max": 500,
       "style": "IPY_MODEL_a286364f6aad44738106344342293ff0",
       "value": 34
      }
     },
     "14dedd7aebd34b3bb8caef8cba0c3380": {
      "model_module": "@jupyter-widgets/controls",
      "model_module_version": "1.5.0",
      "model_name": "VBoxModel",
      "state": {
       "_dom_classes": [
        "widget-interact"
       ],
       "children": [
        "IPY_MODEL_dd233e2fe9e34fabb1317f13cb0c82e3",
        "IPY_MODEL_4c69cfb6599a4b9bac727a3c6f2936c7",
        "IPY_MODEL_d09a34bdcb444938b999ea92acee1a33",
        "IPY_MODEL_89361d5a707e412c90e97ec9736ce9e6"
       ],
       "layout": "IPY_MODEL_2d0ca4d74e8a458888624f751f813786"
      }
     },
     "14dfdacd48cc40cd846afcf9a9899bb3": {
      "model_module": "jupyter-matplotlib",
      "model_module_version": "^0.7.4",
      "model_name": "ToolbarModel",
      "state": {
       "layout": "IPY_MODEL_625b2a0ab24b40fe9d00d973294fb50a",
       "toolitems": [
        [
         "Home",
         "Reset original view",
         "home",
         "home"
        ],
        [
         "Back",
         "Back to previous view",
         "arrow-left",
         "back"
        ],
        [
         "Forward",
         "Forward to next view",
         "arrow-right",
         "forward"
        ],
        [
         "Pan",
         "Left button pans, Right button zooms\nx/y fixes axis, CTRL fixes aspect",
         "arrows",
         "pan"
        ],
        [
         "Zoom",
         "Zoom to rectangle\nx/y fixes axis, CTRL fixes aspect",
         "square-o",
         "zoom"
        ],
        [
         "Download",
         "Download plot",
         "floppy-o",
         "save_figure"
        ]
       ]
      }
     },
     "150eaabb4d244c15b94ddc7f48b079eb": {
      "model_module": "@jupyter-widgets/base",
      "model_module_version": "1.2.0",
      "model_name": "LayoutModel",
      "state": {}
     },
     "1531b831cda842778588a5d148fa7227": {
      "model_module": "@jupyter-widgets/controls",
      "model_module_version": "1.5.0",
      "model_name": "VBoxModel",
      "state": {
       "_dom_classes": [
        "widget-interact"
       ],
       "children": [
        "IPY_MODEL_e5b30c7c735e4c3ebd345ade2ad72e4d",
        "IPY_MODEL_0d746c8f1ca449d0950bd2a1cee64bf3",
        "IPY_MODEL_96716f6479904282b8e3aca9cf43bd0f",
        "IPY_MODEL_698d9b3a9660475d9f811637ab616e60"
       ],
       "layout": "IPY_MODEL_9c667dfede5c4f6390f3dac447409049"
      }
     },
     "15413e85df87473f8486110f37d90596": {
      "model_module": "@jupyter-widgets/base",
      "model_module_version": "1.2.0",
      "model_name": "LayoutModel",
      "state": {}
     },
     "155192939cfb4917aa5431a87e0b6fb1": {
      "model_module": "jupyter-matplotlib",
      "model_module_version": "^0.7.4",
      "model_name": "ToolbarModel",
      "state": {
       "layout": "IPY_MODEL_7e89bb5ef01a40f88e88831738f56bf2",
       "toolitems": [
        [
         "Home",
         "Reset original view",
         "home",
         "home"
        ],
        [
         "Back",
         "Back to previous view",
         "arrow-left",
         "back"
        ],
        [
         "Forward",
         "Forward to next view",
         "arrow-right",
         "forward"
        ],
        [
         "Pan",
         "Left button pans, Right button zooms\nx/y fixes axis, CTRL fixes aspect",
         "arrows",
         "pan"
        ],
        [
         "Zoom",
         "Zoom to rectangle\nx/y fixes axis, CTRL fixes aspect",
         "square-o",
         "zoom"
        ],
        [
         "Download",
         "Download plot",
         "floppy-o",
         "save_figure"
        ]
       ]
      }
     },
     "157a4c5822fe4aa591cdbddfd4f7007b": {
      "model_module": "@jupyter-widgets/base",
      "model_module_version": "1.2.0",
      "model_name": "LayoutModel",
      "state": {}
     },
     "15be57ad4ada4f148bb672f8bcfccc99": {
      "model_module": "@jupyter-widgets/base",
      "model_module_version": "1.2.0",
      "model_name": "LayoutModel",
      "state": {}
     },
     "15cf586548914a1fb1d8ef5d1238b1c9": {
      "model_module": "@jupyter-widgets/base",
      "model_module_version": "1.2.0",
      "model_name": "LayoutModel",
      "state": {}
     },
     "15dcf9963dad4f78ad7101e9e92f23a5": {
      "model_module": "@jupyter-widgets/controls",
      "model_module_version": "1.5.0",
      "model_name": "HBoxModel",
      "state": {
       "children": [
        "IPY_MODEL_648c4e0e57d24f2398836d0c77be28af",
        "IPY_MODEL_9b2377910f484af795f84cfbdc300d4e"
       ],
       "layout": "IPY_MODEL_c3c57a323182444288413a10c5c4c717"
      }
     },
     "15eeddf8ac4448599e9e19c0b1d7d051": {
      "model_module": "@jupyter-widgets/base",
      "model_module_version": "1.2.0",
      "model_name": "LayoutModel",
      "state": {}
     },
     "15f4b679f6c745c7b668bc3fb96f1e66": {
      "model_module": "jupyter-matplotlib",
      "model_module_version": "^0.7.4",
      "model_name": "ToolbarModel",
      "state": {
       "layout": "IPY_MODEL_3220ce071f904c3fb7760857f768416a",
       "toolitems": [
        [
         "Home",
         "Reset original view",
         "home",
         "home"
        ],
        [
         "Back",
         "Back to previous view",
         "arrow-left",
         "back"
        ],
        [
         "Forward",
         "Forward to next view",
         "arrow-right",
         "forward"
        ],
        [
         "Pan",
         "Left button pans, Right button zooms\nx/y fixes axis, CTRL fixes aspect",
         "arrows",
         "pan"
        ],
        [
         "Zoom",
         "Zoom to rectangle\nx/y fixes axis, CTRL fixes aspect",
         "square-o",
         "zoom"
        ],
        [
         "Download",
         "Download plot",
         "floppy-o",
         "save_figure"
        ]
       ]
      }
     },
     "16071bd79bc547e4a585b21cfa11f0d0": {
      "model_module": "@jupyter-widgets/base",
      "model_module_version": "1.2.0",
      "model_name": "LayoutModel",
      "state": {}
     },
     "161eeaaaa856497fafc56af0f67aeae5": {
      "model_module": "@jupyter-widgets/base",
      "model_module_version": "1.2.0",
      "model_name": "LayoutModel",
      "state": {}
     },
     "16428e714fed4f9eb0186887da802255": {
      "model_module": "@jupyter-widgets/base",
      "model_module_version": "1.2.0",
      "model_name": "LayoutModel",
      "state": {}
     },
     "166e7ce30a2e43fc8cdf766e50b1caa2": {
      "model_module": "@jupyter-widgets/base",
      "model_module_version": "1.2.0",
      "model_name": "LayoutModel",
      "state": {}
     },
     "16835c6644f24b8fa0f7037e0c8b4440": {
      "model_module": "@jupyter-widgets/base",
      "model_module_version": "1.2.0",
      "model_name": "LayoutModel",
      "state": {}
     },
     "168d27857c264c36a8cdc08cfdcfc982": {
      "model_module": "@jupyter-widgets/controls",
      "model_module_version": "1.5.0",
      "model_name": "IntSliderModel",
      "state": {
       "description": "Sampling (Hz)",
       "layout": "IPY_MODEL_f4cb6c2c7d174ad7aa0eea20d1f1a117",
       "max": 12,
       "min": 2,
       "step": 2,
       "style": "IPY_MODEL_fb14e9c93a47488d9b78ccef0882e062",
       "value": 4
      }
     },
     "16a466f204f34aa1a102a4c0fadfe5b5": {
      "model_module": "@jupyter-widgets/controls",
      "model_module_version": "1.5.0",
      "model_name": "VBoxModel",
      "state": {
       "_dom_classes": [
        "widget-interact"
       ],
       "children": [
        "IPY_MODEL_8729a000ce2c47f1b35a48c1920c4a23",
        "IPY_MODEL_560acf3180af43fda9b16299cefc9367",
        "IPY_MODEL_66ebd9a8ae9646c7acfed2ecbd55f7fc",
        "IPY_MODEL_e851bc1fff364610b8745d2c34debcd8"
       ],
       "layout": "IPY_MODEL_3c52dc7851a84d11a13ccc7221547946"
      }
     },
     "16a699d7e8b7444dae44c914ac9cbeda": {
      "model_module": "@jupyter-widgets/base",
      "model_module_version": "1.2.0",
      "model_name": "LayoutModel",
      "state": {}
     },
     "16a6a5f57b654537acac5e72e95253b6": {
      "model_module": "jupyter-matplotlib",
      "model_module_version": "^0.7.4",
      "model_name": "ToolbarModel",
      "state": {
       "layout": "IPY_MODEL_b8dc34f335854218987d86ec06004d59",
       "toolitems": [
        [
         "Home",
         "Reset original view",
         "home",
         "home"
        ],
        [
         "Back",
         "Back to previous view",
         "arrow-left",
         "back"
        ],
        [
         "Forward",
         "Forward to next view",
         "arrow-right",
         "forward"
        ],
        [
         "Pan",
         "Left button pans, Right button zooms\nx/y fixes axis, CTRL fixes aspect",
         "arrows",
         "pan"
        ],
        [
         "Zoom",
         "Zoom to rectangle\nx/y fixes axis, CTRL fixes aspect",
         "square-o",
         "zoom"
        ],
        [
         "Download",
         "Download plot",
         "floppy-o",
         "save_figure"
        ]
       ]
      }
     },
     "16ae1675652840b8936cb295f9f487e0": {
      "model_module": "@jupyter-widgets/base",
      "model_module_version": "1.2.0",
      "model_name": "LayoutModel",
      "state": {}
     },
     "16d3039c2d544df29b567ddaef909477": {
      "model_module": "@jupyter-widgets/controls",
      "model_module_version": "1.5.0",
      "model_name": "IntSliderModel",
      "state": {
       "continuous_update": false,
       "description": "0-Padding",
       "layout": "IPY_MODEL_ab26db4cf9234c88a142f6598716042e",
       "max": 1080,
       "step": 36,
       "style": "IPY_MODEL_13c0512a7b9c4d67936780bc87b0fd3f"
      }
     },
     "16d6b5f7d9a340e5a86664b71bde1892": {
      "model_module": "@jupyter-widgets/base",
      "model_module_version": "1.2.0",
      "model_name": "LayoutModel",
      "state": {}
     },
     "16db6e45c6644840b9f775cf98f6d04e": {
      "model_module": "@jupyter-widgets/controls",
      "model_module_version": "1.5.0",
      "model_name": "SliderStyleModel",
      "state": {
       "description_width": "initial"
      }
     },
     "16e43d19eac04ef3be4d22e35da24196": {
      "model_module": "@jupyter-widgets/controls",
      "model_module_version": "1.5.0",
      "model_name": "IntSliderModel",
      "state": {
       "continuous_update": false,
       "description": "0-Padding",
       "layout": "IPY_MODEL_7c797bcfe916443c8034bf8b7dd4726f",
       "max": 500,
       "style": "IPY_MODEL_2dd970a8a128475b8597de4e9300976c"
      }
     },
     "16e6ce7f6a7e4c1e9142a7efa2345690": {
      "model_module": "@jupyter-widgets/output",
      "model_module_version": "1.0.0",
      "model_name": "OutputModel",
      "state": {
       "layout": "IPY_MODEL_61588c8a9ad9479ba7a7c0817e13c0cd"
      }
     },
     "16e6e9dcfea349bb805d1dde2a3a258f": {
      "model_module": "@jupyter-widgets/controls",
      "model_module_version": "1.5.0",
      "model_name": "IntSliderModel",
      "state": {
       "continuous_update": false,
       "description": "Periods",
       "layout": "IPY_MODEL_a374f086289f497f91956c98e4423d57",
       "max": 50,
       "min": 1,
       "style": "IPY_MODEL_76dc855ff60848e185f18d64a9e2f52d",
       "value": 2
      }
     },
     "16fa5212f1564644a6cd868ea09e6bf9": {
      "model_module": "@jupyter-widgets/controls",
      "model_module_version": "1.5.0",
      "model_name": "VBoxModel",
      "state": {
       "_dom_classes": [
        "widget-interact"
       ],
       "children": [
        "IPY_MODEL_6f245ca36ee14140bf6ff89f8bbc1b53",
        "IPY_MODEL_a7429aef9c7340c587903922fb331cb0",
        "IPY_MODEL_0264fd799929451f967d87d2e5b46972",
        "IPY_MODEL_21ae02ee4e5b408783f8a57935e23e15"
       ],
       "layout": "IPY_MODEL_83e24d9fbecf4262981d5ca2ec4d5eb7"
      }
     },
     "17123dd80a964dabb8d6b9f80f57bb2a": {
      "model_module": "@jupyter-widgets/controls",
      "model_module_version": "1.5.0",
      "model_name": "IntSliderModel",
      "state": {
       "continuous_update": false,
       "description": "Periods",
       "layout": "IPY_MODEL_71675d9ef5ca475685b7dbc881870b35",
       "max": 50,
       "min": 1,
       "style": "IPY_MODEL_99c6096580e249129d29a5305f9148e0",
       "value": 2
      }
     },
     "172e9ba81ff44059b2e40fa88a6f4d63": {
      "model_module": "@jupyter-widgets/controls",
      "model_module_version": "1.5.0",
      "model_name": "IntSliderModel",
      "state": {
       "description": "Sampling (Hz)",
       "layout": "IPY_MODEL_870c4f86d9b44ea2bc2f91aec7f1d50e",
       "max": 12,
       "min": 2,
       "step": 2,
       "style": "IPY_MODEL_83988b0191ba40448cb79e4db2ba8d4b",
       "value": 6
      }
     },
     "1733a37507e344009aae3bf757a56f6b": {
      "model_module": "@jupyter-widgets/controls",
      "model_module_version": "1.5.0",
      "model_name": "SliderStyleModel",
      "state": {
       "description_width": "initial"
      }
     },
     "174a5a60a0a64b3cbafcfa3218c0045d": {
      "model_module": "@jupyter-widgets/controls",
      "model_module_version": "1.5.0",
      "model_name": "IntSliderModel",
      "state": {
       "continuous_update": false,
       "description": "Sampling (Hz)",
       "layout": "IPY_MODEL_850a7ae5aef1487883135d9129c1031d",
       "max": 12,
       "min": 2,
       "step": 2,
       "style": "IPY_MODEL_aeb52feb12b2450d8ecb690b7357dc7d",
       "value": 10
      }
     },
     "174da6356e134ecdb115de022afeee84": {
      "model_module": "@jupyter-widgets/controls",
      "model_module_version": "1.5.0",
      "model_name": "HBoxModel",
      "state": {
       "children": [
        "IPY_MODEL_aa7db81e3aed46758d180c0e6ad2d81f",
        "IPY_MODEL_6703a33218334e50b2790253a2d897aa",
        "IPY_MODEL_9f2ab2c962544b2fb54c51ecf419dbe9"
       ],
       "layout": "IPY_MODEL_b1fb31430e4f4b8384f596a1a70d55c6"
      }
     },
     "176b9c3600db4117be7613dced5b4048": {
      "model_module": "@jupyter-widgets/base",
      "model_module_version": "1.2.0",
      "model_name": "LayoutModel",
      "state": {}
     },
     "176e873b63df4c65b18a4a523e79ce6d": {
      "model_module": "@jupyter-widgets/output",
      "model_module_version": "1.0.0",
      "model_name": "OutputModel",
      "state": {
       "layout": "IPY_MODEL_ef941b452f3a46cda17788d2482864e8"
      }
     },
     "177de2c9d05549d5b66312b2a5e1c623": {
      "model_module": "@jupyter-widgets/base",
      "model_module_version": "1.2.0",
      "model_name": "LayoutModel",
      "state": {}
     },
     "177eaaaac6624940b316eb09c3ca6582": {
      "model_module": "@jupyter-widgets/controls",
      "model_module_version": "1.5.0",
      "model_name": "IntSliderModel",
      "state": {
       "continuous_update": false,
       "description": "Sampling (Hz)",
       "layout": "IPY_MODEL_e67e2a285b704c24ab775443373c3f13",
       "max": 20,
       "min": 2,
       "step": 2,
       "style": "IPY_MODEL_f4b8f248c97744a3916170f2b7081aa5",
       "value": 4
      }
     },
     "17905c62a8ff42fd8d5ce02a7ac903ab": {
      "model_module": "@jupyter-widgets/base",
      "model_module_version": "1.2.0",
      "model_name": "LayoutModel",
      "state": {}
     },
     "179fdb2285124075b7f6170fb7f56993": {
      "model_module": "@jupyter-widgets/base",
      "model_module_version": "1.2.0",
      "model_name": "LayoutModel",
      "state": {}
     },
     "17e01d75c6ac4689b182c8ab348e4a4d": {
      "model_module": "@jupyter-widgets/controls",
      "model_module_version": "1.5.0",
      "model_name": "IntSliderModel",
      "state": {
       "continuous_update": false,
       "description": "Periods",
       "layout": "IPY_MODEL_81eaa8607ef5437c94165bf8e87cb316",
       "max": 50,
       "min": 1,
       "style": "IPY_MODEL_89ba31a22a814de9b9140d6b566c86c6",
       "value": 2
      }
     },
     "17e3eaa5d0c0408da781a07a7991afd8": {
      "model_module": "@jupyter-widgets/controls",
      "model_module_version": "1.5.0",
      "model_name": "VBoxModel",
      "state": {
       "children": [
        "IPY_MODEL_28e198da191f41ca8d26ea482669d7a9",
        "IPY_MODEL_8c0d94c485324970816a4f6f975c92e1",
        "IPY_MODEL_0509305ab7ea47709e27856382ee8ab6"
       ],
       "layout": "IPY_MODEL_64090f6a8497411988923dcad9ce8660"
      }
     },
     "17eb1bd2d81c46e99594ab1c382095ce": {
      "model_module": "@jupyter-widgets/controls",
      "model_module_version": "1.5.0",
      "model_name": "VBoxModel",
      "state": {
       "_dom_classes": [
        "widget-interact"
       ],
       "children": [
        "IPY_MODEL_ab95cfeeb5f947d0bd22899fa1430485",
        "IPY_MODEL_6c210fb1fe7e4b5d9e3aa68f26700d31",
        "IPY_MODEL_275ee780c22e4e94a61f5d6ce6471e3d",
        "IPY_MODEL_105ac69a1ca441f8b36986163d9ab99c"
       ],
       "layout": "IPY_MODEL_89ef982ce4994e8481f3fad883066e57"
      }
     },
     "180960250d094ccca3da7e9e690849da": {
      "model_module": "@jupyter-widgets/controls",
      "model_module_version": "1.5.0",
      "model_name": "HBoxModel",
      "state": {
       "children": [
        "IPY_MODEL_851c2be0ed6045428d2c2e48b62ee62d",
        "IPY_MODEL_92ff2707f9ed4ebb8d28331f380e28f6",
        "IPY_MODEL_2ba0f32fecdd4114b1c6eae9ac986ca2"
       ],
       "layout": "IPY_MODEL_4c4d2f7597e44ea1956b14c0d421e915"
      }
     },
     "181afa255720422a91a9c41f6d459962": {
      "model_module": "@jupyter-widgets/controls",
      "model_module_version": "1.5.0",
      "model_name": "SliderStyleModel",
      "state": {
       "description_width": "initial"
      }
     },
     "184572751f1b48fa9d5366b9a678aff1": {
      "model_module": "@jupyter-widgets/base",
      "model_module_version": "1.2.0",
      "model_name": "LayoutModel",
      "state": {
       "flex_flow": "row wrap"
      }
     },
     "184eac9470b646718ed2331044ddbbfc": {
      "model_module": "@jupyter-widgets/controls",
      "model_module_version": "1.5.0",
      "model_name": "SliderStyleModel",
      "state": {
       "description_width": "initial"
      }
     },
     "186047f24b2d4091a548ac07dc8d98fb": {
      "model_module": "@jupyter-widgets/base",
      "model_module_version": "1.2.0",
      "model_name": "LayoutModel",
      "state": {}
     },
     "18811ae36b9e43aab1213e54cc981afb": {
      "model_module": "@jupyter-widgets/base",
      "model_module_version": "1.2.0",
      "model_name": "LayoutModel",
      "state": {}
     },
     "18bb877368c547d4b8985a019d87a944": {
      "model_module": "@jupyter-widgets/output",
      "model_module_version": "1.0.0",
      "model_name": "OutputModel",
      "state": {
       "layout": "IPY_MODEL_b7c2d8bd6730426eb343c1b2d3fdff82",
       "outputs": [
        {
         "data": {
          "application/vnd.jupyter.widget-view+json": {
           "model_id": "93a92e9d13544281a9c56dd680529a62",
           "version_major": 2,
           "version_minor": 0
          },
          "text/plain": "Canvas(toolbar=Toolbar(toolitems=[('Home', 'Reset original view', 'home', 'home'), ('Back', 'Back to previous …"
         },
         "metadata": {},
         "output_type": "display_data"
        }
       ]
      }
     },
     "18c4f132b08147cd8fc8f3706fbf2822": {
      "model_module": "@jupyter-widgets/controls",
      "model_module_version": "1.5.0",
      "model_name": "SliderStyleModel",
      "state": {
       "description_width": "initial"
      }
     },
     "18c6a89ba4b642b7bae3c21f168b9d44": {
      "model_module": "@jupyter-widgets/base",
      "model_module_version": "1.2.0",
      "model_name": "LayoutModel",
      "state": {}
     },
     "18ccfe7ce1b44cc782180a0fbd5503e9": {
      "model_module": "@jupyter-widgets/base",
      "model_module_version": "1.2.0",
      "model_name": "LayoutModel",
      "state": {}
     },
     "18cf8ef91a244842a255ed0a8f34bb19": {
      "model_module": "@jupyter-widgets/controls",
      "model_module_version": "1.5.0",
      "model_name": "IntSliderModel",
      "state": {
       "continuous_update": false,
       "description": "0-Padding",
       "layout": "IPY_MODEL_fa91525ac08a43b189e355a922a66c76",
       "max": 500,
       "style": "IPY_MODEL_a7cdd47f2763405daef5cc8207ece18c"
      }
     },
     "18e8baa3669a4c0b9646a72edb113850": {
      "model_module": "@jupyter-widgets/base",
      "model_module_version": "1.2.0",
      "model_name": "LayoutModel",
      "state": {}
     },
     "19025d1852264200b6e1a45d3eaa6b76": {
      "model_module": "@jupyter-widgets/base",
      "model_module_version": "1.2.0",
      "model_name": "LayoutModel",
      "state": {}
     },
     "1905969accd3437f89e1dde97beeb9f0": {
      "model_module": "@jupyter-widgets/base",
      "model_module_version": "1.2.0",
      "model_name": "LayoutModel",
      "state": {}
     },
     "190878c2f9494ed8bfd765bcb74a6858": {
      "model_module": "jupyter-matplotlib",
      "model_module_version": "^0.7.4",
      "model_name": "ToolbarModel",
      "state": {
       "layout": "IPY_MODEL_ef48f8a686034d9e8b4e1d35bee4b3aa",
       "toolitems": [
        [
         "Home",
         "Reset original view",
         "home",
         "home"
        ],
        [
         "Back",
         "Back to previous view",
         "arrow-left",
         "back"
        ],
        [
         "Forward",
         "Forward to next view",
         "arrow-right",
         "forward"
        ],
        [
         "Pan",
         "Left button pans, Right button zooms\nx/y fixes axis, CTRL fixes aspect",
         "arrows",
         "pan"
        ],
        [
         "Zoom",
         "Zoom to rectangle\nx/y fixes axis, CTRL fixes aspect",
         "square-o",
         "zoom"
        ],
        [
         "Download",
         "Download plot",
         "floppy-o",
         "save_figure"
        ]
       ]
      }
     },
     "192e9a06c5244bac9940e5709b07614c": {
      "model_module": "jupyter-matplotlib",
      "model_module_version": "^0.7.4",
      "model_name": "ToolbarModel",
      "state": {
       "layout": "IPY_MODEL_4caa660ac4584ca9b3eecfdd1cc2bcef",
       "toolitems": [
        [
         "Home",
         "Reset original view",
         "home",
         "home"
        ],
        [
         "Back",
         "Back to previous view",
         "arrow-left",
         "back"
        ],
        [
         "Forward",
         "Forward to next view",
         "arrow-right",
         "forward"
        ],
        [
         "Pan",
         "Left button pans, Right button zooms\nx/y fixes axis, CTRL fixes aspect",
         "arrows",
         "pan"
        ],
        [
         "Zoom",
         "Zoom to rectangle\nx/y fixes axis, CTRL fixes aspect",
         "square-o",
         "zoom"
        ],
        [
         "Download",
         "Download plot",
         "floppy-o",
         "save_figure"
        ]
       ]
      }
     },
     "19365a0722824585a35cc2f76346dcc0": {
      "model_module": "@jupyter-widgets/controls",
      "model_module_version": "1.5.0",
      "model_name": "VBoxModel",
      "state": {
       "_dom_classes": [
        "widget-interact"
       ],
       "children": [
        "IPY_MODEL_6b7684e4a4a347e38b405a1395c0b028",
        "IPY_MODEL_678ad300f9664597b4c2001a430adc5c",
        "IPY_MODEL_b9b6798a825244229550bcfa69215f80",
        "IPY_MODEL_b5f4b47b36da4f6ead29c683abc022a9"
       ],
       "layout": "IPY_MODEL_72c10b34d5c84d08886d5c81083588c9"
      }
     },
     "194b6e1c917b42f1b7a8d40d01f8b7a7": {
      "model_module": "@jupyter-widgets/controls",
      "model_module_version": "1.5.0",
      "model_name": "IntSliderModel",
      "state": {
       "continuous_update": false,
       "description": "0-Padding",
       "layout": "IPY_MODEL_009653b0d10c42578fdcaa8cc444c55a",
       "max": 500,
       "style": "IPY_MODEL_2525afa6e7f84261abedfbd615bc9152"
      }
     },
     "1973b80a139c4d059373915fcbe3492f": {
      "model_module": "@jupyter-widgets/controls",
      "model_module_version": "1.5.0",
      "model_name": "SliderStyleModel",
      "state": {
       "description_width": "initial"
      }
     },
     "19953b17f26d4fc5903293db4e6fcfcc": {
      "model_module": "jupyter-matplotlib",
      "model_module_version": "^0.7.4",
      "model_name": "ToolbarModel",
      "state": {
       "layout": "IPY_MODEL_499628b012fd48708784c41b1cd0ef3a",
       "toolitems": [
        [
         "Home",
         "Reset original view",
         "home",
         "home"
        ],
        [
         "Back",
         "Back to previous view",
         "arrow-left",
         "back"
        ],
        [
         "Forward",
         "Forward to next view",
         "arrow-right",
         "forward"
        ],
        [
         "Pan",
         "Left button pans, Right button zooms\nx/y fixes axis, CTRL fixes aspect",
         "arrows",
         "pan"
        ],
        [
         "Zoom",
         "Zoom to rectangle\nx/y fixes axis, CTRL fixes aspect",
         "square-o",
         "zoom"
        ],
        [
         "Download",
         "Download plot",
         "floppy-o",
         "save_figure"
        ]
       ]
      }
     },
     "1998db06ec104295a74d5cf3daca4a7d": {
      "model_module": "@jupyter-widgets/controls",
      "model_module_version": "1.5.0",
      "model_name": "SliderStyleModel",
      "state": {
       "description_width": "initial"
      }
     },
     "199e9e20cb1e4327995fabb1af5485df": {
      "model_module": "@jupyter-widgets/controls",
      "model_module_version": "1.5.0",
      "model_name": "HBoxModel",
      "state": {
       "children": [
        "IPY_MODEL_dc60c76741c7402486ab637bc3a35691",
        "IPY_MODEL_41ac4622eee042528cf365d3f0e1f1dd"
       ],
       "layout": "IPY_MODEL_ae4a63afd68b4063a8df362b7cec8bac"
      }
     },
     "19a5ff1865574d6cbf3ba7ea8c8d7447": {
      "model_module": "@jupyter-widgets/base",
      "model_module_version": "1.2.0",
      "model_name": "LayoutModel",
      "state": {}
     },
     "19aae1bc4e604269ae1063a54fa9c788": {
      "model_module": "@jupyter-widgets/base",
      "model_module_version": "1.2.0",
      "model_name": "LayoutModel",
      "state": {}
     },
     "19ba5ad64b424da2815d37a101e288e8": {
      "model_module": "@jupyter-widgets/base",
      "model_module_version": "1.2.0",
      "model_name": "LayoutModel",
      "state": {}
     },
     "19e601799bb84c11bc550226ec7e8d34": {
      "model_module": "@jupyter-widgets/controls",
      "model_module_version": "1.5.0",
      "model_name": "IntSliderModel",
      "state": {
       "continuous_update": false,
       "description": "Sampling (Hz)",
       "layout": "IPY_MODEL_be8e70f4c5e749c48f7a785130119a17",
       "max": 20,
       "min": 2,
       "step": 2,
       "style": "IPY_MODEL_30db8a041b6c4f149327c21f7e6db50b",
       "value": 4
      }
     },
     "19f51d2f6cbd49cd8aaa530ad26c50c6": {
      "model_module": "@jupyter-widgets/controls",
      "model_module_version": "1.5.0",
      "model_name": "IntSliderModel",
      "state": {
       "continuous_update": false,
       "description": "Sampling (Hz)",
       "layout": "IPY_MODEL_70072e503aad4dbab0cf794dba468ff9",
       "max": 12,
       "min": 2,
       "step": 2,
       "style": "IPY_MODEL_1422ba4e9b454a88bc270658ed551bed",
       "value": 4
      }
     },
     "1a04e73d211b4581af60f94287c83a60": {
      "model_module": "@jupyter-widgets/controls",
      "model_module_version": "1.5.0",
      "model_name": "SliderStyleModel",
      "state": {
       "description_width": "initial"
      }
     },
     "1a1e3088f9644a7fa3b2f20b5870cb08": {
      "model_module": "@jupyter-widgets/base",
      "model_module_version": "1.2.0",
      "model_name": "LayoutModel",
      "state": {}
     },
     "1a25b09e34e44bb3ba3ff8387626f585": {
      "model_module": "@jupyter-widgets/controls",
      "model_module_version": "1.5.0",
      "model_name": "IntSliderModel",
      "state": {
       "continuous_update": false,
       "description": "Sampling (Hz)",
       "layout": "IPY_MODEL_a47e1ee1ce5f43ecb58c35f1b4332d12",
       "max": 12,
       "min": 2,
       "step": 2,
       "style": "IPY_MODEL_3a500ef97925442eadb41a3fa831db9e",
       "value": 8
      }
     },
     "1a3d62b48de541ab8c2d073ffe3beda0": {
      "model_module": "@jupyter-widgets/base",
      "model_module_version": "1.2.0",
      "model_name": "LayoutModel",
      "state": {}
     },
     "1a4a12739a0a495ebd306845e30e58df": {
      "model_module": "@jupyter-widgets/controls",
      "model_module_version": "1.5.0",
      "model_name": "IntSliderModel",
      "state": {
       "description": "Sampling (Hz)",
       "layout": "IPY_MODEL_88c44b5c87ad4b3f96782cf64950179f",
       "max": 12,
       "min": 2,
       "step": 2,
       "style": "IPY_MODEL_50e43d4edd464736b88b69de2a2c911e",
       "value": 4
      }
     },
     "1a5462b5fcaf4936a195844e0103ccb6": {
      "model_module": "@jupyter-widgets/base",
      "model_module_version": "1.2.0",
      "model_name": "LayoutModel",
      "state": {}
     },
     "1a66d2ed7be643ce9de049357301edc5": {
      "model_module": "@jupyter-widgets/base",
      "model_module_version": "1.2.0",
      "model_name": "LayoutModel",
      "state": {}
     },
     "1a67ef227a8d4e74844c93d51f9c4bd8": {
      "model_module": "@jupyter-widgets/controls",
      "model_module_version": "1.5.0",
      "model_name": "IntSliderModel",
      "state": {
       "continuous_update": false,
       "description": "Sampling (Hz)",
       "layout": "IPY_MODEL_16071bd79bc547e4a585b21cfa11f0d0",
       "max": 12,
       "min": 2,
       "step": 2,
       "style": "IPY_MODEL_fa60a80d5e6b48e184f59e7ff484fb93",
       "value": 6
      }
     },
     "1a8b77def6ab469d9a0f38338070411d": {
      "model_module": "@jupyter-widgets/controls",
      "model_module_version": "1.5.0",
      "model_name": "SliderStyleModel",
      "state": {
       "description_width": "initial"
      }
     },
     "1a9ed58d87794cf2b34724bd2373f9ef": {
      "model_module": "@jupyter-widgets/base",
      "model_module_version": "1.2.0",
      "model_name": "LayoutModel",
      "state": {}
     },
     "1aa16535bdf24a88aeea458e4417fcf1": {
      "model_module": "@jupyter-widgets/controls",
      "model_module_version": "1.5.0",
      "model_name": "SliderStyleModel",
      "state": {
       "description_width": "initial"
      }
     },
     "1ab32862b11f40749d5875fe7b961d81": {
      "model_module": "@jupyter-widgets/controls",
      "model_module_version": "1.5.0",
      "model_name": "IntSliderModel",
      "state": {
       "continuous_update": false,
       "description": "Periods",
       "layout": "IPY_MODEL_3c6206201544487d93a84acef699dfde",
       "max": 50,
       "min": 1,
       "style": "IPY_MODEL_9ca08e3e49bd4ee095c4f93e29d50b25",
       "value": 2
      }
     },
     "1ac0779024ca4c27a990d4baef0f2596": {
      "model_module": "@jupyter-widgets/base",
      "model_module_version": "1.2.0",
      "model_name": "LayoutModel",
      "state": {}
     },
     "1ac6b64c10494b70a4a623ece09b6a4d": {
      "model_module": "@jupyter-widgets/base",
      "model_module_version": "1.2.0",
      "model_name": "LayoutModel",
      "state": {}
     },
     "1b103a6470124fc281b7fdda18dea5ff": {
      "model_module": "@jupyter-widgets/controls",
      "model_module_version": "1.5.0",
      "model_name": "HBoxModel",
      "state": {
       "children": [
        "IPY_MODEL_dbec8fae0d8f4359ab1f487a818e1dfb",
        "IPY_MODEL_b5c8f9b19c574623a69112751e28142e"
       ],
       "layout": "IPY_MODEL_80d4549342844361ba2be43e54278fb0"
      }
     },
     "1b2f7bba34b948bca35cda2ca76f14a5": {
      "model_module": "@jupyter-widgets/base",
      "model_module_version": "1.2.0",
      "model_name": "LayoutModel",
      "state": {}
     },
     "1b3eede25eaa4baa9a59d5897a0af02f": {
      "model_module": "@jupyter-widgets/base",
      "model_module_version": "1.2.0",
      "model_name": "LayoutModel",
      "state": {}
     },
     "1b436f12248e4691a849a545c7570f45": {
      "model_module": "@jupyter-widgets/controls",
      "model_module_version": "1.5.0",
      "model_name": "IntSliderModel",
      "state": {
       "continuous_update": false,
       "description": "Periods",
       "layout": "IPY_MODEL_1a3d62b48de541ab8c2d073ffe3beda0",
       "max": 50,
       "min": 1,
       "style": "IPY_MODEL_21681a51626c4f1e939674401229bfd9",
       "value": 2
      }
     },
     "1b8dfe83c096400496bc3b0e0bb3b25d": {
      "model_module": "@jupyter-widgets/base",
      "model_module_version": "1.2.0",
      "model_name": "LayoutModel",
      "state": {}
     },
     "1ba542cddb8444b6ae14f656ccf3f8aa": {
      "model_module": "@jupyter-widgets/base",
      "model_module_version": "1.2.0",
      "model_name": "LayoutModel",
      "state": {
       "flex_flow": "row wrap"
      }
     },
     "1bd4e589fec54f11a4a80188e4f4fc08": {
      "model_module": "@jupyter-widgets/base",
      "model_module_version": "1.2.0",
      "model_name": "LayoutModel",
      "state": {}
     },
     "1bde8df2cd054c5681139cab31fcef2f": {
      "model_module": "@jupyter-widgets/base",
      "model_module_version": "1.2.0",
      "model_name": "LayoutModel",
      "state": {}
     },
     "1beb0917558846339c6b9e98986f9faa": {
      "model_module": "@jupyter-widgets/controls",
      "model_module_version": "1.5.0",
      "model_name": "SliderStyleModel",
      "state": {
       "description_width": "initial"
      }
     },
     "1bef8c5a6f9f43798e7d97746aa2899e": {
      "model_module": "@jupyter-widgets/base",
      "model_module_version": "1.2.0",
      "model_name": "LayoutModel",
      "state": {}
     },
     "1bf62cc2edd74ea4aeb32855c896febb": {
      "model_module": "@jupyter-widgets/base",
      "model_module_version": "1.2.0",
      "model_name": "LayoutModel",
      "state": {
       "flex_flow": "row wrap"
      }
     },
     "1bfee6bbf2244ece8fcba7c64b64d22c": {
      "model_module": "@jupyter-widgets/base",
      "model_module_version": "1.2.0",
      "model_name": "LayoutModel",
      "state": {
       "flex_flow": "row wrap"
      }
     },
     "1c08ff62d20642b68acedbcf7927aa64": {
      "model_module": "@jupyter-widgets/base",
      "model_module_version": "1.2.0",
      "model_name": "LayoutModel",
      "state": {}
     },
     "1c25326df1b7439bb94fb7aa308b10ac": {
      "model_module": "@jupyter-widgets/base",
      "model_module_version": "1.2.0",
      "model_name": "LayoutModel",
      "state": {}
     },
     "1c375fc130054df98617a7ffa0037b34": {
      "model_module": "@jupyter-widgets/controls",
      "model_module_version": "1.5.0",
      "model_name": "HBoxModel",
      "state": {
       "children": [
        "IPY_MODEL_40c5c43020c4418ab96cb8d2bb423af4",
        "IPY_MODEL_e1fd8041840940f5beb04b12248bcd79"
       ],
       "layout": "IPY_MODEL_1bef8c5a6f9f43798e7d97746aa2899e"
      }
     },
     "1c3e9c7b938841eea88fe5ab084457a0": {
      "model_module": "@jupyter-widgets/base",
      "model_module_version": "1.2.0",
      "model_name": "LayoutModel",
      "state": {
       "flex_flow": "column wrap"
      }
     },
     "1c41d59baa1b4febbec5b5fd5d9f0af4": {
      "model_module": "@jupyter-widgets/base",
      "model_module_version": "1.2.0",
      "model_name": "LayoutModel",
      "state": {}
     },
     "1c60721ea257425f8097d5af29bd3b47": {
      "model_module": "@jupyter-widgets/base",
      "model_module_version": "1.2.0",
      "model_name": "LayoutModel",
      "state": {}
     },
     "1c99241ef5c84918a970e13d51f39e8a": {
      "model_module": "jupyter-matplotlib",
      "model_module_version": "^0.7.4",
      "model_name": "ToolbarModel",
      "state": {
       "layout": "IPY_MODEL_a5b8d45e2f3046abb4e81aaf22749e96",
       "toolitems": [
        [
         "Home",
         "Reset original view",
         "home",
         "home"
        ],
        [
         "Back",
         "Back to previous view",
         "arrow-left",
         "back"
        ],
        [
         "Forward",
         "Forward to next view",
         "arrow-right",
         "forward"
        ],
        [
         "Pan",
         "Left button pans, Right button zooms\nx/y fixes axis, CTRL fixes aspect",
         "arrows",
         "pan"
        ],
        [
         "Zoom",
         "Zoom to rectangle\nx/y fixes axis, CTRL fixes aspect",
         "square-o",
         "zoom"
        ],
        [
         "Download",
         "Download plot",
         "floppy-o",
         "save_figure"
        ]
       ]
      }
     },
     "1cbb92dff559485c900c5421b5f97d86": {
      "model_module": "@jupyter-widgets/controls",
      "model_module_version": "1.5.0",
      "model_name": "SliderStyleModel",
      "state": {
       "description_width": "initial"
      }
     },
     "1d14239892be45d08fe7069c8268d8a0": {
      "model_module": "@jupyter-widgets/controls",
      "model_module_version": "1.5.0",
      "model_name": "SliderStyleModel",
      "state": {
       "description_width": "initial"
      }
     },
     "1d19031889794d729316e5e5b142f5de": {
      "model_module": "@jupyter-widgets/controls",
      "model_module_version": "1.5.0",
      "model_name": "IntSliderModel",
      "state": {
       "continuous_update": false,
       "description": "Sampling (Hz)",
       "layout": "IPY_MODEL_9bb5b3137bc74429a29fac0ae510b72d",
       "max": 20,
       "min": 2,
       "step": 2,
       "style": "IPY_MODEL_c1257e5c99584e9299fa6fd0244b73e2",
       "value": 4
      }
     },
     "1d22bf502c594997a96db445360e867a": {
      "model_module": "@jupyter-widgets/controls",
      "model_module_version": "1.5.0",
      "model_name": "IntSliderModel",
      "state": {
       "continuous_update": false,
       "description": "Sampling (Hz)",
       "layout": "IPY_MODEL_ae82028553a2442396065547a3819809",
       "max": 20,
       "min": 2,
       "step": 2,
       "style": "IPY_MODEL_b66ea075f53f4e118828728a3f63f2b5",
       "value": 4
      }
     },
     "1d2388d49fd845dca31375fb098100f3": {
      "model_module": "@jupyter-widgets/controls",
      "model_module_version": "1.5.0",
      "model_name": "SliderStyleModel",
      "state": {
       "description_width": "initial"
      }
     },
     "1d287dfd188949f59617a4104bdef7f7": {
      "model_module": "@jupyter-widgets/base",
      "model_module_version": "1.2.0",
      "model_name": "LayoutModel",
      "state": {}
     },
     "1d3ab12f19b948ec8fef9b82b0df0006": {
      "model_module": "@jupyter-widgets/base",
      "model_module_version": "1.2.0",
      "model_name": "LayoutModel",
      "state": {}
     },
     "1d3d73d30fb3445583a8c0d8e43b83c6": {
      "model_module": "@jupyter-widgets/controls",
      "model_module_version": "1.5.0",
      "model_name": "IntSliderModel",
      "state": {
       "continuous_update": false,
       "description": "Periods",
       "layout": "IPY_MODEL_4c5ee2190b8f4b6e93c3e005bac7f074",
       "max": 50,
       "min": 1,
       "style": "IPY_MODEL_13e0b1a515564694ab5e87c3d85ebd97",
       "value": 50
      }
     },
     "1d57c42ee0294953809adb6cbdaf4626": {
      "model_module": "@jupyter-widgets/base",
      "model_module_version": "1.2.0",
      "model_name": "LayoutModel",
      "state": {}
     },
     "1d58c8b84c0940dab64e2c0bda23f026": {
      "model_module": "@jupyter-widgets/base",
      "model_module_version": "1.2.0",
      "model_name": "LayoutModel",
      "state": {}
     },
     "1d66ea7af54544cbb1ebf3e0a630cb43": {
      "model_module": "@jupyter-widgets/controls",
      "model_module_version": "1.5.0",
      "model_name": "IntSliderModel",
      "state": {
       "continuous_update": false,
       "description": "0-Padding",
       "layout": "IPY_MODEL_a8de358a9e814ffd9e8bac8539522358",
       "max": 500,
       "style": "IPY_MODEL_43ce212e757045ba939a4b5367d54b36"
      }
     },
     "1d670fa24d8643f8ab0669f4473b0688": {
      "model_module": "@jupyter-widgets/base",
      "model_module_version": "1.2.0",
      "model_name": "LayoutModel",
      "state": {}
     },
     "1d95116e0ce448d0921c36688c0c2cfe": {
      "model_module": "@jupyter-widgets/controls",
      "model_module_version": "1.5.0",
      "model_name": "SliderStyleModel",
      "state": {
       "description_width": "initial"
      }
     },
     "1dab954aedd14514902965f7dd3a0736": {
      "model_module": "jupyter-matplotlib",
      "model_module_version": "^0.7.4",
      "model_name": "ToolbarModel",
      "state": {
       "layout": "IPY_MODEL_83c59638060a47dd9c7d1f96b676c15e",
       "toolitems": [
        [
         "Home",
         "Reset original view",
         "home",
         "home"
        ],
        [
         "Back",
         "Back to previous view",
         "arrow-left",
         "back"
        ],
        [
         "Forward",
         "Forward to next view",
         "arrow-right",
         "forward"
        ],
        [
         "Pan",
         "Left button pans, Right button zooms\nx/y fixes axis, CTRL fixes aspect",
         "arrows",
         "pan"
        ],
        [
         "Zoom",
         "Zoom to rectangle\nx/y fixes axis, CTRL fixes aspect",
         "square-o",
         "zoom"
        ],
        [
         "Download",
         "Download plot",
         "floppy-o",
         "save_figure"
        ]
       ]
      }
     },
     "1daefeb9f835497fb3ada880181522da": {
      "model_module": "@jupyter-widgets/base",
      "model_module_version": "1.2.0",
      "model_name": "LayoutModel",
      "state": {}
     },
     "1dd4fd1928304069859eb4562586cdcf": {
      "model_module": "@jupyter-widgets/controls",
      "model_module_version": "1.5.0",
      "model_name": "IntSliderModel",
      "state": {
       "continuous_update": false,
       "description": "Sampling (Hz)",
       "layout": "IPY_MODEL_b4ae1d356d7540078ed10a4fc98f57d3",
       "max": 12,
       "min": 2,
       "step": 2,
       "style": "IPY_MODEL_087745a124934c8bad4e40e653792ed2",
       "value": 4
      }
     },
     "1dda28e554564640b6543c358b6bd3e3": {
      "model_module": "@jupyter-widgets/controls",
      "model_module_version": "1.5.0",
      "model_name": "IntSliderModel",
      "state": {
       "continuous_update": false,
       "description": "Sampling (Hz)",
       "layout": "IPY_MODEL_268174f6e3604ace80ea783d3932cd90",
       "max": 20,
       "min": 2,
       "step": 2,
       "style": "IPY_MODEL_ea6ad2dde399464fb85e09c500fe1cb7",
       "value": 4
      }
     },
     "1dda47afad2e4dd3ac3fdf2106e95ff3": {
      "model_module": "@jupyter-widgets/controls",
      "model_module_version": "1.5.0",
      "model_name": "VBoxModel",
      "state": {
       "_dom_classes": [
        "widget-interact"
       ],
       "children": [
        "IPY_MODEL_889e25432fa14b2fb305e1bf4b235042",
        "IPY_MODEL_94b71182aec74d088934e0931a03616e",
        "IPY_MODEL_04b285419b57464a8b567dbc11222654",
        "IPY_MODEL_a6b6088849354cfb82f8fcc090d72644"
       ],
       "layout": "IPY_MODEL_51c1b979e6444e0bbbc12bebfc53a88f"
      }
     },
     "1de2186c862b4e5e8aaeb5a2b3df9129": {
      "model_module": "@jupyter-widgets/base",
      "model_module_version": "1.2.0",
      "model_name": "LayoutModel",
      "state": {}
     },
     "1e06a2c112a2459fa41ba14500a16c71": {
      "model_module": "@jupyter-widgets/base",
      "model_module_version": "1.2.0",
      "model_name": "LayoutModel",
      "state": {}
     },
     "1e21272cd5bb4f8b91a9bf3ca19fa2ea": {
      "model_module": "@jupyter-widgets/base",
      "model_module_version": "1.2.0",
      "model_name": "LayoutModel",
      "state": {}
     },
     "1e3eeabf65c949c08ac90ee9e896f458": {
      "model_module": "@jupyter-widgets/controls",
      "model_module_version": "1.5.0",
      "model_name": "VBoxModel",
      "state": {
       "children": [
        "IPY_MODEL_0e8a52a841004622b44ef38089f62026",
        "IPY_MODEL_1d22bf502c594997a96db445360e867a",
        "IPY_MODEL_cd28e537b0a0420e85adcca848a8d68f"
       ],
       "layout": "IPY_MODEL_aba97c85c8df453bab1bb8099d015566"
      }
     },
     "1e5aaf4aa7aa4ab3865372efe26ab896": {
      "model_module": "@jupyter-widgets/base",
      "model_module_version": "1.2.0",
      "model_name": "LayoutModel",
      "state": {}
     },
     "1e601a8331534b609e8b614c03831b00": {
      "model_module": "@jupyter-widgets/controls",
      "model_module_version": "1.5.0",
      "model_name": "IntSliderModel",
      "state": {
       "continuous_update": false,
       "description": "Sampling (Hz)",
       "layout": "IPY_MODEL_cfcb28213aac4432965af2fbe513b452",
       "max": 20,
       "min": 2,
       "step": 2,
       "style": "IPY_MODEL_25a0d4ac0664456caab44068824c06e4",
       "value": 4
      }
     },
     "1e66736f1c3845509e8b953281e25158": {
      "model_module": "jupyter-matplotlib",
      "model_module_version": "^0.7.4",
      "model_name": "ToolbarModel",
      "state": {
       "layout": "IPY_MODEL_e0475ab3d9be437eafe6570875b4ae11",
       "toolitems": [
        [
         "Home",
         "Reset original view",
         "home",
         "home"
        ],
        [
         "Back",
         "Back to previous view",
         "arrow-left",
         "back"
        ],
        [
         "Forward",
         "Forward to next view",
         "arrow-right",
         "forward"
        ],
        [
         "Pan",
         "Left button pans, Right button zooms\nx/y fixes axis, CTRL fixes aspect",
         "arrows",
         "pan"
        ],
        [
         "Zoom",
         "Zoom to rectangle\nx/y fixes axis, CTRL fixes aspect",
         "square-o",
         "zoom"
        ],
        [
         "Download",
         "Download plot",
         "floppy-o",
         "save_figure"
        ]
       ]
      }
     },
     "1eb9a82f95544226893cd7029347ca3c": {
      "model_module": "@jupyter-widgets/controls",
      "model_module_version": "1.5.0",
      "model_name": "IntSliderModel",
      "state": {
       "continuous_update": false,
       "description": "Periods",
       "layout": "IPY_MODEL_0154529c464941b896519df19390d79c",
       "max": 50,
       "min": 1,
       "style": "IPY_MODEL_e22d6b5d8a644e248c4c9c917513f081",
       "value": 2
      }
     },
     "1ef1d31bd80f451a806c529879290ccb": {
      "model_module": "@jupyter-widgets/base",
      "model_module_version": "1.2.0",
      "model_name": "LayoutModel",
      "state": {}
     },
     "1f0155ae48a14d8a9190a7af70ddc076": {
      "model_module": "@jupyter-widgets/controls",
      "model_module_version": "1.5.0",
      "model_name": "VBoxModel",
      "state": {
       "children": [
        "IPY_MODEL_457507d788374166a294288e44dbac3a",
        "IPY_MODEL_fdca85a2fa9049599138cd6edc443fc7",
        "IPY_MODEL_b70112597f8a4484ab8afee41db9a4d8"
       ],
       "layout": "IPY_MODEL_dbf7822857644375aa31e9c8890e4349"
      }
     },
     "1f348a21f8934d80bb727b3e11ea4116": {
      "model_module": "@jupyter-widgets/base",
      "model_module_version": "1.2.0",
      "model_name": "LayoutModel",
      "state": {}
     },
     "1f3a73303b524cbe8dae903e7e29da4e": {
      "model_module": "@jupyter-widgets/base",
      "model_module_version": "1.2.0",
      "model_name": "LayoutModel",
      "state": {}
     },
     "1f574eace64440328fd5a264a6d82b6c": {
      "model_module": "jupyter-matplotlib",
      "model_module_version": "^0.7.4",
      "model_name": "ToolbarModel",
      "state": {
       "layout": "IPY_MODEL_79dbe6eef4bd475daa3ef38dde9f88a9",
       "toolitems": [
        [
         "Home",
         "Reset original view",
         "home",
         "home"
        ],
        [
         "Back",
         "Back to previous view",
         "arrow-left",
         "back"
        ],
        [
         "Forward",
         "Forward to next view",
         "arrow-right",
         "forward"
        ],
        [
         "Pan",
         "Left button pans, Right button zooms\nx/y fixes axis, CTRL fixes aspect",
         "arrows",
         "pan"
        ],
        [
         "Zoom",
         "Zoom to rectangle\nx/y fixes axis, CTRL fixes aspect",
         "square-o",
         "zoom"
        ],
        [
         "Download",
         "Download plot",
         "floppy-o",
         "save_figure"
        ]
       ]
      }
     },
     "1f63d80b96cd4e569bea133095b7962e": {
      "model_module": "@jupyter-widgets/output",
      "model_module_version": "1.0.0",
      "model_name": "OutputModel",
      "state": {
       "layout": "IPY_MODEL_acf740db74cf4d88ac10402d69fa6371"
      }
     },
     "1f77c8e718eb411c816f7edfc55a61f7": {
      "model_module": "@jupyter-widgets/controls",
      "model_module_version": "1.5.0",
      "model_name": "HBoxModel",
      "state": {
       "children": [
        "IPY_MODEL_aa8b0c7c668346fca5fc7a7f89191eca",
        "IPY_MODEL_174da6356e134ecdb115de022afeee84"
       ],
       "layout": "IPY_MODEL_2a5e37b50eb44ff686ceb16320e16518"
      }
     },
     "1f8000fd1ae648459292d0e809ebe538": {
      "model_module": "jupyter-matplotlib",
      "model_module_version": "^0.7.4",
      "model_name": "ToolbarModel",
      "state": {
       "layout": "IPY_MODEL_cef4c6f104314004853b660cc1f358b6",
       "toolitems": [
        [
         "Home",
         "Reset original view",
         "home",
         "home"
        ],
        [
         "Back",
         "Back to previous view",
         "arrow-left",
         "back"
        ],
        [
         "Forward",
         "Forward to next view",
         "arrow-right",
         "forward"
        ],
        [
         "Pan",
         "Left button pans, Right button zooms\nx/y fixes axis, CTRL fixes aspect",
         "arrows",
         "pan"
        ],
        [
         "Zoom",
         "Zoom to rectangle\nx/y fixes axis, CTRL fixes aspect",
         "square-o",
         "zoom"
        ],
        [
         "Download",
         "Download plot",
         "floppy-o",
         "save_figure"
        ]
       ]
      }
     },
     "1f80c9f24e0b4d3086dbb67a7ba5c9d0": {
      "model_module": "@jupyter-widgets/base",
      "model_module_version": "1.2.0",
      "model_name": "LayoutModel",
      "state": {}
     },
     "1f9983985163428fa020b1a014b55430": {
      "model_module": "@jupyter-widgets/base",
      "model_module_version": "1.2.0",
      "model_name": "LayoutModel",
      "state": {}
     },
     "1fab4e2829114ad6aa90adeb0d807c4a": {
      "model_module": "@jupyter-widgets/base",
      "model_module_version": "1.2.0",
      "model_name": "LayoutModel",
      "state": {}
     },
     "1fe4087d14664980ace402efdaf53fae": {
      "model_module": "@jupyter-widgets/base",
      "model_module_version": "1.2.0",
      "model_name": "LayoutModel",
      "state": {}
     },
     "2007391c8b3a4274b8f4759c18f6a84b": {
      "model_module": "@jupyter-widgets/base",
      "model_module_version": "1.2.0",
      "model_name": "LayoutModel",
      "state": {}
     },
     "2022b1306ec0457295e1425d065661b6": {
      "model_module": "@jupyter-widgets/base",
      "model_module_version": "1.2.0",
      "model_name": "LayoutModel",
      "state": {}
     },
     "205263da4f294e6b96778e34d56b75b4": {
      "model_module": "@jupyter-widgets/controls",
      "model_module_version": "1.5.0",
      "model_name": "SliderStyleModel",
      "state": {
       "description_width": "initial"
      }
     },
     "20ac48048bd14f08a43ac8f108bc0115": {
      "model_module": "@jupyter-widgets/base",
      "model_module_version": "1.2.0",
      "model_name": "LayoutModel",
      "state": {}
     },
     "20dd12ead1124918a87c4bc7134c0d88": {
      "model_module": "@jupyter-widgets/controls",
      "model_module_version": "1.5.0",
      "model_name": "IntSliderModel",
      "state": {
       "description": "Sampling (Hz)",
       "layout": "IPY_MODEL_e0b5a994abcb4c0b8123cd72727cac06",
       "max": 12,
       "min": 2,
       "step": 2,
       "style": "IPY_MODEL_23ca65c06e634f55ad30116d78e240d5",
       "value": 10
      }
     },
     "210b29714838417b961e9d24d027d014": {
      "model_module": "@jupyter-widgets/base",
      "model_module_version": "1.2.0",
      "model_name": "LayoutModel",
      "state": {}
     },
     "2115a1d208c54ee6a53bf6e2d62653b8": {
      "model_module": "@jupyter-widgets/controls",
      "model_module_version": "1.5.0",
      "model_name": "VBoxModel",
      "state": {
       "children": [
        "IPY_MODEL_fe0c434ea8e54ac28ac449675ecf5339",
        "IPY_MODEL_3a2dff9ea23b419295a2e50f69009420",
        "IPY_MODEL_d4c0c40fb7084164bf83ce7e9892bf27"
       ],
       "layout": "IPY_MODEL_5b6e58a4771948fa9aae913e643e7694"
      }
     },
     "21390cefcfb8483ea503cec95ecc9d10": {
      "model_module": "@jupyter-widgets/controls",
      "model_module_version": "1.5.0",
      "model_name": "IntSliderModel",
      "state": {
       "continuous_update": false,
       "description": "0-Padding",
       "layout": "IPY_MODEL_9ed871a345064f20a00531b659b9d4ba",
       "max": 500,
       "style": "IPY_MODEL_b20dd1e9fee54f22a60860a299b832ed"
      }
     },
     "213aa48cf25f444b9f55e1d4ff40d22f": {
      "model_module": "@jupyter-widgets/controls",
      "model_module_version": "1.5.0",
      "model_name": "VBoxModel",
      "state": {
       "_dom_classes": [
        "widget-interact"
       ],
       "children": [
        "IPY_MODEL_c3335df23e14456db26197061a06213a",
        "IPY_MODEL_facb8cd79d6b497496ae7abd58804253",
        "IPY_MODEL_c9139ce3ea8b453eb8e27e94259a4fc5",
        "IPY_MODEL_9f940a4890d44f1f9f2b33c47a380ac3"
       ],
       "layout": "IPY_MODEL_0851dd925f014ea0aabb3eb86e6608ef"
      }
     },
     "2152db3c3850453ca1094486dd24c7e1": {
      "model_module": "@jupyter-widgets/controls",
      "model_module_version": "1.5.0",
      "model_name": "VBoxModel",
      "state": {
       "_dom_classes": [
        "widget-interact"
       ],
       "children": [
        "IPY_MODEL_16e6e9dcfea349bb805d1dde2a3a258f",
        "IPY_MODEL_bef7b4d56edd4f1099ff22c8055a0099",
        "IPY_MODEL_d3d2a7fcbee7410cb2c2f48284f5cf2e",
        "IPY_MODEL_647bf7f58f104170a3ab38af496716df"
       ],
       "layout": "IPY_MODEL_4458ac89a856469ebeb4d3c6fb29f4ea"
      }
     },
     "21681a51626c4f1e939674401229bfd9": {
      "model_module": "@jupyter-widgets/controls",
      "model_module_version": "1.5.0",
      "model_name": "SliderStyleModel",
      "state": {
       "description_width": "initial"
      }
     },
     "2179cf2c0aa44985bf97e443bc98dafd": {
      "model_module": "@jupyter-widgets/controls",
      "model_module_version": "1.5.0",
      "model_name": "IntSliderModel",
      "state": {
       "continuous_update": false,
       "description": "Sampling (Hz)",
       "layout": "IPY_MODEL_16835c6644f24b8fa0f7037e0c8b4440",
       "max": 20,
       "min": 2,
       "step": 2,
       "style": "IPY_MODEL_6f4ba08e54d648dc9ae500a3a8374b3d",
       "value": 4
      }
     },
     "218d50594291434db039a6acced45758": {
      "model_module": "@jupyter-widgets/base",
      "model_module_version": "1.2.0",
      "model_name": "LayoutModel",
      "state": {}
     },
     "21ae02ee4e5b408783f8a57935e23e15": {
      "model_module": "@jupyter-widgets/output",
      "model_module_version": "1.0.0",
      "model_name": "OutputModel",
      "state": {
       "layout": "IPY_MODEL_c48801f85870414a9c0532216ce4a263"
      }
     },
     "21cca55354fc43cca623d7b9d9cb14e4": {
      "model_module": "@jupyter-widgets/base",
      "model_module_version": "1.2.0",
      "model_name": "LayoutModel",
      "state": {}
     },
     "21d360c5881c44cdb16bb02db48f5eca": {
      "model_module": "@jupyter-widgets/base",
      "model_module_version": "1.2.0",
      "model_name": "LayoutModel",
      "state": {}
     },
     "21d80f42016e49b8b5aba98a2ad14bf9": {
      "model_module": "@jupyter-widgets/controls",
      "model_module_version": "1.5.0",
      "model_name": "SliderStyleModel",
      "state": {
       "description_width": "initial"
      }
     },
     "21ef4e711a1947e6872f562f603e59c4": {
      "model_module": "@jupyter-widgets/output",
      "model_module_version": "1.0.0",
      "model_name": "OutputModel",
      "state": {
       "layout": "IPY_MODEL_6b971cec55f94c2ba68bddfaafe72017"
      }
     },
     "21fbd95ece474b91ad6a67913a94c857": {
      "model_module": "@jupyter-widgets/base",
      "model_module_version": "1.2.0",
      "model_name": "LayoutModel",
      "state": {}
     },
     "22070cbfad334906bdf371df0050f69c": {
      "model_module": "@jupyter-widgets/controls",
      "model_module_version": "1.5.0",
      "model_name": "IntSliderModel",
      "state": {
       "continuous_update": false,
       "description": "Periods",
       "layout": "IPY_MODEL_c6f61a562c864ea79252bdfe40c742c4",
       "max": 50,
       "min": 1,
       "style": "IPY_MODEL_8e2c5860ff234cd8b05e160a9df8b108",
       "value": 2
      }
     },
     "221991431f16427a85bd87582d7d42d3": {
      "model_module": "@jupyter-widgets/controls",
      "model_module_version": "1.5.0",
      "model_name": "SliderStyleModel",
      "state": {
       "description_width": "initial"
      }
     },
     "221b0cd664bb4cf68c9565959e4c7f50": {
      "model_module": "@jupyter-widgets/controls",
      "model_module_version": "1.5.0",
      "model_name": "SliderStyleModel",
      "state": {
       "description_width": "initial"
      }
     },
     "22338937ebfc4a51bf6e80f45cfa1375": {
      "model_module": "@jupyter-widgets/controls",
      "model_module_version": "1.5.0",
      "model_name": "IntSliderModel",
      "state": {
       "description": "Sampling (Hz)",
       "layout": "IPY_MODEL_a05adadb3c6242a4bb4594c1a92cfa19",
       "max": 12,
       "min": 2,
       "step": 2,
       "style": "IPY_MODEL_6a9f636e7a8a456e844d8edc16a56ad9",
       "value": 4
      }
     },
     "2238fa9e100b483b8ff278a55c111e67": {
      "model_module": "@jupyter-widgets/base",
      "model_module_version": "1.2.0",
      "model_name": "LayoutModel",
      "state": {
       "flex_flow": "row wrap"
      }
     },
     "2240bea38d1740feb8fc9cf933b09da8": {
      "model_module": "@jupyter-widgets/base",
      "model_module_version": "1.2.0",
      "model_name": "LayoutModel",
      "state": {}
     },
     "22578e3bb1b840d2bd9f84044f6b1d8b": {
      "model_module": "jupyter-matplotlib",
      "model_module_version": "^0.7.4",
      "model_name": "ToolbarModel",
      "state": {
       "layout": "IPY_MODEL_803bf2652ea146c0b8dac6168badeb48",
       "toolitems": [
        [
         "Home",
         "Reset original view",
         "home",
         "home"
        ],
        [
         "Back",
         "Back to previous view",
         "arrow-left",
         "back"
        ],
        [
         "Forward",
         "Forward to next view",
         "arrow-right",
         "forward"
        ],
        [
         "Pan",
         "Left button pans, Right button zooms\nx/y fixes axis, CTRL fixes aspect",
         "arrows",
         "pan"
        ],
        [
         "Zoom",
         "Zoom to rectangle\nx/y fixes axis, CTRL fixes aspect",
         "square-o",
         "zoom"
        ],
        [
         "Download",
         "Download plot",
         "floppy-o",
         "save_figure"
        ]
       ]
      }
     },
     "22980c442b284218bd19d2d77a74bc90": {
      "model_module": "@jupyter-widgets/controls",
      "model_module_version": "1.5.0",
      "model_name": "HBoxModel",
      "state": {
       "children": [
        "IPY_MODEL_6d237fa0843a4aad9cd8874fc75f2547",
        "IPY_MODEL_c6584a04ca2447edb0321b07c015e5d2",
        "IPY_MODEL_9fa1eeb25d7649d89c99f714932ceb83"
       ],
       "layout": "IPY_MODEL_edd2d00575f2483890b0e79c80a16e97"
      }
     },
     "22ab2db703e24c90aaca93432572d46a": {
      "model_module": "@jupyter-widgets/base",
      "model_module_version": "1.2.0",
      "model_name": "LayoutModel",
      "state": {}
     },
     "23253298687b4b83b12f39bbdaea1f64": {
      "model_module": "@jupyter-widgets/base",
      "model_module_version": "1.2.0",
      "model_name": "LayoutModel",
      "state": {}
     },
     "2363e5d06dce46ad9993a3b9e96de044": {
      "model_module": "@jupyter-widgets/controls",
      "model_module_version": "1.5.0",
      "model_name": "IntSliderModel",
      "state": {
       "description": "Sampling (Hz)",
       "layout": "IPY_MODEL_c8d029530d5d4999a44c3019db58e8d4",
       "max": 12,
       "min": 2,
       "step": 2,
       "style": "IPY_MODEL_b3b3ca6e632947029f078f8f2dadf726",
       "value": 4
      }
     },
     "2369e0551ff04c37ba03b84cbba19730": {
      "model_module": "@jupyter-widgets/base",
      "model_module_version": "1.2.0",
      "model_name": "LayoutModel",
      "state": {}
     },
     "23713090123b43deb60f0f75a13616e0": {
      "model_module": "@jupyter-widgets/base",
      "model_module_version": "1.2.0",
      "model_name": "LayoutModel",
      "state": {}
     },
     "2389adcbe5b94e7bb35a8ac96598f4d4": {
      "model_module": "@jupyter-widgets/base",
      "model_module_version": "1.2.0",
      "model_name": "LayoutModel",
      "state": {}
     },
     "238f54818ed84a2bb50880b03c94d0d8": {
      "model_module": "@jupyter-widgets/base",
      "model_module_version": "1.2.0",
      "model_name": "LayoutModel",
      "state": {}
     },
     "239017699493409a86f59ebd8ad334af": {
      "model_module": "@jupyter-widgets/base",
      "model_module_version": "1.2.0",
      "model_name": "LayoutModel",
      "state": {}
     },
     "2392cc9517794f4890afad1dfdf6a302": {
      "model_module": "@jupyter-widgets/output",
      "model_module_version": "1.0.0",
      "model_name": "OutputModel",
      "state": {
       "layout": "IPY_MODEL_72a90c4be03d4083b93c650f2e3792d9"
      }
     },
     "239699cb42c14b0a878171925854ecda": {
      "model_module": "@jupyter-widgets/controls",
      "model_module_version": "1.5.0",
      "model_name": "IntSliderModel",
      "state": {
       "description": "Periods",
       "layout": "IPY_MODEL_a216fe53df0c42a2b1dd8a14b31084e8",
       "max": 50,
       "min": 1,
       "style": "IPY_MODEL_b16e7a2acceb4c19857f196c6c09c0c0",
       "value": 2
      }
     },
     "23a3febecabe4e72bd8c98e2910fa340": {
      "model_module": "@jupyter-widgets/controls",
      "model_module_version": "1.5.0",
      "model_name": "IntSliderModel",
      "state": {
       "continuous_update": false,
       "description": "Periods",
       "layout": "IPY_MODEL_10b1cd8d810f44f88fcf1a08fa3b64b3",
       "max": 50,
       "min": 1,
       "style": "IPY_MODEL_403f27d78ba5408abcd77a28c0ebf660",
       "value": 1
      }
     },
     "23b3ad9da41f4f3298607d989cbb89bf": {
      "model_module": "@jupyter-widgets/base",
      "model_module_version": "1.2.0",
      "model_name": "LayoutModel",
      "state": {}
     },
     "23ca65c06e634f55ad30116d78e240d5": {
      "model_module": "@jupyter-widgets/controls",
      "model_module_version": "1.5.0",
      "model_name": "SliderStyleModel",
      "state": {
       "description_width": "initial"
      }
     },
     "23e23fe9ab954ab59589682bbace6077": {
      "model_module": "@jupyter-widgets/output",
      "model_module_version": "1.0.0",
      "model_name": "OutputModel",
      "state": {
       "layout": "IPY_MODEL_fc767b68ae71469a90ee1094c7809f25"
      }
     },
     "23ea75f7c1b34f5ca82c12dc4ef123ec": {
      "model_module": "@jupyter-widgets/output",
      "model_module_version": "1.0.0",
      "model_name": "OutputModel",
      "state": {
       "layout": "IPY_MODEL_00d65c214a1e4bee980e1746f12a3391",
       "outputs": [
        {
         "ename": "TypeError",
         "evalue": "'Text' object is not callable",
         "output_type": "error",
         "traceback": [
          "\u001b[1;31m---------------------------------------------------------------------------\u001b[0m",
          "\u001b[1;31mTypeError\u001b[0m                                 Traceback (most recent call last)",
          "\u001b[1;32mE:\\Software\\Anaconda3\\lib\\site-packages\\ipywidgets\\widgets\\interaction.py\u001b[0m in \u001b[0;36mupdate\u001b[1;34m(self, *args)\u001b[0m\n\u001b[0;32m    254\u001b[0m                     \u001b[0mvalue\u001b[0m \u001b[1;33m=\u001b[0m \u001b[0mwidget\u001b[0m\u001b[1;33m.\u001b[0m\u001b[0mget_interact_value\u001b[0m\u001b[1;33m(\u001b[0m\u001b[1;33m)\u001b[0m\u001b[1;33m\u001b[0m\u001b[1;33m\u001b[0m\u001b[0m\n\u001b[0;32m    255\u001b[0m                     \u001b[0mself\u001b[0m\u001b[1;33m.\u001b[0m\u001b[0mkwargs\u001b[0m\u001b[1;33m[\u001b[0m\u001b[0mwidget\u001b[0m\u001b[1;33m.\u001b[0m\u001b[0m_kwarg\u001b[0m\u001b[1;33m]\u001b[0m \u001b[1;33m=\u001b[0m \u001b[0mvalue\u001b[0m\u001b[1;33m\u001b[0m\u001b[1;33m\u001b[0m\u001b[0m\n\u001b[1;32m--> 256\u001b[1;33m                 \u001b[0mself\u001b[0m\u001b[1;33m.\u001b[0m\u001b[0mresult\u001b[0m \u001b[1;33m=\u001b[0m \u001b[0mself\u001b[0m\u001b[1;33m.\u001b[0m\u001b[0mf\u001b[0m\u001b[1;33m(\u001b[0m\u001b[1;33m**\u001b[0m\u001b[0mself\u001b[0m\u001b[1;33m.\u001b[0m\u001b[0mkwargs\u001b[0m\u001b[1;33m)\u001b[0m\u001b[1;33m\u001b[0m\u001b[1;33m\u001b[0m\u001b[0m\n\u001b[0m\u001b[0;32m    257\u001b[0m                 \u001b[0mshow_inline_matplotlib_plots\u001b[0m\u001b[1;33m(\u001b[0m\u001b[1;33m)\u001b[0m\u001b[1;33m\u001b[0m\u001b[1;33m\u001b[0m\u001b[0m\n\u001b[0;32m    258\u001b[0m                 \u001b[1;32mif\u001b[0m \u001b[0mself\u001b[0m\u001b[1;33m.\u001b[0m\u001b[0mauto_display\u001b[0m \u001b[1;32mand\u001b[0m \u001b[0mself\u001b[0m\u001b[1;33m.\u001b[0m\u001b[0mresult\u001b[0m \u001b[1;32mis\u001b[0m \u001b[1;32mnot\u001b[0m \u001b[1;32mNone\u001b[0m\u001b[1;33m:\u001b[0m\u001b[1;33m\u001b[0m\u001b[1;33m\u001b[0m\u001b[0m\n",
          "\u001b[1;32m<ipython-input-3-9768331345ce>\u001b[0m in \u001b[0;36mdisplayDFT\u001b[1;34m(numberOfPeriods, samplesPerPeriod, zeroPadding)\u001b[0m\n\u001b[0;32m     59\u001b[0m     \u001b[1;31m# Signal\u001b[0m\u001b[1;33m\u001b[0m\u001b[1;33m\u001b[0m\u001b[1;33m\u001b[0m\u001b[0m\n\u001b[0;32m     60\u001b[0m     \u001b[0max1\u001b[0m\u001b[1;33m.\u001b[0m\u001b[0mplot\u001b[0m\u001b[1;33m(\u001b[0m\u001b[0mt\u001b[0m\u001b[1;33m,\u001b[0m \u001b[0msignal\u001b[0m\u001b[1;33m)\u001b[0m\u001b[1;33m\u001b[0m\u001b[1;33m\u001b[0m\u001b[0m\n\u001b[1;32m---> 61\u001b[1;33m     \u001b[0max1\u001b[0m\u001b[1;33m.\u001b[0m\u001b[0mtitle\u001b[0m\u001b[1;33m(\u001b[0m\u001b[1;34m'Signal'\u001b[0m\u001b[1;33m)\u001b[0m\u001b[1;33m\u001b[0m\u001b[1;33m\u001b[0m\u001b[0m\n\u001b[0m\u001b[0;32m     62\u001b[0m     \u001b[0max1\u001b[0m\u001b[1;33m.\u001b[0m\u001b[0mxlabel\u001b[0m\u001b[1;33m(\u001b[0m\u001b[1;34m't (s)'\u001b[0m\u001b[1;33m)\u001b[0m\u001b[1;33m\u001b[0m\u001b[1;33m\u001b[0m\u001b[0m\n\u001b[0;32m     63\u001b[0m \u001b[1;33m\u001b[0m\u001b[0m\n",
          "\u001b[1;31mTypeError\u001b[0m: 'Text' object is not callable"
         ]
        }
       ]
      }
     },
     "242bd1e8487343f9844b612e7d398f23": {
      "model_module": "jupyter-matplotlib",
      "model_module_version": "^0.7.4",
      "model_name": "ToolbarModel",
      "state": {
       "layout": "IPY_MODEL_00c56cb5a0f94cb58785fb0ef6c7d0a0",
       "toolitems": [
        [
         "Home",
         "Reset original view",
         "home",
         "home"
        ],
        [
         "Back",
         "Back to previous view",
         "arrow-left",
         "back"
        ],
        [
         "Forward",
         "Forward to next view",
         "arrow-right",
         "forward"
        ],
        [
         "Pan",
         "Left button pans, Right button zooms\nx/y fixes axis, CTRL fixes aspect",
         "arrows",
         "pan"
        ],
        [
         "Zoom",
         "Zoom to rectangle\nx/y fixes axis, CTRL fixes aspect",
         "square-o",
         "zoom"
        ],
        [
         "Download",
         "Download plot",
         "floppy-o",
         "save_figure"
        ]
       ]
      }
     },
     "244db5c571924b909d8a8687ba84438a": {
      "model_module": "@jupyter-widgets/controls",
      "model_module_version": "1.5.0",
      "model_name": "SliderStyleModel",
      "state": {
       "description_width": "initial"
      }
     },
     "245af76992ef47378cb0f6104728d8be": {
      "model_module": "@jupyter-widgets/controls",
      "model_module_version": "1.5.0",
      "model_name": "SliderStyleModel",
      "state": {
       "description_width": "initial"
      }
     },
     "2475c7374d1b4dcc985df69a95e7eba7": {
      "model_module": "@jupyter-widgets/output",
      "model_module_version": "1.0.0",
      "model_name": "OutputModel",
      "state": {
       "layout": "IPY_MODEL_d763bd2018b941d8a0c9a03f3facd624"
      }
     },
     "247d97f7aaaa4bff9dada32a73f34e7c": {
      "model_module": "@jupyter-widgets/controls",
      "model_module_version": "1.5.0",
      "model_name": "VBoxModel",
      "state": {
       "_dom_classes": [
        "widget-interact"
       ],
       "children": [
        "IPY_MODEL_fa35ac7e674d436c8108c4f083519581",
        "IPY_MODEL_e158b0cdd564432c91fadf1f0a6ce49e",
        "IPY_MODEL_df82da0c575040b8a3411dc58c7b194b",
        "IPY_MODEL_52bdb70e938946c48d1790c72857e85f"
       ],
       "layout": "IPY_MODEL_ab344120a2284f7b958a2aa3d692e21b"
      }
     },
     "24933e7e992c4c939fe1850a67138eab": {
      "model_module": "@jupyter-widgets/output",
      "model_module_version": "1.0.0",
      "model_name": "OutputModel",
      "state": {
       "layout": "IPY_MODEL_7a2300ed79c74294bbb83051dc2e1f87"
      }
     },
     "24b6cf4658984e749a93346b0cdf3860": {
      "model_module": "@jupyter-widgets/base",
      "model_module_version": "1.2.0",
      "model_name": "LayoutModel",
      "state": {}
     },
     "24ff418f9d104b35a72f2321b1910d06": {
      "model_module": "@jupyter-widgets/output",
      "model_module_version": "1.0.0",
      "model_name": "OutputModel",
      "state": {
       "layout": "IPY_MODEL_0ca84ecd174e4cf3bee228f9d669403b"
      }
     },
     "2525afa6e7f84261abedfbd615bc9152": {
      "model_module": "@jupyter-widgets/controls",
      "model_module_version": "1.5.0",
      "model_name": "SliderStyleModel",
      "state": {
       "description_width": "initial"
      }
     },
     "255fad1fa5984f238384dba2b37b8037": {
      "model_module": "@jupyter-widgets/controls",
      "model_module_version": "1.5.0",
      "model_name": "IntSliderModel",
      "state": {
       "continuous_update": false,
       "description": "0-Padding",
       "layout": "IPY_MODEL_a98b3909cf6f486cad66e717c7ea4ec1",
       "max": 500,
       "style": "IPY_MODEL_48764feaf9694770a0860a30e9a14e33"
      }
     },
     "259ea679718e4ec2892b133bbbb74380": {
      "model_module": "@jupyter-widgets/base",
      "model_module_version": "1.2.0",
      "model_name": "LayoutModel",
      "state": {}
     },
     "25a0d4ac0664456caab44068824c06e4": {
      "model_module": "@jupyter-widgets/controls",
      "model_module_version": "1.5.0",
      "model_name": "SliderStyleModel",
      "state": {
       "description_width": "initial"
      }
     },
     "25b7a0e46c2b43939839b885588d2e95": {
      "model_module": "@jupyter-widgets/controls",
      "model_module_version": "1.5.0",
      "model_name": "SliderStyleModel",
      "state": {
       "description_width": "initial"
      }
     },
     "25bc620f47d9426b87fecab0c72a4972": {
      "model_module": "@jupyter-widgets/output",
      "model_module_version": "1.0.0",
      "model_name": "OutputModel",
      "state": {
       "layout": "IPY_MODEL_15be57ad4ada4f148bb672f8bcfccc99"
      }
     },
     "25e143cbe51f416bb0556d60dbfd5971": {
      "model_module": "@jupyter-widgets/base",
      "model_module_version": "1.2.0",
      "model_name": "LayoutModel",
      "state": {}
     },
     "25ef476366d341fa9c55128a6930b7d3": {
      "model_module": "@jupyter-widgets/controls",
      "model_module_version": "1.5.0",
      "model_name": "IntSliderModel",
      "state": {
       "continuous_update": false,
       "description": "Sampling (Hz)",
       "layout": "IPY_MODEL_9b9d34f1316744f282fea4220cdae472",
       "max": 20,
       "min": 2,
       "step": 2,
       "style": "IPY_MODEL_b157afc0709f49918cf782ef7f70796c",
       "value": 4
      }
     },
     "25fc6a2b556c481dacc41e774df6f296": {
      "model_module": "@jupyter-widgets/output",
      "model_module_version": "1.0.0",
      "model_name": "OutputModel",
      "state": {
       "layout": "IPY_MODEL_c2843c19e0bf4cccbb8fd347f08ae853",
       "outputs": [
        {
         "data": {
          "application/vnd.jupyter.widget-view+json": {
           "model_id": "78f42287cdf2450f8baa97103ae52ea9",
           "version_major": 2,
           "version_minor": 0
          },
          "text/plain": "Canvas(toolbar=Toolbar(toolitems=[('Home', 'Reset original view', 'home', 'home'), ('Back', 'Back to previous …"
         },
         "metadata": {},
         "output_type": "display_data"
        }
       ]
      }
     },
     "26054f8c17a245afb466276507107536": {
      "model_module": "@jupyter-widgets/controls",
      "model_module_version": "1.5.0",
      "model_name": "IntSliderModel",
      "state": {
       "continuous_update": false,
       "description": "Sampling (Hz)",
       "layout": "IPY_MODEL_ebade1cfd1b441a3b748154cb9a14f80",
       "max": 20,
       "min": 2,
       "step": 2,
       "style": "IPY_MODEL_7521fa906f9c4ca1ab8e045e050e95a7",
       "value": 4
      }
     },
     "26176e0808e1461aa860b8e01f7675e8": {
      "model_module": "@jupyter-widgets/base",
      "model_module_version": "1.2.0",
      "model_name": "LayoutModel",
      "state": {}
     },
     "2617d53440fa451c91378119df2559cb": {
      "model_module": "@jupyter-widgets/controls",
      "model_module_version": "1.5.0",
      "model_name": "VBoxModel",
      "state": {
       "_dom_classes": [
        "widget-interact"
       ],
       "children": [
        "IPY_MODEL_50d3623e560648f3a343fe318a3a3658",
        "IPY_MODEL_dbec8fae0d8f4359ab1f487a818e1dfb",
        "IPY_MODEL_30fa197ead7d4aa9b13111f820f30576",
        "IPY_MODEL_cd6d50ea2c5f40d6b7d817667b2d8331"
       ],
       "layout": "IPY_MODEL_555541d22f0049d0b2df599d9d7a10f0"
      }
     },
     "2621492471f54a598bd52997e53c8b4e": {
      "model_module": "@jupyter-widgets/controls",
      "model_module_version": "1.5.0",
      "model_name": "VBoxModel",
      "state": {
       "_dom_classes": [
        "widget-interact"
       ],
       "children": [
        "IPY_MODEL_cb9918fcc7db479d96c59941d1cc345b",
        "IPY_MODEL_bea2f54b171c46378e862d96c92ad0f1",
        "IPY_MODEL_8225d35e9cb841d0aeef4c788e6fb732",
        "IPY_MODEL_b0c1846c844345759a168e913b94bcd4"
       ],
       "layout": "IPY_MODEL_7eefde7150354843ab6fd65d555d5b38"
      }
     },
     "266b0e8b6efd46d78b0d93a84b2d0325": {
      "model_module": "@jupyter-widgets/controls",
      "model_module_version": "1.5.0",
      "model_name": "SliderStyleModel",
      "state": {
       "description_width": "initial"
      }
     },
     "267b78f7c2f943b48eb30357b4588f43": {
      "model_module": "@jupyter-widgets/base",
      "model_module_version": "1.2.0",
      "model_name": "LayoutModel",
      "state": {}
     },
     "268174f6e3604ace80ea783d3932cd90": {
      "model_module": "@jupyter-widgets/base",
      "model_module_version": "1.2.0",
      "model_name": "LayoutModel",
      "state": {}
     },
     "268a863425304d6f8384fcd7d42549d3": {
      "model_module": "@jupyter-widgets/controls",
      "model_module_version": "1.5.0",
      "model_name": "HBoxModel",
      "state": {
       "children": [
        "IPY_MODEL_d6d1df9792ea40aca5cb8b03f2c8da24",
        "IPY_MODEL_0c7709a45f7a4924b9764fb9219f1597"
       ],
       "layout": "IPY_MODEL_686939bf1d97464f82b622140efab03d"
      }
     },
     "26a30ac475d745e49828ecf6b06f2d9d": {
      "model_module": "@jupyter-widgets/controls",
      "model_module_version": "1.5.0",
      "model_name": "SliderStyleModel",
      "state": {
       "description_width": "initial"
      }
     },
     "26abb5de0d3847d4ab731b439758a51b": {
      "model_module": "@jupyter-widgets/base",
      "model_module_version": "1.2.0",
      "model_name": "LayoutModel",
      "state": {}
     },
     "26ba325a180b4bc8b9ae7e087884e6bf": {
      "model_module": "@jupyter-widgets/base",
      "model_module_version": "1.2.0",
      "model_name": "LayoutModel",
      "state": {}
     },
     "26cdd946af07490fa21a4ee68454a554": {
      "model_module": "@jupyter-widgets/controls",
      "model_module_version": "1.5.0",
      "model_name": "IntSliderModel",
      "state": {
       "continuous_update": false,
       "description": "0-Padding",
       "layout": "IPY_MODEL_75adfe1eacf34c1a83a80dccfff8f64a",
       "max": 500,
       "style": "IPY_MODEL_7c2d299d2d964b04a7aab0f561292954"
      }
     },
     "272c69328148407da22e2f6ebf9f06ba": {
      "model_module": "@jupyter-widgets/controls",
      "model_module_version": "1.5.0",
      "model_name": "IntSliderModel",
      "state": {
       "continuous_update": false,
       "description": "0-Padding",
       "layout": "IPY_MODEL_93e5241d08454614a9fbd70e2da45676",
       "max": 240,
       "step": 8,
       "style": "IPY_MODEL_87fc1edad1d94f1f93cbff71d1105af5"
      }
     },
     "272dc035710a4ca08bb9c7360d961c74": {
      "model_module": "@jupyter-widgets/controls",
      "model_module_version": "1.5.0",
      "model_name": "IntSliderModel",
      "state": {
       "continuous_update": false,
       "description": "Sampling (Hz)",
       "layout": "IPY_MODEL_f9f59596cc434129b2b5da3e5e0cbc05",
       "max": 20,
       "min": 2,
       "step": 2,
       "style": "IPY_MODEL_f0816a64439c44cc9132ef14b48c2ac6",
       "value": 4
      }
     },
     "274590db182040709d360594d354404f": {
      "model_module": "jupyter-matplotlib",
      "model_module_version": "^0.7.4",
      "model_name": "ToolbarModel",
      "state": {
       "layout": "IPY_MODEL_6fda6d727f6640a8a9f53b8bdb275b33",
       "toolitems": [
        [
         "Home",
         "Reset original view",
         "home",
         "home"
        ],
        [
         "Back",
         "Back to previous view",
         "arrow-left",
         "back"
        ],
        [
         "Forward",
         "Forward to next view",
         "arrow-right",
         "forward"
        ],
        [
         "Pan",
         "Left button pans, Right button zooms\nx/y fixes axis, CTRL fixes aspect",
         "arrows",
         "pan"
        ],
        [
         "Zoom",
         "Zoom to rectangle\nx/y fixes axis, CTRL fixes aspect",
         "square-o",
         "zoom"
        ],
        [
         "Download",
         "Download plot",
         "floppy-o",
         "save_figure"
        ]
       ]
      }
     },
     "275ee780c22e4e94a61f5d6ce6471e3d": {
      "model_module": "@jupyter-widgets/controls",
      "model_module_version": "1.5.0",
      "model_name": "IntSliderModel",
      "state": {
       "continuous_update": false,
       "description": "0-Padding",
       "layout": "IPY_MODEL_6f88bda3196b452db15561b0c89da7ba",
       "max": 432,
       "step": 14,
       "style": "IPY_MODEL_1733a37507e344009aae3bf757a56f6b",
       "value": 252
      }
     },
     "27af4299431a433bb2a0e420031d60e5": {
      "model_module": "@jupyter-widgets/controls",
      "model_module_version": "1.5.0",
      "model_name": "IntSliderModel",
      "state": {
       "continuous_update": false,
       "description": "0-Padding",
       "layout": "IPY_MODEL_11f1fcb682344abaa89dac017c8c24de",
       "max": 500,
       "style": "IPY_MODEL_8385c0be605b4e029aad347ee05859bb"
      }
     },
     "27c55a4ebfcd480ca5a51b885ba9c8b3": {
      "model_module": "@jupyter-widgets/base",
      "model_module_version": "1.2.0",
      "model_name": "LayoutModel",
      "state": {}
     },
     "2807fd563a6949cca512d11397b13c8a": {
      "model_module": "@jupyter-widgets/base",
      "model_module_version": "1.2.0",
      "model_name": "LayoutModel",
      "state": {}
     },
     "281ae8634a644834948803005b543a34": {
      "model_module": "@jupyter-widgets/base",
      "model_module_version": "1.2.0",
      "model_name": "LayoutModel",
      "state": {}
     },
     "2837531a4b9b478e9c0acacc1d393ea8": {
      "model_module": "@jupyter-widgets/base",
      "model_module_version": "1.2.0",
      "model_name": "LayoutModel",
      "state": {}
     },
     "286917659e6c41ca878d8f2913cc85ef": {
      "model_module": "@jupyter-widgets/controls",
      "model_module_version": "1.5.0",
      "model_name": "VBoxModel",
      "state": {
       "_dom_classes": [
        "widget-interact"
       ],
       "children": [
        "IPY_MODEL_a5118ce76d2f4307939cb945479fe7d6",
        "IPY_MODEL_14a9bdc9cc0945b5bb0a29179ee36414",
        "IPY_MODEL_e571ac9efdf241ce908425a1f2eca9f4",
        "IPY_MODEL_a3d364ce5a3d461d8b35b822829aa3d6"
       ],
       "layout": "IPY_MODEL_fe7bfba7bf2a4870989f6a2fd07d79f6"
      }
     },
     "286ab550061642429d5a66f0c98dc707": {
      "model_module": "@jupyter-widgets/base",
      "model_module_version": "1.2.0",
      "model_name": "LayoutModel",
      "state": {}
     },
     "28e198da191f41ca8d26ea482669d7a9": {
      "model_module": "@jupyter-widgets/controls",
      "model_module_version": "1.5.0",
      "model_name": "IntSliderModel",
      "state": {
       "continuous_update": false,
       "description": "Periods",
       "layout": "IPY_MODEL_413589fd7915443db419eb7be16f91f9",
       "max": 50,
       "min": 1,
       "style": "IPY_MODEL_d527afcc7e7a4fd08fc9119ed98a8e0b",
       "value": 2
      }
     },
     "28e1c7c883df459b98f588559dcc1f63": {
      "model_module": "@jupyter-widgets/base",
      "model_module_version": "1.2.0",
      "model_name": "LayoutModel",
      "state": {
       "flex_flow": "row wrap"
      }
     },
     "28ebbc188bec4b1c899bde9315cea612": {
      "model_module": "@jupyter-widgets/base",
      "model_module_version": "1.2.0",
      "model_name": "LayoutModel",
      "state": {}
     },
     "2906ba1959214cda873f23024dde950d": {
      "model_module": "@jupyter-widgets/base",
      "model_module_version": "1.2.0",
      "model_name": "LayoutModel",
      "state": {}
     },
     "29657e6215b64119b3ffd4a7d953e307": {
      "model_module": "@jupyter-widgets/controls",
      "model_module_version": "1.5.0",
      "model_name": "VBoxModel",
      "state": {
       "_dom_classes": [
        "widget-interact"
       ],
       "children": [
        "IPY_MODEL_28e198da191f41ca8d26ea482669d7a9",
        "IPY_MODEL_8c0d94c485324970816a4f6f975c92e1",
        "IPY_MODEL_0509305ab7ea47709e27856382ee8ab6",
        "IPY_MODEL_6a0aba65dabe4a3abb97e2696be8cf9a"
       ],
       "layout": "IPY_MODEL_4585b9e1b8ff4ca98e82853ef7e0533c"
      }
     },
     "29b56c2ae9074f95b825061b9f2dea0a": {
      "model_module": "@jupyter-widgets/base",
      "model_module_version": "1.2.0",
      "model_name": "LayoutModel",
      "state": {}
     },
     "29bac9c5089d43509a64960a4332d1df": {
      "model_module": "@jupyter-widgets/base",
      "model_module_version": "1.2.0",
      "model_name": "LayoutModel",
      "state": {}
     },
     "29de83db2d0f4222b685e43e30055a70": {
      "model_module": "@jupyter-widgets/base",
      "model_module_version": "1.2.0",
      "model_name": "LayoutModel",
      "state": {}
     },
     "2a09ea3d7a3c463199beebe58660f285": {
      "model_module": "@jupyter-widgets/base",
      "model_module_version": "1.2.0",
      "model_name": "LayoutModel",
      "state": {}
     },
     "2a39245542ad4080b9de7db611ca0762": {
      "model_module": "@jupyter-widgets/output",
      "model_module_version": "1.0.0",
      "model_name": "OutputModel",
      "state": {
       "layout": "IPY_MODEL_f59950d49a5f473096df8360848f28ee"
      }
     },
     "2a5e37b50eb44ff686ceb16320e16518": {
      "model_module": "@jupyter-widgets/base",
      "model_module_version": "1.2.0",
      "model_name": "LayoutModel",
      "state": {}
     },
     "2a8ee51ae639496bbc811f3717186125": {
      "model_module": "@jupyter-widgets/base",
      "model_module_version": "1.2.0",
      "model_name": "LayoutModel",
      "state": {}
     },
     "2a936792684c4e40b4837fadbec5d462": {
      "model_module": "@jupyter-widgets/controls",
      "model_module_version": "1.5.0",
      "model_name": "IntSliderModel",
      "state": {
       "continuous_update": false,
       "description": "0-Padding",
       "layout": "IPY_MODEL_9a0bd7e74cba48fe928c57bcaadda40f",
       "max": 500,
       "style": "IPY_MODEL_4cd954d3293f43969705a0e395e5faf3"
      }
     },
     "2a9b4cf965cd4c7ca098c98da0dd112b": {
      "model_module": "@jupyter-widgets/base",
      "model_module_version": "1.2.0",
      "model_name": "LayoutModel",
      "state": {}
     },
     "2aa00a532d444c1381a4b22e34a8bd61": {
      "model_module": "@jupyter-widgets/controls",
      "model_module_version": "1.5.0",
      "model_name": "IntSliderModel",
      "state": {
       "continuous_update": false,
       "description": "0-Padding",
       "layout": "IPY_MODEL_60c0f6c94e05492ea699fdb2c3619523",
       "max": 180,
       "step": 6,
       "style": "IPY_MODEL_2be5bf527dec4b05943006f84ab0a800"
      }
     },
     "2abe03ef7db44d7abc197fceefb0fd32": {
      "model_module": "@jupyter-widgets/output",
      "model_module_version": "1.0.0",
      "model_name": "OutputModel",
      "state": {
       "layout": "IPY_MODEL_4a2c8d74fa2e4f11bc53e3b46628b915"
      }
     },
     "2ac240f0faa4472c8c4c00c6119fb0d3": {
      "model_module": "@jupyter-widgets/controls",
      "model_module_version": "1.5.0",
      "model_name": "SliderStyleModel",
      "state": {
       "description_width": "initial"
      }
     },
     "2b10eb1bf7904017938d00cc93c29a13": {
      "model_module": "@jupyter-widgets/base",
      "model_module_version": "1.2.0",
      "model_name": "LayoutModel",
      "state": {}
     },
     "2b156acb8ed2426b8f6d371673ec6dec": {
      "model_module": "@jupyter-widgets/base",
      "model_module_version": "1.2.0",
      "model_name": "LayoutModel",
      "state": {}
     },
     "2b229c5661f446c5b6d864cd5f9aeb43": {
      "model_module": "@jupyter-widgets/controls",
      "model_module_version": "1.5.0",
      "model_name": "IntSliderModel",
      "state": {
       "description": "Periods",
       "layout": "IPY_MODEL_08e9b7633f9e4909a0cfa3e105932290",
       "max": 50,
       "min": 1,
       "style": "IPY_MODEL_12827e072dbe4d079f4a59b5d536e4ca",
       "value": 21
      }
     },
     "2b601d9b1879438f9e2c07c6a33b615e": {
      "model_module": "jupyter-matplotlib",
      "model_module_version": "^0.7.4",
      "model_name": "ToolbarModel",
      "state": {
       "layout": "IPY_MODEL_545eefccfe244462aa930c0bbc788ea8",
       "toolitems": [
        [
         "Home",
         "Reset original view",
         "home",
         "home"
        ],
        [
         "Back",
         "Back to previous view",
         "arrow-left",
         "back"
        ],
        [
         "Forward",
         "Forward to next view",
         "arrow-right",
         "forward"
        ],
        [
         "Pan",
         "Left button pans, Right button zooms\nx/y fixes axis, CTRL fixes aspect",
         "arrows",
         "pan"
        ],
        [
         "Zoom",
         "Zoom to rectangle\nx/y fixes axis, CTRL fixes aspect",
         "square-o",
         "zoom"
        ],
        [
         "Download",
         "Download plot",
         "floppy-o",
         "save_figure"
        ]
       ]
      }
     },
     "2b79c29a1dd447a39e90af5d7e5fba18": {
      "model_module": "@jupyter-widgets/controls",
      "model_module_version": "1.5.0",
      "model_name": "SliderStyleModel",
      "state": {
       "description_width": "initial"
      }
     },
     "2ba0f32fecdd4114b1c6eae9ac986ca2": {
      "model_module": "@jupyter-widgets/controls",
      "model_module_version": "1.5.0",
      "model_name": "IntSliderModel",
      "state": {
       "continuous_update": false,
       "description": "0-Padding",
       "layout": "IPY_MODEL_3d382418ae2348f89d3cb121f2d8138a",
       "max": 1998,
       "step": 66,
       "style": "IPY_MODEL_a26d3a7f8ea647368acd95052e2b5df8",
       "value": 1980
      }
     },
     "2bc1d94f9f7644a18f2bc0704eb5e10e": {
      "model_module": "@jupyter-widgets/controls",
      "model_module_version": "1.5.0",
      "model_name": "SliderStyleModel",
      "state": {
       "description_width": "initial"
      }
     },
     "2be5bf527dec4b05943006f84ab0a800": {
      "model_module": "@jupyter-widgets/controls",
      "model_module_version": "1.5.0",
      "model_name": "SliderStyleModel",
      "state": {
       "description_width": "initial"
      }
     },
     "2bead90901ab4124876002554c317dc4": {
      "model_module": "@jupyter-widgets/base",
      "model_module_version": "1.2.0",
      "model_name": "LayoutModel",
      "state": {}
     },
     "2bffbf047cef4f79847c9747d578835a": {
      "model_module": "@jupyter-widgets/base",
      "model_module_version": "1.2.0",
      "model_name": "LayoutModel",
      "state": {}
     },
     "2c63a2cfc66b49f9b968a917ce42a253": {
      "model_module": "@jupyter-widgets/controls",
      "model_module_version": "1.5.0",
      "model_name": "VBoxModel",
      "state": {
       "_dom_classes": [
        "widget-interact"
       ],
       "children": [
        "IPY_MODEL_ebc1118b62844ce79fa0e8dfc3708efb",
        "IPY_MODEL_92601aba97c8448396a4dee83daec03c",
        "IPY_MODEL_83da9457011b4a2f86489489512e2e22",
        "IPY_MODEL_2abe03ef7db44d7abc197fceefb0fd32"
       ],
       "layout": "IPY_MODEL_0611321e060444dc9ecf537088c0b37d"
      }
     },
     "2cc12022a76445719004fb9e6d53ad3d": {
      "model_module": "@jupyter-widgets/controls",
      "model_module_version": "1.5.0",
      "model_name": "IntSliderModel",
      "state": {
       "continuous_update": false,
       "description": "Sampling (Hz)",
       "layout": "IPY_MODEL_f20b4d01ea5b418780c8a400987fb14a",
       "max": 20,
       "min": 2,
       "step": 2,
       "style": "IPY_MODEL_5bb936cbcfcd464b99fc22951a92c51f",
       "value": 10
      }
     },
     "2cc64595695046d0bfc74de966985c29": {
      "model_module": "@jupyter-widgets/output",
      "model_module_version": "1.0.0",
      "model_name": "OutputModel",
      "state": {
       "layout": "IPY_MODEL_e0bcd5143599405aa919be11f0b71f7a"
      }
     },
     "2cd36de1e9194654bfe001fa60bd3604": {
      "model_module": "@jupyter-widgets/controls",
      "model_module_version": "1.5.0",
      "model_name": "SliderStyleModel",
      "state": {
       "description_width": "initial"
      }
     },
     "2cef9fd227af4e41a021efd3eb81e5ec": {
      "model_module": "@jupyter-widgets/base",
      "model_module_version": "1.2.0",
      "model_name": "LayoutModel",
      "state": {}
     },
     "2cf29eb8478d46f3913c5a3b2e2d5f74": {
      "model_module": "@jupyter-widgets/base",
      "model_module_version": "1.2.0",
      "model_name": "LayoutModel",
      "state": {}
     },
     "2cf916e96feb4414ac85efe409c6e029": {
      "model_module": "@jupyter-widgets/controls",
      "model_module_version": "1.5.0",
      "model_name": "VBoxModel",
      "state": {
       "_dom_classes": [
        "widget-interact"
       ],
       "children": [
        "IPY_MODEL_c84881c77f90439f86a4958864b57014",
        "IPY_MODEL_deb00f336c2541bea1332930e96ee003",
        "IPY_MODEL_67ac818a6ca643afb347bb112ce6765d",
        "IPY_MODEL_3034da5b37ef4f8699c1d93a94d241dd"
       ],
       "layout": "IPY_MODEL_6e0a5387fa354826b14fc1feee802225"
      }
     },
     "2d0ca4d74e8a458888624f751f813786": {
      "model_module": "@jupyter-widgets/base",
      "model_module_version": "1.2.0",
      "model_name": "LayoutModel",
      "state": {}
     },
     "2d153ce4e31d44a6b76baa0db971e8b5": {
      "model_module": "@jupyter-widgets/base",
      "model_module_version": "1.2.0",
      "model_name": "LayoutModel",
      "state": {}
     },
     "2d1a0aae057b40c087f7523dffebfafd": {
      "model_module": "@jupyter-widgets/controls",
      "model_module_version": "1.5.0",
      "model_name": "SliderStyleModel",
      "state": {
       "description_width": "initial"
      }
     },
     "2d3a791d5951469b9b88bc5e6332ae5e": {
      "model_module": "@jupyter-widgets/controls",
      "model_module_version": "1.5.0",
      "model_name": "IntSliderModel",
      "state": {
       "continuous_update": false,
       "description": "Sampling (Hz)",
       "layout": "IPY_MODEL_7bbb5d8ffabc47b79cdfa0d536710ff3",
       "max": 20,
       "min": 2,
       "step": 2,
       "style": "IPY_MODEL_8a58c3f027ca4f208e678ea4d084b3a3",
       "value": 4
      }
     },
     "2d441dc489b7421d940e89356e351124": {
      "model_module": "@jupyter-widgets/controls",
      "model_module_version": "1.5.0",
      "model_name": "SliderStyleModel",
      "state": {
       "description_width": "initial"
      }
     },
     "2dbba1c27a8a4f7baea5954a5290e93e": {
      "model_module": "@jupyter-widgets/controls",
      "model_module_version": "1.5.0",
      "model_name": "SliderStyleModel",
      "state": {
       "description_width": "initial"
      }
     },
     "2dd970a8a128475b8597de4e9300976c": {
      "model_module": "@jupyter-widgets/controls",
      "model_module_version": "1.5.0",
      "model_name": "SliderStyleModel",
      "state": {
       "description_width": "initial"
      }
     },
     "2df96b9bf7f749f1a452870169e8403e": {
      "model_module": "@jupyter-widgets/base",
      "model_module_version": "1.2.0",
      "model_name": "LayoutModel",
      "state": {}
     },
     "2e3807d67c724d8a951c97ee461c1ad6": {
      "model_module": "@jupyter-widgets/controls",
      "model_module_version": "1.5.0",
      "model_name": "IntSliderModel",
      "state": {
       "continuous_update": false,
       "description": "Sampling (Hz)",
       "layout": "IPY_MODEL_55d84c4157844a6baef89976bae25380",
       "max": 12,
       "min": 2,
       "step": 2,
       "style": "IPY_MODEL_b22f444f77944c699031d62586697ed6",
       "value": 6
      }
     },
     "2e569f31b029401da31403eeea0ef3dd": {
      "model_module": "@jupyter-widgets/controls",
      "model_module_version": "1.5.0",
      "model_name": "SliderStyleModel",
      "state": {
       "description_width": "initial"
      }
     },
     "2e5cab94a4f6468698f8921ee5673e25": {
      "model_module": "@jupyter-widgets/base",
      "model_module_version": "1.2.0",
      "model_name": "LayoutModel",
      "state": {}
     },
     "2e74f9e0d6184eb8b37c337c1d2ed148": {
      "model_module": "@jupyter-widgets/base",
      "model_module_version": "1.2.0",
      "model_name": "LayoutModel",
      "state": {}
     },
     "2eed60f6ed6446c2855ba07829e1910b": {
      "model_module": "@jupyter-widgets/base",
      "model_module_version": "1.2.0",
      "model_name": "LayoutModel",
      "state": {}
     },
     "2ef3631a1728481f9170d18f143f6207": {
      "model_module": "@jupyter-widgets/base",
      "model_module_version": "1.2.0",
      "model_name": "LayoutModel",
      "state": {}
     },
     "2ef467456e904ee79be1178ecc909043": {
      "model_module": "@jupyter-widgets/base",
      "model_module_version": "1.2.0",
      "model_name": "LayoutModel",
      "state": {}
     },
     "2f01b5c580844d6c8ba92967861f62d8": {
      "model_module": "@jupyter-widgets/controls",
      "model_module_version": "1.5.0",
      "model_name": "IntSliderModel",
      "state": {
       "continuous_update": false,
       "description": "Sampling (Hz)",
       "layout": "IPY_MODEL_b3118ea531a94dca974863b24c156cce",
       "max": 12,
       "min": 2,
       "step": 2,
       "style": "IPY_MODEL_e157a60c777d444da5800e82ee7a859a",
       "value": 10
      }
     },
     "2f0c3449c48a460ab05dd6df5999da3a": {
      "model_module": "@jupyter-widgets/base",
      "model_module_version": "1.2.0",
      "model_name": "LayoutModel",
      "state": {}
     },
     "2f14cbfed40444128e45f707b7059530": {
      "model_module": "@jupyter-widgets/base",
      "model_module_version": "1.2.0",
      "model_name": "LayoutModel",
      "state": {}
     },
     "2f37082132e54b90bc79a28684b21b79": {
      "model_module": "@jupyter-widgets/output",
      "model_module_version": "1.0.0",
      "model_name": "OutputModel",
      "state": {
       "layout": "IPY_MODEL_d39157a8801c4c158684b8843eb7693a",
       "outputs": [
        {
         "data": {
          "application/vnd.jupyter.widget-view+json": {
           "model_id": "aee12fda779e46f18a434b78d1e0664a",
           "version_major": 2,
           "version_minor": 0
          },
          "text/plain": "Canvas(toolbar=Toolbar(toolitems=[('Home', 'Reset original view', 'home', 'home'), ('Back', 'Back to previous …"
         },
         "metadata": {},
         "output_type": "display_data"
        }
       ]
      }
     },
     "2f42e0bcba5c455e98b1c5f12c15a962": {
      "model_module": "@jupyter-widgets/base",
      "model_module_version": "1.2.0",
      "model_name": "LayoutModel",
      "state": {}
     },
     "2f572c93ce3d415fad49210c716ca89a": {
      "model_module": "@jupyter-widgets/controls",
      "model_module_version": "1.5.0",
      "model_name": "SliderStyleModel",
      "state": {
       "description_width": "initial"
      }
     },
     "2f69cf066751488b9060d57b75607373": {
      "model_module": "@jupyter-widgets/base",
      "model_module_version": "1.2.0",
      "model_name": "LayoutModel",
      "state": {}
     },
     "2fa947c1fbc14fefb0b4ab0f822b8fbe": {
      "model_module": "@jupyter-widgets/controls",
      "model_module_version": "1.5.0",
      "model_name": "IntSliderModel",
      "state": {
       "continuous_update": false,
       "description": "Periods",
       "layout": "IPY_MODEL_1905969accd3437f89e1dde97beeb9f0",
       "max": 50,
       "min": 1,
       "style": "IPY_MODEL_bf8796f8191b431f85efde7598786583",
       "value": 2
      }
     },
     "3014435ad30446d2b929f71453f883b3": {
      "model_module": "@jupyter-widgets/base",
      "model_module_version": "1.2.0",
      "model_name": "LayoutModel",
      "state": {}
     },
     "3016653f77ff43969bad8417b735d96c": {
      "model_module": "@jupyter-widgets/base",
      "model_module_version": "1.2.0",
      "model_name": "LayoutModel",
      "state": {}
     },
     "3034da5b37ef4f8699c1d93a94d241dd": {
      "model_module": "@jupyter-widgets/output",
      "model_module_version": "1.0.0",
      "model_name": "OutputModel",
      "state": {
       "layout": "IPY_MODEL_72cfdc2dc455448895fc8dfcf1e0b868"
      }
     },
     "3085ec01622c4ee9a86c3a867ab94ea2": {
      "model_module": "@jupyter-widgets/controls",
      "model_module_version": "1.5.0",
      "model_name": "HBoxModel",
      "state": {
       "children": [
        "IPY_MODEL_76a6b3eb4f3f45ccb8cd9eecd1e79f9c",
        "IPY_MODEL_2179cf2c0aa44985bf97e443bc98dafd",
        "IPY_MODEL_ceb54a7eb4be4d08bcfacb277f243580"
       ],
       "layout": "IPY_MODEL_1217758563b9491c88b6dace81941c95"
      }
     },
     "309a27c4567f4503862edb5584a54b72": {
      "model_module": "@jupyter-widgets/controls",
      "model_module_version": "1.5.0",
      "model_name": "IntSliderModel",
      "state": {
       "description": "Sampling (Hz)",
       "layout": "IPY_MODEL_4d068114d5b747dfb8903982fe9f1d1d",
       "max": 12,
       "min": 2,
       "step": 2,
       "style": "IPY_MODEL_3862023fb9d64fafb26e96fcb96453e9",
       "value": 4
      }
     },
     "30b4e0b7a8ba41e2953bb42003b8f1ba": {
      "model_module": "@jupyter-widgets/base",
      "model_module_version": "1.2.0",
      "model_name": "LayoutModel",
      "state": {}
     },
     "30db8a041b6c4f149327c21f7e6db50b": {
      "model_module": "@jupyter-widgets/controls",
      "model_module_version": "1.5.0",
      "model_name": "SliderStyleModel",
      "state": {
       "description_width": "initial"
      }
     },
     "30e0319a1a404edba19e24165ca8c206": {
      "model_module": "@jupyter-widgets/controls",
      "model_module_version": "1.5.0",
      "model_name": "IntSliderModel",
      "state": {
       "continuous_update": false,
       "description": "Periods",
       "layout": "IPY_MODEL_78b07aa788e049ab8608bba1a9ffe2dc",
       "max": 50,
       "min": 1,
       "style": "IPY_MODEL_9aa781c25f5e4893afe9d085a695f1b5",
       "value": 2
      }
     },
     "30fa197ead7d4aa9b13111f820f30576": {
      "model_module": "@jupyter-widgets/controls",
      "model_module_version": "1.5.0",
      "model_name": "IntSliderModel",
      "state": {
       "continuous_update": false,
       "description": "0-Padding",
       "layout": "IPY_MODEL_29b56c2ae9074f95b825061b9f2dea0a",
       "max": 500,
       "style": "IPY_MODEL_055d0c7aa9b4491bac0b9f94a719fcfc"
      }
     },
     "30ff27ca43eb4ecd9883f0c0beab87d1": {
      "model_module": "@jupyter-widgets/output",
      "model_module_version": "1.0.0",
      "model_name": "OutputModel",
      "state": {
       "layout": "IPY_MODEL_150eaabb4d244c15b94ddc7f48b079eb",
       "outputs": [
        {
         "data": {
          "application/vnd.jupyter.widget-view+json": {
           "model_id": "1428d3f60eff45ec8c5814a9f084abb6",
           "version_major": 2,
           "version_minor": 0
          },
          "text/plain": "Canvas(toolbar=Toolbar(toolitems=[('Home', 'Reset original view', 'home', 'home'), ('Back', 'Back to previous …"
         },
         "metadata": {},
         "output_type": "display_data"
        }
       ]
      }
     },
     "3105079ecb264501bc523a433704b026": {
      "model_module": "@jupyter-widgets/output",
      "model_module_version": "1.0.0",
      "model_name": "OutputModel",
      "state": {
       "layout": "IPY_MODEL_52c4f119a6564750a41ed425eb4e158d"
      }
     },
     "3139a99d0ced49a683692f657f2782d1": {
      "model_module": "@jupyter-widgets/controls",
      "model_module_version": "1.5.0",
      "model_name": "SliderStyleModel",
      "state": {
       "description_width": "initial"
      }
     },
     "315a0bc32c6d4b4d95396bfe042f596b": {
      "model_module": "@jupyter-widgets/controls",
      "model_module_version": "1.5.0",
      "model_name": "IntSliderModel",
      "state": {
       "continuous_update": false,
       "description": "0-Padding",
       "layout": "IPY_MODEL_d8d9aa6d10694b2db34165f0e51ba804",
       "max": 1584,
       "step": 52,
       "style": "IPY_MODEL_88164b1814ca4a51a531e2133e24b998"
      }
     },
     "318a359c78854e6592f587ff118f4a88": {
      "model_module": "@jupyter-widgets/base",
      "model_module_version": "1.2.0",
      "model_name": "LayoutModel",
      "state": {}
     },
     "31a664474777411b8a36c840745b5822": {
      "model_module": "@jupyter-widgets/controls",
      "model_module_version": "1.5.0",
      "model_name": "SliderStyleModel",
      "state": {
       "description_width": "initial"
      }
     },
     "31c33a6bbc824d3282bc0b46ad0ad029": {
      "model_module": "@jupyter-widgets/output",
      "model_module_version": "1.0.0",
      "model_name": "OutputModel",
      "state": {
       "layout": "IPY_MODEL_8859c87a608c4cb4872b9833af1e099f",
       "outputs": [
        {
         "data": {
          "text/plain": "<Figure size 432x288 with 0 Axes>"
         },
         "metadata": {},
         "output_type": "display_data"
        }
       ]
      }
     },
     "31efac90b36e4344a590a17e315819d0": {
      "model_module": "@jupyter-widgets/base",
      "model_module_version": "1.2.0",
      "model_name": "LayoutModel",
      "state": {}
     },
     "3220ce071f904c3fb7760857f768416a": {
      "model_module": "@jupyter-widgets/base",
      "model_module_version": "1.2.0",
      "model_name": "LayoutModel",
      "state": {}
     },
     "3232525db7364fbca0210ca1570d99da": {
      "model_module": "@jupyter-widgets/controls",
      "model_module_version": "1.5.0",
      "model_name": "SliderStyleModel",
      "state": {
       "description_width": "initial"
      }
     },
     "324dd7c69c33401aae2192161f3be643": {
      "model_module": "@jupyter-widgets/output",
      "model_module_version": "1.0.0",
      "model_name": "OutputModel",
      "state": {
       "layout": "IPY_MODEL_ced588b46f8340eeb0d3d71143879ffa",
       "outputs": [
        {
         "data": {
          "application/vnd.jupyter.widget-view+json": {
           "model_id": "68f7263a340a4fcba1a111532b83c2a5",
           "version_major": 2,
           "version_minor": 0
          },
          "text/plain": "Canvas(toolbar=Toolbar(toolitems=[('Home', 'Reset original view', 'home', 'home'), ('Back', 'Back to previous …"
         },
         "metadata": {},
         "output_type": "display_data"
        }
       ]
      }
     },
     "32615696b8da479bb94171cd5930ef90": {
      "model_module": "@jupyter-widgets/base",
      "model_module_version": "1.2.0",
      "model_name": "LayoutModel",
      "state": {}
     },
     "3293b5b7f6a74ffabc057f9284521323": {
      "model_module": "@jupyter-widgets/base",
      "model_module_version": "1.2.0",
      "model_name": "LayoutModel",
      "state": {}
     },
     "32b8aa8d63964a1ebd5b0dea9f053166": {
      "model_module": "@jupyter-widgets/base",
      "model_module_version": "1.2.0",
      "model_name": "LayoutModel",
      "state": {}
     },
     "32d665a6f1da4d67ba1e863933ff2e2f": {
      "model_module": "@jupyter-widgets/base",
      "model_module_version": "1.2.0",
      "model_name": "LayoutModel",
      "state": {}
     },
     "32dd5de6b09642daa895bf14a796c10f": {
      "model_module": "@jupyter-widgets/controls",
      "model_module_version": "1.5.0",
      "model_name": "VBoxModel",
      "state": {
       "children": [
        "IPY_MODEL_81f8dda760e34373b28a30c3151f07a1",
        "IPY_MODEL_9e7b4e2290264116b50b2e7f8a612e96"
       ],
       "layout": "IPY_MODEL_a7d8f92032c2470bbd864b636b479c84"
      }
     },
     "32e4259b1b7c4b92b953c3f6213f67cf": {
      "model_module": "@jupyter-widgets/controls",
      "model_module_version": "1.5.0",
      "model_name": "SliderStyleModel",
      "state": {
       "description_width": "initial"
      }
     },
     "330de93cb0e44623b0858ef44d283700": {
      "model_module": "@jupyter-widgets/controls",
      "model_module_version": "1.5.0",
      "model_name": "SliderStyleModel",
      "state": {
       "description_width": "initial"
      }
     },
     "332dbdc613f543d49b669101e23b9f99": {
      "model_module": "@jupyter-widgets/controls",
      "model_module_version": "1.5.0",
      "model_name": "IntSliderModel",
      "state": {
       "continuous_update": false,
       "description": "0-Padding",
       "layout": "IPY_MODEL_fff031203b49413291b1f6239125eea3",
       "max": 500,
       "style": "IPY_MODEL_cf5f0e2c81874ed49170cce3f8b5b829"
      }
     },
     "337b1d0d53b54bc092ea62fa215fdab2": {
      "model_module": "@jupyter-widgets/base",
      "model_module_version": "1.2.0",
      "model_name": "LayoutModel",
      "state": {}
     },
     "337c6b0ceedf4aa399abd8721fe35e3d": {
      "model_module": "@jupyter-widgets/base",
      "model_module_version": "1.2.0",
      "model_name": "LayoutModel",
      "state": {}
     },
     "338e0950d69b40e99c11663c382ed97e": {
      "model_module": "jupyter-matplotlib",
      "model_module_version": "^0.7.4",
      "model_name": "ToolbarModel",
      "state": {
       "layout": "IPY_MODEL_f1a6f5403b7a44faab261b531fabcef7",
       "toolitems": [
        [
         "Home",
         "Reset original view",
         "home",
         "home"
        ],
        [
         "Back",
         "Back to previous view",
         "arrow-left",
         "back"
        ],
        [
         "Forward",
         "Forward to next view",
         "arrow-right",
         "forward"
        ],
        [
         "Pan",
         "Left button pans, Right button zooms\nx/y fixes axis, CTRL fixes aspect",
         "arrows",
         "pan"
        ],
        [
         "Zoom",
         "Zoom to rectangle\nx/y fixes axis, CTRL fixes aspect",
         "square-o",
         "zoom"
        ],
        [
         "Download",
         "Download plot",
         "floppy-o",
         "save_figure"
        ]
       ]
      }
     },
     "33d289f68659445f90656f4c121e205d": {
      "model_module": "@jupyter-widgets/controls",
      "model_module_version": "1.5.0",
      "model_name": "IntSliderModel",
      "state": {
       "continuous_update": false,
       "description": "Periods",
       "layout": "IPY_MODEL_4abbbdd7a0c149d0a7b3f585b575732d",
       "max": 50,
       "min": 1,
       "style": "IPY_MODEL_12bbedd342cb460e8291e11ef287ef30",
       "value": 2
      }
     },
     "33d577c8a6bc41e1b091805a3d0b0286": {
      "model_module": "@jupyter-widgets/base",
      "model_module_version": "1.2.0",
      "model_name": "LayoutModel",
      "state": {}
     },
     "340a2db74c5a418d8d59b74acbd5a3d2": {
      "model_module": "@jupyter-widgets/controls",
      "model_module_version": "1.5.0",
      "model_name": "IntSliderModel",
      "state": {
       "continuous_update": false,
       "description": "Periods",
       "layout": "IPY_MODEL_4df0b10154bf4e7eb5a1615b9336c062",
       "max": 50,
       "min": 1,
       "style": "IPY_MODEL_e22561ec9f2a40b1ad855471fc7dbce9",
       "value": 2
      }
     },
     "340dbc2785f1414bba6538014a579231": {
      "model_module": "@jupyter-widgets/base",
      "model_module_version": "1.2.0",
      "model_name": "LayoutModel",
      "state": {}
     },
     "345568f889c34c1b953ed60d43bc3c75": {
      "model_module": "@jupyter-widgets/output",
      "model_module_version": "1.0.0",
      "model_name": "OutputModel",
      "state": {
       "layout": "IPY_MODEL_dbb6ce84e0f84deab27421568f59a8bc",
       "outputs": [
        {
         "data": {
          "application/vnd.jupyter.widget-view+json": {
           "model_id": "6b03037f4eda4395abef699e45d669fd",
           "version_major": 2,
           "version_minor": 0
          },
          "text/plain": "Canvas(toolbar=Toolbar(toolitems=[('Home', 'Reset original view', 'home', 'home'), ('Back', 'Back to previous …"
         },
         "metadata": {},
         "output_type": "display_data"
        }
       ]
      }
     },
     "3471cb0b104b40d783f8e82e362e6968": {
      "model_module": "@jupyter-widgets/output",
      "model_module_version": "1.0.0",
      "model_name": "OutputModel",
      "state": {
       "layout": "IPY_MODEL_0ad5d6ed1d594963aa2c621550d1dbea"
      }
     },
     "3494cb3055d8406fa263653aff40a066": {
      "model_module": "@jupyter-widgets/base",
      "model_module_version": "1.2.0",
      "model_name": "LayoutModel",
      "state": {}
     },
     "349e731364af433aa203d319b3e34253": {
      "model_module": "@jupyter-widgets/controls",
      "model_module_version": "1.5.0",
      "model_name": "SliderStyleModel",
      "state": {
       "description_width": "initial"
      }
     },
     "34b32d95200d4818b6e6d21afb258ffc": {
      "model_module": "@jupyter-widgets/base",
      "model_module_version": "1.2.0",
      "model_name": "LayoutModel",
      "state": {}
     },
     "34be167e87ee4416bb5733be7adfe1e0": {
      "model_module": "@jupyter-widgets/base",
      "model_module_version": "1.2.0",
      "model_name": "LayoutModel",
      "state": {}
     },
     "34cb959abe854ce08fcefa73d0e382c5": {
      "model_module": "@jupyter-widgets/controls",
      "model_module_version": "1.5.0",
      "model_name": "SliderStyleModel",
      "state": {
       "description_width": "initial"
      }
     },
     "34cf64be640c438da0971467b23ce5ed": {
      "model_module": "@jupyter-widgets/controls",
      "model_module_version": "1.5.0",
      "model_name": "HBoxModel",
      "state": {
       "children": [
        "IPY_MODEL_570a0c09d764411e9aca2add665620ce",
        "IPY_MODEL_b29411d193c9452db39b1434c366afb9"
       ],
       "layout": "IPY_MODEL_382014f4f68e412e89cddf986b58c140"
      }
     },
     "34d61a601ec2404c92252c7bf389f4f7": {
      "model_module": "jupyter-matplotlib",
      "model_module_version": "^0.7.4",
      "model_name": "ToolbarModel",
      "state": {
       "layout": "IPY_MODEL_587de0ecf6fb4f779b227998a16c55df",
       "toolitems": [
        [
         "Home",
         "Reset original view",
         "home",
         "home"
        ],
        [
         "Back",
         "Back to previous view",
         "arrow-left",
         "back"
        ],
        [
         "Forward",
         "Forward to next view",
         "arrow-right",
         "forward"
        ],
        [
         "Pan",
         "Left button pans, Right button zooms\nx/y fixes axis, CTRL fixes aspect",
         "arrows",
         "pan"
        ],
        [
         "Zoom",
         "Zoom to rectangle\nx/y fixes axis, CTRL fixes aspect",
         "square-o",
         "zoom"
        ],
        [
         "Download",
         "Download plot",
         "floppy-o",
         "save_figure"
        ]
       ]
      }
     },
     "34e22746aaa84d9da5a3b85811e2be7c": {
      "model_module": "@jupyter-widgets/base",
      "model_module_version": "1.2.0",
      "model_name": "LayoutModel",
      "state": {}
     },
     "34ef6cbab04d4c48bbfb44a0df2b4d4c": {
      "model_module": "@jupyter-widgets/controls",
      "model_module_version": "1.5.0",
      "model_name": "VBoxModel",
      "state": {
       "_dom_classes": [
        "widget-interact"
       ],
       "children": [
        "IPY_MODEL_78d3f876d3e94566bdf5898407255009",
        "IPY_MODEL_1a67ef227a8d4e74844c93d51f9c4bd8",
        "IPY_MODEL_8e8e3bf81751414fa064790044ea995f",
        "IPY_MODEL_091e3e52b4424284ab854e9ac2edef2e"
       ],
       "layout": "IPY_MODEL_3ec9cc64545041c6ad229ee01ec39f05"
      }
     },
     "34f398e899a647378c982e5df4a468eb": {
      "model_module": "@jupyter-widgets/base",
      "model_module_version": "1.2.0",
      "model_name": "LayoutModel",
      "state": {}
     },
     "351e3ea32a684f348234785399f986ba": {
      "model_module": "@jupyter-widgets/base",
      "model_module_version": "1.2.0",
      "model_name": "LayoutModel",
      "state": {}
     },
     "353c53c442a0440e9b0afb03e7f183da": {
      "model_module": "@jupyter-widgets/controls",
      "model_module_version": "1.5.0",
      "model_name": "SliderStyleModel",
      "state": {
       "description_width": "initial"
      }
     },
     "3564ef6e51744649a68bb191af04f69f": {
      "model_module": "@jupyter-widgets/base",
      "model_module_version": "1.2.0",
      "model_name": "LayoutModel",
      "state": {}
     },
     "356951b2ae1841faac617589863c6c98": {
      "model_module": "@jupyter-widgets/base",
      "model_module_version": "1.2.0",
      "model_name": "LayoutModel",
      "state": {}
     },
     "3589ce212b474739a531829641c8bffe": {
      "model_module": "@jupyter-widgets/controls",
      "model_module_version": "1.5.0",
      "model_name": "IntSliderModel",
      "state": {
       "continuous_update": false,
       "description": "Sampling (Hz)",
       "layout": "IPY_MODEL_c0e0d7709dcc4729804236154b97afb3",
       "max": 20,
       "min": 2,
       "step": 2,
       "style": "IPY_MODEL_c11967853e5144c2a2f2dd52c2e70282",
       "value": 4
      }
     },
     "358ad85a8e44416084e43d7fe90d7da7": {
      "model_module": "@jupyter-widgets/controls",
      "model_module_version": "1.5.0",
      "model_name": "VBoxModel",
      "state": {
       "children": [
        "IPY_MODEL_07cb252ae06d49559f28b336343e632a",
        "IPY_MODEL_71ffd9e0fe8246baab23b55187bf0319",
        "IPY_MODEL_db01701d16ee4df0b66052c7422c0cb2"
       ],
       "layout": "IPY_MODEL_abc6fad2c26c4098affb022b67852c54"
      }
     },
     "3598f16ba97d414e824c3895843bf7fe": {
      "model_module": "@jupyter-widgets/base",
      "model_module_version": "1.2.0",
      "model_name": "LayoutModel",
      "state": {}
     },
     "35997acb0eb74e44926d6bdc4f970116": {
      "model_module": "@jupyter-widgets/base",
      "model_module_version": "1.2.0",
      "model_name": "LayoutModel",
      "state": {}
     },
     "35de3896992e458c8c7edcbecddceab3": {
      "model_module": "@jupyter-widgets/controls",
      "model_module_version": "1.5.0",
      "model_name": "SliderStyleModel",
      "state": {
       "description_width": "initial"
      }
     },
     "35eb0a0314404d0787b30d5ad4059c9c": {
      "model_module": "@jupyter-widgets/base",
      "model_module_version": "1.2.0",
      "model_name": "LayoutModel",
      "state": {}
     },
     "36031b40b3144155af3f13ddfae37c5a": {
      "model_module": "@jupyter-widgets/base",
      "model_module_version": "1.2.0",
      "model_name": "LayoutModel",
      "state": {
       "flex_flow": "column wrap"
      }
     },
     "3609f5d7a2f14d10a2ca7d2d4d152a16": {
      "model_module": "@jupyter-widgets/output",
      "model_module_version": "1.0.0",
      "model_name": "OutputModel",
      "state": {
       "layout": "IPY_MODEL_58f631b443da4882ab8e4db77135670e"
      }
     },
     "3615ba1eb234403aa213c32964fd0db3": {
      "model_module": "@jupyter-widgets/controls",
      "model_module_version": "1.5.0",
      "model_name": "SliderStyleModel",
      "state": {
       "description_width": "initial"
      }
     },
     "3616e29265b7453ca29130876037e544": {
      "model_module": "@jupyter-widgets/controls",
      "model_module_version": "1.5.0",
      "model_name": "IntSliderModel",
      "state": {
       "continuous_update": false,
       "description": "0-Padding",
       "layout": "IPY_MODEL_4b254189c70b49bbb1e42630bfdf58e4",
       "max": 144,
       "step": 4,
       "style": "IPY_MODEL_c6dda20978894f3b9873ad1adbcf79d0",
       "value": 88
      }
     },
     "3639d97b4b784edda97d650595b93069": {
      "model_module": "@jupyter-widgets/base",
      "model_module_version": "1.2.0",
      "model_name": "LayoutModel",
      "state": {}
     },
     "3646db6cf1944ceab944f447e4d8833d": {
      "model_module": "@jupyter-widgets/base",
      "model_module_version": "1.2.0",
      "model_name": "LayoutModel",
      "state": {}
     },
     "366f9690e46e4342bcab4acce1f9a01a": {
      "model_module": "@jupyter-widgets/controls",
      "model_module_version": "1.5.0",
      "model_name": "SliderStyleModel",
      "state": {
       "description_width": "initial"
      }
     },
     "369591f0edc8421aa91632deefa03eac": {
      "model_module": "@jupyter-widgets/controls",
      "model_module_version": "1.5.0",
      "model_name": "IntSliderModel",
      "state": {
       "continuous_update": false,
       "description": "Sampling (Hz)",
       "layout": "IPY_MODEL_eccf123792284cca98e6e72cdee50700",
       "max": 20,
       "min": 2,
       "step": 2,
       "style": "IPY_MODEL_bc0d3eeda2ac42c3b19d0fe42e8274e2",
       "value": 4
      }
     },
     "36d42f220cfb469eb157e655240ae445": {
      "model_module": "@jupyter-widgets/controls",
      "model_module_version": "1.5.0",
      "model_name": "SliderStyleModel",
      "state": {
       "description_width": "initial"
      }
     },
     "3710c8177e1d473486ac3546591581bb": {
      "model_module": "@jupyter-widgets/controls",
      "model_module_version": "1.5.0",
      "model_name": "HBoxModel",
      "state": {
       "children": [
        "IPY_MODEL_345568f889c34c1b953ed60d43bc3c75",
        "IPY_MODEL_c5ea1084740a44f8910399654860d35d"
       ],
       "layout": "IPY_MODEL_6b9154d521a9455f8541263e24663f31"
      }
     },
     "371615a4bf2f4441b88573ae1b47ccc9": {
      "model_module": "@jupyter-widgets/base",
      "model_module_version": "1.2.0",
      "model_name": "LayoutModel",
      "state": {}
     },
     "3717ea9126424ba192c2e26b7d6d6286": {
      "model_module": "@jupyter-widgets/base",
      "model_module_version": "1.2.0",
      "model_name": "LayoutModel",
      "state": {}
     },
     "377351407e3b459aa364caf2b888cd27": {
      "model_module": "@jupyter-widgets/output",
      "model_module_version": "1.0.0",
      "model_name": "OutputModel",
      "state": {
       "layout": "IPY_MODEL_179fdb2285124075b7f6170fb7f56993"
      }
     },
     "377a603edf994a0998243ffe6f6fc163": {
      "model_module": "@jupyter-widgets/controls",
      "model_module_version": "1.5.0",
      "model_name": "SliderStyleModel",
      "state": {
       "description_width": "initial"
      }
     },
     "3780826768ea4bf19c35837b3c7c806a": {
      "model_module": "@jupyter-widgets/controls",
      "model_module_version": "1.5.0",
      "model_name": "SliderStyleModel",
      "state": {
       "description_width": "initial"
      }
     },
     "37b56d68dd8a4c38b6e733f55ebcc56d": {
      "model_module": "@jupyter-widgets/base",
      "model_module_version": "1.2.0",
      "model_name": "LayoutModel",
      "state": {}
     },
     "37dfa68a0caf40caa6b9f0eef561acca": {
      "model_module": "@jupyter-widgets/controls",
      "model_module_version": "1.5.0",
      "model_name": "HBoxModel",
      "state": {
       "children": [
        "IPY_MODEL_db60781ad7be46c6ba4cf3eb0c9416b4",
        "IPY_MODEL_17e3eaa5d0c0408da781a07a7991afd8"
       ],
       "layout": "IPY_MODEL_40f87680e1e64367a1f0c4f1aeebf374"
      }
     },
     "38133791f4be4bd6ba56082615b82831": {
      "model_module": "@jupyter-widgets/controls",
      "model_module_version": "1.5.0",
      "model_name": "SliderStyleModel",
      "state": {
       "description_width": "initial"
      }
     },
     "382014f4f68e412e89cddf986b58c140": {
      "model_module": "@jupyter-widgets/base",
      "model_module_version": "1.2.0",
      "model_name": "LayoutModel",
      "state": {}
     },
     "3821a23b16884788a794212850552c8f": {
      "model_module": "@jupyter-widgets/base",
      "model_module_version": "1.2.0",
      "model_name": "LayoutModel",
      "state": {}
     },
     "382f4b0af19945899a53560a656c5d30": {
      "model_module": "@jupyter-widgets/controls",
      "model_module_version": "1.5.0",
      "model_name": "VBoxModel",
      "state": {
       "children": [
        "IPY_MODEL_fb739def388b4a9aa475cc0dbbc5cbbe",
        "IPY_MODEL_02583b5ba97f412287e72f9a2352e693",
        "IPY_MODEL_ca65e5f342f24a9e8c1d626b0787a21d"
       ],
       "layout": "IPY_MODEL_a1c63012cb4f4e2ba633b7138cbf85a5"
      }
     },
     "38487544f1804fbe8423f31347792948": {
      "model_module": "@jupyter-widgets/controls",
      "model_module_version": "1.5.0",
      "model_name": "VBoxModel",
      "state": {
       "_dom_classes": [
        "widget-interact"
       ],
       "children": [
        "IPY_MODEL_f7dd68c70fe2462c81b0a7864fd6099f",
        "IPY_MODEL_7e678804d04d4eb3b55345fa5afb396e",
        "IPY_MODEL_5f2a1d4deefb442d8423ff205dc51e8c",
        "IPY_MODEL_01a33a806c7340d599380dcaea2fe9d0"
       ],
       "layout": "IPY_MODEL_a6b0bc06750a4a6baffecd09f31a59a2"
      }
     },
     "3862023fb9d64fafb26e96fcb96453e9": {
      "model_module": "@jupyter-widgets/controls",
      "model_module_version": "1.5.0",
      "model_name": "SliderStyleModel",
      "state": {
       "description_width": "initial"
      }
     },
     "38e4b23e303b47d8991bd0c3f3f5fd15": {
      "model_module": "@jupyter-widgets/base",
      "model_module_version": "1.2.0",
      "model_name": "LayoutModel",
      "state": {}
     },
     "38e6b7b565f84c64a1ac2150ff6c1814": {
      "model_module": "@jupyter-widgets/output",
      "model_module_version": "1.0.0",
      "model_name": "OutputModel",
      "state": {
       "layout": "IPY_MODEL_5b9e0c2367d24563a8964a06d7e92304",
       "outputs": [
        {
         "data": {
          "application/vnd.jupyter.widget-view+json": {
           "model_id": "a83a5653e3ca49038f127b416e317d73",
           "version_major": 2,
           "version_minor": 0
          },
          "text/plain": "Canvas(toolbar=Toolbar(toolitems=[('Home', 'Reset original view', 'home', 'home'), ('Back', 'Back to previous …"
         },
         "metadata": {},
         "output_type": "display_data"
        }
       ]
      }
     },
     "391efee40095496893ca5645c4cbbda4": {
      "model_module": "@jupyter-widgets/controls",
      "model_module_version": "1.5.0",
      "model_name": "VBoxModel",
      "state": {
       "children": [
        "IPY_MODEL_ab95cfeeb5f947d0bd22899fa1430485",
        "IPY_MODEL_6c210fb1fe7e4b5d9e3aa68f26700d31",
        "IPY_MODEL_275ee780c22e4e94a61f5d6ce6471e3d"
       ],
       "layout": "IPY_MODEL_e50ae82490f6422a91cd9d98d4352ecf"
      }
     },
     "392161aab8604f8cbcde8e5d018cd53b": {
      "model_module": "@jupyter-widgets/controls",
      "model_module_version": "1.5.0",
      "model_name": "SliderStyleModel",
      "state": {
       "description_width": "initial"
      }
     },
     "3932873776e5437cbbca1c11b51440d4": {
      "model_module": "@jupyter-widgets/controls",
      "model_module_version": "1.5.0",
      "model_name": "SliderStyleModel",
      "state": {
       "description_width": "initial"
      }
     },
     "393a4afe9f14454dbdf8114cc7e4497e": {
      "model_module": "@jupyter-widgets/controls",
      "model_module_version": "1.5.0",
      "model_name": "SliderStyleModel",
      "state": {
       "description_width": "initial"
      }
     },
     "393a79a1f26044aeaab3a10235c4e945": {
      "model_module": "@jupyter-widgets/controls",
      "model_module_version": "1.5.0",
      "model_name": "IntSliderModel",
      "state": {
       "continuous_update": false,
       "description": "0-Padding",
       "layout": "IPY_MODEL_5195ef442275472b90a96b8beb757897",
       "max": 500,
       "style": "IPY_MODEL_1beb0917558846339c6b9e98986f9faa"
      }
     },
     "395301f09a694fb4ada440ed85bd046e": {
      "model_module": "@jupyter-widgets/output",
      "model_module_version": "1.0.0",
      "model_name": "OutputModel",
      "state": {
       "layout": "IPY_MODEL_218d50594291434db039a6acced45758",
       "outputs": [
        {
         "ename": "AttributeError",
         "evalue": "'AxesSubplot' object has no attribute 'xlabel'",
         "output_type": "error",
         "traceback": [
          "\u001b[1;31m---------------------------------------------------------------------------\u001b[0m",
          "\u001b[1;31mAttributeError\u001b[0m                            Traceback (most recent call last)",
          "\u001b[1;32mE:\\Software\\Anaconda3\\lib\\site-packages\\ipywidgets\\widgets\\interaction.py\u001b[0m in \u001b[0;36mupdate\u001b[1;34m(self, *args)\u001b[0m\n\u001b[0;32m    254\u001b[0m                     \u001b[0mvalue\u001b[0m \u001b[1;33m=\u001b[0m \u001b[0mwidget\u001b[0m\u001b[1;33m.\u001b[0m\u001b[0mget_interact_value\u001b[0m\u001b[1;33m(\u001b[0m\u001b[1;33m)\u001b[0m\u001b[1;33m\u001b[0m\u001b[1;33m\u001b[0m\u001b[0m\n\u001b[0;32m    255\u001b[0m                     \u001b[0mself\u001b[0m\u001b[1;33m.\u001b[0m\u001b[0mkwargs\u001b[0m\u001b[1;33m[\u001b[0m\u001b[0mwidget\u001b[0m\u001b[1;33m.\u001b[0m\u001b[0m_kwarg\u001b[0m\u001b[1;33m]\u001b[0m \u001b[1;33m=\u001b[0m \u001b[0mvalue\u001b[0m\u001b[1;33m\u001b[0m\u001b[1;33m\u001b[0m\u001b[0m\n\u001b[1;32m--> 256\u001b[1;33m                 \u001b[0mself\u001b[0m\u001b[1;33m.\u001b[0m\u001b[0mresult\u001b[0m \u001b[1;33m=\u001b[0m \u001b[0mself\u001b[0m\u001b[1;33m.\u001b[0m\u001b[0mf\u001b[0m\u001b[1;33m(\u001b[0m\u001b[1;33m**\u001b[0m\u001b[0mself\u001b[0m\u001b[1;33m.\u001b[0m\u001b[0mkwargs\u001b[0m\u001b[1;33m)\u001b[0m\u001b[1;33m\u001b[0m\u001b[1;33m\u001b[0m\u001b[0m\n\u001b[0m\u001b[0;32m    257\u001b[0m                 \u001b[0mshow_inline_matplotlib_plots\u001b[0m\u001b[1;33m(\u001b[0m\u001b[1;33m)\u001b[0m\u001b[1;33m\u001b[0m\u001b[1;33m\u001b[0m\u001b[0m\n\u001b[0;32m    258\u001b[0m                 \u001b[1;32mif\u001b[0m \u001b[0mself\u001b[0m\u001b[1;33m.\u001b[0m\u001b[0mauto_display\u001b[0m \u001b[1;32mand\u001b[0m \u001b[0mself\u001b[0m\u001b[1;33m.\u001b[0m\u001b[0mresult\u001b[0m \u001b[1;32mis\u001b[0m \u001b[1;32mnot\u001b[0m \u001b[1;32mNone\u001b[0m\u001b[1;33m:\u001b[0m\u001b[1;33m\u001b[0m\u001b[1;33m\u001b[0m\u001b[0m\n",
          "\u001b[1;32m<ipython-input-7-1b487fa6a3a1>\u001b[0m in \u001b[0;36mdisplayDFT\u001b[1;34m(numberOfPeriods, samplesPerPeriod, zeroPadding)\u001b[0m\n\u001b[0;32m     61\u001b[0m     \u001b[0max1\u001b[0m\u001b[1;33m.\u001b[0m\u001b[0mplot\u001b[0m\u001b[1;33m(\u001b[0m\u001b[0mt\u001b[0m\u001b[1;33m,\u001b[0m \u001b[0msignal\u001b[0m\u001b[1;33m)\u001b[0m\u001b[1;33m\u001b[0m\u001b[1;33m\u001b[0m\u001b[0m\n\u001b[0;32m     62\u001b[0m     \u001b[0max1\u001b[0m\u001b[1;33m.\u001b[0m\u001b[0mset_title\u001b[0m\u001b[1;33m(\u001b[0m\u001b[1;34m'Signal'\u001b[0m\u001b[1;33m)\u001b[0m\u001b[1;33m\u001b[0m\u001b[1;33m\u001b[0m\u001b[0m\n\u001b[1;32m---> 63\u001b[1;33m     \u001b[0max1\u001b[0m\u001b[1;33m.\u001b[0m\u001b[0mxlabel\u001b[0m\u001b[1;33m(\u001b[0m\u001b[1;34m't (s)'\u001b[0m\u001b[1;33m)\u001b[0m\u001b[1;33m\u001b[0m\u001b[1;33m\u001b[0m\u001b[0m\n\u001b[0m\u001b[0;32m     64\u001b[0m \u001b[1;33m\u001b[0m\u001b[0m\n\u001b[0;32m     65\u001b[0m     \u001b[1;31m# DFT\u001b[0m\u001b[1;33m\u001b[0m\u001b[1;33m\u001b[0m\u001b[1;33m\u001b[0m\u001b[0m\n",
          "\u001b[1;31mAttributeError\u001b[0m: 'AxesSubplot' object has no attribute 'xlabel'"
         ]
        }
       ]
      }
     },
     "3956586825d0492e94010e6689ae0650": {
      "model_module": "@jupyter-widgets/controls",
      "model_module_version": "1.5.0",
      "model_name": "SliderStyleModel",
      "state": {
       "description_width": "initial"
      }
     },
     "39575188beea431f8561e91a297d9e88": {
      "model_module": "@jupyter-widgets/controls",
      "model_module_version": "1.5.0",
      "model_name": "IntSliderModel",
      "state": {
       "continuous_update": false,
       "description": "Periods",
       "layout": "IPY_MODEL_7e5d0a40f1ac429ea3c33ca951a90fe3",
       "max": 50,
       "min": 1,
       "style": "IPY_MODEL_8a0ccf0e6b2e47cd87659b969fb9b352",
       "value": 2
      }
     },
     "396c2ff0ccce4301a8fcafac2375b204": {
      "model_module": "@jupyter-widgets/base",
      "model_module_version": "1.2.0",
      "model_name": "LayoutModel",
      "state": {}
     },
     "399ec5781a0845239367b57770cc9b56": {
      "model_module": "@jupyter-widgets/base",
      "model_module_version": "1.2.0",
      "model_name": "LayoutModel",
      "state": {}
     },
     "39a80be3fc0643b9bda8d6b301f94941": {
      "model_module": "@jupyter-widgets/base",
      "model_module_version": "1.2.0",
      "model_name": "LayoutModel",
      "state": {}
     },
     "39cd6eaa2efa4b4d865af8d340d3ad80": {
      "model_module": "@jupyter-widgets/controls",
      "model_module_version": "1.5.0",
      "model_name": "IntSliderModel",
      "state": {
       "continuous_update": false,
       "description": "Sampling (Hz)",
       "layout": "IPY_MODEL_de31789a73e942a98c0d80712c52d744",
       "max": 20,
       "min": 2,
       "step": 2,
       "style": "IPY_MODEL_91c2081012d84cae969a12b03281441d",
       "value": 4
      }
     },
     "39d4708cb66a403a91edd65b8d0657bb": {
      "model_module": "@jupyter-widgets/output",
      "model_module_version": "1.0.0",
      "model_name": "OutputModel",
      "state": {
       "layout": "IPY_MODEL_0a5f2c1d5a294dcbaed51c81981a9d5b"
      }
     },
     "39dd88481409402fa123acf0a0cab4a6": {
      "model_module": "@jupyter-widgets/controls",
      "model_module_version": "1.5.0",
      "model_name": "IntSliderModel",
      "state": {
       "continuous_update": false,
       "description": "Periods",
       "layout": "IPY_MODEL_5435798b37f24f6f91926eae7ea6ce20",
       "max": 50,
       "min": 1,
       "style": "IPY_MODEL_efbbd28badb544acb94859bf5bebc923",
       "value": 2
      }
     },
     "39f2b342965b4500b3887056668b0e2c": {
      "model_module": "@jupyter-widgets/base",
      "model_module_version": "1.2.0",
      "model_name": "LayoutModel",
      "state": {}
     },
     "39f345cde4bc4ebd9c1a6af06148e763": {
      "model_module": "@jupyter-widgets/base",
      "model_module_version": "1.2.0",
      "model_name": "LayoutModel",
      "state": {}
     },
     "3a134546395040ea87096560d4bb20f3": {
      "model_module": "@jupyter-widgets/controls",
      "model_module_version": "1.5.0",
      "model_name": "HBoxModel",
      "state": {
       "children": [
        "IPY_MODEL_8c887c296eee42ca9f5fe74daa3fdfc3",
        "IPY_MODEL_272dc035710a4ca08bb9c7360d961c74",
        "IPY_MODEL_af1b5e0565e14f138af75645d92bc031"
       ],
       "layout": "IPY_MODEL_ee7a1131528141ed89276883f4dfeb49"
      }
     },
     "3a28ec6bdb7e4fa9bcd949c00d9797e9": {
      "model_module": "@jupyter-widgets/controls",
      "model_module_version": "1.5.0",
      "model_name": "SliderStyleModel",
      "state": {
       "description_width": "initial"
      }
     },
     "3a2dff9ea23b419295a2e50f69009420": {
      "model_module": "@jupyter-widgets/controls",
      "model_module_version": "1.5.0",
      "model_name": "IntSliderModel",
      "state": {
       "continuous_update": false,
       "description": "Sampling (Hz)",
       "layout": "IPY_MODEL_0d87901877ae499abdd956546d2c5924",
       "max": 12,
       "min": 2,
       "step": 2,
       "style": "IPY_MODEL_5e911b6fe08e4ba7813ef07ed363ef08",
       "value": 4
      }
     },
     "3a500ef97925442eadb41a3fa831db9e": {
      "model_module": "@jupyter-widgets/controls",
      "model_module_version": "1.5.0",
      "model_name": "SliderStyleModel",
      "state": {
       "description_width": "initial"
      }
     },
     "3a85994f7e1d437f8cf80d8352a36866": {
      "model_module": "jupyter-matplotlib",
      "model_module_version": "^0.7.4",
      "model_name": "ToolbarModel",
      "state": {
       "layout": "IPY_MODEL_8684ecc9f0dc46c7aa3e9af6f931e403",
       "toolitems": [
        [
         "Home",
         "Reset original view",
         "home",
         "home"
        ],
        [
         "Back",
         "Back to previous view",
         "arrow-left",
         "back"
        ],
        [
         "Forward",
         "Forward to next view",
         "arrow-right",
         "forward"
        ],
        [
         "Pan",
         "Left button pans, Right button zooms\nx/y fixes axis, CTRL fixes aspect",
         "arrows",
         "pan"
        ],
        [
         "Zoom",
         "Zoom to rectangle\nx/y fixes axis, CTRL fixes aspect",
         "square-o",
         "zoom"
        ],
        [
         "Download",
         "Download plot",
         "floppy-o",
         "save_figure"
        ]
       ]
      }
     },
     "3ac9285fa52042b4ad6c6a8a4d199ef7": {
      "model_module": "@jupyter-widgets/base",
      "model_module_version": "1.2.0",
      "model_name": "LayoutModel",
      "state": {}
     },
     "3ace9d59b0b640e19f69096bd7b26b53": {
      "model_module": "@jupyter-widgets/controls",
      "model_module_version": "1.5.0",
      "model_name": "IntSliderModel",
      "state": {
       "continuous_update": false,
       "description": "0-Padding",
       "layout": "IPY_MODEL_8b107d42dbc646cd9afe0676760bf875",
       "max": 40,
       "style": "IPY_MODEL_0c6a63d83b6a4511829a4109c33ab30a"
      }
     },
     "3ae7960921e14017911ed99a36e9624c": {
      "model_module": "@jupyter-widgets/base",
      "model_module_version": "1.2.0",
      "model_name": "LayoutModel",
      "state": {}
     },
     "3b38dfcfc5734a329a9517bde9fa51ee": {
      "model_module": "@jupyter-widgets/base",
      "model_module_version": "1.2.0",
      "model_name": "LayoutModel",
      "state": {}
     },
     "3b40f639f07341a7a00278eeea21b876": {
      "model_module": "@jupyter-widgets/controls",
      "model_module_version": "1.5.0",
      "model_name": "IntSliderModel",
      "state": {
       "continuous_update": false,
       "description": "Sampling (Hz)",
       "layout": "IPY_MODEL_6c4bb4179942401b876321903e7332eb",
       "max": 20,
       "min": 2,
       "step": 2,
       "style": "IPY_MODEL_7b5e7eadfa3440d5838206034676b307",
       "value": 4
      }
     },
     "3b66a865576241baab750b14126cb283": {
      "model_module": "@jupyter-widgets/base",
      "model_module_version": "1.2.0",
      "model_name": "LayoutModel",
      "state": {}
     },
     "3bac113666a64ae5abc897e5450fba39": {
      "model_module": "@jupyter-widgets/base",
      "model_module_version": "1.2.0",
      "model_name": "LayoutModel",
      "state": {}
     },
     "3bb5b033e40140faad20024e8a53c4f2": {
      "model_module": "@jupyter-widgets/output",
      "model_module_version": "1.0.0",
      "model_name": "OutputModel",
      "state": {
       "layout": "IPY_MODEL_7450fd522de94e22a773da12e22bbccc",
       "outputs": [
        {
         "data": {
          "application/vnd.jupyter.widget-view+json": {
           "model_id": "e062aa63c70440f881d13a8decd56961",
           "version_major": 2,
           "version_minor": 0
          },
          "text/plain": "Canvas(toolbar=Toolbar(toolitems=[('Home', 'Reset original view', 'home', 'home'), ('Back', 'Back to previous …"
         },
         "metadata": {},
         "output_type": "display_data"
        }
       ]
      }
     },
     "3bc29131aa4b43cb8a48bd34cfbf6715": {
      "model_module": "@jupyter-widgets/controls",
      "model_module_version": "1.5.0",
      "model_name": "SliderStyleModel",
      "state": {
       "description_width": "initial"
      }
     },
     "3bdd885b269048a99cdca451938e0ea7": {
      "model_module": "@jupyter-widgets/base",
      "model_module_version": "1.2.0",
      "model_name": "LayoutModel",
      "state": {}
     },
     "3bedb51058b84f55a725a694a6451e7d": {
      "model_module": "@jupyter-widgets/controls",
      "model_module_version": "1.5.0",
      "model_name": "HBoxModel",
      "state": {
       "children": [
        "IPY_MODEL_db523ada7dea4043a9c67285973b3d6e",
        "IPY_MODEL_b5f12514561c433288d270e2da70507c"
       ],
       "layout": "IPY_MODEL_ce3d366090dd41f2a5194da3df871126"
      }
     },
     "3bf8722a568741ad95446e0588f38beb": {
      "model_module": "@jupyter-widgets/base",
      "model_module_version": "1.2.0",
      "model_name": "LayoutModel",
      "state": {}
     },
     "3c1319b747704ccaae57170deeda561e": {
      "model_module": "@jupyter-widgets/output",
      "model_module_version": "1.0.0",
      "model_name": "OutputModel",
      "state": {
       "layout": "IPY_MODEL_3f720bd1cf0e46339f7d95cba967f7d8",
       "outputs": [
        {
         "data": {
          "application/vnd.jupyter.widget-view+json": {
           "model_id": "d6ecf73ad29e431e8b7088a43d20cc5a",
           "version_major": 2,
           "version_minor": 0
          },
          "text/plain": "Canvas(toolbar=Toolbar(toolitems=[('Home', 'Reset original view', 'home', 'home'), ('Back', 'Back to previous …"
         },
         "metadata": {},
         "output_type": "display_data"
        }
       ]
      }
     },
     "3c2557be851242cf87d0fa3a7d73e10c": {
      "model_module": "@jupyter-widgets/controls",
      "model_module_version": "1.5.0",
      "model_name": "IntSliderModel",
      "state": {
       "continuous_update": false,
       "description": "Periods",
       "layout": "IPY_MODEL_d961d8f962b44ea4bafb115a21ecd92e",
       "max": 50,
       "min": 1,
       "style": "IPY_MODEL_6b618a31ca8a423e96df8164ac96be38",
       "value": 2
      }
     },
     "3c52dc7851a84d11a13ccc7221547946": {
      "model_module": "@jupyter-widgets/base",
      "model_module_version": "1.2.0",
      "model_name": "LayoutModel",
      "state": {}
     },
     "3c61ec38dd6a407fbfd27fdb426c1773": {
      "model_module": "@jupyter-widgets/base",
      "model_module_version": "1.2.0",
      "model_name": "LayoutModel",
      "state": {}
     },
     "3c6206201544487d93a84acef699dfde": {
      "model_module": "@jupyter-widgets/base",
      "model_module_version": "1.2.0",
      "model_name": "LayoutModel",
      "state": {}
     },
     "3c63bc1b9cc340319c50c9e8f6e8fbd1": {
      "model_module": "@jupyter-widgets/base",
      "model_module_version": "1.2.0",
      "model_name": "LayoutModel",
      "state": {}
     },
     "3c7d8cfda0ca489d8be5ee769c348c3f": {
      "model_module": "@jupyter-widgets/controls",
      "model_module_version": "1.5.0",
      "model_name": "SliderStyleModel",
      "state": {
       "description_width": "initial"
      }
     },
     "3caa6d0e994747f5b2bd8505aacbb196": {
      "model_module": "@jupyter-widgets/controls",
      "model_module_version": "1.5.0",
      "model_name": "VBoxModel",
      "state": {
       "_dom_classes": [
        "widget-interact"
       ],
       "children": [
        "IPY_MODEL_1ab32862b11f40749d5875fe7b961d81",
        "IPY_MODEL_1d19031889794d729316e5e5b142f5de",
        "IPY_MODEL_48a4a177a67b4c95b9967e8c793908a2",
        "IPY_MODEL_7aaabd70b53943c7b3963bb326d723da"
       ],
       "layout": "IPY_MODEL_47e70dcef7ae4f8f929e1f737168eb71"
      }
     },
     "3cd2c492030547edad2d539a1b372c93": {
      "model_module": "@jupyter-widgets/controls",
      "model_module_version": "1.5.0",
      "model_name": "IntSliderModel",
      "state": {
       "description": "0-Padding",
       "layout": "IPY_MODEL_b444f930e49b4251a269aaf840e0dd70",
       "max": 1260,
       "step": 42,
       "style": "IPY_MODEL_b0b4686e975b4c8cade793b06c9c3e74"
      }
     },
     "3d086273cf5d4d978b179ee6f19e2a10": {
      "model_module": "@jupyter-widgets/controls",
      "model_module_version": "1.5.0",
      "model_name": "SliderStyleModel",
      "state": {
       "description_width": "initial"
      }
     },
     "3d08bff0e1654cbca22846785ec507a1": {
      "model_module": "@jupyter-widgets/controls",
      "model_module_version": "1.5.0",
      "model_name": "SliderStyleModel",
      "state": {
       "description_width": "initial"
      }
     },
     "3d35606b74cf4532bd7ba65e7b10a6e8": {
      "model_module": "@jupyter-widgets/base",
      "model_module_version": "1.2.0",
      "model_name": "LayoutModel",
      "state": {}
     },
     "3d382418ae2348f89d3cb121f2d8138a": {
      "model_module": "@jupyter-widgets/base",
      "model_module_version": "1.2.0",
      "model_name": "LayoutModel",
      "state": {}
     },
     "3d3e078143014652a6d8af47453bd0b9": {
      "model_module": "@jupyter-widgets/base",
      "model_module_version": "1.2.0",
      "model_name": "LayoutModel",
      "state": {}
     },
     "3d753da45209450eb7d95c4dff8ff8b6": {
      "model_module": "@jupyter-widgets/controls",
      "model_module_version": "1.5.0",
      "model_name": "HBoxModel",
      "state": {
       "children": [
        "IPY_MODEL_af71542453994f3ab46bfa409ff9d8fe",
        "IPY_MODEL_74d448a80050431ebeca77ac1d7dbe49"
       ],
       "layout": "IPY_MODEL_a328fd3bdb824db1a2e9bbb96f860aba"
      }
     },
     "3d9b68de8780474880ceae68d7a218a6": {
      "model_module": "@jupyter-widgets/base",
      "model_module_version": "1.2.0",
      "model_name": "LayoutModel",
      "state": {}
     },
     "3d9f8d0233174d6ba182b8ba124b175d": {
      "model_module": "@jupyter-widgets/base",
      "model_module_version": "1.2.0",
      "model_name": "LayoutModel",
      "state": {}
     },
     "3dd4903840ec44be9bae29d4c1b28c6a": {
      "model_module": "@jupyter-widgets/base",
      "model_module_version": "1.2.0",
      "model_name": "LayoutModel",
      "state": {}
     },
     "3de20aa65e524fedb938197915b54394": {
      "model_module": "@jupyter-widgets/controls",
      "model_module_version": "1.5.0",
      "model_name": "SliderStyleModel",
      "state": {
       "description_width": "initial"
      }
     },
     "3e01d5bc5fa941098add163305041a1c": {
      "model_module": "@jupyter-widgets/controls",
      "model_module_version": "1.5.0",
      "model_name": "IntSliderModel",
      "state": {
       "continuous_update": false,
       "description": "0-Padding",
       "layout": "IPY_MODEL_f730d5304086450596a0b87d2877ba75",
       "max": 500,
       "style": "IPY_MODEL_b1e922a896f14438a1bee66d2acd9a83"
      }
     },
     "3e3247b050e74a06b9a8f84cd2d3a6c8": {
      "model_module": "@jupyter-widgets/controls",
      "model_module_version": "1.5.0",
      "model_name": "SliderStyleModel",
      "state": {
       "description_width": "initial"
      }
     },
     "3e3c7302332c4753ae7849dc2ddb24bc": {
      "model_module": "@jupyter-widgets/base",
      "model_module_version": "1.2.0",
      "model_name": "LayoutModel",
      "state": {}
     },
     "3e486910880441139c05024d033a2b6d": {
      "model_module": "@jupyter-widgets/controls",
      "model_module_version": "1.5.0",
      "model_name": "IntSliderModel",
      "state": {
       "continuous_update": false,
       "description": "0-Padding",
       "layout": "IPY_MODEL_1d57c42ee0294953809adb6cbdaf4626",
       "max": 2808,
       "step": 93,
       "style": "IPY_MODEL_b96992121a0540ddb145139ce1c9ad33"
      }
     },
     "3e592ea5959247bfa385222170e76a3e": {
      "model_module": "@jupyter-widgets/controls",
      "model_module_version": "1.5.0",
      "model_name": "IntSliderModel",
      "state": {
       "continuous_update": false,
       "description": "Periods",
       "layout": "IPY_MODEL_4e3b154204b24862a7ffdea430ddc9ff",
       "max": 50,
       "min": 1,
       "style": "IPY_MODEL_10267755fa334631bb085ec9d94cc8ed",
       "value": 2
      }
     },
     "3e8995a4f8424bf3909a7505e0203276": {
      "model_module": "@jupyter-widgets/base",
      "model_module_version": "1.2.0",
      "model_name": "LayoutModel",
      "state": {}
     },
     "3ebedff3577547c48727eec270aabe26": {
      "model_module": "@jupyter-widgets/controls",
      "model_module_version": "1.5.0",
      "model_name": "IntSliderModel",
      "state": {
       "continuous_update": false,
       "description": "Sampling (Hz)",
       "layout": "IPY_MODEL_8035f4326976445aaf928cdd67feeaea",
       "max": 20,
       "min": 2,
       "step": 2,
       "style": "IPY_MODEL_393a4afe9f14454dbdf8114cc7e4497e",
       "value": 4
      }
     },
     "3ec9cc64545041c6ad229ee01ec39f05": {
      "model_module": "@jupyter-widgets/base",
      "model_module_version": "1.2.0",
      "model_name": "LayoutModel",
      "state": {}
     },
     "3ed1cb81c7464ff8b50ba8f49815706b": {
      "model_module": "jupyter-matplotlib",
      "model_module_version": "^0.7.4",
      "model_name": "ToolbarModel",
      "state": {
       "layout": "IPY_MODEL_4716d79020744f9f8072cfee40aed64d",
       "toolitems": [
        [
         "Home",
         "Reset original view",
         "home",
         "home"
        ],
        [
         "Back",
         "Back to previous view",
         "arrow-left",
         "back"
        ],
        [
         "Forward",
         "Forward to next view",
         "arrow-right",
         "forward"
        ],
        [
         "Pan",
         "Left button pans, Right button zooms\nx/y fixes axis, CTRL fixes aspect",
         "arrows",
         "pan"
        ],
        [
         "Zoom",
         "Zoom to rectangle\nx/y fixes axis, CTRL fixes aspect",
         "square-o",
         "zoom"
        ],
        [
         "Download",
         "Download plot",
         "floppy-o",
         "save_figure"
        ]
       ]
      }
     },
     "3ee4ec1d38424739bdb4ced657c876fc": {
      "model_module": "@jupyter-widgets/output",
      "model_module_version": "1.0.0",
      "model_name": "OutputModel",
      "state": {
       "layout": "IPY_MODEL_631509949bdf43c0872ccf16e6d5efec",
       "outputs": [
        {
         "data": {
          "application/vnd.jupyter.widget-view+json": {
           "model_id": "663650b1755f4b65a0297595cd35da69",
           "version_major": 2,
           "version_minor": 0
          },
          "text/plain": "Canvas(toolbar=Toolbar(toolitems=[('Home', 'Reset original view', 'home', 'home'), ('Back', 'Back to previous …"
         },
         "metadata": {},
         "output_type": "display_data"
        }
       ]
      }
     },
     "3ef082155f5c421c9c50cf1b4e140e3e": {
      "model_module": "@jupyter-widgets/base",
      "model_module_version": "1.2.0",
      "model_name": "LayoutModel",
      "state": {}
     },
     "3f1a0c004f0d430b807ca00411e5c2e1": {
      "model_module": "@jupyter-widgets/base",
      "model_module_version": "1.2.0",
      "model_name": "LayoutModel",
      "state": {}
     },
     "3f2b10f06c0d4406a93f5f7b324ae40f": {
      "model_module": "@jupyter-widgets/controls",
      "model_module_version": "1.5.0",
      "model_name": "IntSliderModel",
      "state": {
       "continuous_update": false,
       "description": "Sampling (Hz)",
       "layout": "IPY_MODEL_e527b09c4c4e497c884e091b1fab076a",
       "max": 12,
       "min": 2,
       "step": 2,
       "style": "IPY_MODEL_2d1a0aae057b40c087f7523dffebfafd",
       "value": 4
      }
     },
     "3f3f576cb6734400a574eb477f1335fc": {
      "model_module": "@jupyter-widgets/base",
      "model_module_version": "1.2.0",
      "model_name": "LayoutModel",
      "state": {}
     },
     "3f720bd1cf0e46339f7d95cba967f7d8": {
      "model_module": "@jupyter-widgets/base",
      "model_module_version": "1.2.0",
      "model_name": "LayoutModel",
      "state": {}
     },
     "3f8c0a0992284248944a720d017befd6": {
      "model_module": "@jupyter-widgets/controls",
      "model_module_version": "1.5.0",
      "model_name": "SliderStyleModel",
      "state": {
       "description_width": "initial"
      }
     },
     "3fac0c0722944d76978d2a464c4be0a5": {
      "model_module": "@jupyter-widgets/controls",
      "model_module_version": "1.5.0",
      "model_name": "VBoxModel",
      "state": {
       "_dom_classes": [
        "widget-interact"
       ],
       "children": [
        "IPY_MODEL_0a5d96347d6f43a59cafbf7c30bc167f",
        "IPY_MODEL_d836e70f3313402897c0a281e336796e",
        "IPY_MODEL_79d5910c4dde4cd092f50cd7997f0054",
        "IPY_MODEL_41ac4622eee042528cf365d3f0e1f1dd"
       ],
       "layout": "IPY_MODEL_466a314380174a2985cca674cfeeefd0"
      }
     },
     "3fac7353eff540b3994d17cb5ade4e6e": {
      "model_module": "@jupyter-widgets/controls",
      "model_module_version": "1.5.0",
      "model_name": "SliderStyleModel",
      "state": {
       "description_width": "initial"
      }
     },
     "3fc5e3d84b6d42aa8d94b744450df55a": {
      "model_module": "@jupyter-widgets/controls",
      "model_module_version": "1.5.0",
      "model_name": "SliderStyleModel",
      "state": {
       "description_width": "initial"
      }
     },
     "3fca40ed2ef54a02857ce7590e3a97b2": {
      "model_module": "@jupyter-widgets/base",
      "model_module_version": "1.2.0",
      "model_name": "LayoutModel",
      "state": {}
     },
     "3fcf32a715c54954bd6b97dc8175209b": {
      "model_module": "@jupyter-widgets/controls",
      "model_module_version": "1.5.0",
      "model_name": "SliderStyleModel",
      "state": {
       "description_width": "initial"
      }
     },
     "401d7a987cde418bb3aabcb5d2619cde": {
      "model_module": "@jupyter-widgets/controls",
      "model_module_version": "1.5.0",
      "model_name": "SliderStyleModel",
      "state": {
       "description_width": "initial"
      }
     },
     "401fb839f71640beb09cbf4ec96811de": {
      "model_module": "@jupyter-widgets/base",
      "model_module_version": "1.2.0",
      "model_name": "LayoutModel",
      "state": {}
     },
     "4029b6cb50c94f1480b07f8d6c153197": {
      "model_module": "@jupyter-widgets/controls",
      "model_module_version": "1.5.0",
      "model_name": "IntSliderModel",
      "state": {
       "continuous_update": false,
       "description": "Sampling (Hz)",
       "layout": "IPY_MODEL_42a4e20afd1c498d864b0cba95f181ed",
       "max": 20,
       "min": 2,
       "step": 2,
       "style": "IPY_MODEL_c05c5ecb98e34d8395cf1c98de51cd3f",
       "value": 4
      }
     },
     "40354e6d6c7448e5ac1bc26a598f08f7": {
      "model_module": "@jupyter-widgets/base",
      "model_module_version": "1.2.0",
      "model_name": "LayoutModel",
      "state": {}
     },
     "403f27d78ba5408abcd77a28c0ebf660": {
      "model_module": "@jupyter-widgets/controls",
      "model_module_version": "1.5.0",
      "model_name": "SliderStyleModel",
      "state": {
       "description_width": "initial"
      }
     },
     "403faa2944e7488bb5e98a01137dd6e2": {
      "model_module": "@jupyter-widgets/output",
      "model_module_version": "1.0.0",
      "model_name": "OutputModel",
      "state": {
       "layout": "IPY_MODEL_602fbe18a42b45a99fe84fc951dac010",
       "outputs": [
        {
         "data": {
          "application/vnd.jupyter.widget-view+json": {
           "model_id": "5f24086f222449f6a5e60c2910d9555a",
           "version_major": 2,
           "version_minor": 0
          },
          "text/plain": "Canvas(toolbar=Toolbar(toolitems=[('Home', 'Reset original view', 'home', 'home'), ('Back', 'Back to previous …"
         },
         "metadata": {},
         "output_type": "display_data"
        }
       ]
      }
     },
     "4040e2b2fec949628acc81bed623f6f7": {
      "model_module": "@jupyter-widgets/output",
      "model_module_version": "1.0.0",
      "model_name": "OutputModel",
      "state": {
       "layout": "IPY_MODEL_4c77c9bd34e241858a935a6580d01ca3"
      }
     },
     "4056d9968c224a66b3ea0df891c640d2": {
      "model_module": "jupyter-matplotlib",
      "model_module_version": "^0.7.4",
      "model_name": "ToolbarModel",
      "state": {
       "layout": "IPY_MODEL_93c20f20440a4d72ac688e7811b70425",
       "toolitems": [
        [
         "Home",
         "Reset original view",
         "home",
         "home"
        ],
        [
         "Back",
         "Back to previous view",
         "arrow-left",
         "back"
        ],
        [
         "Forward",
         "Forward to next view",
         "arrow-right",
         "forward"
        ],
        [
         "Pan",
         "Left button pans, Right button zooms\nx/y fixes axis, CTRL fixes aspect",
         "arrows",
         "pan"
        ],
        [
         "Zoom",
         "Zoom to rectangle\nx/y fixes axis, CTRL fixes aspect",
         "square-o",
         "zoom"
        ],
        [
         "Download",
         "Download plot",
         "floppy-o",
         "save_figure"
        ]
       ]
      }
     },
     "406ae01606c549d7afc4bce1d578b6a2": {
      "model_module": "@jupyter-widgets/base",
      "model_module_version": "1.2.0",
      "model_name": "LayoutModel",
      "state": {}
     },
     "407506b368774c57a13a51713af32a37": {
      "model_module": "@jupyter-widgets/controls",
      "model_module_version": "1.5.0",
      "model_name": "VBoxModel",
      "state": {
       "children": [
        "IPY_MODEL_78d3f876d3e94566bdf5898407255009",
        "IPY_MODEL_1a67ef227a8d4e74844c93d51f9c4bd8",
        "IPY_MODEL_8e8e3bf81751414fa064790044ea995f"
       ],
       "layout": "IPY_MODEL_7415f6746d1a45e39a386e672de07cc6"
      }
     },
     "4092f28d414a4546bc831824353fb881": {
      "model_module": "@jupyter-widgets/controls",
      "model_module_version": "1.5.0",
      "model_name": "SliderStyleModel",
      "state": {
       "description_width": "initial"
      }
     },
     "40a0929313c84e818300b6e85ea37f4b": {
      "model_module": "@jupyter-widgets/controls",
      "model_module_version": "1.5.0",
      "model_name": "IntSliderModel",
      "state": {
       "description": "Periods",
       "layout": "IPY_MODEL_488e4917ca614d069c0c4860a9dc4ebf",
       "max": 50,
       "min": 1,
       "style": "IPY_MODEL_e288965efc6c426bb69b1fb3111995a2",
       "value": 2
      }
     },
     "40c5c43020c4418ab96cb8d2bb423af4": {
      "model_module": "@jupyter-widgets/output",
      "model_module_version": "1.0.0",
      "model_name": "OutputModel",
      "state": {
       "layout": "IPY_MODEL_90d602342a5a403fb5a048a853247629",
       "outputs": [
        {
         "data": {
          "application/vnd.jupyter.widget-view+json": {
           "model_id": "28aad8816f9a4abd95f1dc090e146faf",
           "version_major": 2,
           "version_minor": 0
          },
          "text/plain": "Canvas(toolbar=Toolbar(toolitems=[('Home', 'Reset original view', 'home', 'home'), ('Back', 'Back to previous …"
         },
         "metadata": {},
         "output_type": "display_data"
        }
       ]
      }
     },
     "40d18c15290f4b6aaee8ff3585d794df": {
      "model_module": "@jupyter-widgets/base",
      "model_module_version": "1.2.0",
      "model_name": "LayoutModel",
      "state": {}
     },
     "40d3a1cc3bee4f968c6ef973545ef0bf": {
      "model_module": "@jupyter-widgets/base",
      "model_module_version": "1.2.0",
      "model_name": "LayoutModel",
      "state": {}
     },
     "40f87680e1e64367a1f0c4f1aeebf374": {
      "model_module": "@jupyter-widgets/base",
      "model_module_version": "1.2.0",
      "model_name": "LayoutModel",
      "state": {}
     },
     "413589fd7915443db419eb7be16f91f9": {
      "model_module": "@jupyter-widgets/base",
      "model_module_version": "1.2.0",
      "model_name": "LayoutModel",
      "state": {}
     },
     "41448de46a164175a3144746c9f12f04": {
      "model_module": "@jupyter-widgets/controls",
      "model_module_version": "1.5.0",
      "model_name": "SliderStyleModel",
      "state": {
       "description_width": "initial"
      }
     },
     "4150c2b0a46f49ffbd107fced6181e1b": {
      "model_module": "@jupyter-widgets/controls",
      "model_module_version": "1.5.0",
      "model_name": "SliderStyleModel",
      "state": {
       "description_width": "initial"
      }
     },
     "4178fc3f18de43209b3c5efe2d03e9b4": {
      "model_module": "@jupyter-widgets/base",
      "model_module_version": "1.2.0",
      "model_name": "LayoutModel",
      "state": {}
     },
     "4192fa044145446d9e91808c4457a8ef": {
      "model_module": "@jupyter-widgets/base",
      "model_module_version": "1.2.0",
      "model_name": "LayoutModel",
      "state": {}
     },
     "41ac4622eee042528cf365d3f0e1f1dd": {
      "model_module": "@jupyter-widgets/output",
      "model_module_version": "1.0.0",
      "model_name": "OutputModel",
      "state": {
       "layout": "IPY_MODEL_89ea124181764c39b10d9996076d30da"
      }
     },
     "41d665e3bf164d1dbf7387cbfb18cc9a": {
      "model_module": "@jupyter-widgets/base",
      "model_module_version": "1.2.0",
      "model_name": "LayoutModel",
      "state": {}
     },
     "41d865d1168e4c7e9e267c708e58ccf3": {
      "model_module": "@jupyter-widgets/base",
      "model_module_version": "1.2.0",
      "model_name": "LayoutModel",
      "state": {}
     },
     "41fa00985b3244d5a7e062959e0869a4": {
      "model_module": "@jupyter-widgets/base",
      "model_module_version": "1.2.0",
      "model_name": "LayoutModel",
      "state": {}
     },
     "420c07e6637f456db14d8e9617cf9ec9": {
      "model_module": "@jupyter-widgets/base",
      "model_module_version": "1.2.0",
      "model_name": "LayoutModel",
      "state": {}
     },
     "423e4db052ca49edb7926915db51840f": {
      "model_module": "@jupyter-widgets/base",
      "model_module_version": "1.2.0",
      "model_name": "LayoutModel",
      "state": {}
     },
     "4249dcdde885418cbb43e65ac963477d": {
      "model_module": "@jupyter-widgets/controls",
      "model_module_version": "1.5.0",
      "model_name": "IntSliderModel",
      "state": {
       "description": "0-Padding",
       "layout": "IPY_MODEL_cebb77c8a91d4ab9adec9a8cdaaec9a0",
       "max": 500,
       "style": "IPY_MODEL_3139a99d0ced49a683692f657f2782d1",
       "value": 45
      }
     },
     "425df8bacb664795969b6569a98a3cf6": {
      "model_module": "@jupyter-widgets/base",
      "model_module_version": "1.2.0",
      "model_name": "LayoutModel",
      "state": {}
     },
     "4268bb2979314098a2fea8ae9f119f97": {
      "model_module": "@jupyter-widgets/controls",
      "model_module_version": "1.5.0",
      "model_name": "IntSliderModel",
      "state": {
       "continuous_update": false,
       "description": "0-Padding",
       "layout": "IPY_MODEL_2f42e0bcba5c455e98b1c5f12c15a962",
       "max": 500,
       "style": "IPY_MODEL_989c448b6dfd436cb3fd7382767ddbfa"
      }
     },
     "4270a4fb4c3f4975badfa2cc3b0a66b5": {
      "model_module": "jupyter-matplotlib",
      "model_module_version": "^0.7.4",
      "model_name": "ToolbarModel",
      "state": {
       "layout": "IPY_MODEL_2cf29eb8478d46f3913c5a3b2e2d5f74",
       "toolitems": [
        [
         "Home",
         "Reset original view",
         "home",
         "home"
        ],
        [
         "Back",
         "Back to previous view",
         "arrow-left",
         "back"
        ],
        [
         "Forward",
         "Forward to next view",
         "arrow-right",
         "forward"
        ],
        [
         "Pan",
         "Left button pans, Right button zooms\nx/y fixes axis, CTRL fixes aspect",
         "arrows",
         "pan"
        ],
        [
         "Zoom",
         "Zoom to rectangle\nx/y fixes axis, CTRL fixes aspect",
         "square-o",
         "zoom"
        ],
        [
         "Download",
         "Download plot",
         "floppy-o",
         "save_figure"
        ]
       ]
      }
     },
     "427bd6d33801408a9616f5104c4157f4": {
      "model_module": "@jupyter-widgets/controls",
      "model_module_version": "1.5.0",
      "model_name": "SliderStyleModel",
      "state": {
       "description_width": "initial"
      }
     },
     "42931795fe33419da9581d3d8129da2f": {
      "model_module": "@jupyter-widgets/controls",
      "model_module_version": "1.5.0",
      "model_name": "SliderStyleModel",
      "state": {
       "description_width": "initial"
      }
     },
     "429557b73027439785915b42b4ee9446": {
      "model_module": "@jupyter-widgets/base",
      "model_module_version": "1.2.0",
      "model_name": "LayoutModel",
      "state": {}
     },
     "42a4e20afd1c498d864b0cba95f181ed": {
      "model_module": "@jupyter-widgets/base",
      "model_module_version": "1.2.0",
      "model_name": "LayoutModel",
      "state": {}
     },
     "42ab00fc5f2242bc85b6c512dcf6254e": {
      "model_module": "@jupyter-widgets/controls",
      "model_module_version": "1.5.0",
      "model_name": "SliderStyleModel",
      "state": {
       "description_width": "initial"
      }
     },
     "42cb40c997514dc4a208c3f3b76ad5be": {
      "model_module": "@jupyter-widgets/base",
      "model_module_version": "1.2.0",
      "model_name": "LayoutModel",
      "state": {}
     },
     "42d602ae474a4ba2ae20a528185fac87": {
      "model_module": "@jupyter-widgets/base",
      "model_module_version": "1.2.0",
      "model_name": "LayoutModel",
      "state": {}
     },
     "431d0fd960e5490289d4f087339bd5b2": {
      "model_module": "@jupyter-widgets/output",
      "model_module_version": "1.0.0",
      "model_name": "OutputModel",
      "state": {
       "layout": "IPY_MODEL_35997acb0eb74e44926d6bdc4f970116"
      }
     },
     "43354123332d4aaaaf301854d35a76a9": {
      "model_module": "@jupyter-widgets/controls",
      "model_module_version": "1.5.0",
      "model_name": "HBoxModel",
      "state": {
       "children": [
        "IPY_MODEL_c148862c7a9a4121b005470debe18de5",
        "IPY_MODEL_6a82a3b6a227437d9cc8b71c67dea540"
       ],
       "layout": "IPY_MODEL_21cca55354fc43cca623d7b9d9cb14e4"
      }
     },
     "43bf4d436aab4c52a231e0464ac194e8": {
      "model_module": "@jupyter-widgets/base",
      "model_module_version": "1.2.0",
      "model_name": "LayoutModel",
      "state": {}
     },
     "43c6978c111547c4ac8c2cb4ec49fb11": {
      "model_module": "@jupyter-widgets/base",
      "model_module_version": "1.2.0",
      "model_name": "LayoutModel",
      "state": {}
     },
     "43ce212e757045ba939a4b5367d54b36": {
      "model_module": "@jupyter-widgets/controls",
      "model_module_version": "1.5.0",
      "model_name": "SliderStyleModel",
      "state": {
       "description_width": "initial"
      }
     },
     "43d7d16388a34fc9b4cdf37a093cde96": {
      "model_module": "@jupyter-widgets/controls",
      "model_module_version": "1.5.0",
      "model_name": "SliderStyleModel",
      "state": {
       "description_width": "initial"
      }
     },
     "4455e8b96a4046b49389857def060d04": {
      "model_module": "@jupyter-widgets/controls",
      "model_module_version": "1.5.0",
      "model_name": "IntSliderModel",
      "state": {
       "continuous_update": false,
       "description": "Periods",
       "layout": "IPY_MODEL_09b2a1f76c9048faac6c8adf23ec4698",
       "max": 50,
       "min": 1,
       "style": "IPY_MODEL_3fc5e3d84b6d42aa8d94b744450df55a",
       "value": 2
      }
     },
     "4458464fd1aa4f43ae565fe6c7d2e89f": {
      "model_module": "@jupyter-widgets/base",
      "model_module_version": "1.2.0",
      "model_name": "LayoutModel",
      "state": {}
     },
     "4458ac89a856469ebeb4d3c6fb29f4ea": {
      "model_module": "@jupyter-widgets/base",
      "model_module_version": "1.2.0",
      "model_name": "LayoutModel",
      "state": {}
     },
     "446a3c2807824af09097444e96979889": {
      "model_module": "@jupyter-widgets/base",
      "model_module_version": "1.2.0",
      "model_name": "LayoutModel",
      "state": {}
     },
     "447fb79ac7544fb88fb72b95da11f906": {
      "model_module": "@jupyter-widgets/controls",
      "model_module_version": "1.5.0",
      "model_name": "VBoxModel",
      "state": {
       "_dom_classes": [
        "widget-interact"
       ],
       "children": [
        "IPY_MODEL_603fb267441d483dac569e4eee30cd42",
        "IPY_MODEL_9faf28b216a94019bbf38a805a769869",
        "IPY_MODEL_b8ddfd1e7984445ea109f5666041dbcd",
        "IPY_MODEL_0766deedacee4347a94b0e0a5e971939"
       ],
       "layout": "IPY_MODEL_477e47b5e1d149b49dc3872524c7499b"
      }
     },
     "449cf9bc7de346258181fe6c536cec99": {
      "model_module": "@jupyter-widgets/controls",
      "model_module_version": "1.5.0",
      "model_name": "SliderStyleModel",
      "state": {
       "description_width": "initial"
      }
     },
     "44a53fbc9b1f4cdcbbd6a55626c3fabb": {
      "model_module": "@jupyter-widgets/controls",
      "model_module_version": "1.5.0",
      "model_name": "IntSliderModel",
      "state": {
       "description": "0-Padding",
       "layout": "IPY_MODEL_dd2f7a5a3f75438fb89071e03670ed13",
       "max": 760,
       "step": 25,
       "style": "IPY_MODEL_3f8c0a0992284248944a720d017befd6",
       "value": 450
      }
     },
     "44b036d2e68d4585b26f34bedc690586": {
      "model_module": "@jupyter-widgets/controls",
      "model_module_version": "1.5.0",
      "model_name": "IntSliderModel",
      "state": {
       "continuous_update": false,
       "description": "Periods",
       "layout": "IPY_MODEL_9aec67d5f38b4a4f81f70a66e081cf40",
       "max": 50,
       "min": 1,
       "style": "IPY_MODEL_7b7731f3d1e24fd0b94de3735b2f097b",
       "value": 2
      }
     },
     "44b07d875c0e4a11915099ace38ade6c": {
      "model_module": "@jupyter-widgets/base",
      "model_module_version": "1.2.0",
      "model_name": "LayoutModel",
      "state": {}
     },
     "44bd4a04d0a94445adf0fd74bb037b18": {
      "model_module": "@jupyter-widgets/base",
      "model_module_version": "1.2.0",
      "model_name": "LayoutModel",
      "state": {}
     },
     "44c20b9d04c64579b0ef187bd86eeb89": {
      "model_module": "@jupyter-widgets/controls",
      "model_module_version": "1.5.0",
      "model_name": "IntSliderModel",
      "state": {
       "continuous_update": false,
       "description": "Periods",
       "layout": "IPY_MODEL_e5ed0268129944bc8d86af0247f64ed5",
       "max": 50,
       "min": 1,
       "style": "IPY_MODEL_fce84762f1804941b6ec15cd1cd13707",
       "value": 18
      }
     },
     "44c22aa6012a4e36b0bfa8af0a86a686": {
      "model_module": "@jupyter-widgets/output",
      "model_module_version": "1.0.0",
      "model_name": "OutputModel",
      "state": {
       "layout": "IPY_MODEL_a1689d9552504850b6e20ec9cdf937a3"
      }
     },
     "44d15128dea5436a94d716a252b2debb": {
      "model_module": "@jupyter-widgets/base",
      "model_module_version": "1.2.0",
      "model_name": "LayoutModel",
      "state": {}
     },
     "44da87ce9cfc4ca39cc681d59fc06947": {
      "model_module": "@jupyter-widgets/controls",
      "model_module_version": "1.5.0",
      "model_name": "HBoxModel",
      "state": {
       "children": [
        "IPY_MODEL_30ff27ca43eb4ecd9883f0c0beab87d1",
        "IPY_MODEL_b1a24894c9574c62b4f0d3d1c6383b65"
       ],
       "layout": "IPY_MODEL_7106c110af444563bda9e60709d4fef7"
      }
     },
     "452ad8b526434c9eb2bfac58117ac6d2": {
      "model_module": "@jupyter-widgets/controls",
      "model_module_version": "1.5.0",
      "model_name": "IntSliderModel",
      "state": {
       "continuous_update": false,
       "description": "0-Padding",
       "layout": "IPY_MODEL_fd30b106d83747d891c66e351e9ed20e",
       "max": 500,
       "style": "IPY_MODEL_f5542719dd494bacaa0ed836f4722091",
       "value": 363
      }
     },
     "457507d788374166a294288e44dbac3a": {
      "model_module": "@jupyter-widgets/controls",
      "model_module_version": "1.5.0",
      "model_name": "IntSliderModel",
      "state": {
       "continuous_update": false,
       "description": "Periods",
       "layout": "IPY_MODEL_e7055fb9470643528ce8f8dfc448f45e",
       "max": 50,
       "min": 1,
       "style": "IPY_MODEL_09a98643c27545fcafb21c5ed5d38d4f",
       "value": 9
      }
     },
     "4585b9e1b8ff4ca98e82853ef7e0533c": {
      "model_module": "@jupyter-widgets/base",
      "model_module_version": "1.2.0",
      "model_name": "LayoutModel",
      "state": {}
     },
     "45d5602b8626481185720e9befce90d8": {
      "model_module": "@jupyter-widgets/controls",
      "model_module_version": "1.5.0",
      "model_name": "SliderStyleModel",
      "state": {
       "description_width": "initial"
      }
     },
     "460b30dcec814a0a95bfbdf501fcfe11": {
      "model_module": "jupyter-matplotlib",
      "model_module_version": "^0.7.4",
      "model_name": "ToolbarModel",
      "state": {
       "layout": "IPY_MODEL_06876b02ea85459b97b24a605540b7c8",
       "toolitems": [
        [
         "Home",
         "Reset original view",
         "home",
         "home"
        ],
        [
         "Back",
         "Back to previous view",
         "arrow-left",
         "back"
        ],
        [
         "Forward",
         "Forward to next view",
         "arrow-right",
         "forward"
        ],
        [
         "Pan",
         "Left button pans, Right button zooms\nx/y fixes axis, CTRL fixes aspect",
         "arrows",
         "pan"
        ],
        [
         "Zoom",
         "Zoom to rectangle\nx/y fixes axis, CTRL fixes aspect",
         "square-o",
         "zoom"
        ],
        [
         "Download",
         "Download plot",
         "floppy-o",
         "save_figure"
        ]
       ]
      }
     },
     "460dfce6934e409c98cb6725e1398321": {
      "model_module": "@jupyter-widgets/base",
      "model_module_version": "1.2.0",
      "model_name": "LayoutModel",
      "state": {}
     },
     "461897366ffa4c458fa62487dd9bf97e": {
      "model_module": "jupyter-matplotlib",
      "model_module_version": "^0.7.4",
      "model_name": "ToolbarModel",
      "state": {
       "layout": "IPY_MODEL_d56e913559bf469ba1dc2c301f772b71",
       "toolitems": [
        [
         "Home",
         "Reset original view",
         "home",
         "home"
        ],
        [
         "Back",
         "Back to previous view",
         "arrow-left",
         "back"
        ],
        [
         "Forward",
         "Forward to next view",
         "arrow-right",
         "forward"
        ],
        [
         "Pan",
         "Left button pans, Right button zooms\nx/y fixes axis, CTRL fixes aspect",
         "arrows",
         "pan"
        ],
        [
         "Zoom",
         "Zoom to rectangle\nx/y fixes axis, CTRL fixes aspect",
         "square-o",
         "zoom"
        ],
        [
         "Download",
         "Download plot",
         "floppy-o",
         "save_figure"
        ]
       ]
      }
     },
     "461afc9465a742259a17cd5401ef4125": {
      "model_module": "jupyter-matplotlib",
      "model_module_version": "^0.7.4",
      "model_name": "ToolbarModel",
      "state": {
       "layout": "IPY_MODEL_33d577c8a6bc41e1b091805a3d0b0286",
       "toolitems": [
        [
         "Home",
         "Reset original view",
         "home",
         "home"
        ],
        [
         "Back",
         "Back to previous view",
         "arrow-left",
         "back"
        ],
        [
         "Forward",
         "Forward to next view",
         "arrow-right",
         "forward"
        ],
        [
         "Pan",
         "Left button pans, Right button zooms\nx/y fixes axis, CTRL fixes aspect",
         "arrows",
         "pan"
        ],
        [
         "Zoom",
         "Zoom to rectangle\nx/y fixes axis, CTRL fixes aspect",
         "square-o",
         "zoom"
        ],
        [
         "Download",
         "Download plot",
         "floppy-o",
         "save_figure"
        ]
       ]
      }
     },
     "466a314380174a2985cca674cfeeefd0": {
      "model_module": "@jupyter-widgets/base",
      "model_module_version": "1.2.0",
      "model_name": "LayoutModel",
      "state": {}
     },
     "466a4c7ce1d44ce9b89344ffd2c8fa59": {
      "model_module": "@jupyter-widgets/base",
      "model_module_version": "1.2.0",
      "model_name": "LayoutModel",
      "state": {}
     },
     "466b852d78704261893a779e3a9bb3aa": {
      "model_module": "@jupyter-widgets/controls",
      "model_module_version": "1.5.0",
      "model_name": "VBoxModel",
      "state": {
       "_dom_classes": [
        "widget-interact"
       ],
       "children": [
        "IPY_MODEL_a484e3dd20e14f72aaf3e61a097f9def",
        "IPY_MODEL_26054f8c17a245afb466276507107536",
        "IPY_MODEL_cc0b3861abb74d968f6bbf4d0bf4b989",
        "IPY_MODEL_0de069297f614ea4bc48d0c5794197fa"
       ],
       "layout": "IPY_MODEL_e6f7c3d6e3f34899837a004b55dc38eb"
      }
     },
     "468f14a5b4254ce3bd8e2c78672384f8": {
      "model_module": "@jupyter-widgets/base",
      "model_module_version": "1.2.0",
      "model_name": "LayoutModel",
      "state": {}
     },
     "469ba0331e0e4705a9bd1eae1242f369": {
      "model_module": "@jupyter-widgets/controls",
      "model_module_version": "1.5.0",
      "model_name": "HBoxModel",
      "state": {
       "children": [
        "IPY_MODEL_ab90c5a0e1cd402d86106ea2d77df82e",
        "IPY_MODEL_629f9ff32fe54da1b510393b5865216b"
       ],
       "layout": "IPY_MODEL_85a9cd330fad46e1aafe2e12b60e3666"
      }
     },
     "46a28693ba02413588656470fdca0152": {
      "model_module": "@jupyter-widgets/controls",
      "model_module_version": "1.5.0",
      "model_name": "VBoxModel",
      "state": {
       "children": [
        "IPY_MODEL_1ab32862b11f40749d5875fe7b961d81",
        "IPY_MODEL_1d19031889794d729316e5e5b142f5de",
        "IPY_MODEL_48a4a177a67b4c95b9967e8c793908a2"
       ],
       "layout": "IPY_MODEL_ee55b4689d4a47f48599b3f837763456"
      }
     },
     "46aef6a83a1d4a8a9cd36e0c8188a905": {
      "model_module": "@jupyter-widgets/base",
      "model_module_version": "1.2.0",
      "model_name": "LayoutModel",
      "state": {}
     },
     "46afaa225d9e4b32a09a253565bbe56f": {
      "model_module": "@jupyter-widgets/output",
      "model_module_version": "1.0.0",
      "model_name": "OutputModel",
      "state": {
       "layout": "IPY_MODEL_0ec5b6e387014580b131c7f7b6147e9f"
      }
     },
     "46ce229f5cda4223b111df5caa838fee": {
      "model_module": "@jupyter-widgets/base",
      "model_module_version": "1.2.0",
      "model_name": "LayoutModel",
      "state": {}
     },
     "46dfe91f65b04f6fbd62f3051e4325c3": {
      "model_module": "@jupyter-widgets/controls",
      "model_module_version": "1.5.0",
      "model_name": "IntSliderModel",
      "state": {
       "continuous_update": false,
       "description": "Sampling (Hz)",
       "layout": "IPY_MODEL_51027c7c771945f4aaad2260db254b2c",
       "max": 12,
       "min": 2,
       "step": 2,
       "style": "IPY_MODEL_c56ce6defdc9452e913e0db48014d6a8",
       "value": 4
      }
     },
     "46f90d720d1c411c919baee40d5f0c7b": {
      "model_module": "@jupyter-widgets/base",
      "model_module_version": "1.2.0",
      "model_name": "LayoutModel",
      "state": {}
     },
     "4702317eee6b4a52a8d24707dfef9556": {
      "model_module": "@jupyter-widgets/controls",
      "model_module_version": "1.5.0",
      "model_name": "IntSliderModel",
      "state": {
       "continuous_update": false,
       "description": "Periods",
       "layout": "IPY_MODEL_ad9260f1bbf64745b8febcd5d0a42ca0",
       "max": 50,
       "min": 1,
       "style": "IPY_MODEL_72655bea74c74bcaace3818f72a32df3",
       "value": 2
      }
     },
     "4716d79020744f9f8072cfee40aed64d": {
      "model_module": "@jupyter-widgets/base",
      "model_module_version": "1.2.0",
      "model_name": "LayoutModel",
      "state": {}
     },
     "4719947edebf4de7aed7d7240d8d6fb5": {
      "model_module": "@jupyter-widgets/controls",
      "model_module_version": "1.5.0",
      "model_name": "VBoxModel",
      "state": {
       "_dom_classes": [
        "widget-interact"
       ],
       "children": [
        "IPY_MODEL_5bdf351f278f4976878e930e1eb8012a",
        "IPY_MODEL_2f01b5c580844d6c8ba92967861f62d8",
        "IPY_MODEL_86d9dab2d4574ede88a796ccb5c8f08b",
        "IPY_MODEL_431d0fd960e5490289d4f087339bd5b2"
       ],
       "layout": "IPY_MODEL_5e6a8fbac1564c8694c8683bdd1ece1a"
      }
     },
     "4737bb8b9dd142188df633973508294a": {
      "model_module": "@jupyter-widgets/base",
      "model_module_version": "1.2.0",
      "model_name": "LayoutModel",
      "state": {}
     },
     "473a3f7a73274a8ebd51c2addcb7024b": {
      "model_module": "@jupyter-widgets/controls",
      "model_module_version": "1.5.0",
      "model_name": "SliderStyleModel",
      "state": {
       "description_width": "initial"
      }
     },
     "4744be53d3b542729ccdb1f50df34df8": {
      "model_module": "@jupyter-widgets/base",
      "model_module_version": "1.2.0",
      "model_name": "LayoutModel",
      "state": {
       "align_items": "center",
       "display": "flex"
      }
     },
     "4777e7333534429eb3533560e9a4ae28": {
      "model_module": "@jupyter-widgets/controls",
      "model_module_version": "1.5.0",
      "model_name": "SliderStyleModel",
      "state": {
       "description_width": "initial"
      }
     },
     "477e47b5e1d149b49dc3872524c7499b": {
      "model_module": "@jupyter-widgets/base",
      "model_module_version": "1.2.0",
      "model_name": "LayoutModel",
      "state": {}
     },
     "47a67804444f40509d268704d710e284": {
      "model_module": "@jupyter-widgets/controls",
      "model_module_version": "1.5.0",
      "model_name": "IntSliderModel",
      "state": {
       "continuous_update": false,
       "description": "0-Padding",
       "layout": "IPY_MODEL_659c632ab2a9460e970bfe1f8a27f7b1",
       "max": 500,
       "style": "IPY_MODEL_5afdab1d7c7e49028710862f5b732b6a"
      }
     },
     "47dbce0ecd014fc69e73dc4eeeff7b78": {
      "model_module": "@jupyter-widgets/controls",
      "model_module_version": "1.5.0",
      "model_name": "SliderStyleModel",
      "state": {
       "description_width": "initial"
      }
     },
     "47e70dcef7ae4f8f929e1f737168eb71": {
      "model_module": "@jupyter-widgets/base",
      "model_module_version": "1.2.0",
      "model_name": "LayoutModel",
      "state": {}
     },
     "4826f4a280734c3f9ba50d0616926aa3": {
      "model_module": "@jupyter-widgets/controls",
      "model_module_version": "1.5.0",
      "model_name": "VBoxModel",
      "state": {
       "_dom_classes": [
        "widget-interact"
       ],
       "children": [
        "IPY_MODEL_bcd3199e4b7d48e4a0ae2eb6759acf87",
        "IPY_MODEL_c4a4c221d63d40dea3f3926d0bec3ebd",
        "IPY_MODEL_aa5eb146816b44ad8c8de6b832ad4f35",
        "IPY_MODEL_39d4708cb66a403a91edd65b8d0657bb"
       ],
       "layout": "IPY_MODEL_f87ba0ade03c474d97a70120c70b3062"
      }
     },
     "482775d4780f4f37b4fb42da59c00bd2": {
      "model_module": "@jupyter-widgets/controls",
      "model_module_version": "1.5.0",
      "model_name": "SliderStyleModel",
      "state": {
       "description_width": "initial"
      }
     },
     "483bae82ba7e42af9e1591e599a654f1": {
      "model_module": "jupyter-matplotlib",
      "model_module_version": "^0.7.4",
      "model_name": "ToolbarModel",
      "state": {
       "_current_action": "pan",
       "layout": "IPY_MODEL_5a383c9baa444b63a17ac5ee87bfb1d3",
       "toolitems": [
        [
         "Home",
         "Reset original view",
         "home",
         "home"
        ],
        [
         "Back",
         "Back to previous view",
         "arrow-left",
         "back"
        ],
        [
         "Forward",
         "Forward to next view",
         "arrow-right",
         "forward"
        ],
        [
         "Pan",
         "Left button pans, Right button zooms\nx/y fixes axis, CTRL fixes aspect",
         "arrows",
         "pan"
        ],
        [
         "Zoom",
         "Zoom to rectangle\nx/y fixes axis, CTRL fixes aspect",
         "square-o",
         "zoom"
        ],
        [
         "Download",
         "Download plot",
         "floppy-o",
         "save_figure"
        ]
       ]
      }
     },
     "483bd89cddd04462b4fa9469eb3c7711": {
      "model_module": "@jupyter-widgets/controls",
      "model_module_version": "1.5.0",
      "model_name": "VBoxModel",
      "state": {
       "_dom_classes": [
        "widget-interact"
       ],
       "children": [
        "IPY_MODEL_74e98234c182422abf0ba68758b6ced1",
        "IPY_MODEL_106ada5269df47a8bb9deb5667a64566",
        "IPY_MODEL_712edfa25abb455999fa6954f4da0454",
        "IPY_MODEL_8bf5520614ca46adbcba91fce0ece273"
       ],
       "layout": "IPY_MODEL_a5d0cf68ac524cc6bdf8a7d8ffc51d3a"
      }
     },
     "485e25cb01894a07bba9af62504d1211": {
      "model_module": "@jupyter-widgets/controls",
      "model_module_version": "1.5.0",
      "model_name": "VBoxModel",
      "state": {
       "children": [
        "IPY_MODEL_f8b610aaa29e49dd9ab7801fe329e61f",
        "IPY_MODEL_0bfd27b80fb44a46bcae05230067c2d0",
        "IPY_MODEL_51179b6a78574f9e8839e3d2a6159b75"
       ],
       "layout": "IPY_MODEL_b95cc23a481545a6a6208c8febfdf53f"
      }
     },
     "48764feaf9694770a0860a30e9a14e33": {
      "model_module": "@jupyter-widgets/controls",
      "model_module_version": "1.5.0",
      "model_name": "SliderStyleModel",
      "state": {
       "description_width": "initial"
      }
     },
     "48865d688ed34cde970f31cc16725fe9": {
      "model_module": "@jupyter-widgets/base",
      "model_module_version": "1.2.0",
      "model_name": "LayoutModel",
      "state": {}
     },
     "488e4917ca614d069c0c4860a9dc4ebf": {
      "model_module": "@jupyter-widgets/base",
      "model_module_version": "1.2.0",
      "model_name": "LayoutModel",
      "state": {}
     },
     "488e8ae1719e4da78f32ea8aa2dc2a75": {
      "model_module": "@jupyter-widgets/output",
      "model_module_version": "1.0.0",
      "model_name": "OutputModel",
      "state": {
       "layout": "IPY_MODEL_0fe43be0b280415081c5e7ace780fbcc"
      }
     },
     "4891a7dca0144d5a9fae6b9a4c7e4077": {
      "model_module": "@jupyter-widgets/base",
      "model_module_version": "1.2.0",
      "model_name": "LayoutModel",
      "state": {}
     },
     "48a4a177a67b4c95b9967e8c793908a2": {
      "model_module": "@jupyter-widgets/controls",
      "model_module_version": "1.5.0",
      "model_name": "IntSliderModel",
      "state": {
       "continuous_update": false,
       "description": "0-Padding",
       "layout": "IPY_MODEL_b5d33cb2f93b4fc8a3d6fc6b35212c99",
       "max": 500,
       "style": "IPY_MODEL_4abe71a9eca946849c1fca787a1fd781",
       "value": 156
      }
     },
     "48afb9bca40b4230870717e48bb9e8d1": {
      "model_module": "@jupyter-widgets/controls",
      "model_module_version": "1.5.0",
      "model_name": "SliderStyleModel",
      "state": {
       "description_width": "initial"
      }
     },
     "48b1541da5bc4aafb24da609881e0f60": {
      "model_module": "@jupyter-widgets/base",
      "model_module_version": "1.2.0",
      "model_name": "LayoutModel",
      "state": {}
     },
     "48b3539ac43f43709f269f7c44f85544": {
      "model_module": "@jupyter-widgets/controls",
      "model_module_version": "1.5.0",
      "model_name": "IntSliderModel",
      "state": {
       "continuous_update": false,
       "description": "0-Padding",
       "layout": "IPY_MODEL_d41b71d889fa498dbf3dda9910e9569d",
       "max": 500,
       "style": "IPY_MODEL_952d5786b555445a83389dcfbbfb92d7"
      }
     },
     "48b8b98159fe487a88493ffb6d119d32": {
      "model_module": "@jupyter-widgets/controls",
      "model_module_version": "1.5.0",
      "model_name": "IntSliderModel",
      "state": {
       "continuous_update": false,
       "description": "Periods",
       "layout": "IPY_MODEL_4178fc3f18de43209b3c5efe2d03e9b4",
       "max": 50,
       "min": 1,
       "style": "IPY_MODEL_1d14239892be45d08fe7069c8268d8a0",
       "value": 26
      }
     },
     "48c6f0c174b64722894b45ee96ef0a5e": {
      "model_module": "@jupyter-widgets/output",
      "model_module_version": "1.0.0",
      "model_name": "OutputModel",
      "state": {
       "layout": "IPY_MODEL_1a1e3088f9644a7fa3b2f20b5870cb08"
      }
     },
     "48dc7d7c5a7f4f9d8b683f5eaa8f7414": {
      "model_module": "@jupyter-widgets/controls",
      "model_module_version": "1.5.0",
      "model_name": "IntSliderModel",
      "state": {
       "continuous_update": false,
       "description": "Sampling (Hz)",
       "layout": "IPY_MODEL_406ae01606c549d7afc4bce1d578b6a2",
       "max": 20,
       "min": 2,
       "step": 2,
       "style": "IPY_MODEL_f4140f44e3274fea9b5afc43fc7da54b",
       "value": 4
      }
     },
     "48ea97da264b4cfb8d9ddfab8a07dcc4": {
      "model_module": "@jupyter-widgets/controls",
      "model_module_version": "1.5.0",
      "model_name": "HBoxModel",
      "state": {
       "children": [
        "IPY_MODEL_96599e38944c420883a99e4c01747bf1",
        "IPY_MODEL_ab4d993b2aa7424fa633a161fb0facbc"
       ],
       "layout": "IPY_MODEL_06b754a69cd24aa19cfec870763fde1a"
      }
     },
     "49543fc375f145799cb4fa11065621e7": {
      "model_module": "@jupyter-widgets/base",
      "model_module_version": "1.2.0",
      "model_name": "LayoutModel",
      "state": {}
     },
     "496d6294f67449b99a9889e03b068f39": {
      "model_module": "@jupyter-widgets/base",
      "model_module_version": "1.2.0",
      "model_name": "LayoutModel",
      "state": {}
     },
     "497adfc332064148b18266065a00aaa1": {
      "model_module": "@jupyter-widgets/base",
      "model_module_version": "1.2.0",
      "model_name": "LayoutModel",
      "state": {}
     },
     "4982fad83a364d428069bdcbeee7c312": {
      "model_module": "@jupyter-widgets/base",
      "model_module_version": "1.2.0",
      "model_name": "LayoutModel",
      "state": {}
     },
     "4990f378167842c3919b27a4a8efe103": {
      "model_module": "@jupyter-widgets/base",
      "model_module_version": "1.2.0",
      "model_name": "LayoutModel",
      "state": {}
     },
     "499628b012fd48708784c41b1cd0ef3a": {
      "model_module": "@jupyter-widgets/base",
      "model_module_version": "1.2.0",
      "model_name": "LayoutModel",
      "state": {}
     },
     "49ba6cc12bfc42eda801f857475eaec2": {
      "model_module": "@jupyter-widgets/controls",
      "model_module_version": "1.5.0",
      "model_name": "SliderStyleModel",
      "state": {
       "description_width": "initial"
      }
     },
     "49de8c8f07f64bfbb6614c2992994ef3": {
      "model_module": "@jupyter-widgets/base",
      "model_module_version": "1.2.0",
      "model_name": "LayoutModel",
      "state": {}
     },
     "4a174b067a7c48c982de4da7cf05ee8e": {
      "model_module": "@jupyter-widgets/output",
      "model_module_version": "1.0.0",
      "model_name": "OutputModel",
      "state": {
       "layout": "IPY_MODEL_14370765f0f440a08b372c752229bafc"
      }
     },
     "4a2c8d74fa2e4f11bc53e3b46628b915": {
      "model_module": "@jupyter-widgets/base",
      "model_module_version": "1.2.0",
      "model_name": "LayoutModel",
      "state": {}
     },
     "4a89dcd87c4149bcacc0a760ffc3b65d": {
      "model_module": "@jupyter-widgets/controls",
      "model_module_version": "1.5.0",
      "model_name": "SliderStyleModel",
      "state": {
       "description_width": "initial"
      }
     },
     "4aa4ef398fcd4c338baf18ae320f55c8": {
      "model_module": "@jupyter-widgets/base",
      "model_module_version": "1.2.0",
      "model_name": "LayoutModel",
      "state": {}
     },
     "4ab4bc3245ca44abb872f74ee61a5adb": {
      "model_module": "@jupyter-widgets/output",
      "model_module_version": "1.0.0",
      "model_name": "OutputModel",
      "state": {
       "layout": "IPY_MODEL_177de2c9d05549d5b66312b2a5e1c623"
      }
     },
     "4abbbdd7a0c149d0a7b3f585b575732d": {
      "model_module": "@jupyter-widgets/base",
      "model_module_version": "1.2.0",
      "model_name": "LayoutModel",
      "state": {}
     },
     "4abe71a9eca946849c1fca787a1fd781": {
      "model_module": "@jupyter-widgets/controls",
      "model_module_version": "1.5.0",
      "model_name": "SliderStyleModel",
      "state": {
       "description_width": "initial"
      }
     },
     "4af74e2a92144e968fb9b32d409f508e": {
      "model_module": "@jupyter-widgets/base",
      "model_module_version": "1.2.0",
      "model_name": "LayoutModel",
      "state": {}
     },
     "4b1487497282434b929980dbf1682683": {
      "model_module": "@jupyter-widgets/controls",
      "model_module_version": "1.5.0",
      "model_name": "SliderStyleModel",
      "state": {
       "description_width": "initial"
      }
     },
     "4b254189c70b49bbb1e42630bfdf58e4": {
      "model_module": "@jupyter-widgets/base",
      "model_module_version": "1.2.0",
      "model_name": "LayoutModel",
      "state": {}
     },
     "4b3a5663b38440b0be4b300258857913": {
      "model_module": "@jupyter-widgets/base",
      "model_module_version": "1.2.0",
      "model_name": "LayoutModel",
      "state": {}
     },
     "4b417fdbfee14c12b5bf08b87ce686e0": {
      "model_module": "@jupyter-widgets/controls",
      "model_module_version": "1.5.0",
      "model_name": "IntSliderModel",
      "state": {
       "continuous_update": false,
       "description": "Sampling (Hz)",
       "layout": "IPY_MODEL_814ddbaadffd4a1c9ee7229ce8f4a199",
       "max": 12,
       "min": 2,
       "step": 2,
       "style": "IPY_MODEL_7ec2708e929e4537abe71e43999a0592",
       "value": 8
      }
     },
     "4b532a8ee3b14f97b11f76481226e673": {
      "model_module": "@jupyter-widgets/controls",
      "model_module_version": "1.5.0",
      "model_name": "SliderStyleModel",
      "state": {
       "description_width": "initial"
      }
     },
     "4b7eabce2e21408ebd7c4655f51c437c": {
      "model_module": "@jupyter-widgets/controls",
      "model_module_version": "1.5.0",
      "model_name": "IntSliderModel",
      "state": {
       "continuous_update": false,
       "description": "0-Padding",
       "layout": "IPY_MODEL_0884b6fa169148ea8e9595dbfd22eabe",
       "max": 500,
       "style": "IPY_MODEL_41448de46a164175a3144746c9f12f04",
       "value": 500
      }
     },
     "4b84fa2b47794e188414683b9b9eca2e": {
      "model_module": "@jupyter-widgets/controls",
      "model_module_version": "1.5.0",
      "model_name": "IntSliderModel",
      "state": {
       "description": "Sampling (Hz)",
       "layout": "IPY_MODEL_13c4920143124ee19ae9be717483a49e",
       "max": 12,
       "min": 2,
       "step": 2,
       "style": "IPY_MODEL_06a069583c2a45c28e33f7e08842d8ca",
       "value": 6
      }
     },
     "4ba2d549f45541a18e48e94daf7c221e": {
      "model_module": "@jupyter-widgets/output",
      "model_module_version": "1.0.0",
      "model_name": "OutputModel",
      "state": {
       "layout": "IPY_MODEL_cb75db9ccfea4268ac73a19a4ea5aa4f",
       "outputs": [
        {
         "ename": "NameError",
         "evalue": "name 'normalizedMagnitudeFFT' is not defined",
         "output_type": "error",
         "traceback": [
          "\u001b[1;31m---------------------------------------------------------------------------\u001b[0m",
          "\u001b[1;31mNameError\u001b[0m                                 Traceback (most recent call last)",
          "\u001b[1;32mE:\\Software\\Anaconda3\\lib\\site-packages\\ipywidgets\\widgets\\interaction.py\u001b[0m in \u001b[0;36mupdate\u001b[1;34m(self, *args)\u001b[0m\n\u001b[0;32m    254\u001b[0m                     \u001b[0mvalue\u001b[0m \u001b[1;33m=\u001b[0m \u001b[0mwidget\u001b[0m\u001b[1;33m.\u001b[0m\u001b[0mget_interact_value\u001b[0m\u001b[1;33m(\u001b[0m\u001b[1;33m)\u001b[0m\u001b[1;33m\u001b[0m\u001b[1;33m\u001b[0m\u001b[0m\n\u001b[0;32m    255\u001b[0m                     \u001b[0mself\u001b[0m\u001b[1;33m.\u001b[0m\u001b[0mkwargs\u001b[0m\u001b[1;33m[\u001b[0m\u001b[0mwidget\u001b[0m\u001b[1;33m.\u001b[0m\u001b[0m_kwarg\u001b[0m\u001b[1;33m]\u001b[0m \u001b[1;33m=\u001b[0m \u001b[0mvalue\u001b[0m\u001b[1;33m\u001b[0m\u001b[1;33m\u001b[0m\u001b[0m\n\u001b[1;32m--> 256\u001b[1;33m                 \u001b[0mself\u001b[0m\u001b[1;33m.\u001b[0m\u001b[0mresult\u001b[0m \u001b[1;33m=\u001b[0m \u001b[0mself\u001b[0m\u001b[1;33m.\u001b[0m\u001b[0mf\u001b[0m\u001b[1;33m(\u001b[0m\u001b[1;33m**\u001b[0m\u001b[0mself\u001b[0m\u001b[1;33m.\u001b[0m\u001b[0mkwargs\u001b[0m\u001b[1;33m)\u001b[0m\u001b[1;33m\u001b[0m\u001b[1;33m\u001b[0m\u001b[0m\n\u001b[0m\u001b[0;32m    257\u001b[0m                 \u001b[0mshow_inline_matplotlib_plots\u001b[0m\u001b[1;33m(\u001b[0m\u001b[1;33m)\u001b[0m\u001b[1;33m\u001b[0m\u001b[1;33m\u001b[0m\u001b[0m\n\u001b[0;32m    258\u001b[0m                 \u001b[1;32mif\u001b[0m \u001b[0mself\u001b[0m\u001b[1;33m.\u001b[0m\u001b[0mauto_display\u001b[0m \u001b[1;32mand\u001b[0m \u001b[0mself\u001b[0m\u001b[1;33m.\u001b[0m\u001b[0mresult\u001b[0m \u001b[1;32mis\u001b[0m \u001b[1;32mnot\u001b[0m \u001b[1;32mNone\u001b[0m\u001b[1;33m:\u001b[0m\u001b[1;33m\u001b[0m\u001b[1;33m\u001b[0m\u001b[0m\n",
          "\u001b[1;32m<ipython-input-15-0855087343c0>\u001b[0m in \u001b[0;36mdisplayDFT\u001b[1;34m(numberOfPeriods, samplesPerPeriod, zeroPadding)\u001b[0m\n\u001b[0;32m     72\u001b[0m     \u001b[1;31m# FFT\u001b[0m\u001b[1;33m\u001b[0m\u001b[1;33m\u001b[0m\u001b[1;33m\u001b[0m\u001b[0m\n\u001b[0;32m     73\u001b[0m     \u001b[0max3\u001b[0m\u001b[1;33m.\u001b[0m\u001b[0mclear\u001b[0m\u001b[1;33m(\u001b[0m\u001b[1;33m)\u001b[0m\u001b[1;33m\u001b[0m\u001b[1;33m\u001b[0m\u001b[0m\n\u001b[1;32m---> 74\u001b[1;33m     \u001b[0max3\u001b[0m\u001b[1;33m.\u001b[0m\u001b[0mplot\u001b[0m\u001b[1;33m(\u001b[0m\u001b[0mf\u001b[0m\u001b[1;33m,\u001b[0m\u001b[0mnp\u001b[0m\u001b[1;33m.\u001b[0m\u001b[0mconcatenate\u001b[0m\u001b[1;33m(\u001b[0m\u001b[1;33m[\u001b[0m\u001b[1;33m(\u001b[0m\u001b[0mnormalizedMagnitudeFFT\u001b[0m\u001b[1;33m)\u001b[0m\u001b[1;33m[\u001b[0m\u001b[0mint\u001b[0m\u001b[1;33m(\u001b[0m\u001b[1;33m(\u001b[0m\u001b[0mN\u001b[0m\u001b[1;33m/\u001b[0m\u001b[1;36m2\u001b[0m\u001b[1;33m)\u001b[0m\u001b[1;33m)\u001b[0m\u001b[1;33m+\u001b[0m\u001b[1;36m1\u001b[0m\u001b[1;33m:\u001b[0m\u001b[0mN\u001b[0m\u001b[1;33m]\u001b[0m\u001b[1;33m,\u001b[0m\u001b[1;33m(\u001b[0m\u001b[0mnormalizedMagnitudeFFT\u001b[0m\u001b[1;33m)\u001b[0m\u001b[1;33m[\u001b[0m\u001b[1;36m0\u001b[0m\u001b[1;33m:\u001b[0m\u001b[0mint\u001b[0m\u001b[1;33m(\u001b[0m\u001b[1;33m(\u001b[0m\u001b[0mN\u001b[0m\u001b[1;33m/\u001b[0m\u001b[1;36m2\u001b[0m\u001b[1;33m)\u001b[0m\u001b[1;33m)\u001b[0m\u001b[1;33m+\u001b[0m\u001b[1;36m1\u001b[0m\u001b[1;33m]\u001b[0m\u001b[1;33m]\u001b[0m\u001b[1;33m)\u001b[0m\u001b[1;33m)\u001b[0m\u001b[1;33m\u001b[0m\u001b[1;33m\u001b[0m\u001b[0m\n\u001b[0m\u001b[0;32m     75\u001b[0m     \u001b[0max3\u001b[0m\u001b[1;33m.\u001b[0m\u001b[0mset_title\u001b[0m\u001b[1;33m(\u001b[0m\u001b[1;34m'FFT'\u001b[0m\u001b[1;33m)\u001b[0m\u001b[1;33m\u001b[0m\u001b[1;33m\u001b[0m\u001b[0m\n\u001b[0;32m     76\u001b[0m     \u001b[0max3\u001b[0m\u001b[1;33m.\u001b[0m\u001b[0mset_xlabel\u001b[0m\u001b[1;33m(\u001b[0m\u001b[1;34m'f (Hz)'\u001b[0m\u001b[1;33m)\u001b[0m\u001b[1;33m\u001b[0m\u001b[1;33m\u001b[0m\u001b[0m\n",
          "\u001b[1;31mNameError\u001b[0m: name 'normalizedMagnitudeFFT' is not defined"
         ]
        }
       ]
      }
     },
     "4bdac06bbdbe454c99247e67a1cf4bb8": {
      "model_module": "@jupyter-widgets/controls",
      "model_module_version": "1.5.0",
      "model_name": "SliderStyleModel",
      "state": {
       "description_width": "initial"
      }
     },
     "4c40d1a7e3154868a13710f2a3e1a391": {
      "model_module": "jupyter-matplotlib",
      "model_module_version": "^0.7.4",
      "model_name": "ToolbarModel",
      "state": {
       "layout": "IPY_MODEL_8b590e86ad48452c9f154712895d9dd9",
       "toolitems": [
        [
         "Home",
         "Reset original view",
         "home",
         "home"
        ],
        [
         "Back",
         "Back to previous view",
         "arrow-left",
         "back"
        ],
        [
         "Forward",
         "Forward to next view",
         "arrow-right",
         "forward"
        ],
        [
         "Pan",
         "Left button pans, Right button zooms\nx/y fixes axis, CTRL fixes aspect",
         "arrows",
         "pan"
        ],
        [
         "Zoom",
         "Zoom to rectangle\nx/y fixes axis, CTRL fixes aspect",
         "square-o",
         "zoom"
        ],
        [
         "Download",
         "Download plot",
         "floppy-o",
         "save_figure"
        ]
       ]
      }
     },
     "4c48ed947fb841ce9eb112d660f8fb8d": {
      "model_module": "@jupyter-widgets/base",
      "model_module_version": "1.2.0",
      "model_name": "LayoutModel",
      "state": {}
     },
     "4c4d2f7597e44ea1956b14c0d421e915": {
      "model_module": "@jupyter-widgets/base",
      "model_module_version": "1.2.0",
      "model_name": "LayoutModel",
      "state": {}
     },
     "4c5ee2190b8f4b6e93c3e005bac7f074": {
      "model_module": "@jupyter-widgets/base",
      "model_module_version": "1.2.0",
      "model_name": "LayoutModel",
      "state": {}
     },
     "4c69cfb6599a4b9bac727a3c6f2936c7": {
      "model_module": "@jupyter-widgets/controls",
      "model_module_version": "1.5.0",
      "model_name": "IntSliderModel",
      "state": {
       "continuous_update": false,
       "description": "Sampling (Hz)",
       "layout": "IPY_MODEL_f9a79f7a105a4bf59c70e01403b3489a",
       "max": 12,
       "min": 2,
       "step": 2,
       "style": "IPY_MODEL_87f0dcfaf05c4ddcbabaf277872d6e99",
       "value": 4
      }
     },
     "4c77c9bd34e241858a935a6580d01ca3": {
      "model_module": "@jupyter-widgets/base",
      "model_module_version": "1.2.0",
      "model_name": "LayoutModel",
      "state": {}
     },
     "4c9bdf292e0d445083e604dbc1feb415": {
      "model_module": "@jupyter-widgets/controls",
      "model_module_version": "1.5.0",
      "model_name": "IntSliderModel",
      "state": {
       "continuous_update": false,
       "description": "Sampling (Hz)",
       "layout": "IPY_MODEL_c3beed29bae146bbade54382d463ecca",
       "max": 20,
       "min": 2,
       "step": 2,
       "style": "IPY_MODEL_3d08bff0e1654cbca22846785ec507a1",
       "value": 4
      }
     },
     "4ca23febcc91455abdefdb50a3685cc7": {
      "model_module": "@jupyter-widgets/controls",
      "model_module_version": "1.5.0",
      "model_name": "SliderStyleModel",
      "state": {
       "description_width": "initial"
      }
     },
     "4caa660ac4584ca9b3eecfdd1cc2bcef": {
      "model_module": "@jupyter-widgets/base",
      "model_module_version": "1.2.0",
      "model_name": "LayoutModel",
      "state": {}
     },
     "4ccc4b965b7b43609c2309b41e4435c5": {
      "model_module": "@jupyter-widgets/controls",
      "model_module_version": "1.5.0",
      "model_name": "VBoxModel",
      "state": {
       "_dom_classes": [
        "widget-interact"
       ],
       "children": [
        "IPY_MODEL_f6bbe60a3c4947ec906ef690bdcbdec3",
        "IPY_MODEL_7d9b5b76e43b4bc69a076e3f53daf5bb",
        "IPY_MODEL_332dbdc613f543d49b669101e23b9f99",
        "IPY_MODEL_b6ef10feac2a44d09f153d89c3f5728c"
       ],
       "layout": "IPY_MODEL_f606d61eaff74f88bc55f7e47f9524b5"
      }
     },
     "4cd79f3974844da29a548ee75b194f9b": {
      "model_module": "@jupyter-widgets/base",
      "model_module_version": "1.2.0",
      "model_name": "LayoutModel",
      "state": {}
     },
     "4cd954d3293f43969705a0e395e5faf3": {
      "model_module": "@jupyter-widgets/controls",
      "model_module_version": "1.5.0",
      "model_name": "SliderStyleModel",
      "state": {
       "description_width": "initial"
      }
     },
     "4cec3ae0c20647708e7c0f9d4d6a730b": {
      "model_module": "@jupyter-widgets/base",
      "model_module_version": "1.2.0",
      "model_name": "LayoutModel",
      "state": {}
     },
     "4d068114d5b747dfb8903982fe9f1d1d": {
      "model_module": "@jupyter-widgets/base",
      "model_module_version": "1.2.0",
      "model_name": "LayoutModel",
      "state": {}
     },
     "4d3c55a43abe4183a7d59b59e623c144": {
      "model_module": "@jupyter-widgets/controls",
      "model_module_version": "1.5.0",
      "model_name": "SliderStyleModel",
      "state": {
       "description_width": "initial"
      }
     },
     "4d44cd9849a642e6a159bcc2b12e29e1": {
      "model_module": "jupyter-matplotlib",
      "model_module_version": "^0.7.4",
      "model_name": "ToolbarModel",
      "state": {
       "layout": "IPY_MODEL_918b84da9fba4fea848a2a818809de44",
       "toolitems": [
        [
         "Home",
         "Reset original view",
         "home",
         "home"
        ],
        [
         "Back",
         "Back to previous view",
         "arrow-left",
         "back"
        ],
        [
         "Forward",
         "Forward to next view",
         "arrow-right",
         "forward"
        ],
        [
         "Pan",
         "Left button pans, Right button zooms\nx/y fixes axis, CTRL fixes aspect",
         "arrows",
         "pan"
        ],
        [
         "Zoom",
         "Zoom to rectangle\nx/y fixes axis, CTRL fixes aspect",
         "square-o",
         "zoom"
        ],
        [
         "Download",
         "Download plot",
         "floppy-o",
         "save_figure"
        ]
       ]
      }
     },
     "4d61d6a876b549c6bd2d16f3ccda5bfd": {
      "model_module": "@jupyter-widgets/base",
      "model_module_version": "1.2.0",
      "model_name": "LayoutModel",
      "state": {}
     },
     "4d6a15c2feb6495b9951a13e9078c912": {
      "model_module": "@jupyter-widgets/base",
      "model_module_version": "1.2.0",
      "model_name": "LayoutModel",
      "state": {}
     },
     "4d707492ef9c4321956c159078696fdc": {
      "model_module": "@jupyter-widgets/base",
      "model_module_version": "1.2.0",
      "model_name": "LayoutModel",
      "state": {}
     },
     "4d892e1b57014e4bbe93c9c95cb2da41": {
      "model_module": "@jupyter-widgets/controls",
      "model_module_version": "1.5.0",
      "model_name": "VBoxModel",
      "state": {
       "_dom_classes": [
        "widget-interact"
       ],
       "children": [
        "IPY_MODEL_a7e672f013a340e78035f30bf18c5dd4",
        "IPY_MODEL_f609708e851f4f968acdec6731b935f2",
        "IPY_MODEL_070ed78c3ae94bf98a14a900ebd3fc2c",
        "IPY_MODEL_052a058933b74755a61fa13968ad1380"
       ],
       "layout": "IPY_MODEL_a8f8fd5e648d43ae8df66f01e5ef0ea7"
      }
     },
     "4da3265fbb694ac2b0491d22e44c250b": {
      "model_module": "@jupyter-widgets/base",
      "model_module_version": "1.2.0",
      "model_name": "LayoutModel",
      "state": {}
     },
     "4da54b5745c3498fa6af5a51d6dab01d": {
      "model_module": "@jupyter-widgets/controls",
      "model_module_version": "1.5.0",
      "model_name": "IntSliderModel",
      "state": {
       "continuous_update": false,
       "description": "0-Padding",
       "layout": "IPY_MODEL_3f1a0c004f0d430b807ca00411e5c2e1",
       "max": 500,
       "style": "IPY_MODEL_9edef364b7e14978abf769adfb161f64"
      }
     },
     "4db9474c0c0c42b591ac2e53112bebd6": {
      "model_module": "@jupyter-widgets/controls",
      "model_module_version": "1.5.0",
      "model_name": "IntSliderModel",
      "state": {
       "continuous_update": false,
       "description": "Periods",
       "layout": "IPY_MODEL_8f82f3d6c8dc411293309a070573884c",
       "max": 50,
       "min": 1,
       "style": "IPY_MODEL_25b7a0e46c2b43939839b885588d2e95",
       "value": 2
      }
     },
     "4dc5c06182d649c58b3c8ef5ba9d50f2": {
      "model_module": "@jupyter-widgets/base",
      "model_module_version": "1.2.0",
      "model_name": "LayoutModel",
      "state": {}
     },
     "4de4292a3bed4930a9f8393688f0c166": {
      "model_module": "@jupyter-widgets/base",
      "model_module_version": "1.2.0",
      "model_name": "LayoutModel",
      "state": {}
     },
     "4deeb1f7d2e6485e85e4afc9bb36d5e1": {
      "model_module": "jupyter-matplotlib",
      "model_module_version": "^0.7.4",
      "model_name": "ToolbarModel",
      "state": {
       "layout": "IPY_MODEL_51a2b18586bb4ead8264a5bc6d590406",
       "toolitems": [
        [
         "Home",
         "Reset original view",
         "home",
         "home"
        ],
        [
         "Back",
         "Back to previous view",
         "arrow-left",
         "back"
        ],
        [
         "Forward",
         "Forward to next view",
         "arrow-right",
         "forward"
        ],
        [
         "Pan",
         "Left button pans, Right button zooms\nx/y fixes axis, CTRL fixes aspect",
         "arrows",
         "pan"
        ],
        [
         "Zoom",
         "Zoom to rectangle\nx/y fixes axis, CTRL fixes aspect",
         "square-o",
         "zoom"
        ],
        [
         "Download",
         "Download plot",
         "floppy-o",
         "save_figure"
        ]
       ]
      }
     },
     "4df0b10154bf4e7eb5a1615b9336c062": {
      "model_module": "@jupyter-widgets/base",
      "model_module_version": "1.2.0",
      "model_name": "LayoutModel",
      "state": {}
     },
     "4df3c90ce17b420aa666e991b6444e11": {
      "model_module": "@jupyter-widgets/controls",
      "model_module_version": "1.5.0",
      "model_name": "SliderStyleModel",
      "state": {
       "description_width": "initial"
      }
     },
     "4e3b154204b24862a7ffdea430ddc9ff": {
      "model_module": "@jupyter-widgets/base",
      "model_module_version": "1.2.0",
      "model_name": "LayoutModel",
      "state": {}
     },
     "4e546ad0c25144d297f39e1cff1cf089": {
      "model_module": "@jupyter-widgets/controls",
      "model_module_version": "1.5.0",
      "model_name": "IntSliderModel",
      "state": {
       "continuous_update": false,
       "description": "0-Padding",
       "layout": "IPY_MODEL_40d18c15290f4b6aaee8ff3585d794df",
       "max": 500,
       "style": "IPY_MODEL_988491fcca8a477485f1612b052535f6"
      }
     },
     "4e91d1276c674ff2b9e1cd0c5dfaa4ea": {
      "model_module": "@jupyter-widgets/base",
      "model_module_version": "1.2.0",
      "model_name": "LayoutModel",
      "state": {}
     },
     "4e9752c1740645739b447253ad6e1950": {
      "model_module": "@jupyter-widgets/base",
      "model_module_version": "1.2.0",
      "model_name": "LayoutModel",
      "state": {}
     },
     "4ea1ad66cc524f4cb20a4e7e89502e71": {
      "model_module": "jupyter-matplotlib",
      "model_module_version": "^0.7.4",
      "model_name": "ToolbarModel",
      "state": {
       "layout": "IPY_MODEL_1c60721ea257425f8097d5af29bd3b47",
       "toolitems": [
        [
         "Home",
         "Reset original view",
         "home",
         "home"
        ],
        [
         "Back",
         "Back to previous view",
         "arrow-left",
         "back"
        ],
        [
         "Forward",
         "Forward to next view",
         "arrow-right",
         "forward"
        ],
        [
         "Pan",
         "Left button pans, Right button zooms\nx/y fixes axis, CTRL fixes aspect",
         "arrows",
         "pan"
        ],
        [
         "Zoom",
         "Zoom to rectangle\nx/y fixes axis, CTRL fixes aspect",
         "square-o",
         "zoom"
        ],
        [
         "Download",
         "Download plot",
         "floppy-o",
         "save_figure"
        ]
       ]
      }
     },
     "4eae58f2eba34e48b57fbf9c88ad0c5f": {
      "model_module": "@jupyter-widgets/controls",
      "model_module_version": "1.5.0",
      "model_name": "IntSliderModel",
      "state": {
       "continuous_update": false,
       "description": "Sampling (Hz)",
       "layout": "IPY_MODEL_c37b43d4359f44a6b12f51fe88a0356f",
       "max": 20,
       "min": 2,
       "step": 2,
       "style": "IPY_MODEL_7878dfc0c5fd4df58f602fdf98e20143",
       "value": 4
      }
     },
     "4ee87764329d4bb0ad70c35fd8c148be": {
      "model_module": "@jupyter-widgets/controls",
      "model_module_version": "1.5.0",
      "model_name": "IntSliderModel",
      "state": {
       "continuous_update": false,
       "description": "Sampling (Hz)",
       "layout": "IPY_MODEL_a461a714ce3f42faa7b42c5890be68c5",
       "max": 12,
       "min": 2,
       "step": 2,
       "style": "IPY_MODEL_7ab6700b655043688b27c3d4734d0b99",
       "value": 12
      }
     },
     "4f0ab318517b480dbe9fe5d31184cdd3": {
      "model_module": "@jupyter-widgets/base",
      "model_module_version": "1.2.0",
      "model_name": "LayoutModel",
      "state": {}
     },
     "4f224424705a4e839f979bf24985a2ca": {
      "model_module": "@jupyter-widgets/controls",
      "model_module_version": "1.5.0",
      "model_name": "VBoxModel",
      "state": {
       "children": [
        "IPY_MODEL_1b436f12248e4691a849a545c7570f45",
        "IPY_MODEL_3b40f639f07341a7a00278eeea21b876",
        "IPY_MODEL_539f91e6973047d4b7bf36737e4c6e46"
       ],
       "layout": "IPY_MODEL_1e21272cd5bb4f8b91a9bf3ca19fa2ea"
      }
     },
     "4fa0aac399054b8fb6258b79de435e7b": {
      "model_module": "@jupyter-widgets/controls",
      "model_module_version": "1.5.0",
      "model_name": "SliderStyleModel",
      "state": {
       "description_width": "initial"
      }
     },
     "4fb68fca1e384358b748c849f9e2e1a7": {
      "model_module": "@jupyter-widgets/controls",
      "model_module_version": "1.5.0",
      "model_name": "SliderStyleModel",
      "state": {
       "description_width": "initial"
      }
     },
     "4fc625a4f22d499db27c4333a465ed74": {
      "model_module": "@jupyter-widgets/base",
      "model_module_version": "1.2.0",
      "model_name": "LayoutModel",
      "state": {}
     },
     "4fcb060e9067437e9ca4939e339612f7": {
      "model_module": "@jupyter-widgets/base",
      "model_module_version": "1.2.0",
      "model_name": "LayoutModel",
      "state": {}
     },
     "4fd6c4d97dcd47e7bfdb7ff425ba58a2": {
      "model_module": "@jupyter-widgets/controls",
      "model_module_version": "1.5.0",
      "model_name": "SliderStyleModel",
      "state": {
       "description_width": "initial"
      }
     },
     "4fe90c293846441d9e5672a17c4ca2e9": {
      "model_module": "@jupyter-widgets/controls",
      "model_module_version": "1.5.0",
      "model_name": "VBoxModel",
      "state": {
       "_dom_classes": [
        "widget-interact"
       ],
       "children": [
        "IPY_MODEL_82ee6d157303457dac2837d4b87b604c",
        "IPY_MODEL_d8bc6a10be734b71a7536114b39d1a2e",
        "IPY_MODEL_393a79a1f26044aeaab3a10235c4e945",
        "IPY_MODEL_2cc64595695046d0bfc74de966985c29"
       ],
       "layout": "IPY_MODEL_ddba906272ef42b1ac659ca8fcbe79be"
      }
     },
     "4fec6b20e9ff43088714e022461354ef": {
      "model_module": "@jupyter-widgets/controls",
      "model_module_version": "1.5.0",
      "model_name": "IntSliderModel",
      "state": {
       "continuous_update": false,
       "description": "Periods",
       "layout": "IPY_MODEL_5a0c1c6fc50e493cbe5aa96dc132d43b",
       "max": 50,
       "min": 1,
       "style": "IPY_MODEL_106d26598afd463fba65c15376872e38",
       "value": 2
      }
     },
     "4ff1e3a60aa0438890ac29c35ae8f307": {
      "model_module": "@jupyter-widgets/base",
      "model_module_version": "1.2.0",
      "model_name": "LayoutModel",
      "state": {}
     },
     "5004dfcc8e424786bf914e7720c81523": {
      "model_module": "@jupyter-widgets/base",
      "model_module_version": "1.2.0",
      "model_name": "LayoutModel",
      "state": {}
     },
     "502a0b30948a4864abbf1499b4c16f57": {
      "model_module": "@jupyter-widgets/controls",
      "model_module_version": "1.5.0",
      "model_name": "SliderStyleModel",
      "state": {
       "description_width": "initial"
      }
     },
     "50623e9c22f548f78a3b594c7de1485b": {
      "model_module": "@jupyter-widgets/base",
      "model_module_version": "1.2.0",
      "model_name": "LayoutModel",
      "state": {}
     },
     "50756d4382c84cd7b92e2375e5bf67db": {
      "model_module": "@jupyter-widgets/base",
      "model_module_version": "1.2.0",
      "model_name": "LayoutModel",
      "state": {}
     },
     "509eabc4faa346aaae102d2dd3761f4d": {
      "model_module": "jupyter-matplotlib",
      "model_module_version": "^0.7.4",
      "model_name": "ToolbarModel",
      "state": {
       "layout": "IPY_MODEL_b61a2ace74f246048db49f203bc2aac4",
       "toolitems": [
        [
         "Home",
         "Reset original view",
         "home",
         "home"
        ],
        [
         "Back",
         "Back to previous view",
         "arrow-left",
         "back"
        ],
        [
         "Forward",
         "Forward to next view",
         "arrow-right",
         "forward"
        ],
        [
         "Pan",
         "Left button pans, Right button zooms\nx/y fixes axis, CTRL fixes aspect",
         "arrows",
         "pan"
        ],
        [
         "Zoom",
         "Zoom to rectangle\nx/y fixes axis, CTRL fixes aspect",
         "square-o",
         "zoom"
        ],
        [
         "Download",
         "Download plot",
         "floppy-o",
         "save_figure"
        ]
       ]
      }
     },
     "50a6b4bcb10c4a5cbedf373abfb42ec3": {
      "model_module": "@jupyter-widgets/controls",
      "model_module_version": "1.5.0",
      "model_name": "IntSliderModel",
      "state": {
       "continuous_update": false,
       "description": "Periods",
       "layout": "IPY_MODEL_69e617fb7d3941fa8f8722fcd360e02e",
       "max": 50,
       "min": 1,
       "style": "IPY_MODEL_3a28ec6bdb7e4fa9bcd949c00d9797e9",
       "value": 17
      }
     },
     "50d3623e560648f3a343fe318a3a3658": {
      "model_module": "@jupyter-widgets/controls",
      "model_module_version": "1.5.0",
      "model_name": "IntSliderModel",
      "state": {
       "continuous_update": false,
       "description": "Periods",
       "layout": "IPY_MODEL_3d3e078143014652a6d8af47453bd0b9",
       "max": 50,
       "min": 1,
       "style": "IPY_MODEL_1aa16535bdf24a88aeea458e4417fcf1",
       "value": 2
      }
     },
     "50d8f296403a42048641d440ba5d1081": {
      "model_module": "@jupyter-widgets/controls",
      "model_module_version": "1.5.0",
      "model_name": "HBoxModel",
      "state": {
       "children": [
        "IPY_MODEL_3bb5b033e40140faad20024e8a53c4f2",
        "IPY_MODEL_594130c10fd743c4916494f95c77b4a5"
       ],
       "layout": "IPY_MODEL_cf73b268ec254128bee8f09f3afc6206"
      }
     },
     "50e43d4edd464736b88b69de2a2c911e": {
      "model_module": "@jupyter-widgets/controls",
      "model_module_version": "1.5.0",
      "model_name": "SliderStyleModel",
      "state": {
       "description_width": "initial"
      }
     },
     "51027c7c771945f4aaad2260db254b2c": {
      "model_module": "@jupyter-widgets/base",
      "model_module_version": "1.2.0",
      "model_name": "LayoutModel",
      "state": {}
     },
     "51179b6a78574f9e8839e3d2a6159b75": {
      "model_module": "@jupyter-widgets/controls",
      "model_module_version": "1.5.0",
      "model_name": "IntSliderModel",
      "state": {
       "continuous_update": false,
       "description": "0-Padding",
       "layout": "IPY_MODEL_1e5aaf4aa7aa4ab3865372efe26ab896",
       "max": 500,
       "style": "IPY_MODEL_c0fa3c7cc294456aab25f133b70ad706"
      }
     },
     "5130d6c84fb54298b7029bae5856613f": {
      "model_module": "@jupyter-widgets/base",
      "model_module_version": "1.2.0",
      "model_name": "LayoutModel",
      "state": {}
     },
     "5151941776d14bfdab5b32eb55873293": {
      "model_module": "@jupyter-widgets/output",
      "model_module_version": "1.0.0",
      "model_name": "OutputModel",
      "state": {
       "layout": "IPY_MODEL_371615a4bf2f4441b88573ae1b47ccc9"
      }
     },
     "515903adfcc34ef7b7e442e2a4d23752": {
      "model_module": "@jupyter-widgets/base",
      "model_module_version": "1.2.0",
      "model_name": "LayoutModel",
      "state": {}
     },
     "516f3339143e4df8850c3c43d857116f": {
      "model_module": "jupyter-matplotlib",
      "model_module_version": "^0.7.4",
      "model_name": "ToolbarModel",
      "state": {
       "layout": "IPY_MODEL_72432ba035664f88a1cb00b6420a383a",
       "toolitems": [
        [
         "Home",
         "Reset original view",
         "home",
         "home"
        ],
        [
         "Back",
         "Back to previous view",
         "arrow-left",
         "back"
        ],
        [
         "Forward",
         "Forward to next view",
         "arrow-right",
         "forward"
        ],
        [
         "Pan",
         "Left button pans, Right button zooms\nx/y fixes axis, CTRL fixes aspect",
         "arrows",
         "pan"
        ],
        [
         "Zoom",
         "Zoom to rectangle\nx/y fixes axis, CTRL fixes aspect",
         "square-o",
         "zoom"
        ],
        [
         "Download",
         "Download plot",
         "floppy-o",
         "save_figure"
        ]
       ]
      }
     },
     "518aa499c78f430ea7ed653fff0a2be5": {
      "model_module": "jupyter-matplotlib",
      "model_module_version": "^0.7.4",
      "model_name": "ToolbarModel",
      "state": {
       "layout": "IPY_MODEL_3598f16ba97d414e824c3895843bf7fe",
       "toolitems": [
        [
         "Home",
         "Reset original view",
         "home",
         "home"
        ],
        [
         "Back",
         "Back to previous view",
         "arrow-left",
         "back"
        ],
        [
         "Forward",
         "Forward to next view",
         "arrow-right",
         "forward"
        ],
        [
         "Pan",
         "Left button pans, Right button zooms\nx/y fixes axis, CTRL fixes aspect",
         "arrows",
         "pan"
        ],
        [
         "Zoom",
         "Zoom to rectangle\nx/y fixes axis, CTRL fixes aspect",
         "square-o",
         "zoom"
        ],
        [
         "Download",
         "Download plot",
         "floppy-o",
         "save_figure"
        ]
       ]
      }
     },
     "5195ef442275472b90a96b8beb757897": {
      "model_module": "@jupyter-widgets/base",
      "model_module_version": "1.2.0",
      "model_name": "LayoutModel",
      "state": {}
     },
     "51a2b18586bb4ead8264a5bc6d590406": {
      "model_module": "@jupyter-widgets/base",
      "model_module_version": "1.2.0",
      "model_name": "LayoutModel",
      "state": {}
     },
     "51a9215c33c846fa8954d86c0bfcc0d7": {
      "model_module": "@jupyter-widgets/controls",
      "model_module_version": "1.5.0",
      "model_name": "HBoxModel",
      "state": {
       "children": [
        "IPY_MODEL_e737402f84d341deaf29bc6b9685e1bb",
        "IPY_MODEL_cd0403aeeaa44b52a5329acf42517034"
       ],
       "layout": "IPY_MODEL_01e5b49f373d4dadace65950ce203da1"
      }
     },
     "51c1b979e6444e0bbbc12bebfc53a88f": {
      "model_module": "@jupyter-widgets/base",
      "model_module_version": "1.2.0",
      "model_name": "LayoutModel",
      "state": {}
     },
     "520ace1ece4e4d2cb67ed0d50cab9c49": {
      "model_module": "@jupyter-widgets/base",
      "model_module_version": "1.2.0",
      "model_name": "LayoutModel",
      "state": {}
     },
     "52a44278a7f14b989f75d77205327ab2": {
      "model_module": "@jupyter-widgets/controls",
      "model_module_version": "1.5.0",
      "model_name": "IntSliderModel",
      "state": {
       "description": "Sampling (Hz)",
       "layout": "IPY_MODEL_17905c62a8ff42fd8d5ce02a7ac903ab",
       "max": 12,
       "min": 2,
       "step": 2,
       "style": "IPY_MODEL_f850efddf2a7471d8ce219ed0dea6735",
       "value": 4
      }
     },
     "52bdb70e938946c48d1790c72857e85f": {
      "model_module": "@jupyter-widgets/output",
      "model_module_version": "1.0.0",
      "model_name": "OutputModel",
      "state": {
       "layout": "IPY_MODEL_1bd4e589fec54f11a4a80188e4f4fc08"
      }
     },
     "52c4f119a6564750a41ed425eb4e158d": {
      "model_module": "@jupyter-widgets/base",
      "model_module_version": "1.2.0",
      "model_name": "LayoutModel",
      "state": {}
     },
     "52e4c05533724b00b287b20f2a2f5be7": {
      "model_module": "@jupyter-widgets/controls",
      "model_module_version": "1.5.0",
      "model_name": "IntSliderModel",
      "state": {
       "continuous_update": false,
       "description": "Sampling (Hz)",
       "layout": "IPY_MODEL_bc14d936a79a4c5aaf1730ceae2a28f9",
       "max": 20,
       "min": 2,
       "step": 2,
       "style": "IPY_MODEL_ed7a6bd8b08445b787ba149e9998821c",
       "value": 4
      }
     },
     "5301f45b4b4a493993b4e8abd1d3a069": {
      "model_module": "@jupyter-widgets/base",
      "model_module_version": "1.2.0",
      "model_name": "LayoutModel",
      "state": {}
     },
     "531134d69b6848268f2969029a23dcd2": {
      "model_module": "@jupyter-widgets/base",
      "model_module_version": "1.2.0",
      "model_name": "LayoutModel",
      "state": {}
     },
     "532decbad53049c5820f5fa433096505": {
      "model_module": "@jupyter-widgets/controls",
      "model_module_version": "1.5.0",
      "model_name": "IntSliderModel",
      "state": {
       "continuous_update": false,
       "description": "Sampling (Hz)",
       "layout": "IPY_MODEL_2a09ea3d7a3c463199beebe58660f285",
       "max": 20,
       "min": 2,
       "step": 2,
       "style": "IPY_MODEL_a8fbb2e7d233424d8100b4da1280c836",
       "value": 4
      }
     },
     "5346c4cc1bf2463da0346b9a57dd224c": {
      "model_module": "@jupyter-widgets/output",
      "model_module_version": "1.0.0",
      "model_name": "OutputModel",
      "state": {
       "layout": "IPY_MODEL_cea0e5d3fce0458f98e9c4b8cc0d3f3d",
       "outputs": [
        {
         "data": {
          "application/vnd.jupyter.widget-view+json": {
           "model_id": "5d6097520263415991291b63fdab35f4",
           "version_major": 2,
           "version_minor": 0
          },
          "text/plain": "Canvas(toolbar=Toolbar(toolitems=[('Home', 'Reset original view', 'home', 'home'), ('Back', 'Back to previous …"
         },
         "metadata": {},
         "output_type": "display_data"
        }
       ]
      }
     },
     "536f185925cf4abf92b9f9f5377605c8": {
      "model_module": "@jupyter-widgets/base",
      "model_module_version": "1.2.0",
      "model_name": "LayoutModel",
      "state": {}
     },
     "5396a841f7c3490f963db5835e98f99c": {
      "model_module": "@jupyter-widgets/base",
      "model_module_version": "1.2.0",
      "model_name": "LayoutModel",
      "state": {}
     },
     "539f91e6973047d4b7bf36737e4c6e46": {
      "model_module": "@jupyter-widgets/controls",
      "model_module_version": "1.5.0",
      "model_name": "IntSliderModel",
      "state": {
       "continuous_update": false,
       "description": "0-Padding",
       "layout": "IPY_MODEL_b2afa302dad347daaba0aee5a35ab471",
       "max": 500,
       "style": "IPY_MODEL_ed6dd70d730e443486b87afe3031416a"
      }
     },
     "53d19514a69c45b892872955a95cf382": {
      "model_module": "@jupyter-widgets/base",
      "model_module_version": "1.2.0",
      "model_name": "LayoutModel",
      "state": {}
     },
     "53d5ce8c337b454996e83ff2d29ae715": {
      "model_module": "@jupyter-widgets/base",
      "model_module_version": "1.2.0",
      "model_name": "LayoutModel",
      "state": {}
     },
     "53f6e727ecfb4156914b233b851290df": {
      "model_module": "@jupyter-widgets/base",
      "model_module_version": "1.2.0",
      "model_name": "LayoutModel",
      "state": {}
     },
     "541621dce1134039a60f292cbb75cac6": {
      "model_module": "@jupyter-widgets/base",
      "model_module_version": "1.2.0",
      "model_name": "LayoutModel",
      "state": {}
     },
     "542c24e2a28045da8cb9f0a80cc88e54": {
      "model_module": "@jupyter-widgets/base",
      "model_module_version": "1.2.0",
      "model_name": "LayoutModel",
      "state": {}
     },
     "5435798b37f24f6f91926eae7ea6ce20": {
      "model_module": "@jupyter-widgets/base",
      "model_module_version": "1.2.0",
      "model_name": "LayoutModel",
      "state": {}
     },
     "545eefccfe244462aa930c0bbc788ea8": {
      "model_module": "@jupyter-widgets/base",
      "model_module_version": "1.2.0",
      "model_name": "LayoutModel",
      "state": {}
     },
     "548b1eb9ebfe4a2abfc9062147cb3d36": {
      "model_module": "@jupyter-widgets/base",
      "model_module_version": "1.2.0",
      "model_name": "LayoutModel",
      "state": {}
     },
     "549df10d1c9d40dbb0629b37b9fe584d": {
      "model_module": "@jupyter-widgets/base",
      "model_module_version": "1.2.0",
      "model_name": "LayoutModel",
      "state": {}
     },
     "54ae24da972d43c6a1d179a0609b69d3": {
      "model_module": "@jupyter-widgets/controls",
      "model_module_version": "1.5.0",
      "model_name": "IntSliderModel",
      "state": {
       "continuous_update": false,
       "description": "0-Padding",
       "layout": "IPY_MODEL_e6f9ee87915e48fb93b1ccc64f9e9e18",
       "max": 1040,
       "step": 34,
       "style": "IPY_MODEL_95835b62ed4e4be2b4a52062005d697a"
      }
     },
     "54f6044a6e7041a0b4e5afec8b4c36e1": {
      "model_module": "@jupyter-widgets/controls",
      "model_module_version": "1.5.0",
      "model_name": "HBoxModel",
      "state": {
       "children": [
        "IPY_MODEL_c759bd6ad4f745adbf3df7b2d5ee4061",
        "IPY_MODEL_7a74140a04724e1caad9e42aac2c81ba",
        "IPY_MODEL_ab154f3eeee845c2adf63209b364750d"
       ],
       "layout": "IPY_MODEL_c589d46d8c68427caa8b60e02835935d"
      }
     },
     "552daca930404694be976ff9a3a34456": {
      "model_module": "@jupyter-widgets/base",
      "model_module_version": "1.2.0",
      "model_name": "LayoutModel",
      "state": {}
     },
     "552e2b28ad0844538f24309139de25f0": {
      "model_module": "jupyter-matplotlib",
      "model_module_version": "^0.7.4",
      "model_name": "ToolbarModel",
      "state": {
       "layout": "IPY_MODEL_6cf21b39802742ef94021270bf8d437c",
       "toolitems": [
        [
         "Home",
         "Reset original view",
         "home",
         "home"
        ],
        [
         "Back",
         "Back to previous view",
         "arrow-left",
         "back"
        ],
        [
         "Forward",
         "Forward to next view",
         "arrow-right",
         "forward"
        ],
        [
         "Pan",
         "Left button pans, Right button zooms\nx/y fixes axis, CTRL fixes aspect",
         "arrows",
         "pan"
        ],
        [
         "Zoom",
         "Zoom to rectangle\nx/y fixes axis, CTRL fixes aspect",
         "square-o",
         "zoom"
        ],
        [
         "Download",
         "Download plot",
         "floppy-o",
         "save_figure"
        ]
       ]
      }
     },
     "5545d7f236a247f5b8958832bc6252bd": {
      "model_module": "@jupyter-widgets/controls",
      "model_module_version": "1.5.0",
      "model_name": "VBoxModel",
      "state": {
       "children": [
        "IPY_MODEL_57bcdce73d324eda90cc86d55919fb3e",
        "IPY_MODEL_180960250d094ccca3da7e9e690849da"
       ],
       "layout": "IPY_MODEL_a990b3d737bb4f2dadcc2ad226e8c2d7"
      }
     },
     "554cfb588f1246bab8a81fb6621d40cf": {
      "model_module": "@jupyter-widgets/controls",
      "model_module_version": "1.5.0",
      "model_name": "VBoxModel",
      "state": {
       "_dom_classes": [
        "widget-interact"
       ],
       "children": [
        "IPY_MODEL_e5b921e1684d4e809bdbb4b251d1b853",
        "IPY_MODEL_2363e5d06dce46ad9993a3b9e96de044",
        "IPY_MODEL_13f63e7e4cbb44ff8ac838231be13de5",
        "IPY_MODEL_23ea75f7c1b34f5ca82c12dc4ef123ec"
       ],
       "layout": "IPY_MODEL_6fd164c613d04ef181ad2eefdf852430"
      }
     },
     "555541d22f0049d0b2df599d9d7a10f0": {
      "model_module": "@jupyter-widgets/base",
      "model_module_version": "1.2.0",
      "model_name": "LayoutModel",
      "state": {}
     },
     "5562b02b547e45d6875f8fee9be138e0": {
      "model_module": "@jupyter-widgets/base",
      "model_module_version": "1.2.0",
      "model_name": "LayoutModel",
      "state": {}
     },
     "558918a7785a453ea4bccee5fd2107e0": {
      "model_module": "@jupyter-widgets/controls",
      "model_module_version": "1.5.0",
      "model_name": "IntSliderModel",
      "state": {
       "continuous_update": false,
       "description": "Periods",
       "layout": "IPY_MODEL_c5eec107c0be49ada01837edca9060ae",
       "max": 50,
       "min": 1,
       "style": "IPY_MODEL_ef61fd9274f84553b632c33433661b78",
       "value": 19
      }
     },
     "55996d0405e84f2b90a4622425bc8943": {
      "model_module": "@jupyter-widgets/controls",
      "model_module_version": "1.5.0",
      "model_name": "IntSliderModel",
      "state": {
       "continuous_update": false,
       "description": "0-Padding",
       "layout": "IPY_MODEL_d2efe2db346b47098f74d5a259a101c5",
       "max": 1680,
       "step": 56,
       "style": "IPY_MODEL_b2029105d5724ca8b75364ae54853d23",
       "value": 1680
      }
     },
     "55a89c717a1240af90f27fb2edb406e2": {
      "model_module": "@jupyter-widgets/base",
      "model_module_version": "1.2.0",
      "model_name": "LayoutModel",
      "state": {}
     },
     "55d84c4157844a6baef89976bae25380": {
      "model_module": "@jupyter-widgets/base",
      "model_module_version": "1.2.0",
      "model_name": "LayoutModel",
      "state": {}
     },
     "55e5190595bf429b97a0ff45aa00d4f2": {
      "model_module": "@jupyter-widgets/base",
      "model_module_version": "1.2.0",
      "model_name": "LayoutModel",
      "state": {}
     },
     "560acf3180af43fda9b16299cefc9367": {
      "model_module": "@jupyter-widgets/controls",
      "model_module_version": "1.5.0",
      "model_name": "IntSliderModel",
      "state": {
       "continuous_update": false,
       "description": "Sampling (Hz)",
       "layout": "IPY_MODEL_b067076b51724180b24fd13ebbb298c7",
       "max": 20,
       "min": 2,
       "step": 2,
       "style": "IPY_MODEL_143f7b729d4a469a80fcadabe7a5dfe5",
       "value": 4
      }
     },
     "5639042b6a50456287a0429d399d8be0": {
      "model_module": "@jupyter-widgets/controls",
      "model_module_version": "1.5.0",
      "model_name": "IntSliderModel",
      "state": {
       "continuous_update": false,
       "description": "0-Padding",
       "layout": "IPY_MODEL_8e49fdaa4e5a416699acf83f3c2590c2",
       "max": 216,
       "step": 7,
       "style": "IPY_MODEL_7101e80307734917b0b71f361f31016c"
      }
     },
     "565389197de447e8968f6960cf1f6dec": {
      "model_module": "@jupyter-widgets/output",
      "model_module_version": "1.0.0",
      "model_name": "OutputModel",
      "state": {
       "layout": "IPY_MODEL_908b655bc3034d1c935aa536458aaee4"
      }
     },
     "565685b0448943399aef28e73920d658": {
      "model_module": "@jupyter-widgets/base",
      "model_module_version": "1.2.0",
      "model_name": "LayoutModel",
      "state": {}
     },
     "56701d2bc3ca453aa9f0b85fc28de1fc": {
      "model_module": "@jupyter-widgets/controls",
      "model_module_version": "1.5.0",
      "model_name": "SliderStyleModel",
      "state": {
       "description_width": "initial"
      }
     },
     "56791a0e5ae040e391ca2ffe9c8dc13b": {
      "model_module": "@jupyter-widgets/base",
      "model_module_version": "1.2.0",
      "model_name": "LayoutModel",
      "state": {
       "flex_flow": "row wrap"
      }
     },
     "569c67c4348c45ed81608b96ed7751a9": {
      "model_module": "@jupyter-widgets/base",
      "model_module_version": "1.2.0",
      "model_name": "LayoutModel",
      "state": {}
     },
     "56c70e9df850488e86a66061d172f174": {
      "model_module": "@jupyter-widgets/controls",
      "model_module_version": "1.5.0",
      "model_name": "IntSliderModel",
      "state": {
       "continuous_update": false,
       "description": "0-Padding",
       "layout": "IPY_MODEL_fc8a3f6a58e54f1dbbaf5f17463561d1",
       "max": 500,
       "style": "IPY_MODEL_e24d80fb27264597b3feeed1498a54af"
      }
     },
     "56d117beda9441e2b0e13c8683dc7d98": {
      "model_module": "@jupyter-widgets/controls",
      "model_module_version": "1.5.0",
      "model_name": "SliderStyleModel",
      "state": {
       "description_width": "initial"
      }
     },
     "56d95ee1384446abbc68cf51c661f9c0": {
      "model_module": "@jupyter-widgets/base",
      "model_module_version": "1.2.0",
      "model_name": "LayoutModel",
      "state": {}
     },
     "56f57da8663c4a6abb3520297188e59e": {
      "model_module": "@jupyter-widgets/base",
      "model_module_version": "1.2.0",
      "model_name": "LayoutModel",
      "state": {}
     },
     "570a0c09d764411e9aca2add665620ce": {
      "model_module": "@jupyter-widgets/controls",
      "model_module_version": "1.5.0",
      "model_name": "HBoxModel",
      "state": {
       "children": [
        "IPY_MODEL_048d2dd4d871418b95365725dfcecf8c",
        "IPY_MODEL_e9b23766243b4b80868a9bc064d29283",
        "IPY_MODEL_d4b03ef24dac4eefbaf2f2a1b7666852"
       ],
       "layout": "IPY_MODEL_63752ae5bf7545b4894a2c316fc2fb06"
      }
     },
     "570f078a37ca48b68b513d6a05dece7a": {
      "model_module": "@jupyter-widgets/base",
      "model_module_version": "1.2.0",
      "model_name": "LayoutModel",
      "state": {}
     },
     "5719e64015a642918df45a9738501782": {
      "model_module": "@jupyter-widgets/output",
      "model_module_version": "1.0.0",
      "model_name": "OutputModel",
      "state": {
       "layout": "IPY_MODEL_5130d6c84fb54298b7029bae5856613f"
      }
     },
     "574f853c15ee433c8811903b1eb4f079": {
      "model_module": "@jupyter-widgets/base",
      "model_module_version": "1.2.0",
      "model_name": "LayoutModel",
      "state": {}
     },
     "57541f74204447d79933e412e6f38330": {
      "model_module": "@jupyter-widgets/controls",
      "model_module_version": "1.5.0",
      "model_name": "IntSliderModel",
      "state": {
       "continuous_update": false,
       "description": "Sampling (Hz)",
       "layout": "IPY_MODEL_be739992f2f641a19d8e46185fc3a0d9",
       "max": 12,
       "min": 2,
       "step": 2,
       "style": "IPY_MODEL_6399a47f34bc4e37a6ec7013ad297838",
       "value": 4
      }
     },
     "57bcdce73d324eda90cc86d55919fb3e": {
      "model_module": "@jupyter-widgets/output",
      "model_module_version": "1.0.0",
      "model_name": "OutputModel",
      "state": {
       "layout": "IPY_MODEL_68eda577533d4366b48295c62c51d02d"
      }
     },
     "57d3d4d1c9a443319cbe14dfc9224c12": {
      "model_module": "@jupyter-widgets/base",
      "model_module_version": "1.2.0",
      "model_name": "LayoutModel",
      "state": {}
     },
     "57dd263f258e49f98326c36712ba2656": {
      "model_module": "@jupyter-widgets/base",
      "model_module_version": "1.2.0",
      "model_name": "LayoutModel",
      "state": {}
     },
     "57f86eb7f1bc48f7a777ea4e7d54e850": {
      "model_module": "@jupyter-widgets/base",
      "model_module_version": "1.2.0",
      "model_name": "LayoutModel",
      "state": {}
     },
     "580f53dcdf8a4e8597f1262f679adbf1": {
      "model_module": "@jupyter-widgets/base",
      "model_module_version": "1.2.0",
      "model_name": "LayoutModel",
      "state": {}
     },
     "581c0ac579a84edd9ff331731a8264e1": {
      "model_module": "@jupyter-widgets/base",
      "model_module_version": "1.2.0",
      "model_name": "LayoutModel",
      "state": {}
     },
     "5825a0c6e3f747e7a7608d7b08e053f2": {
      "model_module": "@jupyter-widgets/base",
      "model_module_version": "1.2.0",
      "model_name": "LayoutModel",
      "state": {}
     },
     "58499a9f1a4c4c499105f399655e9857": {
      "model_module": "@jupyter-widgets/controls",
      "model_module_version": "1.5.0",
      "model_name": "IntSliderModel",
      "state": {
       "continuous_update": false,
       "description": "0-Padding",
       "layout": "IPY_MODEL_1b8dfe83c096400496bc3b0e0bb3b25d",
       "max": 500,
       "style": "IPY_MODEL_1cbb92dff559485c900c5421b5f97d86"
      }
     },
     "585329137fc043abb6c3ed0013b40ecf": {
      "model_module": "@jupyter-widgets/controls",
      "model_module_version": "1.5.0",
      "model_name": "SliderStyleModel",
      "state": {
       "description_width": "initial"
      }
     },
     "586b324999a8426f93c47fe182336cb3": {
      "model_module": "@jupyter-widgets/controls",
      "model_module_version": "1.5.0",
      "model_name": "SliderStyleModel",
      "state": {
       "description_width": "initial"
      }
     },
     "586b8216bb054f7cb92726437d6ed08b": {
      "model_module": "@jupyter-widgets/controls",
      "model_module_version": "1.5.0",
      "model_name": "IntSliderModel",
      "state": {
       "continuous_update": false,
       "description": "Sampling (Hz)",
       "layout": "IPY_MODEL_cda2f1623b7d41aaab5407c1ab1ac281",
       "max": 12,
       "min": 2,
       "step": 2,
       "style": "IPY_MODEL_1a8b77def6ab469d9a0f38338070411d",
       "value": 6
      }
     },
     "587be5fa81044633830884c50485e6a7": {
      "model_module": "@jupyter-widgets/controls",
      "model_module_version": "1.5.0",
      "model_name": "IntSliderModel",
      "state": {
       "continuous_update": false,
       "description": "Sampling (Hz)",
       "layout": "IPY_MODEL_ed4ba8d2067c4b49a0037c732139c95c",
       "max": 12,
       "min": 2,
       "step": 2,
       "style": "IPY_MODEL_888f27da401d426196ee97a66e63e031",
       "value": 4
      }
     },
     "587de0ecf6fb4f779b227998a16c55df": {
      "model_module": "@jupyter-widgets/base",
      "model_module_version": "1.2.0",
      "model_name": "LayoutModel",
      "state": {}
     },
     "5888ad9c69814421995f6e85f8630cff": {
      "model_module": "@jupyter-widgets/base",
      "model_module_version": "1.2.0",
      "model_name": "LayoutModel",
      "state": {}
     },
     "5889c14720534de4ab4bfb4d57a6c4ef": {
      "model_module": "@jupyter-widgets/controls",
      "model_module_version": "1.5.0",
      "model_name": "HBoxModel",
      "state": {
       "children": [
        "IPY_MODEL_0bf082dfbb1e4d33bd7c69e1324f1459",
        "IPY_MODEL_ef17b0fac013438296405b156df7df38"
       ],
       "layout": "IPY_MODEL_ee4c3611847545ceb27bd451fe8fe70a"
      }
     },
     "5891902f0eac48eab3fb30013bee054e": {
      "model_module": "@jupyter-widgets/controls",
      "model_module_version": "1.5.0",
      "model_name": "VBoxModel",
      "state": {
       "children": [
        "IPY_MODEL_c3335df23e14456db26197061a06213a",
        "IPY_MODEL_facb8cd79d6b497496ae7abd58804253",
        "IPY_MODEL_c9139ce3ea8b453eb8e27e94259a4fc5"
       ],
       "layout": "IPY_MODEL_2f0c3449c48a460ab05dd6df5999da3a"
      }
     },
     "589aaa22a50a47b39d120c04fe0e1971": {
      "model_module": "@jupyter-widgets/base",
      "model_module_version": "1.2.0",
      "model_name": "LayoutModel",
      "state": {}
     },
     "58da5f03cdfe4a5ea0718ff93088c00e": {
      "model_module": "jupyter-matplotlib",
      "model_module_version": "^0.7.4",
      "model_name": "ToolbarModel",
      "state": {
       "layout": "IPY_MODEL_6e75bcded685428f81966a16c56e5142",
       "toolitems": [
        [
         "Home",
         "Reset original view",
         "home",
         "home"
        ],
        [
         "Back",
         "Back to previous view",
         "arrow-left",
         "back"
        ],
        [
         "Forward",
         "Forward to next view",
         "arrow-right",
         "forward"
        ],
        [
         "Pan",
         "Left button pans, Right button zooms\nx/y fixes axis, CTRL fixes aspect",
         "arrows",
         "pan"
        ],
        [
         "Zoom",
         "Zoom to rectangle\nx/y fixes axis, CTRL fixes aspect",
         "square-o",
         "zoom"
        ],
        [
         "Download",
         "Download plot",
         "floppy-o",
         "save_figure"
        ]
       ]
      }
     },
     "58f1b840f9db49c289bad78bc761e14b": {
      "model_module": "@jupyter-widgets/controls",
      "model_module_version": "1.5.0",
      "model_name": "HBoxModel",
      "state": {
       "children": [
        "IPY_MODEL_fb1294dd92e64f2ea179081d2923280b",
        "IPY_MODEL_644780aa3bb54bf1832e6fec78b0d396"
       ],
       "layout": "IPY_MODEL_44b07d875c0e4a11915099ace38ade6c"
      }
     },
     "58f631b443da4882ab8e4db77135670e": {
      "model_module": "@jupyter-widgets/base",
      "model_module_version": "1.2.0",
      "model_name": "LayoutModel",
      "state": {}
     },
     "590db322df6f499d915ca8c601a12e07": {
      "model_module": "@jupyter-widgets/base",
      "model_module_version": "1.2.0",
      "model_name": "LayoutModel",
      "state": {}
     },
     "59285b7520be43e6878b9beb1bd02bff": {
      "model_module": "@jupyter-widgets/base",
      "model_module_version": "1.2.0",
      "model_name": "LayoutModel",
      "state": {}
     },
     "5930c4bc288d45818fa0b9e0b6d7b434": {
      "model_module": "@jupyter-widgets/controls",
      "model_module_version": "1.5.0",
      "model_name": "SliderStyleModel",
      "state": {
       "description_width": "initial"
      }
     },
     "594130c10fd743c4916494f95c77b4a5": {
      "model_module": "@jupyter-widgets/controls",
      "model_module_version": "1.5.0",
      "model_name": "VBoxModel",
      "state": {
       "children": [
        "IPY_MODEL_f92772941b1a4b9db8ab8667d72f59db",
        "IPY_MODEL_46dfe91f65b04f6fbd62f3051e4325c3",
        "IPY_MODEL_0ca1698afcf14705919539d67451dcda"
       ],
       "layout": "IPY_MODEL_befc948945f34551a23b16f9b604eb96"
      }
     },
     "597fe2cdf7244d7cb11f0bcde5ed69b4": {
      "model_module": "@jupyter-widgets/controls",
      "model_module_version": "1.5.0",
      "model_name": "IntSliderModel",
      "state": {
       "description": "0-Padding",
       "layout": "IPY_MODEL_0c49178cde004f92ac21fd57c01c39bc",
       "max": 10,
       "style": "IPY_MODEL_45d5602b8626481185720e9befce90d8"
      }
     },
     "59a9b5f6160c44f39b9ec06f77da56da": {
      "model_module": "@jupyter-widgets/base",
      "model_module_version": "1.2.0",
      "model_name": "LayoutModel",
      "state": {}
     },
     "59c481b2c97c4c518618ab1d537c00b1": {
      "model_module": "@jupyter-widgets/base",
      "model_module_version": "1.2.0",
      "model_name": "LayoutModel",
      "state": {}
     },
     "5a0c1c6fc50e493cbe5aa96dc132d43b": {
      "model_module": "@jupyter-widgets/base",
      "model_module_version": "1.2.0",
      "model_name": "LayoutModel",
      "state": {}
     },
     "5a330fe534d149b7b932ef0d5ad8c8dc": {
      "model_module": "@jupyter-widgets/controls",
      "model_module_version": "1.5.0",
      "model_name": "SliderStyleModel",
      "state": {
       "description_width": "initial"
      }
     },
     "5a383c9baa444b63a17ac5ee87bfb1d3": {
      "model_module": "@jupyter-widgets/base",
      "model_module_version": "1.2.0",
      "model_name": "LayoutModel",
      "state": {}
     },
     "5a3b61dc320b4d3fa5a25e09cb86aab5": {
      "model_module": "@jupyter-widgets/controls",
      "model_module_version": "1.5.0",
      "model_name": "SliderStyleModel",
      "state": {
       "description_width": "initial"
      }
     },
     "5a5b5ee484a143f598bc307731694eae": {
      "model_module": "@jupyter-widgets/controls",
      "model_module_version": "1.5.0",
      "model_name": "IntSliderModel",
      "state": {
       "continuous_update": false,
       "description": "Periods",
       "layout": "IPY_MODEL_186047f24b2d4091a548ac07dc8d98fb",
       "max": 50,
       "min": 1,
       "style": "IPY_MODEL_449cf9bc7de346258181fe6c536cec99",
       "value": 2
      }
     },
     "5ab33461d32a49139ba5669903dd5de9": {
      "model_module": "@jupyter-widgets/base",
      "model_module_version": "1.2.0",
      "model_name": "LayoutModel",
      "state": {}
     },
     "5ab9c89fcf0d4f5eb385313a236a3a77": {
      "model_module": "@jupyter-widgets/base",
      "model_module_version": "1.2.0",
      "model_name": "LayoutModel",
      "state": {}
     },
     "5ad19fdcb6334b5482c1b985dfa47cc7": {
      "model_module": "@jupyter-widgets/base",
      "model_module_version": "1.2.0",
      "model_name": "LayoutModel",
      "state": {}
     },
     "5ad255c78f3b48d2a3d9ad5f83fb65bf": {
      "model_module": "@jupyter-widgets/base",
      "model_module_version": "1.2.0",
      "model_name": "LayoutModel",
      "state": {}
     },
     "5aecb12dc71e4bf3a4ec217914ac40e1": {
      "model_module": "@jupyter-widgets/base",
      "model_module_version": "1.2.0",
      "model_name": "LayoutModel",
      "state": {}
     },
     "5afdab1d7c7e49028710862f5b732b6a": {
      "model_module": "@jupyter-widgets/controls",
      "model_module_version": "1.5.0",
      "model_name": "SliderStyleModel",
      "state": {
       "description_width": "initial"
      }
     },
     "5b03391e5b954aefb7ed62685d552502": {
      "model_module": "jupyter-matplotlib",
      "model_module_version": "^0.7.4",
      "model_name": "ToolbarModel",
      "state": {
       "layout": "IPY_MODEL_7fff370d84394443b69fab4e8d05cb19",
       "toolitems": [
        [
         "Home",
         "Reset original view",
         "home",
         "home"
        ],
        [
         "Back",
         "Back to previous view",
         "arrow-left",
         "back"
        ],
        [
         "Forward",
         "Forward to next view",
         "arrow-right",
         "forward"
        ],
        [
         "Pan",
         "Left button pans, Right button zooms\nx/y fixes axis, CTRL fixes aspect",
         "arrows",
         "pan"
        ],
        [
         "Zoom",
         "Zoom to rectangle\nx/y fixes axis, CTRL fixes aspect",
         "square-o",
         "zoom"
        ],
        [
         "Download",
         "Download plot",
         "floppy-o",
         "save_figure"
        ]
       ]
      }
     },
     "5b190f51dc084898a9333da23936be65": {
      "model_module": "@jupyter-widgets/controls",
      "model_module_version": "1.5.0",
      "model_name": "SliderStyleModel",
      "state": {
       "description_width": "initial"
      }
     },
     "5b6236f4d98e4241aaaf26ac7a77223b": {
      "model_module": "@jupyter-widgets/base",
      "model_module_version": "1.2.0",
      "model_name": "LayoutModel",
      "state": {}
     },
     "5b6e58a4771948fa9aae913e643e7694": {
      "model_module": "@jupyter-widgets/base",
      "model_module_version": "1.2.0",
      "model_name": "LayoutModel",
      "state": {}
     },
     "5b6ed7e4d5cc4faab40342236001787c": {
      "model_module": "jupyter-matplotlib",
      "model_module_version": "^0.7.4",
      "model_name": "ToolbarModel",
      "state": {
       "layout": "IPY_MODEL_9ead9330848d4c3fb07663ae05d1d6a8",
       "toolitems": [
        [
         "Home",
         "Reset original view",
         "home",
         "home"
        ],
        [
         "Back",
         "Back to previous view",
         "arrow-left",
         "back"
        ],
        [
         "Forward",
         "Forward to next view",
         "arrow-right",
         "forward"
        ],
        [
         "Pan",
         "Left button pans, Right button zooms\nx/y fixes axis, CTRL fixes aspect",
         "arrows",
         "pan"
        ],
        [
         "Zoom",
         "Zoom to rectangle\nx/y fixes axis, CTRL fixes aspect",
         "square-o",
         "zoom"
        ],
        [
         "Download",
         "Download plot",
         "floppy-o",
         "save_figure"
        ]
       ]
      }
     },
     "5b7d7aded0a74f1a9acd49090261c404": {
      "model_module": "@jupyter-widgets/controls",
      "model_module_version": "1.5.0",
      "model_name": "SliderStyleModel",
      "state": {
       "description_width": "initial"
      }
     },
     "5b93bff5c7b1413e95f215b67589fabc": {
      "model_module": "@jupyter-widgets/base",
      "model_module_version": "1.2.0",
      "model_name": "LayoutModel",
      "state": {}
     },
     "5b9e0c2367d24563a8964a06d7e92304": {
      "model_module": "@jupyter-widgets/base",
      "model_module_version": "1.2.0",
      "model_name": "LayoutModel",
      "state": {}
     },
     "5ba6522774a846869a84676a81136e30": {
      "model_module": "@jupyter-widgets/base",
      "model_module_version": "1.2.0",
      "model_name": "LayoutModel",
      "state": {}
     },
     "5bb936cbcfcd464b99fc22951a92c51f": {
      "model_module": "@jupyter-widgets/controls",
      "model_module_version": "1.5.0",
      "model_name": "SliderStyleModel",
      "state": {
       "description_width": "initial"
      }
     },
     "5bc432e2e2df4ac796f13b1cd8f66fa9": {
      "model_module": "@jupyter-widgets/base",
      "model_module_version": "1.2.0",
      "model_name": "LayoutModel",
      "state": {}
     },
     "5bc5701538bc4faea86291a8409be893": {
      "model_module": "jupyter-matplotlib",
      "model_module_version": "^0.7.4",
      "model_name": "ToolbarModel",
      "state": {
       "layout": "IPY_MODEL_cdfd7210082740598004a2bef4258a76",
       "toolitems": [
        [
         "Home",
         "Reset original view",
         "home",
         "home"
        ],
        [
         "Back",
         "Back to previous view",
         "arrow-left",
         "back"
        ],
        [
         "Forward",
         "Forward to next view",
         "arrow-right",
         "forward"
        ],
        [
         "Pan",
         "Left button pans, Right button zooms\nx/y fixes axis, CTRL fixes aspect",
         "arrows",
         "pan"
        ],
        [
         "Zoom",
         "Zoom to rectangle\nx/y fixes axis, CTRL fixes aspect",
         "square-o",
         "zoom"
        ],
        [
         "Download",
         "Download plot",
         "floppy-o",
         "save_figure"
        ]
       ]
      }
     },
     "5bdf351f278f4976878e930e1eb8012a": {
      "model_module": "@jupyter-widgets/controls",
      "model_module_version": "1.5.0",
      "model_name": "IntSliderModel",
      "state": {
       "continuous_update": false,
       "description": "Periods",
       "layout": "IPY_MODEL_f12c5cfe08f3496c91442692522e1089",
       "max": 50,
       "min": 1,
       "style": "IPY_MODEL_fe96e050ef8a476c890e68a5962bab6b",
       "value": 4
      }
     },
     "5be530ba3ae348f99fa7af57280b83e2": {
      "model_module": "@jupyter-widgets/controls",
      "model_module_version": "1.5.0",
      "model_name": "HBoxModel",
      "state": {
       "children": [
        "IPY_MODEL_407506b368774c57a13a51713af32a37",
        "IPY_MODEL_091e3e52b4424284ab854e9ac2edef2e"
       ],
       "layout": "IPY_MODEL_3e8995a4f8424bf3909a7505e0203276"
      }
     },
     "5c06bec354604dadaf6ccb9dd3863cc3": {
      "model_module": "@jupyter-widgets/base",
      "model_module_version": "1.2.0",
      "model_name": "LayoutModel",
      "state": {}
     },
     "5c2044c7e96d49ba939519cdd0967cb4": {
      "model_module": "@jupyter-widgets/base",
      "model_module_version": "1.2.0",
      "model_name": "LayoutModel",
      "state": {}
     },
     "5c311b5603454efa9fa9ab2bdecd9a83": {
      "model_module": "@jupyter-widgets/controls",
      "model_module_version": "1.5.0",
      "model_name": "SliderStyleModel",
      "state": {
       "description_width": "initial"
      }
     },
     "5c45001395bc476aac7aa086ecb744fd": {
      "model_module": "@jupyter-widgets/controls",
      "model_module_version": "1.5.0",
      "model_name": "IntSliderModel",
      "state": {
       "continuous_update": false,
       "description": "0-Padding",
       "layout": "IPY_MODEL_401fb839f71640beb09cbf4ec96811de",
       "max": 500,
       "style": "IPY_MODEL_5a330fe534d149b7b932ef0d5ad8c8dc"
      }
     },
     "5c78490189e04cff89fcf0797cbdd363": {
      "model_module": "@jupyter-widgets/controls",
      "model_module_version": "1.5.0",
      "model_name": "IntSliderModel",
      "state": {
       "continuous_update": false,
       "description": "Sampling (Hz)",
       "layout": "IPY_MODEL_2cef9fd227af4e41a021efd3eb81e5ec",
       "max": 20,
       "min": 2,
       "step": 2,
       "style": "IPY_MODEL_d0c5982013754ca2935bb7a026fd7cc5",
       "value": 4
      }
     },
     "5cf61a34144e4c8a97da4c232937032d": {
      "model_module": "@jupyter-widgets/base",
      "model_module_version": "1.2.0",
      "model_name": "LayoutModel",
      "state": {}
     },
     "5d1fb7180f284a61bfa30d29028d082e": {
      "model_module": "jupyter-matplotlib",
      "model_module_version": "^0.7.4",
      "model_name": "ToolbarModel",
      "state": {
       "layout": "IPY_MODEL_ea3fece15e5e4b00b7857558c5c449ee",
       "toolitems": [
        [
         "Home",
         "Reset original view",
         "home",
         "home"
        ],
        [
         "Back",
         "Back to previous view",
         "arrow-left",
         "back"
        ],
        [
         "Forward",
         "Forward to next view",
         "arrow-right",
         "forward"
        ],
        [
         "Pan",
         "Left button pans, Right button zooms\nx/y fixes axis, CTRL fixes aspect",
         "arrows",
         "pan"
        ],
        [
         "Zoom",
         "Zoom to rectangle\nx/y fixes axis, CTRL fixes aspect",
         "square-o",
         "zoom"
        ],
        [
         "Download",
         "Download plot",
         "floppy-o",
         "save_figure"
        ]
       ]
      }
     },
     "5d744f20ce1a41b0bb2d4ccf6f418d0c": {
      "model_module": "@jupyter-widgets/controls",
      "model_module_version": "1.5.0",
      "model_name": "SliderStyleModel",
      "state": {
       "description_width": "initial"
      }
     },
     "5d75272d8800487a92d4a52b9b48245a": {
      "model_module": "@jupyter-widgets/controls",
      "model_module_version": "1.5.0",
      "model_name": "IntSliderModel",
      "state": {
       "continuous_update": false,
       "description": "Periods",
       "layout": "IPY_MODEL_ea12334eb57a4bab84a73c969b8d7f8a",
       "max": 50,
       "min": 1,
       "style": "IPY_MODEL_d6fd791b59704330a4652e65bb708c06",
       "value": 2
      }
     },
     "5d810269378e4501b316dbde781017f4": {
      "model_module": "@jupyter-widgets/controls",
      "model_module_version": "1.5.0",
      "model_name": "SliderStyleModel",
      "state": {
       "description_width": "initial"
      }
     },
     "5dad766ddadb470f9087899f64bdb242": {
      "model_module": "@jupyter-widgets/base",
      "model_module_version": "1.2.0",
      "model_name": "LayoutModel",
      "state": {}
     },
     "5dba7379f5f842409759c6f063d273a1": {
      "model_module": "@jupyter-widgets/base",
      "model_module_version": "1.2.0",
      "model_name": "LayoutModel",
      "state": {}
     },
     "5df5e11992c7492c82f0c07af3c555be": {
      "model_module": "@jupyter-widgets/controls",
      "model_module_version": "1.5.0",
      "model_name": "SliderStyleModel",
      "state": {
       "description_width": "initial"
      }
     },
     "5e4a2dae78174ab59d5937c0590685ff": {
      "model_module": "@jupyter-widgets/controls",
      "model_module_version": "1.5.0",
      "model_name": "VBoxModel",
      "state": {
       "children": [
        "IPY_MODEL_1eb9a82f95544226893cd7029347ca3c",
        "IPY_MODEL_1dd4fd1928304069859eb4562586cdcf",
        "IPY_MODEL_aeb76d178b354b6ba63d0b3db43b6965"
       ],
       "layout": "IPY_MODEL_820ac2ae43434ceab87631bce9c7735f"
      }
     },
     "5e58face0c4841b7b1cadb691f88da35": {
      "model_module": "@jupyter-widgets/controls",
      "model_module_version": "1.5.0",
      "model_name": "SliderStyleModel",
      "state": {
       "description_width": "initial"
      }
     },
     "5e5d2f4227b94f8193cf991ec1c7fbee": {
      "model_module": "@jupyter-widgets/base",
      "model_module_version": "1.2.0",
      "model_name": "LayoutModel",
      "state": {}
     },
     "5e6403151c1248f09361e13c9ec4dc02": {
      "model_module": "jupyter-matplotlib",
      "model_module_version": "^0.7.4",
      "model_name": "ToolbarModel",
      "state": {
       "layout": "IPY_MODEL_351e3ea32a684f348234785399f986ba",
       "toolitems": [
        [
         "Home",
         "Reset original view",
         "home",
         "home"
        ],
        [
         "Back",
         "Back to previous view",
         "arrow-left",
         "back"
        ],
        [
         "Forward",
         "Forward to next view",
         "arrow-right",
         "forward"
        ],
        [
         "Pan",
         "Left button pans, Right button zooms\nx/y fixes axis, CTRL fixes aspect",
         "arrows",
         "pan"
        ],
        [
         "Zoom",
         "Zoom to rectangle\nx/y fixes axis, CTRL fixes aspect",
         "square-o",
         "zoom"
        ],
        [
         "Download",
         "Download plot",
         "floppy-o",
         "save_figure"
        ]
       ]
      }
     },
     "5e6a8fbac1564c8694c8683bdd1ece1a": {
      "model_module": "@jupyter-widgets/base",
      "model_module_version": "1.2.0",
      "model_name": "LayoutModel",
      "state": {}
     },
     "5e8eb7dcdd1b48cb9e7a61dbb444a867": {
      "model_module": "@jupyter-widgets/base",
      "model_module_version": "1.2.0",
      "model_name": "LayoutModel",
      "state": {}
     },
     "5e911b6fe08e4ba7813ef07ed363ef08": {
      "model_module": "@jupyter-widgets/controls",
      "model_module_version": "1.5.0",
      "model_name": "SliderStyleModel",
      "state": {
       "description_width": "initial"
      }
     },
     "5ee4964f61b640db89f4a74b4f484ccd": {
      "model_module": "@jupyter-widgets/output",
      "model_module_version": "1.0.0",
      "model_name": "OutputModel",
      "state": {
       "layout": "IPY_MODEL_b6ccd4e187e2489f812adc2e239579e4"
      }
     },
     "5eefede7b353473a8773ca49eb1b399d": {
      "model_module": "@jupyter-widgets/controls",
      "model_module_version": "1.5.0",
      "model_name": "SliderStyleModel",
      "state": {
       "description_width": "initial"
      }
     },
     "5f1332fd6adc4adc9ec2a15c0c7780ac": {
      "model_module": "@jupyter-widgets/controls",
      "model_module_version": "1.5.0",
      "model_name": "IntSliderModel",
      "state": {
       "continuous_update": false,
       "description": "Periods",
       "layout": "IPY_MODEL_da58d093d7f94d30b187dc5446ea8766",
       "max": 50,
       "min": 1,
       "style": "IPY_MODEL_06a51758e793477a845f91a4a1bc284e",
       "value": 2
      }
     },
     "5f27da1e7ed94941b59c062922ea903a": {
      "model_module": "@jupyter-widgets/output",
      "model_module_version": "1.0.0",
      "model_name": "OutputModel",
      "state": {
       "layout": "IPY_MODEL_49543fc375f145799cb4fa11065621e7"
      }
     },
     "5f2a1d4deefb442d8423ff205dc51e8c": {
      "model_module": "@jupyter-widgets/controls",
      "model_module_version": "1.5.0",
      "model_name": "IntSliderModel",
      "state": {
       "description": "0-Padding",
       "layout": "IPY_MODEL_ab4368a1d68a4831b825407b15f03bc9",
       "max": 120,
       "step": 4,
       "style": "IPY_MODEL_56701d2bc3ca453aa9f0b85fc28de1fc"
      }
     },
     "5f3384e56b1344f48ac9c9b4b6c06073": {
      "model_module": "@jupyter-widgets/controls",
      "model_module_version": "1.5.0",
      "model_name": "IntSliderModel",
      "state": {
       "continuous_update": false,
       "description": "0-Padding",
       "layout": "IPY_MODEL_53d5ce8c337b454996e83ff2d29ae715",
       "max": 2268,
       "step": 75,
       "style": "IPY_MODEL_8a12d25f8fd3468482edb64eb0339a7f",
       "value": 900
      }
     },
     "5f56d7477fb8442a9b6a5fee26565890": {
      "model_module": "@jupyter-widgets/controls",
      "model_module_version": "1.5.0",
      "model_name": "VBoxModel",
      "state": {
       "_dom_classes": [
        "widget-interact"
       ],
       "children": [
        "IPY_MODEL_d56a855741904edaabf1a971a13d6624",
        "IPY_MODEL_2cc12022a76445719004fb9e6d53ad3d",
        "IPY_MODEL_2aa00a532d444c1381a4b22e34a8bd61",
        "IPY_MODEL_16e6ce7f6a7e4c1e9142a7efa2345690"
       ],
       "layout": "IPY_MODEL_e2caef18dcb7463fa1bc2fe28913ac7f"
      }
     },
     "5f57d152c30243eea2808247d14e6d41": {
      "model_module": "@jupyter-widgets/controls",
      "model_module_version": "1.5.0",
      "model_name": "SliderStyleModel",
      "state": {
       "description_width": "initial"
      }
     },
     "5f80164699d640e5946069149af4d74c": {
      "model_module": "@jupyter-widgets/controls",
      "model_module_version": "1.5.0",
      "model_name": "HBoxModel",
      "state": {
       "children": [
        "IPY_MODEL_fd5cef97decb489483df3e117673aef9",
        "IPY_MODEL_bdfb37cbf42e4846af703d1023260bb8"
       ],
       "layout": "IPY_MODEL_176b9c3600db4117be7613dced5b4048"
      }
     },
     "5f935e3a43b949f388dd9f9978f3bc2d": {
      "model_module": "@jupyter-widgets/controls",
      "model_module_version": "1.5.0",
      "model_name": "SliderStyleModel",
      "state": {
       "description_width": "initial"
      }
     },
     "60086e0dbee94ad58dc1586add484a16": {
      "model_module": "@jupyter-widgets/controls",
      "model_module_version": "1.5.0",
      "model_name": "IntSliderModel",
      "state": {
       "continuous_update": false,
       "description": "0-Padding",
       "layout": "IPY_MODEL_a5cafd418f2e4064badc0229480f952c",
       "max": 500,
       "style": "IPY_MODEL_8644b834810946a4b100a538e066b934"
      }
     },
     "6014333391e04f888961c6b3bc4ada89": {
      "model_module": "@jupyter-widgets/base",
      "model_module_version": "1.2.0",
      "model_name": "LayoutModel",
      "state": {}
     },
     "602fbe18a42b45a99fe84fc951dac010": {
      "model_module": "@jupyter-widgets/base",
      "model_module_version": "1.2.0",
      "model_name": "LayoutModel",
      "state": {}
     },
     "603b0d576d554e0fab7f6bf0b02d4c04": {
      "model_module": "@jupyter-widgets/controls",
      "model_module_version": "1.5.0",
      "model_name": "SliderStyleModel",
      "state": {
       "description_width": "initial"
      }
     },
     "603fb267441d483dac569e4eee30cd42": {
      "model_module": "@jupyter-widgets/controls",
      "model_module_version": "1.5.0",
      "model_name": "IntSliderModel",
      "state": {
       "continuous_update": false,
       "description": "Periods",
       "layout": "IPY_MODEL_1a66d2ed7be643ce9de049357301edc5",
       "max": 50,
       "min": 1,
       "style": "IPY_MODEL_3e3247b050e74a06b9a8f84cd2d3a6c8",
       "value": 2
      }
     },
     "6051c59b2a164165a1b367153814cd0c": {
      "model_module": "jupyter-matplotlib",
      "model_module_version": "^0.7.4",
      "model_name": "ToolbarModel",
      "state": {
       "layout": "IPY_MODEL_fb97eb15368f414a9bd09410f8c87d71",
       "toolitems": [
        [
         "Home",
         "Reset original view",
         "home",
         "home"
        ],
        [
         "Back",
         "Back to previous view",
         "arrow-left",
         "back"
        ],
        [
         "Forward",
         "Forward to next view",
         "arrow-right",
         "forward"
        ],
        [
         "Pan",
         "Left button pans, Right button zooms\nx/y fixes axis, CTRL fixes aspect",
         "arrows",
         "pan"
        ],
        [
         "Zoom",
         "Zoom to rectangle\nx/y fixes axis, CTRL fixes aspect",
         "square-o",
         "zoom"
        ],
        [
         "Download",
         "Download plot",
         "floppy-o",
         "save_figure"
        ]
       ]
      }
     },
     "605ca85caef14b74ba721a3d0808763a": {
      "model_module": "jupyter-matplotlib",
      "model_module_version": "^0.7.4",
      "model_name": "ToolbarModel",
      "state": {
       "layout": "IPY_MODEL_8c634bf7c8c04cfda3db91da3e029349",
       "toolitems": [
        [
         "Home",
         "Reset original view",
         "home",
         "home"
        ],
        [
         "Back",
         "Back to previous view",
         "arrow-left",
         "back"
        ],
        [
         "Forward",
         "Forward to next view",
         "arrow-right",
         "forward"
        ],
        [
         "Pan",
         "Left button pans, Right button zooms\nx/y fixes axis, CTRL fixes aspect",
         "arrows",
         "pan"
        ],
        [
         "Zoom",
         "Zoom to rectangle\nx/y fixes axis, CTRL fixes aspect",
         "square-o",
         "zoom"
        ],
        [
         "Download",
         "Download plot",
         "floppy-o",
         "save_figure"
        ]
       ]
      }
     },
     "6085f4e154a74a8a9e1bd538dc76e400": {
      "model_module": "@jupyter-widgets/controls",
      "model_module_version": "1.5.0",
      "model_name": "VBoxModel",
      "state": {
       "_dom_classes": [
        "widget-interact"
       ],
       "children": [
        "IPY_MODEL_cf4be19105aa41139c3389aca4904270",
        "IPY_MODEL_8c60c159fa984ac68ba8df73a7d46dd5",
        "IPY_MODEL_dcf61239e922483391c3ac67f6460233",
        "IPY_MODEL_b8324a27e4154c82b733540d1a6ef2e7"
       ],
       "layout": "IPY_MODEL_f45c3035f81c47f1b7f131f261593a5c"
      }
     },
     "60ab3f48c62e40c694cd471fd02d9a36": {
      "model_module": "@jupyter-widgets/output",
      "model_module_version": "1.0.0",
      "model_name": "OutputModel",
      "state": {
       "layout": "IPY_MODEL_e86b4d933bda43399d3ec8e081d58745",
       "outputs": [
        {
         "data": {
          "application/vnd.jupyter.widget-view+json": {
           "model_id": "e57d34ffa5174fa19f56307315232aa4",
           "version_major": 2,
           "version_minor": 0
          },
          "text/plain": "Canvas(toolbar=Toolbar(toolitems=[('Home', 'Reset original view', 'home', 'home'), ('Back', 'Back to previous …"
         },
         "metadata": {},
         "output_type": "display_data"
        }
       ]
      }
     },
     "60c0f6c94e05492ea699fdb2c3619523": {
      "model_module": "@jupyter-widgets/base",
      "model_module_version": "1.2.0",
      "model_name": "LayoutModel",
      "state": {}
     },
     "60d761d5e8cc4196bd164bad11e551b8": {
      "model_module": "@jupyter-widgets/base",
      "model_module_version": "1.2.0",
      "model_name": "LayoutModel",
      "state": {}
     },
     "60e36d1526294ea0adbd5250c79735b1": {
      "model_module": "@jupyter-widgets/output",
      "model_module_version": "1.0.0",
      "model_name": "OutputModel",
      "state": {
       "layout": "IPY_MODEL_19025d1852264200b6e1a45d3eaa6b76"
      }
     },
     "60ecd7f64f6a4b3081f4fb0c8ceffc7a": {
      "model_module": "@jupyter-widgets/base",
      "model_module_version": "1.2.0",
      "model_name": "LayoutModel",
      "state": {}
     },
     "612d93220e2b4fe1a41f5d2c18443499": {
      "model_module": "@jupyter-widgets/controls",
      "model_module_version": "1.5.0",
      "model_name": "IntSliderModel",
      "state": {
       "continuous_update": false,
       "description": "Sampling (Hz)",
       "layout": "IPY_MODEL_3bac113666a64ae5abc897e5450fba39",
       "max": 20,
       "min": 2,
       "step": 2,
       "style": "IPY_MODEL_cf1cc210e4224fb4aa4eddf1e4317d61",
       "value": 4
      }
     },
     "61588c8a9ad9479ba7a7c0817e13c0cd": {
      "model_module": "@jupyter-widgets/base",
      "model_module_version": "1.2.0",
      "model_name": "LayoutModel",
      "state": {}
     },
     "616f10dd1345464cbcfc83b06578878d": {
      "model_module": "@jupyter-widgets/controls",
      "model_module_version": "1.5.0",
      "model_name": "VBoxModel",
      "state": {
       "_dom_classes": [
        "widget-interact"
       ],
       "children": [
        "IPY_MODEL_ef4b074f18454f369f72ccc5c9b6208c",
        "IPY_MODEL_309a27c4567f4503862edb5584a54b72",
        "IPY_MODEL_a50073927f5b45569396782a958b082f",
        "IPY_MODEL_936cead9210349f1b0a85af6ccf380ba"
       ],
       "layout": "IPY_MODEL_a40dc32673ef4e1ea0db2640c8cf0bc3"
      }
     },
     "6189b09af9a14815a69913e31e6fca95": {
      "model_module": "@jupyter-widgets/controls",
      "model_module_version": "1.5.0",
      "model_name": "HBoxModel",
      "state": {
       "children": [
        "IPY_MODEL_33d289f68659445f90656f4c121e205d",
        "IPY_MODEL_f22113eaab64485aa60c8bba2463e60d",
        "IPY_MODEL_5639042b6a50456287a0429d399d8be0"
       ],
       "layout": "IPY_MODEL_edf2965f167a42bab748afbf8d1e9dbb"
      }
     },
     "61998202904f457dbcb585a4b0696a78": {
      "model_module": "@jupyter-widgets/controls",
      "model_module_version": "1.5.0",
      "model_name": "IntSliderModel",
      "state": {
       "continuous_update": false,
       "description": "0-Padding",
       "layout": "IPY_MODEL_4de4292a3bed4930a9f8393688f0c166",
       "max": 720,
       "step": 24,
       "style": "IPY_MODEL_5e58face0c4841b7b1cadb691f88da35"
      }
     },
     "619bdef3babf4b55bece609c6241c333": {
      "model_module": "@jupyter-widgets/base",
      "model_module_version": "1.2.0",
      "model_name": "LayoutModel",
      "state": {}
     },
     "61a2f7ac746a4485bd93a7aed9130932": {
      "model_module": "@jupyter-widgets/base",
      "model_module_version": "1.2.0",
      "model_name": "LayoutModel",
      "state": {}
     },
     "61b8e014672e4e318be4a53897fc21d1": {
      "model_module": "@jupyter-widgets/controls",
      "model_module_version": "1.5.0",
      "model_name": "VBoxModel",
      "state": {
       "children": [
        "IPY_MODEL_8016dd2d14f944e7863c765d0940b30c",
        "IPY_MODEL_ab585c35011e499d978073245c7cd453",
        "IPY_MODEL_076195bebbc24308b9db406defa36b24"
       ],
       "layout": "IPY_MODEL_5aecb12dc71e4bf3a4ec217914ac40e1"
      }
     },
     "61d028d3935445beb1ed24be52dce17d": {
      "model_module": "jupyter-matplotlib",
      "model_module_version": "^0.7.4",
      "model_name": "ToolbarModel",
      "state": {
       "layout": "IPY_MODEL_18e8baa3669a4c0b9646a72edb113850",
       "toolitems": [
        [
         "Home",
         "Reset original view",
         "home",
         "home"
        ],
        [
         "Back",
         "Back to previous view",
         "arrow-left",
         "back"
        ],
        [
         "Forward",
         "Forward to next view",
         "arrow-right",
         "forward"
        ],
        [
         "Pan",
         "Left button pans, Right button zooms\nx/y fixes axis, CTRL fixes aspect",
         "arrows",
         "pan"
        ],
        [
         "Zoom",
         "Zoom to rectangle\nx/y fixes axis, CTRL fixes aspect",
         "square-o",
         "zoom"
        ],
        [
         "Download",
         "Download plot",
         "floppy-o",
         "save_figure"
        ]
       ]
      }
     },
     "61ed70f631f44614a84d6063910136ee": {
      "model_module": "@jupyter-widgets/base",
      "model_module_version": "1.2.0",
      "model_name": "LayoutModel",
      "state": {}
     },
     "61f05f4d2ff143ac9ec25f6d2595c4af": {
      "model_module": "@jupyter-widgets/base",
      "model_module_version": "1.2.0",
      "model_name": "LayoutModel",
      "state": {}
     },
     "622be5ba42464a07a3a120cffd8dc5a3": {
      "model_module": "@jupyter-widgets/controls",
      "model_module_version": "1.5.0",
      "model_name": "VBoxModel",
      "state": {
       "children": [
        "IPY_MODEL_ad8db9eac7fb430db58ee359ade628c0",
        "IPY_MODEL_4eae58f2eba34e48b57fbf9c88ad0c5f",
        "IPY_MODEL_16e43d19eac04ef3be4d22e35da24196"
       ],
       "layout": "IPY_MODEL_259ea679718e4ec2892b133bbbb74380"
      }
     },
     "622e442527624e5c9ebe85483891a22b": {
      "model_module": "jupyter-matplotlib",
      "model_module_version": "^0.7.4",
      "model_name": "ToolbarModel",
      "state": {
       "layout": "IPY_MODEL_a98871849cf84b47b75b85d7c7322aee",
       "toolitems": [
        [
         "Home",
         "Reset original view",
         "home",
         "home"
        ],
        [
         "Back",
         "Back to previous view",
         "arrow-left",
         "back"
        ],
        [
         "Forward",
         "Forward to next view",
         "arrow-right",
         "forward"
        ],
        [
         "Pan",
         "Left button pans, Right button zooms\nx/y fixes axis, CTRL fixes aspect",
         "arrows",
         "pan"
        ],
        [
         "Zoom",
         "Zoom to rectangle\nx/y fixes axis, CTRL fixes aspect",
         "square-o",
         "zoom"
        ],
        [
         "Download",
         "Download plot",
         "floppy-o",
         "save_figure"
        ]
       ]
      }
     },
     "6231eef611564cf7887de758deff1570": {
      "model_module": "@jupyter-widgets/base",
      "model_module_version": "1.2.0",
      "model_name": "LayoutModel",
      "state": {
       "align_items": "center",
       "display": "flex"
      }
     },
     "6246e12765f140798c2263fb2701257f": {
      "model_module": "@jupyter-widgets/controls",
      "model_module_version": "1.5.0",
      "model_name": "SliderStyleModel",
      "state": {
       "description_width": "initial"
      }
     },
     "624bb9659bbf4c8ab6faf3342b5b04bd": {
      "model_module": "@jupyter-widgets/base",
      "model_module_version": "1.2.0",
      "model_name": "LayoutModel",
      "state": {}
     },
     "625b2a0ab24b40fe9d00d973294fb50a": {
      "model_module": "@jupyter-widgets/base",
      "model_module_version": "1.2.0",
      "model_name": "LayoutModel",
      "state": {}
     },
     "6278a854d8594ad79f371039c1dede7e": {
      "model_module": "@jupyter-widgets/controls",
      "model_module_version": "1.5.0",
      "model_name": "SliderStyleModel",
      "state": {
       "description_width": "initial"
      }
     },
     "6284fbc6a7ca4b248efbc2cdd5be2651": {
      "model_module": "@jupyter-widgets/controls",
      "model_module_version": "1.5.0",
      "model_name": "IntSliderModel",
      "state": {
       "continuous_update": false,
       "description": "0-Padding",
       "layout": "IPY_MODEL_2ef3631a1728481f9170d18f143f6207",
       "max": 1368,
       "step": 45,
       "style": "IPY_MODEL_1998db06ec104295a74d5cf3daca4a7d"
      }
     },
     "6299add665a241a89a535f151006584b": {
      "model_module": "@jupyter-widgets/base",
      "model_module_version": "1.2.0",
      "model_name": "LayoutModel",
      "state": {}
     },
     "629f9ff32fe54da1b510393b5865216b": {
      "model_module": "@jupyter-widgets/controls",
      "model_module_version": "1.5.0",
      "model_name": "VBoxModel",
      "state": {
       "children": [
        "IPY_MODEL_7497415c53164f5b9474aafe24f199d9",
        "IPY_MODEL_93dcdcef8e544243a353590f55f96e75",
        "IPY_MODEL_2a936792684c4e40b4837fadbec5d462"
       ],
       "layout": "IPY_MODEL_db783f607e1a40bb842cef74d18a6d73"
      }
     },
     "62b7587ed9314017a44648810b26cb17": {
      "model_module": "@jupyter-widgets/controls",
      "model_module_version": "1.5.0",
      "model_name": "IntSliderModel",
      "state": {
       "continuous_update": false,
       "description": "Sampling (Hz)",
       "layout": "IPY_MODEL_67069dff7d444e9cb16d5057d3685870",
       "max": 12,
       "min": 2,
       "step": 2,
       "style": "IPY_MODEL_26a30ac475d745e49828ecf6b06f2d9d",
       "value": 4
      }
     },
     "62d8d86e813247739cee4c16eeba83fd": {
      "model_module": "@jupyter-widgets/base",
      "model_module_version": "1.2.0",
      "model_name": "LayoutModel",
      "state": {}
     },
     "62f058b354524197a2c7c5dd618e501b": {
      "model_module": "@jupyter-widgets/base",
      "model_module_version": "1.2.0",
      "model_name": "LayoutModel",
      "state": {}
     },
     "630f022ca0484eb7a81ecdcff97e977a": {
      "model_module": "@jupyter-widgets/controls",
      "model_module_version": "1.5.0",
      "model_name": "HBoxModel",
      "state": {
       "children": [
        "IPY_MODEL_8385201f766e4c71ab8da869cd46172e",
        "IPY_MODEL_afc9ade1979b43db8c65e2f7abfa59ce"
       ],
       "layout": "IPY_MODEL_d5ac622af5ba4c3892a1596ea318f99a"
      }
     },
     "631509949bdf43c0872ccf16e6d5efec": {
      "model_module": "@jupyter-widgets/base",
      "model_module_version": "1.2.0",
      "model_name": "LayoutModel",
      "state": {}
     },
     "632e20e3c4434e42b392d200fccd1865": {
      "model_module": "@jupyter-widgets/base",
      "model_module_version": "1.2.0",
      "model_name": "LayoutModel",
      "state": {}
     },
     "633bb0cb6d2a481d8615c541ddfc448f": {
      "model_module": "@jupyter-widgets/base",
      "model_module_version": "1.2.0",
      "model_name": "LayoutModel",
      "state": {}
     },
     "636985dc7b28406cbe27629452a7d240": {
      "model_module": "@jupyter-widgets/base",
      "model_module_version": "1.2.0",
      "model_name": "LayoutModel",
      "state": {}
     },
     "636f7bd957f44cbfa423e705d9f45193": {
      "model_module": "@jupyter-widgets/base",
      "model_module_version": "1.2.0",
      "model_name": "LayoutModel",
      "state": {}
     },
     "63752ae5bf7545b4894a2c316fc2fb06": {
      "model_module": "@jupyter-widgets/base",
      "model_module_version": "1.2.0",
      "model_name": "LayoutModel",
      "state": {}
     },
     "638d895878f940aab1ed26c648dc127a": {
      "model_module": "@jupyter-widgets/output",
      "model_module_version": "1.0.0",
      "model_name": "OutputModel",
      "state": {
       "layout": "IPY_MODEL_6e58e659530b4a6c90acddc3fce95dc5"
      }
     },
     "6399a47f34bc4e37a6ec7013ad297838": {
      "model_module": "@jupyter-widgets/controls",
      "model_module_version": "1.5.0",
      "model_name": "SliderStyleModel",
      "state": {
       "description_width": "initial"
      }
     },
     "63defdb51ffe471497cc21642261a559": {
      "model_module": "@jupyter-widgets/controls",
      "model_module_version": "1.5.0",
      "model_name": "SliderStyleModel",
      "state": {
       "description_width": "initial"
      }
     },
     "64090f6a8497411988923dcad9ce8660": {
      "model_module": "@jupyter-widgets/base",
      "model_module_version": "1.2.0",
      "model_name": "LayoutModel",
      "state": {}
     },
     "641f5a439e3c4210aceb4c8ffa337da4": {
      "model_module": "@jupyter-widgets/base",
      "model_module_version": "1.2.0",
      "model_name": "LayoutModel",
      "state": {}
     },
     "64203d629f594757b80d63313fc06158": {
      "model_module": "@jupyter-widgets/controls",
      "model_module_version": "1.5.0",
      "model_name": "SliderStyleModel",
      "state": {
       "description_width": "initial"
      }
     },
     "644005720ff04a6bae99dd1876382662": {
      "model_module": "@jupyter-widgets/controls",
      "model_module_version": "1.5.0",
      "model_name": "VBoxModel",
      "state": {
       "children": [
        "IPY_MODEL_82ee6d157303457dac2837d4b87b604c",
        "IPY_MODEL_d8bc6a10be734b71a7536114b39d1a2e",
        "IPY_MODEL_393a79a1f26044aeaab3a10235c4e945"
       ],
       "layout": "IPY_MODEL_8fe7eb6ec71448eabb8f024cbf51abb0"
      }
     },
     "644780aa3bb54bf1832e6fec78b0d396": {
      "model_module": "@jupyter-widgets/controls",
      "model_module_version": "1.5.0",
      "model_name": "VBoxModel",
      "state": {
       "children": [
        "IPY_MODEL_5f1332fd6adc4adc9ec2a15c0c7780ac",
        "IPY_MODEL_587be5fa81044633830884c50485e6a7",
        "IPY_MODEL_0611bc9765f24b93bd37209156a54ca5"
       ],
       "layout": "IPY_MODEL_d2df3e34715d459eaf6e0d180f4e8b12"
      }
     },
     "6469e4b416674ec487af0a52bc2ef846": {
      "model_module": "@jupyter-widgets/controls",
      "model_module_version": "1.5.0",
      "model_name": "VBoxModel",
      "state": {
       "children": [
        "IPY_MODEL_ee2ac4efd048415f9993ff92b4d49301",
        "IPY_MODEL_8145916934d64250be1691fcb7a1ab41",
        "IPY_MODEL_a320bbaa2d6c476a8881eb834312db32"
       ],
       "layout": "IPY_MODEL_6ce3f71e4d164714a4db61838158d9f7"
      }
     },
     "646c04251904447e865bbbc0d85ff4ec": {
      "model_module": "@jupyter-widgets/base",
      "model_module_version": "1.2.0",
      "model_name": "LayoutModel",
      "state": {}
     },
     "647bf7f58f104170a3ab38af496716df": {
      "model_module": "@jupyter-widgets/output",
      "model_module_version": "1.0.0",
      "model_name": "OutputModel",
      "state": {
       "layout": "IPY_MODEL_1c41d59baa1b4febbec5b5fd5d9f0af4"
      }
     },
     "647dad33ff3941e5b525eebd3aab790e": {
      "model_module": "@jupyter-widgets/base",
      "model_module_version": "1.2.0",
      "model_name": "LayoutModel",
      "state": {}
     },
     "6484af1982d44a3bafe46302816251d6": {
      "model_module": "@jupyter-widgets/controls",
      "model_module_version": "1.5.0",
      "model_name": "SliderStyleModel",
      "state": {
       "description_width": "initial"
      }
     },
     "648c4e0e57d24f2398836d0c77be28af": {
      "model_module": "@jupyter-widgets/output",
      "model_module_version": "1.0.0",
      "model_name": "OutputModel",
      "state": {
       "layout": "IPY_MODEL_d89d99223fb141939f87e355198aa7e4",
       "outputs": [
        {
         "data": {
          "application/vnd.jupyter.widget-view+json": {
           "model_id": "435eebaa835f4d49a1fd39ab67e2c223",
           "version_major": 2,
           "version_minor": 0
          },
          "text/plain": "Canvas(toolbar=Toolbar(toolitems=[('Home', 'Reset original view', 'home', 'home'), ('Back', 'Back to previous …"
         },
         "metadata": {},
         "output_type": "display_data"
        }
       ]
      }
     },
     "64b4d3485b5d460382986f442fe0974c": {
      "model_module": "@jupyter-widgets/output",
      "model_module_version": "1.0.0",
      "model_name": "OutputModel",
      "state": {
       "layout": "IPY_MODEL_7ba08014608f4b29b6d938331d1167a0"
      }
     },
     "64d7de43de80403484236737cfca8c78": {
      "model_module": "@jupyter-widgets/controls",
      "model_module_version": "1.5.0",
      "model_name": "SliderStyleModel",
      "state": {
       "description_width": "initial"
      }
     },
     "64db8b46752f428183d6fafc5bf71f42": {
      "model_module": "@jupyter-widgets/controls",
      "model_module_version": "1.5.0",
      "model_name": "VBoxModel",
      "state": {
       "_dom_classes": [
        "widget-interact"
       ],
       "children": [
        "IPY_MODEL_c2f2a518eca94d3b80755955a8b45ecf",
        "IPY_MODEL_c75b89404fd54058935426dbb5974e21",
        "IPY_MODEL_c6e4c0c551e941909542a1cdb75b2e0a",
        "IPY_MODEL_44c22aa6012a4e36b0bfa8af0a86a686"
       ],
       "layout": "IPY_MODEL_a6e00e6a9f1d4a69843e032498560dfc"
      }
     },
     "64e0ec25287549eb97982dc6321f505b": {
      "model_module": "@jupyter-widgets/controls",
      "model_module_version": "1.5.0",
      "model_name": "HBoxModel",
      "state": {
       "children": [
        "IPY_MODEL_eb62a05c6339461f8c4782639d2266a6",
        "IPY_MODEL_c543509cb1c247f0816c2b14bedccfd1"
       ],
       "layout": "IPY_MODEL_6aa25564ba2c4ece988abfba5d9c93cc"
      }
     },
     "64fad225db2d4eba90d655c6f7e84c24": {
      "model_module": "@jupyter-widgets/base",
      "model_module_version": "1.2.0",
      "model_name": "LayoutModel",
      "state": {}
     },
     "651f8843a8b44c3fabe114bb8fb51c03": {
      "model_module": "@jupyter-widgets/output",
      "model_module_version": "1.0.0",
      "model_name": "OutputModel",
      "state": {
       "layout": "IPY_MODEL_fbfa3358b18540a4a1b36fafb9fc0b4e",
       "outputs": [
        {
         "ename": "TypeError",
         "evalue": "'Text' object is not callable",
         "output_type": "error",
         "traceback": [
          "\u001b[1;31m---------------------------------------------------------------------------\u001b[0m",
          "\u001b[1;31mTypeError\u001b[0m                                 Traceback (most recent call last)",
          "\u001b[1;32mE:\\Software\\Anaconda3\\lib\\site-packages\\ipywidgets\\widgets\\interaction.py\u001b[0m in \u001b[0;36mupdate\u001b[1;34m(self, *args)\u001b[0m\n\u001b[0;32m    254\u001b[0m                     \u001b[0mvalue\u001b[0m \u001b[1;33m=\u001b[0m \u001b[0mwidget\u001b[0m\u001b[1;33m.\u001b[0m\u001b[0mget_interact_value\u001b[0m\u001b[1;33m(\u001b[0m\u001b[1;33m)\u001b[0m\u001b[1;33m\u001b[0m\u001b[1;33m\u001b[0m\u001b[0m\n\u001b[0;32m    255\u001b[0m                     \u001b[0mself\u001b[0m\u001b[1;33m.\u001b[0m\u001b[0mkwargs\u001b[0m\u001b[1;33m[\u001b[0m\u001b[0mwidget\u001b[0m\u001b[1;33m.\u001b[0m\u001b[0m_kwarg\u001b[0m\u001b[1;33m]\u001b[0m \u001b[1;33m=\u001b[0m \u001b[0mvalue\u001b[0m\u001b[1;33m\u001b[0m\u001b[1;33m\u001b[0m\u001b[0m\n\u001b[1;32m--> 256\u001b[1;33m                 \u001b[0mself\u001b[0m\u001b[1;33m.\u001b[0m\u001b[0mresult\u001b[0m \u001b[1;33m=\u001b[0m \u001b[0mself\u001b[0m\u001b[1;33m.\u001b[0m\u001b[0mf\u001b[0m\u001b[1;33m(\u001b[0m\u001b[1;33m**\u001b[0m\u001b[0mself\u001b[0m\u001b[1;33m.\u001b[0m\u001b[0mkwargs\u001b[0m\u001b[1;33m)\u001b[0m\u001b[1;33m\u001b[0m\u001b[1;33m\u001b[0m\u001b[0m\n\u001b[0m\u001b[0;32m    257\u001b[0m                 \u001b[0mshow_inline_matplotlib_plots\u001b[0m\u001b[1;33m(\u001b[0m\u001b[1;33m)\u001b[0m\u001b[1;33m\u001b[0m\u001b[1;33m\u001b[0m\u001b[0m\n\u001b[0;32m    258\u001b[0m                 \u001b[1;32mif\u001b[0m \u001b[0mself\u001b[0m\u001b[1;33m.\u001b[0m\u001b[0mauto_display\u001b[0m \u001b[1;32mand\u001b[0m \u001b[0mself\u001b[0m\u001b[1;33m.\u001b[0m\u001b[0mresult\u001b[0m \u001b[1;32mis\u001b[0m \u001b[1;32mnot\u001b[0m \u001b[1;32mNone\u001b[0m\u001b[1;33m:\u001b[0m\u001b[1;33m\u001b[0m\u001b[1;33m\u001b[0m\u001b[0m\n",
          "\u001b[1;32m<ipython-input-6-a11548d22746>\u001b[0m in \u001b[0;36mdisplayDFT\u001b[1;34m(numberOfPeriods, samplesPerPeriod, zeroPadding)\u001b[0m\n\u001b[0;32m     60\u001b[0m     \u001b[0max1\u001b[0m\u001b[1;33m.\u001b[0m\u001b[0mclear\u001b[0m\u001b[1;33m(\u001b[0m\u001b[1;33m)\u001b[0m\u001b[1;33m\u001b[0m\u001b[1;33m\u001b[0m\u001b[0m\n\u001b[0;32m     61\u001b[0m     \u001b[0max1\u001b[0m\u001b[1;33m.\u001b[0m\u001b[0mplot\u001b[0m\u001b[1;33m(\u001b[0m\u001b[0mt\u001b[0m\u001b[1;33m,\u001b[0m \u001b[0msignal\u001b[0m\u001b[1;33m)\u001b[0m\u001b[1;33m\u001b[0m\u001b[1;33m\u001b[0m\u001b[0m\n\u001b[1;32m---> 62\u001b[1;33m     \u001b[0max1\u001b[0m\u001b[1;33m.\u001b[0m\u001b[0mtitle\u001b[0m\u001b[1;33m(\u001b[0m\u001b[1;34m'Signal'\u001b[0m\u001b[1;33m)\u001b[0m\u001b[1;33m\u001b[0m\u001b[1;33m\u001b[0m\u001b[0m\n\u001b[0m\u001b[0;32m     63\u001b[0m     \u001b[0max1\u001b[0m\u001b[1;33m.\u001b[0m\u001b[0mxlabel\u001b[0m\u001b[1;33m(\u001b[0m\u001b[1;34m't (s)'\u001b[0m\u001b[1;33m)\u001b[0m\u001b[1;33m\u001b[0m\u001b[1;33m\u001b[0m\u001b[0m\n\u001b[0;32m     64\u001b[0m \u001b[1;33m\u001b[0m\u001b[0m\n",
          "\u001b[1;31mTypeError\u001b[0m: 'Text' object is not callable"
         ]
        }
       ]
      }
     },
     "652203fd0cf747199070a50aa57d8749": {
      "model_module": "@jupyter-widgets/base",
      "model_module_version": "1.2.0",
      "model_name": "LayoutModel",
      "state": {}
     },
     "652712c450934ee39924cdebfe9e3aa7": {
      "model_module": "@jupyter-widgets/base",
      "model_module_version": "1.2.0",
      "model_name": "LayoutModel",
      "state": {}
     },
     "6527973d918a4a84ae09ff5ff3a5ba59": {
      "model_module": "@jupyter-widgets/base",
      "model_module_version": "1.2.0",
      "model_name": "LayoutModel",
      "state": {}
     },
     "65330032f6584bf7b2ae732d65be7561": {
      "model_module": "@jupyter-widgets/output",
      "model_module_version": "1.0.0",
      "model_name": "OutputModel",
      "state": {
       "layout": "IPY_MODEL_9baa92e322184c2e834e923b33b52059",
       "outputs": [
        {
         "data": {
          "application/vnd.jupyter.widget-view+json": {
           "model_id": "e292c39aa4744df791c0bd09f1ed660b",
           "version_major": 2,
           "version_minor": 0
          },
          "text/plain": "Canvas(toolbar=Toolbar(toolitems=[('Home', 'Reset original view', 'home', 'home'), ('Back', 'Back to previous …"
         },
         "metadata": {},
         "output_type": "display_data"
        }
       ]
      }
     },
     "6581d0cb0c59441c83066fe952360a5d": {
      "model_module": "@jupyter-widgets/controls",
      "model_module_version": "1.5.0",
      "model_name": "IntSliderModel",
      "state": {
       "description": "Sampling (Hz)",
       "layout": "IPY_MODEL_7016b0d66d5949bb8e3a3d3c1f0ec158",
       "max": 12,
       "min": 2,
       "step": 2,
       "style": "IPY_MODEL_980cbab0f00b48c5868018702946b7df",
       "value": 4
      }
     },
     "658ca44bce3b477586afdd4913d3828c": {
      "model_module": "@jupyter-widgets/controls",
      "model_module_version": "1.5.0",
      "model_name": "SliderStyleModel",
      "state": {
       "description_width": "initial"
      }
     },
     "6598d373ce274821b4b26bad1f609b27": {
      "model_module": "@jupyter-widgets/controls",
      "model_module_version": "1.5.0",
      "model_name": "VBoxModel",
      "state": {
       "_dom_classes": [
        "widget-interact"
       ],
       "children": [
        "IPY_MODEL_8dde1392c6904afdab777b687def0b8f",
        "IPY_MODEL_532decbad53049c5820f5fa433096505",
        "IPY_MODEL_b8577981125845f2a8537e3d519e835f",
        "IPY_MODEL_25bc620f47d9426b87fecab0c72a4972"
       ],
       "layout": "IPY_MODEL_764379446bf14d6584c35d51a9487693"
      }
     },
     "659c632ab2a9460e970bfe1f8a27f7b1": {
      "model_module": "@jupyter-widgets/base",
      "model_module_version": "1.2.0",
      "model_name": "LayoutModel",
      "state": {}
     },
     "65f69563b78b4d0daabea95c3fdd561e": {
      "model_module": "jupyter-matplotlib",
      "model_module_version": "^0.7.4",
      "model_name": "ToolbarModel",
      "state": {
       "layout": "IPY_MODEL_e70f25b3203a413691b55c9616a0a60f",
       "toolitems": [
        [
         "Home",
         "Reset original view",
         "home",
         "home"
        ],
        [
         "Back",
         "Back to previous view",
         "arrow-left",
         "back"
        ],
        [
         "Forward",
         "Forward to next view",
         "arrow-right",
         "forward"
        ],
        [
         "Pan",
         "Left button pans, Right button zooms\nx/y fixes axis, CTRL fixes aspect",
         "arrows",
         "pan"
        ],
        [
         "Zoom",
         "Zoom to rectangle\nx/y fixes axis, CTRL fixes aspect",
         "square-o",
         "zoom"
        ],
        [
         "Download",
         "Download plot",
         "floppy-o",
         "save_figure"
        ]
       ]
      }
     },
     "661ceb59c3264ce1b4bba3273fb22db1": {
      "model_module": "@jupyter-widgets/base",
      "model_module_version": "1.2.0",
      "model_name": "LayoutModel",
      "state": {}
     },
     "663981a5da86493392a485dddf9b45ed": {
      "model_module": "@jupyter-widgets/controls",
      "model_module_version": "1.5.0",
      "model_name": "IntSliderModel",
      "state": {
       "continuous_update": false,
       "description": "Periods",
       "layout": "IPY_MODEL_aaf01e9df2104e8b82a4e6d974835019",
       "max": 50,
       "min": 1,
       "style": "IPY_MODEL_0474afdd62854168b168a24b6151408c",
       "value": 2
      }
     },
     "669d9609946b4e7c8b7ce64e75e8640b": {
      "model_module": "@jupyter-widgets/controls",
      "model_module_version": "1.5.0",
      "model_name": "IntSliderModel",
      "state": {
       "continuous_update": false,
       "description": "Periods",
       "layout": "IPY_MODEL_7a283c51d3044dda9333bb68d987fa37",
       "max": 50,
       "min": 1,
       "style": "IPY_MODEL_f1abcb3a747d45da99ec1b73340e5b8b",
       "value": 2
      }
     },
     "66a9dddf856840529411036b5efc0a79": {
      "model_module": "@jupyter-widgets/controls",
      "model_module_version": "1.5.0",
      "model_name": "VBoxModel",
      "state": {
       "_dom_classes": [
        "widget-interact"
       ],
       "children": [
        "IPY_MODEL_b52a7ffb32a04ee9bb7bb7dc5bf34b2f",
        "IPY_MODEL_39cd6eaa2efa4b4d865af8d340d3ad80",
        "IPY_MODEL_f5d3b5c3458e42d785db04e4fbea28a8",
        "IPY_MODEL_4ab4bc3245ca44abb872f74ee61a5adb"
       ],
       "layout": "IPY_MODEL_c7d0dcbe9b7146a4804dbd338f49ae03"
      }
     },
     "66b52ad5db6c4b7e8c81d363a9ea953f": {
      "model_module": "@jupyter-widgets/base",
      "model_module_version": "1.2.0",
      "model_name": "LayoutModel",
      "state": {}
     },
     "66b8673803fb4d7fa468787195948581": {
      "model_module": "@jupyter-widgets/controls",
      "model_module_version": "1.5.0",
      "model_name": "SliderStyleModel",
      "state": {
       "description_width": "initial"
      }
     },
     "66ebd9a8ae9646c7acfed2ecbd55f7fc": {
      "model_module": "@jupyter-widgets/controls",
      "model_module_version": "1.5.0",
      "model_name": "IntSliderModel",
      "state": {
       "continuous_update": false,
       "description": "0-Padding",
       "layout": "IPY_MODEL_e31198bfff8640c8927f17399df127c1",
       "max": 500,
       "style": "IPY_MODEL_6d416c1966164f6db09691f7e9c7e496"
      }
     },
     "6703a33218334e50b2790253a2d897aa": {
      "model_module": "@jupyter-widgets/controls",
      "model_module_version": "1.5.0",
      "model_name": "IntSliderModel",
      "state": {
       "continuous_update": false,
       "description": "Sampling (Hz)",
       "layout": "IPY_MODEL_19ba5ad64b424da2815d37a101e288e8",
       "max": 20,
       "min": 2,
       "step": 2,
       "style": "IPY_MODEL_c745f4f19bb4480ab88b7276726d8567",
       "value": 4
      }
     },
     "67068997545e4e95909e47c20d081a09": {
      "model_module": "jupyter-matplotlib",
      "model_module_version": "^0.7.4",
      "model_name": "ToolbarModel",
      "state": {
       "layout": "IPY_MODEL_cf77863cfc17414898ee64e99b4bcc23",
       "toolitems": [
        [
         "Home",
         "Reset original view",
         "home",
         "home"
        ],
        [
         "Back",
         "Back to previous view",
         "arrow-left",
         "back"
        ],
        [
         "Forward",
         "Forward to next view",
         "arrow-right",
         "forward"
        ],
        [
         "Pan",
         "Left button pans, Right button zooms\nx/y fixes axis, CTRL fixes aspect",
         "arrows",
         "pan"
        ],
        [
         "Zoom",
         "Zoom to rectangle\nx/y fixes axis, CTRL fixes aspect",
         "square-o",
         "zoom"
        ],
        [
         "Download",
         "Download plot",
         "floppy-o",
         "save_figure"
        ]
       ]
      }
     },
     "67069dff7d444e9cb16d5057d3685870": {
      "model_module": "@jupyter-widgets/base",
      "model_module_version": "1.2.0",
      "model_name": "LayoutModel",
      "state": {}
     },
     "67658a573bb645cf9c2a7d2f2711a0db": {
      "model_module": "jupyter-matplotlib",
      "model_module_version": "^0.7.4",
      "model_name": "ToolbarModel",
      "state": {
       "layout": "IPY_MODEL_ddf4e64de9674797a98ccb610d2357dc",
       "toolitems": [
        [
         "Home",
         "Reset original view",
         "home",
         "home"
        ],
        [
         "Back",
         "Back to previous view",
         "arrow-left",
         "back"
        ],
        [
         "Forward",
         "Forward to next view",
         "arrow-right",
         "forward"
        ],
        [
         "Pan",
         "Left button pans, Right button zooms\nx/y fixes axis, CTRL fixes aspect",
         "arrows",
         "pan"
        ],
        [
         "Zoom",
         "Zoom to rectangle\nx/y fixes axis, CTRL fixes aspect",
         "square-o",
         "zoom"
        ],
        [
         "Download",
         "Download plot",
         "floppy-o",
         "save_figure"
        ]
       ]
      }
     },
     "6774b8c5348c433e87806f718514274b": {
      "model_module": "@jupyter-widgets/base",
      "model_module_version": "1.2.0",
      "model_name": "LayoutModel",
      "state": {}
     },
     "678ad300f9664597b4c2001a430adc5c": {
      "model_module": "@jupyter-widgets/controls",
      "model_module_version": "1.5.0",
      "model_name": "IntSliderModel",
      "state": {
       "continuous_update": false,
       "description": "Sampling (Hz)",
       "layout": "IPY_MODEL_029ea9e26e214b7d88d27aa48af25a33",
       "max": 20,
       "min": 2,
       "step": 2,
       "style": "IPY_MODEL_ed85db57e55841dc92184e8dd57cebcb",
       "value": 4
      }
     },
     "67ac818a6ca643afb347bb112ce6765d": {
      "model_module": "@jupyter-widgets/controls",
      "model_module_version": "1.5.0",
      "model_name": "IntSliderModel",
      "state": {
       "continuous_update": false,
       "description": "0-Padding",
       "layout": "IPY_MODEL_6a4da25d473f430fb3f1b7f1348d902f",
       "max": 500,
       "style": "IPY_MODEL_5b190f51dc084898a9333da23936be65"
      }
     },
     "67c0328e74674600a8dc44e10d1911a2": {
      "model_module": "@jupyter-widgets/controls",
      "model_module_version": "1.5.0",
      "model_name": "SliderStyleModel",
      "state": {
       "description_width": "initial"
      }
     },
     "6818d0463cc6456b975b195a33e7a7e3": {
      "model_module": "@jupyter-widgets/controls",
      "model_module_version": "1.5.0",
      "model_name": "VBoxModel",
      "state": {
       "_dom_classes": [
        "widget-interact"
       ],
       "children": [
        "IPY_MODEL_067a414e37c744f5a33139789f037add",
        "IPY_MODEL_c4a3bf064c5849799af70e2d29054b8a",
        "IPY_MODEL_16d3039c2d544df29b567ddaef909477",
        "IPY_MODEL_48c6f0c174b64722894b45ee96ef0a5e"
       ],
       "layout": "IPY_MODEL_f686b4bd468643ed960d1a8ff0bd35a6"
      }
     },
     "686939bf1d97464f82b622140efab03d": {
      "model_module": "@jupyter-widgets/base",
      "model_module_version": "1.2.0",
      "model_name": "LayoutModel",
      "state": {}
     },
     "6889b8853c75463b825d8ad7e05503ab": {
      "model_module": "@jupyter-widgets/base",
      "model_module_version": "1.2.0",
      "model_name": "LayoutModel",
      "state": {}
     },
     "68a933ca798346fd88fc1c2c5a8c7953": {
      "model_module": "@jupyter-widgets/base",
      "model_module_version": "1.2.0",
      "model_name": "LayoutModel",
      "state": {}
     },
     "68be044c14ec40b1872640b6431a4ca9": {
      "model_module": "@jupyter-widgets/controls",
      "model_module_version": "1.5.0",
      "model_name": "HBoxModel",
      "state": {
       "children": [
        "IPY_MODEL_edd9c89d56984f66a8fb88ed6a414a99",
        "IPY_MODEL_cf02d500f8d94766bba29717c6169a4b"
       ],
       "layout": "IPY_MODEL_e99b6e97e2924523ade9499c798dbca2"
      }
     },
     "68d085184b004e8e91809f56c5426d37": {
      "model_module": "@jupyter-widgets/base",
      "model_module_version": "1.2.0",
      "model_name": "LayoutModel",
      "state": {}
     },
     "68eda577533d4366b48295c62c51d02d": {
      "model_module": "@jupyter-widgets/base",
      "model_module_version": "1.2.0",
      "model_name": "LayoutModel",
      "state": {}
     },
     "6915dc1aef3c49b3a569d25f697c385b": {
      "model_module": "@jupyter-widgets/controls",
      "model_module_version": "1.5.0",
      "model_name": "IntSliderModel",
      "state": {
       "continuous_update": false,
       "description": "Sampling (Hz)",
       "layout": "IPY_MODEL_0ac8584528d746abbe8db3a63f86000b",
       "max": 20,
       "min": 2,
       "step": 2,
       "style": "IPY_MODEL_fc8728025c8442da9dd657dd485547ac",
       "value": 14
      }
     },
     "696461b63dbc48269d89739034b21a7a": {
      "model_module": "@jupyter-widgets/controls",
      "model_module_version": "1.5.0",
      "model_name": "VBoxModel",
      "state": {
       "_dom_classes": [
        "widget-interact"
       ],
       "children": [
        "IPY_MODEL_f4316b9c6cfe4719bd2faa0004edc3ee",
        "IPY_MODEL_177eaaaac6624940b316eb09c3ca6582",
        "IPY_MODEL_96599e38944c420883a99e4c01747bf1",
        "IPY_MODEL_dc68bdb069f742df9865a0ff1d540a48"
       ],
       "layout": "IPY_MODEL_ae973b1c5c1f437cac1460eb53c66cdf"
      }
     },
     "698d9b3a9660475d9f811637ab616e60": {
      "model_module": "@jupyter-widgets/output",
      "model_module_version": "1.0.0",
      "model_name": "OutputModel",
      "state": {
       "layout": "IPY_MODEL_590db322df6f499d915ca8c601a12e07"
      }
     },
     "699e0941a522474bae296aae0bf42d20": {
      "model_module": "@jupyter-widgets/base",
      "model_module_version": "1.2.0",
      "model_name": "LayoutModel",
      "state": {}
     },
     "69a4636621ec406b9169b2d99a2cdec5": {
      "model_module": "@jupyter-widgets/controls",
      "model_module_version": "1.5.0",
      "model_name": "IntSliderModel",
      "state": {
       "continuous_update": false,
       "description": "Sampling (Hz)",
       "layout": "IPY_MODEL_c47335e36be64a83b73c8e8354ba4eba",
       "max": 20,
       "min": 2,
       "step": 2,
       "style": "IPY_MODEL_585329137fc043abb6c3ed0013b40ecf",
       "value": 4
      }
     },
     "69a9a5c29b794e07a0af85431ef816e3": {
      "model_module": "@jupyter-widgets/base",
      "model_module_version": "1.2.0",
      "model_name": "LayoutModel",
      "state": {}
     },
     "69d4572771c04630b0cf3492c2c7c494": {
      "model_module": "@jupyter-widgets/controls",
      "model_module_version": "1.5.0",
      "model_name": "IntSliderModel",
      "state": {
       "continuous_update": false,
       "description": "Sampling (Hz)",
       "layout": "IPY_MODEL_8cff08316cd143bca6f4336f7f554f23",
       "max": 12,
       "min": 2,
       "step": 2,
       "style": "IPY_MODEL_f5bf914608f84cb5aee9df4ad673d6ab",
       "value": 6
      }
     },
     "69d8b88c58e241669c06ed23a0c1bc6d": {
      "model_module": "@jupyter-widgets/controls",
      "model_module_version": "1.5.0",
      "model_name": "IntSliderModel",
      "state": {
       "description": "Periods",
       "layout": "IPY_MODEL_a90854e5df15483f8800f59af4a5c151",
       "max": 50,
       "min": 1,
       "style": "IPY_MODEL_af780d1a922c46f4bbc3fa288f229c11",
       "value": 21
      }
     },
     "69e617fb7d3941fa8f8722fcd360e02e": {
      "model_module": "@jupyter-widgets/base",
      "model_module_version": "1.2.0",
      "model_name": "LayoutModel",
      "state": {}
     },
     "6a0aba65dabe4a3abb97e2696be8cf9a": {
      "model_module": "@jupyter-widgets/output",
      "model_module_version": "1.0.0",
      "model_name": "OutputModel",
      "state": {
       "layout": "IPY_MODEL_eb57c5e6e6bf46bd9c0a2d6a515abb88"
      }
     },
     "6a2d62a9bf22464b86788d79bdddf385": {
      "model_module": "@jupyter-widgets/base",
      "model_module_version": "1.2.0",
      "model_name": "LayoutModel",
      "state": {}
     },
     "6a49ae1c72984f8195af65b861522ff3": {
      "model_module": "@jupyter-widgets/controls",
      "model_module_version": "1.5.0",
      "model_name": "VBoxModel",
      "state": {
       "_dom_classes": [
        "widget-interact"
       ],
       "children": [
        "IPY_MODEL_40a0929313c84e818300b6e85ea37f4b",
        "IPY_MODEL_ebce83a856c7495e86d0d8963d5dd089",
        "IPY_MODEL_024fe6633c3c43f7871a959f358fe4ba",
        "IPY_MODEL_78741ed4e1034411bac67d1560655118"
       ],
       "layout": "IPY_MODEL_e5ff00d78c8a47a59d66d314ad1e63b9"
      }
     },
     "6a4da25d473f430fb3f1b7f1348d902f": {
      "model_module": "@jupyter-widgets/base",
      "model_module_version": "1.2.0",
      "model_name": "LayoutModel",
      "state": {}
     },
     "6a82a3b6a227437d9cc8b71c67dea540": {
      "model_module": "@jupyter-widgets/controls",
      "model_module_version": "1.5.0",
      "model_name": "VBoxModel",
      "state": {
       "children": [
        "IPY_MODEL_80b4983181cb41329d8b65c8a8f33773",
        "IPY_MODEL_69d4572771c04630b0cf3492c2c7c494",
        "IPY_MODEL_272c69328148407da22e2f6ebf9f06ba"
       ],
       "layout": "IPY_MODEL_e1cbead82cef4d99bb6caa9059bb19c5"
      }
     },
     "6a9051bd2a9a4d6eb6e1f1fa8898268f": {
      "model_module": "@jupyter-widgets/base",
      "model_module_version": "1.2.0",
      "model_name": "LayoutModel",
      "state": {}
     },
     "6a9f636e7a8a456e844d8edc16a56ad9": {
      "model_module": "@jupyter-widgets/controls",
      "model_module_version": "1.5.0",
      "model_name": "SliderStyleModel",
      "state": {
       "description_width": "initial"
      }
     },
     "6aa25564ba2c4ece988abfba5d9c93cc": {
      "model_module": "@jupyter-widgets/base",
      "model_module_version": "1.2.0",
      "model_name": "LayoutModel",
      "state": {}
     },
     "6aaca62500bf4f84b886064dde878c0e": {
      "model_module": "@jupyter-widgets/base",
      "model_module_version": "1.2.0",
      "model_name": "LayoutModel",
      "state": {}
     },
     "6ab6342d0ec14c26ad87fd6f0909e647": {
      "model_module": "@jupyter-widgets/controls",
      "model_module_version": "1.5.0",
      "model_name": "HBoxModel",
      "state": {
       "children": [
        "IPY_MODEL_8d23c694149145dbae923fb39db31fd9",
        "IPY_MODEL_485e25cb01894a07bba9af62504d1211"
       ],
       "layout": "IPY_MODEL_afca683bc44e455c902fd594baebe2a4"
      }
     },
     "6abad83c5ab440c38bece8825620586f": {
      "model_module": "@jupyter-widgets/controls",
      "model_module_version": "1.5.0",
      "model_name": "IntSliderModel",
      "state": {
       "continuous_update": false,
       "description": "Sampling (Hz)",
       "layout": "IPY_MODEL_990075d3b925475ab829308eecf3337c",
       "max": 12,
       "min": 2,
       "step": 2,
       "style": "IPY_MODEL_0a31a090cc3a415e92a52c85bb930687",
       "value": 4
      }
     },
     "6abe46e47b4b4a70bb8d40039ecd7fa8": {
      "model_module": "@jupyter-widgets/base",
      "model_module_version": "1.2.0",
      "model_name": "LayoutModel",
      "state": {}
     },
     "6b618a31ca8a423e96df8164ac96be38": {
      "model_module": "@jupyter-widgets/controls",
      "model_module_version": "1.5.0",
      "model_name": "SliderStyleModel",
      "state": {
       "description_width": "initial"
      }
     },
     "6b687857c2f2408fb3847ee93bd53c33": {
      "model_module": "jupyter-matplotlib",
      "model_module_version": "^0.7.4",
      "model_name": "ToolbarModel",
      "state": {
       "layout": "IPY_MODEL_d7cbb76d9d2a4c579ed7f626dbf3b64d",
       "toolitems": [
        [
         "Home",
         "Reset original view",
         "home",
         "home"
        ],
        [
         "Back",
         "Back to previous view",
         "arrow-left",
         "back"
        ],
        [
         "Forward",
         "Forward to next view",
         "arrow-right",
         "forward"
        ],
        [
         "Pan",
         "Left button pans, Right button zooms\nx/y fixes axis, CTRL fixes aspect",
         "arrows",
         "pan"
        ],
        [
         "Zoom",
         "Zoom to rectangle\nx/y fixes axis, CTRL fixes aspect",
         "square-o",
         "zoom"
        ],
        [
         "Download",
         "Download plot",
         "floppy-o",
         "save_figure"
        ]
       ]
      }
     },
     "6b704d99643d4672b4cccdc9f1e6d1a7": {
      "model_module": "jupyter-matplotlib",
      "model_module_version": "^0.7.4",
      "model_name": "ToolbarModel",
      "state": {
       "layout": "IPY_MODEL_04459924839547238bd072edbc584af2",
       "toolitems": [
        [
         "Home",
         "Reset original view",
         "home",
         "home"
        ],
        [
         "Back",
         "Back to previous view",
         "arrow-left",
         "back"
        ],
        [
         "Forward",
         "Forward to next view",
         "arrow-right",
         "forward"
        ],
        [
         "Pan",
         "Left button pans, Right button zooms\nx/y fixes axis, CTRL fixes aspect",
         "arrows",
         "pan"
        ],
        [
         "Zoom",
         "Zoom to rectangle\nx/y fixes axis, CTRL fixes aspect",
         "square-o",
         "zoom"
        ],
        [
         "Download",
         "Download plot",
         "floppy-o",
         "save_figure"
        ]
       ]
      }
     },
     "6b7684e4a4a347e38b405a1395c0b028": {
      "model_module": "@jupyter-widgets/controls",
      "model_module_version": "1.5.0",
      "model_name": "IntSliderModel",
      "state": {
       "continuous_update": false,
       "description": "Periods",
       "layout": "IPY_MODEL_0763fb7c3f2c4545859a7008dc042bf3",
       "max": 50,
       "min": 1,
       "style": "IPY_MODEL_b088e4cd0c574e85b2b0d9c49168dfaa",
       "value": 2
      }
     },
     "6b9154d521a9455f8541263e24663f31": {
      "model_module": "@jupyter-widgets/base",
      "model_module_version": "1.2.0",
      "model_name": "LayoutModel",
      "state": {}
     },
     "6b971cec55f94c2ba68bddfaafe72017": {
      "model_module": "@jupyter-widgets/base",
      "model_module_version": "1.2.0",
      "model_name": "LayoutModel",
      "state": {}
     },
     "6ba72afe0d874216bbfda0159271f7cc": {
      "model_module": "@jupyter-widgets/base",
      "model_module_version": "1.2.0",
      "model_name": "LayoutModel",
      "state": {}
     },
     "6bb3cdf2d8b44a5898d322603433ba19": {
      "model_module": "@jupyter-widgets/controls",
      "model_module_version": "1.5.0",
      "model_name": "VBoxModel",
      "state": {
       "_dom_classes": [
        "widget-interact"
       ],
       "children": [
        "IPY_MODEL_c4eb9b9f29c140c481f6c38ec80e866a",
        "IPY_MODEL_c413a77d50a145f0b7c4e69ae99f2cae",
        "IPY_MODEL_61998202904f457dbcb585a4b0696a78",
        "IPY_MODEL_807618117fc34623bb76082f3c77e7cc"
       ],
       "layout": "IPY_MODEL_c338a8bcca464d82bc2cdb1fd8d06a27"
      }
     },
     "6bb54660e6d248a3bb346ca56410cee0": {
      "model_module": "@jupyter-widgets/base",
      "model_module_version": "1.2.0",
      "model_name": "LayoutModel",
      "state": {}
     },
     "6bc0db044f854b539a79934301df66da": {
      "model_module": "@jupyter-widgets/controls",
      "model_module_version": "1.5.0",
      "model_name": "HBoxModel",
      "state": {
       "children": [
        "IPY_MODEL_a5a2f9768cf74fab900de225974d9a7d",
        "IPY_MODEL_2115a1d208c54ee6a53bf6e2d62653b8"
       ],
       "layout": "IPY_MODEL_fe086d734c70428696adc210326a6422"
      }
     },
     "6bcbd95e1bfd4f74b3d8c261f66c30d6": {
      "model_module": "@jupyter-widgets/base",
      "model_module_version": "1.2.0",
      "model_name": "LayoutModel",
      "state": {}
     },
     "6be6e8d0d2e34910995a249f20cb3fb7": {
      "model_module": "@jupyter-widgets/base",
      "model_module_version": "1.2.0",
      "model_name": "LayoutModel",
      "state": {}
     },
     "6c1152b70b244b13a537bbc5140a469a": {
      "model_module": "@jupyter-widgets/output",
      "model_module_version": "1.0.0",
      "model_name": "OutputModel",
      "state": {
       "layout": "IPY_MODEL_999b8134777744d6a48396ad32f3363f",
       "outputs": [
        {
         "data": {
          "application/vnd.jupyter.widget-view+json": {
           "model_id": "a26859eb22c2479a9b480585e46ea841",
           "version_major": 2,
           "version_minor": 0
          },
          "text/plain": "Canvas(toolbar=Toolbar(toolitems=[('Home', 'Reset original view', 'home', 'home'), ('Back', 'Back to previous …"
         },
         "metadata": {},
         "output_type": "display_data"
        }
       ]
      }
     },
     "6c210fb1fe7e4b5d9e3aa68f26700d31": {
      "model_module": "@jupyter-widgets/controls",
      "model_module_version": "1.5.0",
      "model_name": "IntSliderModel",
      "state": {
       "continuous_update": false,
       "description": "Sampling (Hz)",
       "layout": "IPY_MODEL_1fe4087d14664980ace402efdaf53fae",
       "max": 12,
       "min": 2,
       "step": 2,
       "style": "IPY_MODEL_a6966d0e26bc489d878667002fed4f4d",
       "value": 8
      }
     },
     "6c213c15b6544108801f2578cec8b8b2": {
      "model_module": "@jupyter-widgets/base",
      "model_module_version": "1.2.0",
      "model_name": "LayoutModel",
      "state": {}
     },
     "6c3818305986465e9a6060331bf676df": {
      "model_module": "@jupyter-widgets/base",
      "model_module_version": "1.2.0",
      "model_name": "LayoutModel",
      "state": {}
     },
     "6c42a8938db04ddebc4df40753eb60f5": {
      "model_module": "@jupyter-widgets/controls",
      "model_module_version": "1.5.0",
      "model_name": "VBoxModel",
      "state": {
       "_dom_classes": [
        "widget-interact"
       ],
       "children": [
        "IPY_MODEL_33d289f68659445f90656f4c121e205d",
        "IPY_MODEL_f22113eaab64485aa60c8bba2463e60d",
        "IPY_MODEL_5639042b6a50456287a0429d399d8be0",
        "IPY_MODEL_f170e6b32d0541ebb6894490ca222caa"
       ],
       "layout": "IPY_MODEL_74e2a03dff1449369b06cc4b6bb3326a"
      }
     },
     "6c4bb4179942401b876321903e7332eb": {
      "model_module": "@jupyter-widgets/base",
      "model_module_version": "1.2.0",
      "model_name": "LayoutModel",
      "state": {}
     },
     "6c587e9d9f0245838c971d24c111d253": {
      "model_module": "@jupyter-widgets/base",
      "model_module_version": "1.2.0",
      "model_name": "LayoutModel",
      "state": {}
     },
     "6c812165a1c94e38acc5be0251bd0f94": {
      "model_module": "@jupyter-widgets/base",
      "model_module_version": "1.2.0",
      "model_name": "LayoutModel",
      "state": {}
     },
     "6c8b7bf698764725ae75c6ac37527b59": {
      "model_module": "@jupyter-widgets/base",
      "model_module_version": "1.2.0",
      "model_name": "LayoutModel",
      "state": {}
     },
     "6cc09bc362e64cd4b924c189e165d210": {
      "model_module": "@jupyter-widgets/controls",
      "model_module_version": "1.5.0",
      "model_name": "IntSliderModel",
      "state": {
       "continuous_update": false,
       "description": "Periods",
       "layout": "IPY_MODEL_fa54e1f535014662bc518bbf969d0579",
       "max": 50,
       "min": 1,
       "style": "IPY_MODEL_fb9acaa4b25c403a9de2605631ce241d",
       "value": 5
      }
     },
     "6cce5c93d8184054b2012b2981b187f1": {
      "model_module": "@jupyter-widgets/base",
      "model_module_version": "1.2.0",
      "model_name": "LayoutModel",
      "state": {}
     },
     "6ce3f71e4d164714a4db61838158d9f7": {
      "model_module": "@jupyter-widgets/base",
      "model_module_version": "1.2.0",
      "model_name": "LayoutModel",
      "state": {}
     },
     "6cf21b39802742ef94021270bf8d437c": {
      "model_module": "@jupyter-widgets/base",
      "model_module_version": "1.2.0",
      "model_name": "LayoutModel",
      "state": {}
     },
     "6d237fa0843a4aad9cd8874fc75f2547": {
      "model_module": "@jupyter-widgets/controls",
      "model_module_version": "1.5.0",
      "model_name": "IntSliderModel",
      "state": {
       "continuous_update": false,
       "description": "Periods",
       "layout": "IPY_MODEL_39f345cde4bc4ebd9c1a6af06148e763",
       "max": 50,
       "min": 1,
       "style": "IPY_MODEL_f1099fb1c5ae4258af3dbc8ce6380448",
       "value": 4
      }
     },
     "6d3f02b5ce7f4a37b038870bc88fbb3d": {
      "model_module": "@jupyter-widgets/controls",
      "model_module_version": "1.5.0",
      "model_name": "IntSliderModel",
      "state": {
       "continuous_update": false,
       "description": "Periods",
       "layout": "IPY_MODEL_ab73c6a834e547069c43dd515e942b3a",
       "max": 50,
       "min": 1,
       "style": "IPY_MODEL_49ba6cc12bfc42eda801f857475eaec2",
       "value": 2
      }
     },
     "6d416c1966164f6db09691f7e9c7e496": {
      "model_module": "@jupyter-widgets/controls",
      "model_module_version": "1.5.0",
      "model_name": "SliderStyleModel",
      "state": {
       "description_width": "initial"
      }
     },
     "6d5d410373fe437496b87204477252b7": {
      "model_module": "@jupyter-widgets/controls",
      "model_module_version": "1.5.0",
      "model_name": "VBoxModel",
      "state": {
       "children": [
        "IPY_MODEL_6dcd9531a2be4b9b941a8f3d4dbae159",
        "IPY_MODEL_b919bfedae3f426e8389f4a32007d014",
        "IPY_MODEL_c0bcb1a8fdce41c9a1fde032a050c81f"
       ],
       "layout": "IPY_MODEL_d2119b2e266f4a06952735e206ec6eb8"
      }
     },
     "6d83ddafc519476c809f858e37673bd9": {
      "model_module": "@jupyter-widgets/base",
      "model_module_version": "1.2.0",
      "model_name": "LayoutModel",
      "state": {}
     },
     "6d8d4b3d1b8042978142173926a8220d": {
      "model_module": "@jupyter-widgets/controls",
      "model_module_version": "1.5.0",
      "model_name": "SliderStyleModel",
      "state": {
       "description_width": "initial"
      }
     },
     "6d912a6765e64f559ed5b98a6a92f34d": {
      "model_module": "@jupyter-widgets/controls",
      "model_module_version": "1.5.0",
      "model_name": "IntSliderModel",
      "state": {
       "continuous_update": false,
       "description": "Periods",
       "layout": "IPY_MODEL_71ca327913de46f9b118b44ae207e03f",
       "max": 50,
       "min": 1,
       "style": "IPY_MODEL_c8b425184fb74933ba222659e84d8160",
       "value": 2
      }
     },
     "6d9244544e90401696307d88a1444117": {
      "model_module": "@jupyter-widgets/controls",
      "model_module_version": "1.5.0",
      "model_name": "VBoxModel",
      "state": {
       "_dom_classes": [
        "widget-interact"
       ],
       "children": [
        "IPY_MODEL_9ff7f360caec4396ae0bed0d3427aa3e",
        "IPY_MODEL_c02e729e5b2b4997910fba0daa787ee7",
        "IPY_MODEL_18cf8ef91a244842a255ed0a8f34bb19",
        "IPY_MODEL_a561ede96300418e982b564682ddba09"
       ],
       "layout": "IPY_MODEL_633bb0cb6d2a481d8615c541ddfc448f"
      }
     },
     "6d96bb242a09496cbbbfc51933a2e622": {
      "model_module": "@jupyter-widgets/base",
      "model_module_version": "1.2.0",
      "model_name": "LayoutModel",
      "state": {}
     },
     "6d995900003740cab210dc780d2aeef5": {
      "model_module": "@jupyter-widgets/controls",
      "model_module_version": "1.5.0",
      "model_name": "SliderStyleModel",
      "state": {
       "description_width": "initial"
      }
     },
     "6dbcc41d72ce4379b259eab992b0d7e5": {
      "model_module": "@jupyter-widgets/controls",
      "model_module_version": "1.5.0",
      "model_name": "SliderStyleModel",
      "state": {
       "description_width": "initial"
      }
     },
     "6dcd9531a2be4b9b941a8f3d4dbae159": {
      "model_module": "@jupyter-widgets/controls",
      "model_module_version": "1.5.0",
      "model_name": "IntSliderModel",
      "state": {
       "continuous_update": false,
       "description": "Periods",
       "layout": "IPY_MODEL_893d89493741475a974af671644512df",
       "max": 50,
       "min": 1,
       "style": "IPY_MODEL_7c6f6c01cfbd4ef0b2c77f0a136981db",
       "value": 21
      }
     },
     "6ddeeeb8acca487bb91938eb668dd8d8": {
      "model_module": "@jupyter-widgets/base",
      "model_module_version": "1.2.0",
      "model_name": "LayoutModel",
      "state": {}
     },
     "6e0a5387fa354826b14fc1feee802225": {
      "model_module": "@jupyter-widgets/base",
      "model_module_version": "1.2.0",
      "model_name": "LayoutModel",
      "state": {}
     },
     "6e16b22a59b243bda829813d9c897ee9": {
      "model_module": "jupyter-matplotlib",
      "model_module_version": "^0.7.4",
      "model_name": "ToolbarModel",
      "state": {
       "layout": "IPY_MODEL_f152758821b54a4bba4e771b8371cda5",
       "toolitems": [
        [
         "Home",
         "Reset original view",
         "home",
         "home"
        ],
        [
         "Back",
         "Back to previous view",
         "arrow-left",
         "back"
        ],
        [
         "Forward",
         "Forward to next view",
         "arrow-right",
         "forward"
        ],
        [
         "Pan",
         "Left button pans, Right button zooms\nx/y fixes axis, CTRL fixes aspect",
         "arrows",
         "pan"
        ],
        [
         "Zoom",
         "Zoom to rectangle\nx/y fixes axis, CTRL fixes aspect",
         "square-o",
         "zoom"
        ],
        [
         "Download",
         "Download plot",
         "floppy-o",
         "save_figure"
        ]
       ]
      }
     },
     "6e29e2abde79479696c65f125a87e04e": {
      "model_module": "@jupyter-widgets/controls",
      "model_module_version": "1.5.0",
      "model_name": "SliderStyleModel",
      "state": {
       "description_width": "initial"
      }
     },
     "6e58e659530b4a6c90acddc3fce95dc5": {
      "model_module": "@jupyter-widgets/base",
      "model_module_version": "1.2.0",
      "model_name": "LayoutModel",
      "state": {}
     },
     "6e5c4a6d1a23465ca9d00b2b2671356c": {
      "model_module": "@jupyter-widgets/controls",
      "model_module_version": "1.5.0",
      "model_name": "IntSliderModel",
      "state": {
       "continuous_update": false,
       "description": "0-Padding",
       "layout": "IPY_MODEL_5ba6522774a846869a84676a81136e30",
       "max": 500,
       "style": "IPY_MODEL_f46831012d9c434887b4f9e46fa4df5f"
      }
     },
     "6e67f51a2d4a45b99bd0a804c9ac652a": {
      "model_module": "@jupyter-widgets/base",
      "model_module_version": "1.2.0",
      "model_name": "LayoutModel",
      "state": {}
     },
     "6e75bcded685428f81966a16c56e5142": {
      "model_module": "@jupyter-widgets/base",
      "model_module_version": "1.2.0",
      "model_name": "LayoutModel",
      "state": {}
     },
     "6e967ec12aa442dfb5f048e09c767b32": {
      "model_module": "@jupyter-widgets/base",
      "model_module_version": "1.2.0",
      "model_name": "LayoutModel",
      "state": {}
     },
     "6ea9177dca1b42f39196b81f859ca873": {
      "model_module": "@jupyter-widgets/base",
      "model_module_version": "1.2.0",
      "model_name": "LayoutModel",
      "state": {}
     },
     "6eadcdac02fa458aba7298bffdaa513e": {
      "model_module": "@jupyter-widgets/controls",
      "model_module_version": "1.5.0",
      "model_name": "IntSliderModel",
      "state": {
       "continuous_update": false,
       "description": "Sampling (Hz)",
       "layout": "IPY_MODEL_b33f28a3a64040aa9b31f6933a941c17",
       "max": 20,
       "min": 2,
       "step": 2,
       "style": "IPY_MODEL_3fac7353eff540b3994d17cb5ade4e6e",
       "value": 12
      }
     },
     "6ee2ec872d234ad88c84b8e421ee595e": {
      "model_module": "jupyter-matplotlib",
      "model_module_version": "^0.7.4",
      "model_name": "ToolbarModel",
      "state": {
       "layout": "IPY_MODEL_1b2f7bba34b948bca35cda2ca76f14a5",
       "toolitems": [
        [
         "Home",
         "Reset original view",
         "home",
         "home"
        ],
        [
         "Back",
         "Back to previous view",
         "arrow-left",
         "back"
        ],
        [
         "Forward",
         "Forward to next view",
         "arrow-right",
         "forward"
        ],
        [
         "Pan",
         "Left button pans, Right button zooms\nx/y fixes axis, CTRL fixes aspect",
         "arrows",
         "pan"
        ],
        [
         "Zoom",
         "Zoom to rectangle\nx/y fixes axis, CTRL fixes aspect",
         "square-o",
         "zoom"
        ],
        [
         "Download",
         "Download plot",
         "floppy-o",
         "save_figure"
        ]
       ]
      }
     },
     "6efb17d0a2a14990bb15d8d1fbabf32f": {
      "model_module": "@jupyter-widgets/controls",
      "model_module_version": "1.5.0",
      "model_name": "SliderStyleModel",
      "state": {
       "description_width": "initial"
      }
     },
     "6f1164f0934d45e2b1875566ca1497a7": {
      "model_module": "@jupyter-widgets/base",
      "model_module_version": "1.2.0",
      "model_name": "LayoutModel",
      "state": {}
     },
     "6f11cdd87f5a4f2f90b8f48c79a60e2e": {
      "model_module": "@jupyter-widgets/base",
      "model_module_version": "1.2.0",
      "model_name": "LayoutModel",
      "state": {}
     },
     "6f245ca36ee14140bf6ff89f8bbc1b53": {
      "model_module": "@jupyter-widgets/controls",
      "model_module_version": "1.5.0",
      "model_name": "IntSliderModel",
      "state": {
       "continuous_update": false,
       "description": "Periods",
       "layout": "IPY_MODEL_fe5ee09dde3b477bbb93910e6b6d1522",
       "max": 50,
       "min": 1,
       "style": "IPY_MODEL_a63cbc383bc74c94ac4d04ee5f54f95c",
       "value": 18
      }
     },
     "6f4ba08e54d648dc9ae500a3a8374b3d": {
      "model_module": "@jupyter-widgets/controls",
      "model_module_version": "1.5.0",
      "model_name": "SliderStyleModel",
      "state": {
       "description_width": "initial"
      }
     },
     "6f88bda3196b452db15561b0c89da7ba": {
      "model_module": "@jupyter-widgets/base",
      "model_module_version": "1.2.0",
      "model_name": "LayoutModel",
      "state": {}
     },
     "6f9619768b7b47d6a4e70687657c1392": {
      "model_module": "@jupyter-widgets/base",
      "model_module_version": "1.2.0",
      "model_name": "LayoutModel",
      "state": {}
     },
     "6fb7f022cdc2464280ba56f21b33af6e": {
      "model_module": "@jupyter-widgets/base",
      "model_module_version": "1.2.0",
      "model_name": "LayoutModel",
      "state": {}
     },
     "6fbafc00b5b541b2aee678a34529eb16": {
      "model_module": "@jupyter-widgets/base",
      "model_module_version": "1.2.0",
      "model_name": "LayoutModel",
      "state": {}
     },
     "6fc14714cae6475f9ddf7e9b340875c9": {
      "model_module": "@jupyter-widgets/base",
      "model_module_version": "1.2.0",
      "model_name": "LayoutModel",
      "state": {}
     },
     "6fd164c613d04ef181ad2eefdf852430": {
      "model_module": "@jupyter-widgets/base",
      "model_module_version": "1.2.0",
      "model_name": "LayoutModel",
      "state": {}
     },
     "6fda6d727f6640a8a9f53b8bdb275b33": {
      "model_module": "@jupyter-widgets/base",
      "model_module_version": "1.2.0",
      "model_name": "LayoutModel",
      "state": {}
     },
     "6fde8aeb1fdd4ec1850ded2a6d6f2cab": {
      "model_module": "@jupyter-widgets/base",
      "model_module_version": "1.2.0",
      "model_name": "LayoutModel",
      "state": {}
     },
     "6ffdf826e60d4b3ab2bb6a5d194b7477": {
      "model_module": "@jupyter-widgets/controls",
      "model_module_version": "1.5.0",
      "model_name": "HBoxModel",
      "state": {
       "children": [
        "IPY_MODEL_b0c1846c844345759a168e913b94bcd4",
        "IPY_MODEL_c4b80ccf88524948ad76821000325dea"
       ],
       "layout": "IPY_MODEL_3717ea9126424ba192c2e26b7d6d6286"
      }
     },
     "7005ea37577c493594147507e723bec3": {
      "model_module": "@jupyter-widgets/controls",
      "model_module_version": "1.5.0",
      "model_name": "HBoxModel",
      "state": {
       "children": [
        "IPY_MODEL_17e01d75c6ac4689b182c8ab348e4a4d",
        "IPY_MODEL_1dda28e554564640b6543c358b6bd3e3",
        "IPY_MODEL_a6d64ec24b5b4e2089217a29918d044b"
       ],
       "layout": "IPY_MODEL_42cb40c997514dc4a208c3f3b76ad5be"
      }
     },
     "70072e503aad4dbab0cf794dba468ff9": {
      "model_module": "@jupyter-widgets/base",
      "model_module_version": "1.2.0",
      "model_name": "LayoutModel",
      "state": {}
     },
     "700e6ee219164463a4368e3aa6add2a2": {
      "model_module": "@jupyter-widgets/base",
      "model_module_version": "1.2.0",
      "model_name": "LayoutModel",
      "state": {}
     },
     "7016b0d66d5949bb8e3a3d3c1f0ec158": {
      "model_module": "@jupyter-widgets/base",
      "model_module_version": "1.2.0",
      "model_name": "LayoutModel",
      "state": {}
     },
     "702d637d44d540898b322ca1b189d371": {
      "model_module": "@jupyter-widgets/base",
      "model_module_version": "1.2.0",
      "model_name": "LayoutModel",
      "state": {}
     },
     "7046402d00cb45e0bbc5739071cf2c09": {
      "model_module": "@jupyter-widgets/controls",
      "model_module_version": "1.5.0",
      "model_name": "SliderStyleModel",
      "state": {
       "description_width": "initial"
      }
     },
     "7091161419f9497e95f101f24c137b60": {
      "model_module": "@jupyter-widgets/base",
      "model_module_version": "1.2.0",
      "model_name": "LayoutModel",
      "state": {}
     },
     "70a51f83cc23422f948b683d17245cca": {
      "model_module": "@jupyter-widgets/base",
      "model_module_version": "1.2.0",
      "model_name": "LayoutModel",
      "state": {}
     },
     "70b6c9af750b4cf7baa0050adb07ef8a": {
      "model_module": "@jupyter-widgets/base",
      "model_module_version": "1.2.0",
      "model_name": "LayoutModel",
      "state": {}
     },
     "70c7cc3a3ef9496fb4aa36109dd90130": {
      "model_module": "jupyter-matplotlib",
      "model_module_version": "^0.7.4",
      "model_name": "ToolbarModel",
      "state": {
       "layout": "IPY_MODEL_0c488afc96ca4a16aca1fc0b58540126",
       "toolitems": [
        [
         "Home",
         "Reset original view",
         "home",
         "home"
        ],
        [
         "Back",
         "Back to previous view",
         "arrow-left",
         "back"
        ],
        [
         "Forward",
         "Forward to next view",
         "arrow-right",
         "forward"
        ],
        [
         "Pan",
         "Left button pans, Right button zooms\nx/y fixes axis, CTRL fixes aspect",
         "arrows",
         "pan"
        ],
        [
         "Zoom",
         "Zoom to rectangle\nx/y fixes axis, CTRL fixes aspect",
         "square-o",
         "zoom"
        ],
        [
         "Download",
         "Download plot",
         "floppy-o",
         "save_figure"
        ]
       ]
      }
     },
     "7101e80307734917b0b71f361f31016c": {
      "model_module": "@jupyter-widgets/controls",
      "model_module_version": "1.5.0",
      "model_name": "SliderStyleModel",
      "state": {
       "description_width": "initial"
      }
     },
     "7106c110af444563bda9e60709d4fef7": {
      "model_module": "@jupyter-widgets/base",
      "model_module_version": "1.2.0",
      "model_name": "LayoutModel",
      "state": {
       "align_items": "baseline",
       "border": "solid",
       "display": "flex",
       "flex_flow": "column",
       "width": "50%"
      }
     },
     "7126cf684961497bb515907b6c3c008b": {
      "model_module": "@jupyter-widgets/base",
      "model_module_version": "1.2.0",
      "model_name": "LayoutModel",
      "state": {}
     },
     "712edfa25abb455999fa6954f4da0454": {
      "model_module": "@jupyter-widgets/controls",
      "model_module_version": "1.5.0",
      "model_name": "IntSliderModel",
      "state": {
       "continuous_update": false,
       "description": "0-Padding",
       "layout": "IPY_MODEL_4e91d1276c674ff2b9e1cd0c5dfaa4ea",
       "max": 500,
       "style": "IPY_MODEL_1072afaa767349d7bb9bf351c4adb128"
      }
     },
     "714dddb4762b4009a4981e825098d79e": {
      "model_module": "@jupyter-widgets/controls",
      "model_module_version": "1.5.0",
      "model_name": "SliderStyleModel",
      "state": {
       "description_width": "initial"
      }
     },
     "71675d9ef5ca475685b7dbc881870b35": {
      "model_module": "@jupyter-widgets/base",
      "model_module_version": "1.2.0",
      "model_name": "LayoutModel",
      "state": {}
     },
     "7169029dbfa14c298a39dc7c3167b2c7": {
      "model_module": "@jupyter-widgets/base",
      "model_module_version": "1.2.0",
      "model_name": "LayoutModel",
      "state": {}
     },
     "7188eb55acac4de6a5652188f976e29c": {
      "model_module": "@jupyter-widgets/base",
      "model_module_version": "1.2.0",
      "model_name": "LayoutModel",
      "state": {}
     },
     "71b0c31e963741ed94c6da485d052d8c": {
      "model_module": "@jupyter-widgets/base",
      "model_module_version": "1.2.0",
      "model_name": "LayoutModel",
      "state": {}
     },
     "71ca327913de46f9b118b44ae207e03f": {
      "model_module": "@jupyter-widgets/base",
      "model_module_version": "1.2.0",
      "model_name": "LayoutModel",
      "state": {}
     },
     "71f3d6f3312a426593356c2bdbb50725": {
      "model_module": "@jupyter-widgets/controls",
      "model_module_version": "1.5.0",
      "model_name": "SliderStyleModel",
      "state": {
       "description_width": "initial"
      }
     },
     "71ffd9e0fe8246baab23b55187bf0319": {
      "model_module": "@jupyter-widgets/controls",
      "model_module_version": "1.5.0",
      "model_name": "IntSliderModel",
      "state": {
       "continuous_update": false,
       "description": "Sampling (Hz)",
       "layout": "IPY_MODEL_4d6a15c2feb6495b9951a13e9078c912",
       "max": 20,
       "min": 2,
       "step": 2,
       "style": "IPY_MODEL_427bd6d33801408a9616f5104c4157f4",
       "value": 4
      }
     },
     "721a87b777c745758df882179297de94": {
      "model_module": "@jupyter-widgets/base",
      "model_module_version": "1.2.0",
      "model_name": "LayoutModel",
      "state": {}
     },
     "72432ba035664f88a1cb00b6420a383a": {
      "model_module": "@jupyter-widgets/base",
      "model_module_version": "1.2.0",
      "model_name": "LayoutModel",
      "state": {}
     },
     "7248a8dd4ccd4b0eb85d45642b58fb04": {
      "model_module": "@jupyter-widgets/controls",
      "model_module_version": "1.5.0",
      "model_name": "SliderStyleModel",
      "state": {
       "description_width": "initial"
      }
     },
     "72655bea74c74bcaace3818f72a32df3": {
      "model_module": "@jupyter-widgets/controls",
      "model_module_version": "1.5.0",
      "model_name": "SliderStyleModel",
      "state": {
       "description_width": "initial"
      }
     },
     "72879c5996094ed4a1c48d7848d62569": {
      "model_module": "@jupyter-widgets/controls",
      "model_module_version": "1.5.0",
      "model_name": "VBoxModel",
      "state": {
       "_dom_classes": [
        "widget-interact"
       ],
       "children": [
        "IPY_MODEL_ee5b53db16da453d8d5004940c5e74e9",
        "IPY_MODEL_9adf5a082d7f40beb0781dfd4225774a",
        "IPY_MODEL_315a0bc32c6d4b4d95396bfe042f596b",
        "IPY_MODEL_3609f5d7a2f14d10a2ca7d2d4d152a16"
       ],
       "layout": "IPY_MODEL_81deab0f49c1444095dbaf28479a233c"
      }
     },
     "72a90c4be03d4083b93c650f2e3792d9": {
      "model_module": "@jupyter-widgets/base",
      "model_module_version": "1.2.0",
      "model_name": "LayoutModel",
      "state": {}
     },
     "72b83eaef624472b8ddb63912ee0e319": {
      "model_module": "@jupyter-widgets/base",
      "model_module_version": "1.2.0",
      "model_name": "LayoutModel",
      "state": {}
     },
     "72c10b34d5c84d08886d5c81083588c9": {
      "model_module": "@jupyter-widgets/base",
      "model_module_version": "1.2.0",
      "model_name": "LayoutModel",
      "state": {}
     },
     "72cfdc2dc455448895fc8dfcf1e0b868": {
      "model_module": "@jupyter-widgets/base",
      "model_module_version": "1.2.0",
      "model_name": "LayoutModel",
      "state": {}
     },
     "72dfd0fcdcaf4ebc9e6bc434a73b5e17": {
      "model_module": "jupyter-matplotlib",
      "model_module_version": "^0.7.4",
      "model_name": "ToolbarModel",
      "state": {
       "layout": "IPY_MODEL_16ae1675652840b8936cb295f9f487e0",
       "toolitems": [
        [
         "Home",
         "Reset original view",
         "home",
         "home"
        ],
        [
         "Back",
         "Back to previous view",
         "arrow-left",
         "back"
        ],
        [
         "Forward",
         "Forward to next view",
         "arrow-right",
         "forward"
        ],
        [
         "Pan",
         "Left button pans, Right button zooms\nx/y fixes axis, CTRL fixes aspect",
         "arrows",
         "pan"
        ],
        [
         "Zoom",
         "Zoom to rectangle\nx/y fixes axis, CTRL fixes aspect",
         "square-o",
         "zoom"
        ],
        [
         "Download",
         "Download plot",
         "floppy-o",
         "save_figure"
        ]
       ]
      }
     },
     "72f38ac6530f4b73b9a1672d41ac424f": {
      "model_module": "jupyter-matplotlib",
      "model_module_version": "^0.7.4",
      "model_name": "ToolbarModel",
      "state": {
       "layout": "IPY_MODEL_9ed876d8313d423196cdb35b83b1cdf2",
       "toolitems": [
        [
         "Home",
         "Reset original view",
         "home",
         "home"
        ],
        [
         "Back",
         "Back to previous view",
         "arrow-left",
         "back"
        ],
        [
         "Forward",
         "Forward to next view",
         "arrow-right",
         "forward"
        ],
        [
         "Pan",
         "Left button pans, Right button zooms\nx/y fixes axis, CTRL fixes aspect",
         "arrows",
         "pan"
        ],
        [
         "Zoom",
         "Zoom to rectangle\nx/y fixes axis, CTRL fixes aspect",
         "square-o",
         "zoom"
        ],
        [
         "Download",
         "Download plot",
         "floppy-o",
         "save_figure"
        ]
       ]
      }
     },
     "7330d280ff1d4f3a8f41bdb7515fcc49": {
      "model_module": "@jupyter-widgets/controls",
      "model_module_version": "1.5.0",
      "model_name": "VBoxModel",
      "state": {
       "_dom_classes": [
        "widget-interact"
       ],
       "children": [
        "IPY_MODEL_44c20b9d04c64579b0ef187bd86eeb89",
        "IPY_MODEL_6915dc1aef3c49b3a569d25f697c385b",
        "IPY_MODEL_5f3384e56b1344f48ac9c9b4b6c06073",
        "IPY_MODEL_8c5af476f5294abeb3b55e01a1e52a27"
       ],
       "layout": "IPY_MODEL_1000f2b1a3ca415e94248b80472f3539"
      }
     },
     "734885b10ab243d9b56f7c106fc7198e": {
      "model_module": "@jupyter-widgets/controls",
      "model_module_version": "1.5.0",
      "model_name": "SliderStyleModel",
      "state": {
       "description_width": "initial"
      }
     },
     "73c2f5d84e67423a82c11554450853cd": {
      "model_module": "@jupyter-widgets/controls",
      "model_module_version": "1.5.0",
      "model_name": "SliderStyleModel",
      "state": {
       "description_width": "initial"
      }
     },
     "74035b1c90c34f4a8c5d6d1c75a576d4": {
      "model_module": "@jupyter-widgets/controls",
      "model_module_version": "1.5.0",
      "model_name": "IntSliderModel",
      "state": {
       "continuous_update": false,
       "description": "0-Padding",
       "layout": "IPY_MODEL_9fe1f71db5884dff909260e5867f34cf",
       "max": 500,
       "style": "IPY_MODEL_8bd51f26a8b34951918b8da00b26bef8"
      }
     },
     "7415f6746d1a45e39a386e672de07cc6": {
      "model_module": "@jupyter-widgets/base",
      "model_module_version": "1.2.0",
      "model_name": "LayoutModel",
      "state": {
       "flex_flow": "row wrap"
      }
     },
     "7450fd522de94e22a773da12e22bbccc": {
      "model_module": "@jupyter-widgets/base",
      "model_module_version": "1.2.0",
      "model_name": "LayoutModel",
      "state": {}
     },
     "748cd6303a1f4ac5970d103089f0fdc4": {
      "model_module": "@jupyter-widgets/base",
      "model_module_version": "1.2.0",
      "model_name": "LayoutModel",
      "state": {}
     },
     "7497415c53164f5b9474aafe24f199d9": {
      "model_module": "@jupyter-widgets/controls",
      "model_module_version": "1.5.0",
      "model_name": "IntSliderModel",
      "state": {
       "continuous_update": false,
       "description": "Periods",
       "layout": "IPY_MODEL_0edad3594ecf49ab87cec7a1854f09f9",
       "max": 50,
       "min": 1,
       "style": "IPY_MODEL_843c9de1be714724b3db3be1cdb67aa7",
       "value": 2
      }
     },
     "74b9d42b7144476d81a21896d0225a4e": {
      "model_module": "@jupyter-widgets/controls",
      "model_module_version": "1.5.0",
      "model_name": "SliderStyleModel",
      "state": {
       "description_width": "initial"
      }
     },
     "74d448a80050431ebeca77ac1d7dbe49": {
      "model_module": "@jupyter-widgets/controls",
      "model_module_version": "1.5.0",
      "model_name": "VBoxModel",
      "state": {
       "children": [
        "IPY_MODEL_12c682e9d74c42a6945f18a9e08f9c13",
        "IPY_MODEL_0aff0968681446519c695d9cdefd3e01",
        "IPY_MODEL_f3c94691345e4b08bb0fe8d95c3a239e"
       ],
       "layout": "IPY_MODEL_4cd79f3974844da29a548ee75b194f9b"
      }
     },
     "74e2a03dff1449369b06cc4b6bb3326a": {
      "model_module": "@jupyter-widgets/base",
      "model_module_version": "1.2.0",
      "model_name": "LayoutModel",
      "state": {}
     },
     "74e98234c182422abf0ba68758b6ced1": {
      "model_module": "@jupyter-widgets/controls",
      "model_module_version": "1.5.0",
      "model_name": "IntSliderModel",
      "state": {
       "continuous_update": false,
       "description": "Periods",
       "layout": "IPY_MODEL_4891a7dca0144d5a9fae6b9a4c7e4077",
       "max": 50,
       "min": 1,
       "style": "IPY_MODEL_e2debefc369f4999a013e7dc53a98671",
       "value": 2
      }
     },
     "74ff904d117e46cfa729b833c1e3a6ef": {
      "model_module": "@jupyter-widgets/base",
      "model_module_version": "1.2.0",
      "model_name": "LayoutModel",
      "state": {}
     },
     "751475aeedba4303b478b2974a32de5f": {
      "model_module": "@jupyter-widgets/output",
      "model_module_version": "1.0.0",
      "model_name": "OutputModel",
      "state": {
       "layout": "IPY_MODEL_e8c66ab7740d41afbdc9c77889cae7d6"
      }
     },
     "7521fa906f9c4ca1ab8e045e050e95a7": {
      "model_module": "@jupyter-widgets/controls",
      "model_module_version": "1.5.0",
      "model_name": "SliderStyleModel",
      "state": {
       "description_width": "initial"
      }
     },
     "752bcd2b48f4421a92d307624b015871": {
      "model_module": "@jupyter-widgets/controls",
      "model_module_version": "1.5.0",
      "model_name": "VBoxModel",
      "state": {
       "children": [
        "IPY_MODEL_44b036d2e68d4585b26f34bedc690586",
        "IPY_MODEL_3ebedff3577547c48727eec270aabe26",
        "IPY_MODEL_d1c33dbf14cb4ef6aec25d4883b12286"
       ],
       "layout": "IPY_MODEL_66b52ad5db6c4b7e8c81d363a9ea953f"
      }
     },
     "755a700465ad407887cadf2c0b39b13f": {
      "model_module": "@jupyter-widgets/controls",
      "model_module_version": "1.5.0",
      "model_name": "VBoxModel",
      "state": {
       "_dom_classes": [
        "widget-interact"
       ],
       "children": [
        "IPY_MODEL_f3068b028b9c40b39a1fcd9783796cf2",
        "IPY_MODEL_4b84fa2b47794e188414683b9b9eca2e",
        "IPY_MODEL_dc653de116794424adb790110fded78e",
        "IPY_MODEL_06e683027a5444b4823e8d36c6fca806"
       ],
       "layout": "IPY_MODEL_1d670fa24d8643f8ab0669f4473b0688"
      }
     },
     "755cf33c94714f209ea9b82d7f78eada": {
      "model_module": "@jupyter-widgets/base",
      "model_module_version": "1.2.0",
      "model_name": "LayoutModel",
      "state": {}
     },
     "759e1bf96eb948ccbfca4f38d0706bf9": {
      "model_module": "@jupyter-widgets/controls",
      "model_module_version": "1.5.0",
      "model_name": "VBoxModel",
      "state": {
       "children": [
        "IPY_MODEL_ad7fb1d3d56c44db985bf9a497ca3ab8",
        "IPY_MODEL_46afaa225d9e4b32a09a253565bbe56f"
       ],
       "layout": "IPY_MODEL_ccd100b06356468c87a73508abd4e049"
      }
     },
     "759e59a50356431c927468d30d87ca91": {
      "model_module": "@jupyter-widgets/base",
      "model_module_version": "1.2.0",
      "model_name": "LayoutModel",
      "state": {}
     },
     "759e9d2efd3e4a99a0c64239aa874f45": {
      "model_module": "@jupyter-widgets/base",
      "model_module_version": "1.2.0",
      "model_name": "LayoutModel",
      "state": {}
     },
     "75adfe1eacf34c1a83a80dccfff8f64a": {
      "model_module": "@jupyter-widgets/base",
      "model_module_version": "1.2.0",
      "model_name": "LayoutModel",
      "state": {}
     },
     "75c2ace6cd114662a452786522e15604": {
      "model_module": "jupyter-matplotlib",
      "model_module_version": "^0.7.4",
      "model_name": "ToolbarModel",
      "state": {
       "layout": "IPY_MODEL_e9d0ada5d6e74067b876be03825ecfea",
       "toolitems": [
        [
         "Home",
         "Reset original view",
         "home",
         "home"
        ],
        [
         "Back",
         "Back to previous view",
         "arrow-left",
         "back"
        ],
        [
         "Forward",
         "Forward to next view",
         "arrow-right",
         "forward"
        ],
        [
         "Pan",
         "Left button pans, Right button zooms\nx/y fixes axis, CTRL fixes aspect",
         "arrows",
         "pan"
        ],
        [
         "Zoom",
         "Zoom to rectangle\nx/y fixes axis, CTRL fixes aspect",
         "square-o",
         "zoom"
        ],
        [
         "Download",
         "Download plot",
         "floppy-o",
         "save_figure"
        ]
       ]
      }
     },
     "75cf72529f144675917a95617cff2f8c": {
      "model_module": "@jupyter-widgets/controls",
      "model_module_version": "1.5.0",
      "model_name": "SliderStyleModel",
      "state": {
       "description_width": "initial"
      }
     },
     "75f7363913fb4c6088a46f9f336fefa0": {
      "model_module": "@jupyter-widgets/base",
      "model_module_version": "1.2.0",
      "model_name": "LayoutModel",
      "state": {}
     },
     "762aae6fa88445d69d5061885f2bb6c3": {
      "model_module": "@jupyter-widgets/controls",
      "model_module_version": "1.5.0",
      "model_name": "HBoxModel",
      "state": {
       "children": [
        "IPY_MODEL_38e6b7b565f84c64a1ac2150ff6c1814",
        "IPY_MODEL_644005720ff04a6bae99dd1876382662"
       ],
       "layout": "IPY_MODEL_6231eef611564cf7887de758deff1570"
      }
     },
     "764379446bf14d6584c35d51a9487693": {
      "model_module": "@jupyter-widgets/base",
      "model_module_version": "1.2.0",
      "model_name": "LayoutModel",
      "state": {}
     },
     "766594f0745b4a19a9310a9938595bf7": {
      "model_module": "@jupyter-widgets/controls",
      "model_module_version": "1.5.0",
      "model_name": "IntSliderModel",
      "state": {
       "description": "Periods",
       "layout": "IPY_MODEL_f771a5636bdb4d408ded5a92ab6cb6e2",
       "max": 50,
       "min": 1,
       "style": "IPY_MODEL_4777e7333534429eb3533560e9a4ae28",
       "value": 2
      }
     },
     "768240ca46944efdb6db4ac163f172c5": {
      "model_module": "@jupyter-widgets/controls",
      "model_module_version": "1.5.0",
      "model_name": "IntSliderModel",
      "state": {
       "continuous_update": false,
       "description": "Sampling (Hz)",
       "layout": "IPY_MODEL_520ace1ece4e4d2cb67ed0d50cab9c49",
       "max": 20,
       "min": 2,
       "step": 2,
       "style": "IPY_MODEL_0cf16ff97902409dbe1814c63eb00075",
       "value": 4
      }
     },
     "76a11f94b0774b51bd4c580b2c1770ed": {
      "model_module": "@jupyter-widgets/controls",
      "model_module_version": "1.5.0",
      "model_name": "HBoxModel",
      "state": {
       "children": [
        "IPY_MODEL_54f6044a6e7041a0b4e5afec8b4c36e1",
        "IPY_MODEL_f07d47a02bbc4d779ad1fb62e1621d97"
       ],
       "layout": "IPY_MODEL_b524c2f9160a48d2bf4aa3e41be7b841"
      }
     },
     "76a6b3eb4f3f45ccb8cd9eecd1e79f9c": {
      "model_module": "@jupyter-widgets/controls",
      "model_module_version": "1.5.0",
      "model_name": "IntSliderModel",
      "state": {
       "continuous_update": false,
       "description": "Periods",
       "layout": "IPY_MODEL_ed3b192f2c0940989086d4018ebfe23c",
       "max": 50,
       "min": 1,
       "style": "IPY_MODEL_e79834366f8741509ef8471445b94322",
       "value": 2
      }
     },
     "76dc855ff60848e185f18d64a9e2f52d": {
      "model_module": "@jupyter-widgets/controls",
      "model_module_version": "1.5.0",
      "model_name": "SliderStyleModel",
      "state": {
       "description_width": "initial"
      }
     },
     "77261c2303f7498381c1fb980d56aa6a": {
      "model_module": "@jupyter-widgets/output",
      "model_module_version": "1.0.0",
      "model_name": "OutputModel",
      "state": {
       "layout": "IPY_MODEL_87471d38593b4806b7cccbcea2ed64b8"
      }
     },
     "7792826606a149e488a7dd458a307945": {
      "model_module": "jupyter-matplotlib",
      "model_module_version": "^0.7.4",
      "model_name": "ToolbarModel",
      "state": {
       "layout": "IPY_MODEL_af451a2409f048e199ab2f8098ca0bc0",
       "toolitems": [
        [
         "Home",
         "Reset original view",
         "home",
         "home"
        ],
        [
         "Back",
         "Back to previous view",
         "arrow-left",
         "back"
        ],
        [
         "Forward",
         "Forward to next view",
         "arrow-right",
         "forward"
        ],
        [
         "Pan",
         "Left button pans, Right button zooms\nx/y fixes axis, CTRL fixes aspect",
         "arrows",
         "pan"
        ],
        [
         "Zoom",
         "Zoom to rectangle\nx/y fixes axis, CTRL fixes aspect",
         "square-o",
         "zoom"
        ],
        [
         "Download",
         "Download plot",
         "floppy-o",
         "save_figure"
        ]
       ]
      }
     },
     "77b1b65ea9dd450a96b8837922ca30ca": {
      "model_module": "@jupyter-widgets/base",
      "model_module_version": "1.2.0",
      "model_name": "LayoutModel",
      "state": {}
     },
     "77d60f8fe9bd4fc2aefb0cb8a3578aaa": {
      "model_module": "@jupyter-widgets/base",
      "model_module_version": "1.2.0",
      "model_name": "LayoutModel",
      "state": {}
     },
     "77fd3fe153bc495e82538f4259089556": {
      "model_module": "@jupyter-widgets/base",
      "model_module_version": "1.2.0",
      "model_name": "LayoutModel",
      "state": {}
     },
     "7801d889a5514192aefaff26086975f0": {
      "model_module": "@jupyter-widgets/base",
      "model_module_version": "1.2.0",
      "model_name": "LayoutModel",
      "state": {}
     },
     "78293a9f902d4ba6af828c764e64abe9": {
      "model_module": "jupyter-matplotlib",
      "model_module_version": "^0.7.4",
      "model_name": "ToolbarModel",
      "state": {
       "layout": "IPY_MODEL_6c8b7bf698764725ae75c6ac37527b59",
       "toolitems": [
        [
         "Home",
         "Reset original view",
         "home",
         "home"
        ],
        [
         "Back",
         "Back to previous view",
         "arrow-left",
         "back"
        ],
        [
         "Forward",
         "Forward to next view",
         "arrow-right",
         "forward"
        ],
        [
         "Pan",
         "Left button pans, Right button zooms\nx/y fixes axis, CTRL fixes aspect",
         "arrows",
         "pan"
        ],
        [
         "Zoom",
         "Zoom to rectangle\nx/y fixes axis, CTRL fixes aspect",
         "square-o",
         "zoom"
        ],
        [
         "Download",
         "Download plot",
         "floppy-o",
         "save_figure"
        ]
       ]
      }
     },
     "7839d8be9b8e4efca96fda01eab2429a": {
      "model_module": "@jupyter-widgets/controls",
      "model_module_version": "1.5.0",
      "model_name": "HBoxModel",
      "state": {
       "children": [
        "IPY_MODEL_d3cdcc6ee6ad42d9b18fbe827fd5f994",
        "IPY_MODEL_07cf9897c93749e1812853346b5ef146"
       ],
       "layout": "IPY_MODEL_aa7e1acec18c4f9aa1f95b8570e347bb"
      }
     },
     "7839f0ff4a5d46f99036b579551fb077": {
      "model_module": "@jupyter-widgets/controls",
      "model_module_version": "1.5.0",
      "model_name": "IntSliderModel",
      "state": {
       "description": "Sampling (Hz)",
       "layout": "IPY_MODEL_8dc5c4428fa34a87b2962ae6210a18c2",
       "max": 12,
       "min": 2,
       "step": 2,
       "style": "IPY_MODEL_64203d629f594757b80d63313fc06158",
       "value": 4
      }
     },
     "78541a7f24214508b001b8d3dc9a37b1": {
      "model_module": "@jupyter-widgets/base",
      "model_module_version": "1.2.0",
      "model_name": "LayoutModel",
      "state": {}
     },
     "785efff0a70445c9bed8b2dfc8653dad": {
      "model_module": "@jupyter-widgets/controls",
      "model_module_version": "1.5.0",
      "model_name": "SliderStyleModel",
      "state": {
       "description_width": "initial"
      }
     },
     "78741ed4e1034411bac67d1560655118": {
      "model_module": "@jupyter-widgets/output",
      "model_module_version": "1.0.0",
      "model_name": "OutputModel",
      "state": {
       "layout": "IPY_MODEL_fe65ee96ef5e4123a326a934e436be28"
      }
     },
     "7878dfc0c5fd4df58f602fdf98e20143": {
      "model_module": "@jupyter-widgets/controls",
      "model_module_version": "1.5.0",
      "model_name": "SliderStyleModel",
      "state": {
       "description_width": "initial"
      }
     },
     "7893a587ad774e30a4dc04f72a81f265": {
      "model_module": "@jupyter-widgets/base",
      "model_module_version": "1.2.0",
      "model_name": "LayoutModel",
      "state": {}
     },
     "78b07aa788e049ab8608bba1a9ffe2dc": {
      "model_module": "@jupyter-widgets/base",
      "model_module_version": "1.2.0",
      "model_name": "LayoutModel",
      "state": {}
     },
     "78d3f876d3e94566bdf5898407255009": {
      "model_module": "@jupyter-widgets/controls",
      "model_module_version": "1.5.0",
      "model_name": "IntSliderModel",
      "state": {
       "continuous_update": false,
       "description": "Periods",
       "layout": "IPY_MODEL_fa69f2bc645d4070a697fe3274546e38",
       "max": 50,
       "min": 1,
       "style": "IPY_MODEL_d405811c07544c5690a9e498681a6955",
       "value": 10
      }
     },
     "790c381327b94cd0ad8bfd673ae373ed": {
      "model_module": "@jupyter-widgets/controls",
      "model_module_version": "1.5.0",
      "model_name": "IntSliderModel",
      "state": {
       "continuous_update": false,
       "description": "Sampling (Hz)",
       "layout": "IPY_MODEL_891efbb037b74a1687736bdfaaa1b94c",
       "max": 12,
       "min": 2,
       "step": 2,
       "style": "IPY_MODEL_c690056592184cd6a7295166794e6e7c",
       "value": 4
      }
     },
     "79102424cdaf46a89202d524cbf31691": {
      "model_module": "@jupyter-widgets/base",
      "model_module_version": "1.2.0",
      "model_name": "LayoutModel",
      "state": {
       "flex_flow": "column_wrap"
      }
     },
     "79c6e94c14ae4691aa03ebe7582b258f": {
      "model_module": "@jupyter-widgets/controls",
      "model_module_version": "1.5.0",
      "model_name": "HBoxModel",
      "state": {
       "children": [
        "IPY_MODEL_b0ef9885e631448288c41b5a4c76a777",
        "IPY_MODEL_9836912a4e9b4b3198af30f2136d0f12",
        "IPY_MODEL_039cc2099fe043afbd76d791a5388764"
       ],
       "layout": "IPY_MODEL_7b10776d549c445aa77095192dc54f87"
      }
     },
     "79d5910c4dde4cd092f50cd7997f0054": {
      "model_module": "@jupyter-widgets/controls",
      "model_module_version": "1.5.0",
      "model_name": "IntSliderModel",
      "state": {
       "continuous_update": false,
       "description": "0-Padding",
       "layout": "IPY_MODEL_bd966f4a02e841de82cdea009ac18f42",
       "max": 500,
       "style": "IPY_MODEL_714dddb4762b4009a4981e825098d79e"
      }
     },
     "79dbe6eef4bd475daa3ef38dde9f88a9": {
      "model_module": "@jupyter-widgets/base",
      "model_module_version": "1.2.0",
      "model_name": "LayoutModel",
      "state": {}
     },
     "79dc596b3ac14ef382eea3b3dfb9c2ce": {
      "model_module": "@jupyter-widgets/base",
      "model_module_version": "1.2.0",
      "model_name": "LayoutModel",
      "state": {}
     },
     "79de160c9cfb44188b2447bc45939a7d": {
      "model_module": "@jupyter-widgets/base",
      "model_module_version": "1.2.0",
      "model_name": "LayoutModel",
      "state": {}
     },
     "79e672b95e2e474a9826dacde546925e": {
      "model_module": "@jupyter-widgets/controls",
      "model_module_version": "1.5.0",
      "model_name": "SliderStyleModel",
      "state": {
       "description_width": "initial"
      }
     },
     "7a2300ed79c74294bbb83051dc2e1f87": {
      "model_module": "@jupyter-widgets/base",
      "model_module_version": "1.2.0",
      "model_name": "LayoutModel",
      "state": {}
     },
     "7a283c51d3044dda9333bb68d987fa37": {
      "model_module": "@jupyter-widgets/base",
      "model_module_version": "1.2.0",
      "model_name": "LayoutModel",
      "state": {}
     },
     "7a369a07d83a493c82c0166a5c483f8c": {
      "model_module": "@jupyter-widgets/controls",
      "model_module_version": "1.5.0",
      "model_name": "SliderStyleModel",
      "state": {
       "description_width": "initial"
      }
     },
     "7a5fe971eb3848dc9aa4463e8c93af66": {
      "model_module": "jupyter-matplotlib",
      "model_module_version": "^0.7.4",
      "model_name": "ToolbarModel",
      "state": {
       "layout": "IPY_MODEL_0a94da8aee364efcba9a3db284008388",
       "toolitems": [
        [
         "Home",
         "Reset original view",
         "home",
         "home"
        ],
        [
         "Back",
         "Back to previous view",
         "arrow-left",
         "back"
        ],
        [
         "Forward",
         "Forward to next view",
         "arrow-right",
         "forward"
        ],
        [
         "Pan",
         "Left button pans, Right button zooms\nx/y fixes axis, CTRL fixes aspect",
         "arrows",
         "pan"
        ],
        [
         "Zoom",
         "Zoom to rectangle\nx/y fixes axis, CTRL fixes aspect",
         "square-o",
         "zoom"
        ],
        [
         "Download",
         "Download plot",
         "floppy-o",
         "save_figure"
        ]
       ]
      }
     },
     "7a74140a04724e1caad9e42aac2c81ba": {
      "model_module": "@jupyter-widgets/controls",
      "model_module_version": "1.5.0",
      "model_name": "IntSliderModel",
      "state": {
       "continuous_update": false,
       "description": "Sampling (Hz)",
       "layout": "IPY_MODEL_a7f16e51ea4f41c6b039334f529ce3f9",
       "max": 20,
       "min": 2,
       "step": 2,
       "style": "IPY_MODEL_8b42493fa083467b9426998f15957a49",
       "value": 10
      }
     },
     "7a9119ec176c4a2881e3ad0d1d8fb66f": {
      "model_module": "@jupyter-widgets/base",
      "model_module_version": "1.2.0",
      "model_name": "LayoutModel",
      "state": {}
     },
     "7aaabd70b53943c7b3963bb326d723da": {
      "model_module": "@jupyter-widgets/output",
      "model_module_version": "1.0.0",
      "model_name": "OutputModel",
      "state": {
       "layout": "IPY_MODEL_97db154bb07241cda0577764bde18c48"
      }
     },
     "7ab6700b655043688b27c3d4734d0b99": {
      "model_module": "@jupyter-widgets/controls",
      "model_module_version": "1.5.0",
      "model_name": "SliderStyleModel",
      "state": {
       "description_width": "initial"
      }
     },
     "7abb07cdffda4992b2a0f9890e3ca4dd": {
      "model_module": "@jupyter-widgets/base",
      "model_module_version": "1.2.0",
      "model_name": "LayoutModel",
      "state": {}
     },
     "7b048e2e44e3448e9153b75286b8b325": {
      "model_module": "@jupyter-widgets/base",
      "model_module_version": "1.2.0",
      "model_name": "LayoutModel",
      "state": {}
     },
     "7b07e6492a964e9083dfddbfaf821f23": {
      "model_module": "@jupyter-widgets/base",
      "model_module_version": "1.2.0",
      "model_name": "LayoutModel",
      "state": {}
     },
     "7b10776d549c445aa77095192dc54f87": {
      "model_module": "@jupyter-widgets/base",
      "model_module_version": "1.2.0",
      "model_name": "LayoutModel",
      "state": {
       "flex_flow": "row wrap"
      }
     },
     "7b23c6871bca4affbffba374601242e8": {
      "model_module": "@jupyter-widgets/controls",
      "model_module_version": "1.5.0",
      "model_name": "IntSliderModel",
      "state": {
       "continuous_update": false,
       "description": "0-Padding",
       "layout": "IPY_MODEL_59a9b5f6160c44f39b9ec06f77da56da",
       "max": 500,
       "style": "IPY_MODEL_0b3bdcac961f490596abec9e4f7516e8"
      }
     },
     "7b2509b2597e4fbbb3175f0daf10261d": {
      "model_module": "@jupyter-widgets/controls",
      "model_module_version": "1.5.0",
      "model_name": "SliderStyleModel",
      "state": {
       "description_width": "initial"
      }
     },
     "7b5e7eadfa3440d5838206034676b307": {
      "model_module": "@jupyter-widgets/controls",
      "model_module_version": "1.5.0",
      "model_name": "SliderStyleModel",
      "state": {
       "description_width": "initial"
      }
     },
     "7b60004ced554866a80b50e56ac4bdd6": {
      "model_module": "@jupyter-widgets/controls",
      "model_module_version": "1.5.0",
      "model_name": "HBoxModel",
      "state": {
       "children": [
        "IPY_MODEL_391efee40095496893ca5645c4cbbda4",
        "IPY_MODEL_105ac69a1ca441f8b36986163d9ab99c"
       ],
       "layout": "IPY_MODEL_a6b60687d08a4e928eb38fc54464d55b"
      }
     },
     "7b67df3609034682aa9ef7e200cd8557": {
      "model_module": "@jupyter-widgets/controls",
      "model_module_version": "1.5.0",
      "model_name": "SliderStyleModel",
      "state": {
       "description_width": "initial"
      }
     },
     "7b7731f3d1e24fd0b94de3735b2f097b": {
      "model_module": "@jupyter-widgets/controls",
      "model_module_version": "1.5.0",
      "model_name": "SliderStyleModel",
      "state": {
       "description_width": "initial"
      }
     },
     "7b8232b48cd14b55ad854b2f55c794ec": {
      "model_module": "@jupyter-widgets/controls",
      "model_module_version": "1.5.0",
      "model_name": "IntSliderModel",
      "state": {
       "description": "Sampling (Hz)",
       "layout": "IPY_MODEL_34b32d95200d4818b6e6d21afb258ffc",
       "max": 12,
       "min": 2,
       "step": 2,
       "style": "IPY_MODEL_9a98def9a47445f389afb3b82ef6aabc",
       "value": 4
      }
     },
     "7b99a9fa9c9c45d3a45d021b956e9b20": {
      "model_module": "@jupyter-widgets/controls",
      "model_module_version": "1.5.0",
      "model_name": "VBoxModel",
      "state": {
       "_dom_classes": [
        "widget-interact"
       ],
       "children": [
        "IPY_MODEL_8016dd2d14f944e7863c765d0940b30c",
        "IPY_MODEL_ab585c35011e499d978073245c7cd453",
        "IPY_MODEL_076195bebbc24308b9db406defa36b24",
        "IPY_MODEL_096ed22e08104929ac05f4794922d242"
       ],
       "layout": "IPY_MODEL_edfc6adff6a04b1d8fdce0a98c11dfb5"
      }
     },
     "7ba08014608f4b29b6d938331d1167a0": {
      "model_module": "@jupyter-widgets/base",
      "model_module_version": "1.2.0",
      "model_name": "LayoutModel",
      "state": {}
     },
     "7ba98cf287e54d32ae35483bd2294a0d": {
      "model_module": "jupyter-matplotlib",
      "model_module_version": "^0.7.4",
      "model_name": "ToolbarModel",
      "state": {
       "layout": "IPY_MODEL_0ba4ef0fbc704c29ab085429376a428b",
       "toolitems": [
        [
         "Home",
         "Reset original view",
         "home",
         "home"
        ],
        [
         "Back",
         "Back to previous view",
         "arrow-left",
         "back"
        ],
        [
         "Forward",
         "Forward to next view",
         "arrow-right",
         "forward"
        ],
        [
         "Pan",
         "Left button pans, Right button zooms\nx/y fixes axis, CTRL fixes aspect",
         "arrows",
         "pan"
        ],
        [
         "Zoom",
         "Zoom to rectangle\nx/y fixes axis, CTRL fixes aspect",
         "square-o",
         "zoom"
        ],
        [
         "Download",
         "Download plot",
         "floppy-o",
         "save_figure"
        ]
       ]
      }
     },
     "7bb610e693724272bd36169e4705441b": {
      "model_module": "@jupyter-widgets/controls",
      "model_module_version": "1.5.0",
      "model_name": "IntSliderModel",
      "state": {
       "description": "Sampling (Hz)",
       "layout": "IPY_MODEL_6abe46e47b4b4a70bb8d40039ecd7fa8",
       "max": 12,
       "min": 2,
       "step": 2,
       "style": "IPY_MODEL_d63e4ea53542493daefcb673a6705774",
       "value": 6
      }
     },
     "7bbb5d8ffabc47b79cdfa0d536710ff3": {
      "model_module": "@jupyter-widgets/base",
      "model_module_version": "1.2.0",
      "model_name": "LayoutModel",
      "state": {}
     },
     "7be1ba403357407caa14977bbcfa6723": {
      "model_module": "jupyter-matplotlib",
      "model_module_version": "^0.7.4",
      "model_name": "ToolbarModel",
      "state": {
       "layout": "IPY_MODEL_05c952f7123948f995cafe5fd687e53d",
       "toolitems": [
        [
         "Home",
         "Reset original view",
         "home",
         "home"
        ],
        [
         "Back",
         "Back to previous view",
         "arrow-left",
         "back"
        ],
        [
         "Forward",
         "Forward to next view",
         "arrow-right",
         "forward"
        ],
        [
         "Pan",
         "Left button pans, Right button zooms\nx/y fixes axis, CTRL fixes aspect",
         "arrows",
         "pan"
        ],
        [
         "Zoom",
         "Zoom to rectangle\nx/y fixes axis, CTRL fixes aspect",
         "square-o",
         "zoom"
        ],
        [
         "Download",
         "Download plot",
         "floppy-o",
         "save_figure"
        ]
       ]
      }
     },
     "7c13d6b6f8e74ad68f762dbeb7e8921d": {
      "model_module": "@jupyter-widgets/controls",
      "model_module_version": "1.5.0",
      "model_name": "SliderStyleModel",
      "state": {
       "description_width": "initial"
      }
     },
     "7c15903764ea4edeaf0bf0626749a798": {
      "model_module": "@jupyter-widgets/controls",
      "model_module_version": "1.5.0",
      "model_name": "VBoxModel",
      "state": {
       "_dom_classes": [
        "widget-interact"
       ],
       "children": [
        "IPY_MODEL_4fec6b20e9ff43088714e022461354ef",
        "IPY_MODEL_e7703bbe82194f64bd218aa7b94a5405",
        "IPY_MODEL_e86d1398e50a49d58f22e4f550eb000b",
        "IPY_MODEL_b31fb0a5a6324bf4a2982f2a15da0a5c"
       ],
       "layout": "IPY_MODEL_c06a48bd6fc24a2ca1e48d8865c3807f"
      }
     },
     "7c23571038224847b47c5948fb874d63": {
      "model_module": "@jupyter-widgets/base",
      "model_module_version": "1.2.0",
      "model_name": "LayoutModel",
      "state": {}
     },
     "7c2d299d2d964b04a7aab0f561292954": {
      "model_module": "@jupyter-widgets/controls",
      "model_module_version": "1.5.0",
      "model_name": "SliderStyleModel",
      "state": {
       "description_width": "initial"
      }
     },
     "7c6f6c01cfbd4ef0b2c77f0a136981db": {
      "model_module": "@jupyter-widgets/controls",
      "model_module_version": "1.5.0",
      "model_name": "SliderStyleModel",
      "state": {
       "description_width": "initial"
      }
     },
     "7c797bcfe916443c8034bf8b7dd4726f": {
      "model_module": "@jupyter-widgets/base",
      "model_module_version": "1.2.0",
      "model_name": "LayoutModel",
      "state": {}
     },
     "7c97435744a64215bf7b3ecae445b742": {
      "model_module": "@jupyter-widgets/base",
      "model_module_version": "1.2.0",
      "model_name": "LayoutModel",
      "state": {}
     },
     "7d5bae1351e14a4ba33693ba25d81ca4": {
      "model_module": "@jupyter-widgets/base",
      "model_module_version": "1.2.0",
      "model_name": "LayoutModel",
      "state": {}
     },
     "7d907006e78843108e9cd150e70f76bd": {
      "model_module": "@jupyter-widgets/controls",
      "model_module_version": "1.5.0",
      "model_name": "VBoxModel",
      "state": {
       "_dom_classes": [
        "widget-interact"
       ],
       "children": [
        "IPY_MODEL_b0ef9885e631448288c41b5a4c76a777",
        "IPY_MODEL_9836912a4e9b4b3198af30f2136d0f12",
        "IPY_MODEL_039cc2099fe043afbd76d791a5388764",
        "IPY_MODEL_5f27da1e7ed94941b59c062922ea903a"
       ],
       "layout": "IPY_MODEL_83ecd7f6df034fff98451e1a8718711a"
      }
     },
     "7d9b5b76e43b4bc69a076e3f53daf5bb": {
      "model_module": "@jupyter-widgets/controls",
      "model_module_version": "1.5.0",
      "model_name": "IntSliderModel",
      "state": {
       "continuous_update": false,
       "description": "Sampling (Hz)",
       "layout": "IPY_MODEL_40354e6d6c7448e5ac1bc26a598f08f7",
       "max": 20,
       "min": 2,
       "step": 2,
       "style": "IPY_MODEL_3bc29131aa4b43cb8a48bd34cfbf6715",
       "value": 4
      }
     },
     "7dad9a75f2cf47e7bebf3428f5410bf2": {
      "model_module": "@jupyter-widgets/base",
      "model_module_version": "1.2.0",
      "model_name": "LayoutModel",
      "state": {}
     },
     "7dd031455c5941cc865ec19a3fcccca3": {
      "model_module": "jupyter-matplotlib",
      "model_module_version": "^0.7.4",
      "model_name": "ToolbarModel",
      "state": {
       "layout": "IPY_MODEL_c754fc1fd5e843ecaea389435f2858c2",
       "toolitems": [
        [
         "Home",
         "Reset original view",
         "home",
         "home"
        ],
        [
         "Back",
         "Back to previous view",
         "arrow-left",
         "back"
        ],
        [
         "Forward",
         "Forward to next view",
         "arrow-right",
         "forward"
        ],
        [
         "Pan",
         "Left button pans, Right button zooms\nx/y fixes axis, CTRL fixes aspect",
         "arrows",
         "pan"
        ],
        [
         "Zoom",
         "Zoom to rectangle\nx/y fixes axis, CTRL fixes aspect",
         "square-o",
         "zoom"
        ],
        [
         "Download",
         "Download plot",
         "floppy-o",
         "save_figure"
        ]
       ]
      }
     },
     "7e1237923c064223be3cf64b5901c4a7": {
      "model_module": "@jupyter-widgets/controls",
      "model_module_version": "1.5.0",
      "model_name": "HBoxModel",
      "state": {
       "children": [
        "IPY_MODEL_8b184da3579f47e4b9497bf9106f6426",
        "IPY_MODEL_1e3eeabf65c949c08ac90ee9e896f458"
       ],
       "layout": "IPY_MODEL_d9f35c5381f44b8f9c8be2bfd850a703"
      }
     },
     "7e4f7bafe11441c797b21bc7573130a4": {
      "model_module": "@jupyter-widgets/controls",
      "model_module_version": "1.5.0",
      "model_name": "SliderStyleModel",
      "state": {
       "description_width": "initial"
      }
     },
     "7e5d0a40f1ac429ea3c33ca951a90fe3": {
      "model_module": "@jupyter-widgets/base",
      "model_module_version": "1.2.0",
      "model_name": "LayoutModel",
      "state": {}
     },
     "7e5deb64361a49e08e3eb59ed86358eb": {
      "model_module": "@jupyter-widgets/controls",
      "model_module_version": "1.5.0",
      "model_name": "IntSliderModel",
      "state": {
       "description": "0-Padding",
       "layout": "IPY_MODEL_eadb06b190a84884bb04587f9e4e4484",
       "max": 1080,
       "step": 36,
       "style": "IPY_MODEL_a93053b77d314ef0944331bd1560d05a",
       "value": 396
      }
     },
     "7e678804d04d4eb3b55345fa5afb396e": {
      "model_module": "@jupyter-widgets/controls",
      "model_module_version": "1.5.0",
      "model_name": "IntSliderModel",
      "state": {
       "description": "Sampling (Hz)",
       "layout": "IPY_MODEL_b843e46bf5cf4366bc0b98e9d278838b",
       "max": 12,
       "min": 2,
       "step": 2,
       "style": "IPY_MODEL_118725db49c4442f8976315384fde5db",
       "value": 6
      }
     },
     "7e89bb5ef01a40f88e88831738f56bf2": {
      "model_module": "@jupyter-widgets/base",
      "model_module_version": "1.2.0",
      "model_name": "LayoutModel",
      "state": {}
     },
     "7e8a6f2cfc004c3292c8bb96626c6349": {
      "model_module": "@jupyter-widgets/controls",
      "model_module_version": "1.5.0",
      "model_name": "SliderStyleModel",
      "state": {
       "description_width": "initial"
      }
     },
     "7ec2708e929e4537abe71e43999a0592": {
      "model_module": "@jupyter-widgets/controls",
      "model_module_version": "1.5.0",
      "model_name": "SliderStyleModel",
      "state": {
       "description_width": "initial"
      }
     },
     "7ed0b476d21848c0961ab6bee465ab83": {
      "model_module": "@jupyter-widgets/base",
      "model_module_version": "1.2.0",
      "model_name": "LayoutModel",
      "state": {}
     },
     "7ed909c2ea78406892eeb5d432f53e75": {
      "model_module": "@jupyter-widgets/controls",
      "model_module_version": "1.5.0",
      "model_name": "VBoxModel",
      "state": {
       "_dom_classes": [
        "widget-interact"
       ],
       "children": [
        "IPY_MODEL_5a5b5ee484a143f598bc307731694eae",
        "IPY_MODEL_0271254a7a5e41238bb40a46d52b67af",
        "IPY_MODEL_27af4299431a433bb2a0e420031d60e5",
        "IPY_MODEL_ebbad18a07ea4ed19394d5ff88c71ef9"
       ],
       "layout": "IPY_MODEL_0ebe73eb983c48e0a091edd04cbaf011"
      }
     },
     "7ee4fa6870d64971a6db40d9e62884bf": {
      "model_module": "@jupyter-widgets/output",
      "model_module_version": "1.0.0",
      "model_name": "OutputModel",
      "state": {
       "layout": "IPY_MODEL_6cce5c93d8184054b2012b2981b187f1"
      }
     },
     "7eeab54de3f640d8815fabbfcde7f4bb": {
      "model_module": "@jupyter-widgets/base",
      "model_module_version": "1.2.0",
      "model_name": "LayoutModel",
      "state": {}
     },
     "7eefde7150354843ab6fd65d555d5b38": {
      "model_module": "@jupyter-widgets/base",
      "model_module_version": "1.2.0",
      "model_name": "LayoutModel",
      "state": {}
     },
     "7ef7ac3f2ad243c7a6dd689d695e1482": {
      "model_module": "@jupyter-widgets/base",
      "model_module_version": "1.2.0",
      "model_name": "LayoutModel",
      "state": {}
     },
     "7f868fad361846998d8704a7ccf0b5dc": {
      "model_module": "@jupyter-widgets/controls",
      "model_module_version": "1.5.0",
      "model_name": "HBoxModel",
      "state": {
       "children": [
        "IPY_MODEL_5a5b5ee484a143f598bc307731694eae",
        "IPY_MODEL_0271254a7a5e41238bb40a46d52b67af",
        "IPY_MODEL_27af4299431a433bb2a0e420031d60e5"
       ],
       "layout": "IPY_MODEL_984a8e1218cf4e908ddc19f6e100c293"
      }
     },
     "7fc9085fd2c04d8c8e3f5c27a8ec0c53": {
      "model_module": "@jupyter-widgets/base",
      "model_module_version": "1.2.0",
      "model_name": "LayoutModel",
      "state": {}
     },
     "7fd2b12b9ce141bb87804b7eaaf57b65": {
      "model_module": "@jupyter-widgets/controls",
      "model_module_version": "1.5.0",
      "model_name": "VBoxModel",
      "state": {
       "_dom_classes": [
        "widget-interact"
       ],
       "children": [
        "IPY_MODEL_d62fb2b202234b449d52597e24ebaf2c",
        "IPY_MODEL_57541f74204447d79933e412e6f38330",
        "IPY_MODEL_58499a9f1a4c4c499105f399655e9857",
        "IPY_MODEL_e273d938ee74426784e49dcdfc490d63"
       ],
       "layout": "IPY_MODEL_57dd263f258e49f98326c36712ba2656"
      }
     },
     "7fd6ff57ef804361a09da23d941c9784": {
      "model_module": "@jupyter-widgets/base",
      "model_module_version": "1.2.0",
      "model_name": "LayoutModel",
      "state": {}
     },
     "7ffc12e881024bb1ba8655df255881a7": {
      "model_module": "@jupyter-widgets/controls",
      "model_module_version": "1.5.0",
      "model_name": "IntSliderModel",
      "state": {
       "continuous_update": false,
       "description": "Sampling (Hz)",
       "layout": "IPY_MODEL_39f2b342965b4500b3887056668b0e2c",
       "max": 12,
       "min": 2,
       "step": 2,
       "style": "IPY_MODEL_af029fdd04f94ff78b93e57c76755115",
       "value": 4
      }
     },
     "7fff370d84394443b69fab4e8d05cb19": {
      "model_module": "@jupyter-widgets/base",
      "model_module_version": "1.2.0",
      "model_name": "LayoutModel",
      "state": {}
     },
     "8001a201fdc04a6892db07e7d9b30bcf": {
      "model_module": "@jupyter-widgets/output",
      "model_module_version": "1.0.0",
      "model_name": "OutputModel",
      "state": {
       "layout": "IPY_MODEL_d102b82ebadd4d03b3926acb5b9477bf",
       "outputs": [
        {
         "data": {
          "application/vnd.jupyter.widget-view+json": {
           "model_id": "9fc0a2e7381d4fdc8a6d49a7d04882e8",
           "version_major": 2,
           "version_minor": 0
          },
          "text/plain": "Canvas(toolbar=Toolbar(toolitems=[('Home', 'Reset original view', 'home', 'home'), ('Back', 'Back to previous …"
         },
         "metadata": {},
         "output_type": "display_data"
        }
       ]
      }
     },
     "80167479abcb42439381c1cd7ba63953": {
      "model_module": "@jupyter-widgets/controls",
      "model_module_version": "1.5.0",
      "model_name": "VBoxModel",
      "state": {
       "_dom_classes": [
        "widget-interact"
       ],
       "children": [
        "IPY_MODEL_3c2557be851242cf87d0fa3a7d73e10c",
        "IPY_MODEL_e361057775af48fa848015379a61dc49",
        "IPY_MODEL_60086e0dbee94ad58dc1586add484a16",
        "IPY_MODEL_8385201f766e4c71ab8da869cd46172e"
       ],
       "layout": "IPY_MODEL_5301f45b4b4a493993b4e8abd1d3a069"
      }
     },
     "8016dd2d14f944e7863c765d0940b30c": {
      "model_module": "@jupyter-widgets/controls",
      "model_module_version": "1.5.0",
      "model_name": "IntSliderModel",
      "state": {
       "continuous_update": false,
       "description": "Periods",
       "layout": "IPY_MODEL_ed0055f07b504240863c5a543fb121f3",
       "max": 50,
       "min": 1,
       "style": "IPY_MODEL_1498c72bd33544d4b7ba9d656aac9dbe",
       "value": 2
      }
     },
     "801e1b8173454965955ce13222f78a6e": {
      "model_module": "@jupyter-widgets/base",
      "model_module_version": "1.2.0",
      "model_name": "LayoutModel",
      "state": {}
     },
     "80302bf829394c1aa556fe58eb2a6632": {
      "model_module": "@jupyter-widgets/controls",
      "model_module_version": "1.5.0",
      "model_name": "IntSliderModel",
      "state": {
       "continuous_update": false,
       "description": "Sampling (Hz)",
       "layout": "IPY_MODEL_b75d55e3da224f43aa21d232d3e57f8d",
       "max": 12,
       "min": 2,
       "step": 2,
       "style": "IPY_MODEL_353c53c442a0440e9b0afb03e7f183da",
       "value": 4
      }
     },
     "8035f4326976445aaf928cdd67feeaea": {
      "model_module": "@jupyter-widgets/base",
      "model_module_version": "1.2.0",
      "model_name": "LayoutModel",
      "state": {}
     },
     "803bf2652ea146c0b8dac6168badeb48": {
      "model_module": "@jupyter-widgets/base",
      "model_module_version": "1.2.0",
      "model_name": "LayoutModel",
      "state": {}
     },
     "8040751b49b24a7db68198e9e298f33c": {
      "model_module": "@jupyter-widgets/controls",
      "model_module_version": "1.5.0",
      "model_name": "SliderStyleModel",
      "state": {
       "description_width": "initial"
      }
     },
     "806aee08b7f74924bb9c11d9055d1750": {
      "model_module": "@jupyter-widgets/controls",
      "model_module_version": "1.5.0",
      "model_name": "SliderStyleModel",
      "state": {
       "description_width": "initial"
      }
     },
     "807618117fc34623bb76082f3c77e7cc": {
      "model_module": "@jupyter-widgets/output",
      "model_module_version": "1.0.0",
      "model_name": "OutputModel",
      "state": {
       "layout": "IPY_MODEL_ceae0101bd1c414388c1bfa28a6d22f7"
      }
     },
     "8087ae08a56b41df846425620d50348e": {
      "model_module": "@jupyter-widgets/output",
      "model_module_version": "1.0.0",
      "model_name": "OutputModel",
      "state": {
       "layout": "IPY_MODEL_cb331a4094654788a5349a92371b27aa"
      }
     },
     "808af03be28a4852bc0a0886a4cbab51": {
      "model_module": "@jupyter-widgets/base",
      "model_module_version": "1.2.0",
      "model_name": "LayoutModel",
      "state": {}
     },
     "80958ef280734c7698878ca2fd413187": {
      "model_module": "jupyter-matplotlib",
      "model_module_version": "^0.7.4",
      "model_name": "ToolbarModel",
      "state": {
       "layout": "IPY_MODEL_1d3ab12f19b948ec8fef9b82b0df0006",
       "toolitems": [
        [
         "Home",
         "Reset original view",
         "home",
         "home"
        ],
        [
         "Back",
         "Back to previous view",
         "arrow-left",
         "back"
        ],
        [
         "Forward",
         "Forward to next view",
         "arrow-right",
         "forward"
        ],
        [
         "Pan",
         "Left button pans, Right button zooms\nx/y fixes axis, CTRL fixes aspect",
         "arrows",
         "pan"
        ],
        [
         "Zoom",
         "Zoom to rectangle\nx/y fixes axis, CTRL fixes aspect",
         "square-o",
         "zoom"
        ],
        [
         "Download",
         "Download plot",
         "floppy-o",
         "save_figure"
        ]
       ]
      }
     },
     "80b4983181cb41329d8b65c8a8f33773": {
      "model_module": "@jupyter-widgets/controls",
      "model_module_version": "1.5.0",
      "model_name": "IntSliderModel",
      "state": {
       "continuous_update": false,
       "description": "Periods",
       "layout": "IPY_MODEL_423e4db052ca49edb7926915db51840f",
       "max": 50,
       "min": 1,
       "style": "IPY_MODEL_36d42f220cfb469eb157e655240ae445",
       "value": 4
      }
     },
     "80be54b46b8f4c5fa2a40cb695339f7b": {
      "model_module": "@jupyter-widgets/controls",
      "model_module_version": "1.5.0",
      "model_name": "IntSliderModel",
      "state": {
       "continuous_update": false,
       "description": "Periods",
       "layout": "IPY_MODEL_09e4c5cbe5d04a1c9706a56447a9d654",
       "max": 50,
       "min": 1,
       "style": "IPY_MODEL_8592be0b520c4799a3bda4f3f30507ab",
       "value": 2
      }
     },
     "80c72c8d5fee462d9da6147bf21ed741": {
      "model_module": "@jupyter-widgets/base",
      "model_module_version": "1.2.0",
      "model_name": "LayoutModel",
      "state": {}
     },
     "80d4549342844361ba2be43e54278fb0": {
      "model_module": "@jupyter-widgets/base",
      "model_module_version": "1.2.0",
      "model_name": "LayoutModel",
      "state": {}
     },
     "80e43a6cb80f4e99b81cb094d1c56d2c": {
      "model_module": "@jupyter-widgets/controls",
      "model_module_version": "1.5.0",
      "model_name": "SliderStyleModel",
      "state": {
       "description_width": "initial"
      }
     },
     "80f2e0d3bdb04c7393923c0a6c627ddc": {
      "model_module": "@jupyter-widgets/controls",
      "model_module_version": "1.5.0",
      "model_name": "VBoxModel",
      "state": {
       "_dom_classes": [
        "widget-interact"
       ],
       "children": [
        "IPY_MODEL_048d2dd4d871418b95365725dfcecf8c",
        "IPY_MODEL_e9b23766243b4b80868a9bc064d29283",
        "IPY_MODEL_d4b03ef24dac4eefbaf2f2a1b7666852",
        "IPY_MODEL_b29411d193c9452db39b1434c366afb9"
       ],
       "layout": "IPY_MODEL_14b6bc21478e48f892f0c74f1c52a1ad"
      }
     },
     "8145916934d64250be1691fcb7a1ab41": {
      "model_module": "@jupyter-widgets/controls",
      "model_module_version": "1.5.0",
      "model_name": "IntSliderModel",
      "state": {
       "continuous_update": false,
       "description": "Sampling (Hz)",
       "layout": "IPY_MODEL_b7633204b6774fdcad49cd6ba9ade986",
       "max": 20,
       "min": 2,
       "step": 2,
       "style": "IPY_MODEL_4150c2b0a46f49ffbd107fced6181e1b",
       "value": 4
      }
     },
     "814ddbaadffd4a1c9ee7229ce8f4a199": {
      "model_module": "@jupyter-widgets/base",
      "model_module_version": "1.2.0",
      "model_name": "LayoutModel",
      "state": {}
     },
     "81527624a3fc42a68f088e557b724332": {
      "model_module": "@jupyter-widgets/controls",
      "model_module_version": "1.5.0",
      "model_name": "SliderStyleModel",
      "state": {
       "description_width": "initial"
      }
     },
     "8169209dc0e447f5a04bce4ec049cda9": {
      "model_module": "@jupyter-widgets/output",
      "model_module_version": "1.0.0",
      "model_name": "OutputModel",
      "state": {
       "layout": "IPY_MODEL_61a2f7ac746a4485bd93a7aed9130932",
       "outputs": [
        {
         "data": {
          "text/plain": "<Figure size 432x288 with 0 Axes>"
         },
         "metadata": {},
         "output_type": "display_data"
        }
       ]
      }
     },
     "81762b3e6ff54e098868b994708f55b9": {
      "model_module": "@jupyter-widgets/base",
      "model_module_version": "1.2.0",
      "model_name": "LayoutModel",
      "state": {}
     },
     "818644e142274b3cbff047cea778c4e9": {
      "model_module": "@jupyter-widgets/base",
      "model_module_version": "1.2.0",
      "model_name": "LayoutModel",
      "state": {}
     },
     "81a588a0578342a9a2e3827bc2aebeff": {
      "model_module": "@jupyter-widgets/controls",
      "model_module_version": "1.5.0",
      "model_name": "VBoxModel",
      "state": {
       "_dom_classes": [
        "widget-interact"
       ],
       "children": [
        "IPY_MODEL_db108faa299f4231ac57d6560a73cd14",
        "IPY_MODEL_172e9ba81ff44059b2e40fa88a6f4d63",
        "IPY_MODEL_7e5deb64361a49e08e3eb59ed86358eb",
        "IPY_MODEL_c4248da6902748b78671675dc2c99aa1"
       ],
       "layout": "IPY_MODEL_210b29714838417b961e9d24d027d014"
      }
     },
     "81c811e9c7394512b0b2033084c15e41": {
      "model_module": "@jupyter-widgets/controls",
      "model_module_version": "1.5.0",
      "model_name": "SliderStyleModel",
      "state": {
       "description_width": "initial"
      }
     },
     "81deab0f49c1444095dbaf28479a233c": {
      "model_module": "@jupyter-widgets/base",
      "model_module_version": "1.2.0",
      "model_name": "LayoutModel",
      "state": {}
     },
     "81e1d7b3dd594667ad29f00f2d8a4dd4": {
      "model_module": "@jupyter-widgets/output",
      "model_module_version": "1.0.0",
      "model_name": "OutputModel",
      "state": {
       "layout": "IPY_MODEL_619bdef3babf4b55bece609c6241c333"
      }
     },
     "81e724b2500f4aa6808cb23f22eed93f": {
      "model_module": "@jupyter-widgets/base",
      "model_module_version": "1.2.0",
      "model_name": "LayoutModel",
      "state": {}
     },
     "81eaa8607ef5437c94165bf8e87cb316": {
      "model_module": "@jupyter-widgets/base",
      "model_module_version": "1.2.0",
      "model_name": "LayoutModel",
      "state": {}
     },
     "81f8dda760e34373b28a30c3151f07a1": {
      "model_module": "@jupyter-widgets/output",
      "model_module_version": "1.0.0",
      "model_name": "OutputModel",
      "state": {
       "layout": "IPY_MODEL_ca8c9f2ff476424a9d8a5a57e1e6e240",
       "outputs": [
        {
         "data": {
          "application/vnd.jupyter.widget-view+json": {
           "model_id": "b5ddfb9b126c434ebd30899ea62c9dc2",
           "version_major": 2,
           "version_minor": 0
          },
          "text/plain": "Canvas(toolbar=Toolbar(toolitems=[('Home', 'Reset original view', 'home', 'home'), ('Back', 'Back to previous …"
         },
         "metadata": {},
         "output_type": "display_data"
        }
       ]
      }
     },
     "820ac2ae43434ceab87631bce9c7735f": {
      "model_module": "@jupyter-widgets/base",
      "model_module_version": "1.2.0",
      "model_name": "LayoutModel",
      "state": {}
     },
     "8225d35e9cb841d0aeef4c788e6fb732": {
      "model_module": "@jupyter-widgets/controls",
      "model_module_version": "1.5.0",
      "model_name": "IntSliderModel",
      "state": {
       "continuous_update": false,
       "description": "0-Padding",
       "layout": "IPY_MODEL_f854f53499ea4e7abca830a85781d562",
       "max": 500,
       "style": "IPY_MODEL_83eccf67dbdf468c9673e191787e0bf8"
      }
     },
     "8247c610547847d597d0a7d885a819d2": {
      "model_module": "@jupyter-widgets/controls",
      "model_module_version": "1.5.0",
      "model_name": "VBoxModel",
      "state": {
       "_dom_classes": [
        "widget-interact"
       ],
       "children": [
        "IPY_MODEL_b11f9319ab714fc7adf7fe44df433dc2",
        "IPY_MODEL_7839f0ff4a5d46f99036b579551fb077",
        "IPY_MODEL_92d4690802b343a292b62672de96992c",
        "IPY_MODEL_395301f09a694fb4ada440ed85bd046e"
       ],
       "layout": "IPY_MODEL_a7591526fdb5421e87c10ed312ca057d"
      }
     },
     "82ed5d0b8bec4d1c84572e1d3ed1f31a": {
      "model_module": "@jupyter-widgets/base",
      "model_module_version": "1.2.0",
      "model_name": "LayoutModel",
      "state": {}
     },
     "82ee6d157303457dac2837d4b87b604c": {
      "model_module": "@jupyter-widgets/controls",
      "model_module_version": "1.5.0",
      "model_name": "IntSliderModel",
      "state": {
       "continuous_update": false,
       "description": "Periods",
       "layout": "IPY_MODEL_565685b0448943399aef28e73920d658",
       "max": 50,
       "min": 1,
       "style": "IPY_MODEL_c6c45a87af984ee581f9de2d2f440a5e",
       "value": 2
      }
     },
     "8350105964d04e4983dc745185b09f9e": {
      "model_module": "@jupyter-widgets/base",
      "model_module_version": "1.2.0",
      "model_name": "LayoutModel",
      "state": {}
     },
     "835533a68ca74bada422e38e667123ad": {
      "model_module": "@jupyter-widgets/controls",
      "model_module_version": "1.5.0",
      "model_name": "IntSliderModel",
      "state": {
       "continuous_update": false,
       "description": "0-Padding",
       "layout": "IPY_MODEL_c5b6452dc9fc4a7c9584012f243343d5",
       "max": 500,
       "style": "IPY_MODEL_5f57d152c30243eea2808247d14e6d41"
      }
     },
     "8385201f766e4c71ab8da869cd46172e": {
      "model_module": "@jupyter-widgets/output",
      "model_module_version": "1.0.0",
      "model_name": "OutputModel",
      "state": {
       "layout": "IPY_MODEL_c82c5efc8c8d488c9c7eda739cfcc29b"
      }
     },
     "8385c0be605b4e029aad347ee05859bb": {
      "model_module": "@jupyter-widgets/controls",
      "model_module_version": "1.5.0",
      "model_name": "SliderStyleModel",
      "state": {
       "description_width": "initial"
      }
     },
     "83988b0191ba40448cb79e4db2ba8d4b": {
      "model_module": "@jupyter-widgets/controls",
      "model_module_version": "1.5.0",
      "model_name": "SliderStyleModel",
      "state": {
       "description_width": "initial"
      }
     },
     "83c59638060a47dd9c7d1f96b676c15e": {
      "model_module": "@jupyter-widgets/base",
      "model_module_version": "1.2.0",
      "model_name": "LayoutModel",
      "state": {}
     },
     "83da9457011b4a2f86489489512e2e22": {
      "model_module": "@jupyter-widgets/controls",
      "model_module_version": "1.5.0",
      "model_name": "IntSliderModel",
      "state": {
       "continuous_update": false,
       "description": "0-Padding",
       "layout": "IPY_MODEL_e7c990233d6a4c23b5e521c21ce695f7",
       "max": 500,
       "style": "IPY_MODEL_1973b80a139c4d059373915fcbe3492f"
      }
     },
     "83e24d9fbecf4262981d5ca2ec4d5eb7": {
      "model_module": "@jupyter-widgets/base",
      "model_module_version": "1.2.0",
      "model_name": "LayoutModel",
      "state": {}
     },
     "83ea8f8d979f47d0a964c42a4bd09eb5": {
      "model_module": "jupyter-matplotlib",
      "model_module_version": "^0.7.4",
      "model_name": "ToolbarModel",
      "state": {
       "layout": "IPY_MODEL_84c5b030ce9648ca8bc09cefcc55acbf",
       "toolitems": [
        [
         "Home",
         "Reset original view",
         "home",
         "home"
        ],
        [
         "Back",
         "Back to previous view",
         "arrow-left",
         "back"
        ],
        [
         "Forward",
         "Forward to next view",
         "arrow-right",
         "forward"
        ],
        [
         "Pan",
         "Left button pans, Right button zooms\nx/y fixes axis, CTRL fixes aspect",
         "arrows",
         "pan"
        ],
        [
         "Zoom",
         "Zoom to rectangle\nx/y fixes axis, CTRL fixes aspect",
         "square-o",
         "zoom"
        ],
        [
         "Download",
         "Download plot",
         "floppy-o",
         "save_figure"
        ]
       ]
      }
     },
     "83eccf67dbdf468c9673e191787e0bf8": {
      "model_module": "@jupyter-widgets/controls",
      "model_module_version": "1.5.0",
      "model_name": "SliderStyleModel",
      "state": {
       "description_width": "initial"
      }
     },
     "83ecd7f6df034fff98451e1a8718711a": {
      "model_module": "@jupyter-widgets/base",
      "model_module_version": "1.2.0",
      "model_name": "LayoutModel",
      "state": {}
     },
     "841469a64cfc4b68b55f36d331ae3fe6": {
      "model_module": "@jupyter-widgets/controls",
      "model_module_version": "1.5.0",
      "model_name": "VBoxModel",
      "state": {
       "_dom_classes": [
        "widget-interact"
       ],
       "children": [
        "IPY_MODEL_0e2de83729a34e3aba0b712406a376ee",
        "IPY_MODEL_bbc6d78858ef4e869d26b002585da23a",
        "IPY_MODEL_aba20f4ee541488ba2ab9f17022d47c3",
        "IPY_MODEL_0393aef2fc324ba1bff67d4a2ce6cbb6"
       ],
       "layout": "IPY_MODEL_ffbaee0a30db44d2928544601c637bbc"
      }
     },
     "842bb34df93245279eeba03458b6cad0": {
      "model_module": "jupyter-matplotlib",
      "model_module_version": "^0.7.4",
      "model_name": "ToolbarModel",
      "state": {
       "layout": "IPY_MODEL_18811ae36b9e43aab1213e54cc981afb",
       "toolitems": [
        [
         "Home",
         "Reset original view",
         "home",
         "home"
        ],
        [
         "Back",
         "Back to previous view",
         "arrow-left",
         "back"
        ],
        [
         "Forward",
         "Forward to next view",
         "arrow-right",
         "forward"
        ],
        [
         "Pan",
         "Left button pans, Right button zooms\nx/y fixes axis, CTRL fixes aspect",
         "arrows",
         "pan"
        ],
        [
         "Zoom",
         "Zoom to rectangle\nx/y fixes axis, CTRL fixes aspect",
         "square-o",
         "zoom"
        ],
        [
         "Download",
         "Download plot",
         "floppy-o",
         "save_figure"
        ]
       ]
      }
     },
     "84375891bf674050bf5b01cb61d836c9": {
      "model_module": "@jupyter-widgets/controls",
      "model_module_version": "1.5.0",
      "model_name": "SliderStyleModel",
      "state": {
       "description_width": "initial"
      }
     },
     "843c9de1be714724b3db3be1cdb67aa7": {
      "model_module": "@jupyter-widgets/controls",
      "model_module_version": "1.5.0",
      "model_name": "SliderStyleModel",
      "state": {
       "description_width": "initial"
      }
     },
     "844ab1ddcd344e788655570aea7f8133": {
      "model_module": "@jupyter-widgets/output",
      "model_module_version": "1.0.0",
      "model_name": "OutputModel",
      "state": {
       "layout": "IPY_MODEL_f9d0b62efdb34e9b9cd728d2863fd711",
       "outputs": [
        {
         "data": {
          "application/vnd.jupyter.widget-view+json": {
           "model_id": "0dde748aa5264baeab3f25266394312a",
           "version_major": 2,
           "version_minor": 0
          },
          "text/plain": "Canvas(toolbar=Toolbar(toolitems=[('Home', 'Reset original view', 'home', 'home'), ('Back', 'Back to previous …"
         },
         "metadata": {},
         "output_type": "display_data"
        }
       ]
      }
     },
     "8467cfdd2270428884ef45cf9d3ea1e0": {
      "model_module": "@jupyter-widgets/base",
      "model_module_version": "1.2.0",
      "model_name": "LayoutModel",
      "state": {}
     },
     "84734ca847f348839645c2f6cfd0b945": {
      "model_module": "@jupyter-widgets/controls",
      "model_module_version": "1.5.0",
      "model_name": "HBoxModel",
      "state": {
       "children": [
        "IPY_MODEL_e44269f1d4b449598f938f2203af17f8",
        "IPY_MODEL_f079a899ff764a588cf6d28fe3a63bc0"
       ],
       "layout": "IPY_MODEL_f128f16fdc7c47c7ad48c25d2e9c03a0"
      }
     },
     "84b7d9a401f7442c877a957eafa66ef6": {
      "model_module": "@jupyter-widgets/controls",
      "model_module_version": "1.5.0",
      "model_name": "HBoxModel",
      "state": {
       "children": [
        "IPY_MODEL_65330032f6584bf7b2ae732d65be7561",
        "IPY_MODEL_5891902f0eac48eab3fb30013bee054e"
       ],
       "layout": "IPY_MODEL_a9db92254ba946cf82fbac0b37f88391"
      }
     },
     "84ba7a0fa7e24aebac87389a49eb3e36": {
      "model_module": "@jupyter-widgets/controls",
      "model_module_version": "1.5.0",
      "model_name": "SliderStyleModel",
      "state": {
       "description_width": "initial"
      }
     },
     "84c5b030ce9648ca8bc09cefcc55acbf": {
      "model_module": "@jupyter-widgets/base",
      "model_module_version": "1.2.0",
      "model_name": "LayoutModel",
      "state": {}
     },
     "850a7ae5aef1487883135d9129c1031d": {
      "model_module": "@jupyter-widgets/base",
      "model_module_version": "1.2.0",
      "model_name": "LayoutModel",
      "state": {}
     },
     "851c2be0ed6045428d2c2e48b62ee62d": {
      "model_module": "@jupyter-widgets/controls",
      "model_module_version": "1.5.0",
      "model_name": "IntSliderModel",
      "state": {
       "continuous_update": false,
       "description": "Periods",
       "layout": "IPY_MODEL_f433b9692c9247aca54a84a7c478098a",
       "max": 50,
       "min": 1,
       "style": "IPY_MODEL_dbd1a08d87ff4f5c9b6dc6f140dfd0d3",
       "value": 37
      }
     },
     "85481860a3024328b77c79c1b5b61d3d": {
      "model_module": "@jupyter-widgets/base",
      "model_module_version": "1.2.0",
      "model_name": "LayoutModel",
      "state": {}
     },
     "85842d674ce844cdbd3b82e60b6a7934": {
      "model_module": "@jupyter-widgets/output",
      "model_module_version": "1.0.0",
      "model_name": "OutputModel",
      "state": {
       "layout": "IPY_MODEL_9a9548ff3ebe4765a0e335dd4c72cc2b"
      }
     },
     "8592be0b520c4799a3bda4f3f30507ab": {
      "model_module": "@jupyter-widgets/controls",
      "model_module_version": "1.5.0",
      "model_name": "SliderStyleModel",
      "state": {
       "description_width": "initial"
      }
     },
     "85a0f14434144487ad61d190c36e7cbd": {
      "model_module": "@jupyter-widgets/controls",
      "model_module_version": "1.5.0",
      "model_name": "SliderStyleModel",
      "state": {
       "description_width": "initial"
      }
     },
     "85a9cd330fad46e1aafe2e12b60e3666": {
      "model_module": "@jupyter-widgets/base",
      "model_module_version": "1.2.0",
      "model_name": "LayoutModel",
      "state": {}
     },
     "85e5a3d800b74489bc76b70d2df7fbf1": {
      "model_module": "@jupyter-widgets/base",
      "model_module_version": "1.2.0",
      "model_name": "LayoutModel",
      "state": {}
     },
     "85fec4d9bc2d4a1b9b72959af12c474a": {
      "model_module": "@jupyter-widgets/base",
      "model_module_version": "1.2.0",
      "model_name": "LayoutModel",
      "state": {
       "flex_flow": "row wrap"
      }
     },
     "860a1c0953aa42608c8a7f4c3667b191": {
      "model_module": "@jupyter-widgets/controls",
      "model_module_version": "1.5.0",
      "model_name": "VBoxModel",
      "state": {
       "children": [
        "IPY_MODEL_d8536f9444bd44eca5c6351eb34c3250",
        "IPY_MODEL_f5440c39c7e5467b8e5016cd7d05d66e",
        "IPY_MODEL_3e01d5bc5fa941098add163305041a1c"
       ],
       "layout": "IPY_MODEL_a28a5b4260724a82a3f66914cc5a741c"
      }
     },
     "8624e5350e40413c9871c4de3bcd887f": {
      "model_module": "@jupyter-widgets/controls",
      "model_module_version": "1.5.0",
      "model_name": "SliderStyleModel",
      "state": {
       "description_width": "initial"
      }
     },
     "862d5bcf06e04346ba86c1c499a8e3ba": {
      "model_module": "@jupyter-widgets/base",
      "model_module_version": "1.2.0",
      "model_name": "LayoutModel",
      "state": {}
     },
     "8644b834810946a4b100a538e066b934": {
      "model_module": "@jupyter-widgets/controls",
      "model_module_version": "1.5.0",
      "model_name": "SliderStyleModel",
      "state": {
       "description_width": "initial"
      }
     },
     "86830151c38c4a9a8536c1d6343cf70e": {
      "model_module": "@jupyter-widgets/controls",
      "model_module_version": "1.5.0",
      "model_name": "IntSliderModel",
      "state": {
       "continuous_update": false,
       "description": "0-Padding",
       "layout": "IPY_MODEL_0db222780f7a44118fcfe2320ea9c95c",
       "max": 500,
       "style": "IPY_MODEL_fa8b3bb89af74d75a0458c07745f2f71"
      }
     },
     "8684ecc9f0dc46c7aa3e9af6f931e403": {
      "model_module": "@jupyter-widgets/base",
      "model_module_version": "1.2.0",
      "model_name": "LayoutModel",
      "state": {}
     },
     "86970977b2084a478acc271010cb16aa": {
      "model_module": "@jupyter-widgets/controls",
      "model_module_version": "1.5.0",
      "model_name": "IntSliderModel",
      "state": {
       "continuous_update": false,
       "description": "Sampling (Hz)",
       "layout": "IPY_MODEL_aff1ac2d263947e298906dd732447cf9",
       "max": 12,
       "min": 2,
       "step": 2,
       "style": "IPY_MODEL_34cb959abe854ce08fcefa73d0e382c5",
       "value": 4
      }
     },
     "869ea1521feb462d815d92e67d47e66d": {
      "model_module": "jupyter-matplotlib",
      "model_module_version": "^0.7.4",
      "model_name": "ToolbarModel",
      "state": {
       "layout": "IPY_MODEL_d97e7c2b43b349c8b8a3ee47b7081c94",
       "toolitems": [
        [
         "Home",
         "Reset original view",
         "home",
         "home"
        ],
        [
         "Back",
         "Back to previous view",
         "arrow-left",
         "back"
        ],
        [
         "Forward",
         "Forward to next view",
         "arrow-right",
         "forward"
        ],
        [
         "Pan",
         "Left button pans, Right button zooms\nx/y fixes axis, CTRL fixes aspect",
         "arrows",
         "pan"
        ],
        [
         "Zoom",
         "Zoom to rectangle\nx/y fixes axis, CTRL fixes aspect",
         "square-o",
         "zoom"
        ],
        [
         "Download",
         "Download plot",
         "floppy-o",
         "save_figure"
        ]
       ]
      }
     },
     "86d9dab2d4574ede88a796ccb5c8f08b": {
      "model_module": "@jupyter-widgets/controls",
      "model_module_version": "1.5.0",
      "model_name": "IntSliderModel",
      "state": {
       "continuous_update": false,
       "description": "0-Padding",
       "layout": "IPY_MODEL_a7cb52f6068f41838032a1374addc9df",
       "max": 500,
       "style": "IPY_MODEL_7e4f7bafe11441c797b21bc7573130a4",
       "value": 383
      }
     },
     "870c4f86d9b44ea2bc2f91aec7f1d50e": {
      "model_module": "@jupyter-widgets/base",
      "model_module_version": "1.2.0",
      "model_name": "LayoutModel",
      "state": {}
     },
     "8729a000ce2c47f1b35a48c1920c4a23": {
      "model_module": "@jupyter-widgets/controls",
      "model_module_version": "1.5.0",
      "model_name": "IntSliderModel",
      "state": {
       "continuous_update": false,
       "description": "Periods",
       "layout": "IPY_MODEL_0c09de0ddf664992a871b39a79a32ecb",
       "max": 50,
       "min": 1,
       "style": "IPY_MODEL_392161aab8604f8cbcde8e5d018cd53b",
       "value": 2
      }
     },
     "8744cd565419490ea42e61f5d5be39f4": {
      "model_module": "@jupyter-widgets/base",
      "model_module_version": "1.2.0",
      "model_name": "LayoutModel",
      "state": {}
     },
     "87471d38593b4806b7cccbcea2ed64b8": {
      "model_module": "@jupyter-widgets/base",
      "model_module_version": "1.2.0",
      "model_name": "LayoutModel",
      "state": {}
     },
     "8771a0ecfb5c4e9c989b79239cc1bbfd": {
      "model_module": "@jupyter-widgets/base",
      "model_module_version": "1.2.0",
      "model_name": "LayoutModel",
      "state": {}
     },
     "87f0dcfaf05c4ddcbabaf277872d6e99": {
      "model_module": "@jupyter-widgets/controls",
      "model_module_version": "1.5.0",
      "model_name": "SliderStyleModel",
      "state": {
       "description_width": "initial"
      }
     },
     "87fc1edad1d94f1f93cbff71d1105af5": {
      "model_module": "@jupyter-widgets/controls",
      "model_module_version": "1.5.0",
      "model_name": "SliderStyleModel",
      "state": {
       "description_width": "initial"
      }
     },
     "880b673a150d48bba19d9941fd2be92e": {
      "model_module": "@jupyter-widgets/base",
      "model_module_version": "1.2.0",
      "model_name": "LayoutModel",
      "state": {}
     },
     "88164b1814ca4a51a531e2133e24b998": {
      "model_module": "@jupyter-widgets/controls",
      "model_module_version": "1.5.0",
      "model_name": "SliderStyleModel",
      "state": {
       "description_width": "initial"
      }
     },
     "882417eaa01345f89e0ee25c9a8afd04": {
      "model_module": "jupyter-matplotlib",
      "model_module_version": "^0.7.4",
      "model_name": "ToolbarModel",
      "state": {
       "layout": "IPY_MODEL_eb655486be19423a87f173b6b41722a3",
       "toolitems": [
        [
         "Home",
         "Reset original view",
         "home",
         "home"
        ],
        [
         "Back",
         "Back to previous view",
         "arrow-left",
         "back"
        ],
        [
         "Forward",
         "Forward to next view",
         "arrow-right",
         "forward"
        ],
        [
         "Pan",
         "Left button pans, Right button zooms\nx/y fixes axis, CTRL fixes aspect",
         "arrows",
         "pan"
        ],
        [
         "Zoom",
         "Zoom to rectangle\nx/y fixes axis, CTRL fixes aspect",
         "square-o",
         "zoom"
        ],
        [
         "Download",
         "Download plot",
         "floppy-o",
         "save_figure"
        ]
       ]
      }
     },
     "882a5fa3effe424599b20ea7ad6146be": {
      "model_module": "@jupyter-widgets/controls",
      "model_module_version": "1.5.0",
      "model_name": "VBoxModel",
      "state": {
       "_dom_classes": [
        "widget-interact"
       ],
       "children": [
        "IPY_MODEL_1b436f12248e4691a849a545c7570f45",
        "IPY_MODEL_3b40f639f07341a7a00278eeea21b876",
        "IPY_MODEL_539f91e6973047d4b7bf36737e4c6e46",
        "IPY_MODEL_92c4f48c68d0489c97a6079104e1b57c"
       ],
       "layout": "IPY_MODEL_c37496e384fd426b8d43536bd7d3b2db"
      }
     },
     "8859c87a608c4cb4872b9833af1e099f": {
      "model_module": "@jupyter-widgets/base",
      "model_module_version": "1.2.0",
      "model_name": "LayoutModel",
      "state": {}
     },
     "88621f1972f549daace7a65541ea33cb": {
      "model_module": "@jupyter-widgets/base",
      "model_module_version": "1.2.0",
      "model_name": "LayoutModel",
      "state": {}
     },
     "88693c183cbc40e291ced13565ceeb6d": {
      "model_module": "@jupyter-widgets/output",
      "model_module_version": "1.0.0",
      "model_name": "OutputModel",
      "state": {
       "layout": "IPY_MODEL_9783dd244aa24e549796bc96fa8eba68",
       "outputs": [
        {
         "data": {
          "application/vnd.jupyter.widget-view+json": {
           "model_id": "4182509062374e6b8a503c97277bba29",
           "version_major": 2,
           "version_minor": 0
          },
          "text/plain": "Canvas(toolbar=Toolbar(toolitems=[('Home', 'Reset original view', 'home', 'home'), ('Back', 'Back to previous …"
         },
         "metadata": {},
         "output_type": "display_data"
        }
       ]
      }
     },
     "888f27da401d426196ee97a66e63e031": {
      "model_module": "@jupyter-widgets/controls",
      "model_module_version": "1.5.0",
      "model_name": "SliderStyleModel",
      "state": {
       "description_width": "initial"
      }
     },
     "889e25432fa14b2fb305e1bf4b235042": {
      "model_module": "@jupyter-widgets/controls",
      "model_module_version": "1.5.0",
      "model_name": "IntSliderModel",
      "state": {
       "continuous_update": false,
       "description": "Periods",
       "layout": "IPY_MODEL_c7c9c08448a3408290db5caf48ee3098",
       "max": 50,
       "min": 1,
       "style": "IPY_MODEL_42931795fe33419da9581d3d8129da2f",
       "value": 2
      }
     },
     "88c44b5c87ad4b3f96782cf64950179f": {
      "model_module": "@jupyter-widgets/base",
      "model_module_version": "1.2.0",
      "model_name": "LayoutModel",
      "state": {}
     },
     "88e47621e75e4932ba8f2f79ade8295b": {
      "model_module": "@jupyter-widgets/controls",
      "model_module_version": "1.5.0",
      "model_name": "IntSliderModel",
      "state": {
       "continuous_update": false,
       "description": "Sampling (Hz)",
       "layout": "IPY_MODEL_8f0d140306ea40078c0582009427ad28",
       "max": 20,
       "min": 2,
       "step": 2,
       "style": "IPY_MODEL_a24c4f4fe49a4feaa3cae31069a8925c",
       "value": 4
      }
     },
     "88ff5fef053b426c8f7c2e2c036ddf6c": {
      "model_module": "@jupyter-widgets/controls",
      "model_module_version": "1.5.0",
      "model_name": "SliderStyleModel",
      "state": {
       "description_width": "initial"
      }
     },
     "891e700b65884cbe93b473bf9feedfb1": {
      "model_module": "@jupyter-widgets/output",
      "model_module_version": "1.0.0",
      "model_name": "OutputModel",
      "state": {
       "layout": "IPY_MODEL_c25f64fede8f417091ce83d5cd15f23c",
       "outputs": [
        {
         "data": {
          "application/javascript": "/* Put everything inside the global mpl namespace */\n/* global mpl */\nwindow.mpl = {};\n\nmpl.get_websocket_type = function () {\n    if (typeof WebSocket !== 'undefined') {\n        return WebSocket;\n    } else if (typeof MozWebSocket !== 'undefined') {\n        return MozWebSocket;\n    } else {\n        alert(\n            'Your browser does not have WebSocket support. ' +\n                'Please try Chrome, Safari or Firefox ≥ 6. ' +\n                'Firefox 4 and 5 are also supported but you ' +\n                'have to enable WebSockets in about:config.'\n        );\n    }\n};\n\nmpl.figure = function (figure_id, websocket, ondownload, parent_element) {\n    this.id = figure_id;\n\n    this.ws = websocket;\n\n    this.supports_binary = this.ws.binaryType !== undefined;\n\n    if (!this.supports_binary) {\n        var warnings = document.getElementById('mpl-warnings');\n        if (warnings) {\n            warnings.style.display = 'block';\n            warnings.textContent =\n                'This browser does not support binary websocket messages. ' +\n                'Performance may be slow.';\n        }\n    }\n\n    this.imageObj = new Image();\n\n    this.context = undefined;\n    this.message = undefined;\n    this.canvas = undefined;\n    this.rubberband_canvas = undefined;\n    this.rubberband_context = undefined;\n    this.format_dropdown = undefined;\n\n    this.image_mode = 'full';\n\n    this.root = document.createElement('div');\n    this.root.setAttribute('style', 'display: inline-block');\n    this._root_extra_style(this.root);\n\n    parent_element.appendChild(this.root);\n\n    this._init_header(this);\n    this._init_canvas(this);\n    this._init_toolbar(this);\n\n    var fig = this;\n\n    this.waiting = false;\n\n    this.ws.onopen = function () {\n        fig.send_message('supports_binary', { value: fig.supports_binary });\n        fig.send_message('send_image_mode', {});\n        if (fig.ratio !== 1) {\n            fig.send_message('set_dpi_ratio', { dpi_ratio: fig.ratio });\n        }\n        fig.send_message('refresh', {});\n    };\n\n    this.imageObj.onload = function () {\n        if (fig.image_mode === 'full') {\n            // Full images could contain transparency (where diff images\n            // almost always do), so we need to clear the canvas so that\n            // there is no ghosting.\n            fig.context.clearRect(0, 0, fig.canvas.width, fig.canvas.height);\n        }\n        fig.context.drawImage(fig.imageObj, 0, 0);\n    };\n\n    this.imageObj.onunload = function () {\n        fig.ws.close();\n    };\n\n    this.ws.onmessage = this._make_on_message_function(this);\n\n    this.ondownload = ondownload;\n};\n\nmpl.figure.prototype._init_header = function () {\n    var titlebar = document.createElement('div');\n    titlebar.classList =\n        'ui-dialog-titlebar ui-widget-header ui-corner-all ui-helper-clearfix';\n    var titletext = document.createElement('div');\n    titletext.classList = 'ui-dialog-title';\n    titletext.setAttribute(\n        'style',\n        'width: 100%; text-align: center; padding: 3px;'\n    );\n    titlebar.appendChild(titletext);\n    this.root.appendChild(titlebar);\n    this.header = titletext;\n};\n\nmpl.figure.prototype._canvas_extra_style = function (_canvas_div) {};\n\nmpl.figure.prototype._root_extra_style = function (_canvas_div) {};\n\nmpl.figure.prototype._init_canvas = function () {\n    var fig = this;\n\n    var canvas_div = (this.canvas_div = document.createElement('div'));\n    canvas_div.setAttribute(\n        'style',\n        'border: 1px solid #ddd;' +\n            'box-sizing: content-box;' +\n            'clear: both;' +\n            'min-height: 1px;' +\n            'min-width: 1px;' +\n            'outline: 0;' +\n            'overflow: hidden;' +\n            'position: relative;' +\n            'resize: both;'\n    );\n\n    function on_keyboard_event_closure(name) {\n        return function (event) {\n            return fig.key_event(event, name);\n        };\n    }\n\n    canvas_div.addEventListener(\n        'keydown',\n        on_keyboard_event_closure('key_press')\n    );\n    canvas_div.addEventListener(\n        'keyup',\n        on_keyboard_event_closure('key_release')\n    );\n\n    this._canvas_extra_style(canvas_div);\n    this.root.appendChild(canvas_div);\n\n    var canvas = (this.canvas = document.createElement('canvas'));\n    canvas.classList.add('mpl-canvas');\n    canvas.setAttribute('style', 'box-sizing: content-box;');\n\n    this.context = canvas.getContext('2d');\n\n    var backingStore =\n        this.context.backingStorePixelRatio ||\n        this.context.webkitBackingStorePixelRatio ||\n        this.context.mozBackingStorePixelRatio ||\n        this.context.msBackingStorePixelRatio ||\n        this.context.oBackingStorePixelRatio ||\n        this.context.backingStorePixelRatio ||\n        1;\n\n    this.ratio = (window.devicePixelRatio || 1) / backingStore;\n    if (this.ratio !== 1) {\n        fig.send_message('set_dpi_ratio', { dpi_ratio: this.ratio });\n    }\n\n    var rubberband_canvas = (this.rubberband_canvas = document.createElement(\n        'canvas'\n    ));\n    rubberband_canvas.setAttribute(\n        'style',\n        'box-sizing: content-box; position: absolute; left: 0; top: 0; z-index: 1;'\n    );\n\n    var resizeObserver = new ResizeObserver(function (entries) {\n        var nentries = entries.length;\n        for (var i = 0; i < nentries; i++) {\n            var entry = entries[i];\n            var width, height;\n            if (entry.contentBoxSize) {\n                if (entry.contentBoxSize instanceof Array) {\n                    // Chrome 84 implements new version of spec.\n                    width = entry.contentBoxSize[0].inlineSize;\n                    height = entry.contentBoxSize[0].blockSize;\n                } else {\n                    // Firefox implements old version of spec.\n                    width = entry.contentBoxSize.inlineSize;\n                    height = entry.contentBoxSize.blockSize;\n                }\n            } else {\n                // Chrome <84 implements even older version of spec.\n                width = entry.contentRect.width;\n                height = entry.contentRect.height;\n            }\n\n            // Keep the size of the canvas and rubber band canvas in sync with\n            // the canvas container.\n            if (entry.devicePixelContentBoxSize) {\n                // Chrome 84 implements new version of spec.\n                canvas.setAttribute(\n                    'width',\n                    entry.devicePixelContentBoxSize[0].inlineSize\n                );\n                canvas.setAttribute(\n                    'height',\n                    entry.devicePixelContentBoxSize[0].blockSize\n                );\n            } else {\n                canvas.setAttribute('width', width * fig.ratio);\n                canvas.setAttribute('height', height * fig.ratio);\n            }\n            canvas.setAttribute(\n                'style',\n                'width: ' + width + 'px; height: ' + height + 'px;'\n            );\n\n            rubberband_canvas.setAttribute('width', width);\n            rubberband_canvas.setAttribute('height', height);\n\n            // And update the size in Python. We ignore the initial 0/0 size\n            // that occurs as the element is placed into the DOM, which should\n            // otherwise not happen due to the minimum size styling.\n            if (width != 0 && height != 0) {\n                fig.request_resize(width, height);\n            }\n        }\n    });\n    resizeObserver.observe(canvas_div);\n\n    function on_mouse_event_closure(name) {\n        return function (event) {\n            return fig.mouse_event(event, name);\n        };\n    }\n\n    rubberband_canvas.addEventListener(\n        'mousedown',\n        on_mouse_event_closure('button_press')\n    );\n    rubberband_canvas.addEventListener(\n        'mouseup',\n        on_mouse_event_closure('button_release')\n    );\n    // Throttle sequential mouse events to 1 every 20ms.\n    rubberband_canvas.addEventListener(\n        'mousemove',\n        on_mouse_event_closure('motion_notify')\n    );\n\n    rubberband_canvas.addEventListener(\n        'mouseenter',\n        on_mouse_event_closure('figure_enter')\n    );\n    rubberband_canvas.addEventListener(\n        'mouseleave',\n        on_mouse_event_closure('figure_leave')\n    );\n\n    canvas_div.addEventListener('wheel', function (event) {\n        if (event.deltaY < 0) {\n            event.step = 1;\n        } else {\n            event.step = -1;\n        }\n        on_mouse_event_closure('scroll')(event);\n    });\n\n    canvas_div.appendChild(canvas);\n    canvas_div.appendChild(rubberband_canvas);\n\n    this.rubberband_context = rubberband_canvas.getContext('2d');\n    this.rubberband_context.strokeStyle = '#000000';\n\n    this._resize_canvas = function (width, height, forward) {\n        if (forward) {\n            canvas_div.style.width = width + 'px';\n            canvas_div.style.height = height + 'px';\n        }\n    };\n\n    // Disable right mouse context menu.\n    this.rubberband_canvas.addEventListener('contextmenu', function (_e) {\n        event.preventDefault();\n        return false;\n    });\n\n    function set_focus() {\n        canvas.focus();\n        canvas_div.focus();\n    }\n\n    window.setTimeout(set_focus, 100);\n};\n\nmpl.figure.prototype._init_toolbar = function () {\n    var fig = this;\n\n    var toolbar = document.createElement('div');\n    toolbar.classList = 'mpl-toolbar';\n    this.root.appendChild(toolbar);\n\n    function on_click_closure(name) {\n        return function (_event) {\n            return fig.toolbar_button_onclick(name);\n        };\n    }\n\n    function on_mouseover_closure(tooltip) {\n        return function (event) {\n            if (!event.currentTarget.disabled) {\n                return fig.toolbar_button_onmouseover(tooltip);\n            }\n        };\n    }\n\n    fig.buttons = {};\n    var buttonGroup = document.createElement('div');\n    buttonGroup.classList = 'mpl-button-group';\n    for (var toolbar_ind in mpl.toolbar_items) {\n        var name = mpl.toolbar_items[toolbar_ind][0];\n        var tooltip = mpl.toolbar_items[toolbar_ind][1];\n        var image = mpl.toolbar_items[toolbar_ind][2];\n        var method_name = mpl.toolbar_items[toolbar_ind][3];\n\n        if (!name) {\n            /* Instead of a spacer, we start a new button group. */\n            if (buttonGroup.hasChildNodes()) {\n                toolbar.appendChild(buttonGroup);\n            }\n            buttonGroup = document.createElement('div');\n            buttonGroup.classList = 'mpl-button-group';\n            continue;\n        }\n\n        var button = (fig.buttons[name] = document.createElement('button'));\n        button.classList = 'mpl-widget';\n        button.setAttribute('role', 'button');\n        button.setAttribute('aria-disabled', 'false');\n        button.addEventListener('click', on_click_closure(method_name));\n        button.addEventListener('mouseover', on_mouseover_closure(tooltip));\n\n        var icon_img = document.createElement('img');\n        icon_img.src = '_images/' + image + '.png';\n        icon_img.srcset = '_images/' + image + '_large.png 2x';\n        icon_img.alt = tooltip;\n        button.appendChild(icon_img);\n\n        buttonGroup.appendChild(button);\n    }\n\n    if (buttonGroup.hasChildNodes()) {\n        toolbar.appendChild(buttonGroup);\n    }\n\n    var fmt_picker = document.createElement('select');\n    fmt_picker.classList = 'mpl-widget';\n    toolbar.appendChild(fmt_picker);\n    this.format_dropdown = fmt_picker;\n\n    for (var ind in mpl.extensions) {\n        var fmt = mpl.extensions[ind];\n        var option = document.createElement('option');\n        option.selected = fmt === mpl.default_extension;\n        option.innerHTML = fmt;\n        fmt_picker.appendChild(option);\n    }\n\n    var status_bar = document.createElement('span');\n    status_bar.classList = 'mpl-message';\n    toolbar.appendChild(status_bar);\n    this.message = status_bar;\n};\n\nmpl.figure.prototype.request_resize = function (x_pixels, y_pixels) {\n    // Request matplotlib to resize the figure. Matplotlib will then trigger a resize in the client,\n    // which will in turn request a refresh of the image.\n    this.send_message('resize', { width: x_pixels, height: y_pixels });\n};\n\nmpl.figure.prototype.send_message = function (type, properties) {\n    properties['type'] = type;\n    properties['figure_id'] = this.id;\n    this.ws.send(JSON.stringify(properties));\n};\n\nmpl.figure.prototype.send_draw_message = function () {\n    if (!this.waiting) {\n        this.waiting = true;\n        this.ws.send(JSON.stringify({ type: 'draw', figure_id: this.id }));\n    }\n};\n\nmpl.figure.prototype.handle_save = function (fig, _msg) {\n    var format_dropdown = fig.format_dropdown;\n    var format = format_dropdown.options[format_dropdown.selectedIndex].value;\n    fig.ondownload(fig, format);\n};\n\nmpl.figure.prototype.handle_resize = function (fig, msg) {\n    var size = msg['size'];\n    if (size[0] !== fig.canvas.width || size[1] !== fig.canvas.height) {\n        fig._resize_canvas(size[0], size[1], msg['forward']);\n        fig.send_message('refresh', {});\n    }\n};\n\nmpl.figure.prototype.handle_rubberband = function (fig, msg) {\n    var x0 = msg['x0'] / fig.ratio;\n    var y0 = (fig.canvas.height - msg['y0']) / fig.ratio;\n    var x1 = msg['x1'] / fig.ratio;\n    var y1 = (fig.canvas.height - msg['y1']) / fig.ratio;\n    x0 = Math.floor(x0) + 0.5;\n    y0 = Math.floor(y0) + 0.5;\n    x1 = Math.floor(x1) + 0.5;\n    y1 = Math.floor(y1) + 0.5;\n    var min_x = Math.min(x0, x1);\n    var min_y = Math.min(y0, y1);\n    var width = Math.abs(x1 - x0);\n    var height = Math.abs(y1 - y0);\n\n    fig.rubberband_context.clearRect(\n        0,\n        0,\n        fig.canvas.width / fig.ratio,\n        fig.canvas.height / fig.ratio\n    );\n\n    fig.rubberband_context.strokeRect(min_x, min_y, width, height);\n};\n\nmpl.figure.prototype.handle_figure_label = function (fig, msg) {\n    // Updates the figure title.\n    fig.header.textContent = msg['label'];\n};\n\nmpl.figure.prototype.handle_cursor = function (fig, msg) {\n    var cursor = msg['cursor'];\n    switch (cursor) {\n        case 0:\n            cursor = 'pointer';\n            break;\n        case 1:\n            cursor = 'default';\n            break;\n        case 2:\n            cursor = 'crosshair';\n            break;\n        case 3:\n            cursor = 'move';\n            break;\n    }\n    fig.rubberband_canvas.style.cursor = cursor;\n};\n\nmpl.figure.prototype.handle_message = function (fig, msg) {\n    fig.message.textContent = msg['message'];\n};\n\nmpl.figure.prototype.handle_draw = function (fig, _msg) {\n    // Request the server to send over a new figure.\n    fig.send_draw_message();\n};\n\nmpl.figure.prototype.handle_image_mode = function (fig, msg) {\n    fig.image_mode = msg['mode'];\n};\n\nmpl.figure.prototype.handle_history_buttons = function (fig, msg) {\n    for (var key in msg) {\n        if (!(key in fig.buttons)) {\n            continue;\n        }\n        fig.buttons[key].disabled = !msg[key];\n        fig.buttons[key].setAttribute('aria-disabled', !msg[key]);\n    }\n};\n\nmpl.figure.prototype.handle_navigate_mode = function (fig, msg) {\n    if (msg['mode'] === 'PAN') {\n        fig.buttons['Pan'].classList.add('active');\n        fig.buttons['Zoom'].classList.remove('active');\n    } else if (msg['mode'] === 'ZOOM') {\n        fig.buttons['Pan'].classList.remove('active');\n        fig.buttons['Zoom'].classList.add('active');\n    } else {\n        fig.buttons['Pan'].classList.remove('active');\n        fig.buttons['Zoom'].classList.remove('active');\n    }\n};\n\nmpl.figure.prototype.updated_canvas_event = function () {\n    // Called whenever the canvas gets updated.\n    this.send_message('ack', {});\n};\n\n// A function to construct a web socket function for onmessage handling.\n// Called in the figure constructor.\nmpl.figure.prototype._make_on_message_function = function (fig) {\n    return function socket_on_message(evt) {\n        if (evt.data instanceof Blob) {\n            /* FIXME: We get \"Resource interpreted as Image but\n             * transferred with MIME type text/plain:\" errors on\n             * Chrome.  But how to set the MIME type?  It doesn't seem\n             * to be part of the websocket stream */\n            evt.data.type = 'image/png';\n\n            /* Free the memory for the previous frames */\n            if (fig.imageObj.src) {\n                (window.URL || window.webkitURL).revokeObjectURL(\n                    fig.imageObj.src\n                );\n            }\n\n            fig.imageObj.src = (window.URL || window.webkitURL).createObjectURL(\n                evt.data\n            );\n            fig.updated_canvas_event();\n            fig.waiting = false;\n            return;\n        } else if (\n            typeof evt.data === 'string' &&\n            evt.data.slice(0, 21) === 'data:image/png;base64'\n        ) {\n            fig.imageObj.src = evt.data;\n            fig.updated_canvas_event();\n            fig.waiting = false;\n            return;\n        }\n\n        var msg = JSON.parse(evt.data);\n        var msg_type = msg['type'];\n\n        // Call the  \"handle_{type}\" callback, which takes\n        // the figure and JSON message as its only arguments.\n        try {\n            var callback = fig['handle_' + msg_type];\n        } catch (e) {\n            console.log(\n                \"No handler for the '\" + msg_type + \"' message type: \",\n                msg\n            );\n            return;\n        }\n\n        if (callback) {\n            try {\n                // console.log(\"Handling '\" + msg_type + \"' message: \", msg);\n                callback(fig, msg);\n            } catch (e) {\n                console.log(\n                    \"Exception inside the 'handler_\" + msg_type + \"' callback:\",\n                    e,\n                    e.stack,\n                    msg\n                );\n            }\n        }\n    };\n};\n\n// from http://stackoverflow.com/questions/1114465/getting-mouse-location-in-canvas\nmpl.findpos = function (e) {\n    //this section is from http://www.quirksmode.org/js/events_properties.html\n    var targ;\n    if (!e) {\n        e = window.event;\n    }\n    if (e.target) {\n        targ = e.target;\n    } else if (e.srcElement) {\n        targ = e.srcElement;\n    }\n    if (targ.nodeType === 3) {\n        // defeat Safari bug\n        targ = targ.parentNode;\n    }\n\n    // pageX,Y are the mouse positions relative to the document\n    var boundingRect = targ.getBoundingClientRect();\n    var x = e.pageX - (boundingRect.left + document.body.scrollLeft);\n    var y = e.pageY - (boundingRect.top + document.body.scrollTop);\n\n    return { x: x, y: y };\n};\n\n/*\n * return a copy of an object with only non-object keys\n * we need this to avoid circular references\n * http://stackoverflow.com/a/24161582/3208463\n */\nfunction simpleKeys(original) {\n    return Object.keys(original).reduce(function (obj, key) {\n        if (typeof original[key] !== 'object') {\n            obj[key] = original[key];\n        }\n        return obj;\n    }, {});\n}\n\nmpl.figure.prototype.mouse_event = function (event, name) {\n    var canvas_pos = mpl.findpos(event);\n\n    if (name === 'button_press') {\n        this.canvas.focus();\n        this.canvas_div.focus();\n    }\n\n    var x = canvas_pos.x * this.ratio;\n    var y = canvas_pos.y * this.ratio;\n\n    this.send_message(name, {\n        x: x,\n        y: y,\n        button: event.button,\n        step: event.step,\n        guiEvent: simpleKeys(event),\n    });\n\n    /* This prevents the web browser from automatically changing to\n     * the text insertion cursor when the button is pressed.  We want\n     * to control all of the cursor setting manually through the\n     * 'cursor' event from matplotlib */\n    event.preventDefault();\n    return false;\n};\n\nmpl.figure.prototype._key_event_extra = function (_event, _name) {\n    // Handle any extra behaviour associated with a key event\n};\n\nmpl.figure.prototype.key_event = function (event, name) {\n    // Prevent repeat events\n    if (name === 'key_press') {\n        if (event.which === this._key) {\n            return;\n        } else {\n            this._key = event.which;\n        }\n    }\n    if (name === 'key_release') {\n        this._key = null;\n    }\n\n    var value = '';\n    if (event.ctrlKey && event.which !== 17) {\n        value += 'ctrl+';\n    }\n    if (event.altKey && event.which !== 18) {\n        value += 'alt+';\n    }\n    if (event.shiftKey && event.which !== 16) {\n        value += 'shift+';\n    }\n\n    value += 'k';\n    value += event.which.toString();\n\n    this._key_event_extra(event, name);\n\n    this.send_message(name, { key: value, guiEvent: simpleKeys(event) });\n    return false;\n};\n\nmpl.figure.prototype.toolbar_button_onclick = function (name) {\n    if (name === 'download') {\n        this.handle_save(this, null);\n    } else {\n        this.send_message('toolbar_button', { name: name });\n    }\n};\n\nmpl.figure.prototype.toolbar_button_onmouseover = function (tooltip) {\n    this.message.textContent = tooltip;\n};\nmpl.toolbar_items = [[\"Home\", \"Reset original view\", \"fa fa-home icon-home\", \"home\"], [\"Back\", \"Back to previous view\", \"fa fa-arrow-left icon-arrow-left\", \"back\"], [\"Forward\", \"Forward to next view\", \"fa fa-arrow-right icon-arrow-right\", \"forward\"], [\"\", \"\", \"\", \"\"], [\"Pan\", \"Left button pans, Right button zooms\\nx/y fixes axis, CTRL fixes aspect\", \"fa fa-arrows icon-move\", \"pan\"], [\"Zoom\", \"Zoom to rectangle\\nx/y fixes axis, CTRL fixes aspect\", \"fa fa-square-o icon-check-empty\", \"zoom\"], [\"\", \"\", \"\", \"\"], [\"Download\", \"Download plot\", \"fa fa-floppy-o icon-save\", \"download\"]];\n\nmpl.extensions = [\"eps\", \"jpeg\", \"pdf\", \"png\", \"ps\", \"raw\", \"svg\", \"tif\"];\n\nmpl.default_extension = \"png\";/* global mpl */\n\nvar comm_websocket_adapter = function (comm) {\n    // Create a \"websocket\"-like object which calls the given IPython comm\n    // object with the appropriate methods. Currently this is a non binary\n    // socket, so there is still some room for performance tuning.\n    var ws = {};\n\n    ws.close = function () {\n        comm.close();\n    };\n    ws.send = function (m) {\n        //console.log('sending', m);\n        comm.send(m);\n    };\n    // Register the callback with on_msg.\n    comm.on_msg(function (msg) {\n        //console.log('receiving', msg['content']['data'], msg);\n        // Pass the mpl event to the overridden (by mpl) onmessage function.\n        ws.onmessage(msg['content']['data']);\n    });\n    return ws;\n};\n\nmpl.mpl_figure_comm = function (comm, msg) {\n    // This is the function which gets called when the mpl process\n    // starts-up an IPython Comm through the \"matplotlib\" channel.\n\n    var id = msg.content.data.id;\n    // Get hold of the div created by the display call when the Comm\n    // socket was opened in Python.\n    var element = document.getElementById(id);\n    var ws_proxy = comm_websocket_adapter(comm);\n\n    function ondownload(figure, _format) {\n        window.open(figure.canvas.toDataURL());\n    }\n\n    var fig = new mpl.figure(id, ws_proxy, ondownload, element);\n\n    // Call onopen now - mpl needs it, as it is assuming we've passed it a real\n    // web socket which is closed, not our websocket->open comm proxy.\n    ws_proxy.onopen();\n\n    fig.parent_element = element;\n    fig.cell_info = mpl.find_output_cell(\"<div id='\" + id + \"'></div>\");\n    if (!fig.cell_info) {\n        console.error('Failed to find cell for figure', id, fig);\n        return;\n    }\n    fig.cell_info[0].output_area.element.one(\n        'cleared',\n        { fig: fig },\n        fig._remove_fig_handler\n    );\n};\n\nmpl.figure.prototype.handle_close = function (fig, msg) {\n    var width = fig.canvas.width / fig.ratio;\n    fig.cell_info[0].output_area.element.off(\n        'cleared',\n        fig._remove_fig_handler\n    );\n\n    // Update the output cell to use the data from the current canvas.\n    fig.push_to_output();\n    var dataURL = fig.canvas.toDataURL();\n    // Re-enable the keyboard manager in IPython - without this line, in FF,\n    // the notebook keyboard shortcuts fail.\n    IPython.keyboard_manager.enable();\n    fig.parent_element.innerHTML =\n        '<img src=\"' + dataURL + '\" width=\"' + width + '\">';\n    fig.close_ws(fig, msg);\n};\n\nmpl.figure.prototype.close_ws = function (fig, msg) {\n    fig.send_message('closing', msg);\n    // fig.ws.close()\n};\n\nmpl.figure.prototype.push_to_output = function (_remove_interactive) {\n    // Turn the data on the canvas into data in the output cell.\n    var width = this.canvas.width / this.ratio;\n    var dataURL = this.canvas.toDataURL();\n    this.cell_info[1]['text/html'] =\n        '<img src=\"' + dataURL + '\" width=\"' + width + '\">';\n};\n\nmpl.figure.prototype.updated_canvas_event = function () {\n    // Tell IPython that the notebook contents must change.\n    IPython.notebook.set_dirty(true);\n    this.send_message('ack', {});\n    var fig = this;\n    // Wait a second, then push the new image to the DOM so\n    // that it is saved nicely (might be nice to debounce this).\n    setTimeout(function () {\n        fig.push_to_output();\n    }, 1000);\n};\n\nmpl.figure.prototype._init_toolbar = function () {\n    var fig = this;\n\n    var toolbar = document.createElement('div');\n    toolbar.classList = 'btn-toolbar';\n    this.root.appendChild(toolbar);\n\n    function on_click_closure(name) {\n        return function (_event) {\n            return fig.toolbar_button_onclick(name);\n        };\n    }\n\n    function on_mouseover_closure(tooltip) {\n        return function (event) {\n            if (!event.currentTarget.disabled) {\n                return fig.toolbar_button_onmouseover(tooltip);\n            }\n        };\n    }\n\n    fig.buttons = {};\n    var buttonGroup = document.createElement('div');\n    buttonGroup.classList = 'btn-group';\n    var button;\n    for (var toolbar_ind in mpl.toolbar_items) {\n        var name = mpl.toolbar_items[toolbar_ind][0];\n        var tooltip = mpl.toolbar_items[toolbar_ind][1];\n        var image = mpl.toolbar_items[toolbar_ind][2];\n        var method_name = mpl.toolbar_items[toolbar_ind][3];\n\n        if (!name) {\n            /* Instead of a spacer, we start a new button group. */\n            if (buttonGroup.hasChildNodes()) {\n                toolbar.appendChild(buttonGroup);\n            }\n            buttonGroup = document.createElement('div');\n            buttonGroup.classList = 'btn-group';\n            continue;\n        }\n\n        button = fig.buttons[name] = document.createElement('button');\n        button.classList = 'btn btn-default';\n        button.href = '#';\n        button.title = name;\n        button.innerHTML = '<i class=\"fa ' + image + ' fa-lg\"></i>';\n        button.addEventListener('click', on_click_closure(method_name));\n        button.addEventListener('mouseover', on_mouseover_closure(tooltip));\n        buttonGroup.appendChild(button);\n    }\n\n    if (buttonGroup.hasChildNodes()) {\n        toolbar.appendChild(buttonGroup);\n    }\n\n    // Add the status bar.\n    var status_bar = document.createElement('span');\n    status_bar.classList = 'mpl-message pull-right';\n    toolbar.appendChild(status_bar);\n    this.message = status_bar;\n\n    // Add the close button to the window.\n    var buttongrp = document.createElement('div');\n    buttongrp.classList = 'btn-group inline pull-right';\n    button = document.createElement('button');\n    button.classList = 'btn btn-mini btn-primary';\n    button.href = '#';\n    button.title = 'Stop Interaction';\n    button.innerHTML = '<i class=\"fa fa-power-off icon-remove icon-large\"></i>';\n    button.addEventListener('click', function (_evt) {\n        fig.handle_close(fig, {});\n    });\n    button.addEventListener(\n        'mouseover',\n        on_mouseover_closure('Stop Interaction')\n    );\n    buttongrp.appendChild(button);\n    var titlebar = this.root.querySelector('.ui-dialog-titlebar');\n    titlebar.insertBefore(buttongrp, titlebar.firstChild);\n};\n\nmpl.figure.prototype._remove_fig_handler = function (event) {\n    var fig = event.data.fig;\n    fig.close_ws(fig, {});\n};\n\nmpl.figure.prototype._root_extra_style = function (el) {\n    el.style.boxSizing = 'content-box'; // override notebook setting of border-box.\n};\n\nmpl.figure.prototype._canvas_extra_style = function (el) {\n    // this is important to make the div 'focusable\n    el.setAttribute('tabindex', 0);\n    // reach out to IPython and tell the keyboard manager to turn it's self\n    // off when our div gets focus\n\n    // location in version 3\n    if (IPython.notebook.keyboard_manager) {\n        IPython.notebook.keyboard_manager.register_events(el);\n    } else {\n        // location in version 2\n        IPython.keyboard_manager.register_events(el);\n    }\n};\n\nmpl.figure.prototype._key_event_extra = function (event, _name) {\n    var manager = IPython.notebook.keyboard_manager;\n    if (!manager) {\n        manager = IPython.keyboard_manager;\n    }\n\n    // Check for shift+enter\n    if (event.shiftKey && event.which === 13) {\n        this.canvas_div.blur();\n        // select the cell after this one\n        var index = IPython.notebook.find_cell_index(this.cell_info[0]);\n        IPython.notebook.select(index + 1);\n    }\n};\n\nmpl.figure.prototype.handle_save = function (fig, _msg) {\n    fig.ondownload(fig, null);\n};\n\nmpl.find_output_cell = function (html_output) {\n    // Return the cell and output element which can be found *uniquely* in the notebook.\n    // Note - this is a bit hacky, but it is done because the \"notebook_saving.Notebook\"\n    // IPython event is triggered only after the cells have been serialised, which for\n    // our purposes (turning an active figure into a static one), is too late.\n    var cells = IPython.notebook.get_cells();\n    var ncells = cells.length;\n    for (var i = 0; i < ncells; i++) {\n        var cell = cells[i];\n        if (cell.cell_type === 'code') {\n            for (var j = 0; j < cell.output_area.outputs.length; j++) {\n                var data = cell.output_area.outputs[j];\n                if (data.data) {\n                    // IPython >= 3 moved mimebundle to data attribute of output\n                    data = data.data;\n                }\n                if (data['text/html'] === html_output) {\n                    return [cell, data, j];\n                }\n            }\n        }\n    }\n};\n\n// Register the function which deals with the matplotlib target/channel.\n// The kernel may be null if the page has been refreshed.\nif (IPython.notebook.kernel !== null) {\n    IPython.notebook.kernel.comm_manager.register_target(\n        'matplotlib',\n        mpl.mpl_figure_comm\n    );\n}\n",
          "text/plain": "<IPython.core.display.Javascript object>"
         },
         "metadata": {},
         "output_type": "display_data"
        },
        {
         "data": {
          "text/html": "<div id='4a3766e0-8b74-442a-b092-aa49e076019b'></div>",
          "text/plain": "<IPython.core.display.HTML object>"
         },
         "metadata": {},
         "output_type": "display_data"
        }
       ]
      }
     },
     "891efbb037b74a1687736bdfaaa1b94c": {
      "model_module": "@jupyter-widgets/base",
      "model_module_version": "1.2.0",
      "model_name": "LayoutModel",
      "state": {}
     },
     "89361d5a707e412c90e97ec9736ce9e6": {
      "model_module": "@jupyter-widgets/output",
      "model_module_version": "1.0.0",
      "model_name": "OutputModel",
      "state": {
       "layout": "IPY_MODEL_f68f80691da742f9b31d8874de832c6c"
      }
     },
     "893d89493741475a974af671644512df": {
      "model_module": "@jupyter-widgets/base",
      "model_module_version": "1.2.0",
      "model_name": "LayoutModel",
      "state": {}
     },
     "89ba31a22a814de9b9140d6b566c86c6": {
      "model_module": "@jupyter-widgets/controls",
      "model_module_version": "1.5.0",
      "model_name": "SliderStyleModel",
      "state": {
       "description_width": "initial"
      }
     },
     "89ea124181764c39b10d9996076d30da": {
      "model_module": "@jupyter-widgets/base",
      "model_module_version": "1.2.0",
      "model_name": "LayoutModel",
      "state": {}
     },
     "89ef982ce4994e8481f3fad883066e57": {
      "model_module": "@jupyter-widgets/base",
      "model_module_version": "1.2.0",
      "model_name": "LayoutModel",
      "state": {}
     },
     "8a0ccf0e6b2e47cd87659b969fb9b352": {
      "model_module": "@jupyter-widgets/controls",
      "model_module_version": "1.5.0",
      "model_name": "SliderStyleModel",
      "state": {
       "description_width": "initial"
      }
     },
     "8a12d25f8fd3468482edb64eb0339a7f": {
      "model_module": "@jupyter-widgets/controls",
      "model_module_version": "1.5.0",
      "model_name": "SliderStyleModel",
      "state": {
       "description_width": "initial"
      }
     },
     "8a13ebfd4eda48b28102a53207835b29": {
      "model_module": "@jupyter-widgets/controls",
      "model_module_version": "1.5.0",
      "model_name": "SliderStyleModel",
      "state": {
       "description_width": "initial"
      }
     },
     "8a434be745634d75898ce82d77a9152a": {
      "model_module": "@jupyter-widgets/base",
      "model_module_version": "1.2.0",
      "model_name": "LayoutModel",
      "state": {}
     },
     "8a58c3f027ca4f208e678ea4d084b3a3": {
      "model_module": "@jupyter-widgets/controls",
      "model_module_version": "1.5.0",
      "model_name": "SliderStyleModel",
      "state": {
       "description_width": "initial"
      }
     },
     "8a7721c487e14711a138f8ea1717bfd3": {
      "model_module": "@jupyter-widgets/controls",
      "model_module_version": "1.5.0",
      "model_name": "SliderStyleModel",
      "state": {
       "description_width": "initial"
      }
     },
     "8aaa3fc20eff4fed9d7a3b75f151ae5b": {
      "model_module": "@jupyter-widgets/controls",
      "model_module_version": "1.5.0",
      "model_name": "VBoxModel",
      "state": {
       "children": [
        "IPY_MODEL_ca65057dae00483fa1a71e1a1cb6a4a5",
        "IPY_MODEL_4c9bdf292e0d445083e604dbc1feb415",
        "IPY_MODEL_9aaac5901f3d4f21922f94fe32cbce84"
       ],
       "layout": "IPY_MODEL_3646db6cf1944ceab944f447e4d8833d"
      }
     },
     "8ab1ba89dec5423789792717a9bbf3b5": {
      "model_module": "@jupyter-widgets/base",
      "model_module_version": "1.2.0",
      "model_name": "LayoutModel",
      "state": {}
     },
     "8acf203ecc5d466e82fe48776d70898d": {
      "model_module": "@jupyter-widgets/controls",
      "model_module_version": "1.5.0",
      "model_name": "SliderStyleModel",
      "state": {
       "description_width": "initial"
      }
     },
     "8ad21104cf824586801a46509dfd0ec3": {
      "model_module": "@jupyter-widgets/controls",
      "model_module_version": "1.5.0",
      "model_name": "IntSliderModel",
      "state": {
       "continuous_update": false,
       "description": "0-Padding",
       "layout": "IPY_MODEL_d182cf3a5a3648d191b40c9aaa6a2a07",
       "max": 3240,
       "step": 108,
       "style": "IPY_MODEL_aa18455e5b584d5781a99fe33e5697ad",
       "value": 756
      }
     },
     "8ae16a10054440df8612762f2ccbe3b8": {
      "model_module": "@jupyter-widgets/base",
      "model_module_version": "1.2.0",
      "model_name": "LayoutModel",
      "state": {}
     },
     "8b107d42dbc646cd9afe0676760bf875": {
      "model_module": "@jupyter-widgets/base",
      "model_module_version": "1.2.0",
      "model_name": "LayoutModel",
      "state": {}
     },
     "8b184da3579f47e4b9497bf9106f6426": {
      "model_module": "@jupyter-widgets/output",
      "model_module_version": "1.0.0",
      "model_name": "OutputModel",
      "state": {
       "layout": "IPY_MODEL_ca47ade21ef345fa9468c0650d7dfde9",
       "outputs": [
        {
         "data": {
          "application/vnd.jupyter.widget-view+json": {
           "model_id": "931e3674b67a42799b6147470efb7306",
           "version_major": 2,
           "version_minor": 0
          },
          "text/plain": "Canvas(toolbar=Toolbar(toolitems=[('Home', 'Reset original view', 'home', 'home'), ('Back', 'Back to previous …"
         },
         "metadata": {},
         "output_type": "display_data"
        }
       ]
      }
     },
     "8b42493fa083467b9426998f15957a49": {
      "model_module": "@jupyter-widgets/controls",
      "model_module_version": "1.5.0",
      "model_name": "SliderStyleModel",
      "state": {
       "description_width": "initial"
      }
     },
     "8b590e86ad48452c9f154712895d9dd9": {
      "model_module": "@jupyter-widgets/base",
      "model_module_version": "1.2.0",
      "model_name": "LayoutModel",
      "state": {}
     },
     "8b70afc7552041b1bfa77b30e18652b3": {
      "model_module": "@jupyter-widgets/base",
      "model_module_version": "1.2.0",
      "model_name": "LayoutModel",
      "state": {}
     },
     "8b72263c94634c40847e59204f124736": {
      "model_module": "@jupyter-widgets/controls",
      "model_module_version": "1.5.0",
      "model_name": "SliderStyleModel",
      "state": {
       "description_width": "initial"
      }
     },
     "8bb5929a8a1447dbaddd08071f397b83": {
      "model_module": "@jupyter-widgets/output",
      "model_module_version": "1.0.0",
      "model_name": "OutputModel",
      "state": {
       "layout": "IPY_MODEL_8ae16a10054440df8612762f2ccbe3b8"
      }
     },
     "8bd51f26a8b34951918b8da00b26bef8": {
      "model_module": "@jupyter-widgets/controls",
      "model_module_version": "1.5.0",
      "model_name": "SliderStyleModel",
      "state": {
       "description_width": "initial"
      }
     },
     "8bf5520614ca46adbcba91fce0ece273": {
      "model_module": "@jupyter-widgets/output",
      "model_module_version": "1.0.0",
      "model_name": "OutputModel",
      "state": {
       "layout": "IPY_MODEL_38e4b23e303b47d8991bd0c3f3f5fd15"
      }
     },
     "8c0d94c485324970816a4f6f975c92e1": {
      "model_module": "@jupyter-widgets/controls",
      "model_module_version": "1.5.0",
      "model_name": "IntSliderModel",
      "state": {
       "continuous_update": false,
       "description": "Sampling (Hz)",
       "layout": "IPY_MODEL_23b3ad9da41f4f3298607d989cbb89bf",
       "max": 20,
       "min": 2,
       "step": 2,
       "style": "IPY_MODEL_aef1ac5d856846daacaafa7c5f6faee6",
       "value": 4
      }
     },
     "8c5af476f5294abeb3b55e01a1e52a27": {
      "model_module": "@jupyter-widgets/output",
      "model_module_version": "1.0.0",
      "model_name": "OutputModel",
      "state": {
       "layout": "IPY_MODEL_3f3f576cb6734400a574eb477f1335fc"
      }
     },
     "8c60c159fa984ac68ba8df73a7d46dd5": {
      "model_module": "@jupyter-widgets/controls",
      "model_module_version": "1.5.0",
      "model_name": "IntSliderModel",
      "state": {
       "continuous_update": false,
       "description": "Sampling (Hz)",
       "layout": "IPY_MODEL_b759cca5598f48d98f0b1b40531a8b0c",
       "max": 12,
       "min": 2,
       "step": 2,
       "style": "IPY_MODEL_f13226d742da4cb19864cb6a26fa5478",
       "value": 4
      }
     },
     "8c634bf7c8c04cfda3db91da3e029349": {
      "model_module": "@jupyter-widgets/base",
      "model_module_version": "1.2.0",
      "model_name": "LayoutModel",
      "state": {}
     },
     "8c857628b58f438eaeb2b59b361ff37b": {
      "model_module": "@jupyter-widgets/base",
      "model_module_version": "1.2.0",
      "model_name": "LayoutModel",
      "state": {}
     },
     "8c887c296eee42ca9f5fe74daa3fdfc3": {
      "model_module": "@jupyter-widgets/controls",
      "model_module_version": "1.5.0",
      "model_name": "IntSliderModel",
      "state": {
       "continuous_update": false,
       "description": "Periods",
       "layout": "IPY_MODEL_ae38a842d6ec448582710e26a9eba342",
       "max": 50,
       "min": 1,
       "style": "IPY_MODEL_9c93bde4e4f04aa6a47317c037b224ce",
       "value": 2
      }
     },
     "8cb7564261354fe285dbe881b9c1c369": {
      "model_module": "@jupyter-widgets/base",
      "model_module_version": "1.2.0",
      "model_name": "LayoutModel",
      "state": {}
     },
     "8cff08316cd143bca6f4336f7f554f23": {
      "model_module": "@jupyter-widgets/base",
      "model_module_version": "1.2.0",
      "model_name": "LayoutModel",
      "state": {}
     },
     "8d014ec8a8dd417bb5a59bb84288f616": {
      "model_module": "@jupyter-widgets/controls",
      "model_module_version": "1.5.0",
      "model_name": "SliderStyleModel",
      "state": {
       "description_width": "initial"
      }
     },
     "8d23c694149145dbae923fb39db31fd9": {
      "model_module": "@jupyter-widgets/output",
      "model_module_version": "1.0.0",
      "model_name": "OutputModel",
      "state": {
       "layout": "IPY_MODEL_7d5bae1351e14a4ba33693ba25d81ca4",
       "outputs": [
        {
         "data": {
          "application/vnd.jupyter.widget-view+json": {
           "model_id": "79777e599b984cfa911699df5569a45a",
           "version_major": 2,
           "version_minor": 0
          },
          "text/plain": "Canvas(toolbar=Toolbar(toolitems=[('Home', 'Reset original view', 'home', 'home'), ('Back', 'Back to previous …"
         },
         "metadata": {},
         "output_type": "display_data"
        }
       ]
      }
     },
     "8d3d9a55d8cc40fe839f84178532ca14": {
      "model_module": "@jupyter-widgets/controls",
      "model_module_version": "1.5.0",
      "model_name": "VBoxModel",
      "state": {
       "_dom_classes": [
        "widget-interact"
       ],
       "children": [
        "IPY_MODEL_ee2ac4efd048415f9993ff92b4d49301",
        "IPY_MODEL_8145916934d64250be1691fcb7a1ab41",
        "IPY_MODEL_a320bbaa2d6c476a8881eb834312db32",
        "IPY_MODEL_cddef6c988574a7e9a00275a8e415293"
       ],
       "layout": "IPY_MODEL_ed4eb1c2feb4421688749ba62afd7554"
      }
     },
     "8d6be070db1b4f399d6532523145c1a7": {
      "model_module": "@jupyter-widgets/base",
      "model_module_version": "1.2.0",
      "model_name": "LayoutModel",
      "state": {}
     },
     "8d9c651ddc104890932ae30e21928253": {
      "model_module": "@jupyter-widgets/controls",
      "model_module_version": "1.5.0",
      "model_name": "VBoxModel",
      "state": {
       "_dom_classes": [
        "widget-interact"
       ],
       "children": [
        "IPY_MODEL_17123dd80a964dabb8d6b9f80f57bb2a",
        "IPY_MODEL_612d93220e2b4fe1a41f5d2c18443499",
        "IPY_MODEL_4268bb2979314098a2fea8ae9f119f97",
        "IPY_MODEL_8bb5929a8a1447dbaddd08071f397b83"
       ],
       "layout": "IPY_MODEL_6fbafc00b5b541b2aee678a34529eb16"
      }
     },
     "8dc5c4428fa34a87b2962ae6210a18c2": {
      "model_module": "@jupyter-widgets/base",
      "model_module_version": "1.2.0",
      "model_name": "LayoutModel",
      "state": {}
     },
     "8dc6dfc67e3d4982b3e70f1e612fa3ef": {
      "model_module": "@jupyter-widgets/controls",
      "model_module_version": "1.5.0",
      "model_name": "IntSliderModel",
      "state": {
       "continuous_update": false,
       "description": "Periods",
       "layout": "IPY_MODEL_6889b8853c75463b825d8ad7e05503ab",
       "max": 50,
       "min": 1,
       "style": "IPY_MODEL_7248a8dd4ccd4b0eb85d45642b58fb04",
       "value": 2
      }
     },
     "8ddb41074d67477bb73eaeb3322dfb88": {
      "model_module": "@jupyter-widgets/base",
      "model_module_version": "1.2.0",
      "model_name": "LayoutModel",
      "state": {}
     },
     "8dde1392c6904afdab777b687def0b8f": {
      "model_module": "@jupyter-widgets/controls",
      "model_module_version": "1.5.0",
      "model_name": "IntSliderModel",
      "state": {
       "continuous_update": false,
       "description": "Periods",
       "layout": "IPY_MODEL_f46a828f46ca4d1283faa5e52fcde5cd",
       "max": 50,
       "min": 1,
       "style": "IPY_MODEL_8a13ebfd4eda48b28102a53207835b29",
       "value": 2
      }
     },
     "8de3d6b8039b410290b40354ae872412": {
      "model_module": "@jupyter-widgets/controls",
      "model_module_version": "1.5.0",
      "model_name": "SliderStyleModel",
      "state": {
       "description_width": "initial"
      }
     },
     "8dec0147248341e3967bd27704c3cf32": {
      "model_module": "@jupyter-widgets/base",
      "model_module_version": "1.2.0",
      "model_name": "LayoutModel",
      "state": {}
     },
     "8e149be559bc4e77a81f35c06026bc88": {
      "model_module": "@jupyter-widgets/base",
      "model_module_version": "1.2.0",
      "model_name": "LayoutModel",
      "state": {}
     },
     "8e2c5860ff234cd8b05e160a9df8b108": {
      "model_module": "@jupyter-widgets/controls",
      "model_module_version": "1.5.0",
      "model_name": "SliderStyleModel",
      "state": {
       "description_width": "initial"
      }
     },
     "8e2e0780f7514435a83975c711452fe0": {
      "model_module": "@jupyter-widgets/base",
      "model_module_version": "1.2.0",
      "model_name": "LayoutModel",
      "state": {}
     },
     "8e49fdaa4e5a416699acf83f3c2590c2": {
      "model_module": "@jupyter-widgets/base",
      "model_module_version": "1.2.0",
      "model_name": "LayoutModel",
      "state": {}
     },
     "8e7973001c46432f866f92fe5c99d65a": {
      "model_module": "@jupyter-widgets/controls",
      "model_module_version": "1.5.0",
      "model_name": "VBoxModel",
      "state": {
       "_dom_classes": [
        "widget-interact"
       ],
       "children": [
        "IPY_MODEL_90925134d18e431d84d5f468943f6adf",
        "IPY_MODEL_168d27857c264c36a8cdc08cfdcfc982",
        "IPY_MODEL_4249dcdde885418cbb43e65ac963477d",
        "IPY_MODEL_c6b358d1e33744bf9a1866f4ad3d0335"
       ],
       "layout": "IPY_MODEL_72b83eaef624472b8ddb63912ee0e319"
      }
     },
     "8e8e3bf81751414fa064790044ea995f": {
      "model_module": "@jupyter-widgets/controls",
      "model_module_version": "1.5.0",
      "model_name": "IntSliderModel",
      "state": {
       "continuous_update": false,
       "description": "0-Padding",
       "layout": "IPY_MODEL_2007391c8b3a4274b8f4759c18f6a84b",
       "max": 600,
       "step": 20,
       "style": "IPY_MODEL_71f3d6f3312a426593356c2bdbb50725",
       "value": 60
      }
     },
     "8ef1211ddaa1416ba420b22004160b17": {
      "model_module": "@jupyter-widgets/controls",
      "model_module_version": "1.5.0",
      "model_name": "IntSliderModel",
      "state": {
       "description": "0-Padding",
       "layout": "IPY_MODEL_34e22746aaa84d9da5a3b85811e2be7c",
       "max": 10,
       "style": "IPY_MODEL_c8dc04f3d39f4e2b9870cd97e43429c5"
      }
     },
     "8f0d140306ea40078c0582009427ad28": {
      "model_module": "@jupyter-widgets/base",
      "model_module_version": "1.2.0",
      "model_name": "LayoutModel",
      "state": {}
     },
     "8f0dfef238ee4e8b979b2605499ec29e": {
      "model_module": "@jupyter-widgets/controls",
      "model_module_version": "1.5.0",
      "model_name": "SliderStyleModel",
      "state": {
       "description_width": "initial"
      }
     },
     "8f82f3d6c8dc411293309a070573884c": {
      "model_module": "@jupyter-widgets/base",
      "model_module_version": "1.2.0",
      "model_name": "LayoutModel",
      "state": {}
     },
     "8fdc3be83e5843e0bbb0efb86f527e4e": {
      "model_module": "jupyter-matplotlib",
      "model_module_version": "^0.7.4",
      "model_name": "ToolbarModel",
      "state": {
       "layout": "IPY_MODEL_1a5462b5fcaf4936a195844e0103ccb6",
       "toolitems": [
        [
         "Home",
         "Reset original view",
         "home",
         "home"
        ],
        [
         "Back",
         "Back to previous view",
         "arrow-left",
         "back"
        ],
        [
         "Forward",
         "Forward to next view",
         "arrow-right",
         "forward"
        ],
        [
         "Pan",
         "Left button pans, Right button zooms\nx/y fixes axis, CTRL fixes aspect",
         "arrows",
         "pan"
        ],
        [
         "Zoom",
         "Zoom to rectangle\nx/y fixes axis, CTRL fixes aspect",
         "square-o",
         "zoom"
        ],
        [
         "Download",
         "Download plot",
         "floppy-o",
         "save_figure"
        ]
       ]
      }
     },
     "8fe7eb6ec71448eabb8f024cbf51abb0": {
      "model_module": "@jupyter-widgets/base",
      "model_module_version": "1.2.0",
      "model_name": "LayoutModel",
      "state": {}
     },
     "90070b57be8c4cc4b69bf3717b3a59ca": {
      "model_module": "@jupyter-widgets/controls",
      "model_module_version": "1.5.0",
      "model_name": "SliderStyleModel",
      "state": {
       "description_width": "initial"
      }
     },
     "90229c2ea17d462f89d23e3e98aec7bb": {
      "model_module": "@jupyter-widgets/base",
      "model_module_version": "1.2.0",
      "model_name": "LayoutModel",
      "state": {}
     },
     "9023ac4c161246b7b56174b102fd9b3b": {
      "model_module": "@jupyter-widgets/base",
      "model_module_version": "1.2.0",
      "model_name": "LayoutModel",
      "state": {}
     },
     "9044ee346d7d49a4a88dee05050ad342": {
      "model_module": "@jupyter-widgets/base",
      "model_module_version": "1.2.0",
      "model_name": "LayoutModel",
      "state": {}
     },
     "9082655739804fc19e1cfa351497da27": {
      "model_module": "jupyter-matplotlib",
      "model_module_version": "^0.7.4",
      "model_name": "ToolbarModel",
      "state": {
       "layout": "IPY_MODEL_1e06a2c112a2459fa41ba14500a16c71",
       "toolitems": [
        [
         "Home",
         "Reset original view",
         "home",
         "home"
        ],
        [
         "Back",
         "Back to previous view",
         "arrow-left",
         "back"
        ],
        [
         "Forward",
         "Forward to next view",
         "arrow-right",
         "forward"
        ],
        [
         "Pan",
         "Left button pans, Right button zooms\nx/y fixes axis, CTRL fixes aspect",
         "arrows",
         "pan"
        ],
        [
         "Zoom",
         "Zoom to rectangle\nx/y fixes axis, CTRL fixes aspect",
         "square-o",
         "zoom"
        ],
        [
         "Download",
         "Download plot",
         "floppy-o",
         "save_figure"
        ]
       ]
      }
     },
     "908b655bc3034d1c935aa536458aaee4": {
      "model_module": "@jupyter-widgets/base",
      "model_module_version": "1.2.0",
      "model_name": "LayoutModel",
      "state": {}
     },
     "90925134d18e431d84d5f468943f6adf": {
      "model_module": "@jupyter-widgets/controls",
      "model_module_version": "1.5.0",
      "model_name": "IntSliderModel",
      "state": {
       "description": "Periods",
       "layout": "IPY_MODEL_06f865c38116466e88ee8841732a9351",
       "max": 50,
       "min": 1,
       "style": "IPY_MODEL_c803f25d80514637b4422b448e69237c",
       "value": 4
      }
     },
     "90989582ec44433fa896bdcc1dc21ec8": {
      "model_module": "@jupyter-widgets/base",
      "model_module_version": "1.2.0",
      "model_name": "LayoutModel",
      "state": {}
     },
     "90a7ee4d38fa4fffbc7537b1513b96e7": {
      "model_module": "@jupyter-widgets/output",
      "model_module_version": "1.0.0",
      "model_name": "OutputModel",
      "state": {
       "layout": "IPY_MODEL_748cd6303a1f4ac5970d103089f0fdc4",
       "outputs": [
        {
         "ename": "TypeError",
         "evalue": "'Text' object is not callable",
         "output_type": "error",
         "traceback": [
          "\u001b[1;31m---------------------------------------------------------------------------\u001b[0m",
          "\u001b[1;31mTypeError\u001b[0m                                 Traceback (most recent call last)",
          "\u001b[1;32mE:\\Software\\Anaconda3\\lib\\site-packages\\ipywidgets\\widgets\\interaction.py\u001b[0m in \u001b[0;36mupdate\u001b[1;34m(self, *args)\u001b[0m\n\u001b[0;32m    254\u001b[0m                     \u001b[0mvalue\u001b[0m \u001b[1;33m=\u001b[0m \u001b[0mwidget\u001b[0m\u001b[1;33m.\u001b[0m\u001b[0mget_interact_value\u001b[0m\u001b[1;33m(\u001b[0m\u001b[1;33m)\u001b[0m\u001b[1;33m\u001b[0m\u001b[1;33m\u001b[0m\u001b[0m\n\u001b[0;32m    255\u001b[0m                     \u001b[0mself\u001b[0m\u001b[1;33m.\u001b[0m\u001b[0mkwargs\u001b[0m\u001b[1;33m[\u001b[0m\u001b[0mwidget\u001b[0m\u001b[1;33m.\u001b[0m\u001b[0m_kwarg\u001b[0m\u001b[1;33m]\u001b[0m \u001b[1;33m=\u001b[0m \u001b[0mvalue\u001b[0m\u001b[1;33m\u001b[0m\u001b[1;33m\u001b[0m\u001b[0m\n\u001b[1;32m--> 256\u001b[1;33m                 \u001b[0mself\u001b[0m\u001b[1;33m.\u001b[0m\u001b[0mresult\u001b[0m \u001b[1;33m=\u001b[0m \u001b[0mself\u001b[0m\u001b[1;33m.\u001b[0m\u001b[0mf\u001b[0m\u001b[1;33m(\u001b[0m\u001b[1;33m**\u001b[0m\u001b[0mself\u001b[0m\u001b[1;33m.\u001b[0m\u001b[0mkwargs\u001b[0m\u001b[1;33m)\u001b[0m\u001b[1;33m\u001b[0m\u001b[1;33m\u001b[0m\u001b[0m\n\u001b[0m\u001b[0;32m    257\u001b[0m                 \u001b[0mshow_inline_matplotlib_plots\u001b[0m\u001b[1;33m(\u001b[0m\u001b[1;33m)\u001b[0m\u001b[1;33m\u001b[0m\u001b[1;33m\u001b[0m\u001b[0m\n\u001b[0;32m    258\u001b[0m                 \u001b[1;32mif\u001b[0m \u001b[0mself\u001b[0m\u001b[1;33m.\u001b[0m\u001b[0mauto_display\u001b[0m \u001b[1;32mand\u001b[0m \u001b[0mself\u001b[0m\u001b[1;33m.\u001b[0m\u001b[0mresult\u001b[0m \u001b[1;32mis\u001b[0m \u001b[1;32mnot\u001b[0m \u001b[1;32mNone\u001b[0m\u001b[1;33m:\u001b[0m\u001b[1;33m\u001b[0m\u001b[1;33m\u001b[0m\u001b[0m\n",
          "\u001b[1;32m<ipython-input-4-1c60fdc05ae5>\u001b[0m in \u001b[0;36mdisplayDFT\u001b[1;34m(numberOfPeriods, samplesPerPeriod, zeroPadding)\u001b[0m\n\u001b[0;32m     59\u001b[0m     \u001b[1;31m# Signal\u001b[0m\u001b[1;33m\u001b[0m\u001b[1;33m\u001b[0m\u001b[1;33m\u001b[0m\u001b[0m\n\u001b[0;32m     60\u001b[0m     \u001b[0max1\u001b[0m\u001b[1;33m.\u001b[0m\u001b[0mplot\u001b[0m\u001b[1;33m(\u001b[0m\u001b[0mt\u001b[0m\u001b[1;33m,\u001b[0m \u001b[0msignal\u001b[0m\u001b[1;33m)\u001b[0m\u001b[1;33m\u001b[0m\u001b[1;33m\u001b[0m\u001b[0m\n\u001b[1;32m---> 61\u001b[1;33m     \u001b[0max1\u001b[0m\u001b[1;33m.\u001b[0m\u001b[0mtitle\u001b[0m\u001b[1;33m(\u001b[0m\u001b[1;34m'Signal'\u001b[0m\u001b[1;33m)\u001b[0m\u001b[1;33m\u001b[0m\u001b[1;33m\u001b[0m\u001b[0m\n\u001b[0m\u001b[0;32m     62\u001b[0m     \u001b[0max1\u001b[0m\u001b[1;33m.\u001b[0m\u001b[0mxlabel\u001b[0m\u001b[1;33m(\u001b[0m\u001b[1;34m't (s)'\u001b[0m\u001b[1;33m)\u001b[0m\u001b[1;33m\u001b[0m\u001b[1;33m\u001b[0m\u001b[0m\n\u001b[0;32m     63\u001b[0m \u001b[1;33m\u001b[0m\u001b[0m\n",
          "\u001b[1;31mTypeError\u001b[0m: 'Text' object is not callable"
         ]
        }
       ]
      }
     },
     "90cc983f042e41d198027f90848873c4": {
      "model_module": "@jupyter-widgets/base",
      "model_module_version": "1.2.0",
      "model_name": "LayoutModel",
      "state": {}
     },
     "90d602342a5a403fb5a048a853247629": {
      "model_module": "@jupyter-widgets/base",
      "model_module_version": "1.2.0",
      "model_name": "LayoutModel",
      "state": {}
     },
     "9104593711ca4fa7aa78d4f2f191249e": {
      "model_module": "@jupyter-widgets/controls",
      "model_module_version": "1.5.0",
      "model_name": "VBoxModel",
      "state": {
       "_dom_classes": [
        "widget-interact"
       ],
       "children": [
        "IPY_MODEL_0325e47dd80640d3b07657eb19e375ca",
        "IPY_MODEL_52a44278a7f14b989f75d77205327ab2",
        "IPY_MODEL_8ef1211ddaa1416ba420b22004160b17",
        "IPY_MODEL_e99a26f5a2644aa6a2b6873ac727e1f7"
       ],
       "layout": "IPY_MODEL_7c97435744a64215bf7b3ecae445b742"
      }
     },
     "915bb1b801c04b2f835d65afcde5a063": {
      "model_module": "@jupyter-widgets/output",
      "model_module_version": "1.0.0",
      "model_name": "OutputModel",
      "state": {
       "layout": "IPY_MODEL_c0fec63d480b49eca0ae5f736175fb49",
       "outputs": [
        {
         "data": {
          "application/vnd.jupyter.widget-view+json": {
           "model_id": "a0bc1f6ac5f14a2190517e83d8f69d33",
           "version_major": 2,
           "version_minor": 0
          },
          "text/plain": "Canvas(toolbar=Toolbar(toolitems=[('Home', 'Reset original view', 'home', 'home'), ('Back', 'Back to previous …"
         },
         "metadata": {},
         "output_type": "display_data"
        }
       ]
      }
     },
     "918b84da9fba4fea848a2a818809de44": {
      "model_module": "@jupyter-widgets/base",
      "model_module_version": "1.2.0",
      "model_name": "LayoutModel",
      "state": {}
     },
     "91c2081012d84cae969a12b03281441d": {
      "model_module": "@jupyter-widgets/controls",
      "model_module_version": "1.5.0",
      "model_name": "SliderStyleModel",
      "state": {
       "description_width": "initial"
      }
     },
     "91d5fdf901da4db08ef27f41ecd45420": {
      "model_module": "@jupyter-widgets/controls",
      "model_module_version": "1.5.0",
      "model_name": "VBoxModel",
      "state": {
       "children": [
        "IPY_MODEL_6469e4b416674ec487af0a52bc2ef846",
        "IPY_MODEL_cddef6c988574a7e9a00275a8e415293"
       ],
       "layout": "IPY_MODEL_4d61d6a876b549c6bd2d16f3ccda5bfd"
      }
     },
     "91fd35ba6627491f953820b2300a51c0": {
      "model_module": "@jupyter-widgets/controls",
      "model_module_version": "1.5.0",
      "model_name": "IntSliderModel",
      "state": {
       "continuous_update": false,
       "description": "Periods",
       "layout": "IPY_MODEL_60d761d5e8cc4196bd164bad11e551b8",
       "max": 50,
       "min": 1,
       "style": "IPY_MODEL_9969f0eb36bc42839bf3e909307d9554",
       "value": 28
      }
     },
     "9216cfc424134ee98b84f781fd907561": {
      "model_module": "@jupyter-widgets/controls",
      "model_module_version": "1.5.0",
      "model_name": "IntSliderModel",
      "state": {
       "continuous_update": false,
       "description": "Periods",
       "layout": "IPY_MODEL_a9fb56bdbef7429aa3f7680e4b77dfa2",
       "max": 50,
       "min": 1,
       "style": "IPY_MODEL_ccf66881f40e44aca05462a3ee1ca1ef",
       "value": 26
      }
     },
     "92353665bf524b7b8a895d74977af69b": {
      "model_module": "@jupyter-widgets/controls",
      "model_module_version": "1.5.0",
      "model_name": "HBoxModel",
      "state": {
       "children": [
        "IPY_MODEL_d56a855741904edaabf1a971a13d6624",
        "IPY_MODEL_2cc12022a76445719004fb9e6d53ad3d",
        "IPY_MODEL_2aa00a532d444c1381a4b22e34a8bd61"
       ],
       "layout": "IPY_MODEL_1bf62cc2edd74ea4aeb32855c896febb"
      }
     },
     "923d34e5d0424e7394ec7228046a6519": {
      "model_module": "@jupyter-widgets/base",
      "model_module_version": "1.2.0",
      "model_name": "LayoutModel",
      "state": {}
     },
     "9253759e320546a3ad992d12f41d38ab": {
      "model_module": "@jupyter-widgets/output",
      "model_module_version": "1.0.0",
      "model_name": "OutputModel",
      "state": {
       "layout": "IPY_MODEL_0855d1ea4aec46bc85e44b5bc251828e",
       "outputs": [
        {
         "ename": "TypeError",
         "evalue": "'Text' object is not callable",
         "output_type": "error",
         "traceback": [
          "\u001b[1;31m---------------------------------------------------------------------------\u001b[0m",
          "\u001b[1;31mTypeError\u001b[0m                                 Traceback (most recent call last)",
          "\u001b[1;32mE:\\Software\\Anaconda3\\lib\\site-packages\\ipywidgets\\widgets\\interaction.py\u001b[0m in \u001b[0;36mupdate\u001b[1;34m(self, *args)\u001b[0m\n\u001b[0;32m    254\u001b[0m                     \u001b[0mvalue\u001b[0m \u001b[1;33m=\u001b[0m \u001b[0mwidget\u001b[0m\u001b[1;33m.\u001b[0m\u001b[0mget_interact_value\u001b[0m\u001b[1;33m(\u001b[0m\u001b[1;33m)\u001b[0m\u001b[1;33m\u001b[0m\u001b[1;33m\u001b[0m\u001b[0m\n\u001b[0;32m    255\u001b[0m                     \u001b[0mself\u001b[0m\u001b[1;33m.\u001b[0m\u001b[0mkwargs\u001b[0m\u001b[1;33m[\u001b[0m\u001b[0mwidget\u001b[0m\u001b[1;33m.\u001b[0m\u001b[0m_kwarg\u001b[0m\u001b[1;33m]\u001b[0m \u001b[1;33m=\u001b[0m \u001b[0mvalue\u001b[0m\u001b[1;33m\u001b[0m\u001b[1;33m\u001b[0m\u001b[0m\n\u001b[1;32m--> 256\u001b[1;33m                 \u001b[0mself\u001b[0m\u001b[1;33m.\u001b[0m\u001b[0mresult\u001b[0m \u001b[1;33m=\u001b[0m \u001b[0mself\u001b[0m\u001b[1;33m.\u001b[0m\u001b[0mf\u001b[0m\u001b[1;33m(\u001b[0m\u001b[1;33m**\u001b[0m\u001b[0mself\u001b[0m\u001b[1;33m.\u001b[0m\u001b[0mkwargs\u001b[0m\u001b[1;33m)\u001b[0m\u001b[1;33m\u001b[0m\u001b[1;33m\u001b[0m\u001b[0m\n\u001b[0m\u001b[0;32m    257\u001b[0m                 \u001b[0mshow_inline_matplotlib_plots\u001b[0m\u001b[1;33m(\u001b[0m\u001b[1;33m)\u001b[0m\u001b[1;33m\u001b[0m\u001b[1;33m\u001b[0m\u001b[0m\n\u001b[0;32m    258\u001b[0m                 \u001b[1;32mif\u001b[0m \u001b[0mself\u001b[0m\u001b[1;33m.\u001b[0m\u001b[0mauto_display\u001b[0m \u001b[1;32mand\u001b[0m \u001b[0mself\u001b[0m\u001b[1;33m.\u001b[0m\u001b[0mresult\u001b[0m \u001b[1;32mis\u001b[0m \u001b[1;32mnot\u001b[0m \u001b[1;32mNone\u001b[0m\u001b[1;33m:\u001b[0m\u001b[1;33m\u001b[0m\u001b[1;33m\u001b[0m\u001b[0m\n",
          "\u001b[1;32m<ipython-input-9-1f1a11f88b81>\u001b[0m in \u001b[0;36mdisplayDFT\u001b[1;34m(numberOfPeriods, samplesPerPeriod, zeroPadding)\u001b[0m\n\u001b[0;32m     65\u001b[0m     \u001b[1;31m# DFT\u001b[0m\u001b[1;33m\u001b[0m\u001b[1;33m\u001b[0m\u001b[1;33m\u001b[0m\u001b[0m\n\u001b[0;32m     66\u001b[0m     \u001b[0max2\u001b[0m\u001b[1;33m.\u001b[0m\u001b[0mplot\u001b[0m\u001b[1;33m(\u001b[0m\u001b[0mf\u001b[0m\u001b[1;33m,\u001b[0m \u001b[0mnp\u001b[0m\u001b[1;33m.\u001b[0m\u001b[0mconcatenate\u001b[0m\u001b[1;33m(\u001b[0m\u001b[1;33m[\u001b[0m\u001b[1;33m(\u001b[0m\u001b[0mnormalizedMagnitudeDFT\u001b[0m\u001b[1;33m)\u001b[0m\u001b[1;33m[\u001b[0m\u001b[0mint\u001b[0m\u001b[1;33m(\u001b[0m\u001b[1;33m(\u001b[0m\u001b[0mN\u001b[0m\u001b[1;33m/\u001b[0m\u001b[1;36m2\u001b[0m\u001b[1;33m)\u001b[0m\u001b[1;33m)\u001b[0m\u001b[1;33m+\u001b[0m\u001b[1;36m1\u001b[0m\u001b[1;33m:\u001b[0m\u001b[0mN\u001b[0m\u001b[1;33m]\u001b[0m\u001b[1;33m,\u001b[0m\u001b[1;33m(\u001b[0m\u001b[0mnormalizedMagnitudeDFT\u001b[0m\u001b[1;33m)\u001b[0m\u001b[1;33m[\u001b[0m\u001b[1;36m0\u001b[0m\u001b[1;33m:\u001b[0m\u001b[0mint\u001b[0m\u001b[1;33m(\u001b[0m\u001b[1;33m(\u001b[0m\u001b[0mN\u001b[0m\u001b[1;33m/\u001b[0m\u001b[1;36m2\u001b[0m\u001b[1;33m)\u001b[0m\u001b[1;33m)\u001b[0m\u001b[1;33m+\u001b[0m\u001b[1;36m1\u001b[0m\u001b[1;33m]\u001b[0m\u001b[1;33m]\u001b[0m\u001b[1;33m)\u001b[0m\u001b[1;33m)\u001b[0m\u001b[1;33m\u001b[0m\u001b[1;33m\u001b[0m\u001b[0m\n\u001b[1;32m---> 67\u001b[1;33m     \u001b[0max2\u001b[0m\u001b[1;33m.\u001b[0m\u001b[0mtitle\u001b[0m\u001b[1;33m(\u001b[0m\u001b[1;34m'DFT'\u001b[0m\u001b[1;33m)\u001b[0m\u001b[1;33m\u001b[0m\u001b[1;33m\u001b[0m\u001b[0m\n\u001b[0m\u001b[0;32m     68\u001b[0m     \u001b[0max2\u001b[0m\u001b[1;33m.\u001b[0m\u001b[0mxlabel\u001b[0m\u001b[1;33m(\u001b[0m\u001b[1;34m'f (Hz)'\u001b[0m\u001b[1;33m)\u001b[0m\u001b[1;33m\u001b[0m\u001b[1;33m\u001b[0m\u001b[0m\n\u001b[0;32m     69\u001b[0m \u001b[1;33m\u001b[0m\u001b[0m\n",
          "\u001b[1;31mTypeError\u001b[0m: 'Text' object is not callable"
         ]
        }
       ]
      }
     },
     "92601aba97c8448396a4dee83daec03c": {
      "model_module": "@jupyter-widgets/controls",
      "model_module_version": "1.5.0",
      "model_name": "IntSliderModel",
      "state": {
       "continuous_update": false,
       "description": "Sampling (Hz)",
       "layout": "IPY_MODEL_a29210be0cc84ef9bbc24046acb5369c",
       "max": 20,
       "min": 2,
       "step": 2,
       "style": "IPY_MODEL_a0c0269fa8cf477ebc2bc9fface66988",
       "value": 4
      }
     },
     "92afbc83ece04b95a1cda857c9b1de93": {
      "model_module": "@jupyter-widgets/base",
      "model_module_version": "1.2.0",
      "model_name": "LayoutModel",
      "state": {
       "flex_flow": "row wrap"
      }
     },
     "92b092866a37408cacbf90fdd2126100": {
      "model_module": "@jupyter-widgets/controls",
      "model_module_version": "1.5.0",
      "model_name": "IntSliderModel",
      "state": {
       "continuous_update": false,
       "description": "0-Padding",
       "layout": "IPY_MODEL_ef7f44f5f4014ffca2bd27b963fa92fd",
       "max": 500,
       "style": "IPY_MODEL_ab27e4aae5bc48ac90ebf734f87aa3cf"
      }
     },
     "92b0c4c250aa4a909789e7c54d5f0076": {
      "model_module": "@jupyter-widgets/controls",
      "model_module_version": "1.5.0",
      "model_name": "SliderStyleModel",
      "state": {
       "description_width": "initial"
      }
     },
     "92c4f48c68d0489c97a6079104e1b57c": {
      "model_module": "@jupyter-widgets/output",
      "model_module_version": "1.0.0",
      "model_name": "OutputModel",
      "state": {
       "layout": "IPY_MODEL_32615696b8da479bb94171cd5930ef90"
      }
     },
     "92d4690802b343a292b62672de96992c": {
      "model_module": "@jupyter-widgets/controls",
      "model_module_version": "1.5.0",
      "model_name": "IntSliderModel",
      "state": {
       "description": "0-Padding",
       "layout": "IPY_MODEL_356951b2ae1841faac617589863c6c98",
       "max": 10,
       "style": "IPY_MODEL_bea0eb624f7744f384a82cbd49d28c5b"
      }
     },
     "92ff2707f9ed4ebb8d28331f380e28f6": {
      "model_module": "@jupyter-widgets/controls",
      "model_module_version": "1.5.0",
      "model_name": "IntSliderModel",
      "state": {
       "continuous_update": false,
       "description": "Sampling (Hz)",
       "layout": "IPY_MODEL_8a434be745634d75898ce82d77a9152a",
       "max": 20,
       "min": 2,
       "step": 2,
       "style": "IPY_MODEL_f35443a80dc84e3f848538c8f328e84a",
       "value": 6
      }
     },
     "93031969794340f590110184a6fac67e": {
      "model_module": "@jupyter-widgets/base",
      "model_module_version": "1.2.0",
      "model_name": "LayoutModel",
      "state": {}
     },
     "93148e5fefbd4dc58bb05f0976367bd2": {
      "model_module": "@jupyter-widgets/controls",
      "model_module_version": "1.5.0",
      "model_name": "VBoxModel",
      "state": {
       "children": [
        "IPY_MODEL_22070cbfad334906bdf371df0050f69c",
        "IPY_MODEL_ba0454986bd94f64a4e80b5f94d6bc23",
        "IPY_MODEL_5c45001395bc476aac7aa086ecb744fd"
       ],
       "layout": "IPY_MODEL_be0c1de39d034df5a4c3f269c117e158"
      }
     },
     "932f333eb7f940e3ad30a2946752bdcb": {
      "model_module": "@jupyter-widgets/controls",
      "model_module_version": "1.5.0",
      "model_name": "IntSliderModel",
      "state": {
       "continuous_update": false,
       "description": "Sampling (Hz)",
       "layout": "IPY_MODEL_9a53dd6762644cb4a7f601657198c653",
       "max": 12,
       "min": 2,
       "step": 2,
       "style": "IPY_MODEL_81c811e9c7394512b0b2033084c15e41",
       "value": 4
      }
     },
     "936cead9210349f1b0a85af6ccf380ba": {
      "model_module": "@jupyter-widgets/output",
      "model_module_version": "1.0.0",
      "model_name": "OutputModel",
      "state": {
       "layout": "IPY_MODEL_41d665e3bf164d1dbf7387cbfb18cc9a"
      }
     },
     "937d1bfcd0ec462c92da4bf3b31e9d04": {
      "model_module": "@jupyter-widgets/controls",
      "model_module_version": "1.5.0",
      "model_name": "SliderStyleModel",
      "state": {
       "description_width": "initial"
      }
     },
     "938a075e240e4618a6b412b90b89a7ef": {
      "model_module": "@jupyter-widgets/controls",
      "model_module_version": "1.5.0",
      "model_name": "VBoxModel",
      "state": {
       "_dom_classes": [
        "widget-interact"
       ],
       "children": [
        "IPY_MODEL_0e8a52a841004622b44ef38089f62026",
        "IPY_MODEL_1d22bf502c594997a96db445360e867a",
        "IPY_MODEL_cd28e537b0a0420e85adcca848a8d68f",
        "IPY_MODEL_2a39245542ad4080b9de7db611ca0762"
       ],
       "layout": "IPY_MODEL_5ab33461d32a49139ba5669903dd5de9"
      }
     },
     "939d0c63885d479ea14410ff2ce198db": {
      "model_module": "jupyter-matplotlib",
      "model_module_version": "^0.7.4",
      "model_name": "ToolbarModel",
      "state": {
       "layout": "IPY_MODEL_3b66a865576241baab750b14126cb283",
       "toolitems": [
        [
         "Home",
         "Reset original view",
         "home",
         "home"
        ],
        [
         "Back",
         "Back to previous view",
         "arrow-left",
         "back"
        ],
        [
         "Forward",
         "Forward to next view",
         "arrow-right",
         "forward"
        ],
        [
         "Pan",
         "Left button pans, Right button zooms\nx/y fixes axis, CTRL fixes aspect",
         "arrows",
         "pan"
        ],
        [
         "Zoom",
         "Zoom to rectangle\nx/y fixes axis, CTRL fixes aspect",
         "square-o",
         "zoom"
        ],
        [
         "Download",
         "Download plot",
         "floppy-o",
         "save_figure"
        ]
       ]
      }
     },
     "93c20f20440a4d72ac688e7811b70425": {
      "model_module": "@jupyter-widgets/base",
      "model_module_version": "1.2.0",
      "model_name": "LayoutModel",
      "state": {}
     },
     "93dcdcef8e544243a353590f55f96e75": {
      "model_module": "@jupyter-widgets/controls",
      "model_module_version": "1.5.0",
      "model_name": "IntSliderModel",
      "state": {
       "continuous_update": false,
       "description": "Sampling (Hz)",
       "layout": "IPY_MODEL_570f078a37ca48b68b513d6a05dece7a",
       "max": 20,
       "min": 2,
       "step": 2,
       "style": "IPY_MODEL_6efb17d0a2a14990bb15d8d1fbabf32f",
       "value": 4
      }
     },
     "93e5241d08454614a9fbd70e2da45676": {
      "model_module": "@jupyter-widgets/base",
      "model_module_version": "1.2.0",
      "model_name": "LayoutModel",
      "state": {}
     },
     "93e76568e9324dc2ac416b8fa2ace890": {
      "model_module": "@jupyter-widgets/controls",
      "model_module_version": "1.5.0",
      "model_name": "IntSliderModel",
      "state": {
       "continuous_update": false,
       "description": "Periods",
       "layout": "IPY_MODEL_59c481b2c97c4c518618ab1d537c00b1",
       "max": 50,
       "min": 1,
       "style": "IPY_MODEL_2f572c93ce3d415fad49210c716ca89a",
       "value": 2
      }
     },
     "947fd7d019514e59a41ed5cf40690fce": {
      "model_module": "@jupyter-widgets/controls",
      "model_module_version": "1.5.0",
      "model_name": "IntSliderModel",
      "state": {
       "continuous_update": false,
       "description": "Periods",
       "layout": "IPY_MODEL_aaa054135c804bf39165961e64db8e01",
       "max": 50,
       "min": 1,
       "style": "IPY_MODEL_181afa255720422a91a9c41f6d459962",
       "value": 2
      }
     },
     "94ae9ecc151f40ddb4e30ac5584daaee": {
      "model_module": "@jupyter-widgets/controls",
      "model_module_version": "1.5.0",
      "model_name": "VBoxModel",
      "state": {
       "children": [
        "IPY_MODEL_02f418f8503b4994a7bea7346b15a2fb",
        "IPY_MODEL_b5c928b108434032a40560974cd4b228",
        "IPY_MODEL_3616e29265b7453ca29130876037e544"
       ],
       "layout": "IPY_MODEL_48b1541da5bc4aafb24da609881e0f60"
      }
     },
     "94b71182aec74d088934e0931a03616e": {
      "model_module": "@jupyter-widgets/controls",
      "model_module_version": "1.5.0",
      "model_name": "IntSliderModel",
      "state": {
       "continuous_update": false,
       "description": "Sampling (Hz)",
       "layout": "IPY_MODEL_8b70afc7552041b1bfa77b30e18652b3",
       "max": 20,
       "min": 2,
       "step": 2,
       "style": "IPY_MODEL_6e29e2abde79479696c65f125a87e04e",
       "value": 4
      }
     },
     "94da799e39cc4967ae97eb89aa8d6633": {
      "model_module": "@jupyter-widgets/base",
      "model_module_version": "1.2.0",
      "model_name": "LayoutModel",
      "state": {}
     },
     "94ff821b0db6450bbcd6bd789533a20b": {
      "model_module": "@jupyter-widgets/controls",
      "model_module_version": "1.5.0",
      "model_name": "SliderStyleModel",
      "state": {
       "description_width": "initial"
      }
     },
     "951e0eab28594f0a894d39a47080483b": {
      "model_module": "@jupyter-widgets/base",
      "model_module_version": "1.2.0",
      "model_name": "LayoutModel",
      "state": {}
     },
     "952d5786b555445a83389dcfbbfb92d7": {
      "model_module": "@jupyter-widgets/controls",
      "model_module_version": "1.5.0",
      "model_name": "SliderStyleModel",
      "state": {
       "description_width": "initial"
      }
     },
     "956e84271c2a421788282ce6ae05991f": {
      "model_module": "@jupyter-widgets/base",
      "model_module_version": "1.2.0",
      "model_name": "LayoutModel",
      "state": {}
     },
     "957453b44b5b42a6b63dcc4027a952dd": {
      "model_module": "@jupyter-widgets/base",
      "model_module_version": "1.2.0",
      "model_name": "LayoutModel",
      "state": {}
     },
     "95816fcf91364c31a0db3e084fdd0845": {
      "model_module": "@jupyter-widgets/base",
      "model_module_version": "1.2.0",
      "model_name": "LayoutModel",
      "state": {}
     },
     "95835b62ed4e4be2b4a52062005d697a": {
      "model_module": "@jupyter-widgets/controls",
      "model_module_version": "1.5.0",
      "model_name": "SliderStyleModel",
      "state": {
       "description_width": "initial"
      }
     },
     "95abec05843e405fb590c1a230ebfbb1": {
      "model_module": "@jupyter-widgets/controls",
      "model_module_version": "1.5.0",
      "model_name": "VBoxModel",
      "state": {
       "_dom_classes": [
        "widget-interact"
       ],
       "children": [
        "IPY_MODEL_f9bae904cc074a0794a1770097ffb2f7",
        "IPY_MODEL_88e47621e75e4932ba8f2f79ade8295b",
        "IPY_MODEL_4da54b5745c3498fa6af5a51d6dab01d",
        "IPY_MODEL_a72304b020e9460189f1634b4ff439bf"
       ],
       "layout": "IPY_MODEL_32b8aa8d63964a1ebd5b0dea9f053166"
      }
     },
     "95d81b4e5a4145c9881b24a7b8d3d12c": {
      "model_module": "@jupyter-widgets/base",
      "model_module_version": "1.2.0",
      "model_name": "LayoutModel",
      "state": {}
     },
     "9618d4a04dc8480e94ac876ec7b67540": {
      "model_module": "@jupyter-widgets/base",
      "model_module_version": "1.2.0",
      "model_name": "LayoutModel",
      "state": {}
     },
     "961f6d94c42c400c9d82a66ed75bd5da": {
      "model_module": "@jupyter-widgets/controls",
      "model_module_version": "1.5.0",
      "model_name": "IntSliderModel",
      "state": {
       "continuous_update": false,
       "description": "Sampling (Hz)",
       "layout": "IPY_MODEL_90229c2ea17d462f89d23e3e98aec7bb",
       "max": 12,
       "min": 2,
       "step": 2,
       "style": "IPY_MODEL_8d014ec8a8dd417bb5a59bb84288f616",
       "value": 8
      }
     },
     "9626693f2e674240bfd3fb4402a40431": {
      "model_module": "@jupyter-widgets/controls",
      "model_module_version": "1.5.0",
      "model_name": "VBoxModel",
      "state": {
       "children": [
        "IPY_MODEL_fea47ef9f1c54c42b28b423535d55852",
        "IPY_MODEL_5ee4964f61b640db89f4a74b4f484ccd"
       ],
       "layout": "IPY_MODEL_0411147f8ac641819c1fd89bf7be4688"
      }
     },
     "9639879fe97e49e4bc7ee519f079ef2b": {
      "model_module": "@jupyter-widgets/base",
      "model_module_version": "1.2.0",
      "model_name": "LayoutModel",
      "state": {}
     },
     "96599e38944c420883a99e4c01747bf1": {
      "model_module": "@jupyter-widgets/controls",
      "model_module_version": "1.5.0",
      "model_name": "IntSliderModel",
      "state": {
       "continuous_update": false,
       "description": "0-Padding",
       "layout": "IPY_MODEL_016cf943f49148fb9d1a66587caf4d59",
       "max": 500,
       "style": "IPY_MODEL_4092f28d414a4546bc831824353fb881"
      }
     },
     "96716f6479904282b8e3aca9cf43bd0f": {
      "model_module": "@jupyter-widgets/controls",
      "model_module_version": "1.5.0",
      "model_name": "IntSliderModel",
      "state": {
       "description": "0-Padding",
       "layout": "IPY_MODEL_3ae7960921e14017911ed99a36e9624c",
       "max": 10,
       "style": "IPY_MODEL_84ba7a0fa7e24aebac87389a49eb3e36"
      }
     },
     "969963b60c4942c49017a1592d2fda38": {
      "model_module": "@jupyter-widgets/base",
      "model_module_version": "1.2.0",
      "model_name": "LayoutModel",
      "state": {}
     },
     "969a03c6c09545de8a6739492c7e0b75": {
      "model_module": "@jupyter-widgets/controls",
      "model_module_version": "1.5.0",
      "model_name": "HBoxModel",
      "state": {
       "children": [
        "IPY_MODEL_5a5b5ee484a143f598bc307731694eae",
        "IPY_MODEL_7f868fad361846998d8704a7ccf0b5dc"
       ],
       "layout": "IPY_MODEL_580f53dcdf8a4e8597f1262f679adbf1"
      }
     },
     "96fee428f1154174be4dba306f219782": {
      "model_module": "@jupyter-widgets/base",
      "model_module_version": "1.2.0",
      "model_name": "LayoutModel",
      "state": {}
     },
     "970fd995925940579dd581494105d053": {
      "model_module": "@jupyter-widgets/controls",
      "model_module_version": "1.5.0",
      "model_name": "VBoxModel",
      "state": {
       "_dom_classes": [
        "widget-interact"
       ],
       "children": [
        "IPY_MODEL_48b8b98159fe487a88493ffb6d119d32",
        "IPY_MODEL_f19d5eb933c547a49ac3c76fc33546a5",
        "IPY_MODEL_3e486910880441139c05024d033a2b6d",
        "IPY_MODEL_46afaa225d9e4b32a09a253565bbe56f"
       ],
       "layout": "IPY_MODEL_5ab9c89fcf0d4f5eb385313a236a3a77"
      }
     },
     "9726dae224d045c7a2859fd70abb6634": {
      "model_module": "@jupyter-widgets/controls",
      "model_module_version": "1.5.0",
      "model_name": "SliderStyleModel",
      "state": {
       "description_width": "initial"
      }
     },
     "976c4e5f787c4b65b276a31fde8099ce": {
      "model_module": "@jupyter-widgets/controls",
      "model_module_version": "1.5.0",
      "model_name": "VBoxModel",
      "state": {
       "_dom_classes": [
        "widget-interact"
       ],
       "children": [
        "IPY_MODEL_6d912a6765e64f559ed5b98a6a92f34d",
        "IPY_MODEL_dc9ae6ed64134919ae7b3af98533da01",
        "IPY_MODEL_e576066eb7534ec19651de8090a80893",
        "IPY_MODEL_c33c4be303ad448ea81629a474a4ba59"
       ],
       "layout": "IPY_MODEL_b4f9c5798aee43bdbcc9a3f766ae0f5b"
      }
     },
     "9783dd244aa24e549796bc96fa8eba68": {
      "model_module": "@jupyter-widgets/base",
      "model_module_version": "1.2.0",
      "model_name": "LayoutModel",
      "state": {}
     },
     "9794a336db584608b99f0ff2fc4923cb": {
      "model_module": "@jupyter-widgets/base",
      "model_module_version": "1.2.0",
      "model_name": "LayoutModel",
      "state": {}
     },
     "979d1b9d074b4f60a0053258a4dcda73": {
      "model_module": "@jupyter-widgets/controls",
      "model_module_version": "1.5.0",
      "model_name": "SliderStyleModel",
      "state": {
       "description_width": "initial"
      }
     },
     "97c15602592a414f937271682716d582": {
      "model_module": "@jupyter-widgets/base",
      "model_module_version": "1.2.0",
      "model_name": "LayoutModel",
      "state": {}
     },
     "97cbaa1d9c994df9a6b17150054f9fc2": {
      "model_module": "@jupyter-widgets/controls",
      "model_module_version": "1.5.0",
      "model_name": "VBoxModel",
      "state": {
       "children": [
        "IPY_MODEL_0e2de83729a34e3aba0b712406a376ee",
        "IPY_MODEL_bbc6d78858ef4e869d26b002585da23a",
        "IPY_MODEL_aba20f4ee541488ba2ab9f17022d47c3"
       ],
       "layout": "IPY_MODEL_a4cd6bb4241046e1b80b48b0b0d9bc4a"
      }
     },
     "97db154bb07241cda0577764bde18c48": {
      "model_module": "@jupyter-widgets/base",
      "model_module_version": "1.2.0",
      "model_name": "LayoutModel",
      "state": {}
     },
     "97f296da0e234c09858dc3a59cbc52be": {
      "model_module": "jupyter-matplotlib",
      "model_module_version": "^0.7.4",
      "model_name": "ToolbarModel",
      "state": {
       "layout": "IPY_MODEL_6527973d918a4a84ae09ff5ff3a5ba59",
       "toolitems": [
        [
         "Home",
         "Reset original view",
         "home",
         "home"
        ],
        [
         "Back",
         "Back to previous view",
         "arrow-left",
         "back"
        ],
        [
         "Forward",
         "Forward to next view",
         "arrow-right",
         "forward"
        ],
        [
         "Pan",
         "Left button pans, Right button zooms\nx/y fixes axis, CTRL fixes aspect",
         "arrows",
         "pan"
        ],
        [
         "Zoom",
         "Zoom to rectangle\nx/y fixes axis, CTRL fixes aspect",
         "square-o",
         "zoom"
        ],
        [
         "Download",
         "Download plot",
         "floppy-o",
         "save_figure"
        ]
       ]
      }
     },
     "980cbab0f00b48c5868018702946b7df": {
      "model_module": "@jupyter-widgets/controls",
      "model_module_version": "1.5.0",
      "model_name": "SliderStyleModel",
      "state": {
       "description_width": "initial"
      }
     },
     "981c8bb9d16443499b1c8eff2388fbea": {
      "model_module": "jupyter-matplotlib",
      "model_module_version": "^0.7.4",
      "model_name": "ToolbarModel",
      "state": {
       "layout": "IPY_MODEL_49de8c8f07f64bfbb6614c2992994ef3",
       "toolitems": [
        [
         "Home",
         "Reset original view",
         "home",
         "home"
        ],
        [
         "Back",
         "Back to previous view",
         "arrow-left",
         "back"
        ],
        [
         "Forward",
         "Forward to next view",
         "arrow-right",
         "forward"
        ],
        [
         "Pan",
         "Left button pans, Right button zooms\nx/y fixes axis, CTRL fixes aspect",
         "arrows",
         "pan"
        ],
        [
         "Zoom",
         "Zoom to rectangle\nx/y fixes axis, CTRL fixes aspect",
         "square-o",
         "zoom"
        ],
        [
         "Download",
         "Download plot",
         "floppy-o",
         "save_figure"
        ]
       ]
      }
     },
     "9836912a4e9b4b3198af30f2136d0f12": {
      "model_module": "@jupyter-widgets/controls",
      "model_module_version": "1.5.0",
      "model_name": "IntSliderModel",
      "state": {
       "continuous_update": false,
       "description": "Sampling (Hz)",
       "layout": "IPY_MODEL_e769e3f3faee4e08a28d4003a19ee6a7",
       "max": 20,
       "min": 2,
       "step": 2,
       "style": "IPY_MODEL_c3891a6e4b9644bd8df6d2c3316a875e",
       "value": 14
      }
     },
     "984a8e1218cf4e908ddc19f6e100c293": {
      "model_module": "@jupyter-widgets/base",
      "model_module_version": "1.2.0",
      "model_name": "LayoutModel",
      "state": {
       "flex_flow": "row wrap"
      }
     },
     "987eed72299d4402946c80ff5d7fd5bd": {
      "model_module": "@jupyter-widgets/base",
      "model_module_version": "1.2.0",
      "model_name": "LayoutModel",
      "state": {}
     },
     "988491fcca8a477485f1612b052535f6": {
      "model_module": "@jupyter-widgets/controls",
      "model_module_version": "1.5.0",
      "model_name": "SliderStyleModel",
      "state": {
       "description_width": "initial"
      }
     },
     "989c448b6dfd436cb3fd7382767ddbfa": {
      "model_module": "@jupyter-widgets/controls",
      "model_module_version": "1.5.0",
      "model_name": "SliderStyleModel",
      "state": {
       "description_width": "initial"
      }
     },
     "989ff826085a45fba664223e4d68eee1": {
      "model_module": "@jupyter-widgets/base",
      "model_module_version": "1.2.0",
      "model_name": "LayoutModel",
      "state": {}
     },
     "98ca80df16cd46d5a3b8ae658c443a6f": {
      "model_module": "@jupyter-widgets/controls",
      "model_module_version": "1.5.0",
      "model_name": "HBoxModel",
      "state": {
       "children": [
        "IPY_MODEL_18bb877368c547d4b8985a019d87a944",
        "IPY_MODEL_97cbaa1d9c994df9a6b17150054f9fc2"
       ],
       "layout": "IPY_MODEL_a7f4b2f2e67946dea4c411581268175f"
      }
     },
     "98cc9884b5b146ccabc9fdefc4a54849": {
      "model_module": "@jupyter-widgets/base",
      "model_module_version": "1.2.0",
      "model_name": "LayoutModel",
      "state": {}
     },
     "98efc031aed44aaf9ee25b4d1f1a1372": {
      "model_module": "@jupyter-widgets/base",
      "model_module_version": "1.2.0",
      "model_name": "LayoutModel",
      "state": {}
     },
     "98f5ca9df8234ccfb92204dd94cf6c18": {
      "model_module": "@jupyter-widgets/controls",
      "model_module_version": "1.5.0",
      "model_name": "HBoxModel",
      "state": {
       "children": [
        "IPY_MODEL_b74f228a895742bbab93598b6a9cd7ab",
        "IPY_MODEL_1f0155ae48a14d8a9190a7af70ddc076"
       ],
       "layout": "IPY_MODEL_d36d594474304e4181c1f280a7bb9629"
      }
     },
     "990075d3b925475ab829308eecf3337c": {
      "model_module": "@jupyter-widgets/base",
      "model_module_version": "1.2.0",
      "model_name": "LayoutModel",
      "state": {}
     },
     "99126c13b08d4145ad230cd973bc61b6": {
      "model_module": "jupyter-matplotlib",
      "model_module_version": "^0.7.4",
      "model_name": "ToolbarModel",
      "state": {
       "layout": "IPY_MODEL_f9068c83c5b14b22958ccd0b8907c584",
       "toolitems": [
        [
         "Home",
         "Reset original view",
         "home",
         "home"
        ],
        [
         "Back",
         "Back to previous view",
         "arrow-left",
         "back"
        ],
        [
         "Forward",
         "Forward to next view",
         "arrow-right",
         "forward"
        ],
        [
         "Pan",
         "Left button pans, Right button zooms\nx/y fixes axis, CTRL fixes aspect",
         "arrows",
         "pan"
        ],
        [
         "Zoom",
         "Zoom to rectangle\nx/y fixes axis, CTRL fixes aspect",
         "square-o",
         "zoom"
        ],
        [
         "Download",
         "Download plot",
         "floppy-o",
         "save_figure"
        ]
       ]
      }
     },
     "994b76354ff149d28c81c0c5b54dcfa1": {
      "model_module": "@jupyter-widgets/base",
      "model_module_version": "1.2.0",
      "model_name": "LayoutModel",
      "state": {}
     },
     "9969f0eb36bc42839bf3e909307d9554": {
      "model_module": "@jupyter-widgets/controls",
      "model_module_version": "1.5.0",
      "model_name": "SliderStyleModel",
      "state": {
       "description_width": "initial"
      }
     },
     "9976de4f33cf46fcad9e30a1aa7fe4d4": {
      "model_module": "@jupyter-widgets/base",
      "model_module_version": "1.2.0",
      "model_name": "LayoutModel",
      "state": {}
     },
     "999b8134777744d6a48396ad32f3363f": {
      "model_module": "@jupyter-widgets/base",
      "model_module_version": "1.2.0",
      "model_name": "LayoutModel",
      "state": {}
     },
     "99c6096580e249129d29a5305f9148e0": {
      "model_module": "@jupyter-widgets/controls",
      "model_module_version": "1.5.0",
      "model_name": "SliderStyleModel",
      "state": {
       "description_width": "initial"
      }
     },
     "99ea9e7bf3fd4f71a01f1ba20ff2de07": {
      "model_module": "@jupyter-widgets/base",
      "model_module_version": "1.2.0",
      "model_name": "LayoutModel",
      "state": {}
     },
     "99faa0bbc2b94b1785d67cad163a9f77": {
      "model_module": "jupyter-matplotlib",
      "model_module_version": "^0.7.4",
      "model_name": "ToolbarModel",
      "state": {
       "layout": "IPY_MODEL_dfc36ac546264550a2b6eef6e98a8be1",
       "toolitems": [
        [
         "Home",
         "Reset original view",
         "home",
         "home"
        ],
        [
         "Back",
         "Back to previous view",
         "arrow-left",
         "back"
        ],
        [
         "Forward",
         "Forward to next view",
         "arrow-right",
         "forward"
        ],
        [
         "Pan",
         "Left button pans, Right button zooms\nx/y fixes axis, CTRL fixes aspect",
         "arrows",
         "pan"
        ],
        [
         "Zoom",
         "Zoom to rectangle\nx/y fixes axis, CTRL fixes aspect",
         "square-o",
         "zoom"
        ],
        [
         "Download",
         "Download plot",
         "floppy-o",
         "save_figure"
        ]
       ]
      }
     },
     "9a0bd7e74cba48fe928c57bcaadda40f": {
      "model_module": "@jupyter-widgets/base",
      "model_module_version": "1.2.0",
      "model_name": "LayoutModel",
      "state": {}
     },
     "9a5382a0c9a246d28f0e6aeca6bd343a": {
      "model_module": "@jupyter-widgets/output",
      "model_module_version": "1.0.0",
      "model_name": "OutputModel",
      "state": {
       "layout": "IPY_MODEL_81762b3e6ff54e098868b994708f55b9"
      }
     },
     "9a53dd6762644cb4a7f601657198c653": {
      "model_module": "@jupyter-widgets/base",
      "model_module_version": "1.2.0",
      "model_name": "LayoutModel",
      "state": {}
     },
     "9a7f093e5e6547f798271332cd12126e": {
      "model_module": "@jupyter-widgets/controls",
      "model_module_version": "1.5.0",
      "model_name": "SliderStyleModel",
      "state": {
       "description_width": "initial"
      }
     },
     "9a9548ff3ebe4765a0e335dd4c72cc2b": {
      "model_module": "@jupyter-widgets/base",
      "model_module_version": "1.2.0",
      "model_name": "LayoutModel",
      "state": {}
     },
     "9a98def9a47445f389afb3b82ef6aabc": {
      "model_module": "@jupyter-widgets/controls",
      "model_module_version": "1.5.0",
      "model_name": "SliderStyleModel",
      "state": {
       "description_width": "initial"
      }
     },
     "9a9dac004e814ee48f37fbbdf3e8efc9": {
      "model_module": "@jupyter-widgets/controls",
      "model_module_version": "1.5.0",
      "model_name": "VBoxModel",
      "state": {
       "_dom_classes": [
        "widget-interact"
       ],
       "children": [
        "IPY_MODEL_23a3febecabe4e72bd8c98e2910fa340",
        "IPY_MODEL_e0304e025987476e8d9d889890b0c1bf",
        "IPY_MODEL_3ace9d59b0b640e19f69096bd7b26b53",
        "IPY_MODEL_81e1d7b3dd594667ad29f00f2d8a4dd4"
       ],
       "layout": "IPY_MODEL_7169029dbfa14c298a39dc7c3167b2c7"
      }
     },
     "9aa781c25f5e4893afe9d085a695f1b5": {
      "model_module": "@jupyter-widgets/controls",
      "model_module_version": "1.5.0",
      "model_name": "SliderStyleModel",
      "state": {
       "description_width": "initial"
      }
     },
     "9aaac5901f3d4f21922f94fe32cbce84": {
      "model_module": "@jupyter-widgets/controls",
      "model_module_version": "1.5.0",
      "model_name": "IntSliderModel",
      "state": {
       "continuous_update": false,
       "description": "0-Padding",
       "layout": "IPY_MODEL_df62e5c0b9454f98a9c2597837dfc230",
       "max": 500,
       "style": "IPY_MODEL_a94391ff51574372be7c2848ba7d170c"
      }
     },
     "9adf5a082d7f40beb0781dfd4225774a": {
      "model_module": "@jupyter-widgets/controls",
      "model_module_version": "1.5.0",
      "model_name": "IntSliderModel",
      "state": {
       "continuous_update": false,
       "description": "Sampling (Hz)",
       "layout": "IPY_MODEL_624bb9659bbf4c8ab6faf3342b5b04bd",
       "max": 20,
       "min": 2,
       "step": 2,
       "style": "IPY_MODEL_dc6976ef4f2340dbb61b5482654eefe9",
       "value": 8
      }
     },
     "9aec67d5f38b4a4f81f70a66e081cf40": {
      "model_module": "@jupyter-widgets/base",
      "model_module_version": "1.2.0",
      "model_name": "LayoutModel",
      "state": {}
     },
     "9b2377910f484af795f84cfbdc300d4e": {
      "model_module": "@jupyter-widgets/controls",
      "model_module_version": "1.5.0",
      "model_name": "VBoxModel",
      "state": {
       "children": [
        "IPY_MODEL_8dc6dfc67e3d4982b3e70f1e612fa3ef",
        "IPY_MODEL_c0bf654f6683456393604997c9c090d8",
        "IPY_MODEL_92b092866a37408cacbf90fdd2126100"
       ],
       "layout": "IPY_MODEL_9c8a60becf0147ed83c86a29c0cf37ad"
      }
     },
     "9b24ff754b114a97bcf75e81a26df605": {
      "model_module": "@jupyter-widgets/output",
      "model_module_version": "1.0.0",
      "model_name": "OutputModel",
      "state": {
       "layout": "IPY_MODEL_dd809d3c361d4d92b190c58fd332c796"
      }
     },
     "9b3d08e8cb1f4bc7b70255fb80fd2652": {
      "model_module": "@jupyter-widgets/controls",
      "model_module_version": "1.5.0",
      "model_name": "HBoxModel",
      "state": {
       "children": [
        "IPY_MODEL_340a2db74c5a418d8d59b74acbd5a3d2",
        "IPY_MODEL_1e601a8331534b609e8b614c03831b00",
        "IPY_MODEL_1d66ea7af54544cbb1ebf3e0a630cb43"
       ],
       "layout": "IPY_MODEL_b6443550e6984335b191793049718c12"
      }
     },
     "9b59e05dab2143d28ddd0e52c8c70897": {
      "model_module": "jupyter-matplotlib",
      "model_module_version": "^0.7.4",
      "model_name": "ToolbarModel",
      "state": {
       "layout": "IPY_MODEL_0d2d47039f5d4263af16a40530d5ce9c",
       "toolitems": [
        [
         "Home",
         "Reset original view",
         "home",
         "home"
        ],
        [
         "Back",
         "Back to previous view",
         "arrow-left",
         "back"
        ],
        [
         "Forward",
         "Forward to next view",
         "arrow-right",
         "forward"
        ],
        [
         "Pan",
         "Left button pans, Right button zooms\nx/y fixes axis, CTRL fixes aspect",
         "arrows",
         "pan"
        ],
        [
         "Zoom",
         "Zoom to rectangle\nx/y fixes axis, CTRL fixes aspect",
         "square-o",
         "zoom"
        ],
        [
         "Download",
         "Download plot",
         "floppy-o",
         "save_figure"
        ]
       ]
      }
     },
     "9b8bbee485b94dc38806f97d75e399f6": {
      "model_module": "@jupyter-widgets/base",
      "model_module_version": "1.2.0",
      "model_name": "LayoutModel",
      "state": {}
     },
     "9b96a7659fac4adb954e7bf49aa26e46": {
      "model_module": "@jupyter-widgets/controls",
      "model_module_version": "1.5.0",
      "model_name": "SliderStyleModel",
      "state": {
       "description_width": "initial"
      }
     },
     "9b9d34f1316744f282fea4220cdae472": {
      "model_module": "@jupyter-widgets/base",
      "model_module_version": "1.2.0",
      "model_name": "LayoutModel",
      "state": {}
     },
     "9baa92e322184c2e834e923b33b52059": {
      "model_module": "@jupyter-widgets/base",
      "model_module_version": "1.2.0",
      "model_name": "LayoutModel",
      "state": {}
     },
     "9bb5b3137bc74429a29fac0ae510b72d": {
      "model_module": "@jupyter-widgets/base",
      "model_module_version": "1.2.0",
      "model_name": "LayoutModel",
      "state": {}
     },
     "9bc97e0f7a024293a6451a010c17654c": {
      "model_module": "@jupyter-widgets/controls",
      "model_module_version": "1.5.0",
      "model_name": "SliderStyleModel",
      "state": {
       "description_width": "initial"
      }
     },
     "9bcaa655103f44aab3233a8d45de5196": {
      "model_module": "@jupyter-widgets/controls",
      "model_module_version": "1.5.0",
      "model_name": "SliderStyleModel",
      "state": {
       "description_width": "initial"
      }
     },
     "9be3beb3ef344e9dad94ec7863934425": {
      "model_module": "@jupyter-widgets/controls",
      "model_module_version": "1.5.0",
      "model_name": "SliderStyleModel",
      "state": {
       "description_width": "initial"
      }
     },
     "9c2f74c7c9274d858b5b81c8d9c96643": {
      "model_module": "@jupyter-widgets/base",
      "model_module_version": "1.2.0",
      "model_name": "LayoutModel",
      "state": {}
     },
     "9c667dfede5c4f6390f3dac447409049": {
      "model_module": "@jupyter-widgets/base",
      "model_module_version": "1.2.0",
      "model_name": "LayoutModel",
      "state": {}
     },
     "9c6d2ac5a12641c9a1b5cdb1b369f13c": {
      "model_module": "@jupyter-widgets/controls",
      "model_module_version": "1.5.0",
      "model_name": "SliderStyleModel",
      "state": {
       "description_width": "initial"
      }
     },
     "9c7a40c710b84895a660d6d693ea5521": {
      "model_module": "jupyter-matplotlib",
      "model_module_version": "^0.7.4",
      "model_name": "ToolbarModel",
      "state": {
       "layout": "IPY_MODEL_fb1aa7e2eea1407085e786ad21fc1097",
       "toolitems": [
        [
         "Home",
         "Reset original view",
         "home",
         "home"
        ],
        [
         "Back",
         "Back to previous view",
         "arrow-left",
         "back"
        ],
        [
         "Forward",
         "Forward to next view",
         "arrow-right",
         "forward"
        ],
        [
         "Pan",
         "Left button pans, Right button zooms\nx/y fixes axis, CTRL fixes aspect",
         "arrows",
         "pan"
        ],
        [
         "Zoom",
         "Zoom to rectangle\nx/y fixes axis, CTRL fixes aspect",
         "square-o",
         "zoom"
        ],
        [
         "Download",
         "Download plot",
         "floppy-o",
         "save_figure"
        ]
       ]
      }
     },
     "9c8a60becf0147ed83c86a29c0cf37ad": {
      "model_module": "@jupyter-widgets/base",
      "model_module_version": "1.2.0",
      "model_name": "LayoutModel",
      "state": {}
     },
     "9c925c4caaf7407aa9ddcef24c253499": {
      "model_module": "@jupyter-widgets/controls",
      "model_module_version": "1.5.0",
      "model_name": "IntSliderModel",
      "state": {
       "continuous_update": false,
       "description": "Periods",
       "layout": "IPY_MODEL_aa720bcd9faf4b77b75557d63f93e6d3",
       "max": 50,
       "min": 1,
       "style": "IPY_MODEL_6484af1982d44a3bafe46302816251d6",
       "value": 2
      }
     },
     "9c93bde4e4f04aa6a47317c037b224ce": {
      "model_module": "@jupyter-widgets/controls",
      "model_module_version": "1.5.0",
      "model_name": "SliderStyleModel",
      "state": {
       "description_width": "initial"
      }
     },
     "9ca08e3e49bd4ee095c4f93e29d50b25": {
      "model_module": "@jupyter-widgets/controls",
      "model_module_version": "1.5.0",
      "model_name": "SliderStyleModel",
      "state": {
       "description_width": "initial"
      }
     },
     "9cc15acab6444e94bf16424cad2d7dbc": {
      "model_module": "@jupyter-widgets/base",
      "model_module_version": "1.2.0",
      "model_name": "LayoutModel",
      "state": {}
     },
     "9cce7cac70f24fb1833e18d95f158502": {
      "model_module": "@jupyter-widgets/controls",
      "model_module_version": "1.5.0",
      "model_name": "IntSliderModel",
      "state": {
       "continuous_update": false,
       "description": "Periods",
       "layout": "IPY_MODEL_239017699493409a86f59ebd8ad334af",
       "max": 50,
       "min": 1,
       "style": "IPY_MODEL_9f61a4f32cd24c12b017827899503211",
       "value": 2
      }
     },
     "9d52e90c3c0647879e0be16539320d94": {
      "model_module": "@jupyter-widgets/controls",
      "model_module_version": "1.5.0",
      "model_name": "SliderStyleModel",
      "state": {
       "description_width": "initial"
      }
     },
     "9d5356922db5498da3205b53ecadde8d": {
      "model_module": "@jupyter-widgets/controls",
      "model_module_version": "1.5.0",
      "model_name": "SliderStyleModel",
      "state": {
       "description_width": "initial"
      }
     },
     "9d603e39a0854402bff8b3a612b3dd83": {
      "model_module": "@jupyter-widgets/controls",
      "model_module_version": "1.5.0",
      "model_name": "IntSliderModel",
      "state": {
       "continuous_update": false,
       "description": "Periods",
       "layout": "IPY_MODEL_e079c5974fed41e29dd001cb1d341e31",
       "max": 50,
       "min": 1,
       "style": "IPY_MODEL_f418a5eaac644ad49139372b48227dd6",
       "value": 2
      }
     },
     "9dd488d3f3074bbdaf280920f50839f1": {
      "model_module": "@jupyter-widgets/base",
      "model_module_version": "1.2.0",
      "model_name": "LayoutModel",
      "state": {
       "flex_flow": "column wrap"
      }
     },
     "9e21861b6fd64cc3bafa4c6e67a3cf40": {
      "model_module": "@jupyter-widgets/controls",
      "model_module_version": "1.5.0",
      "model_name": "SliderStyleModel",
      "state": {
       "description_width": "initial"
      }
     },
     "9e5e7616cade4d339087c3dd19540569": {
      "model_module": "@jupyter-widgets/controls",
      "model_module_version": "1.5.0",
      "model_name": "IntSliderModel",
      "state": {
       "continuous_update": false,
       "description": "0-Padding",
       "layout": "IPY_MODEL_00aff58e2246470dad8c8b5b1597998f",
       "max": 500,
       "style": "IPY_MODEL_401d7a987cde418bb3aabcb5d2619cde"
      }
     },
     "9e61db826c5946ce83a38ba0c88892de": {
      "model_module": "@jupyter-widgets/base",
      "model_module_version": "1.2.0",
      "model_name": "LayoutModel",
      "state": {}
     },
     "9e6cd272fc5c46cbad8d172312f003fe": {
      "model_module": "@jupyter-widgets/base",
      "model_module_version": "1.2.0",
      "model_name": "LayoutModel",
      "state": {}
     },
     "9e7b4e2290264116b50b2e7f8a612e96": {
      "model_module": "@jupyter-widgets/controls",
      "model_module_version": "1.5.0",
      "model_name": "VBoxModel",
      "state": {
       "children": [
        "IPY_MODEL_8729a000ce2c47f1b35a48c1920c4a23",
        "IPY_MODEL_560acf3180af43fda9b16299cefc9367",
        "IPY_MODEL_66ebd9a8ae9646c7acfed2ecbd55f7fc"
       ],
       "layout": "IPY_MODEL_bfa0828cb1f14080b1ce76d08116223a"
      }
     },
     "9ea7701f46c2426d8bec3c6c0356f6bb": {
      "model_module": "@jupyter-widgets/controls",
      "model_module_version": "1.5.0",
      "model_name": "VBoxModel",
      "state": {
       "_dom_classes": [
        "widget-interact"
       ],
       "children": [
        "IPY_MODEL_d531ef906bbe4395a09f050b307c6132",
        "IPY_MODEL_b0f881f08cea45e4a8d6fa15f1bc000d",
        "IPY_MODEL_d7b0b062f9764450b791652c243da537",
        "IPY_MODEL_24ff418f9d104b35a72f2321b1910d06"
       ],
       "layout": "IPY_MODEL_5bc432e2e2df4ac796f13b1cd8f66fa9"
      }
     },
     "9eab6d1373264a98a81d3aaf429a9b0b": {
      "model_module": "@jupyter-widgets/controls",
      "model_module_version": "1.5.0",
      "model_name": "IntSliderModel",
      "state": {
       "continuous_update": false,
       "description": "0-Padding",
       "layout": "IPY_MODEL_267b78f7c2f943b48eb30357b4588f43",
       "max": 1200,
       "step": 40,
       "style": "IPY_MODEL_8de3d6b8039b410290b40354ae872412"
      }
     },
     "9ead9330848d4c3fb07663ae05d1d6a8": {
      "model_module": "@jupyter-widgets/base",
      "model_module_version": "1.2.0",
      "model_name": "LayoutModel",
      "state": {}
     },
     "9ed871a345064f20a00531b659b9d4ba": {
      "model_module": "@jupyter-widgets/base",
      "model_module_version": "1.2.0",
      "model_name": "LayoutModel",
      "state": {}
     },
     "9ed876d8313d423196cdb35b83b1cdf2": {
      "model_module": "@jupyter-widgets/base",
      "model_module_version": "1.2.0",
      "model_name": "LayoutModel",
      "state": {}
     },
     "9edef364b7e14978abf769adfb161f64": {
      "model_module": "@jupyter-widgets/controls",
      "model_module_version": "1.5.0",
      "model_name": "SliderStyleModel",
      "state": {
       "description_width": "initial"
      }
     },
     "9ee496df33984a23aef75b43597f1638": {
      "model_module": "@jupyter-widgets/output",
      "model_module_version": "1.0.0",
      "model_name": "OutputModel",
      "state": {
       "layout": "IPY_MODEL_6ddeeeb8acca487bb91938eb668dd8d8"
      }
     },
     "9ef912fce95942449437bd2c5f815a5a": {
      "model_module": "@jupyter-widgets/base",
      "model_module_version": "1.2.0",
      "model_name": "LayoutModel",
      "state": {}
     },
     "9f0f2eac46be4f7d8b614395d633ee45": {
      "model_module": "@jupyter-widgets/controls",
      "model_module_version": "1.5.0",
      "model_name": "IntSliderModel",
      "state": {
       "continuous_update": false,
       "description": "0-Padding",
       "layout": "IPY_MODEL_ba211ef8b4de4bb58ea00a102ee08cb3",
       "max": 1520,
       "step": 50,
       "style": "IPY_MODEL_c5960723bb23420e918a8f1bfc902e5b",
       "value": 1300
      }
     },
     "9f2ab2c962544b2fb54c51ecf419dbe9": {
      "model_module": "@jupyter-widgets/controls",
      "model_module_version": "1.5.0",
      "model_name": "IntSliderModel",
      "state": {
       "continuous_update": false,
       "description": "0-Padding",
       "layout": "IPY_MODEL_21fbd95ece474b91ad6a67913a94c857",
       "max": 500,
       "style": "IPY_MODEL_1d95116e0ce448d0921c36688c0c2cfe"
      }
     },
     "9f61a4f32cd24c12b017827899503211": {
      "model_module": "@jupyter-widgets/controls",
      "model_module_version": "1.5.0",
      "model_name": "SliderStyleModel",
      "state": {
       "description_width": "initial"
      }
     },
     "9f847f18d64a45fc9a4845d1f2a17fa2": {
      "model_module": "jupyter-matplotlib",
      "model_module_version": "^0.7.4",
      "model_name": "ToolbarModel",
      "state": {
       "layout": "IPY_MODEL_652203fd0cf747199070a50aa57d8749",
       "toolitems": [
        [
         "Home",
         "Reset original view",
         "home",
         "home"
        ],
        [
         "Back",
         "Back to previous view",
         "arrow-left",
         "back"
        ],
        [
         "Forward",
         "Forward to next view",
         "arrow-right",
         "forward"
        ],
        [
         "Pan",
         "Left button pans, Right button zooms\nx/y fixes axis, CTRL fixes aspect",
         "arrows",
         "pan"
        ],
        [
         "Zoom",
         "Zoom to rectangle\nx/y fixes axis, CTRL fixes aspect",
         "square-o",
         "zoom"
        ],
        [
         "Download",
         "Download plot",
         "floppy-o",
         "save_figure"
        ]
       ]
      }
     },
     "9f930f33e73141b098f937515f4c334e": {
      "model_module": "@jupyter-widgets/base",
      "model_module_version": "1.2.0",
      "model_name": "LayoutModel",
      "state": {}
     },
     "9f940a4890d44f1f9f2b33c47a380ac3": {
      "model_module": "@jupyter-widgets/output",
      "model_module_version": "1.0.0",
      "model_name": "OutputModel",
      "state": {
       "layout": "IPY_MODEL_85e5a3d800b74489bc76b70d2df7fbf1"
      }
     },
     "9fa1eeb25d7649d89c99f714932ceb83": {
      "model_module": "@jupyter-widgets/controls",
      "model_module_version": "1.5.0",
      "model_name": "IntSliderModel",
      "state": {
       "continuous_update": false,
       "description": "0-Padding",
       "layout": "IPY_MODEL_fde4ebc54956449b914f395e1c7e1f18",
       "max": 288,
       "step": 9,
       "style": "IPY_MODEL_806aee08b7f74924bb9c11d9055d1750",
       "value": 288
      }
     },
     "9faf28b216a94019bbf38a805a769869": {
      "model_module": "@jupyter-widgets/controls",
      "model_module_version": "1.5.0",
      "model_name": "IntSliderModel",
      "state": {
       "continuous_update": false,
       "description": "Sampling (Hz)",
       "layout": "IPY_MODEL_06a5d55108d8438cbe00d244bc36426c",
       "max": 12,
       "min": 2,
       "step": 2,
       "style": "IPY_MODEL_a9f04b4215804d11951633c56e77d691",
       "value": 4
      }
     },
     "9fcf526764184ae298358bcbbba42ec4": {
      "model_module": "jupyter-matplotlib",
      "model_module_version": "^0.7.4",
      "model_name": "ToolbarModel",
      "state": {
       "layout": "IPY_MODEL_956e84271c2a421788282ce6ae05991f",
       "toolitems": [
        [
         "Home",
         "Reset original view",
         "home",
         "home"
        ],
        [
         "Back",
         "Back to previous view",
         "arrow-left",
         "back"
        ],
        [
         "Forward",
         "Forward to next view",
         "arrow-right",
         "forward"
        ],
        [
         "Pan",
         "Left button pans, Right button zooms\nx/y fixes axis, CTRL fixes aspect",
         "arrows",
         "pan"
        ],
        [
         "Zoom",
         "Zoom to rectangle\nx/y fixes axis, CTRL fixes aspect",
         "square-o",
         "zoom"
        ],
        [
         "Download",
         "Download plot",
         "floppy-o",
         "save_figure"
        ]
       ]
      }
     },
     "9fe1f71db5884dff909260e5867f34cf": {
      "model_module": "@jupyter-widgets/base",
      "model_module_version": "1.2.0",
      "model_name": "LayoutModel",
      "state": {}
     },
     "9ff7f360caec4396ae0bed0d3427aa3e": {
      "model_module": "@jupyter-widgets/controls",
      "model_module_version": "1.5.0",
      "model_name": "IntSliderModel",
      "state": {
       "continuous_update": false,
       "description": "Periods",
       "layout": "IPY_MODEL_1c08ff62d20642b68acedbcf7927aa64",
       "max": 50,
       "min": 1,
       "style": "IPY_MODEL_efae0e9734df4d9eb365d4af49398b96",
       "value": 2
      }
     },
     "a01052b96ccb43d4acc32f6c53abe272": {
      "model_module": "@jupyter-widgets/controls",
      "model_module_version": "1.5.0",
      "model_name": "SliderStyleModel",
      "state": {
       "description_width": "initial"
      }
     },
     "a015b798b7e54397b76b9805244a7e04": {
      "model_module": "@jupyter-widgets/output",
      "model_module_version": "1.0.0",
      "model_name": "OutputModel",
      "state": {
       "layout": "IPY_MODEL_20ac48048bd14f08a43ac8f108bc0115"
      }
     },
     "a0284db337f646b8a385cee18811c719": {
      "model_module": "@jupyter-widgets/output",
      "model_module_version": "1.0.0",
      "model_name": "OutputModel",
      "state": {
       "layout": "IPY_MODEL_4cec3ae0c20647708e7c0f9d4d6a730b"
      }
     },
     "a05adadb3c6242a4bb4594c1a92cfa19": {
      "model_module": "@jupyter-widgets/base",
      "model_module_version": "1.2.0",
      "model_name": "LayoutModel",
      "state": {}
     },
     "a07b57a4156d416bb350c116dbf0e939": {
      "model_module": "jupyter-matplotlib",
      "model_module_version": "^0.7.4",
      "model_name": "ToolbarModel",
      "state": {
       "layout": "IPY_MODEL_1f9983985163428fa020b1a014b55430",
       "toolitems": [
        [
         "Home",
         "Reset original view",
         "home",
         "home"
        ],
        [
         "Back",
         "Back to previous view",
         "arrow-left",
         "back"
        ],
        [
         "Forward",
         "Forward to next view",
         "arrow-right",
         "forward"
        ],
        [
         "Pan",
         "Left button pans, Right button zooms\nx/y fixes axis, CTRL fixes aspect",
         "arrows",
         "pan"
        ],
        [
         "Zoom",
         "Zoom to rectangle\nx/y fixes axis, CTRL fixes aspect",
         "square-o",
         "zoom"
        ],
        [
         "Download",
         "Download plot",
         "floppy-o",
         "save_figure"
        ]
       ]
      }
     },
     "a08a44dac77743fbaf99339d98756c82": {
      "model_module": "@jupyter-widgets/base",
      "model_module_version": "1.2.0",
      "model_name": "LayoutModel",
      "state": {}
     },
     "a09a9b333c7041989725c6e71250915c": {
      "model_module": "@jupyter-widgets/controls",
      "model_module_version": "1.5.0",
      "model_name": "SliderStyleModel",
      "state": {
       "description_width": "initial"
      }
     },
     "a09fdf8bc04945bda660af6eab018029": {
      "model_module": "@jupyter-widgets/base",
      "model_module_version": "1.2.0",
      "model_name": "LayoutModel",
      "state": {}
     },
     "a0c0269fa8cf477ebc2bc9fface66988": {
      "model_module": "@jupyter-widgets/controls",
      "model_module_version": "1.5.0",
      "model_name": "SliderStyleModel",
      "state": {
       "description_width": "initial"
      }
     },
     "a0fb88c41e5640e5b258b1d4eda2ef8b": {
      "model_module": "jupyter-matplotlib",
      "model_module_version": "^0.7.4",
      "model_name": "ToolbarModel",
      "state": {
       "layout": "IPY_MODEL_82ed5d0b8bec4d1c84572e1d3ed1f31a",
       "toolitems": [
        [
         "Home",
         "Reset original view",
         "home",
         "home"
        ],
        [
         "Back",
         "Back to previous view",
         "arrow-left",
         "back"
        ],
        [
         "Forward",
         "Forward to next view",
         "arrow-right",
         "forward"
        ],
        [
         "Pan",
         "Left button pans, Right button zooms\nx/y fixes axis, CTRL fixes aspect",
         "arrows",
         "pan"
        ],
        [
         "Zoom",
         "Zoom to rectangle\nx/y fixes axis, CTRL fixes aspect",
         "square-o",
         "zoom"
        ],
        [
         "Download",
         "Download plot",
         "floppy-o",
         "save_figure"
        ]
       ]
      }
     },
     "a12b5b25b28749a5b8efb1d52c9a5118": {
      "model_module": "@jupyter-widgets/base",
      "model_module_version": "1.2.0",
      "model_name": "LayoutModel",
      "state": {}
     },
     "a134c932dcf04e85844fd99e6ba65b7d": {
      "model_module": "@jupyter-widgets/output",
      "model_module_version": "1.0.0",
      "model_name": "OutputModel",
      "state": {
       "layout": "IPY_MODEL_6774b8c5348c433e87806f718514274b"
      }
     },
     "a161bc440fc44fc0ace7f64e7ab6ae01": {
      "model_module": "jupyter-matplotlib",
      "model_module_version": "^0.7.4",
      "model_name": "ToolbarModel",
      "state": {
       "layout": "IPY_MODEL_e910b1c5f5f241c2b716c0c67129bf97",
       "toolitems": [
        [
         "Home",
         "Reset original view",
         "home",
         "home"
        ],
        [
         "Back",
         "Back to previous view",
         "arrow-left",
         "back"
        ],
        [
         "Forward",
         "Forward to next view",
         "arrow-right",
         "forward"
        ],
        [
         "Pan",
         "Left button pans, Right button zooms\nx/y fixes axis, CTRL fixes aspect",
         "arrows",
         "pan"
        ],
        [
         "Zoom",
         "Zoom to rectangle\nx/y fixes axis, CTRL fixes aspect",
         "square-o",
         "zoom"
        ],
        [
         "Download",
         "Download plot",
         "floppy-o",
         "save_figure"
        ]
       ]
      }
     },
     "a1689d9552504850b6e20ec9cdf937a3": {
      "model_module": "@jupyter-widgets/base",
      "model_module_version": "1.2.0",
      "model_name": "LayoutModel",
      "state": {}
     },
     "a17b807709744761a5ec35ff46b97e28": {
      "model_module": "@jupyter-widgets/controls",
      "model_module_version": "1.5.0",
      "model_name": "SliderStyleModel",
      "state": {
       "description_width": "initial"
      }
     },
     "a17ecdd6ad3844afa362435445e4b75c": {
      "model_module": "@jupyter-widgets/base",
      "model_module_version": "1.2.0",
      "model_name": "LayoutModel",
      "state": {}
     },
     "a187825982354e96bc3497072b44db2d": {
      "model_module": "@jupyter-widgets/base",
      "model_module_version": "1.2.0",
      "model_name": "LayoutModel",
      "state": {
       "justify_content": "center"
      }
     },
     "a18a9c932ea04026b4ab7d3a41f50602": {
      "model_module": "@jupyter-widgets/base",
      "model_module_version": "1.2.0",
      "model_name": "LayoutModel",
      "state": {}
     },
     "a18d6d1624a74cbdb0933811e0470a6f": {
      "model_module": "@jupyter-widgets/controls",
      "model_module_version": "1.5.0",
      "model_name": "IntSliderModel",
      "state": {
       "description": "0-Padding",
       "layout": "IPY_MODEL_1f80c9f24e0b4d3086dbb67a7ba5c9d0",
       "max": 320,
       "step": 10,
       "style": "IPY_MODEL_a3e7a7cf0b2247ccb27ac47bfea33845"
      }
     },
     "a197cc65ebd04fc6889b55b99c1edefa": {
      "model_module": "@jupyter-widgets/controls",
      "model_module_version": "1.5.0",
      "model_name": "IntSliderModel",
      "state": {
       "continuous_update": false,
       "description": "Periods",
       "layout": "IPY_MODEL_020ec8d2c88b47d5bbe0391bf86361d4",
       "max": 50,
       "min": 1,
       "style": "IPY_MODEL_366f9690e46e4342bcab4acce1f9a01a",
       "value": 38
      }
     },
     "a19a2147d81b42c8ad2059a2ab80deb6": {
      "model_module": "jupyter-matplotlib",
      "model_module_version": "^0.7.4",
      "model_name": "ToolbarModel",
      "state": {
       "layout": "IPY_MODEL_6e67f51a2d4a45b99bd0a804c9ac652a",
       "toolitems": [
        [
         "Home",
         "Reset original view",
         "home",
         "home"
        ],
        [
         "Back",
         "Back to previous view",
         "arrow-left",
         "back"
        ],
        [
         "Forward",
         "Forward to next view",
         "arrow-right",
         "forward"
        ],
        [
         "Pan",
         "Left button pans, Right button zooms\nx/y fixes axis, CTRL fixes aspect",
         "arrows",
         "pan"
        ],
        [
         "Zoom",
         "Zoom to rectangle\nx/y fixes axis, CTRL fixes aspect",
         "square-o",
         "zoom"
        ],
        [
         "Download",
         "Download plot",
         "floppy-o",
         "save_figure"
        ]
       ]
      }
     },
     "a1c63012cb4f4e2ba633b7138cbf85a5": {
      "model_module": "@jupyter-widgets/base",
      "model_module_version": "1.2.0",
      "model_name": "LayoutModel",
      "state": {}
     },
     "a207e747c2f94f959090e99cf35e8640": {
      "model_module": "@jupyter-widgets/base",
      "model_module_version": "1.2.0",
      "model_name": "LayoutModel",
      "state": {}
     },
     "a216fe53df0c42a2b1dd8a14b31084e8": {
      "model_module": "@jupyter-widgets/base",
      "model_module_version": "1.2.0",
      "model_name": "LayoutModel",
      "state": {}
     },
     "a2246525944c4086b23ac2d9b219e7d3": {
      "model_module": "@jupyter-widgets/controls",
      "model_module_version": "1.5.0",
      "model_name": "VBoxModel",
      "state": {
       "_dom_classes": [
        "widget-interact"
       ],
       "children": [
        "IPY_MODEL_1d3d73d30fb3445583a8c0d8e43b83c6",
        "IPY_MODEL_bedf7db028214028a25a9998b96a3b9a",
        "IPY_MODEL_b41c32fe6a59478d90afe41846ac7814",
        "IPY_MODEL_23e23fe9ab954ab59589682bbace6077"
       ],
       "layout": "IPY_MODEL_286ab550061642429d5a66f0c98dc707"
      }
     },
     "a24c4f4fe49a4feaa3cae31069a8925c": {
      "model_module": "@jupyter-widgets/controls",
      "model_module_version": "1.5.0",
      "model_name": "SliderStyleModel",
      "state": {
       "description_width": "initial"
      }
     },
     "a26d3a7f8ea647368acd95052e2b5df8": {
      "model_module": "@jupyter-widgets/controls",
      "model_module_version": "1.5.0",
      "model_name": "SliderStyleModel",
      "state": {
       "description_width": "initial"
      }
     },
     "a286364f6aad44738106344342293ff0": {
      "model_module": "@jupyter-widgets/controls",
      "model_module_version": "1.5.0",
      "model_name": "SliderStyleModel",
      "state": {
       "description_width": "initial"
      }
     },
     "a28a5b4260724a82a3f66914cc5a741c": {
      "model_module": "@jupyter-widgets/base",
      "model_module_version": "1.2.0",
      "model_name": "LayoutModel",
      "state": {
       "flex_flow": "row wrap"
      }
     },
     "a29210be0cc84ef9bbc24046acb5369c": {
      "model_module": "@jupyter-widgets/base",
      "model_module_version": "1.2.0",
      "model_name": "LayoutModel",
      "state": {}
     },
     "a2922e1fa71b4d6fb8ded37fe341d0d3": {
      "model_module": "@jupyter-widgets/controls",
      "model_module_version": "1.5.0",
      "model_name": "IntSliderModel",
      "state": {
       "continuous_update": false,
       "description": "Sampling (Hz)",
       "layout": "IPY_MODEL_e29bfe80ec8d4af3ad5f00e55453ce12",
       "max": 20,
       "min": 2,
       "step": 2,
       "style": "IPY_MODEL_b77406f5878847778b8c135d1f83c10e",
       "value": 4
      }
     },
     "a2c7fc93e9384c5d825f6cf76d47ede6": {
      "model_module": "@jupyter-widgets/base",
      "model_module_version": "1.2.0",
      "model_name": "LayoutModel",
      "state": {}
     },
     "a2ca77d7aad24a10b9f8127de773e47a": {
      "model_module": "@jupyter-widgets/controls",
      "model_module_version": "1.5.0",
      "model_name": "HBoxModel",
      "state": {
       "children": [
        "IPY_MODEL_aabde9569e9b4e638a1923de405d3cbc",
        "IPY_MODEL_46a28693ba02413588656470fdca0152"
       ],
       "layout": "IPY_MODEL_41fa00985b3244d5a7e062959e0869a4"
      }
     },
     "a318eedd897641e6841b2448613e400a": {
      "model_module": "@jupyter-widgets/base",
      "model_module_version": "1.2.0",
      "model_name": "LayoutModel",
      "state": {}
     },
     "a320bbaa2d6c476a8881eb834312db32": {
      "model_module": "@jupyter-widgets/controls",
      "model_module_version": "1.5.0",
      "model_name": "IntSliderModel",
      "state": {
       "continuous_update": false,
       "description": "0-Padding",
       "layout": "IPY_MODEL_6c587e9d9f0245838c971d24c111d253",
       "max": 500,
       "style": "IPY_MODEL_c684b716a1c4454abf22ea70ee4da03f"
      }
     },
     "a328fd3bdb824db1a2e9bbb96f860aba": {
      "model_module": "@jupyter-widgets/base",
      "model_module_version": "1.2.0",
      "model_name": "LayoutModel",
      "state": {}
     },
     "a358658709ae43fa9c708dca3d161337": {
      "model_module": "@jupyter-widgets/output",
      "model_module_version": "1.0.0",
      "model_name": "OutputModel",
      "state": {
       "layout": "IPY_MODEL_759e9d2efd3e4a99a0c64239aa874f45"
      }
     },
     "a374f086289f497f91956c98e4423d57": {
      "model_module": "@jupyter-widgets/base",
      "model_module_version": "1.2.0",
      "model_name": "LayoutModel",
      "state": {}
     },
     "a378153812b04efe8b776318cf06a5e9": {
      "model_module": "@jupyter-widgets/controls",
      "model_module_version": "1.5.0",
      "model_name": "HBoxModel",
      "state": {
       "children": [
        "IPY_MODEL_669d9609946b4e7c8b7ce64e75e8640b",
        "IPY_MODEL_5c78490189e04cff89fcf0797cbdd363",
        "IPY_MODEL_d854490536f149db8447c591e47584ea"
       ],
       "layout": "IPY_MODEL_92afbc83ece04b95a1cda857c9b1de93"
      }
     },
     "a3814d1ece4346f58d27e8f857add482": {
      "model_module": "@jupyter-widgets/controls",
      "model_module_version": "1.5.0",
      "model_name": "IntSliderModel",
      "state": {
       "continuous_update": false,
       "description": "Sampling (Hz)",
       "layout": "IPY_MODEL_11073bb5a07f4b128c3bd58539e6fac4",
       "max": 20,
       "min": 2,
       "step": 2,
       "style": "IPY_MODEL_3956586825d0492e94010e6689ae0650",
       "value": 4
      }
     },
     "a3b41b373d9340e0ba249bcec2ce4a37": {
      "model_module": "@jupyter-widgets/output",
      "model_module_version": "1.0.0",
      "model_name": "OutputModel",
      "state": {
       "layout": "IPY_MODEL_77b1b65ea9dd450a96b8837922ca30ca"
      }
     },
     "a3bdd914c20746719c1af0d56cf99b89": {
      "model_module": "@jupyter-widgets/base",
      "model_module_version": "1.2.0",
      "model_name": "LayoutModel",
      "state": {}
     },
     "a3d364ce5a3d461d8b35b822829aa3d6": {
      "model_module": "@jupyter-widgets/output",
      "model_module_version": "1.0.0",
      "model_name": "OutputModel",
      "state": {
       "layout": "IPY_MODEL_7b07e6492a964e9083dfddbfaf821f23"
      }
     },
     "a3da3e6e505f4cee9b5ef2192f919b24": {
      "model_module": "@jupyter-widgets/base",
      "model_module_version": "1.2.0",
      "model_name": "LayoutModel",
      "state": {}
     },
     "a3e7a7cf0b2247ccb27ac47bfea33845": {
      "model_module": "@jupyter-widgets/controls",
      "model_module_version": "1.5.0",
      "model_name": "SliderStyleModel",
      "state": {
       "description_width": "initial"
      }
     },
     "a3f5299698fc492da0cf61ac03415c2a": {
      "model_module": "@jupyter-widgets/base",
      "model_module_version": "1.2.0",
      "model_name": "LayoutModel",
      "state": {}
     },
     "a40255b8d96947748913fae295e29bf5": {
      "model_module": "@jupyter-widgets/base",
      "model_module_version": "1.2.0",
      "model_name": "LayoutModel",
      "state": {}
     },
     "a40dc32673ef4e1ea0db2640c8cf0bc3": {
      "model_module": "@jupyter-widgets/base",
      "model_module_version": "1.2.0",
      "model_name": "LayoutModel",
      "state": {}
     },
     "a41ac292800e41ed8f39c9ae3792d515": {
      "model_module": "@jupyter-widgets/controls",
      "model_module_version": "1.5.0",
      "model_name": "SliderStyleModel",
      "state": {
       "description_width": "initial"
      }
     },
     "a461a714ce3f42faa7b42c5890be68c5": {
      "model_module": "@jupyter-widgets/base",
      "model_module_version": "1.2.0",
      "model_name": "LayoutModel",
      "state": {}
     },
     "a47e1ee1ce5f43ecb58c35f1b4332d12": {
      "model_module": "@jupyter-widgets/base",
      "model_module_version": "1.2.0",
      "model_name": "LayoutModel",
      "state": {}
     },
     "a484e3dd20e14f72aaf3e61a097f9def": {
      "model_module": "@jupyter-widgets/controls",
      "model_module_version": "1.5.0",
      "model_name": "IntSliderModel",
      "state": {
       "continuous_update": false,
       "description": "Periods",
       "layout": "IPY_MODEL_9044ee346d7d49a4a88dee05050ad342",
       "max": 50,
       "min": 1,
       "style": "IPY_MODEL_8f0dfef238ee4e8b979b2605499ec29e",
       "value": 2
      }
     },
     "a4a1b9ef08794ae395c824975c7bde9f": {
      "model_module": "jupyter-matplotlib",
      "model_module_version": "^0.7.4",
      "model_name": "ToolbarModel",
      "state": {
       "layout": "IPY_MODEL_31efac90b36e4344a590a17e315819d0",
       "toolitems": [
        [
         "Home",
         "Reset original view",
         "home",
         "home"
        ],
        [
         "Back",
         "Back to previous view",
         "arrow-left",
         "back"
        ],
        [
         "Forward",
         "Forward to next view",
         "arrow-right",
         "forward"
        ],
        [
         "Pan",
         "Left button pans, Right button zooms\nx/y fixes axis, CTRL fixes aspect",
         "arrows",
         "pan"
        ],
        [
         "Zoom",
         "Zoom to rectangle\nx/y fixes axis, CTRL fixes aspect",
         "square-o",
         "zoom"
        ],
        [
         "Download",
         "Download plot",
         "floppy-o",
         "save_figure"
        ]
       ]
      }
     },
     "a4a99fd9a291433bb748307b569b0251": {
      "model_module": "jupyter-matplotlib",
      "model_module_version": "^0.7.4",
      "model_name": "ToolbarModel",
      "state": {
       "layout": "IPY_MODEL_b1524a3e7f7f484298ade61f995de0f8",
       "toolitems": [
        [
         "Home",
         "Reset original view",
         "home",
         "home"
        ],
        [
         "Back",
         "Back to previous view",
         "arrow-left",
         "back"
        ],
        [
         "Forward",
         "Forward to next view",
         "arrow-right",
         "forward"
        ],
        [
         "Pan",
         "Left button pans, Right button zooms\nx/y fixes axis, CTRL fixes aspect",
         "arrows",
         "pan"
        ],
        [
         "Zoom",
         "Zoom to rectangle\nx/y fixes axis, CTRL fixes aspect",
         "square-o",
         "zoom"
        ],
        [
         "Download",
         "Download plot",
         "floppy-o",
         "save_figure"
        ]
       ]
      }
     },
     "a4ae1573276b4335b4082de540118479": {
      "model_module": "@jupyter-widgets/base",
      "model_module_version": "1.2.0",
      "model_name": "LayoutModel",
      "state": {}
     },
     "a4c7ed9d91ea45eea5239e868bd58b4e": {
      "model_module": "@jupyter-widgets/base",
      "model_module_version": "1.2.0",
      "model_name": "LayoutModel",
      "state": {}
     },
     "a4cd6bb4241046e1b80b48b0b0d9bc4a": {
      "model_module": "@jupyter-widgets/base",
      "model_module_version": "1.2.0",
      "model_name": "LayoutModel",
      "state": {}
     },
     "a4d515596e9a40c0b1793b4dc68efc67": {
      "model_module": "@jupyter-widgets/base",
      "model_module_version": "1.2.0",
      "model_name": "LayoutModel",
      "state": {}
     },
     "a50073927f5b45569396782a958b082f": {
      "model_module": "@jupyter-widgets/controls",
      "model_module_version": "1.5.0",
      "model_name": "IntSliderModel",
      "state": {
       "description": "0-Padding",
       "layout": "IPY_MODEL_93031969794340f590110184a6fac67e",
       "max": 500,
       "style": "IPY_MODEL_221b0cd664bb4cf68c9565959e4c7f50",
       "value": 41
      }
     },
     "a5118ce76d2f4307939cb945479fe7d6": {
      "model_module": "@jupyter-widgets/controls",
      "model_module_version": "1.5.0",
      "model_name": "IntSliderModel",
      "state": {
       "continuous_update": false,
       "description": "Periods",
       "layout": "IPY_MODEL_c914cbdaf64d42478c76f4be1740b416",
       "max": 50,
       "min": 1,
       "style": "IPY_MODEL_4ca23febcc91455abdefdb50a3685cc7",
       "value": 2
      }
     },
     "a525faffa2674efaa9971dec4166a7bf": {
      "model_module": "@jupyter-widgets/controls",
      "model_module_version": "1.5.0",
      "model_name": "VBoxModel",
      "state": {
       "_dom_classes": [
        "widget-interact"
       ],
       "children": [
        "IPY_MODEL_d1aca3e29f01442f9f773baefa429447",
        "IPY_MODEL_ecd1ac765fff4b8e906fcf26b8a4389a",
        "IPY_MODEL_a18d6d1624a74cbdb0933811e0470a6f",
        "IPY_MODEL_90a7ee4d38fa4fffbc7537b1513b96e7"
       ],
       "layout": "IPY_MODEL_721a87b777c745758df882179297de94"
      }
     },
     "a548377bddf444448698e274fbb9e6dc": {
      "model_module": "@jupyter-widgets/base",
      "model_module_version": "1.2.0",
      "model_name": "LayoutModel",
      "state": {}
     },
     "a561ede96300418e982b564682ddba09": {
      "model_module": "@jupyter-widgets/output",
      "model_module_version": "1.0.0",
      "model_name": "OutputModel",
      "state": {
       "layout": "IPY_MODEL_574f853c15ee433c8811903b1eb4f079"
      }
     },
     "a5a2f9768cf74fab900de225974d9a7d": {
      "model_module": "@jupyter-widgets/output",
      "model_module_version": "1.0.0",
      "model_name": "OutputModel",
      "state": {
       "layout": "IPY_MODEL_21d360c5881c44cdb16bb02db48f5eca",
       "outputs": [
        {
         "data": {
          "application/vnd.jupyter.widget-view+json": {
           "model_id": "f3f601b9c22d4a5988de4da3cf09eb98",
           "version_major": 2,
           "version_minor": 0
          },
          "text/plain": "Canvas(toolbar=Toolbar(toolitems=[('Home', 'Reset original view', 'home', 'home'), ('Back', 'Back to previous …"
         },
         "metadata": {},
         "output_type": "display_data"
        }
       ]
      }
     },
     "a5aba68bf81946959f53bd5f3635331c": {
      "model_module": "@jupyter-widgets/base",
      "model_module_version": "1.2.0",
      "model_name": "LayoutModel",
      "state": {}
     },
     "a5b8d45e2f3046abb4e81aaf22749e96": {
      "model_module": "@jupyter-widgets/base",
      "model_module_version": "1.2.0",
      "model_name": "LayoutModel",
      "state": {}
     },
     "a5c70b01452047b085edd7484577a8b5": {
      "model_module": "jupyter-matplotlib",
      "model_module_version": "^0.7.4",
      "model_name": "ToolbarModel",
      "state": {
       "layout": "IPY_MODEL_f4ab969c69834edb96ec5c2c443a5656",
       "toolitems": [
        [
         "Home",
         "Reset original view",
         "home",
         "home"
        ],
        [
         "Back",
         "Back to previous view",
         "arrow-left",
         "back"
        ],
        [
         "Forward",
         "Forward to next view",
         "arrow-right",
         "forward"
        ],
        [
         "Pan",
         "Left button pans, Right button zooms\nx/y fixes axis, CTRL fixes aspect",
         "arrows",
         "pan"
        ],
        [
         "Zoom",
         "Zoom to rectangle\nx/y fixes axis, CTRL fixes aspect",
         "square-o",
         "zoom"
        ],
        [
         "Download",
         "Download plot",
         "floppy-o",
         "save_figure"
        ]
       ]
      }
     },
     "a5cafd418f2e4064badc0229480f952c": {
      "model_module": "@jupyter-widgets/base",
      "model_module_version": "1.2.0",
      "model_name": "LayoutModel",
      "state": {}
     },
     "a5d0cf68ac524cc6bdf8a7d8ffc51d3a": {
      "model_module": "@jupyter-widgets/base",
      "model_module_version": "1.2.0",
      "model_name": "LayoutModel",
      "state": {}
     },
     "a5f052f78fad4916a6183f5818d03ffb": {
      "model_module": "@jupyter-widgets/controls",
      "model_module_version": "1.5.0",
      "model_name": "VBoxModel",
      "state": {
       "_dom_classes": [
        "widget-interact"
       ],
       "children": [
        "IPY_MODEL_f4fb6f52efcd4d449bb7c56106884e71",
        "IPY_MODEL_b6c468582af248f9a96bcf93c18bef7b",
        "IPY_MODEL_44a53fbc9b1f4cdcbbd6a55626c3fabb",
        "IPY_MODEL_565389197de447e8968f6960cf1f6dec"
       ],
       "layout": "IPY_MODEL_46aef6a83a1d4a8a9cd36e0c8188a905"
      }
     },
     "a627e60744d74f8fb201c0d9b595c7e3": {
      "model_module": "@jupyter-widgets/base",
      "model_module_version": "1.2.0",
      "model_name": "LayoutModel",
      "state": {}
     },
     "a628e81a262048d482b4534a58aa6f58": {
      "model_module": "@jupyter-widgets/controls",
      "model_module_version": "1.5.0",
      "model_name": "VBoxModel",
      "state": {
       "children": [
        "IPY_MODEL_9ff7f360caec4396ae0bed0d3427aa3e",
        "IPY_MODEL_c02e729e5b2b4997910fba0daa787ee7",
        "IPY_MODEL_18cf8ef91a244842a255ed0a8f34bb19"
       ],
       "layout": "IPY_MODEL_39a80be3fc0643b9bda8d6b301f94941"
      }
     },
     "a63973bcb0b3456590216c8b6127b4df": {
      "model_module": "@jupyter-widgets/controls",
      "model_module_version": "1.5.0",
      "model_name": "VBoxModel",
      "state": {
       "_dom_classes": [
        "widget-interact"
       ],
       "children": [
        "IPY_MODEL_9d603e39a0854402bff8b3a612b3dd83",
        "IPY_MODEL_f03f9265e5ca44669ee897e57eeed020",
        "IPY_MODEL_0811dd9520da4486811c815eb2ed3cad",
        "IPY_MODEL_7ee4fa6870d64971a6db40d9e62884bf"
       ],
       "layout": "IPY_MODEL_9cc15acab6444e94bf16424cad2d7dbc"
      }
     },
     "a63cbc383bc74c94ac4d04ee5f54f95c": {
      "model_module": "@jupyter-widgets/controls",
      "model_module_version": "1.5.0",
      "model_name": "SliderStyleModel",
      "state": {
       "description_width": "initial"
      }
     },
     "a6693a22b95b4c75b2715db62564ee04": {
      "model_module": "@jupyter-widgets/controls",
      "model_module_version": "1.5.0",
      "model_name": "SliderStyleModel",
      "state": {
       "description_width": "initial"
      }
     },
     "a67b5f6a8c764a99b8948db181168d84": {
      "model_module": "@jupyter-widgets/base",
      "model_module_version": "1.2.0",
      "model_name": "LayoutModel",
      "state": {}
     },
     "a6966d0e26bc489d878667002fed4f4d": {
      "model_module": "@jupyter-widgets/controls",
      "model_module_version": "1.5.0",
      "model_name": "SliderStyleModel",
      "state": {
       "description_width": "initial"
      }
     },
     "a6b0bc06750a4a6baffecd09f31a59a2": {
      "model_module": "@jupyter-widgets/base",
      "model_module_version": "1.2.0",
      "model_name": "LayoutModel",
      "state": {}
     },
     "a6b60687d08a4e928eb38fc54464d55b": {
      "model_module": "@jupyter-widgets/base",
      "model_module_version": "1.2.0",
      "model_name": "LayoutModel",
      "state": {}
     },
     "a6b6088849354cfb82f8fcc090d72644": {
      "model_module": "@jupyter-widgets/output",
      "model_module_version": "1.0.0",
      "model_name": "OutputModel",
      "state": {
       "layout": "IPY_MODEL_e6f0bad1f5154d4f8675c6867d711bcf"
      }
     },
     "a6d64ec24b5b4e2089217a29918d044b": {
      "model_module": "@jupyter-widgets/controls",
      "model_module_version": "1.5.0",
      "model_name": "IntSliderModel",
      "state": {
       "continuous_update": false,
       "description": "0-Padding",
       "layout": "IPY_MODEL_7801d889a5514192aefaff26086975f0",
       "max": 500,
       "style": "IPY_MODEL_18c4f132b08147cd8fc8f3706fbf2822"
      }
     },
     "a6e00e6a9f1d4a69843e032498560dfc": {
      "model_module": "@jupyter-widgets/base",
      "model_module_version": "1.2.0",
      "model_name": "LayoutModel",
      "state": {}
     },
     "a6f37c37e7874e11bfc4716ad074368f": {
      "model_module": "@jupyter-widgets/controls",
      "model_module_version": "1.5.0",
      "model_name": "SliderStyleModel",
      "state": {
       "description_width": "initial"
      }
     },
     "a7001a9ce38a4c40ae15c8d25d125e8d": {
      "model_module": "@jupyter-widgets/base",
      "model_module_version": "1.2.0",
      "model_name": "LayoutModel",
      "state": {}
     },
     "a72304b020e9460189f1634b4ff439bf": {
      "model_module": "@jupyter-widgets/output",
      "model_module_version": "1.0.0",
      "model_name": "OutputModel",
      "state": {
       "layout": "IPY_MODEL_4e9752c1740645739b447253ad6e1950"
      }
     },
     "a7429aef9c7340c587903922fb331cb0": {
      "model_module": "@jupyter-widgets/controls",
      "model_module_version": "1.5.0",
      "model_name": "IntSliderModel",
      "state": {
       "continuous_update": false,
       "description": "Sampling (Hz)",
       "layout": "IPY_MODEL_3d35606b74cf4532bd7ba65e7b10a6e8",
       "max": 12,
       "min": 2,
       "step": 2,
       "style": "IPY_MODEL_ee4b6abd5ba64fa28390686fac91421a",
       "value": 8
      }
     },
     "a7591526fdb5421e87c10ed312ca057d": {
      "model_module": "@jupyter-widgets/base",
      "model_module_version": "1.2.0",
      "model_name": "LayoutModel",
      "state": {}
     },
     "a7b63909bdd749b3830b9088fbfad126": {
      "model_module": "@jupyter-widgets/base",
      "model_module_version": "1.2.0",
      "model_name": "LayoutModel",
      "state": {}
     },
     "a7cb52f6068f41838032a1374addc9df": {
      "model_module": "@jupyter-widgets/base",
      "model_module_version": "1.2.0",
      "model_name": "LayoutModel",
      "state": {}
     },
     "a7cdd47f2763405daef5cc8207ece18c": {
      "model_module": "@jupyter-widgets/controls",
      "model_module_version": "1.5.0",
      "model_name": "SliderStyleModel",
      "state": {
       "description_width": "initial"
      }
     },
     "a7d8f92032c2470bbd864b636b479c84": {
      "model_module": "@jupyter-widgets/base",
      "model_module_version": "1.2.0",
      "model_name": "LayoutModel",
      "state": {}
     },
     "a7e672f013a340e78035f30bf18c5dd4": {
      "model_module": "@jupyter-widgets/controls",
      "model_module_version": "1.5.0",
      "model_name": "IntSliderModel",
      "state": {
       "continuous_update": false,
       "description": "Periods",
       "layout": "IPY_MODEL_f554076571a0493580ca19ce825bf7fb",
       "max": 50,
       "min": 1,
       "style": "IPY_MODEL_c50417dba4f34b64a99f3bb4e6c236bf",
       "value": 2
      }
     },
     "a7f16e51ea4f41c6b039334f529ce3f9": {
      "model_module": "@jupyter-widgets/base",
      "model_module_version": "1.2.0",
      "model_name": "LayoutModel",
      "state": {}
     },
     "a7f4b2f2e67946dea4c411581268175f": {
      "model_module": "@jupyter-widgets/base",
      "model_module_version": "1.2.0",
      "model_name": "LayoutModel",
      "state": {
       "align_items": "baseline",
       "display": "flex"
      }
     },
     "a7fbd05fe9e04225a44fbe9f1008fde2": {
      "model_module": "@jupyter-widgets/controls",
      "model_module_version": "1.5.0",
      "model_name": "SliderStyleModel",
      "state": {
       "description_width": "initial"
      }
     },
     "a83a5653e3ca49038f127b416e317d73": {
      "model_module": "jupyter-matplotlib",
      "model_module_version": "^0.7.4",
      "model_name": "MPLCanvasModel",
      "state": {
       "_cursor": "default",
       "_figure_label": "Figure 1",
       "_height": 479,
       "_width": 640,
       "header_visible": false,
       "layout": "IPY_MODEL_951e0eab28594f0a894d39a47080483b",
       "toolbar": "IPY_MODEL_0480c2d54f1e41e382e49ac852d42f55",
       "toolbar_position": "left"
      }
     },
     "a846b70a9099469e95b7cfc41958ce80": {
      "model_module": "@jupyter-widgets/output",
      "model_module_version": "1.0.0",
      "model_name": "OutputModel",
      "state": {
       "layout": "IPY_MODEL_27c55a4ebfcd480ca5a51b885ba9c8b3"
      }
     },
     "a8536dddd31c4d1f8c9b8acfe0b88011": {
      "model_module": "@jupyter-widgets/controls",
      "model_module_version": "1.5.0",
      "model_name": "IntSliderModel",
      "state": {
       "continuous_update": false,
       "description": "0-Padding",
       "layout": "IPY_MODEL_deddbafb7e11427cb695eca0807554d5",
       "max": 648,
       "step": 21,
       "style": "IPY_MODEL_266b0e8b6efd46d78b0d93a84b2d0325"
      }
     },
     "a88efc82eb2b4c0d812676ed93b97620": {
      "model_module": "@jupyter-widgets/base",
      "model_module_version": "1.2.0",
      "model_name": "LayoutModel",
      "state": {}
     },
     "a8a30ec1e58a4bce8d29fc2e2291a517": {
      "model_module": "@jupyter-widgets/base",
      "model_module_version": "1.2.0",
      "model_name": "LayoutModel",
      "state": {}
     },
     "a8b22463b51145c98107c71260e1e895": {
      "model_module": "@jupyter-widgets/controls",
      "model_module_version": "1.5.0",
      "model_name": "IntSliderModel",
      "state": {
       "continuous_update": false,
       "description": "Sampling (Hz)",
       "layout": "IPY_MODEL_c1539e4f7fea45f5a6f9791d827881e7",
       "max": 12,
       "min": 2,
       "step": 2,
       "style": "IPY_MODEL_9c6d2ac5a12641c9a1b5cdb1b369f13c",
       "value": 4
      }
     },
     "a8d715a4df294767a032b9ed1a7b7e73": {
      "model_module": "@jupyter-widgets/controls",
      "model_module_version": "1.5.0",
      "model_name": "SliderStyleModel",
      "state": {
       "description_width": "initial"
      }
     },
     "a8de358a9e814ffd9e8bac8539522358": {
      "model_module": "@jupyter-widgets/base",
      "model_module_version": "1.2.0",
      "model_name": "LayoutModel",
      "state": {}
     },
     "a8f8fd5e648d43ae8df66f01e5ef0ea7": {
      "model_module": "@jupyter-widgets/base",
      "model_module_version": "1.2.0",
      "model_name": "LayoutModel",
      "state": {}
     },
     "a8fb83b6af394e84b397ae9d737d0ca0": {
      "model_module": "@jupyter-widgets/base",
      "model_module_version": "1.2.0",
      "model_name": "LayoutModel",
      "state": {}
     },
     "a8fbb2e7d233424d8100b4da1280c836": {
      "model_module": "@jupyter-widgets/controls",
      "model_module_version": "1.5.0",
      "model_name": "SliderStyleModel",
      "state": {
       "description_width": "initial"
      }
     },
     "a90854e5df15483f8800f59af4a5c151": {
      "model_module": "@jupyter-widgets/base",
      "model_module_version": "1.2.0",
      "model_name": "LayoutModel",
      "state": {}
     },
     "a912388f48324eb09399216d9320cbf0": {
      "model_module": "@jupyter-widgets/base",
      "model_module_version": "1.2.0",
      "model_name": "LayoutModel",
      "state": {}
     },
     "a93053b77d314ef0944331bd1560d05a": {
      "model_module": "@jupyter-widgets/controls",
      "model_module_version": "1.5.0",
      "model_name": "SliderStyleModel",
      "state": {
       "description_width": "initial"
      }
     },
     "a94391ff51574372be7c2848ba7d170c": {
      "model_module": "@jupyter-widgets/controls",
      "model_module_version": "1.5.0",
      "model_name": "SliderStyleModel",
      "state": {
       "description_width": "initial"
      }
     },
     "a94607a84e72425e8677a9eb7ee9a0cd": {
      "model_module": "@jupyter-widgets/base",
      "model_module_version": "1.2.0",
      "model_name": "LayoutModel",
      "state": {}
     },
     "a9833501b333432fa7bbf4b3cbaccec0": {
      "model_module": "@jupyter-widgets/base",
      "model_module_version": "1.2.0",
      "model_name": "LayoutModel",
      "state": {}
     },
     "a98871849cf84b47b75b85d7c7322aee": {
      "model_module": "@jupyter-widgets/base",
      "model_module_version": "1.2.0",
      "model_name": "LayoutModel",
      "state": {}
     },
     "a98b3909cf6f486cad66e717c7ea4ec1": {
      "model_module": "@jupyter-widgets/base",
      "model_module_version": "1.2.0",
      "model_name": "LayoutModel",
      "state": {}
     },
     "a990b3d737bb4f2dadcc2ad226e8c2d7": {
      "model_module": "@jupyter-widgets/base",
      "model_module_version": "1.2.0",
      "model_name": "LayoutModel",
      "state": {}
     },
     "a999e20151e644e0865d80ad4514a2a0": {
      "model_module": "@jupyter-widgets/base",
      "model_module_version": "1.2.0",
      "model_name": "LayoutModel",
      "state": {}
     },
     "a99cca70f40d4c53bd0cab023f94748d": {
      "model_module": "@jupyter-widgets/base",
      "model_module_version": "1.2.0",
      "model_name": "LayoutModel",
      "state": {}
     },
     "a9d85fb7094943078f0d262380807fcd": {
      "model_module": "@jupyter-widgets/controls",
      "model_module_version": "1.5.0",
      "model_name": "HBoxModel",
      "state": {
       "children": [
        "IPY_MODEL_6d5d410373fe437496b87204477252b7",
        "IPY_MODEL_d835e45fe21b45e5b34d432500ea2791"
       ],
       "layout": "IPY_MODEL_09e53f11ee7342b0874a2942cfc0d4d8"
      }
     },
     "a9db92254ba946cf82fbac0b37f88391": {
      "model_module": "@jupyter-widgets/base",
      "model_module_version": "1.2.0",
      "model_name": "LayoutModel",
      "state": {
       "align_items": "center",
       "display": "flex"
      }
     },
     "a9dd8256b15148ee8a417465d7512a68": {
      "model_module": "@jupyter-widgets/base",
      "model_module_version": "1.2.0",
      "model_name": "LayoutModel",
      "state": {
       "align_items": "baseline"
      }
     },
     "a9f04b4215804d11951633c56e77d691": {
      "model_module": "@jupyter-widgets/controls",
      "model_module_version": "1.5.0",
      "model_name": "SliderStyleModel",
      "state": {
       "description_width": "initial"
      }
     },
     "a9f4e56ff7a448669cc28102a0efdfc3": {
      "model_module": "@jupyter-widgets/controls",
      "model_module_version": "1.5.0",
      "model_name": "HBoxModel",
      "state": {
       "children": [
        "IPY_MODEL_02bd54680a8b447189244398f3ba6fea",
        "IPY_MODEL_f5626dbb25424b1e8215c21567ba419c"
       ],
       "layout": "IPY_MODEL_16d6b5f7d9a340e5a86664b71bde1892"
      }
     },
     "a9fb56bdbef7429aa3f7680e4b77dfa2": {
      "model_module": "@jupyter-widgets/base",
      "model_module_version": "1.2.0",
      "model_name": "LayoutModel",
      "state": {}
     },
     "aa1305a8ffff44d7a682be357bb36c10": {
      "model_module": "@jupyter-widgets/controls",
      "model_module_version": "1.5.0",
      "model_name": "HBoxModel",
      "state": {
       "children": [
        "IPY_MODEL_080c8cba8f11486eb0ae13ef09ce1877",
        "IPY_MODEL_358ad85a8e44416084e43d7fe90d7da7"
       ],
       "layout": "IPY_MODEL_c9ef24db2db6420aaefcb4d024d13238"
      }
     },
     "aa18455e5b584d5781a99fe33e5697ad": {
      "model_module": "@jupyter-widgets/controls",
      "model_module_version": "1.5.0",
      "model_name": "SliderStyleModel",
      "state": {
       "description_width": "initial"
      }
     },
     "aa51b7dcce7d4858a025eeb0fd644e11": {
      "model_module": "@jupyter-widgets/base",
      "model_module_version": "1.2.0",
      "model_name": "LayoutModel",
      "state": {}
     },
     "aa5eb146816b44ad8c8de6b832ad4f35": {
      "model_module": "@jupyter-widgets/controls",
      "model_module_version": "1.5.0",
      "model_name": "IntSliderModel",
      "state": {
       "continuous_update": false,
       "description": "0-Padding",
       "layout": "IPY_MODEL_dfa16a48d84149588fc009f5b3538858",
       "max": 500,
       "style": "IPY_MODEL_ba0bb34cd46b440691753e3c92ba70c0"
      }
     },
     "aa720bcd9faf4b77b75557d63f93e6d3": {
      "model_module": "@jupyter-widgets/base",
      "model_module_version": "1.2.0",
      "model_name": "LayoutModel",
      "state": {}
     },
     "aa7db81e3aed46758d180c0e6ad2d81f": {
      "model_module": "@jupyter-widgets/controls",
      "model_module_version": "1.5.0",
      "model_name": "IntSliderModel",
      "state": {
       "continuous_update": false,
       "description": "Periods",
       "layout": "IPY_MODEL_eb4f47174545441aaa0c9b770ccbed6f",
       "max": 50,
       "min": 1,
       "style": "IPY_MODEL_4bdac06bbdbe454c99247e67a1cf4bb8",
       "value": 2
      }
     },
     "aa7e1acec18c4f9aa1f95b8570e347bb": {
      "model_module": "@jupyter-widgets/base",
      "model_module_version": "1.2.0",
      "model_name": "LayoutModel",
      "state": {}
     },
     "aa82030ca25144efa4b738b9a8aa6f35": {
      "model_module": "@jupyter-widgets/controls",
      "model_module_version": "1.5.0",
      "model_name": "VBoxModel",
      "state": {
       "_dom_classes": [
        "widget-interact"
       ],
       "children": [
        "IPY_MODEL_b2f150930e5a48fdad09017d08f282d5",
        "IPY_MODEL_d3ffeed859484a1882ece35179a503fa",
        "IPY_MODEL_56c70e9df850488e86a66061d172f174",
        "IPY_MODEL_c46b0a6d4d21418f9534c5ac8649eedc"
       ],
       "layout": "IPY_MODEL_ef1f37a8311f4f6688c39d36d8bb6b13"
      }
     },
     "aa8b0c7c668346fca5fc7a7f89191eca": {
      "model_module": "@jupyter-widgets/output",
      "model_module_version": "1.0.0",
      "model_name": "OutputModel",
      "state": {
       "layout": "IPY_MODEL_2df96b9bf7f749f1a452870169e8403e"
      }
     },
     "aaa054135c804bf39165961e64db8e01": {
      "model_module": "@jupyter-widgets/base",
      "model_module_version": "1.2.0",
      "model_name": "LayoutModel",
      "state": {}
     },
     "aabde9569e9b4e638a1923de405d3cbc": {
      "model_module": "@jupyter-widgets/output",
      "model_module_version": "1.0.0",
      "model_name": "OutputModel",
      "state": {
       "layout": "IPY_MODEL_34be167e87ee4416bb5733be7adfe1e0",
       "outputs": [
        {
         "data": {
          "application/vnd.jupyter.widget-view+json": {
           "model_id": "52f6c155dc97482cbadb4affa78639df",
           "version_major": 2,
           "version_minor": 0
          },
          "text/plain": "Canvas(toolbar=Toolbar(toolitems=[('Home', 'Reset original view', 'home', 'home'), ('Back', 'Back to previous …"
         },
         "metadata": {},
         "output_type": "display_data"
        }
       ]
      }
     },
     "aaf01e9df2104e8b82a4e6d974835019": {
      "model_module": "@jupyter-widgets/base",
      "model_module_version": "1.2.0",
      "model_name": "LayoutModel",
      "state": {}
     },
     "ab154f3eeee845c2adf63209b364750d": {
      "model_module": "@jupyter-widgets/controls",
      "model_module_version": "1.5.0",
      "model_name": "IntSliderModel",
      "state": {
       "continuous_update": false,
       "description": "0-Padding",
       "layout": "IPY_MODEL_43c6978c111547c4ac8c2cb4ec49fb11",
       "max": 2880,
       "step": 96,
       "style": "IPY_MODEL_0c6d98e4fdf64203b4da06e808dd2fd5",
       "value": 1344
      }
     },
     "ab26db4cf9234c88a142f6598716042e": {
      "model_module": "@jupyter-widgets/base",
      "model_module_version": "1.2.0",
      "model_name": "LayoutModel",
      "state": {}
     },
     "ab27e4aae5bc48ac90ebf734f87aa3cf": {
      "model_module": "@jupyter-widgets/controls",
      "model_module_version": "1.5.0",
      "model_name": "SliderStyleModel",
      "state": {
       "description_width": "initial"
      }
     },
     "ab344120a2284f7b958a2aa3d692e21b": {
      "model_module": "@jupyter-widgets/base",
      "model_module_version": "1.2.0",
      "model_name": "LayoutModel",
      "state": {}
     },
     "ab3b9bfde1d948dbaec421ce0458ee7e": {
      "model_module": "@jupyter-widgets/controls",
      "model_module_version": "1.5.0",
      "model_name": "VBoxModel",
      "state": {
       "children": [
        "IPY_MODEL_0ee8d5a074c24be999abdf711e85c520",
        "IPY_MODEL_8bf5520614ca46adbcba91fce0ece273"
       ],
       "layout": "IPY_MODEL_184572751f1b48fa9d5366b9a678aff1"
      }
     },
     "ab4368a1d68a4831b825407b15f03bc9": {
      "model_module": "@jupyter-widgets/base",
      "model_module_version": "1.2.0",
      "model_name": "LayoutModel",
      "state": {}
     },
     "ab4d993b2aa7424fa633a161fb0facbc": {
      "model_module": "@jupyter-widgets/controls",
      "model_module_version": "1.5.0",
      "model_name": "HBoxModel",
      "state": {
       "children": [
        "IPY_MODEL_f4316b9c6cfe4719bd2faa0004edc3ee",
        "IPY_MODEL_177eaaaac6624940b316eb09c3ca6582",
        "IPY_MODEL_96599e38944c420883a99e4c01747bf1"
       ],
       "layout": "IPY_MODEL_2238fa9e100b483b8ff278a55c111e67"
      }
     },
     "ab585c35011e499d978073245c7cd453": {
      "model_module": "@jupyter-widgets/controls",
      "model_module_version": "1.5.0",
      "model_name": "IntSliderModel",
      "state": {
       "continuous_update": false,
       "description": "Sampling (Hz)",
       "layout": "IPY_MODEL_f45ae1e41a7b46628d66b5def7abc711",
       "max": 20,
       "min": 2,
       "step": 2,
       "style": "IPY_MODEL_c996c5836d894431a3fe0798eb7a007c",
       "value": 4
      }
     },
     "ab73c6a834e547069c43dd515e942b3a": {
      "model_module": "@jupyter-widgets/base",
      "model_module_version": "1.2.0",
      "model_name": "LayoutModel",
      "state": {}
     },
     "ab77564944ea4091ab2cc2668cf2113e": {
      "model_module": "@jupyter-widgets/base",
      "model_module_version": "1.2.0",
      "model_name": "LayoutModel",
      "state": {}
     },
     "ab90c5a0e1cd402d86106ea2d77df82e": {
      "model_module": "@jupyter-widgets/output",
      "model_module_version": "1.0.0",
      "model_name": "OutputModel",
      "state": {
       "layout": "IPY_MODEL_9b8bbee485b94dc38806f97d75e399f6",
       "outputs": [
        {
         "data": {
          "application/vnd.jupyter.widget-view+json": {
           "model_id": "00e38dfc27d146babe4299a5f753e37d",
           "version_major": 2,
           "version_minor": 0
          },
          "text/plain": "Canvas(toolbar=Toolbar(toolitems=[('Home', 'Reset original view', 'home', 'home'), ('Back', 'Back to previous …"
         },
         "metadata": {},
         "output_type": "display_data"
        }
       ]
      }
     },
     "ab95cfeeb5f947d0bd22899fa1430485": {
      "model_module": "@jupyter-widgets/controls",
      "model_module_version": "1.5.0",
      "model_name": "IntSliderModel",
      "state": {
       "continuous_update": false,
       "description": "Periods",
       "layout": "IPY_MODEL_3bf8722a568741ad95446e0588f38beb",
       "max": 50,
       "min": 1,
       "style": "IPY_MODEL_64d7de43de80403484236737cfca8c78",
       "value": 6
      }
     },
     "aba20f4ee541488ba2ab9f17022d47c3": {
      "model_module": "@jupyter-widgets/controls",
      "model_module_version": "1.5.0",
      "model_name": "IntSliderModel",
      "state": {
       "continuous_update": false,
       "description": "0-Padding",
       "layout": "IPY_MODEL_b76ef3a520714f058abdf7ebd9c498c9",
       "max": 500,
       "style": "IPY_MODEL_56d117beda9441e2b0e13c8683dc7d98"
      }
     },
     "aba97c85c8df453bab1bb8099d015566": {
      "model_module": "@jupyter-widgets/base",
      "model_module_version": "1.2.0",
      "model_name": "LayoutModel",
      "state": {}
     },
     "abc6fad2c26c4098affb022b67852c54": {
      "model_module": "@jupyter-widgets/base",
      "model_module_version": "1.2.0",
      "model_name": "LayoutModel",
      "state": {}
     },
     "abf4b38f025344fbace9ac1cf34612df": {
      "model_module": "@jupyter-widgets/controls",
      "model_module_version": "1.5.0",
      "model_name": "VBoxModel",
      "state": {
       "_dom_classes": [
        "widget-interact"
       ],
       "children": [
        "IPY_MODEL_76a6b3eb4f3f45ccb8cd9eecd1e79f9c",
        "IPY_MODEL_2179cf2c0aa44985bf97e443bc98dafd",
        "IPY_MODEL_ceb54a7eb4be4d08bcfacb277f243580",
        "IPY_MODEL_b48e9eb4f1bf484ea54d73f141d88f7a"
       ],
       "layout": "IPY_MODEL_3ef082155f5c421c9c50cf1b4e140e3e"
      }
     },
     "abfefa126cc54d308525580b7de1e2e9": {
      "model_module": "jupyter-matplotlib",
      "model_module_version": "^0.7.4",
      "model_name": "ToolbarModel",
      "state": {
       "layout": "IPY_MODEL_989ff826085a45fba664223e4d68eee1",
       "toolitems": [
        [
         "Home",
         "Reset original view",
         "home",
         "home"
        ],
        [
         "Back",
         "Back to previous view",
         "arrow-left",
         "back"
        ],
        [
         "Forward",
         "Forward to next view",
         "arrow-right",
         "forward"
        ],
        [
         "Pan",
         "Left button pans, Right button zooms\nx/y fixes axis, CTRL fixes aspect",
         "arrows",
         "pan"
        ],
        [
         "Zoom",
         "Zoom to rectangle\nx/y fixes axis, CTRL fixes aspect",
         "square-o",
         "zoom"
        ],
        [
         "Download",
         "Download plot",
         "floppy-o",
         "save_figure"
        ]
       ]
      }
     },
     "ac03491924984feab6e0d9ba2ccc45d3": {
      "model_module": "@jupyter-widgets/base",
      "model_module_version": "1.2.0",
      "model_name": "LayoutModel",
      "state": {}
     },
     "ac1f22f8e781499e828b0ed0584cbb09": {
      "model_module": "@jupyter-widgets/controls",
      "model_module_version": "1.5.0",
      "model_name": "SliderStyleModel",
      "state": {
       "description_width": "initial"
      }
     },
     "ac2dda80aff84c2bbd55cf298dee546d": {
      "model_module": "@jupyter-widgets/base",
      "model_module_version": "1.2.0",
      "model_name": "LayoutModel",
      "state": {}
     },
     "ace397f4b8d244128711993d1d341ef3": {
      "model_module": "@jupyter-widgets/base",
      "model_module_version": "1.2.0",
      "model_name": "LayoutModel",
      "state": {}
     },
     "acf740db74cf4d88ac10402d69fa6371": {
      "model_module": "@jupyter-widgets/base",
      "model_module_version": "1.2.0",
      "model_name": "LayoutModel",
      "state": {}
     },
     "ad5f9d960d9f4d7bb446b0b11bf6fda8": {
      "model_module": "@jupyter-widgets/base",
      "model_module_version": "1.2.0",
      "model_name": "LayoutModel",
      "state": {}
     },
     "ad7fb1d3d56c44db985bf9a497ca3ab8": {
      "model_module": "@jupyter-widgets/controls",
      "model_module_version": "1.5.0",
      "model_name": "HBoxModel",
      "state": {
       "children": [
        "IPY_MODEL_48b8b98159fe487a88493ffb6d119d32",
        "IPY_MODEL_f19d5eb933c547a49ac3c76fc33546a5",
        "IPY_MODEL_3e486910880441139c05024d033a2b6d"
       ],
       "layout": "IPY_MODEL_c70e4c8eef224545a7dd600673a62650"
      }
     },
     "ad8db9eac7fb430db58ee359ade628c0": {
      "model_module": "@jupyter-widgets/controls",
      "model_module_version": "1.5.0",
      "model_name": "IntSliderModel",
      "state": {
       "continuous_update": false,
       "description": "Periods",
       "layout": "IPY_MODEL_e485b87e062d471b99d1e51f68c93882",
       "max": 50,
       "min": 1,
       "style": "IPY_MODEL_db3528867ecf400d921507aaecd62f2a",
       "value": 2
      }
     },
     "ad9260f1bbf64745b8febcd5d0a42ca0": {
      "model_module": "@jupyter-widgets/base",
      "model_module_version": "1.2.0",
      "model_name": "LayoutModel",
      "state": {}
     },
     "ad9d28dc619f4337b7333be72a22056d": {
      "model_module": "@jupyter-widgets/controls",
      "model_module_version": "1.5.0",
      "model_name": "SliderStyleModel",
      "state": {
       "description_width": "initial"
      }
     },
     "addde83a72e441d49cba1d1e818103df": {
      "model_module": "@jupyter-widgets/base",
      "model_module_version": "1.2.0",
      "model_name": "LayoutModel",
      "state": {}
     },
     "adf7c6bc0590431abf9b81a65bba05f3": {
      "model_module": "@jupyter-widgets/base",
      "model_module_version": "1.2.0",
      "model_name": "LayoutModel",
      "state": {}
     },
     "ae38a842d6ec448582710e26a9eba342": {
      "model_module": "@jupyter-widgets/base",
      "model_module_version": "1.2.0",
      "model_name": "LayoutModel",
      "state": {}
     },
     "ae4a63afd68b4063a8df362b7cec8bac": {
      "model_module": "@jupyter-widgets/base",
      "model_module_version": "1.2.0",
      "model_name": "LayoutModel",
      "state": {}
     },
     "ae82028553a2442396065547a3819809": {
      "model_module": "@jupyter-widgets/base",
      "model_module_version": "1.2.0",
      "model_name": "LayoutModel",
      "state": {}
     },
     "ae973b1c5c1f437cac1460eb53c66cdf": {
      "model_module": "@jupyter-widgets/base",
      "model_module_version": "1.2.0",
      "model_name": "LayoutModel",
      "state": {}
     },
     "aea612e6b9c74ecfbf641f5f7004e350": {
      "model_module": "@jupyter-widgets/base",
      "model_module_version": "1.2.0",
      "model_name": "LayoutModel",
      "state": {}
     },
     "aeb52feb12b2450d8ecb690b7357dc7d": {
      "model_module": "@jupyter-widgets/controls",
      "model_module_version": "1.5.0",
      "model_name": "SliderStyleModel",
      "state": {
       "description_width": "initial"
      }
     },
     "aeb76d178b354b6ba63d0b3db43b6965": {
      "model_module": "@jupyter-widgets/controls",
      "model_module_version": "1.5.0",
      "model_name": "IntSliderModel",
      "state": {
       "continuous_update": false,
       "description": "0-Padding",
       "layout": "IPY_MODEL_7b048e2e44e3448e9153b75286b8b325",
       "max": 500,
       "style": "IPY_MODEL_a6f37c37e7874e11bfc4716ad074368f"
      }
     },
     "aed8d7a56bfc412a845a681b4a1f47ff": {
      "model_module": "jupyter-matplotlib",
      "model_module_version": "^0.7.4",
      "model_name": "ToolbarModel",
      "state": {
       "layout": "IPY_MODEL_a40255b8d96947748913fae295e29bf5",
       "toolitems": [
        [
         "Home",
         "Reset original view",
         "home",
         "home"
        ],
        [
         "Back",
         "Back to previous view",
         "arrow-left",
         "back"
        ],
        [
         "Forward",
         "Forward to next view",
         "arrow-right",
         "forward"
        ],
        [
         "Pan",
         "Left button pans, Right button zooms\nx/y fixes axis, CTRL fixes aspect",
         "arrows",
         "pan"
        ],
        [
         "Zoom",
         "Zoom to rectangle\nx/y fixes axis, CTRL fixes aspect",
         "square-o",
         "zoom"
        ],
        [
         "Download",
         "Download plot",
         "floppy-o",
         "save_figure"
        ]
       ]
      }
     },
     "aef1ac5d856846daacaafa7c5f6faee6": {
      "model_module": "@jupyter-widgets/controls",
      "model_module_version": "1.5.0",
      "model_name": "SliderStyleModel",
      "state": {
       "description_width": "initial"
      }
     },
     "af029fdd04f94ff78b93e57c76755115": {
      "model_module": "@jupyter-widgets/controls",
      "model_module_version": "1.5.0",
      "model_name": "SliderStyleModel",
      "state": {
       "description_width": "initial"
      }
     },
     "af1723f6b7d84ba0b4d9830972dcfd89": {
      "model_module": "@jupyter-widgets/base",
      "model_module_version": "1.2.0",
      "model_name": "LayoutModel",
      "state": {}
     },
     "af1b5e0565e14f138af75645d92bc031": {
      "model_module": "@jupyter-widgets/controls",
      "model_module_version": "1.5.0",
      "model_name": "IntSliderModel",
      "state": {
       "continuous_update": false,
       "description": "0-Padding",
       "layout": "IPY_MODEL_b690aa554d874710a86a45d5cafef8e4",
       "max": 500,
       "style": "IPY_MODEL_349e731364af433aa203d319b3e34253"
      }
     },
     "af32ed73e20047b098a66e806a27fb35": {
      "model_module": "@jupyter-widgets/base",
      "model_module_version": "1.2.0",
      "model_name": "LayoutModel",
      "state": {}
     },
     "af451a2409f048e199ab2f8098ca0bc0": {
      "model_module": "@jupyter-widgets/base",
      "model_module_version": "1.2.0",
      "model_name": "LayoutModel",
      "state": {}
     },
     "af71542453994f3ab46bfa409ff9d8fe": {
      "model_module": "@jupyter-widgets/output",
      "model_module_version": "1.0.0",
      "model_name": "OutputModel",
      "state": {
       "layout": "IPY_MODEL_53d19514a69c45b892872955a95cf382",
       "outputs": [
        {
         "data": {
          "application/vnd.jupyter.widget-view+json": {
           "model_id": "2e3aaa65c26e4a3e90e67530d38f4489",
           "version_major": 2,
           "version_minor": 0
          },
          "text/plain": "Canvas(toolbar=Toolbar(toolitems=[('Home', 'Reset original view', 'home', 'home'), ('Back', 'Back to previous …"
         },
         "metadata": {},
         "output_type": "display_data"
        }
       ]
      }
     },
     "af780d1a922c46f4bbc3fa288f229c11": {
      "model_module": "@jupyter-widgets/controls",
      "model_module_version": "1.5.0",
      "model_name": "SliderStyleModel",
      "state": {
       "description_width": "initial"
      }
     },
     "afc696bd4d074f8082c02ae439adbbad": {
      "model_module": "@jupyter-widgets/controls",
      "model_module_version": "1.5.0",
      "model_name": "IntSliderModel",
      "state": {
       "description": "Periods",
       "layout": "IPY_MODEL_531134d69b6848268f2969029a23dcd2",
       "max": 50,
       "min": 1,
       "style": "IPY_MODEL_5d744f20ce1a41b0bb2d4ccf6f418d0c",
       "value": 24
      }
     },
     "afc9ade1979b43db8c65e2f7abfa59ce": {
      "model_module": "@jupyter-widgets/controls",
      "model_module_version": "1.5.0",
      "model_name": "HBoxModel",
      "state": {
       "children": [
        "IPY_MODEL_3c2557be851242cf87d0fa3a7d73e10c",
        "IPY_MODEL_e361057775af48fa848015379a61dc49",
        "IPY_MODEL_60086e0dbee94ad58dc1586add484a16"
       ],
       "layout": "IPY_MODEL_ebb4f4efe1f04f33b83938faba4f435f"
      }
     },
     "afca683bc44e455c902fd594baebe2a4": {
      "model_module": "@jupyter-widgets/base",
      "model_module_version": "1.2.0",
      "model_name": "LayoutModel",
      "state": {}
     },
     "afd9ce24ca664fc48044b1922378d7bb": {
      "model_module": "@jupyter-widgets/controls",
      "model_module_version": "1.5.0",
      "model_name": "SliderStyleModel",
      "state": {
       "description_width": "initial"
      }
     },
     "aff1ac2d263947e298906dd732447cf9": {
      "model_module": "@jupyter-widgets/base",
      "model_module_version": "1.2.0",
      "model_name": "LayoutModel",
      "state": {}
     },
     "b0248d9cc573457cbb88e27778ffedd0": {
      "model_module": "@jupyter-widgets/controls",
      "model_module_version": "1.5.0",
      "model_name": "VBoxModel",
      "state": {
       "children": [
        "IPY_MODEL_3085ec01622c4ee9a86c3a867ab94ea2",
        "IPY_MODEL_b48e9eb4f1bf484ea54d73f141d88f7a"
       ],
       "layout": "IPY_MODEL_632e20e3c4434e42b392d200fccd1865"
      }
     },
     "b067076b51724180b24fd13ebbb298c7": {
      "model_module": "@jupyter-widgets/base",
      "model_module_version": "1.2.0",
      "model_name": "LayoutModel",
      "state": {}
     },
     "b071df49d4c94c41aad4a20e2f83ca02": {
      "model_module": "@jupyter-widgets/controls",
      "model_module_version": "1.5.0",
      "model_name": "VBoxModel",
      "state": {
       "_dom_classes": [
        "widget-interact"
       ],
       "children": [
        "IPY_MODEL_4702317eee6b4a52a8d24707dfef9556",
        "IPY_MODEL_a2922e1fa71b4d6fb8ded37fe341d0d3",
        "IPY_MODEL_255fad1fa5984f238384dba2b37b8037",
        "IPY_MODEL_06ee6ad21dfb415a924772a0bc9fba4c"
       ],
       "layout": "IPY_MODEL_b1ff3e332704449abad7d127847f6aa6"
      }
     },
     "b088e4cd0c574e85b2b0d9c49168dfaa": {
      "model_module": "@jupyter-widgets/controls",
      "model_module_version": "1.5.0",
      "model_name": "SliderStyleModel",
      "state": {
       "description_width": "initial"
      }
     },
     "b0b4686e975b4c8cade793b06c9c3e74": {
      "model_module": "@jupyter-widgets/controls",
      "model_module_version": "1.5.0",
      "model_name": "SliderStyleModel",
      "state": {
       "description_width": "initial"
      }
     },
     "b0c1846c844345759a168e913b94bcd4": {
      "model_module": "@jupyter-widgets/output",
      "model_module_version": "1.0.0",
      "model_name": "OutputModel",
      "state": {
       "layout": "IPY_MODEL_e134346b7f9441dc8470c01e519a2c96"
      }
     },
     "b0dc6f37227a4a32a8a749824dc200b1": {
      "model_module": "@jupyter-widgets/base",
      "model_module_version": "1.2.0",
      "model_name": "LayoutModel",
      "state": {}
     },
     "b0e8efb0714e483d9080722c70f119f1": {
      "model_module": "@jupyter-widgets/base",
      "model_module_version": "1.2.0",
      "model_name": "LayoutModel",
      "state": {}
     },
     "b0ef9885e631448288c41b5a4c76a777": {
      "model_module": "@jupyter-widgets/controls",
      "model_module_version": "1.5.0",
      "model_name": "IntSliderModel",
      "state": {
       "continuous_update": false,
       "description": "Periods",
       "layout": "IPY_MODEL_43bf4d436aab4c52a231e0464ac194e8",
       "max": 50,
       "min": 1,
       "style": "IPY_MODEL_658ca44bce3b477586afdd4913d3828c",
       "value": 36
      }
     },
     "b0f881f08cea45e4a8d6fa15f1bc000d": {
      "model_module": "@jupyter-widgets/controls",
      "model_module_version": "1.5.0",
      "model_name": "IntSliderModel",
      "state": {
       "continuous_update": false,
       "description": "Sampling (Hz)",
       "layout": "IPY_MODEL_4458464fd1aa4f43ae565fe6c7d2e89f",
       "max": 20,
       "min": 2,
       "step": 2,
       "style": "IPY_MODEL_b95c473f8c6048e8ba439bf444042a5e",
       "value": 4
      }
     },
     "b11f9319ab714fc7adf7fe44df433dc2": {
      "model_module": "@jupyter-widgets/controls",
      "model_module_version": "1.5.0",
      "model_name": "IntSliderModel",
      "state": {
       "description": "Periods",
       "layout": "IPY_MODEL_d8048a0efb5640a09a5a396f22cfb52d",
       "max": 50,
       "min": 1,
       "style": "IPY_MODEL_3232525db7364fbca0210ca1570d99da",
       "value": 2
      }
     },
     "b1524a3e7f7f484298ade61f995de0f8": {
      "model_module": "@jupyter-widgets/base",
      "model_module_version": "1.2.0",
      "model_name": "LayoutModel",
      "state": {}
     },
     "b157afc0709f49918cf782ef7f70796c": {
      "model_module": "@jupyter-widgets/controls",
      "model_module_version": "1.5.0",
      "model_name": "SliderStyleModel",
      "state": {
       "description_width": "initial"
      }
     },
     "b16e7a2acceb4c19857f196c6c09c0c0": {
      "model_module": "@jupyter-widgets/controls",
      "model_module_version": "1.5.0",
      "model_name": "SliderStyleModel",
      "state": {
       "description_width": "initial"
      }
     },
     "b18991c7343045e38665ceea1667492f": {
      "model_module": "@jupyter-widgets/base",
      "model_module_version": "1.2.0",
      "model_name": "LayoutModel",
      "state": {
       "flex_flow": "row_wrap"
      }
     },
     "b18db22ba15e413598fb30669f3a0408": {
      "model_module": "jupyter-matplotlib",
      "model_module_version": "^0.7.4",
      "model_name": "ToolbarModel",
      "state": {
       "layout": "IPY_MODEL_9f930f33e73141b098f937515f4c334e",
       "toolitems": [
        [
         "Home",
         "Reset original view",
         "home",
         "home"
        ],
        [
         "Back",
         "Back to previous view",
         "arrow-left",
         "back"
        ],
        [
         "Forward",
         "Forward to next view",
         "arrow-right",
         "forward"
        ],
        [
         "Pan",
         "Left button pans, Right button zooms\nx/y fixes axis, CTRL fixes aspect",
         "arrows",
         "pan"
        ],
        [
         "Zoom",
         "Zoom to rectangle\nx/y fixes axis, CTRL fixes aspect",
         "square-o",
         "zoom"
        ],
        [
         "Download",
         "Download plot",
         "floppy-o",
         "save_figure"
        ]
       ]
      }
     },
     "b1a24894c9574c62b4f0d3d1c6383b65": {
      "model_module": "@jupyter-widgets/controls",
      "model_module_version": "1.5.0",
      "model_name": "VBoxModel",
      "state": {
       "children": [
        "IPY_MODEL_b2f150930e5a48fdad09017d08f282d5",
        "IPY_MODEL_d3ffeed859484a1882ece35179a503fa",
        "IPY_MODEL_56c70e9df850488e86a66061d172f174"
       ],
       "layout": "IPY_MODEL_9ef912fce95942449437bd2c5f815a5a"
      }
     },
     "b1a2ce40a2104c1696d7806b7235d9dd": {
      "model_module": "@jupyter-widgets/controls",
      "model_module_version": "1.5.0",
      "model_name": "SliderStyleModel",
      "state": {
       "description_width": "initial"
      }
     },
     "b1b70326397944b7be64ea0bce0a5f15": {
      "model_module": "@jupyter-widgets/controls",
      "model_module_version": "1.5.0",
      "model_name": "SliderStyleModel",
      "state": {
       "description_width": "initial"
      }
     },
     "b1c802eb4c864a8eb095779268d36a57": {
      "model_module": "@jupyter-widgets/controls",
      "model_module_version": "1.5.0",
      "model_name": "IntSliderModel",
      "state": {
       "continuous_update": false,
       "description": "Sampling (Hz)",
       "layout": "IPY_MODEL_4c48ed947fb841ce9eb112d660f8fb8d",
       "max": 20,
       "min": 2,
       "step": 2,
       "style": "IPY_MODEL_2ac240f0faa4472c8c4c00c6119fb0d3",
       "value": 4
      }
     },
     "b1cf9ef923ae40308b4a345a60ea02f1": {
      "model_module": "@jupyter-widgets/controls",
      "model_module_version": "1.5.0",
      "model_name": "IntSliderModel",
      "state": {
       "continuous_update": false,
       "description": "Periods",
       "layout": "IPY_MODEL_35eb0a0314404d0787b30d5ad4059c9c",
       "max": 50,
       "min": 1,
       "style": "IPY_MODEL_1269df6fe9e94c3a8822c6ca3a4df4b8",
       "value": 18
      }
     },
     "b1d01832976449ffbf55f001682d1c29": {
      "model_module": "jupyter-matplotlib",
      "model_module_version": "^0.7.4",
      "model_name": "ToolbarModel",
      "state": {
       "layout": "IPY_MODEL_34f398e899a647378c982e5df4a468eb",
       "toolitems": [
        [
         "Home",
         "Reset original view",
         "home",
         "home"
        ],
        [
         "Back",
         "Back to previous view",
         "arrow-left",
         "back"
        ],
        [
         "Forward",
         "Forward to next view",
         "arrow-right",
         "forward"
        ],
        [
         "Pan",
         "Left button pans, Right button zooms\nx/y fixes axis, CTRL fixes aspect",
         "arrows",
         "pan"
        ],
        [
         "Zoom",
         "Zoom to rectangle\nx/y fixes axis, CTRL fixes aspect",
         "square-o",
         "zoom"
        ],
        [
         "Download",
         "Download plot",
         "floppy-o",
         "save_figure"
        ]
       ]
      }
     },
     "b1d9ce13d0fe465595edd1e4e5b6bfc3": {
      "model_module": "@jupyter-widgets/base",
      "model_module_version": "1.2.0",
      "model_name": "LayoutModel",
      "state": {}
     },
     "b1e4a739543146078259bbb92c5218c6": {
      "model_module": "@jupyter-widgets/controls",
      "model_module_version": "1.5.0",
      "model_name": "HBoxModel",
      "state": {
       "children": [
        "IPY_MODEL_92353665bf524b7b8a895d74977af69b",
        "IPY_MODEL_16e6ce7f6a7e4c1e9142a7efa2345690"
       ],
       "layout": "IPY_MODEL_466a4c7ce1d44ce9b89344ffd2c8fa59"
      }
     },
     "b1e922a896f14438a1bee66d2acd9a83": {
      "model_module": "@jupyter-widgets/controls",
      "model_module_version": "1.5.0",
      "model_name": "SliderStyleModel",
      "state": {
       "description_width": "initial"
      }
     },
     "b1fb31430e4f4b8384f596a1a70d55c6": {
      "model_module": "@jupyter-widgets/base",
      "model_module_version": "1.2.0",
      "model_name": "LayoutModel",
      "state": {
       "flex_flow": "row wrap"
      }
     },
     "b1ff3e332704449abad7d127847f6aa6": {
      "model_module": "@jupyter-widgets/base",
      "model_module_version": "1.2.0",
      "model_name": "LayoutModel",
      "state": {}
     },
     "b2029105d5724ca8b75364ae54853d23": {
      "model_module": "@jupyter-widgets/controls",
      "model_module_version": "1.5.0",
      "model_name": "SliderStyleModel",
      "state": {
       "description_width": "initial"
      }
     },
     "b20dd1e9fee54f22a60860a299b832ed": {
      "model_module": "@jupyter-widgets/controls",
      "model_module_version": "1.5.0",
      "model_name": "SliderStyleModel",
      "state": {
       "description_width": "initial"
      }
     },
     "b22f444f77944c699031d62586697ed6": {
      "model_module": "@jupyter-widgets/controls",
      "model_module_version": "1.5.0",
      "model_name": "SliderStyleModel",
      "state": {
       "description_width": "initial"
      }
     },
     "b29411d193c9452db39b1434c366afb9": {
      "model_module": "@jupyter-widgets/output",
      "model_module_version": "1.0.0",
      "model_name": "OutputModel",
      "state": {
       "layout": "IPY_MODEL_3494cb3055d8406fa263653aff40a066"
      }
     },
     "b2abeddec5314a94894fd33d6a7df3e6": {
      "model_module": "@jupyter-widgets/controls",
      "model_module_version": "1.5.0",
      "model_name": "SliderStyleModel",
      "state": {
       "description_width": "initial"
      }
     },
     "b2afa302dad347daaba0aee5a35ab471": {
      "model_module": "@jupyter-widgets/base",
      "model_module_version": "1.2.0",
      "model_name": "LayoutModel",
      "state": {}
     },
     "b2f150930e5a48fdad09017d08f282d5": {
      "model_module": "@jupyter-widgets/controls",
      "model_module_version": "1.5.0",
      "model_name": "IntSliderModel",
      "state": {
       "continuous_update": false,
       "description": "Periods",
       "layout": "IPY_MODEL_c72a007b644b44db9e2c77df26a1e54b",
       "max": 50,
       "min": 1,
       "style": "IPY_MODEL_80e43a6cb80f4e99b81cb094d1c56d2c",
       "value": 2
      }
     },
     "b3118ea531a94dca974863b24c156cce": {
      "model_module": "@jupyter-widgets/base",
      "model_module_version": "1.2.0",
      "model_name": "LayoutModel",
      "state": {}
     },
     "b31fb0a5a6324bf4a2982f2a15da0a5c": {
      "model_module": "@jupyter-widgets/output",
      "model_module_version": "1.0.0",
      "model_name": "OutputModel",
      "state": {
       "layout": "IPY_MODEL_9c2f74c7c9274d858b5b81c8d9c96643"
      }
     },
     "b33f28a3a64040aa9b31f6933a941c17": {
      "model_module": "@jupyter-widgets/base",
      "model_module_version": "1.2.0",
      "model_name": "LayoutModel",
      "state": {}
     },
     "b34c21d17d744b98a5b805c153660922": {
      "model_module": "@jupyter-widgets/controls",
      "model_module_version": "1.5.0",
      "model_name": "VBoxModel",
      "state": {
       "_dom_classes": [
        "widget-interact"
       ],
       "children": [
        "IPY_MODEL_fa3770b4feb141a4bc31bcfce038d8c5",
        "IPY_MODEL_1a4a12739a0a495ebd306845e30e58df",
        "IPY_MODEL_bd1162a1004c43cda3a7275ed3ac375c",
        "IPY_MODEL_a0284db337f646b8a385cee18811c719"
       ],
       "layout": "IPY_MODEL_ba9362dca8c942e2b85df2fc17fc69e5"
      }
     },
     "b35a5600b30847c68c80c35253a1434e": {
      "model_module": "@jupyter-widgets/controls",
      "model_module_version": "1.5.0",
      "model_name": "VBoxModel",
      "state": {
       "_dom_classes": [
        "widget-interact"
       ],
       "children": [
        "IPY_MODEL_c57a50d1d784422da59f8aa050bd5abf",
        "IPY_MODEL_19e601799bb84c11bc550226ec7e8d34",
        "IPY_MODEL_86830151c38c4a9a8536c1d6343cf70e",
        "IPY_MODEL_edd9c89d56984f66a8fb88ed6a414a99"
       ],
       "layout": "IPY_MODEL_880b673a150d48bba19d9941fd2be92e"
      }
     },
     "b3b3ca6e632947029f078f8f2dadf726": {
      "model_module": "@jupyter-widgets/controls",
      "model_module_version": "1.5.0",
      "model_name": "SliderStyleModel",
      "state": {
       "description_width": "initial"
      }
     },
     "b3f54c84b5f14687a3cc88e300406131": {
      "model_module": "@jupyter-widgets/controls",
      "model_module_version": "1.5.0",
      "model_name": "HBoxModel",
      "state": {
       "children": [
        "IPY_MODEL_324dd7c69c33401aae2192161f3be643",
        "IPY_MODEL_0a11a92accc041408bf5215b035327fd"
       ],
       "layout": "IPY_MODEL_4744be53d3b542729ccdb1f50df34df8"
      }
     },
     "b41561e4096a4c659edd4c4af25c12b9": {
      "model_module": "@jupyter-widgets/base",
      "model_module_version": "1.2.0",
      "model_name": "LayoutModel",
      "state": {}
     },
     "b41c32fe6a59478d90afe41846ac7814": {
      "model_module": "@jupyter-widgets/controls",
      "model_module_version": "1.5.0",
      "model_name": "IntSliderModel",
      "state": {
       "continuous_update": false,
       "description": "0-Padding",
       "layout": "IPY_MODEL_addde83a72e441d49cba1d1e818103df",
       "max": 5000,
       "step": 166,
       "style": "IPY_MODEL_8b72263c94634c40847e59204f124736",
       "value": 732
      }
     },
     "b444f930e49b4251a269aaf840e0dd70": {
      "model_module": "@jupyter-widgets/base",
      "model_module_version": "1.2.0",
      "model_name": "LayoutModel",
      "state": {}
     },
     "b4465b256ad14a628154a4ec8a785dd0": {
      "model_module": "jupyter-matplotlib",
      "model_module_version": "^0.7.4",
      "model_name": "ToolbarModel",
      "state": {
       "layout": "IPY_MODEL_d62e358d1a4a441bb77660e649c2f087",
       "toolitems": [
        [
         "Home",
         "Reset original view",
         "home",
         "home"
        ],
        [
         "Back",
         "Back to previous view",
         "arrow-left",
         "back"
        ],
        [
         "Forward",
         "Forward to next view",
         "arrow-right",
         "forward"
        ],
        [
         "Pan",
         "Left button pans, Right button zooms\nx/y fixes axis, CTRL fixes aspect",
         "arrows",
         "pan"
        ],
        [
         "Zoom",
         "Zoom to rectangle\nx/y fixes axis, CTRL fixes aspect",
         "square-o",
         "zoom"
        ],
        [
         "Download",
         "Download plot",
         "floppy-o",
         "save_figure"
        ]
       ]
      }
     },
     "b461f267695d4bd5b1297171e3abd0c2": {
      "model_module": "@jupyter-widgets/controls",
      "model_module_version": "1.5.0",
      "model_name": "VBoxModel",
      "state": {
       "_dom_classes": [
        "widget-interact"
       ],
       "children": [
        "IPY_MODEL_9cce7cac70f24fb1833e18d95f158502",
        "IPY_MODEL_a3814d1ece4346f58d27e8f857add482",
        "IPY_MODEL_26cdd946af07490fa21a4ee68454a554",
        "IPY_MODEL_3471cb0b104b40d783f8e82e362e6968"
       ],
       "layout": "IPY_MODEL_8ab1ba89dec5423789792717a9bbf3b5"
      }
     },
     "b48e9eb4f1bf484ea54d73f141d88f7a": {
      "model_module": "@jupyter-widgets/output",
      "model_module_version": "1.0.0",
      "model_name": "OutputModel",
      "state": {
       "layout": "IPY_MODEL_a17ecdd6ad3844afa362435445e4b75c"
      }
     },
     "b4ae1d356d7540078ed10a4fc98f57d3": {
      "model_module": "@jupyter-widgets/base",
      "model_module_version": "1.2.0",
      "model_name": "LayoutModel",
      "state": {}
     },
     "b4e5b8572d2f443a8d7cbf18f7c22a3a": {
      "model_module": "@jupyter-widgets/base",
      "model_module_version": "1.2.0",
      "model_name": "LayoutModel",
      "state": {}
     },
     "b4f9c5798aee43bdbcc9a3f766ae0f5b": {
      "model_module": "@jupyter-widgets/base",
      "model_module_version": "1.2.0",
      "model_name": "LayoutModel",
      "state": {}
     },
     "b524c2f9160a48d2bf4aa3e41be7b841": {
      "model_module": "@jupyter-widgets/base",
      "model_module_version": "1.2.0",
      "model_name": "LayoutModel",
      "state": {}
     },
     "b52a7ffb32a04ee9bb7bb7dc5bf34b2f": {
      "model_module": "@jupyter-widgets/controls",
      "model_module_version": "1.5.0",
      "model_name": "IntSliderModel",
      "state": {
       "continuous_update": false,
       "description": "Periods",
       "layout": "IPY_MODEL_ed436dcd57924c9a929422977ad76df4",
       "max": 50,
       "min": 1,
       "style": "IPY_MODEL_0c077d380c924c798ea6ed86c261bd24",
       "value": 2
      }
     },
     "b551b8e4e0844dd5b27b5d0a216e949e": {
      "model_module": "jupyter-matplotlib",
      "model_module_version": "^0.7.4",
      "model_name": "ToolbarModel",
      "state": {
       "layout": "IPY_MODEL_2906ba1959214cda873f23024dde950d",
       "toolitems": [
        [
         "Home",
         "Reset original view",
         "home",
         "home"
        ],
        [
         "Back",
         "Back to previous view",
         "arrow-left",
         "back"
        ],
        [
         "Forward",
         "Forward to next view",
         "arrow-right",
         "forward"
        ],
        [
         "Pan",
         "Left button pans, Right button zooms\nx/y fixes axis, CTRL fixes aspect",
         "arrows",
         "pan"
        ],
        [
         "Zoom",
         "Zoom to rectangle\nx/y fixes axis, CTRL fixes aspect",
         "square-o",
         "zoom"
        ],
        [
         "Download",
         "Download plot",
         "floppy-o",
         "save_figure"
        ]
       ]
      }
     },
     "b5c8f9b19c574623a69112751e28142e": {
      "model_module": "@jupyter-widgets/controls",
      "model_module_version": "1.5.0",
      "model_name": "HBoxModel",
      "state": {
       "children": [
        "IPY_MODEL_50d3623e560648f3a343fe318a3a3658",
        "IPY_MODEL_dbec8fae0d8f4359ab1f487a818e1dfb",
        "IPY_MODEL_30fa197ead7d4aa9b13111f820f30576"
       ],
       "layout": "IPY_MODEL_1bfee6bbf2244ece8fcba7c64b64d22c"
      }
     },
     "b5c928b108434032a40560974cd4b228": {
      "model_module": "@jupyter-widgets/controls",
      "model_module_version": "1.5.0",
      "model_name": "IntSliderModel",
      "state": {
       "continuous_update": false,
       "description": "Sampling (Hz)",
       "layout": "IPY_MODEL_bd465bb27b404524bcc32fd3c0112801",
       "max": 20,
       "min": 2,
       "step": 2,
       "style": "IPY_MODEL_a09a9b333c7041989725c6e71250915c",
       "value": 8
      }
     },
     "b5c98c6f54da44c093c10af7f0394847": {
      "model_module": "@jupyter-widgets/base",
      "model_module_version": "1.2.0",
      "model_name": "LayoutModel",
      "state": {}
     },
     "b5d33cb2f93b4fc8a3d6fc6b35212c99": {
      "model_module": "@jupyter-widgets/base",
      "model_module_version": "1.2.0",
      "model_name": "LayoutModel",
      "state": {}
     },
     "b5d47c3a8bb54bf9a392e2cc78decc35": {
      "model_module": "@jupyter-widgets/base",
      "model_module_version": "1.2.0",
      "model_name": "LayoutModel",
      "state": {}
     },
     "b5deff6ff8334f56b4ed9159bed5760b": {
      "model_module": "@jupyter-widgets/controls",
      "model_module_version": "1.5.0",
      "model_name": "SliderStyleModel",
      "state": {
       "description_width": "initial"
      }
     },
     "b5f12514561c433288d270e2da70507c": {
      "model_module": "@jupyter-widgets/controls",
      "model_module_version": "1.5.0",
      "model_name": "VBoxModel",
      "state": {
       "children": [
        "IPY_MODEL_ebc1118b62844ce79fa0e8dfc3708efb",
        "IPY_MODEL_92601aba97c8448396a4dee83daec03c",
        "IPY_MODEL_83da9457011b4a2f86489489512e2e22"
       ],
       "layout": "IPY_MODEL_7091161419f9497e95f101f24c137b60"
      }
     },
     "b5f4b47b36da4f6ead29c683abc022a9": {
      "model_module": "@jupyter-widgets/output",
      "model_module_version": "1.0.0",
      "model_name": "OutputModel",
      "state": {
       "layout": "IPY_MODEL_7ef7ac3f2ad243c7a6dd689d695e1482"
      }
     },
     "b61a2ace74f246048db49f203bc2aac4": {
      "model_module": "@jupyter-widgets/base",
      "model_module_version": "1.2.0",
      "model_name": "LayoutModel",
      "state": {}
     },
     "b6322fc0d6d84605aec63e027cbdfbd9": {
      "model_module": "@jupyter-widgets/base",
      "model_module_version": "1.2.0",
      "model_name": "LayoutModel",
      "state": {}
     },
     "b6443550e6984335b191793049718c12": {
      "model_module": "@jupyter-widgets/base",
      "model_module_version": "1.2.0",
      "model_name": "LayoutModel",
      "state": {
       "flex_flow": "row wrap"
      }
     },
     "b65b946d3d1d4d7f89a602711d77e59c": {
      "model_module": "jupyter-matplotlib",
      "model_module_version": "^0.7.4",
      "model_name": "ToolbarModel",
      "state": {
       "layout": "IPY_MODEL_396c2ff0ccce4301a8fcafac2375b204",
       "toolitems": [
        [
         "Home",
         "Reset original view",
         "home",
         "home"
        ],
        [
         "Back",
         "Back to previous view",
         "arrow-left",
         "back"
        ],
        [
         "Forward",
         "Forward to next view",
         "arrow-right",
         "forward"
        ],
        [
         "Pan",
         "Left button pans, Right button zooms\nx/y fixes axis, CTRL fixes aspect",
         "arrows",
         "pan"
        ],
        [
         "Zoom",
         "Zoom to rectangle\nx/y fixes axis, CTRL fixes aspect",
         "square-o",
         "zoom"
        ],
        [
         "Download",
         "Download plot",
         "floppy-o",
         "save_figure"
        ]
       ]
      }
     },
     "b66ea075f53f4e118828728a3f63f2b5": {
      "model_module": "@jupyter-widgets/controls",
      "model_module_version": "1.5.0",
      "model_name": "SliderStyleModel",
      "state": {
       "description_width": "initial"
      }
     },
     "b683bd1a157b414ca88b4554449af3e6": {
      "model_module": "@jupyter-widgets/base",
      "model_module_version": "1.2.0",
      "model_name": "LayoutModel",
      "state": {}
     },
     "b690aa554d874710a86a45d5cafef8e4": {
      "model_module": "@jupyter-widgets/base",
      "model_module_version": "1.2.0",
      "model_name": "LayoutModel",
      "state": {}
     },
     "b6c468582af248f9a96bcf93c18bef7b": {
      "model_module": "@jupyter-widgets/controls",
      "model_module_version": "1.5.0",
      "model_name": "IntSliderModel",
      "state": {
       "description": "Sampling (Hz)",
       "layout": "IPY_MODEL_96fee428f1154174be4dba306f219782",
       "max": 12,
       "min": 2,
       "step": 2,
       "style": "IPY_MODEL_79e672b95e2e474a9826dacde546925e",
       "value": 4
      }
     },
     "b6ccd4e187e2489f812adc2e239579e4": {
      "model_module": "@jupyter-widgets/base",
      "model_module_version": "1.2.0",
      "model_name": "LayoutModel",
      "state": {}
     },
     "b6ef10feac2a44d09f153d89c3f5728c": {
      "model_module": "@jupyter-widgets/output",
      "model_module_version": "1.0.0",
      "model_name": "OutputModel",
      "state": {
       "layout": "IPY_MODEL_c81236020df14181bdeb5a9d06bb45f1"
      }
     },
     "b70112597f8a4484ab8afee41db9a4d8": {
      "model_module": "@jupyter-widgets/controls",
      "model_module_version": "1.5.0",
      "model_name": "IntSliderModel",
      "state": {
       "continuous_update": false,
       "description": "0-Padding",
       "layout": "IPY_MODEL_18ccfe7ce1b44cc782180a0fbd5503e9",
       "max": 324,
       "step": 10,
       "style": "IPY_MODEL_5930c4bc288d45818fa0b9e0b6d7b434",
       "value": 324
      }
     },
     "b7457f1340e44034a3dc01fc93bd86b6": {
      "model_module": "@jupyter-widgets/controls",
      "model_module_version": "1.5.0",
      "model_name": "VBoxModel",
      "state": {
       "_dom_classes": [
        "widget-interact"
       ],
       "children": [
        "IPY_MODEL_669d9609946b4e7c8b7ce64e75e8640b",
        "IPY_MODEL_5c78490189e04cff89fcf0797cbdd363",
        "IPY_MODEL_d854490536f149db8447c591e47584ea",
        "IPY_MODEL_60e36d1526294ea0adbd5250c79735b1"
       ],
       "layout": "IPY_MODEL_d8d644ace831464f98d18cf864a0aef6"
      }
     },
     "b748ca21850d4cfea12189d7edec47e3": {
      "model_module": "@jupyter-widgets/controls",
      "model_module_version": "1.5.0",
      "model_name": "SliderStyleModel",
      "state": {
       "description_width": "initial"
      }
     },
     "b74f228a895742bbab93598b6a9cd7ab": {
      "model_module": "@jupyter-widgets/output",
      "model_module_version": "1.0.0",
      "model_name": "OutputModel",
      "state": {
       "layout": "IPY_MODEL_26abb5de0d3847d4ab731b439758a51b",
       "outputs": [
        {
         "data": {
          "application/vnd.jupyter.widget-view+json": {
           "model_id": "8a1dd62c46de403f8e7fe173b728ca55",
           "version_major": 2,
           "version_minor": 0
          },
          "text/plain": "Canvas(toolbar=Toolbar(toolitems=[('Home', 'Reset original view', 'home', 'home'), ('Back', 'Back to previous …"
         },
         "metadata": {},
         "output_type": "display_data"
        }
       ]
      }
     },
     "b759cca5598f48d98f0b1b40531a8b0c": {
      "model_module": "@jupyter-widgets/base",
      "model_module_version": "1.2.0",
      "model_name": "LayoutModel",
      "state": {}
     },
     "b75d55e3da224f43aa21d232d3e57f8d": {
      "model_module": "@jupyter-widgets/base",
      "model_module_version": "1.2.0",
      "model_name": "LayoutModel",
      "state": {}
     },
     "b7633204b6774fdcad49cd6ba9ade986": {
      "model_module": "@jupyter-widgets/base",
      "model_module_version": "1.2.0",
      "model_name": "LayoutModel",
      "state": {}
     },
     "b76ef3a520714f058abdf7ebd9c498c9": {
      "model_module": "@jupyter-widgets/base",
      "model_module_version": "1.2.0",
      "model_name": "LayoutModel",
      "state": {}
     },
     "b77406f5878847778b8c135d1f83c10e": {
      "model_module": "@jupyter-widgets/controls",
      "model_module_version": "1.5.0",
      "model_name": "SliderStyleModel",
      "state": {
       "description_width": "initial"
      }
     },
     "b790d8bf4c79417db75403c625805ab5": {
      "model_module": "@jupyter-widgets/base",
      "model_module_version": "1.2.0",
      "model_name": "LayoutModel",
      "state": {}
     },
     "b7c2d8bd6730426eb343c1b2d3fdff82": {
      "model_module": "@jupyter-widgets/base",
      "model_module_version": "1.2.0",
      "model_name": "LayoutModel",
      "state": {}
     },
     "b8151163905345aca24c74741f7e6145": {
      "model_module": "@jupyter-widgets/base",
      "model_module_version": "1.2.0",
      "model_name": "LayoutModel",
      "state": {}
     },
     "b8324a27e4154c82b733540d1a6ef2e7": {
      "model_module": "@jupyter-widgets/output",
      "model_module_version": "1.0.0",
      "model_name": "OutputModel",
      "state": {
       "layout": "IPY_MODEL_a3da3e6e505f4cee9b5ef2192f919b24"
      }
     },
     "b836463984b54d2baa6f3d13ba0b764e": {
      "model_module": "@jupyter-widgets/base",
      "model_module_version": "1.2.0",
      "model_name": "LayoutModel",
      "state": {}
     },
     "b843e46bf5cf4366bc0b98e9d278838b": {
      "model_module": "@jupyter-widgets/base",
      "model_module_version": "1.2.0",
      "model_name": "LayoutModel",
      "state": {}
     },
     "b8577981125845f2a8537e3d519e835f": {
      "model_module": "@jupyter-widgets/controls",
      "model_module_version": "1.5.0",
      "model_name": "IntSliderModel",
      "state": {
       "continuous_update": false,
       "description": "0-Padding",
       "layout": "IPY_MODEL_cd68be001e8044288517ac84bbf8453e",
       "max": 500,
       "style": "IPY_MODEL_603b0d576d554e0fab7f6bf0b02d4c04"
      }
     },
     "b88763884a934e3e853b4e3d6c34925e": {
      "model_module": "@jupyter-widgets/controls",
      "model_module_version": "1.5.0",
      "model_name": "VBoxModel",
      "state": {
       "_dom_classes": [
        "widget-interact"
       ],
       "children": [
        "IPY_MODEL_d8536f9444bd44eca5c6351eb34c3250",
        "IPY_MODEL_f5440c39c7e5467b8e5016cd7d05d66e",
        "IPY_MODEL_3e01d5bc5fa941098add163305041a1c",
        "IPY_MODEL_4a174b067a7c48c982de4da7cf05ee8e"
       ],
       "layout": "IPY_MODEL_542c24e2a28045da8cb9f0a80cc88e54"
      }
     },
     "b8a14f392dc64a12b2a90f86ae822471": {
      "model_module": "@jupyter-widgets/controls",
      "model_module_version": "1.5.0",
      "model_name": "SliderStyleModel",
      "state": {
       "description_width": "initial"
      }
     },
     "b8bf63157e6144489dc0499a46efd2d2": {
      "model_module": "@jupyter-widgets/base",
      "model_module_version": "1.2.0",
      "model_name": "LayoutModel",
      "state": {}
     },
     "b8dc34f335854218987d86ec06004d59": {
      "model_module": "@jupyter-widgets/base",
      "model_module_version": "1.2.0",
      "model_name": "LayoutModel",
      "state": {}
     },
     "b8ddfd1e7984445ea109f5666041dbcd": {
      "model_module": "@jupyter-widgets/controls",
      "model_module_version": "1.5.0",
      "model_name": "IntSliderModel",
      "state": {
       "continuous_update": false,
       "description": "0-Padding",
       "layout": "IPY_MODEL_a318eedd897641e6841b2448613e400a",
       "max": 500,
       "style": "IPY_MODEL_2dbba1c27a8a4f7baea5954a5290e93e"
      }
     },
     "b919bfedae3f426e8389f4a32007d014": {
      "model_module": "@jupyter-widgets/controls",
      "model_module_version": "1.5.0",
      "model_name": "IntSliderModel",
      "state": {
       "continuous_update": false,
       "description": "Sampling (Hz)",
       "layout": "IPY_MODEL_496d6294f67449b99a9889e03b068f39",
       "max": 12,
       "min": 2,
       "step": 2,
       "style": "IPY_MODEL_d0d62af61c1042f48078287f39d4fa0d",
       "value": 4
      }
     },
     "b95c473f8c6048e8ba439bf444042a5e": {
      "model_module": "@jupyter-widgets/controls",
      "model_module_version": "1.5.0",
      "model_name": "SliderStyleModel",
      "state": {
       "description_width": "initial"
      }
     },
     "b95cc23a481545a6a6208c8febfdf53f": {
      "model_module": "@jupyter-widgets/base",
      "model_module_version": "1.2.0",
      "model_name": "LayoutModel",
      "state": {}
     },
     "b96992121a0540ddb145139ce1c9ad33": {
      "model_module": "@jupyter-widgets/controls",
      "model_module_version": "1.5.0",
      "model_name": "SliderStyleModel",
      "state": {
       "description_width": "initial"
      }
     },
     "b97763de45424f0f9045eedc8c79b5c4": {
      "model_module": "@jupyter-widgets/base",
      "model_module_version": "1.2.0",
      "model_name": "LayoutModel",
      "state": {}
     },
     "b9b6798a825244229550bcfa69215f80": {
      "model_module": "@jupyter-widgets/controls",
      "model_module_version": "1.5.0",
      "model_name": "IntSliderModel",
      "state": {
       "continuous_update": false,
       "description": "0-Padding",
       "layout": "IPY_MODEL_3c63bc1b9cc340319c50c9e8f6e8fbd1",
       "max": 500,
       "style": "IPY_MODEL_e5d6b59e6d6643919e9b180f839af94b"
      }
     },
     "b9d7b35f8b7a49f4a3512ed1289e4ffd": {
      "model_module": "@jupyter-widgets/controls",
      "model_module_version": "1.5.0",
      "model_name": "SliderStyleModel",
      "state": {
       "description_width": "initial"
      }
     },
     "b9f92206f3534e4f8b4a6959a4d1486e": {
      "model_module": "@jupyter-widgets/base",
      "model_module_version": "1.2.0",
      "model_name": "LayoutModel",
      "state": {}
     },
     "ba0454986bd94f64a4e80b5f94d6bc23": {
      "model_module": "@jupyter-widgets/controls",
      "model_module_version": "1.5.0",
      "model_name": "IntSliderModel",
      "state": {
       "continuous_update": false,
       "description": "Sampling (Hz)",
       "layout": "IPY_MODEL_af32ed73e20047b098a66e806a27fb35",
       "max": 12,
       "min": 2,
       "step": 2,
       "style": "IPY_MODEL_2bc1d94f9f7644a18f2bc0704eb5e10e",
       "value": 4
      }
     },
     "ba0bb34cd46b440691753e3c92ba70c0": {
      "model_module": "@jupyter-widgets/controls",
      "model_module_version": "1.5.0",
      "model_name": "SliderStyleModel",
      "state": {
       "description_width": "initial"
      }
     },
     "ba211ef8b4de4bb58ea00a102ee08cb3": {
      "model_module": "@jupyter-widgets/base",
      "model_module_version": "1.2.0",
      "model_name": "LayoutModel",
      "state": {}
     },
     "ba280b9bfd6e4968a55ebf392db12982": {
      "model_module": "@jupyter-widgets/base",
      "model_module_version": "1.2.0",
      "model_name": "LayoutModel",
      "state": {}
     },
     "ba3629101b034f8890ef22e708c0afbc": {
      "model_module": "@jupyter-widgets/controls",
      "model_module_version": "1.5.0",
      "model_name": "IntSliderModel",
      "state": {
       "continuous_update": false,
       "description": "0-Padding",
       "layout": "IPY_MODEL_161eeaaaa856497fafc56af0f67aeae5",
       "max": 500,
       "style": "IPY_MODEL_0b74ac6a420c4a6aa20aca6fcbdc88c6"
      }
     },
     "ba369a61707c489faf11b4d696d38b58": {
      "model_module": "@jupyter-widgets/base",
      "model_module_version": "1.2.0",
      "model_name": "LayoutModel",
      "state": {
       "align_items": "baseline"
      }
     },
     "ba421b3569174760b86835f88cd489d7": {
      "model_module": "@jupyter-widgets/controls",
      "model_module_version": "1.5.0",
      "model_name": "IntSliderModel",
      "state": {
       "continuous_update": false,
       "description": "Periods",
       "layout": "IPY_MODEL_ed7d33f8016a4935b9ced1ee142e9279",
       "max": 50,
       "min": 1,
       "style": "IPY_MODEL_473a3f7a73274a8ebd51c2addcb7024b",
       "value": 50
      }
     },
     "ba7081450a78419e9d411eb9b058149b": {
      "model_module": "@jupyter-widgets/controls",
      "model_module_version": "1.5.0",
      "model_name": "VBoxModel",
      "state": {
       "_dom_classes": [
        "widget-interact"
       ],
       "children": [
        "IPY_MODEL_457507d788374166a294288e44dbac3a",
        "IPY_MODEL_fdca85a2fa9049599138cd6edc443fc7",
        "IPY_MODEL_b70112597f8a4484ab8afee41db9a4d8",
        "IPY_MODEL_a846b70a9099469e95b7cfc41958ce80"
       ],
       "layout": "IPY_MODEL_6c213c15b6544108801f2578cec8b8b2"
      }
     },
     "ba9362dca8c942e2b85df2fc17fc69e5": {
      "model_module": "@jupyter-widgets/base",
      "model_module_version": "1.2.0",
      "model_name": "LayoutModel",
      "state": {}
     },
     "baba12e8c8f2419bb9d0e223243a496c": {
      "model_module": "@jupyter-widgets/controls",
      "model_module_version": "1.5.0",
      "model_name": "VBoxModel",
      "state": {
       "_dom_classes": [
        "widget-interact"
       ],
       "children": [
        "IPY_MODEL_afc696bd4d074f8082c02ae439adbbad",
        "IPY_MODEL_20dd12ead1124918a87c4bc7134c0d88",
        "IPY_MODEL_e316618a5678418ba467ead67ef75031",
        "IPY_MODEL_651f8843a8b44c3fabe114bb8fb51c03"
       ],
       "layout": "IPY_MODEL_957453b44b5b42a6b63dcc4027a952dd"
      }
     },
     "bae383873bc64dec922835ba04ff32d3": {
      "model_module": "@jupyter-widgets/base",
      "model_module_version": "1.2.0",
      "model_name": "LayoutModel",
      "state": {}
     },
     "baef058d56784636945d1f910a8206ad": {
      "model_module": "@jupyter-widgets/base",
      "model_module_version": "1.2.0",
      "model_name": "LayoutModel",
      "state": {}
     },
     "bb387c23a4684ce381a0b32ca9e3f8e7": {
      "model_module": "@jupyter-widgets/base",
      "model_module_version": "1.2.0",
      "model_name": "LayoutModel",
      "state": {}
     },
     "bb74fa4908384be29b9213890b29d7e6": {
      "model_module": "jupyter-matplotlib",
      "model_module_version": "^0.7.4",
      "model_name": "ToolbarModel",
      "state": {
       "layout": "IPY_MODEL_46f90d720d1c411c919baee40d5f0c7b",
       "toolitems": [
        [
         "Home",
         "Reset original view",
         "home",
         "home"
        ],
        [
         "Back",
         "Back to previous view",
         "arrow-left",
         "back"
        ],
        [
         "Forward",
         "Forward to next view",
         "arrow-right",
         "forward"
        ],
        [
         "Pan",
         "Left button pans, Right button zooms\nx/y fixes axis, CTRL fixes aspect",
         "arrows",
         "pan"
        ],
        [
         "Zoom",
         "Zoom to rectangle\nx/y fixes axis, CTRL fixes aspect",
         "square-o",
         "zoom"
        ],
        [
         "Download",
         "Download plot",
         "floppy-o",
         "save_figure"
        ]
       ]
      }
     },
     "bb7ca09adedc4136a98eba016c9989c8": {
      "model_module": "@jupyter-widgets/controls",
      "model_module_version": "1.5.0",
      "model_name": "IntSliderModel",
      "state": {
       "continuous_update": false,
       "description": "0-Padding",
       "layout": "IPY_MODEL_99ea9e7bf3fd4f71a01f1ba20ff2de07",
       "max": 500,
       "style": "IPY_MODEL_fcc947fb18c648ee9a430ce87da04f32"
      }
     },
     "bb8bff2315e44acc9c8e26e95ed65f9e": {
      "model_module": "@jupyter-widgets/base",
      "model_module_version": "1.2.0",
      "model_name": "LayoutModel",
      "state": {}
     },
     "bbc6d78858ef4e869d26b002585da23a": {
      "model_module": "@jupyter-widgets/controls",
      "model_module_version": "1.5.0",
      "model_name": "IntSliderModel",
      "state": {
       "continuous_update": false,
       "description": "Sampling (Hz)",
       "layout": "IPY_MODEL_ec9e7882e7464e3b9426f643e845291d",
       "max": 20,
       "min": 2,
       "step": 2,
       "style": "IPY_MODEL_88ff5fef053b426c8f7c2e2c036ddf6c",
       "value": 4
      }
     },
     "bbeb2dc264e74b8f85234fc166da5f2b": {
      "model_module": "@jupyter-widgets/controls",
      "model_module_version": "1.5.0",
      "model_name": "IntSliderModel",
      "state": {
       "continuous_update": false,
       "description": "Periods",
       "layout": "IPY_MODEL_589aaa22a50a47b39d120c04fe0e1971",
       "max": 50,
       "min": 1,
       "style": "IPY_MODEL_75cf72529f144675917a95617cff2f8c",
       "value": 30
      }
     },
     "bbfb9b8ecfa84917853672db201e07eb": {
      "model_module": "jupyter-matplotlib",
      "model_module_version": "^0.7.4",
      "model_name": "ToolbarModel",
      "state": {
       "layout": "IPY_MODEL_ac03491924984feab6e0d9ba2ccc45d3",
       "toolitems": [
        [
         "Home",
         "Reset original view",
         "home",
         "home"
        ],
        [
         "Back",
         "Back to previous view",
         "arrow-left",
         "back"
        ],
        [
         "Forward",
         "Forward to next view",
         "arrow-right",
         "forward"
        ],
        [
         "Pan",
         "Left button pans, Right button zooms\nx/y fixes axis, CTRL fixes aspect",
         "arrows",
         "pan"
        ],
        [
         "Zoom",
         "Zoom to rectangle\nx/y fixes axis, CTRL fixes aspect",
         "square-o",
         "zoom"
        ],
        [
         "Download",
         "Download plot",
         "floppy-o",
         "save_figure"
        ]
       ]
      }
     },
     "bc0d3eeda2ac42c3b19d0fe42e8274e2": {
      "model_module": "@jupyter-widgets/controls",
      "model_module_version": "1.5.0",
      "model_name": "SliderStyleModel",
      "state": {
       "description_width": "initial"
      }
     },
     "bc14d936a79a4c5aaf1730ceae2a28f9": {
      "model_module": "@jupyter-widgets/base",
      "model_module_version": "1.2.0",
      "model_name": "LayoutModel",
      "state": {}
     },
     "bc226be97877425a8d2460d06ef50d67": {
      "model_module": "@jupyter-widgets/base",
      "model_module_version": "1.2.0",
      "model_name": "LayoutModel",
      "state": {}
     },
     "bc2b5045148c49b3abebb1cc416c15cf": {
      "model_module": "@jupyter-widgets/controls",
      "model_module_version": "1.5.0",
      "model_name": "VBoxModel",
      "state": {
       "_dom_classes": [
        "widget-interact"
       ],
       "children": [
        "IPY_MODEL_17e01d75c6ac4689b182c8ab348e4a4d",
        "IPY_MODEL_1dda28e554564640b6543c358b6bd3e3",
        "IPY_MODEL_a6d64ec24b5b4e2089217a29918d044b",
        "IPY_MODEL_176e873b63df4c65b18a4a523e79ce6d"
       ],
       "layout": "IPY_MODEL_6fde8aeb1fdd4ec1850ded2a6d6f2cab"
      }
     },
     "bc77b52be3c94fab8721565faf17ec1e": {
      "model_module": "@jupyter-widgets/base",
      "model_module_version": "1.2.0",
      "model_name": "LayoutModel",
      "state": {}
     },
     "bc7a5b067d504c9182532e1f02e4f6db": {
      "model_module": "@jupyter-widgets/controls",
      "model_module_version": "1.5.0",
      "model_name": "VBoxModel",
      "state": {
       "_dom_classes": [
        "widget-interact"
       ],
       "children": [
        "IPY_MODEL_7497415c53164f5b9474aafe24f199d9",
        "IPY_MODEL_93dcdcef8e544243a353590f55f96e75",
        "IPY_MODEL_2a936792684c4e40b4837fadbec5d462",
        "IPY_MODEL_9ee496df33984a23aef75b43597f1638"
       ],
       "layout": "IPY_MODEL_7abb07cdffda4992b2a0f9890e3ca4dd"
      }
     },
     "bc7f2ac97fa74434ac5c2885963422f2": {
      "model_module": "@jupyter-widgets/controls",
      "model_module_version": "1.5.0",
      "model_name": "IntSliderModel",
      "state": {
       "continuous_update": false,
       "description": "0-Padding",
       "layout": "IPY_MODEL_d4f7ae8bd6bf4c09a204add7810f664f",
       "max": 500,
       "style": "IPY_MODEL_c3a2c2b1baf640ea8248e63755e17ca3"
      }
     },
     "bcd3199e4b7d48e4a0ae2eb6759acf87": {
      "model_module": "@jupyter-widgets/controls",
      "model_module_version": "1.5.0",
      "model_name": "IntSliderModel",
      "state": {
       "continuous_update": false,
       "description": "Periods",
       "layout": "IPY_MODEL_c654237a87a94325a995639c5116930f",
       "max": 50,
       "min": 1,
       "style": "IPY_MODEL_1a04e73d211b4581af60f94287c83a60",
       "value": 2
      }
     },
     "bce4a1d617124a9fa71b73a2a7dc1a0e": {
      "model_module": "@jupyter-widgets/controls",
      "model_module_version": "1.5.0",
      "model_name": "SliderStyleModel",
      "state": {
       "description_width": "initial"
      }
     },
     "bd1162a1004c43cda3a7275ed3ac375c": {
      "model_module": "@jupyter-widgets/controls",
      "model_module_version": "1.5.0",
      "model_name": "IntSliderModel",
      "state": {
       "description": "0-Padding",
       "layout": "IPY_MODEL_eb44569e0d6a44b69c6400cd2d64d52a",
       "max": 920,
       "step": 30,
       "style": "IPY_MODEL_b1a2ce40a2104c1696d7806b7235d9dd"
      }
     },
     "bd465bb27b404524bcc32fd3c0112801": {
      "model_module": "@jupyter-widgets/base",
      "model_module_version": "1.2.0",
      "model_name": "LayoutModel",
      "state": {}
     },
     "bd61b539b26c43898311212203a896f9": {
      "model_module": "jupyter-matplotlib",
      "model_module_version": "^0.7.4",
      "model_name": "ToolbarModel",
      "state": {
       "_current_action": "zoom",
       "layout": "IPY_MODEL_fcb989a016d84558a30dd3613d8c3545",
       "toolitems": [
        [
         "Home",
         "Reset original view",
         "home",
         "home"
        ],
        [
         "Back",
         "Back to previous view",
         "arrow-left",
         "back"
        ],
        [
         "Forward",
         "Forward to next view",
         "arrow-right",
         "forward"
        ],
        [
         "Pan",
         "Left button pans, Right button zooms\nx/y fixes axis, CTRL fixes aspect",
         "arrows",
         "pan"
        ],
        [
         "Zoom",
         "Zoom to rectangle\nx/y fixes axis, CTRL fixes aspect",
         "square-o",
         "zoom"
        ],
        [
         "Download",
         "Download plot",
         "floppy-o",
         "save_figure"
        ]
       ]
      }
     },
     "bd966f4a02e841de82cdea009ac18f42": {
      "model_module": "@jupyter-widgets/base",
      "model_module_version": "1.2.0",
      "model_name": "LayoutModel",
      "state": {}
     },
     "bdfb37cbf42e4846af703d1023260bb8": {
      "model_module": "@jupyter-widgets/controls",
      "model_module_version": "1.5.0",
      "model_name": "VBoxModel",
      "state": {
       "children": [
        "IPY_MODEL_39dd88481409402fa123acf0a0cab4a6",
        "IPY_MODEL_0f00a05b32d64438a902eed5b284159e",
        "IPY_MODEL_c09ffdcda5c248eab902620a708f0e2e"
       ],
       "layout": "IPY_MODEL_57f86eb7f1bc48f7a777ea4e7d54e850"
      }
     },
     "be0c1de39d034df5a4c3f269c117e158": {
      "model_module": "@jupyter-widgets/base",
      "model_module_version": "1.2.0",
      "model_name": "LayoutModel",
      "state": {
       "flex_flow": "row wrap"
      }
     },
     "be739992f2f641a19d8e46185fc3a0d9": {
      "model_module": "@jupyter-widgets/base",
      "model_module_version": "1.2.0",
      "model_name": "LayoutModel",
      "state": {}
     },
     "be859cb540474469a5fddb25ba147627": {
      "model_module": "@jupyter-widgets/base",
      "model_module_version": "1.2.0",
      "model_name": "LayoutModel",
      "state": {}
     },
     "be8e70f4c5e749c48f7a785130119a17": {
      "model_module": "@jupyter-widgets/base",
      "model_module_version": "1.2.0",
      "model_name": "LayoutModel",
      "state": {}
     },
     "bea0eb624f7744f384a82cbd49d28c5b": {
      "model_module": "@jupyter-widgets/controls",
      "model_module_version": "1.5.0",
      "model_name": "SliderStyleModel",
      "state": {
       "description_width": "initial"
      }
     },
     "bea2f54b171c46378e862d96c92ad0f1": {
      "model_module": "@jupyter-widgets/controls",
      "model_module_version": "1.5.0",
      "model_name": "IntSliderModel",
      "state": {
       "continuous_update": false,
       "description": "Sampling (Hz)",
       "layout": "IPY_MODEL_77fd3fe153bc495e82538f4259089556",
       "max": 20,
       "min": 2,
       "step": 2,
       "style": "IPY_MODEL_5df5e11992c7492c82f0c07af3c555be",
       "value": 4
      }
     },
     "bec6c3e8e01741c798ffe60bacaf3f0b": {
      "model_module": "@jupyter-widgets/controls",
      "model_module_version": "1.5.0",
      "model_name": "IntSliderModel",
      "state": {
       "continuous_update": false,
       "description": "Sampling (Hz)",
       "layout": "IPY_MODEL_d652d5102ce24a6f97680b17e09ff0bf",
       "max": 20,
       "min": 2,
       "step": 2,
       "style": "IPY_MODEL_31a664474777411b8a36c840745b5822",
       "value": 4
      }
     },
     "becc668a7e88456c8b40b0510164b8d2": {
      "model_module": "@jupyter-widgets/base",
      "model_module_version": "1.2.0",
      "model_name": "LayoutModel",
      "state": {}
     },
     "bedf7db028214028a25a9998b96a3b9a": {
      "model_module": "@jupyter-widgets/controls",
      "model_module_version": "1.5.0",
      "model_name": "IntSliderModel",
      "state": {
       "continuous_update": false,
       "description": "Sampling (Hz)",
       "layout": "IPY_MODEL_d1adc0e9949746a198ee0c356e2c5fd0",
       "max": 12,
       "min": 2,
       "step": 2,
       "style": "IPY_MODEL_35de3896992e458c8c7edcbecddceab3",
       "value": 10
      }
     },
     "bef7b4d56edd4f1099ff22c8055a0099": {
      "model_module": "@jupyter-widgets/controls",
      "model_module_version": "1.5.0",
      "model_name": "IntSliderModel",
      "state": {
       "continuous_update": false,
       "description": "Sampling (Hz)",
       "layout": "IPY_MODEL_3fca40ed2ef54a02857ce7590e3a97b2",
       "max": 12,
       "min": 2,
       "step": 2,
       "style": "IPY_MODEL_4d3c55a43abe4183a7d59b59e623c144",
       "value": 4
      }
     },
     "befc948945f34551a23b16f9b604eb96": {
      "model_module": "@jupyter-widgets/base",
      "model_module_version": "1.2.0",
      "model_name": "LayoutModel",
      "state": {}
     },
     "bf355342b4b6434db909719df78b45d7": {
      "model_module": "@jupyter-widgets/base",
      "model_module_version": "1.2.0",
      "model_name": "LayoutModel",
      "state": {}
     },
     "bf70fc12f5a447829c1fea6515b2aaef": {
      "model_module": "@jupyter-widgets/controls",
      "model_module_version": "1.5.0",
      "model_name": "SliderStyleModel",
      "state": {
       "description_width": "initial"
      }
     },
     "bf8796f8191b431f85efde7598786583": {
      "model_module": "@jupyter-widgets/controls",
      "model_module_version": "1.5.0",
      "model_name": "SliderStyleModel",
      "state": {
       "description_width": "initial"
      }
     },
     "bfa0828cb1f14080b1ce76d08116223a": {
      "model_module": "@jupyter-widgets/base",
      "model_module_version": "1.2.0",
      "model_name": "LayoutModel",
      "state": {}
     },
     "bfdcdd373caf4178974932657971adc0": {
      "model_module": "@jupyter-widgets/controls",
      "model_module_version": "1.5.0",
      "model_name": "IntSliderModel",
      "state": {
       "continuous_update": false,
       "description": "Sampling (Hz)",
       "layout": "IPY_MODEL_f4234439e93a431b9b4e1d60742c31a3",
       "max": 20,
       "min": 2,
       "step": 2,
       "style": "IPY_MODEL_9a7f093e5e6547f798271332cd12126e",
       "value": 4
      }
     },
     "c001a4594f2b471d9edf0786afb86f06": {
      "model_module": "@jupyter-widgets/base",
      "model_module_version": "1.2.0",
      "model_name": "LayoutModel",
      "state": {}
     },
     "c02e729e5b2b4997910fba0daa787ee7": {
      "model_module": "@jupyter-widgets/controls",
      "model_module_version": "1.5.0",
      "model_name": "IntSliderModel",
      "state": {
       "continuous_update": false,
       "description": "Sampling (Hz)",
       "layout": "IPY_MODEL_4990f378167842c3919b27a4a8efe103",
       "max": 20,
       "min": 2,
       "step": 2,
       "style": "IPY_MODEL_cb36a66e320f4c6d9e6667a2769e2aef",
       "value": 4
      }
     },
     "c04efd23a36e40e183ecdc0fa7390e51": {
      "model_module": "@jupyter-widgets/controls",
      "model_module_version": "1.5.0",
      "model_name": "VBoxModel",
      "state": {
       "_dom_classes": [
        "widget-interact"
       ],
       "children": [
        "IPY_MODEL_d1458cbd6c044eb087d139cd8cae2979",
        "IPY_MODEL_19f51d2f6cbd49cd8aaa530ad26c50c6",
        "IPY_MODEL_4e546ad0c25144d297f39e1cff1cf089",
        "IPY_MODEL_f8d769398df74c86917f26e4a0ad051b"
       ],
       "layout": "IPY_MODEL_a94607a84e72425e8677a9eb7ee9a0cd"
      }
     },
     "c05c5ecb98e34d8395cf1c98de51cd3f": {
      "model_module": "@jupyter-widgets/controls",
      "model_module_version": "1.5.0",
      "model_name": "SliderStyleModel",
      "state": {
       "description_width": "initial"
      }
     },
     "c06a48bd6fc24a2ca1e48d8865c3807f": {
      "model_module": "@jupyter-widgets/base",
      "model_module_version": "1.2.0",
      "model_name": "LayoutModel",
      "state": {}
     },
     "c091aeccc9984e5d9ed60547023b995e": {
      "model_module": "@jupyter-widgets/output",
      "model_module_version": "1.0.0",
      "model_name": "OutputModel",
      "state": {
       "layout": "IPY_MODEL_497adfc332064148b18266065a00aaa1"
      }
     },
     "c09729c30ebc452fb456447bc7852500": {
      "model_module": "@jupyter-widgets/base",
      "model_module_version": "1.2.0",
      "model_name": "LayoutModel",
      "state": {}
     },
     "c09ffdcda5c248eab902620a708f0e2e": {
      "model_module": "@jupyter-widgets/controls",
      "model_module_version": "1.5.0",
      "model_name": "IntSliderModel",
      "state": {
       "continuous_update": false,
       "description": "0-Padding",
       "layout": "IPY_MODEL_b836463984b54d2baa6f3d13ba0b764e",
       "max": 500,
       "style": "IPY_MODEL_2d441dc489b7421d940e89356e351124"
      }
     },
     "c0bcb1a8fdce41c9a1fde032a050c81f": {
      "model_module": "@jupyter-widgets/controls",
      "model_module_version": "1.5.0",
      "model_name": "IntSliderModel",
      "state": {
       "continuous_update": false,
       "description": "0-Padding",
       "layout": "IPY_MODEL_862d5bcf06e04346ba86c1c499a8e3ba",
       "max": 840,
       "step": 28,
       "style": "IPY_MODEL_02c16c79c0a8438ab9fa2e9ab9c10dbd"
      }
     },
     "c0bf654f6683456393604997c9c090d8": {
      "model_module": "@jupyter-widgets/controls",
      "model_module_version": "1.5.0",
      "model_name": "IntSliderModel",
      "state": {
       "continuous_update": false,
       "description": "Sampling (Hz)",
       "layout": "IPY_MODEL_f621ba403ac8487986daf7ffd2b07cd7",
       "max": 12,
       "min": 2,
       "step": 2,
       "style": "IPY_MODEL_f2b2cc9f294a48feafebd07a114e356c",
       "value": 4
      }
     },
     "c0d0f8db73b041d68010a3a5abc3b95c": {
      "model_module": "@jupyter-widgets/controls",
      "model_module_version": "1.5.0",
      "model_name": "VBoxModel",
      "state": {
       "_dom_classes": [
        "widget-interact"
       ],
       "children": [
        "IPY_MODEL_39dd88481409402fa123acf0a0cab4a6",
        "IPY_MODEL_0f00a05b32d64438a902eed5b284159e",
        "IPY_MODEL_c09ffdcda5c248eab902620a708f0e2e",
        "IPY_MODEL_da7cdbd609d24282abc3f3dbbfe7a93d"
       ],
       "layout": "IPY_MODEL_3dd4903840ec44be9bae29d4c1b28c6a"
      }
     },
     "c0e0d7709dcc4729804236154b97afb3": {
      "model_module": "@jupyter-widgets/base",
      "model_module_version": "1.2.0",
      "model_name": "LayoutModel",
      "state": {}
     },
     "c0e5dfbb78354f30a519f6d238930452": {
      "model_module": "@jupyter-widgets/controls",
      "model_module_version": "1.5.0",
      "model_name": "HBoxModel",
      "state": {
       "children": [
        "IPY_MODEL_067a414e37c744f5a33139789f037add",
        "IPY_MODEL_c4a3bf064c5849799af70e2d29054b8a",
        "IPY_MODEL_16d3039c2d544df29b567ddaef909477"
       ],
       "layout": "IPY_MODEL_044a8d0f51d04d48acef6a5e515ff9ad"
      }
     },
     "c0fa3c7cc294456aab25f133b70ad706": {
      "model_module": "@jupyter-widgets/controls",
      "model_module_version": "1.5.0",
      "model_name": "SliderStyleModel",
      "state": {
       "description_width": "initial"
      }
     },
     "c0fec63d480b49eca0ae5f736175fb49": {
      "model_module": "@jupyter-widgets/base",
      "model_module_version": "1.2.0",
      "model_name": "LayoutModel",
      "state": {}
     },
     "c11967853e5144c2a2f2dd52c2e70282": {
      "model_module": "@jupyter-widgets/controls",
      "model_module_version": "1.5.0",
      "model_name": "SliderStyleModel",
      "state": {
       "description_width": "initial"
      }
     },
     "c1257e5c99584e9299fa6fd0244b73e2": {
      "model_module": "@jupyter-widgets/controls",
      "model_module_version": "1.5.0",
      "model_name": "SliderStyleModel",
      "state": {
       "description_width": "initial"
      }
     },
     "c135963a41484bc6bf00899825c918c6": {
      "model_module": "@jupyter-widgets/controls",
      "model_module_version": "1.5.0",
      "model_name": "VBoxModel",
      "state": {
       "children": [
        "IPY_MODEL_844ab1ddcd344e788655570aea7f8133",
        "IPY_MODEL_752bcd2b48f4421a92d307624b015871"
       ],
       "layout": "IPY_MODEL_2022b1306ec0457295e1425d065661b6"
      }
     },
     "c148862c7a9a4121b005470debe18de5": {
      "model_module": "@jupyter-widgets/output",
      "model_module_version": "1.0.0",
      "model_name": "OutputModel",
      "state": {
       "layout": "IPY_MODEL_b0dc6f37227a4a32a8a749824dc200b1",
       "outputs": [
        {
         "data": {
          "application/vnd.jupyter.widget-view+json": {
           "model_id": "346bb67e3a0d4716b069d3a7ac5a1d95",
           "version_major": 2,
           "version_minor": 0
          },
          "text/plain": "Canvas(toolbar=Toolbar(toolitems=[('Home', 'Reset original view', 'home', 'home'), ('Back', 'Back to previous …"
         },
         "metadata": {},
         "output_type": "display_data"
        }
       ]
      }
     },
     "c1539e4f7fea45f5a6f9791d827881e7": {
      "model_module": "@jupyter-widgets/base",
      "model_module_version": "1.2.0",
      "model_name": "LayoutModel",
      "state": {}
     },
     "c1594feb5382423aa5b1d2b6df329933": {
      "model_module": "@jupyter-widgets/base",
      "model_module_version": "1.2.0",
      "model_name": "LayoutModel",
      "state": {}
     },
     "c15ae1792dda4d4a9e406ef458789459": {
      "model_module": "@jupyter-widgets/controls",
      "model_module_version": "1.5.0",
      "model_name": "VBoxModel",
      "state": {
       "_dom_classes": [
        "widget-interact"
       ],
       "children": [
        "IPY_MODEL_44b036d2e68d4585b26f34bedc690586",
        "IPY_MODEL_3ebedff3577547c48727eec270aabe26",
        "IPY_MODEL_d1c33dbf14cb4ef6aec25d4883b12286",
        "IPY_MODEL_751475aeedba4303b478b2974a32de5f"
       ],
       "layout": "IPY_MODEL_cd31f4de9df44fa1a931f5a862d4a5bd"
      }
     },
     "c15c88280a5f40f49d58663c971960fa": {
      "model_module": "@jupyter-widgets/controls",
      "model_module_version": "1.5.0",
      "model_name": "SliderStyleModel",
      "state": {
       "description_width": "initial"
      }
     },
     "c18835127c4d4201a47abc34c2ae2e0d": {
      "model_module": "@jupyter-widgets/controls",
      "model_module_version": "1.5.0",
      "model_name": "IntSliderModel",
      "state": {
       "continuous_update": false,
       "description": "0-Padding",
       "layout": "IPY_MODEL_e614b1065e004da48c79982260666a18",
       "max": 500,
       "style": "IPY_MODEL_482775d4780f4f37b4fb42da59c00bd2"
      }
     },
     "c18a195306fd4307a051ce1b1cec06da": {
      "model_module": "@jupyter-widgets/controls",
      "model_module_version": "1.5.0",
      "model_name": "VBoxModel",
      "state": {
       "_dom_classes": [
        "widget-interact"
       ],
       "children": [
        "IPY_MODEL_e3c7d02f533c40ae8d8cac23cfee4b4b",
        "IPY_MODEL_932f333eb7f940e3ad30a2946752bdcb",
        "IPY_MODEL_14d90a58fb7d443cb8807cdf2c94080d",
        "IPY_MODEL_08739678e87b497894fea5fe630efb4a"
       ],
       "layout": "IPY_MODEL_c1eb0af2bb364093a984a9f78bba8d35"
      }
     },
     "c1bb12d7068148d183c1ef22cb333216": {
      "model_module": "@jupyter-widgets/base",
      "model_module_version": "1.2.0",
      "model_name": "LayoutModel",
      "state": {}
     },
     "c1eb0af2bb364093a984a9f78bba8d35": {
      "model_module": "@jupyter-widgets/base",
      "model_module_version": "1.2.0",
      "model_name": "LayoutModel",
      "state": {}
     },
     "c2507558fcbd48e993fffd278794b91b": {
      "model_module": "@jupyter-widgets/base",
      "model_module_version": "1.2.0",
      "model_name": "LayoutModel",
      "state": {}
     },
     "c25f64fede8f417091ce83d5cd15f23c": {
      "model_module": "@jupyter-widgets/base",
      "model_module_version": "1.2.0",
      "model_name": "LayoutModel",
      "state": {}
     },
     "c278588ca6334ca6a802569f85138600": {
      "model_module": "@jupyter-widgets/controls",
      "model_module_version": "1.5.0",
      "model_name": "HBoxModel",
      "state": {
       "children": [
        "IPY_MODEL_622be5ba42464a07a3a120cffd8dc5a3",
        "IPY_MODEL_a015b798b7e54397b76b9805244a7e04"
       ],
       "layout": "IPY_MODEL_549df10d1c9d40dbb0629b37b9fe584d"
      }
     },
     "c2843c19e0bf4cccbb8fd347f08ae853": {
      "model_module": "@jupyter-widgets/base",
      "model_module_version": "1.2.0",
      "model_name": "LayoutModel",
      "state": {}
     },
     "c2f2a518eca94d3b80755955a8b45ecf": {
      "model_module": "@jupyter-widgets/controls",
      "model_module_version": "1.5.0",
      "model_name": "IntSliderModel",
      "state": {
       "continuous_update": false,
       "description": "Periods",
       "layout": "IPY_MODEL_429557b73027439785915b42b4ee9446",
       "max": 50,
       "min": 1,
       "style": "IPY_MODEL_92b0c4c250aa4a909789e7c54d5f0076",
       "value": 2
      }
     },
     "c3335df23e14456db26197061a06213a": {
      "model_module": "@jupyter-widgets/controls",
      "model_module_version": "1.5.0",
      "model_name": "IntSliderModel",
      "state": {
       "continuous_update": false,
       "description": "Periods",
       "layout": "IPY_MODEL_399ec5781a0845239367b57770cc9b56",
       "max": 50,
       "min": 1,
       "style": "IPY_MODEL_7e8a6f2cfc004c3292c8bb96626c6349",
       "value": 21
      }
     },
     "c338a8bcca464d82bc2cdb1fd8d06a27": {
      "model_module": "@jupyter-widgets/base",
      "model_module_version": "1.2.0",
      "model_name": "LayoutModel",
      "state": {}
     },
     "c33c4be303ad448ea81629a474a4ba59": {
      "model_module": "@jupyter-widgets/output",
      "model_module_version": "1.0.0",
      "model_name": "OutputModel",
      "state": {
       "layout": "IPY_MODEL_127cbc6665244ba3b529a6cac9a4b0e1"
      }
     },
     "c37496e384fd426b8d43536bd7d3b2db": {
      "model_module": "@jupyter-widgets/base",
      "model_module_version": "1.2.0",
      "model_name": "LayoutModel",
      "state": {}
     },
     "c37b43d4359f44a6b12f51fe88a0356f": {
      "model_module": "@jupyter-widgets/base",
      "model_module_version": "1.2.0",
      "model_name": "LayoutModel",
      "state": {}
     },
     "c3891a6e4b9644bd8df6d2c3316a875e": {
      "model_module": "@jupyter-widgets/controls",
      "model_module_version": "1.5.0",
      "model_name": "SliderStyleModel",
      "state": {
       "description_width": "initial"
      }
     },
     "c3a2c2b1baf640ea8248e63755e17ca3": {
      "model_module": "@jupyter-widgets/controls",
      "model_module_version": "1.5.0",
      "model_name": "SliderStyleModel",
      "state": {
       "description_width": "initial"
      }
     },
     "c3b78fbe72b54bdc957e34b72274dc73": {
      "model_module": "@jupyter-widgets/base",
      "model_module_version": "1.2.0",
      "model_name": "LayoutModel",
      "state": {}
     },
     "c3beed29bae146bbade54382d463ecca": {
      "model_module": "@jupyter-widgets/base",
      "model_module_version": "1.2.0",
      "model_name": "LayoutModel",
      "state": {}
     },
     "c3c57a323182444288413a10c5c4c717": {
      "model_module": "@jupyter-widgets/base",
      "model_module_version": "1.2.0",
      "model_name": "LayoutModel",
      "state": {}
     },
     "c3c6d5c0348843aa86689a15a93e22ef": {
      "model_module": "@jupyter-widgets/base",
      "model_module_version": "1.2.0",
      "model_name": "LayoutModel",
      "state": {}
     },
     "c413a77d50a145f0b7c4e69ae99f2cae": {
      "model_module": "@jupyter-widgets/controls",
      "model_module_version": "1.5.0",
      "model_name": "IntSliderModel",
      "state": {
       "continuous_update": false,
       "description": "Sampling (Hz)",
       "layout": "IPY_MODEL_85481860a3024328b77c79c1b5b61d3d",
       "max": 12,
       "min": 2,
       "step": 2,
       "style": "IPY_MODEL_586b324999a8426f93c47fe182336cb3",
       "value": 4
      }
     },
     "c4248da6902748b78671675dc2c99aa1": {
      "model_module": "@jupyter-widgets/output",
      "model_module_version": "1.0.0",
      "model_name": "OutputModel",
      "state": {
       "layout": "IPY_MODEL_6a9051bd2a9a4d6eb6e1f1fa8898268f"
      }
     },
     "c4327ed62c3e43428a6f1fdef1084663": {
      "model_module": "@jupyter-widgets/base",
      "model_module_version": "1.2.0",
      "model_name": "LayoutModel",
      "state": {}
     },
     "c4394fe3c675450aabb80efdd177a4ad": {
      "model_module": "jupyter-matplotlib",
      "model_module_version": "^0.7.4",
      "model_name": "ToolbarModel",
      "state": {
       "layout": "IPY_MODEL_22ab2db703e24c90aaca93432572d46a",
       "toolitems": [
        [
         "Home",
         "Reset original view",
         "home",
         "home"
        ],
        [
         "Back",
         "Back to previous view",
         "arrow-left",
         "back"
        ],
        [
         "Forward",
         "Forward to next view",
         "arrow-right",
         "forward"
        ],
        [
         "Pan",
         "Left button pans, Right button zooms\nx/y fixes axis, CTRL fixes aspect",
         "arrows",
         "pan"
        ],
        [
         "Zoom",
         "Zoom to rectangle\nx/y fixes axis, CTRL fixes aspect",
         "square-o",
         "zoom"
        ],
        [
         "Download",
         "Download plot",
         "floppy-o",
         "save_figure"
        ]
       ]
      }
     },
     "c4486f28c0d94259ab0e97742d1fba98": {
      "model_module": "@jupyter-widgets/base",
      "model_module_version": "1.2.0",
      "model_name": "LayoutModel",
      "state": {}
     },
     "c467ef3721f14e79af42482d06b697b8": {
      "model_module": "@jupyter-widgets/base",
      "model_module_version": "1.2.0",
      "model_name": "LayoutModel",
      "state": {}
     },
     "c46b0a6d4d21418f9534c5ac8649eedc": {
      "model_module": "@jupyter-widgets/output",
      "model_module_version": "1.0.0",
      "model_name": "OutputModel",
      "state": {
       "layout": "IPY_MODEL_1c25326df1b7439bb94fb7aa308b10ac"
      }
     },
     "c4718931a4f9418eb8faa09a4215fd1a": {
      "model_module": "@jupyter-widgets/controls",
      "model_module_version": "1.5.0",
      "model_name": "SliderStyleModel",
      "state": {
       "description_width": "initial"
      }
     },
     "c47335e36be64a83b73c8e8354ba4eba": {
      "model_module": "@jupyter-widgets/base",
      "model_module_version": "1.2.0",
      "model_name": "LayoutModel",
      "state": {}
     },
     "c48801f85870414a9c0532216ce4a263": {
      "model_module": "@jupyter-widgets/base",
      "model_module_version": "1.2.0",
      "model_name": "LayoutModel",
      "state": {}
     },
     "c4a3bf064c5849799af70e2d29054b8a": {
      "model_module": "@jupyter-widgets/controls",
      "model_module_version": "1.5.0",
      "model_name": "IntSliderModel",
      "state": {
       "continuous_update": false,
       "description": "Sampling (Hz)",
       "layout": "IPY_MODEL_db11f695d5aa4ecabe5cf7e0d2d4152f",
       "max": 12,
       "min": 2,
       "step": 2,
       "style": "IPY_MODEL_f7fbd9fbdbc642a69ac0e1e3d7548e23",
       "value": 8
      }
     },
     "c4a4c221d63d40dea3f3926d0bec3ebd": {
      "model_module": "@jupyter-widgets/controls",
      "model_module_version": "1.5.0",
      "model_name": "IntSliderModel",
      "state": {
       "continuous_update": false,
       "description": "Sampling (Hz)",
       "layout": "IPY_MODEL_0d39ded4335c4cf0b863d53917099dc1",
       "max": 12,
       "min": 2,
       "step": 2,
       "style": "IPY_MODEL_6d995900003740cab210dc780d2aeef5",
       "value": 4
      }
     },
     "c4b80ccf88524948ad76821000325dea": {
      "model_module": "@jupyter-widgets/controls",
      "model_module_version": "1.5.0",
      "model_name": "HBoxModel",
      "state": {
       "children": [
        "IPY_MODEL_cb9918fcc7db479d96c59941d1cc345b",
        "IPY_MODEL_bea2f54b171c46378e862d96c92ad0f1"
       ],
       "layout": "IPY_MODEL_85fec4d9bc2d4a1b9b72959af12c474a"
      }
     },
     "c4eb9b9f29c140c481f6c38ec80e866a": {
      "model_module": "@jupyter-widgets/controls",
      "model_module_version": "1.5.0",
      "model_name": "IntSliderModel",
      "state": {
       "continuous_update": false,
       "description": "Periods",
       "layout": "IPY_MODEL_dba566591e53425298ea01efea9411ea",
       "max": 50,
       "min": 1,
       "style": "IPY_MODEL_244db5c571924b909d8a8687ba84438a",
       "value": 18
      }
     },
     "c50417dba4f34b64a99f3bb4e6c236bf": {
      "model_module": "@jupyter-widgets/controls",
      "model_module_version": "1.5.0",
      "model_name": "SliderStyleModel",
      "state": {
       "description_width": "initial"
      }
     },
     "c5353bba528c4ab386a3325258b9e9b0": {
      "model_module": "@jupyter-widgets/base",
      "model_module_version": "1.2.0",
      "model_name": "LayoutModel",
      "state": {}
     },
     "c543509cb1c247f0816c2b14bedccfd1": {
      "model_module": "@jupyter-widgets/controls",
      "model_module_version": "1.5.0",
      "model_name": "VBoxModel",
      "state": {
       "children": [
        "IPY_MODEL_f6a29d7b55e549faa816eb5fa8b281a0",
        "IPY_MODEL_dca625ee3f6146bdb2756481c3637d25",
        "IPY_MODEL_9f0f2eac46be4f7d8b614395d633ee45"
       ],
       "layout": "IPY_MODEL_aa51b7dcce7d4858a025eeb0fd644e11"
      }
     },
     "c56ce6defdc9452e913e0db48014d6a8": {
      "model_module": "@jupyter-widgets/controls",
      "model_module_version": "1.5.0",
      "model_name": "SliderStyleModel",
      "state": {
       "description_width": "initial"
      }
     },
     "c57a50d1d784422da59f8aa050bd5abf": {
      "model_module": "@jupyter-widgets/controls",
      "model_module_version": "1.5.0",
      "model_name": "IntSliderModel",
      "state": {
       "continuous_update": false,
       "description": "Periods",
       "layout": "IPY_MODEL_23253298687b4b83b12f39bbdaea1f64",
       "max": 50,
       "min": 1,
       "style": "IPY_MODEL_e8737d8a76fd4541b75911d6fdf51c56",
       "value": 2
      }
     },
     "c589d46d8c68427caa8b60e02835935d": {
      "model_module": "@jupyter-widgets/base",
      "model_module_version": "1.2.0",
      "model_name": "LayoutModel",
      "state": {
       "flex_flow": "column wrap"
      }
     },
     "c5960723bb23420e918a8f1bfc902e5b": {
      "model_module": "@jupyter-widgets/controls",
      "model_module_version": "1.5.0",
      "model_name": "SliderStyleModel",
      "state": {
       "description_width": "initial"
      }
     },
     "c5b6452dc9fc4a7c9584012f243343d5": {
      "model_module": "@jupyter-widgets/base",
      "model_module_version": "1.2.0",
      "model_name": "LayoutModel",
      "state": {}
     },
     "c5cd394e98374d0cbd49fffb844a5659": {
      "model_module": "@jupyter-widgets/controls",
      "model_module_version": "1.5.0",
      "model_name": "VBoxModel",
      "state": {
       "_dom_classes": [
        "widget-interact"
       ],
       "children": [
        "IPY_MODEL_340a2db74c5a418d8d59b74acbd5a3d2",
        "IPY_MODEL_1e601a8331534b609e8b614c03831b00",
        "IPY_MODEL_1d66ea7af54544cbb1ebf3e0a630cb43",
        "IPY_MODEL_85842d674ce844cdbd3b82e60b6a7934"
       ],
       "layout": "IPY_MODEL_e504dc5ce31b45f4b527e864161f4e45"
      }
     },
     "c5ea1084740a44f8910399654860d35d": {
      "model_module": "@jupyter-widgets/controls",
      "model_module_version": "1.5.0",
      "model_name": "VBoxModel",
      "state": {
       "children": [
        "IPY_MODEL_c84881c77f90439f86a4958864b57014",
        "IPY_MODEL_deb00f336c2541bea1332930e96ee003",
        "IPY_MODEL_67ac818a6ca643afb347bb112ce6765d"
       ],
       "layout": "IPY_MODEL_90cc983f042e41d198027f90848873c4"
      }
     },
     "c5ebe1a7c588457f9bbae3581bc4f562": {
      "model_module": "@jupyter-widgets/base",
      "model_module_version": "1.2.0",
      "model_name": "LayoutModel",
      "state": {}
     },
     "c5eec107c0be49ada01837edca9060ae": {
      "model_module": "@jupyter-widgets/base",
      "model_module_version": "1.2.0",
      "model_name": "LayoutModel",
      "state": {}
     },
     "c645101b977c466b8fe09332aa23a52f": {
      "model_module": "@jupyter-widgets/controls",
      "model_module_version": "1.5.0",
      "model_name": "HBoxModel",
      "state": {
       "children": [
        "IPY_MODEL_5346c4cc1bf2463da0346b9a57dd224c",
        "IPY_MODEL_61b8e014672e4e318be4a53897fc21d1"
       ],
       "layout": "IPY_MODEL_c672c017ec944330970553b2aa67cf56"
      }
     },
     "c654237a87a94325a995639c5116930f": {
      "model_module": "@jupyter-widgets/base",
      "model_module_version": "1.2.0",
      "model_name": "LayoutModel",
      "state": {}
     },
     "c6584a04ca2447edb0321b07c015e5d2": {
      "model_module": "@jupyter-widgets/controls",
      "model_module_version": "1.5.0",
      "model_name": "IntSliderModel",
      "state": {
       "continuous_update": false,
       "description": "Sampling (Hz)",
       "layout": "IPY_MODEL_61f05f4d2ff143ac9ec25f6d2595c4af",
       "max": 20,
       "min": 2,
       "step": 2,
       "style": "IPY_MODEL_d3bf72dab78a434f90c34c27a5022347",
       "value": 8
      }
     },
     "c672c017ec944330970553b2aa67cf56": {
      "model_module": "@jupyter-widgets/base",
      "model_module_version": "1.2.0",
      "model_name": "LayoutModel",
      "state": {}
     },
     "c684b716a1c4454abf22ea70ee4da03f": {
      "model_module": "@jupyter-widgets/controls",
      "model_module_version": "1.5.0",
      "model_name": "SliderStyleModel",
      "state": {
       "description_width": "initial"
      }
     },
     "c690056592184cd6a7295166794e6e7c": {
      "model_module": "@jupyter-widgets/controls",
      "model_module_version": "1.5.0",
      "model_name": "SliderStyleModel",
      "state": {
       "description_width": "initial"
      }
     },
     "c69f39df4162415493b5a4f42adcb0b5": {
      "model_module": "@jupyter-widgets/base",
      "model_module_version": "1.2.0",
      "model_name": "LayoutModel",
      "state": {}
     },
     "c6b358d1e33744bf9a1866f4ad3d0335": {
      "model_module": "@jupyter-widgets/output",
      "model_module_version": "1.0.0",
      "model_name": "OutputModel",
      "state": {
       "layout": "IPY_MODEL_bb387c23a4684ce381a0b32ca9e3f8e7"
      }
     },
     "c6c39cdaa5d140a58a5535a3f65cc0e2": {
      "model_module": "jupyter-matplotlib",
      "model_module_version": "^0.7.4",
      "model_name": "ToolbarModel",
      "state": {
       "_current_action": "zoom",
       "layout": "IPY_MODEL_68a933ca798346fd88fc1c2c5a8c7953",
       "toolitems": [
        [
         "Home",
         "Reset original view",
         "home",
         "home"
        ],
        [
         "Back",
         "Back to previous view",
         "arrow-left",
         "back"
        ],
        [
         "Forward",
         "Forward to next view",
         "arrow-right",
         "forward"
        ],
        [
         "Pan",
         "Left button pans, Right button zooms\nx/y fixes axis, CTRL fixes aspect",
         "arrows",
         "pan"
        ],
        [
         "Zoom",
         "Zoom to rectangle\nx/y fixes axis, CTRL fixes aspect",
         "square-o",
         "zoom"
        ],
        [
         "Download",
         "Download plot",
         "floppy-o",
         "save_figure"
        ]
       ]
      }
     },
     "c6c45a87af984ee581f9de2d2f440a5e": {
      "model_module": "@jupyter-widgets/controls",
      "model_module_version": "1.5.0",
      "model_name": "SliderStyleModel",
      "state": {
       "description_width": "initial"
      }
     },
     "c6dda20978894f3b9873ad1adbcf79d0": {
      "model_module": "@jupyter-widgets/controls",
      "model_module_version": "1.5.0",
      "model_name": "SliderStyleModel",
      "state": {
       "description_width": "initial"
      }
     },
     "c6e4c0c551e941909542a1cdb75b2e0a": {
      "model_module": "@jupyter-widgets/controls",
      "model_module_version": "1.5.0",
      "model_name": "IntSliderModel",
      "state": {
       "continuous_update": false,
       "description": "0-Padding",
       "layout": "IPY_MODEL_3d9f8d0233174d6ba182b8ba124b175d",
       "max": 500,
       "style": "IPY_MODEL_9726dae224d045c7a2859fd70abb6634"
      }
     },
     "c6f61a562c864ea79252bdfe40c742c4": {
      "model_module": "@jupyter-widgets/base",
      "model_module_version": "1.2.0",
      "model_name": "LayoutModel",
      "state": {}
     },
     "c708fdb297424aee93908f9ce422e8eb": {
      "model_module": "@jupyter-widgets/base",
      "model_module_version": "1.2.0",
      "model_name": "LayoutModel",
      "state": {}
     },
     "c70e4c8eef224545a7dd600673a62650": {
      "model_module": "@jupyter-widgets/base",
      "model_module_version": "1.2.0",
      "model_name": "LayoutModel",
      "state": {
       "flex_flow": "column wrap"
      }
     },
     "c72a007b644b44db9e2c77df26a1e54b": {
      "model_module": "@jupyter-widgets/base",
      "model_module_version": "1.2.0",
      "model_name": "LayoutModel",
      "state": {}
     },
     "c72eee1e9f8d45f08fe1c60bf73e6fbe": {
      "model_module": "@jupyter-widgets/controls",
      "model_module_version": "1.5.0",
      "model_name": "HBoxModel",
      "state": {
       "children": [
        "IPY_MODEL_3ee4ec1d38424739bdb4ced657c876fc",
        "IPY_MODEL_d439866585964bc2bd4316675544b389"
       ],
       "layout": "IPY_MODEL_5396a841f7c3490f963db5835e98f99c"
      }
     },
     "c73cd9dab14c4620aaff4ffa80268739": {
      "model_module": "@jupyter-widgets/controls",
      "model_module_version": "1.5.0",
      "model_name": "VBoxModel",
      "state": {
       "_dom_classes": [
        "widget-interact"
       ],
       "children": [
        "IPY_MODEL_f8b610aaa29e49dd9ab7801fe329e61f",
        "IPY_MODEL_0bfd27b80fb44a46bcae05230067c2d0",
        "IPY_MODEL_51179b6a78574f9e8839e3d2a6159b75",
        "IPY_MODEL_1f63d80b96cd4e569bea133095b7962e"
       ],
       "layout": "IPY_MODEL_4f0ab318517b480dbe9fe5d31184cdd3"
      }
     },
     "c745f4f19bb4480ab88b7276726d8567": {
      "model_module": "@jupyter-widgets/controls",
      "model_module_version": "1.5.0",
      "model_name": "SliderStyleModel",
      "state": {
       "description_width": "initial"
      }
     },
     "c747a98137c44b62a683bc80df9ed164": {
      "model_module": "@jupyter-widgets/controls",
      "model_module_version": "1.5.0",
      "model_name": "VBoxModel",
      "state": {
       "_dom_classes": [
        "widget-interact"
       ],
       "children": [
        "IPY_MODEL_851c2be0ed6045428d2c2e48b62ee62d",
        "IPY_MODEL_92ff2707f9ed4ebb8d28331f380e28f6",
        "IPY_MODEL_2ba0f32fecdd4114b1c6eae9ac986ca2",
        "IPY_MODEL_57bcdce73d324eda90cc86d55919fb3e"
       ],
       "layout": "IPY_MODEL_e15e1f4b37ab4ff5985b04929f2faa7f"
      }
     },
     "c754fc1fd5e843ecaea389435f2858c2": {
      "model_module": "@jupyter-widgets/base",
      "model_module_version": "1.2.0",
      "model_name": "LayoutModel",
      "state": {}
     },
     "c759bd6ad4f745adbf3df7b2d5ee4061": {
      "model_module": "@jupyter-widgets/controls",
      "model_module_version": "1.5.0",
      "model_name": "IntSliderModel",
      "state": {
       "continuous_update": false,
       "description": "Periods",
       "layout": "IPY_MODEL_7dad9a75f2cf47e7bebf3428f5410bf2",
       "max": 50,
       "min": 1,
       "style": "IPY_MODEL_d91341c1037b434ca2704ef8269c5eae",
       "value": 32
      }
     },
     "c75b89404fd54058935426dbb5974e21": {
      "model_module": "@jupyter-widgets/controls",
      "model_module_version": "1.5.0",
      "model_name": "IntSliderModel",
      "state": {
       "continuous_update": false,
       "description": "Sampling (Hz)",
       "layout": "IPY_MODEL_5ad255c78f3b48d2a3d9ad5f83fb65bf",
       "max": 20,
       "min": 2,
       "step": 2,
       "style": "IPY_MODEL_42ab00fc5f2242bc85b6c512dcf6254e",
       "value": 4
      }
     },
     "c76372be4674468cab451ff142d1d82e": {
      "model_module": "@jupyter-widgets/base",
      "model_module_version": "1.2.0",
      "model_name": "LayoutModel",
      "state": {}
     },
     "c774ee741ec6474dbb53c9a8ea795f11": {
      "model_module": "@jupyter-widgets/controls",
      "model_module_version": "1.5.0",
      "model_name": "VBoxModel",
      "state": {
       "children": [
        "IPY_MODEL_79c6e94c14ae4691aa03ebe7582b258f",
        "IPY_MODEL_5f27da1e7ed94941b59c062922ea903a"
       ],
       "layout": "IPY_MODEL_4dc5c06182d649c58b3c8ef5ba9d50f2"
      }
     },
     "c775576ec0f6402eae32defbd56fbfe6": {
      "model_module": "@jupyter-widgets/base",
      "model_module_version": "1.2.0",
      "model_name": "LayoutModel",
      "state": {}
     },
     "c787ca38e68e408785a65d8dc24b3147": {
      "model_module": "jupyter-matplotlib",
      "model_module_version": "^0.7.4",
      "model_name": "ToolbarModel",
      "state": {
       "_current_action": "zoom",
       "layout": "IPY_MODEL_5004dfcc8e424786bf914e7720c81523",
       "toolitems": [
        [
         "Home",
         "Reset original view",
         "home",
         "home"
        ],
        [
         "Back",
         "Back to previous view",
         "arrow-left",
         "back"
        ],
        [
         "Forward",
         "Forward to next view",
         "arrow-right",
         "forward"
        ],
        [
         "Pan",
         "Left button pans, Right button zooms\nx/y fixes axis, CTRL fixes aspect",
         "arrows",
         "pan"
        ],
        [
         "Zoom",
         "Zoom to rectangle\nx/y fixes axis, CTRL fixes aspect",
         "square-o",
         "zoom"
        ],
        [
         "Download",
         "Download plot",
         "floppy-o",
         "save_figure"
        ]
       ]
      }
     },
     "c79c777d12fe4a93b565061f32e62463": {
      "model_module": "@jupyter-widgets/controls",
      "model_module_version": "1.5.0",
      "model_name": "IntSliderModel",
      "state": {
       "continuous_update": false,
       "description": "0-Padding",
       "layout": "IPY_MODEL_fed273fbb591484492a1d60df265c535",
       "max": 500,
       "style": "IPY_MODEL_04aa9898002644d1bbe82a68079cfc16"
      }
     },
     "c7c9c08448a3408290db5caf48ee3098": {
      "model_module": "@jupyter-widgets/base",
      "model_module_version": "1.2.0",
      "model_name": "LayoutModel",
      "state": {}
     },
     "c7d0dcbe9b7146a4804dbd338f49ae03": {
      "model_module": "@jupyter-widgets/base",
      "model_module_version": "1.2.0",
      "model_name": "LayoutModel",
      "state": {}
     },
     "c7d2828d4a0842d0bb1ad6d0fb65a927": {
      "model_module": "@jupyter-widgets/output",
      "model_module_version": "1.0.0",
      "model_name": "OutputModel",
      "state": {
       "layout": "IPY_MODEL_1a9ed58d87794cf2b34724bd2373f9ef"
      }
     },
     "c7e8b1b6b1b24ce3bf876fcc64bfa5e9": {
      "model_module": "@jupyter-widgets/controls",
      "model_module_version": "1.5.0",
      "model_name": "VBoxModel",
      "state": {
       "_dom_classes": [
        "widget-interact"
       ],
       "children": [
        "IPY_MODEL_107369d9523c41998010d9d25971af62",
        "IPY_MODEL_a8b22463b51145c98107c71260e1e895",
        "IPY_MODEL_9eab6d1373264a98a81d3aaf429a9b0b",
        "IPY_MODEL_c7d2828d4a0842d0bb1ad6d0fb65a927"
       ],
       "layout": "IPY_MODEL_5dad766ddadb470f9087899f64bdb242"
      }
     },
     "c7f7913ff5e24d6881093231a46babf2": {
      "model_module": "@jupyter-widgets/controls",
      "model_module_version": "1.5.0",
      "model_name": "IntSliderModel",
      "state": {
       "continuous_update": false,
       "description": "Sampling (Hz)",
       "layout": "IPY_MODEL_7188eb55acac4de6a5652188f976e29c",
       "max": 20,
       "min": 2,
       "step": 2,
       "style": "IPY_MODEL_da2bc487cc3e4c3db3ce85fba0b29e5d",
       "value": 4
      }
     },
     "c803f25d80514637b4422b448e69237c": {
      "model_module": "@jupyter-widgets/controls",
      "model_module_version": "1.5.0",
      "model_name": "SliderStyleModel",
      "state": {
       "description_width": "initial"
      }
     },
     "c81236020df14181bdeb5a9d06bb45f1": {
      "model_module": "@jupyter-widgets/base",
      "model_module_version": "1.2.0",
      "model_name": "LayoutModel",
      "state": {}
     },
     "c82c5efc8c8d488c9c7eda739cfcc29b": {
      "model_module": "@jupyter-widgets/base",
      "model_module_version": "1.2.0",
      "model_name": "LayoutModel",
      "state": {}
     },
     "c84881c77f90439f86a4958864b57014": {
      "model_module": "@jupyter-widgets/controls",
      "model_module_version": "1.5.0",
      "model_name": "IntSliderModel",
      "state": {
       "continuous_update": false,
       "description": "Periods",
       "layout": "IPY_MODEL_a912388f48324eb09399216d9320cbf0",
       "max": 50,
       "min": 1,
       "style": "IPY_MODEL_3932873776e5437cbbca1c11b51440d4",
       "value": 2
      }
     },
     "c8625571e27f470fb520a07526aef47d": {
      "model_module": "@jupyter-widgets/base",
      "model_module_version": "1.2.0",
      "model_name": "LayoutModel",
      "state": {}
     },
     "c8b425184fb74933ba222659e84d8160": {
      "model_module": "@jupyter-widgets/controls",
      "model_module_version": "1.5.0",
      "model_name": "SliderStyleModel",
      "state": {
       "description_width": "initial"
      }
     },
     "c8c316c6378d4e9d9fc9c666f40a217e": {
      "model_module": "jupyter-matplotlib",
      "model_module_version": "^0.7.4",
      "model_name": "ToolbarModel",
      "state": {
       "layout": "IPY_MODEL_c467ef3721f14e79af42482d06b697b8",
       "toolitems": [
        [
         "Home",
         "Reset original view",
         "home",
         "home"
        ],
        [
         "Back",
         "Back to previous view",
         "arrow-left",
         "back"
        ],
        [
         "Forward",
         "Forward to next view",
         "arrow-right",
         "forward"
        ],
        [
         "Pan",
         "Left button pans, Right button zooms\nx/y fixes axis, CTRL fixes aspect",
         "arrows",
         "pan"
        ],
        [
         "Zoom",
         "Zoom to rectangle\nx/y fixes axis, CTRL fixes aspect",
         "square-o",
         "zoom"
        ],
        [
         "Download",
         "Download plot",
         "floppy-o",
         "save_figure"
        ]
       ]
      }
     },
     "c8d029530d5d4999a44c3019db58e8d4": {
      "model_module": "@jupyter-widgets/base",
      "model_module_version": "1.2.0",
      "model_name": "LayoutModel",
      "state": {}
     },
     "c8dc04f3d39f4e2b9870cd97e43429c5": {
      "model_module": "@jupyter-widgets/controls",
      "model_module_version": "1.5.0",
      "model_name": "SliderStyleModel",
      "state": {
       "description_width": "initial"
      }
     },
     "c8fcba8d0a8244028539720773403de4": {
      "model_module": "@jupyter-widgets/base",
      "model_module_version": "1.2.0",
      "model_name": "LayoutModel",
      "state": {}
     },
     "c9139ce3ea8b453eb8e27e94259a4fc5": {
      "model_module": "@jupyter-widgets/controls",
      "model_module_version": "1.5.0",
      "model_name": "IntSliderModel",
      "state": {
       "continuous_update": false,
       "description": "0-Padding",
       "layout": "IPY_MODEL_ee3f8063d64e4d218f2870165b155c11",
       "max": 1890,
       "step": 63,
       "style": "IPY_MODEL_67c0328e74674600a8dc44e10d1911a2"
      }
     },
     "c914cbdaf64d42478c76f4be1740b416": {
      "model_module": "@jupyter-widgets/base",
      "model_module_version": "1.2.0",
      "model_name": "LayoutModel",
      "state": {}
     },
     "c996c5836d894431a3fe0798eb7a007c": {
      "model_module": "@jupyter-widgets/controls",
      "model_module_version": "1.5.0",
      "model_name": "SliderStyleModel",
      "state": {
       "description_width": "initial"
      }
     },
     "c9ab80ebc2fe4787acedd92484f54eb5": {
      "model_module": "@jupyter-widgets/controls",
      "model_module_version": "1.5.0",
      "model_name": "VBoxModel",
      "state": {
       "_dom_classes": [
        "widget-interact"
       ],
       "children": [
        "IPY_MODEL_93e76568e9324dc2ac416b8fa2ace890",
        "IPY_MODEL_7ffc12e881024bb1ba8655df255881a7",
        "IPY_MODEL_bc7f2ac97fa74434ac5c2885963422f2",
        "IPY_MODEL_8169209dc0e447f5a04bce4ec049cda9"
       ],
       "layout": "IPY_MODEL_b9f92206f3534e4f8b4a6959a4d1486e"
      }
     },
     "c9b07b804952439e8f1761ae881ee63b": {
      "model_module": "@jupyter-widgets/controls",
      "model_module_version": "1.5.0",
      "model_name": "SliderStyleModel",
      "state": {
       "description_width": "initial"
      }
     },
     "c9beb39552834913a82c82c1d2ff2f99": {
      "model_module": "@jupyter-widgets/controls",
      "model_module_version": "1.5.0",
      "model_name": "HBoxModel",
      "state": {
       "children": [
        "IPY_MODEL_88693c183cbc40e291ced13565ceeb6d",
        "IPY_MODEL_5e4a2dae78174ab59d5937c0590685ff"
       ],
       "layout": "IPY_MODEL_f1dee05a045040b798d42b8c974fbf16"
      }
     },
     "c9c9c2c5cd3c432e8a4473543ca3a833": {
      "model_module": "@jupyter-widgets/base",
      "model_module_version": "1.2.0",
      "model_name": "LayoutModel",
      "state": {}
     },
     "c9ef24db2db6420aaefcb4d024d13238": {
      "model_module": "@jupyter-widgets/base",
      "model_module_version": "1.2.0",
      "model_name": "LayoutModel",
      "state": {
       "align_items": "baseline",
       "border": "solid",
       "display": "flex"
      }
     },
     "ca47ade21ef345fa9468c0650d7dfde9": {
      "model_module": "@jupyter-widgets/base",
      "model_module_version": "1.2.0",
      "model_name": "LayoutModel",
      "state": {}
     },
     "ca4b68892a254352a3276d2c63c63928": {
      "model_module": "@jupyter-widgets/base",
      "model_module_version": "1.2.0",
      "model_name": "LayoutModel",
      "state": {}
     },
     "ca599124cf3043e2bf58888728f2ed3e": {
      "model_module": "@jupyter-widgets/base",
      "model_module_version": "1.2.0",
      "model_name": "LayoutModel",
      "state": {}
     },
     "ca65057dae00483fa1a71e1a1cb6a4a5": {
      "model_module": "@jupyter-widgets/controls",
      "model_module_version": "1.5.0",
      "model_name": "IntSliderModel",
      "state": {
       "continuous_update": false,
       "description": "Periods",
       "layout": "IPY_MODEL_a09fdf8bc04945bda660af6eab018029",
       "max": 50,
       "min": 1,
       "style": "IPY_MODEL_ec623f371b6b456ba80b7e319f95ba0c",
       "value": 2
      }
     },
     "ca65e5f342f24a9e8c1d626b0787a21d": {
      "model_module": "@jupyter-widgets/controls",
      "model_module_version": "1.5.0",
      "model_name": "IntSliderModel",
      "state": {
       "continuous_update": false,
       "description": "0-Padding",
       "layout": "IPY_MODEL_e2250d0134a946b88ed73cedb1f25142",
       "max": 500,
       "style": "IPY_MODEL_8624e5350e40413c9871c4de3bcd887f"
      }
     },
     "ca8c9f2ff476424a9d8a5a57e1e6e240": {
      "model_module": "@jupyter-widgets/base",
      "model_module_version": "1.2.0",
      "model_name": "LayoutModel",
      "state": {}
     },
     "ca9a3df17fd34a65b9bae15ee1429aa4": {
      "model_module": "jupyter-matplotlib",
      "model_module_version": "^0.7.4",
      "model_name": "ToolbarModel",
      "state": {
       "layout": "IPY_MODEL_d269259e326f4d409f45d57a7386fa3b",
       "toolitems": [
        [
         "Home",
         "Reset original view",
         "home",
         "home"
        ],
        [
         "Back",
         "Back to previous view",
         "arrow-left",
         "back"
        ],
        [
         "Forward",
         "Forward to next view",
         "arrow-right",
         "forward"
        ],
        [
         "Pan",
         "Left button pans, Right button zooms\nx/y fixes axis, CTRL fixes aspect",
         "arrows",
         "pan"
        ],
        [
         "Zoom",
         "Zoom to rectangle\nx/y fixes axis, CTRL fixes aspect",
         "square-o",
         "zoom"
        ],
        [
         "Download",
         "Download plot",
         "floppy-o",
         "save_figure"
        ]
       ]
      }
     },
     "cab5c6a8bfc44e48967544edcc13622a": {
      "model_module": "@jupyter-widgets/controls",
      "model_module_version": "1.5.0",
      "model_name": "IntSliderModel",
      "state": {
       "continuous_update": false,
       "description": "0-Padding",
       "layout": "IPY_MODEL_f08c8efc4ec94d9ab69a7af52d60b741",
       "max": 500,
       "style": "IPY_MODEL_84375891bf674050bf5b01cb61d836c9"
      }
     },
     "cb1f96df41414aff93fe164e16d61c4b": {
      "model_module": "@jupyter-widgets/controls",
      "model_module_version": "1.5.0",
      "model_name": "VBoxModel",
      "state": {
       "_dom_classes": [
        "widget-interact"
       ],
       "children": [
        "IPY_MODEL_2b229c5661f446c5b6d864cd5f9aeb43",
        "IPY_MODEL_7bb610e693724272bd36169e4705441b",
        "IPY_MODEL_3cd2c492030547edad2d539a1b372c93",
        "IPY_MODEL_e85b39f2164a4d16884a5c20a78df4d5"
       ],
       "layout": "IPY_MODEL_b1d9ce13d0fe465595edd1e4e5b6bfc3"
      }
     },
     "cb331a4094654788a5349a92371b27aa": {
      "model_module": "@jupyter-widgets/base",
      "model_module_version": "1.2.0",
      "model_name": "LayoutModel",
      "state": {}
     },
     "cb36a66e320f4c6d9e6667a2769e2aef": {
      "model_module": "@jupyter-widgets/controls",
      "model_module_version": "1.5.0",
      "model_name": "SliderStyleModel",
      "state": {
       "description_width": "initial"
      }
     },
     "cb39c0e0bd4e4aa6b3c9aef3e3ef3379": {
      "model_module": "@jupyter-widgets/base",
      "model_module_version": "1.2.0",
      "model_name": "LayoutModel",
      "state": {}
     },
     "cb580b71e95b49998b92dddce9018e44": {
      "model_module": "@jupyter-widgets/controls",
      "model_module_version": "1.5.0",
      "model_name": "VBoxModel",
      "state": {
       "_dom_classes": [
        "widget-interact"
       ],
       "children": [
        "IPY_MODEL_22070cbfad334906bdf371df0050f69c",
        "IPY_MODEL_ba0454986bd94f64a4e80b5f94d6bc23",
        "IPY_MODEL_5c45001395bc476aac7aa086ecb744fd",
        "IPY_MODEL_21ef4e711a1947e6872f562f603e59c4"
       ],
       "layout": "IPY_MODEL_2b10eb1bf7904017938d00cc93c29a13"
      }
     },
     "cb6a94b7b2784e5f915846a3a0cae875": {
      "model_module": "@jupyter-widgets/base",
      "model_module_version": "1.2.0",
      "model_name": "LayoutModel",
      "state": {}
     },
     "cb75db9ccfea4268ac73a19a4ea5aa4f": {
      "model_module": "@jupyter-widgets/base",
      "model_module_version": "1.2.0",
      "model_name": "LayoutModel",
      "state": {}
     },
     "cb9918fcc7db479d96c59941d1cc345b": {
      "model_module": "@jupyter-widgets/controls",
      "model_module_version": "1.5.0",
      "model_name": "IntSliderModel",
      "state": {
       "continuous_update": false,
       "description": "Periods",
       "layout": "IPY_MODEL_10e78e7d3da442b8bf40028a566c60f3",
       "max": 50,
       "min": 1,
       "style": "IPY_MODEL_a01052b96ccb43d4acc32f6c53abe272",
       "value": 2
      }
     },
     "cba10072179248bcbeaf97beb2b0225c": {
      "model_module": "@jupyter-widgets/base",
      "model_module_version": "1.2.0",
      "model_name": "LayoutModel",
      "state": {}
     },
     "cc0b3861abb74d968f6bbf4d0bf4b989": {
      "model_module": "@jupyter-widgets/controls",
      "model_module_version": "1.5.0",
      "model_name": "IntSliderModel",
      "state": {
       "continuous_update": false,
       "description": "0-Padding",
       "layout": "IPY_MODEL_5e8eb7dcdd1b48cb9e7a61dbb444a867",
       "max": 500,
       "style": "IPY_MODEL_48afb9bca40b4230870717e48bb9e8d1"
      }
     },
     "cc19559fa412481583ffb023c75d63fe": {
      "model_module": "@jupyter-widgets/base",
      "model_module_version": "1.2.0",
      "model_name": "LayoutModel",
      "state": {}
     },
     "cc30abf288f9493b8e1708b803c7f93f": {
      "model_module": "jupyter-matplotlib",
      "model_module_version": "^0.7.4",
      "model_name": "ToolbarModel",
      "state": {
       "layout": "IPY_MODEL_581c0ac579a84edd9ff331731a8264e1",
       "toolitems": [
        [
         "Home",
         "Reset original view",
         "home",
         "home"
        ],
        [
         "Back",
         "Back to previous view",
         "arrow-left",
         "back"
        ],
        [
         "Forward",
         "Forward to next view",
         "arrow-right",
         "forward"
        ],
        [
         "Pan",
         "Left button pans, Right button zooms\nx/y fixes axis, CTRL fixes aspect",
         "arrows",
         "pan"
        ],
        [
         "Zoom",
         "Zoom to rectangle\nx/y fixes axis, CTRL fixes aspect",
         "square-o",
         "zoom"
        ],
        [
         "Download",
         "Download plot",
         "floppy-o",
         "save_figure"
        ]
       ]
      }
     },
     "cc3a1297b1e445ca8dc00966430b9bbf": {
      "model_module": "@jupyter-widgets/controls",
      "model_module_version": "1.5.0",
      "model_name": "VBoxModel",
      "state": {
       "_dom_classes": [
        "widget-interact"
       ],
       "children": [
        "IPY_MODEL_239699cb42c14b0a878171925854ecda",
        "IPY_MODEL_22338937ebfc4a51bf6e80f45cfa1375",
        "IPY_MODEL_597fe2cdf7244d7cb11f0bcde5ed69b4",
        "IPY_MODEL_f26acdc2210b45f8929c9cef212524b0"
       ],
       "layout": "IPY_MODEL_be859cb540474469a5fddb25ba147627"
      }
     },
     "cc4a1264997a41e8b843d51e787910d2": {
      "model_module": "@jupyter-widgets/output",
      "model_module_version": "1.0.0",
      "model_name": "OutputModel",
      "state": {
       "layout": "IPY_MODEL_5cf61a34144e4c8a97da4c232937032d"
      }
     },
     "ccd100b06356468c87a73508abd4e049": {
      "model_module": "@jupyter-widgets/base",
      "model_module_version": "1.2.0",
      "model_name": "LayoutModel",
      "state": {
       "flex_flow": "row wrap"
      }
     },
     "ccf66881f40e44aca05462a3ee1ca1ef": {
      "model_module": "@jupyter-widgets/controls",
      "model_module_version": "1.5.0",
      "model_name": "SliderStyleModel",
      "state": {
       "description_width": "initial"
      }
     },
     "ccfa1796275840d6b960303202a9a5b0": {
      "model_module": "@jupyter-widgets/base",
      "model_module_version": "1.2.0",
      "model_name": "LayoutModel",
      "state": {}
     },
     "cd0403aeeaa44b52a5329acf42517034": {
      "model_module": "@jupyter-widgets/controls",
      "model_module_version": "1.5.0",
      "model_name": "VBoxModel",
      "state": {
       "children": [
        "IPY_MODEL_c2f2a518eca94d3b80755955a8b45ecf",
        "IPY_MODEL_c75b89404fd54058935426dbb5974e21",
        "IPY_MODEL_c6e4c0c551e941909542a1cdb75b2e0a"
       ],
       "layout": "IPY_MODEL_26ba325a180b4bc8b9ae7e087884e6bf"
      }
     },
     "cd0845fdd878474e80c31e2f2ad4c1b5": {
      "model_module": "@jupyter-widgets/base",
      "model_module_version": "1.2.0",
      "model_name": "LayoutModel",
      "state": {}
     },
     "cd20df7c9f424e2a8c9a1cd357f32bb7": {
      "model_module": "@jupyter-widgets/controls",
      "model_module_version": "1.5.0",
      "model_name": "SliderStyleModel",
      "state": {
       "description_width": "initial"
      }
     },
     "cd28e537b0a0420e85adcca848a8d68f": {
      "model_module": "@jupyter-widgets/controls",
      "model_module_version": "1.5.0",
      "model_name": "IntSliderModel",
      "state": {
       "continuous_update": false,
       "description": "0-Padding",
       "layout": "IPY_MODEL_d0a1d7bf307549f59b1ea9965c635d2a",
       "max": 500,
       "style": "IPY_MODEL_00d2de3138ed4167954123b0889cbf7c"
      }
     },
     "cd31f4de9df44fa1a931f5a862d4a5bd": {
      "model_module": "@jupyter-widgets/base",
      "model_module_version": "1.2.0",
      "model_name": "LayoutModel",
      "state": {}
     },
     "cd4532d6087849b9a14f692a6326d249": {
      "model_module": "@jupyter-widgets/controls",
      "model_module_version": "1.5.0",
      "model_name": "SliderStyleModel",
      "state": {
       "description_width": "initial"
      }
     },
     "cd5489dbe9f64995be9d6147ecd11936": {
      "model_module": "@jupyter-widgets/base",
      "model_module_version": "1.2.0",
      "model_name": "LayoutModel",
      "state": {}
     },
     "cd68be001e8044288517ac84bbf8453e": {
      "model_module": "@jupyter-widgets/base",
      "model_module_version": "1.2.0",
      "model_name": "LayoutModel",
      "state": {}
     },
     "cd6d50ea2c5f40d6b7d817667b2d8331": {
      "model_module": "@jupyter-widgets/output",
      "model_module_version": "1.0.0",
      "model_name": "OutputModel",
      "state": {
       "layout": "IPY_MODEL_a8fb83b6af394e84b397ae9d737d0ca0"
      }
     },
     "cd8ab0bd74eb41f1a1a989de2ff6afc0": {
      "model_module": "@jupyter-widgets/base",
      "model_module_version": "1.2.0",
      "model_name": "LayoutModel",
      "state": {}
     },
     "cda2f1623b7d41aaab5407c1ab1ac281": {
      "model_module": "@jupyter-widgets/base",
      "model_module_version": "1.2.0",
      "model_name": "LayoutModel",
      "state": {}
     },
     "cdc2814c3286457c8cf2f5af9675dc38": {
      "model_module": "@jupyter-widgets/controls",
      "model_module_version": "1.5.0",
      "model_name": "HBoxModel",
      "state": {
       "children": [
        "IPY_MODEL_60e36d1526294ea0adbd5250c79735b1",
        "IPY_MODEL_a378153812b04efe8b776318cf06a5e9"
       ],
       "layout": "IPY_MODEL_c1bb12d7068148d183c1ef22cb333216"
      }
     },
     "cdc554cb94ff447e889b890cb930e4cb": {
      "model_module": "@jupyter-widgets/base",
      "model_module_version": "1.2.0",
      "model_name": "LayoutModel",
      "state": {}
     },
     "cddef6c988574a7e9a00275a8e415293": {
      "model_module": "@jupyter-widgets/output",
      "model_module_version": "1.0.0",
      "model_name": "OutputModel",
      "state": {
       "layout": "IPY_MODEL_baef058d56784636945d1f910a8206ad"
      }
     },
     "cdfd7210082740598004a2bef4258a76": {
      "model_module": "@jupyter-widgets/base",
      "model_module_version": "1.2.0",
      "model_name": "LayoutModel",
      "state": {}
     },
     "ce3d366090dd41f2a5194da3df871126": {
      "model_module": "@jupyter-widgets/base",
      "model_module_version": "1.2.0",
      "model_name": "LayoutModel",
      "state": {
       "align_items": "baseline",
       "border": "solid",
       "display": "flex",
       "flex_flow": "column"
      }
     },
     "ce6315a722b543e59391031f30608edd": {
      "model_module": "@jupyter-widgets/base",
      "model_module_version": "1.2.0",
      "model_name": "LayoutModel",
      "state": {}
     },
     "ce8f9365e1c441b8800591b081eaed40": {
      "model_module": "@jupyter-widgets/base",
      "model_module_version": "1.2.0",
      "model_name": "LayoutModel",
      "state": {}
     },
     "cea0e5d3fce0458f98e9c4b8cc0d3f3d": {
      "model_module": "@jupyter-widgets/base",
      "model_module_version": "1.2.0",
      "model_name": "LayoutModel",
      "state": {}
     },
     "cea3e710ef504fc490574927588be84f": {
      "model_module": "@jupyter-widgets/base",
      "model_module_version": "1.2.0",
      "model_name": "LayoutModel",
      "state": {}
     },
     "ceae0101bd1c414388c1bfa28a6d22f7": {
      "model_module": "@jupyter-widgets/base",
      "model_module_version": "1.2.0",
      "model_name": "LayoutModel",
      "state": {}
     },
     "ceb54a7eb4be4d08bcfacb277f243580": {
      "model_module": "@jupyter-widgets/controls",
      "model_module_version": "1.5.0",
      "model_name": "IntSliderModel",
      "state": {
       "continuous_update": false,
       "description": "0-Padding",
       "layout": "IPY_MODEL_37b56d68dd8a4c38b6e733f55ebcc56d",
       "max": 500,
       "style": "IPY_MODEL_5c311b5603454efa9fa9ab2bdecd9a83"
      }
     },
     "cebb77c8a91d4ab9adec9a8cdaaec9a0": {
      "model_module": "@jupyter-widgets/base",
      "model_module_version": "1.2.0",
      "model_name": "LayoutModel",
      "state": {}
     },
     "cec16595d5ff49a8a91e0b28aacc5aea": {
      "model_module": "jupyter-matplotlib",
      "model_module_version": "^0.7.4",
      "model_name": "ToolbarModel",
      "state": {
       "collapsed": false,
       "layout": "IPY_MODEL_6bcbd95e1bfd4f74b3d8c261f66c30d6",
       "toolitems": [
        [
         "Home",
         "Reset original view",
         "home",
         "home"
        ],
        [
         "Back",
         "Back to previous view",
         "arrow-left",
         "back"
        ],
        [
         "Forward",
         "Forward to next view",
         "arrow-right",
         "forward"
        ],
        [
         "Pan",
         "Left button pans, Right button zooms\nx/y fixes axis, CTRL fixes aspect",
         "arrows",
         "pan"
        ],
        [
         "Zoom",
         "Zoom to rectangle\nx/y fixes axis, CTRL fixes aspect",
         "square-o",
         "zoom"
        ],
        [
         "Download",
         "Download plot",
         "floppy-o",
         "save_figure"
        ]
       ]
      }
     },
     "cecaba9394234ddcb222dd09af80608c": {
      "model_module": "@jupyter-widgets/controls",
      "model_module_version": "1.5.0",
      "model_name": "IntSliderModel",
      "state": {
       "continuous_update": false,
       "description": "Periods",
       "layout": "IPY_MODEL_6f1164f0934d45e2b1875566ca1497a7",
       "max": 50,
       "min": 1,
       "style": "IPY_MODEL_5eefede7b353473a8773ca49eb1b399d",
       "value": 2
      }
     },
     "cecf8c0059a14f5f9d459d49552282e1": {
      "model_module": "jupyter-matplotlib",
      "model_module_version": "^0.7.4",
      "model_name": "ToolbarModel",
      "state": {
       "layout": "IPY_MODEL_cd0845fdd878474e80c31e2f2ad4c1b5",
       "toolitems": [
        [
         "Home",
         "Reset original view",
         "home",
         "home"
        ],
        [
         "Back",
         "Back to previous view",
         "arrow-left",
         "back"
        ],
        [
         "Forward",
         "Forward to next view",
         "arrow-right",
         "forward"
        ],
        [
         "Pan",
         "Left button pans, Right button zooms\nx/y fixes axis, CTRL fixes aspect",
         "arrows",
         "pan"
        ],
        [
         "Zoom",
         "Zoom to rectangle\nx/y fixes axis, CTRL fixes aspect",
         "square-o",
         "zoom"
        ],
        [
         "Download",
         "Download plot",
         "floppy-o",
         "save_figure"
        ]
       ]
      }
     },
     "ced588b46f8340eeb0d3d71143879ffa": {
      "model_module": "@jupyter-widgets/base",
      "model_module_version": "1.2.0",
      "model_name": "LayoutModel",
      "state": {}
     },
     "cef4c6f104314004853b660cc1f358b6": {
      "model_module": "@jupyter-widgets/base",
      "model_module_version": "1.2.0",
      "model_name": "LayoutModel",
      "state": {}
     },
     "cf02d500f8d94766bba29717c6169a4b": {
      "model_module": "@jupyter-widgets/controls",
      "model_module_version": "1.5.0",
      "model_name": "HBoxModel",
      "state": {
       "children": [
        "IPY_MODEL_c57a50d1d784422da59f8aa050bd5abf",
        "IPY_MODEL_19e601799bb84c11bc550226ec7e8d34",
        "IPY_MODEL_86830151c38c4a9a8536c1d6343cf70e"
       ],
       "layout": "IPY_MODEL_28e1c7c883df459b98f588559dcc1f63"
      }
     },
     "cf1617d137fd40ce900a8ebee86b5ed3": {
      "model_module": "@jupyter-widgets/base",
      "model_module_version": "1.2.0",
      "model_name": "LayoutModel",
      "state": {}
     },
     "cf1cc210e4224fb4aa4eddf1e4317d61": {
      "model_module": "@jupyter-widgets/controls",
      "model_module_version": "1.5.0",
      "model_name": "SliderStyleModel",
      "state": {
       "description_width": "initial"
      }
     },
     "cf3a9d41f1b046bd84953f3d428c58e9": {
      "model_module": "@jupyter-widgets/controls",
      "model_module_version": "1.5.0",
      "model_name": "SliderStyleModel",
      "state": {
       "description_width": "initial"
      }
     },
     "cf44f5becdec4adfa9424ab45c5b99e9": {
      "model_module": "@jupyter-widgets/base",
      "model_module_version": "1.2.0",
      "model_name": "LayoutModel",
      "state": {}
     },
     "cf475f3738274500bf750a9463a71501": {
      "model_module": "@jupyter-widgets/base",
      "model_module_version": "1.2.0",
      "model_name": "LayoutModel",
      "state": {}
     },
     "cf4be19105aa41139c3389aca4904270": {
      "model_module": "@jupyter-widgets/controls",
      "model_module_version": "1.5.0",
      "model_name": "IntSliderModel",
      "state": {
       "continuous_update": false,
       "description": "Periods",
       "layout": "IPY_MODEL_140da92974d94e7a8be3c60588467c6e",
       "max": 50,
       "min": 1,
       "style": "IPY_MODEL_9e21861b6fd64cc3bafa4c6e67a3cf40",
       "value": 21
      }
     },
     "cf5f0e2c81874ed49170cce3f8b5b829": {
      "model_module": "@jupyter-widgets/controls",
      "model_module_version": "1.5.0",
      "model_name": "SliderStyleModel",
      "state": {
       "description_width": "initial"
      }
     },
     "cf73b268ec254128bee8f09f3afc6206": {
      "model_module": "@jupyter-widgets/base",
      "model_module_version": "1.2.0",
      "model_name": "LayoutModel",
      "state": {}
     },
     "cf77863cfc17414898ee64e99b4bcc23": {
      "model_module": "@jupyter-widgets/base",
      "model_module_version": "1.2.0",
      "model_name": "LayoutModel",
      "state": {}
     },
     "cfaea38f199246db87583467523e98d7": {
      "model_module": "@jupyter-widgets/base",
      "model_module_version": "1.2.0",
      "model_name": "LayoutModel",
      "state": {}
     },
     "cfb4cb26c46b46e7ab6cad55d1be9b28": {
      "model_module": "@jupyter-widgets/base",
      "model_module_version": "1.2.0",
      "model_name": "LayoutModel",
      "state": {}
     },
     "cfcb28213aac4432965af2fbe513b452": {
      "model_module": "@jupyter-widgets/base",
      "model_module_version": "1.2.0",
      "model_name": "LayoutModel",
      "state": {}
     },
     "cffd6da3d55d44a3939bd52c9c85c6c1": {
      "model_module": "@jupyter-widgets/base",
      "model_module_version": "1.2.0",
      "model_name": "LayoutModel",
      "state": {}
     },
     "d056bb6b6fdf4010a0b507a35c541533": {
      "model_module": "@jupyter-widgets/output",
      "model_module_version": "1.0.0",
      "model_name": "OutputModel",
      "state": {
       "layout": "IPY_MODEL_cfb4cb26c46b46e7ab6cad55d1be9b28",
       "outputs": [
        {
         "data": {
          "application/vnd.jupyter.widget-view+json": {
           "model_id": "ca9a4d3eb1444a28bcec281682e8b911",
           "version_major": 2,
           "version_minor": 0
          },
          "text/plain": "Canvas(toolbar=Toolbar(toolitems=[('Home', 'Reset original view', 'home', 'home'), ('Back', 'Back to previous …"
         },
         "metadata": {},
         "output_type": "display_data"
        }
       ]
      }
     },
     "d09a34bdcb444938b999ea92acee1a33": {
      "model_module": "@jupyter-widgets/controls",
      "model_module_version": "1.5.0",
      "model_name": "IntSliderModel",
      "state": {
       "continuous_update": false,
       "description": "0-Padding",
       "layout": "IPY_MODEL_0c197555892c4fec8aaca59a6e221a68",
       "max": 40,
       "style": "IPY_MODEL_cf3a9d41f1b046bd84953f3d428c58e9"
      }
     },
     "d0a1d7bf307549f59b1ea9965c635d2a": {
      "model_module": "@jupyter-widgets/base",
      "model_module_version": "1.2.0",
      "model_name": "LayoutModel",
      "state": {}
     },
     "d0a4fe89534f47a19acf22d6a8d1814b": {
      "model_module": "@jupyter-widgets/base",
      "model_module_version": "1.2.0",
      "model_name": "LayoutModel",
      "state": {}
     },
     "d0c5982013754ca2935bb7a026fd7cc5": {
      "model_module": "@jupyter-widgets/controls",
      "model_module_version": "1.5.0",
      "model_name": "SliderStyleModel",
      "state": {
       "description_width": "initial"
      }
     },
     "d0d62af61c1042f48078287f39d4fa0d": {
      "model_module": "@jupyter-widgets/controls",
      "model_module_version": "1.5.0",
      "model_name": "SliderStyleModel",
      "state": {
       "description_width": "initial"
      }
     },
     "d0e841549d9b432e891b58c1dc08c492": {
      "model_module": "@jupyter-widgets/base",
      "model_module_version": "1.2.0",
      "model_name": "LayoutModel",
      "state": {}
     },
     "d0fa957ff7dd4284b0ad2b93be5e4e48": {
      "model_module": "@jupyter-widgets/base",
      "model_module_version": "1.2.0",
      "model_name": "LayoutModel",
      "state": {}
     },
     "d102b82ebadd4d03b3926acb5b9477bf": {
      "model_module": "@jupyter-widgets/base",
      "model_module_version": "1.2.0",
      "model_name": "LayoutModel",
      "state": {}
     },
     "d11a8f16281f4220bf7b51df0b1752e1": {
      "model_module": "@jupyter-widgets/base",
      "model_module_version": "1.2.0",
      "model_name": "LayoutModel",
      "state": {}
     },
     "d1458cbd6c044eb087d139cd8cae2979": {
      "model_module": "@jupyter-widgets/controls",
      "model_module_version": "1.5.0",
      "model_name": "IntSliderModel",
      "state": {
       "continuous_update": false,
       "description": "Periods",
       "layout": "IPY_MODEL_eff7b6860e774d4babbcb0c5d66049ff",
       "max": 50,
       "min": 1,
       "style": "IPY_MODEL_08f38850863e4c35a02de5319b3a84df",
       "value": 2
      }
     },
     "d14ff549df3342dab07cb8e32f3236fa": {
      "model_module": "jupyter-matplotlib",
      "model_module_version": "^0.7.4",
      "model_name": "ToolbarModel",
      "state": {
       "layout": "IPY_MODEL_d1bf5f06a1c642eeb73c6778047bbad7",
       "toolitems": [
        [
         "Home",
         "Reset original view",
         "home",
         "home"
        ],
        [
         "Back",
         "Back to previous view",
         "arrow-left",
         "back"
        ],
        [
         "Forward",
         "Forward to next view",
         "arrow-right",
         "forward"
        ],
        [
         "Pan",
         "Left button pans, Right button zooms\nx/y fixes axis, CTRL fixes aspect",
         "arrows",
         "pan"
        ],
        [
         "Zoom",
         "Zoom to rectangle\nx/y fixes axis, CTRL fixes aspect",
         "square-o",
         "zoom"
        ],
        [
         "Download",
         "Download plot",
         "floppy-o",
         "save_figure"
        ]
       ]
      }
     },
     "d182cf3a5a3648d191b40c9aaa6a2a07": {
      "model_module": "@jupyter-widgets/base",
      "model_module_version": "1.2.0",
      "model_name": "LayoutModel",
      "state": {}
     },
     "d19366c725634a0abc98221cc268d557": {
      "model_module": "@jupyter-widgets/controls",
      "model_module_version": "1.5.0",
      "model_name": "IntSliderModel",
      "state": {
       "continuous_update": false,
       "description": "Sampling (Hz)",
       "layout": "IPY_MODEL_db635d40195f4f779ebbbc329bd89a2c",
       "max": 12,
       "min": 2,
       "step": 2,
       "style": "IPY_MODEL_63defdb51ffe471497cc21642261a559",
       "value": 4
      }
     },
     "d198be8d061945fe952f00ab09fa2947": {
      "model_module": "@jupyter-widgets/base",
      "model_module_version": "1.2.0",
      "model_name": "LayoutModel",
      "state": {}
     },
     "d1aca3e29f01442f9f773baefa429447": {
      "model_module": "@jupyter-widgets/controls",
      "model_module_version": "1.5.0",
      "model_name": "IntSliderModel",
      "state": {
       "description": "Periods",
       "layout": "IPY_MODEL_d11a8f16281f4220bf7b51df0b1752e1",
       "max": 50,
       "min": 1,
       "style": "IPY_MODEL_0e2bc5828e1b4e51a1c707814b104b56",
       "value": 8
      }
     },
     "d1adc0e9949746a198ee0c356e2c5fd0": {
      "model_module": "@jupyter-widgets/base",
      "model_module_version": "1.2.0",
      "model_name": "LayoutModel",
      "state": {}
     },
     "d1bf5f06a1c642eeb73c6778047bbad7": {
      "model_module": "@jupyter-widgets/base",
      "model_module_version": "1.2.0",
      "model_name": "LayoutModel",
      "state": {}
     },
     "d1c33dbf14cb4ef6aec25d4883b12286": {
      "model_module": "@jupyter-widgets/controls",
      "model_module_version": "1.5.0",
      "model_name": "IntSliderModel",
      "state": {
       "continuous_update": false,
       "description": "0-Padding",
       "layout": "IPY_MODEL_7c23571038224847b47c5948fb874d63",
       "max": 500,
       "style": "IPY_MODEL_221991431f16427a85bd87582d7d42d3"
      }
     },
     "d1eb34376bc443e98696fd129bb25d4a": {
      "model_module": "@jupyter-widgets/controls",
      "model_module_version": "1.5.0",
      "model_name": "VBoxModel",
      "state": {
       "_dom_classes": [
        "widget-interact"
       ],
       "children": [
        "IPY_MODEL_80be54b46b8f4c5fa2a40cb695339f7b",
        "IPY_MODEL_bec6c3e8e01741c798ffe60bacaf3f0b",
        "IPY_MODEL_835533a68ca74bada422e38e667123ad",
        "IPY_MODEL_cc4a1264997a41e8b843d51e787910d2"
       ],
       "layout": "IPY_MODEL_98efc031aed44aaf9ee25b4d1f1a1372"
      }
     },
     "d2119b2e266f4a06952735e206ec6eb8": {
      "model_module": "@jupyter-widgets/base",
      "model_module_version": "1.2.0",
      "model_name": "LayoutModel",
      "state": {}
     },
     "d26695adc6f04296a850aece4e380fd8": {
      "model_module": "@jupyter-widgets/controls",
      "model_module_version": "1.5.0",
      "model_name": "IntSliderModel",
      "state": {
       "continuous_update": false,
       "description": "Sampling (Hz)",
       "layout": "IPY_MODEL_dc950e5ea92d4e37a68f6a54581918de",
       "max": 12,
       "min": 2,
       "step": 2,
       "style": "IPY_MODEL_f416ab2d05414538957ce89b79eecbaf",
       "value": 4
      }
     },
     "d269259e326f4d409f45d57a7386fa3b": {
      "model_module": "@jupyter-widgets/base",
      "model_module_version": "1.2.0",
      "model_name": "LayoutModel",
      "state": {}
     },
     "d26aa80415224696a0b813464ef36266": {
      "model_module": "jupyter-matplotlib",
      "model_module_version": "^0.7.4",
      "model_name": "ToolbarModel",
      "state": {
       "layout": "IPY_MODEL_95d81b4e5a4145c9881b24a7b8d3d12c",
       "toolitems": [
        [
         "Home",
         "Reset original view",
         "home",
         "home"
        ],
        [
         "Back",
         "Back to previous view",
         "arrow-left",
         "back"
        ],
        [
         "Forward",
         "Forward to next view",
         "arrow-right",
         "forward"
        ],
        [
         "Pan",
         "Left button pans, Right button zooms\nx/y fixes axis, CTRL fixes aspect",
         "arrows",
         "pan"
        ],
        [
         "Zoom",
         "Zoom to rectangle\nx/y fixes axis, CTRL fixes aspect",
         "square-o",
         "zoom"
        ],
        [
         "Download",
         "Download plot",
         "floppy-o",
         "save_figure"
        ]
       ]
      }
     },
     "d2d502d3110b439e87acfad01ee3bbbd": {
      "model_module": "@jupyter-widgets/base",
      "model_module_version": "1.2.0",
      "model_name": "LayoutModel",
      "state": {
       "flex_flow": "column wrap"
      }
     },
     "d2df3e34715d459eaf6e0d180f4e8b12": {
      "model_module": "@jupyter-widgets/base",
      "model_module_version": "1.2.0",
      "model_name": "LayoutModel",
      "state": {}
     },
     "d2efe2db346b47098f74d5a259a101c5": {
      "model_module": "@jupyter-widgets/base",
      "model_module_version": "1.2.0",
      "model_name": "LayoutModel",
      "state": {}
     },
     "d36d594474304e4181c1f280a7bb9629": {
      "model_module": "@jupyter-widgets/base",
      "model_module_version": "1.2.0",
      "model_name": "LayoutModel",
      "state": {
       "align_items": "center",
       "display": "flex"
      }
     },
     "d39157a8801c4c158684b8843eb7693a": {
      "model_module": "@jupyter-widgets/base",
      "model_module_version": "1.2.0",
      "model_name": "LayoutModel",
      "state": {}
     },
     "d3a21764134447d181d4c15b95b27f4f": {
      "model_module": "@jupyter-widgets/base",
      "model_module_version": "1.2.0",
      "model_name": "LayoutModel",
      "state": {}
     },
     "d3b1e6dfe8804c7e87024c6225101c32": {
      "model_module": "@jupyter-widgets/base",
      "model_module_version": "1.2.0",
      "model_name": "LayoutModel",
      "state": {}
     },
     "d3bf72dab78a434f90c34c27a5022347": {
      "model_module": "@jupyter-widgets/controls",
      "model_module_version": "1.5.0",
      "model_name": "SliderStyleModel",
      "state": {
       "description_width": "initial"
      }
     },
     "d3cdcc6ee6ad42d9b18fbe827fd5f994": {
      "model_module": "@jupyter-widgets/output",
      "model_module_version": "1.0.0",
      "model_name": "OutputModel",
      "state": {
       "layout": "IPY_MODEL_bf355342b4b6434db909719df78b45d7",
       "outputs": [
        {
         "data": {
          "application/vnd.jupyter.widget-view+json": {
           "model_id": "e61aef3a2da248d1be0d0b7cb08d9900",
           "version_major": 2,
           "version_minor": 0
          },
          "text/plain": "Canvas(toolbar=Toolbar(toolitems=[('Home', 'Reset original view', 'home', 'home'), ('Back', 'Back to previous …"
         },
         "metadata": {},
         "output_type": "display_data"
        }
       ]
      }
     },
     "d3d2a7fcbee7410cb2c2f48284f5cf2e": {
      "model_module": "@jupyter-widgets/controls",
      "model_module_version": "1.5.0",
      "model_name": "IntSliderModel",
      "state": {
       "continuous_update": false,
       "description": "0-Padding",
       "layout": "IPY_MODEL_b8151163905345aca24c74741f7e6145",
       "max": 500,
       "style": "IPY_MODEL_94ff821b0db6450bbcd6bd789533a20b"
      }
     },
     "d3ffeed859484a1882ece35179a503fa": {
      "model_module": "@jupyter-widgets/controls",
      "model_module_version": "1.5.0",
      "model_name": "IntSliderModel",
      "state": {
       "continuous_update": false,
       "description": "Sampling (Hz)",
       "layout": "IPY_MODEL_3ac9285fa52042b4ad6c6a8a4d199ef7",
       "max": 20,
       "min": 2,
       "step": 2,
       "style": "IPY_MODEL_d9c7acef51a645f68eba3a46a02459b0",
       "value": 4
      }
     },
     "d405811c07544c5690a9e498681a6955": {
      "model_module": "@jupyter-widgets/controls",
      "model_module_version": "1.5.0",
      "model_name": "SliderStyleModel",
      "state": {
       "description_width": "initial"
      }
     },
     "d41b71d889fa498dbf3dda9910e9569d": {
      "model_module": "@jupyter-widgets/base",
      "model_module_version": "1.2.0",
      "model_name": "LayoutModel",
      "state": {}
     },
     "d439866585964bc2bd4316675544b389": {
      "model_module": "@jupyter-widgets/controls",
      "model_module_version": "1.5.0",
      "model_name": "VBoxModel",
      "state": {
       "children": [
        "IPY_MODEL_9d603e39a0854402bff8b3a612b3dd83",
        "IPY_MODEL_f03f9265e5ca44669ee897e57eeed020",
        "IPY_MODEL_0811dd9520da4486811c815eb2ed3cad"
       ],
       "layout": "IPY_MODEL_8e149be559bc4e77a81f35c06026bc88"
      }
     },
     "d44c2e8c8b7e472abfc58af9195af992": {
      "model_module": "@jupyter-widgets/base",
      "model_module_version": "1.2.0",
      "model_name": "LayoutModel",
      "state": {}
     },
     "d45f66301049488d8f57fddccf2826a1": {
      "model_module": "@jupyter-widgets/base",
      "model_module_version": "1.2.0",
      "model_name": "LayoutModel",
      "state": {}
     },
     "d46fc09fe4b24bf1aa624127da7bf6f0": {
      "model_module": "@jupyter-widgets/controls",
      "model_module_version": "1.5.0",
      "model_name": "HBoxModel",
      "state": {
       "children": [
        "IPY_MODEL_ec2c1672e8254dfaac40ae460f59ad88",
        "IPY_MODEL_8001a201fdc04a6892db07e7d9b30bcf"
       ],
       "layout": "IPY_MODEL_6f11cdd87f5a4f2f90b8f48c79a60e2e"
      }
     },
     "d4b03ef24dac4eefbaf2f2a1b7666852": {
      "model_module": "@jupyter-widgets/controls",
      "model_module_version": "1.5.0",
      "model_name": "IntSliderModel",
      "state": {
       "continuous_update": false,
       "description": "0-Padding",
       "layout": "IPY_MODEL_4192fa044145446d9e91808c4457a8ef",
       "max": 2160,
       "step": 72,
       "style": "IPY_MODEL_6246e12765f140798c2263fb2701257f"
      }
     },
     "d4c0c40fb7084164bf83ce7e9892bf27": {
      "model_module": "@jupyter-widgets/controls",
      "model_module_version": "1.5.0",
      "model_name": "IntSliderModel",
      "state": {
       "continuous_update": false,
       "description": "0-Padding",
       "layout": "IPY_MODEL_b683bd1a157b414ca88b4554449af3e6",
       "max": 40,
       "style": "IPY_MODEL_377a603edf994a0998243ffe6f6fc163"
      }
     },
     "d4f7ae8bd6bf4c09a204add7810f664f": {
      "model_module": "@jupyter-widgets/base",
      "model_module_version": "1.2.0",
      "model_name": "LayoutModel",
      "state": {}
     },
     "d527afcc7e7a4fd08fc9119ed98a8e0b": {
      "model_module": "@jupyter-widgets/controls",
      "model_module_version": "1.5.0",
      "model_name": "SliderStyleModel",
      "state": {
       "description_width": "initial"
      }
     },
     "d531ef906bbe4395a09f050b307c6132": {
      "model_module": "@jupyter-widgets/controls",
      "model_module_version": "1.5.0",
      "model_name": "IntSliderModel",
      "state": {
       "continuous_update": false,
       "description": "Periods",
       "layout": "IPY_MODEL_cfaea38f199246db87583467523e98d7",
       "max": 50,
       "min": 1,
       "style": "IPY_MODEL_5b7d7aded0a74f1a9acd49090261c404",
       "value": 2
      }
     },
     "d56a855741904edaabf1a971a13d6624": {
      "model_module": "@jupyter-widgets/controls",
      "model_module_version": "1.5.0",
      "model_name": "IntSliderModel",
      "state": {
       "continuous_update": false,
       "description": "Periods",
       "layout": "IPY_MODEL_ce8f9365e1c441b8800591b081eaed40",
       "max": 50,
       "min": 1,
       "style": "IPY_MODEL_dc107f2ed06b4d3b88d1950418485e00",
       "value": 2
      }
     },
     "d56e913559bf469ba1dc2c301f772b71": {
      "model_module": "@jupyter-widgets/base",
      "model_module_version": "1.2.0",
      "model_name": "LayoutModel",
      "state": {}
     },
     "d5ac622af5ba4c3892a1596ea318f99a": {
      "model_module": "@jupyter-widgets/base",
      "model_module_version": "1.2.0",
      "model_name": "LayoutModel",
      "state": {}
     },
     "d5e73a806c754b3082cfa7f0dc18612a": {
      "model_module": "@jupyter-widgets/controls",
      "model_module_version": "1.5.0",
      "model_name": "SliderStyleModel",
      "state": {
       "description_width": "initial"
      }
     },
     "d62e358d1a4a441bb77660e649c2f087": {
      "model_module": "@jupyter-widgets/base",
      "model_module_version": "1.2.0",
      "model_name": "LayoutModel",
      "state": {}
     },
     "d62fb2b202234b449d52597e24ebaf2c": {
      "model_module": "@jupyter-widgets/controls",
      "model_module_version": "1.5.0",
      "model_name": "IntSliderModel",
      "state": {
       "continuous_update": false,
       "description": "Periods",
       "layout": "IPY_MODEL_755cf33c94714f209ea9b82d7f78eada",
       "max": 50,
       "min": 1,
       "style": "IPY_MODEL_9d5356922db5498da3205b53ecadde8d",
       "value": 2
      }
     },
     "d63e4ea53542493daefcb673a6705774": {
      "model_module": "@jupyter-widgets/controls",
      "model_module_version": "1.5.0",
      "model_name": "SliderStyleModel",
      "state": {
       "description_width": "initial"
      }
     },
     "d64e2fc7db16446fb3cc536a2cda3dfb": {
      "model_module": "@jupyter-widgets/base",
      "model_module_version": "1.2.0",
      "model_name": "LayoutModel",
      "state": {}
     },
     "d652d5102ce24a6f97680b17e09ff0bf": {
      "model_module": "@jupyter-widgets/base",
      "model_module_version": "1.2.0",
      "model_name": "LayoutModel",
      "state": {}
     },
     "d689749f44734b439772c0b0781b5dd9": {
      "model_module": "@jupyter-widgets/base",
      "model_module_version": "1.2.0",
      "model_name": "LayoutModel",
      "state": {}
     },
     "d6d1df9792ea40aca5cb8b03f2c8da24": {
      "model_module": "@jupyter-widgets/output",
      "model_module_version": "1.0.0",
      "model_name": "OutputModel",
      "state": {
       "layout": "IPY_MODEL_9618d4a04dc8480e94ac876ec7b67540"
      }
     },
     "d6dc49616c314f75ba0abbdc20906cef": {
      "model_module": "@jupyter-widgets/base",
      "model_module_version": "1.2.0",
      "model_name": "LayoutModel",
      "state": {}
     },
     "d6ed2a818f9a4bca8d8fd492d5affde1": {
      "model_module": "@jupyter-widgets/base",
      "model_module_version": "1.2.0",
      "model_name": "LayoutModel",
      "state": {}
     },
     "d6fd791b59704330a4652e65bb708c06": {
      "model_module": "@jupyter-widgets/controls",
      "model_module_version": "1.5.0",
      "model_name": "SliderStyleModel",
      "state": {
       "description_width": "initial"
      }
     },
     "d700c3e3fb0546c7a2f96960ad4cbc40": {
      "model_module": "@jupyter-widgets/base",
      "model_module_version": "1.2.0",
      "model_name": "LayoutModel",
      "state": {}
     },
     "d74d15b7b9ac4254be53e82ede91b12c": {
      "model_module": "@jupyter-widgets/controls",
      "model_module_version": "1.5.0",
      "model_name": "VBoxModel",
      "state": {
       "_dom_classes": [
        "widget-interact"
       ],
       "children": [
        "IPY_MODEL_766594f0745b4a19a9310a9938595bf7",
        "IPY_MODEL_7b8232b48cd14b55ad854b2f55c794ec",
        "IPY_MODEL_103a65dccc874cbead6e6ed10d18610a",
        "IPY_MODEL_9253759e320546a3ad992d12f41d38ab"
       ],
       "layout": "IPY_MODEL_023a2110b0474b0dbdefbfa1eaae5923"
      }
     },
     "d763bd2018b941d8a0c9a03f3facd624": {
      "model_module": "@jupyter-widgets/base",
      "model_module_version": "1.2.0",
      "model_name": "LayoutModel",
      "state": {}
     },
     "d785958650fd4e0a90d9ecc5917d94c2": {
      "model_module": "@jupyter-widgets/base",
      "model_module_version": "1.2.0",
      "model_name": "LayoutModel",
      "state": {}
     },
     "d7b0b062f9764450b791652c243da537": {
      "model_module": "@jupyter-widgets/controls",
      "model_module_version": "1.5.0",
      "model_name": "IntSliderModel",
      "state": {
       "continuous_update": false,
       "description": "0-Padding",
       "layout": "IPY_MODEL_4d707492ef9c4321956c159078696fdc",
       "max": 500,
       "style": "IPY_MODEL_330de93cb0e44623b0858ef44d283700"
      }
     },
     "d7cbb76d9d2a4c579ed7f626dbf3b64d": {
      "model_module": "@jupyter-widgets/base",
      "model_module_version": "1.2.0",
      "model_name": "LayoutModel",
      "state": {}
     },
     "d8048a0efb5640a09a5a396f22cfb52d": {
      "model_module": "@jupyter-widgets/base",
      "model_module_version": "1.2.0",
      "model_name": "LayoutModel",
      "state": {}
     },
     "d81ea7a8a4c44551a5d48d48b0c5bb3d": {
      "model_module": "jupyter-matplotlib",
      "model_module_version": "^0.7.4",
      "model_name": "ToolbarModel",
      "state": {
       "layout": "IPY_MODEL_a207e747c2f94f959090e99cf35e8640",
       "toolitems": [
        [
         "Home",
         "Reset original view",
         "home",
         "home"
        ],
        [
         "Back",
         "Back to previous view",
         "arrow-left",
         "back"
        ],
        [
         "Forward",
         "Forward to next view",
         "arrow-right",
         "forward"
        ],
        [
         "Pan",
         "Left button pans, Right button zooms\nx/y fixes axis, CTRL fixes aspect",
         "arrows",
         "pan"
        ],
        [
         "Zoom",
         "Zoom to rectangle\nx/y fixes axis, CTRL fixes aspect",
         "square-o",
         "zoom"
        ],
        [
         "Download",
         "Download plot",
         "floppy-o",
         "save_figure"
        ]
       ]
      }
     },
     "d8303d150d524a6394773afe3e3080df": {
      "model_module": "@jupyter-widgets/controls",
      "model_module_version": "1.5.0",
      "model_name": "VBoxModel",
      "state": {
       "_dom_classes": [
        "widget-interact"
       ],
       "children": [
        "IPY_MODEL_a197cc65ebd04fc6889b55b99c1edefa",
        "IPY_MODEL_25ef476366d341fa9c55128a6930b7d3",
        "IPY_MODEL_6284fbc6a7ca4b248efbc2cdd5be2651",
        "IPY_MODEL_a134c932dcf04e85844fd99e6ba65b7d"
       ],
       "layout": "IPY_MODEL_759e59a50356431c927468d30d87ca91"
      }
     },
     "d835e45fe21b45e5b34d432500ea2791": {
      "model_module": "@jupyter-widgets/output",
      "model_module_version": "1.0.0",
      "model_name": "OutputModel",
      "state": {
       "layout": "IPY_MODEL_3821a23b16884788a794212850552c8f",
       "outputs": [
        {
         "data": {
          "application/vnd.jupyter.widget-view+json": {
           "model_id": "ab880fbeb1e64b7caf167f75fb511f79",
           "version_major": 2,
           "version_minor": 0
          },
          "text/plain": "Canvas(toolbar=Toolbar(toolitems=[('Home', 'Reset original view', 'home', 'home'), ('Back', 'Back to previous …"
         },
         "metadata": {},
         "output_type": "display_data"
        }
       ]
      }
     },
     "d836e70f3313402897c0a281e336796e": {
      "model_module": "@jupyter-widgets/controls",
      "model_module_version": "1.5.0",
      "model_name": "IntSliderModel",
      "state": {
       "continuous_update": false,
       "description": "Sampling (Hz)",
       "layout": "IPY_MODEL_8e2e0780f7514435a83975c711452fe0",
       "max": 12,
       "min": 2,
       "step": 2,
       "style": "IPY_MODEL_7c13d6b6f8e74ad68f762dbeb7e8921d",
       "value": 4
      }
     },
     "d84793fcaded4c03b34bc0aaf321862a": {
      "model_module": "@jupyter-widgets/base",
      "model_module_version": "1.2.0",
      "model_name": "LayoutModel",
      "state": {
       "align_items": "baseline"
      }
     },
     "d84aa1a5d1764b79a274e622c19f65dd": {
      "model_module": "jupyter-matplotlib",
      "model_module_version": "^0.7.4",
      "model_name": "ToolbarModel",
      "state": {
       "layout": "IPY_MODEL_70a51f83cc23422f948b683d17245cca",
       "toolitems": [
        [
         "Home",
         "Reset original view",
         "home",
         "home"
        ],
        [
         "Back",
         "Back to previous view",
         "arrow-left",
         "back"
        ],
        [
         "Forward",
         "Forward to next view",
         "arrow-right",
         "forward"
        ],
        [
         "Pan",
         "Left button pans, Right button zooms\nx/y fixes axis, CTRL fixes aspect",
         "arrows",
         "pan"
        ],
        [
         "Zoom",
         "Zoom to rectangle\nx/y fixes axis, CTRL fixes aspect",
         "square-o",
         "zoom"
        ],
        [
         "Download",
         "Download plot",
         "floppy-o",
         "save_figure"
        ]
       ]
      }
     },
     "d8536f9444bd44eca5c6351eb34c3250": {
      "model_module": "@jupyter-widgets/controls",
      "model_module_version": "1.5.0",
      "model_name": "IntSliderModel",
      "state": {
       "continuous_update": false,
       "description": "Periods",
       "layout": "IPY_MODEL_42d602ae474a4ba2ae20a528185fac87",
       "max": 50,
       "min": 1,
       "style": "IPY_MODEL_dfca0cbc8ff64c898a366bdf8394e0be",
       "value": 2
      }
     },
     "d854490536f149db8447c591e47584ea": {
      "model_module": "@jupyter-widgets/controls",
      "model_module_version": "1.5.0",
      "model_name": "IntSliderModel",
      "state": {
       "continuous_update": false,
       "description": "0-Padding",
       "layout": "IPY_MODEL_77d60f8fe9bd4fc2aefb0cb8a3578aaa",
       "max": 500,
       "style": "IPY_MODEL_245af76992ef47378cb0f6104728d8be"
      }
     },
     "d8586a5fb55b40f6b7716f653c249ba8": {
      "model_module": "@jupyter-widgets/base",
      "model_module_version": "1.2.0",
      "model_name": "LayoutModel",
      "state": {}
     },
     "d8615571162f4a818da31cb090e073aa": {
      "model_module": "@jupyter-widgets/base",
      "model_module_version": "1.2.0",
      "model_name": "LayoutModel",
      "state": {}
     },
     "d87734fea3974b69bd84429642afcd9d": {
      "model_module": "@jupyter-widgets/controls",
      "model_module_version": "1.5.0",
      "model_name": "VBoxModel",
      "state": {
       "_dom_classes": [
        "widget-interact"
       ],
       "children": [
        "IPY_MODEL_39575188beea431f8561e91a297d9e88",
        "IPY_MODEL_6abad83c5ab440c38bece8825620586f",
        "IPY_MODEL_194b6e1c917b42f1b7a8d40d01f8b7a7",
        "IPY_MODEL_3105079ecb264501bc523a433704b026"
       ],
       "layout": "IPY_MODEL_3014435ad30446d2b929f71453f883b3"
      }
     },
     "d8881ea154a24f718ca9d3e3381e6459": {
      "model_module": "@jupyter-widgets/controls",
      "model_module_version": "1.5.0",
      "model_name": "SliderStyleModel",
      "state": {
       "description_width": "initial"
      }
     },
     "d89d99223fb141939f87e355198aa7e4": {
      "model_module": "@jupyter-widgets/base",
      "model_module_version": "1.2.0",
      "model_name": "LayoutModel",
      "state": {}
     },
     "d8bc6a10be734b71a7536114b39d1a2e": {
      "model_module": "@jupyter-widgets/controls",
      "model_module_version": "1.5.0",
      "model_name": "IntSliderModel",
      "state": {
       "continuous_update": false,
       "description": "Sampling (Hz)",
       "layout": "IPY_MODEL_e77378d0bcf549bf9e2c24ebd3959964",
       "max": 20,
       "min": 2,
       "step": 2,
       "style": "IPY_MODEL_0692500368cc475e97f49262ffd58345",
       "value": 4
      }
     },
     "d8d644ace831464f98d18cf864a0aef6": {
      "model_module": "@jupyter-widgets/base",
      "model_module_version": "1.2.0",
      "model_name": "LayoutModel",
      "state": {}
     },
     "d8d9aa6d10694b2db34165f0e51ba804": {
      "model_module": "@jupyter-widgets/base",
      "model_module_version": "1.2.0",
      "model_name": "LayoutModel",
      "state": {}
     },
     "d91341c1037b434ca2704ef8269c5eae": {
      "model_module": "@jupyter-widgets/controls",
      "model_module_version": "1.5.0",
      "model_name": "SliderStyleModel",
      "state": {
       "description_width": "initial"
      }
     },
     "d914b2e08b844885b3ef962b0e1aa7ce": {
      "model_module": "jupyter-matplotlib",
      "model_module_version": "^0.7.4",
      "model_name": "ToolbarModel",
      "state": {
       "layout": "IPY_MODEL_9e6cd272fc5c46cbad8d172312f003fe",
       "toolitems": [
        [
         "Home",
         "Reset original view",
         "home",
         "home"
        ],
        [
         "Back",
         "Back to previous view",
         "arrow-left",
         "back"
        ],
        [
         "Forward",
         "Forward to next view",
         "arrow-right",
         "forward"
        ],
        [
         "Pan",
         "Left button pans, Right button zooms\nx/y fixes axis, CTRL fixes aspect",
         "arrows",
         "pan"
        ],
        [
         "Zoom",
         "Zoom to rectangle\nx/y fixes axis, CTRL fixes aspect",
         "square-o",
         "zoom"
        ],
        [
         "Download",
         "Download plot",
         "floppy-o",
         "save_figure"
        ]
       ]
      }
     },
     "d944037886b74bc2adf53433ed2b4bdf": {
      "model_module": "@jupyter-widgets/base",
      "model_module_version": "1.2.0",
      "model_name": "LayoutModel",
      "state": {}
     },
     "d961d8f962b44ea4bafb115a21ecd92e": {
      "model_module": "@jupyter-widgets/base",
      "model_module_version": "1.2.0",
      "model_name": "LayoutModel",
      "state": {}
     },
     "d97e7c2b43b349c8b8a3ee47b7081c94": {
      "model_module": "@jupyter-widgets/base",
      "model_module_version": "1.2.0",
      "model_name": "LayoutModel",
      "state": {}
     },
     "d9a83e41cc87423689e9e6023c6c7447": {
      "model_module": "@jupyter-widgets/controls",
      "model_module_version": "1.5.0",
      "model_name": "VBoxModel",
      "state": {
       "_dom_classes": [
        "widget-interact"
       ],
       "children": [
        "IPY_MODEL_3e592ea5959247bfa385222170e76a3e",
        "IPY_MODEL_4029b6cb50c94f1480b07f8d6c153197",
        "IPY_MODEL_c18835127c4d4201a47abc34c2ae2e0d",
        "IPY_MODEL_efe02bb379d846e18aff95441605a98a"
       ],
       "layout": "IPY_MODEL_c1594feb5382423aa5b1d2b6df329933"
      }
     },
     "d9c7acef51a645f68eba3a46a02459b0": {
      "model_module": "@jupyter-widgets/controls",
      "model_module_version": "1.5.0",
      "model_name": "SliderStyleModel",
      "state": {
       "description_width": "initial"
      }
     },
     "d9f35c5381f44b8f9c8be2bfd850a703": {
      "model_module": "@jupyter-widgets/base",
      "model_module_version": "1.2.0",
      "model_name": "LayoutModel",
      "state": {
       "align_items": "stretch"
      }
     },
     "da0d35a74b19410ca3d1c571e4191bd6": {
      "model_module": "@jupyter-widgets/base",
      "model_module_version": "1.2.0",
      "model_name": "LayoutModel",
      "state": {}
     },
     "da2bc487cc3e4c3db3ce85fba0b29e5d": {
      "model_module": "@jupyter-widgets/controls",
      "model_module_version": "1.5.0",
      "model_name": "SliderStyleModel",
      "state": {
       "description_width": "initial"
      }
     },
     "da4b5c5c9444489398d57ec2589f04ef": {
      "model_module": "@jupyter-widgets/controls",
      "model_module_version": "1.5.0",
      "model_name": "IntSliderModel",
      "state": {
       "continuous_update": false,
       "description": "Periods",
       "layout": "IPY_MODEL_337b1d0d53b54bc092ea62fa215fdab2",
       "max": 50,
       "min": 1,
       "style": "IPY_MODEL_9d52e90c3c0647879e0be16539320d94",
       "value": 2
      }
     },
     "da58d093d7f94d30b187dc5446ea8766": {
      "model_module": "@jupyter-widgets/base",
      "model_module_version": "1.2.0",
      "model_name": "LayoutModel",
      "state": {}
     },
     "da7cdbd609d24282abc3f3dbbfe7a93d": {
      "model_module": "@jupyter-widgets/output",
      "model_module_version": "1.0.0",
      "model_name": "OutputModel",
      "state": {
       "layout": "IPY_MODEL_d64e2fc7db16446fb3cc536a2cda3dfb"
      }
     },
     "dad076681d15412088f6d75c09424078": {
      "model_module": "jupyter-matplotlib",
      "model_module_version": "^0.7.4",
      "model_name": "ToolbarModel",
      "state": {
       "layout": "IPY_MODEL_98cc9884b5b146ccabc9fdefc4a54849",
       "toolitems": [
        [
         "Home",
         "Reset original view",
         "home",
         "home"
        ],
        [
         "Back",
         "Back to previous view",
         "arrow-left",
         "back"
        ],
        [
         "Forward",
         "Forward to next view",
         "arrow-right",
         "forward"
        ],
        [
         "Pan",
         "Left button pans, Right button zooms\nx/y fixes axis, CTRL fixes aspect",
         "arrows",
         "pan"
        ],
        [
         "Zoom",
         "Zoom to rectangle\nx/y fixes axis, CTRL fixes aspect",
         "square-o",
         "zoom"
        ],
        [
         "Download",
         "Download plot",
         "floppy-o",
         "save_figure"
        ]
       ]
      }
     },
     "db00ad38320048bcba77d98be5e457a8": {
      "model_module": "@jupyter-widgets/controls",
      "model_module_version": "1.5.0",
      "model_name": "VBoxModel",
      "state": {
       "_dom_classes": [
        "widget-interact"
       ],
       "children": [
        "IPY_MODEL_2fa947c1fbc14fefb0b4ab0f822b8fbe",
        "IPY_MODEL_3f2b10f06c0d4406a93f5f7b324ae40f",
        "IPY_MODEL_09e14a66353b4a8e8f05336b8ce7c177",
        "IPY_MODEL_c091aeccc9984e5d9ed60547023b995e"
       ],
       "layout": "IPY_MODEL_c8625571e27f470fb520a07526aef47d"
      }
     },
     "db01701d16ee4df0b66052c7422c0cb2": {
      "model_module": "@jupyter-widgets/controls",
      "model_module_version": "1.5.0",
      "model_name": "IntSliderModel",
      "state": {
       "continuous_update": false,
       "description": "0-Padding",
       "layout": "IPY_MODEL_a7001a9ce38a4c40ae15c8d25d125e8d",
       "max": 500,
       "style": "IPY_MODEL_0139d47b3e0b4297a8ddf51f4e1d09cd"
      }
     },
     "db108faa299f4231ac57d6560a73cd14": {
      "model_module": "@jupyter-widgets/controls",
      "model_module_version": "1.5.0",
      "model_name": "IntSliderModel",
      "state": {
       "description": "Periods",
       "layout": "IPY_MODEL_e4f2abc58cf940ea91c0309ed9cd5557",
       "max": 50,
       "min": 1,
       "style": "IPY_MODEL_8a7721c487e14711a138f8ea1717bfd3",
       "value": 18
      }
     },
     "db11f695d5aa4ecabe5cf7e0d2d4152f": {
      "model_module": "@jupyter-widgets/base",
      "model_module_version": "1.2.0",
      "model_name": "LayoutModel",
      "state": {}
     },
     "db3528867ecf400d921507aaecd62f2a": {
      "model_module": "@jupyter-widgets/controls",
      "model_module_version": "1.5.0",
      "model_name": "SliderStyleModel",
      "state": {
       "description_width": "initial"
      }
     },
     "db417c8de70a400a89200299031b3394": {
      "model_module": "@jupyter-widgets/controls",
      "model_module_version": "1.5.0",
      "model_name": "VBoxModel",
      "state": {
       "_dom_classes": [
        "widget-interact"
       ],
       "children": [
        "IPY_MODEL_6cc09bc362e64cd4b924c189e165d210",
        "IPY_MODEL_174a5a60a0a64b3cbafcfa3218c0045d",
        "IPY_MODEL_452ad8b526434c9eb2bfac58117ac6d2",
        "IPY_MODEL_5151941776d14bfdab5b32eb55873293"
       ],
       "layout": "IPY_MODEL_f14e38023972418aa7eb94b8b40ab564"
      }
     },
     "db523ada7dea4043a9c67285973b3d6e": {
      "model_module": "@jupyter-widgets/output",
      "model_module_version": "1.0.0",
      "model_name": "OutputModel",
      "state": {
       "layout": "IPY_MODEL_e3af609852ae4c37854ca723ba428d39",
       "outputs": [
        {
         "data": {
          "application/vnd.jupyter.widget-view+json": {
           "model_id": "38b6c4e752134cc992ca06be99901993",
           "version_major": 2,
           "version_minor": 0
          },
          "text/plain": "Canvas(toolbar=Toolbar(toolitems=[('Home', 'Reset original view', 'home', 'home'), ('Back', 'Back to previous …"
         },
         "metadata": {},
         "output_type": "display_data"
        }
       ]
      }
     },
     "db60781ad7be46c6ba4cf3eb0c9416b4": {
      "model_module": "@jupyter-widgets/output",
      "model_module_version": "1.0.0",
      "model_name": "OutputModel",
      "state": {
       "layout": "IPY_MODEL_6f9619768b7b47d6a4e70687657c1392",
       "outputs": [
        {
         "data": {
          "application/vnd.jupyter.widget-view+json": {
           "model_id": "795773d16f48449ba3f052d46409ea3b",
           "version_major": 2,
           "version_minor": 0
          },
          "text/plain": "Canvas(toolbar=Toolbar(toolitems=[('Home', 'Reset original view', 'home', 'home'), ('Back', 'Back to previous …"
         },
         "metadata": {},
         "output_type": "display_data"
        }
       ]
      }
     },
     "db635d40195f4f779ebbbc329bd89a2c": {
      "model_module": "@jupyter-widgets/base",
      "model_module_version": "1.2.0",
      "model_name": "LayoutModel",
      "state": {}
     },
     "db66e70e7e3a434e81a045e6b72c6466": {
      "model_module": "@jupyter-widgets/controls",
      "model_module_version": "1.5.0",
      "model_name": "HBoxModel",
      "state": {
       "children": [
        "IPY_MODEL_403faa2944e7488bb5e98a01137dd6e2",
        "IPY_MODEL_a628e81a262048d482b4534a58aa6f58"
       ],
       "layout": "IPY_MODEL_d84793fcaded4c03b34bc0aaf321862a"
      }
     },
     "db783f607e1a40bb842cef74d18a6d73": {
      "model_module": "@jupyter-widgets/base",
      "model_module_version": "1.2.0",
      "model_name": "LayoutModel",
      "state": {}
     },
     "db97d181c4e94f3db3a4df43c852a96d": {
      "model_module": "@jupyter-widgets/controls",
      "model_module_version": "1.5.0",
      "model_name": "IntSliderModel",
      "state": {
       "continuous_update": false,
       "description": "Periods",
       "layout": "IPY_MODEL_f8fa2af96f9d4d9497e2e9b4c146a6ac",
       "max": 50,
       "min": 1,
       "style": "IPY_MODEL_f9415616c543432f9c21b9c9305ac71e",
       "value": 2
      }
     },
     "dba2e76ca56b42518335a0e39ca06619": {
      "model_module": "@jupyter-widgets/controls",
      "model_module_version": "1.5.0",
      "model_name": "SliderStyleModel",
      "state": {
       "description_width": "initial"
      }
     },
     "dba566591e53425298ea01efea9411ea": {
      "model_module": "@jupyter-widgets/base",
      "model_module_version": "1.2.0",
      "model_name": "LayoutModel",
      "state": {}
     },
     "dbb6ce84e0f84deab27421568f59a8bc": {
      "model_module": "@jupyter-widgets/base",
      "model_module_version": "1.2.0",
      "model_name": "LayoutModel",
      "state": {}
     },
     "dbd1a08d87ff4f5c9b6dc6f140dfd0d3": {
      "model_module": "@jupyter-widgets/controls",
      "model_module_version": "1.5.0",
      "model_name": "SliderStyleModel",
      "state": {
       "description_width": "initial"
      }
     },
     "dbec8fae0d8f4359ab1f487a818e1dfb": {
      "model_module": "@jupyter-widgets/controls",
      "model_module_version": "1.5.0",
      "model_name": "IntSliderModel",
      "state": {
       "continuous_update": false,
       "description": "Sampling (Hz)",
       "layout": "IPY_MODEL_c2507558fcbd48e993fffd278794b91b",
       "max": 20,
       "min": 2,
       "step": 2,
       "style": "IPY_MODEL_fc6c209671984562b4f04571764d77bd",
       "value": 4
      }
     },
     "dbf7822857644375aa31e9c8890e4349": {
      "model_module": "@jupyter-widgets/base",
      "model_module_version": "1.2.0",
      "model_name": "LayoutModel",
      "state": {}
     },
     "dc107f2ed06b4d3b88d1950418485e00": {
      "model_module": "@jupyter-widgets/controls",
      "model_module_version": "1.5.0",
      "model_name": "SliderStyleModel",
      "state": {
       "description_width": "initial"
      }
     },
     "dc60c76741c7402486ab637bc3a35691": {
      "model_module": "@jupyter-widgets/controls",
      "model_module_version": "1.5.0",
      "model_name": "VBoxModel",
      "state": {
       "children": [
        "IPY_MODEL_0a5d96347d6f43a59cafbf7c30bc167f",
        "IPY_MODEL_d836e70f3313402897c0a281e336796e",
        "IPY_MODEL_79d5910c4dde4cd092f50cd7997f0054"
       ],
       "layout": "IPY_MODEL_56791a0e5ae040e391ca2ffe9c8dc13b"
      }
     },
     "dc621b09e33f402794137e901463f82f": {
      "model_module": "@jupyter-widgets/controls",
      "model_module_version": "1.5.0",
      "model_name": "SliderStyleModel",
      "state": {
       "description_width": "initial"
      }
     },
     "dc653de116794424adb790110fded78e": {
      "model_module": "@jupyter-widgets/controls",
      "model_module_version": "1.5.0",
      "model_name": "IntSliderModel",
      "state": {
       "description": "0-Padding",
       "layout": "IPY_MODEL_ff18d5d94d554298ad04cd22ecc1dbc7",
       "max": 180,
       "step": 6,
       "style": "IPY_MODEL_3fcf32a715c54954bd6b97dc8175209b"
      }
     },
     "dc68bdb069f742df9865a0ff1d540a48": {
      "model_module": "@jupyter-widgets/output",
      "model_module_version": "1.0.0",
      "model_name": "OutputModel",
      "state": {
       "layout": "IPY_MODEL_e4d1d45b2d9d4b91b8ad65d46111ea1b"
      }
     },
     "dc6976ef4f2340dbb61b5482654eefe9": {
      "model_module": "@jupyter-widgets/controls",
      "model_module_version": "1.5.0",
      "model_name": "SliderStyleModel",
      "state": {
       "description_width": "initial"
      }
     },
     "dc950e5ea92d4e37a68f6a54581918de": {
      "model_module": "@jupyter-widgets/base",
      "model_module_version": "1.2.0",
      "model_name": "LayoutModel",
      "state": {}
     },
     "dc9ae6ed64134919ae7b3af98533da01": {
      "model_module": "@jupyter-widgets/controls",
      "model_module_version": "1.5.0",
      "model_name": "IntSliderModel",
      "state": {
       "continuous_update": false,
       "description": "Sampling (Hz)",
       "layout": "IPY_MODEL_eb5ee3a3f6864eddb8d7681d018cec25",
       "max": 12,
       "min": 2,
       "step": 2,
       "style": "IPY_MODEL_4a89dcd87c4149bcacc0a760ffc3b65d",
       "value": 4
      }
     },
     "dca625ee3f6146bdb2756481c3637d25": {
      "model_module": "@jupyter-widgets/controls",
      "model_module_version": "1.5.0",
      "model_name": "IntSliderModel",
      "state": {
       "continuous_update": false,
       "description": "Sampling (Hz)",
       "layout": "IPY_MODEL_7ed0b476d21848c0961ab6bee465ab83",
       "max": 12,
       "min": 2,
       "step": 2,
       "style": "IPY_MODEL_43d7d16388a34fc9b4cdf37a093cde96",
       "value": 8
      }
     },
     "dcf61239e922483391c3ac67f6460233": {
      "model_module": "@jupyter-widgets/controls",
      "model_module_version": "1.5.0",
      "model_name": "IntSliderModel",
      "state": {
       "continuous_update": false,
       "description": "0-Padding",
       "layout": "IPY_MODEL_2837531a4b9b478e9c0acacc1d393ea8",
       "max": 840,
       "step": 28,
       "style": "IPY_MODEL_d8881ea154a24f718ca9d3e3381e6459"
      }
     },
     "dd15d73ec43648659638652f43364ea0": {
      "model_module": "@jupyter-widgets/controls",
      "model_module_version": "1.5.0",
      "model_name": "VBoxModel",
      "state": {
       "_dom_classes": [
        "widget-interact"
       ],
       "children": [
        "IPY_MODEL_947fd7d019514e59a41ed5cf40690fce",
        "IPY_MODEL_c7f7913ff5e24d6881093231a46babf2",
        "IPY_MODEL_6e5c4a6d1a23465ca9d00b2b2671356c",
        "IPY_MODEL_082a341f080444758dddc0a5a276325f"
       ],
       "layout": "IPY_MODEL_ab77564944ea4091ab2cc2668cf2113e"
      }
     },
     "dd233e2fe9e34fabb1317f13cb0c82e3": {
      "model_module": "@jupyter-widgets/controls",
      "model_module_version": "1.5.0",
      "model_name": "IntSliderModel",
      "state": {
       "continuous_update": false,
       "description": "Periods",
       "layout": "IPY_MODEL_e983735bc7464cd8b1153884c6780d2d",
       "max": 50,
       "min": 1,
       "style": "IPY_MODEL_2e569f31b029401da31403eeea0ef3dd",
       "value": 1
      }
     },
     "dd2f7a5a3f75438fb89071e03670ed13": {
      "model_module": "@jupyter-widgets/base",
      "model_module_version": "1.2.0",
      "model_name": "LayoutModel",
      "state": {}
     },
     "dd47fa0854464264a013d03a6bf54301": {
      "model_module": "jupyter-matplotlib",
      "model_module_version": "^0.7.4",
      "model_name": "ToolbarModel",
      "state": {
       "layout": "IPY_MODEL_19aae1bc4e604269ae1063a54fa9c788",
       "toolitems": [
        [
         "Home",
         "Reset original view",
         "home",
         "home"
        ],
        [
         "Back",
         "Back to previous view",
         "arrow-left",
         "back"
        ],
        [
         "Forward",
         "Forward to next view",
         "arrow-right",
         "forward"
        ],
        [
         "Pan",
         "Left button pans, Right button zooms\nx/y fixes axis, CTRL fixes aspect",
         "arrows",
         "pan"
        ],
        [
         "Zoom",
         "Zoom to rectangle\nx/y fixes axis, CTRL fixes aspect",
         "square-o",
         "zoom"
        ],
        [
         "Download",
         "Download plot",
         "floppy-o",
         "save_figure"
        ]
       ]
      }
     },
     "dd809d3c361d4d92b190c58fd332c796": {
      "model_module": "@jupyter-widgets/base",
      "model_module_version": "1.2.0",
      "model_name": "LayoutModel",
      "state": {}
     },
     "ddba906272ef42b1ac659ca8fcbe79be": {
      "model_module": "@jupyter-widgets/base",
      "model_module_version": "1.2.0",
      "model_name": "LayoutModel",
      "state": {}
     },
     "ddf4e64de9674797a98ccb610d2357dc": {
      "model_module": "@jupyter-widgets/base",
      "model_module_version": "1.2.0",
      "model_name": "LayoutModel",
      "state": {}
     },
     "de31789a73e942a98c0d80712c52d744": {
      "model_module": "@jupyter-widgets/base",
      "model_module_version": "1.2.0",
      "model_name": "LayoutModel",
      "state": {}
     },
     "deb00f336c2541bea1332930e96ee003": {
      "model_module": "@jupyter-widgets/controls",
      "model_module_version": "1.5.0",
      "model_name": "IntSliderModel",
      "state": {
       "continuous_update": false,
       "description": "Sampling (Hz)",
       "layout": "IPY_MODEL_28ebbc188bec4b1c899bde9315cea612",
       "max": 20,
       "min": 2,
       "step": 2,
       "style": "IPY_MODEL_afd9ce24ca664fc48044b1922378d7bb",
       "value": 4
      }
     },
     "deb842c958e644b88647e7b1848547be": {
      "model_module": "@jupyter-widgets/controls",
      "model_module_version": "1.5.0",
      "model_name": "VBoxModel",
      "state": {
       "_dom_classes": [
        "widget-interact"
       ],
       "children": [
        "IPY_MODEL_c759bd6ad4f745adbf3df7b2d5ee4061",
        "IPY_MODEL_7a74140a04724e1caad9e42aac2c81ba",
        "IPY_MODEL_ab154f3eeee845c2adf63209b364750d",
        "IPY_MODEL_f07d47a02bbc4d779ad1fb62e1621d97"
       ],
       "layout": "IPY_MODEL_f65f6842c35e4d18937fd6b78222edb3"
      }
     },
     "dece991a459a4361b9ef832ccb059239": {
      "model_module": "@jupyter-widgets/base",
      "model_module_version": "1.2.0",
      "model_name": "LayoutModel",
      "state": {}
     },
     "deddbafb7e11427cb695eca0807554d5": {
      "model_module": "@jupyter-widgets/base",
      "model_module_version": "1.2.0",
      "model_name": "LayoutModel",
      "state": {}
     },
     "df2beae3cafb4dd58e7a7f785589cc0c": {
      "model_module": "@jupyter-widgets/base",
      "model_module_version": "1.2.0",
      "model_name": "LayoutModel",
      "state": {}
     },
     "df4820c3c7fb452b812088bb0c3b778d": {
      "model_module": "@jupyter-widgets/controls",
      "model_module_version": "1.5.0",
      "model_name": "IntSliderModel",
      "state": {
       "continuous_update": false,
       "description": "0-Padding",
       "layout": "IPY_MODEL_becc668a7e88456c8b40b0510164b8d2",
       "max": 500,
       "style": "IPY_MODEL_937d1bfcd0ec462c92da4bf3b31e9d04"
      }
     },
     "df62e5c0b9454f98a9c2597837dfc230": {
      "model_module": "@jupyter-widgets/base",
      "model_module_version": "1.2.0",
      "model_name": "LayoutModel",
      "state": {}
     },
     "df82da0c575040b8a3411dc58c7b194b": {
      "model_module": "@jupyter-widgets/controls",
      "model_module_version": "1.5.0",
      "model_name": "IntSliderModel",
      "state": {
       "continuous_update": false,
       "description": "0-Padding",
       "layout": "IPY_MODEL_a4ae1573276b4335b4082de540118479",
       "max": 500,
       "style": "IPY_MODEL_c9b07b804952439e8f1761ae881ee63b",
       "value": 318
      }
     },
     "dfa16a48d84149588fc009f5b3538858": {
      "model_module": "@jupyter-widgets/base",
      "model_module_version": "1.2.0",
      "model_name": "LayoutModel",
      "state": {}
     },
     "dfc36ac546264550a2b6eef6e98a8be1": {
      "model_module": "@jupyter-widgets/base",
      "model_module_version": "1.2.0",
      "model_name": "LayoutModel",
      "state": {}
     },
     "dfca0cbc8ff64c898a366bdf8394e0be": {
      "model_module": "@jupyter-widgets/controls",
      "model_module_version": "1.5.0",
      "model_name": "SliderStyleModel",
      "state": {
       "description_width": "initial"
      }
     },
     "dfcde4f9032e49a19fc0b8b767a6ec51": {
      "model_module": "@jupyter-widgets/base",
      "model_module_version": "1.2.0",
      "model_name": "LayoutModel",
      "state": {}
     },
     "dff8c2e6431c45d5ab575e12ca7c25cd": {
      "model_module": "@jupyter-widgets/base",
      "model_module_version": "1.2.0",
      "model_name": "LayoutModel",
      "state": {}
     },
     "e0304e025987476e8d9d889890b0c1bf": {
      "model_module": "@jupyter-widgets/controls",
      "model_module_version": "1.5.0",
      "model_name": "IntSliderModel",
      "state": {
       "continuous_update": false,
       "description": "Sampling (Hz)",
       "layout": "IPY_MODEL_af1723f6b7d84ba0b4d9830972dcfd89",
       "max": 12,
       "min": 2,
       "step": 2,
       "style": "IPY_MODEL_4fa0aac399054b8fb6258b79de435e7b",
       "value": 4
      }
     },
     "e0475ab3d9be437eafe6570875b4ae11": {
      "model_module": "@jupyter-widgets/base",
      "model_module_version": "1.2.0",
      "model_name": "LayoutModel",
      "state": {}
     },
     "e06f94d9ec0f4a0cbb224ebd3e6dfcf0": {
      "model_module": "@jupyter-widgets/controls",
      "model_module_version": "1.5.0",
      "model_name": "IntSliderModel",
      "state": {
       "continuous_update": false,
       "description": "Periods",
       "layout": "IPY_MODEL_536f185925cf4abf92b9f9f5377605c8",
       "max": 50,
       "min": 1,
       "style": "IPY_MODEL_4fb68fca1e384358b748c849f9e2e1a7",
       "value": 2
      }
     },
     "e079c5974fed41e29dd001cb1d341e31": {
      "model_module": "@jupyter-widgets/base",
      "model_module_version": "1.2.0",
      "model_name": "LayoutModel",
      "state": {}
     },
     "e0b5a994abcb4c0b8123cd72727cac06": {
      "model_module": "@jupyter-widgets/base",
      "model_module_version": "1.2.0",
      "model_name": "LayoutModel",
      "state": {}
     },
     "e0bcd5143599405aa919be11f0b71f7a": {
      "model_module": "@jupyter-widgets/base",
      "model_module_version": "1.2.0",
      "model_name": "LayoutModel",
      "state": {}
     },
     "e134346b7f9441dc8470c01e519a2c96": {
      "model_module": "@jupyter-widgets/base",
      "model_module_version": "1.2.0",
      "model_name": "LayoutModel",
      "state": {}
     },
     "e157a60c777d444da5800e82ee7a859a": {
      "model_module": "@jupyter-widgets/controls",
      "model_module_version": "1.5.0",
      "model_name": "SliderStyleModel",
      "state": {
       "description_width": "initial"
      }
     },
     "e158b0cdd564432c91fadf1f0a6ce49e": {
      "model_module": "@jupyter-widgets/controls",
      "model_module_version": "1.5.0",
      "model_name": "IntSliderModel",
      "state": {
       "continuous_update": false,
       "description": "Sampling (Hz)",
       "layout": "IPY_MODEL_076026223de645e08a068ed9dc10bff2",
       "max": 12,
       "min": 2,
       "step": 2,
       "style": "IPY_MODEL_2b79c29a1dd447a39e90af5d7e5fba18",
       "value": 10
      }
     },
     "e15e1f4b37ab4ff5985b04929f2faa7f": {
      "model_module": "@jupyter-widgets/base",
      "model_module_version": "1.2.0",
      "model_name": "LayoutModel",
      "state": {}
     },
     "e166273230364356ba38815b07749e83": {
      "model_module": "@jupyter-widgets/controls",
      "model_module_version": "1.5.0",
      "model_name": "VBoxModel",
      "state": {
       "_dom_classes": [
        "widget-interact"
       ],
       "children": [
        "IPY_MODEL_0dd289c7add74f0daa9b88e11469bd7f",
        "IPY_MODEL_b1c802eb4c864a8eb095779268d36a57",
        "IPY_MODEL_7b23c6871bca4affbffba374601242e8",
        "IPY_MODEL_9a5382a0c9a246d28f0e6aeca6bd343a"
       ],
       "layout": "IPY_MODEL_281ae8634a644834948803005b543a34"
      }
     },
     "e18e2b5761fa42678d5d349699082614": {
      "model_module": "@jupyter-widgets/base",
      "model_module_version": "1.2.0",
      "model_name": "LayoutModel",
      "state": {}
     },
     "e1cbead82cef4d99bb6caa9059bb19c5": {
      "model_module": "@jupyter-widgets/base",
      "model_module_version": "1.2.0",
      "model_name": "LayoutModel",
      "state": {}
     },
     "e1cf21f6f93e4d2e93a1c0380cd38883": {
      "model_module": "@jupyter-widgets/base",
      "model_module_version": "1.2.0",
      "model_name": "LayoutModel",
      "state": {}
     },
     "e1e990d9f8bb4b27b6d04d08a8e912bd": {
      "model_module": "@jupyter-widgets/base",
      "model_module_version": "1.2.0",
      "model_name": "LayoutModel",
      "state": {}
     },
     "e1fd8041840940f5beb04b12248bcd79": {
      "model_module": "@jupyter-widgets/controls",
      "model_module_version": "1.5.0",
      "model_name": "VBoxModel",
      "state": {
       "children": [
        "IPY_MODEL_9c925c4caaf7407aa9ddcef24c253499",
        "IPY_MODEL_80302bf829394c1aa556fe58eb2a6632",
        "IPY_MODEL_e2cb0063466048b6b149dce6044e7fc2"
       ],
       "layout": "IPY_MODEL_71b0c31e963741ed94c6da485d052d8c"
      }
     },
     "e215025046b34f1da94248fd05761fee": {
      "model_module": "@jupyter-widgets/base",
      "model_module_version": "1.2.0",
      "model_name": "LayoutModel",
      "state": {}
     },
     "e219c3ae3e1d40a9958ac72bf33a8702": {
      "model_module": "jupyter-matplotlib",
      "model_module_version": "^0.7.4",
      "model_name": "ToolbarModel",
      "state": {
       "layout": "IPY_MODEL_552daca930404694be976ff9a3a34456",
       "toolitems": [
        [
         "Home",
         "Reset original view",
         "home",
         "home"
        ],
        [
         "Back",
         "Back to previous view",
         "arrow-left",
         "back"
        ],
        [
         "Forward",
         "Forward to next view",
         "arrow-right",
         "forward"
        ],
        [
         "Pan",
         "Left button pans, Right button zooms\nx/y fixes axis, CTRL fixes aspect",
         "arrows",
         "pan"
        ],
        [
         "Zoom",
         "Zoom to rectangle\nx/y fixes axis, CTRL fixes aspect",
         "square-o",
         "zoom"
        ],
        [
         "Download",
         "Download plot",
         "floppy-o",
         "save_figure"
        ]
       ]
      }
     },
     "e2250d0134a946b88ed73cedb1f25142": {
      "model_module": "@jupyter-widgets/base",
      "model_module_version": "1.2.0",
      "model_name": "LayoutModel",
      "state": {}
     },
     "e22561ec9f2a40b1ad855471fc7dbce9": {
      "model_module": "@jupyter-widgets/controls",
      "model_module_version": "1.5.0",
      "model_name": "SliderStyleModel",
      "state": {
       "description_width": "initial"
      }
     },
     "e22d6b5d8a644e248c4c9c917513f081": {
      "model_module": "@jupyter-widgets/controls",
      "model_module_version": "1.5.0",
      "model_name": "SliderStyleModel",
      "state": {
       "description_width": "initial"
      }
     },
     "e24d80fb27264597b3feeed1498a54af": {
      "model_module": "@jupyter-widgets/controls",
      "model_module_version": "1.5.0",
      "model_name": "SliderStyleModel",
      "state": {
       "description_width": "initial"
      }
     },
     "e24f70d3be6b488c9bdfc7ef66377841": {
      "model_module": "jupyter-matplotlib",
      "model_module_version": "^0.7.4",
      "model_name": "ToolbarModel",
      "state": {
       "layout": "IPY_MODEL_661ceb59c3264ce1b4bba3273fb22db1",
       "toolitems": [
        [
         "Home",
         "Reset original view",
         "home",
         "home"
        ],
        [
         "Back",
         "Back to previous view",
         "arrow-left",
         "back"
        ],
        [
         "Forward",
         "Forward to next view",
         "arrow-right",
         "forward"
        ],
        [
         "Pan",
         "Left button pans, Right button zooms\nx/y fixes axis, CTRL fixes aspect",
         "arrows",
         "pan"
        ],
        [
         "Zoom",
         "Zoom to rectangle\nx/y fixes axis, CTRL fixes aspect",
         "square-o",
         "zoom"
        ],
        [
         "Download",
         "Download plot",
         "floppy-o",
         "save_figure"
        ]
       ]
      }
     },
     "e273d938ee74426784e49dcdfc490d63": {
      "model_module": "@jupyter-widgets/output",
      "model_module_version": "1.0.0",
      "model_name": "OutputModel",
      "state": {
       "layout": "IPY_MODEL_c775576ec0f6402eae32defbd56fbfe6"
      }
     },
     "e27771fd387e4236bfab42d4ed7fb23d": {
      "model_module": "@jupyter-widgets/base",
      "model_module_version": "1.2.0",
      "model_name": "LayoutModel",
      "state": {}
     },
     "e28808f508d1405da2ce9adba5aa0199": {
      "model_module": "jupyter-matplotlib",
      "model_module_version": "^0.7.4",
      "model_name": "ToolbarModel",
      "state": {
       "layout": "IPY_MODEL_e9c81a716a4544df8bdc1659193778dc",
       "toolitems": [
        [
         "Home",
         "Reset original view",
         "home",
         "home"
        ],
        [
         "Back",
         "Back to previous view",
         "arrow-left",
         "back"
        ],
        [
         "Forward",
         "Forward to next view",
         "arrow-right",
         "forward"
        ],
        [
         "Pan",
         "Left button pans, Right button zooms\nx/y fixes axis, CTRL fixes aspect",
         "arrows",
         "pan"
        ],
        [
         "Zoom",
         "Zoom to rectangle\nx/y fixes axis, CTRL fixes aspect",
         "square-o",
         "zoom"
        ],
        [
         "Download",
         "Download plot",
         "floppy-o",
         "save_figure"
        ]
       ]
      }
     },
     "e288965efc6c426bb69b1fb3111995a2": {
      "model_module": "@jupyter-widgets/controls",
      "model_module_version": "1.5.0",
      "model_name": "SliderStyleModel",
      "state": {
       "description_width": "initial"
      }
     },
     "e292c39aa4744df791c0bd09f1ed660b": {
      "model_module": "jupyter-matplotlib",
      "model_module_version": "^0.7.4",
      "model_name": "MPLCanvasModel",
      "state": {
       "_cursor": "default",
       "_figure_label": "Figure 1",
       "_height": 479,
       "_image_mode": "diff",
       "_width": 640,
       "header_visible": false,
       "layout": "IPY_MODEL_a4c7ed9d91ea45eea5239e868bd58b4e",
       "toolbar": "IPY_MODEL_9c7a40c710b84895a660d6d693ea5521",
       "toolbar_position": "left"
      }
     },
     "e2997811776f4c1fac143700e91bcb4b": {
      "model_module": "@jupyter-widgets/base",
      "model_module_version": "1.2.0",
      "model_name": "LayoutModel",
      "state": {}
     },
     "e29bfe80ec8d4af3ad5f00e55453ce12": {
      "model_module": "@jupyter-widgets/base",
      "model_module_version": "1.2.0",
      "model_name": "LayoutModel",
      "state": {}
     },
     "e2caef18dcb7463fa1bc2fe28913ac7f": {
      "model_module": "@jupyter-widgets/base",
      "model_module_version": "1.2.0",
      "model_name": "LayoutModel",
      "state": {}
     },
     "e2cb0063466048b6b149dce6044e7fc2": {
      "model_module": "@jupyter-widgets/controls",
      "model_module_version": "1.5.0",
      "model_name": "IntSliderModel",
      "state": {
       "continuous_update": false,
       "description": "0-Padding",
       "layout": "IPY_MODEL_2f14cbfed40444128e45f707b7059530",
       "max": 80,
       "step": 2,
       "style": "IPY_MODEL_e4840ac742b642e3b5ad8f25a4372d47"
      }
     },
     "e2debefc369f4999a013e7dc53a98671": {
      "model_module": "@jupyter-widgets/controls",
      "model_module_version": "1.5.0",
      "model_name": "SliderStyleModel",
      "state": {
       "description_width": "initial"
      }
     },
     "e2eef98eaa8d4d639ff2913a7eacdbbf": {
      "model_module": "@jupyter-widgets/controls",
      "model_module_version": "1.5.0",
      "model_name": "HBoxModel",
      "state": {
       "children": [
        "IPY_MODEL_94ae9ecc151f40ddb4e30ac5584daaee",
        "IPY_MODEL_13aedf1661bd4303ad5c7cb348475521"
       ],
       "layout": "IPY_MODEL_4b3a5663b38440b0be4b300258857913"
      }
     },
     "e31198bfff8640c8927f17399df127c1": {
      "model_module": "@jupyter-widgets/base",
      "model_module_version": "1.2.0",
      "model_name": "LayoutModel",
      "state": {}
     },
     "e316618a5678418ba467ead67ef75031": {
      "model_module": "@jupyter-widgets/controls",
      "model_module_version": "1.5.0",
      "model_name": "IntSliderModel",
      "state": {
       "description": "0-Padding",
       "layout": "IPY_MODEL_79dc596b3ac14ef382eea3b3dfb9c2ce",
       "max": 2400,
       "step": 80,
       "style": "IPY_MODEL_5f935e3a43b949f388dd9f9978f3bc2d"
      }
     },
     "e361057775af48fa848015379a61dc49": {
      "model_module": "@jupyter-widgets/controls",
      "model_module_version": "1.5.0",
      "model_name": "IntSliderModel",
      "state": {
       "continuous_update": false,
       "description": "Sampling (Hz)",
       "layout": "IPY_MODEL_dfcde4f9032e49a19fc0b8b767a6ec51",
       "max": 20,
       "min": 2,
       "step": 2,
       "style": "IPY_MODEL_c4718931a4f9418eb8faa09a4215fd1a",
       "value": 4
      }
     },
     "e3af609852ae4c37854ca723ba428d39": {
      "model_module": "@jupyter-widgets/base",
      "model_module_version": "1.2.0",
      "model_name": "LayoutModel",
      "state": {}
     },
     "e3c7d02f533c40ae8d8cac23cfee4b4b": {
      "model_module": "@jupyter-widgets/controls",
      "model_module_version": "1.5.0",
      "model_name": "IntSliderModel",
      "state": {
       "continuous_update": false,
       "description": "Periods",
       "layout": "IPY_MODEL_50623e9c22f548f78a3b594c7de1485b",
       "max": 50,
       "min": 1,
       "style": "IPY_MODEL_04354570b78843ac96ef808b7b359737",
       "value": 4
      }
     },
     "e4117c60bf9a41d9a49089007b60e161": {
      "model_module": "@jupyter-widgets/base",
      "model_module_version": "1.2.0",
      "model_name": "LayoutModel",
      "state": {}
     },
     "e41a8d644db84dc696233e24fb14780b": {
      "model_module": "@jupyter-widgets/controls",
      "model_module_version": "1.5.0",
      "model_name": "IntSliderModel",
      "state": {
       "continuous_update": false,
       "description": "0-Padding",
       "layout": "IPY_MODEL_1ac0779024ca4c27a990d4baef0f2596",
       "max": 120,
       "step": 4,
       "style": "IPY_MODEL_6dbcc41d72ce4379b259eab992b0d7e5"
      }
     },
     "e433a5155b68453db13c0b65d05968e1": {
      "model_module": "@jupyter-widgets/base",
      "model_module_version": "1.2.0",
      "model_name": "LayoutModel",
      "state": {}
     },
     "e44269f1d4b449598f938f2203af17f8": {
      "model_module": "@jupyter-widgets/controls",
      "model_module_version": "1.5.0",
      "model_name": "HBoxModel",
      "state": {
       "children": [
        "IPY_MODEL_cecaba9394234ddcb222dd09af80608c",
        "IPY_MODEL_768240ca46944efdb6db4ac163f172c5",
        "IPY_MODEL_74035b1c90c34f4a8c5d6d1c75a576d4"
       ],
       "layout": "IPY_MODEL_9dd488d3f3074bbdaf280920f50839f1"
      }
     },
     "e44f9996e91940c09ac9b5bdff09e98d": {
      "model_module": "@jupyter-widgets/controls",
      "model_module_version": "1.5.0",
      "model_name": "VBoxModel",
      "state": {
       "_dom_classes": [
        "widget-interact"
       ],
       "children": [
        "IPY_MODEL_69d8b88c58e241669c06ed23a0c1bc6d",
        "IPY_MODEL_6581d0cb0c59441c83066fe952360a5d",
        "IPY_MODEL_133b3412ba304f618d40e57d413efcb7",
        "IPY_MODEL_4ba2d549f45541a18e48e94daf7c221e"
       ],
       "layout": "IPY_MODEL_0258cc60f92d4ff388d5a3e091e2522a"
      }
     },
     "e470101554ff40c09cdbc1e90c408d6c": {
      "model_module": "@jupyter-widgets/base",
      "model_module_version": "1.2.0",
      "model_name": "LayoutModel",
      "state": {}
     },
     "e4840ac742b642e3b5ad8f25a4372d47": {
      "model_module": "@jupyter-widgets/controls",
      "model_module_version": "1.5.0",
      "model_name": "SliderStyleModel",
      "state": {
       "description_width": "initial"
      }
     },
     "e485b87e062d471b99d1e51f68c93882": {
      "model_module": "@jupyter-widgets/base",
      "model_module_version": "1.2.0",
      "model_name": "LayoutModel",
      "state": {}
     },
     "e4d1d45b2d9d4b91b8ad65d46111ea1b": {
      "model_module": "@jupyter-widgets/base",
      "model_module_version": "1.2.0",
      "model_name": "LayoutModel",
      "state": {}
     },
     "e4f2abc58cf940ea91c0309ed9cd5557": {
      "model_module": "@jupyter-widgets/base",
      "model_module_version": "1.2.0",
      "model_name": "LayoutModel",
      "state": {}
     },
     "e504dc5ce31b45f4b527e864161f4e45": {
      "model_module": "@jupyter-widgets/base",
      "model_module_version": "1.2.0",
      "model_name": "LayoutModel",
      "state": {}
     },
     "e50ae82490f6422a91cd9d98d4352ecf": {
      "model_module": "@jupyter-widgets/base",
      "model_module_version": "1.2.0",
      "model_name": "LayoutModel",
      "state": {
       "flex_flow": "row wrap"
      }
     },
     "e515890fcd5c47d0a3552c09e4de46dd": {
      "model_module": "@jupyter-widgets/controls",
      "model_module_version": "1.5.0",
      "model_name": "SliderStyleModel",
      "state": {
       "description_width": "initial"
      }
     },
     "e51bf5b9d08d493996aa80f338758bb6": {
      "model_module": "@jupyter-widgets/base",
      "model_module_version": "1.2.0",
      "model_name": "LayoutModel",
      "state": {}
     },
     "e527b09c4c4e497c884e091b1fab076a": {
      "model_module": "@jupyter-widgets/base",
      "model_module_version": "1.2.0",
      "model_name": "LayoutModel",
      "state": {}
     },
     "e56b8e6136284c2ead46517c4fecde28": {
      "model_module": "@jupyter-widgets/base",
      "model_module_version": "1.2.0",
      "model_name": "LayoutModel",
      "state": {}
     },
     "e571ac9efdf241ce908425a1f2eca9f4": {
      "model_module": "@jupyter-widgets/controls",
      "model_module_version": "1.5.0",
      "model_name": "IntSliderModel",
      "state": {
       "continuous_update": false,
       "description": "0-Padding",
       "layout": "IPY_MODEL_569c67c4348c45ed81608b96ed7751a9",
       "max": 500,
       "style": "IPY_MODEL_9b96a7659fac4adb954e7bf49aa26e46"
      }
     },
     "e576066eb7534ec19651de8090a80893": {
      "model_module": "@jupyter-widgets/controls",
      "model_module_version": "1.5.0",
      "model_name": "IntSliderModel",
      "state": {
       "continuous_update": false,
       "description": "0-Padding",
       "layout": "IPY_MODEL_df2beae3cafb4dd58e7a7f785589cc0c",
       "max": 500,
       "style": "IPY_MODEL_0e4af99cfb8f42dda2897d977ff191d0"
      }
     },
     "e5998cbcafc341c5aff19bbe05341dcd": {
      "model_module": "@jupyter-widgets/base",
      "model_module_version": "1.2.0",
      "model_name": "LayoutModel",
      "state": {}
     },
     "e5b30c7c735e4c3ebd345ade2ad72e4d": {
      "model_module": "@jupyter-widgets/controls",
      "model_module_version": "1.5.0",
      "model_name": "IntSliderModel",
      "state": {
       "description": "Periods",
       "layout": "IPY_MODEL_8467cfdd2270428884ef45cf9d3ea1e0",
       "max": 50,
       "min": 1,
       "style": "IPY_MODEL_ad9d28dc619f4337b7333be72a22056d",
       "value": 2
      }
     },
     "e5b921e1684d4e809bdbb4b251d1b853": {
      "model_module": "@jupyter-widgets/controls",
      "model_module_version": "1.5.0",
      "model_name": "IntSliderModel",
      "state": {
       "description": "Periods",
       "layout": "IPY_MODEL_5c06bec354604dadaf6ccb9dd3863cc3",
       "max": 50,
       "min": 1,
       "style": "IPY_MODEL_74b9d42b7144476d81a21896d0225a4e",
       "value": 18
      }
     },
     "e5d280a3837d46368f439749c3fe7cae": {
      "model_module": "jupyter-matplotlib",
      "model_module_version": "^0.7.4",
      "model_name": "ToolbarModel",
      "state": {
       "layout": "IPY_MODEL_ead411c4a39f464786e3bad9c8a5a69e",
       "toolitems": [
        [
         "Home",
         "Reset original view",
         "home",
         "home"
        ],
        [
         "Back",
         "Back to previous view",
         "arrow-left",
         "back"
        ],
        [
         "Forward",
         "Forward to next view",
         "arrow-right",
         "forward"
        ],
        [
         "Pan",
         "Left button pans, Right button zooms\nx/y fixes axis, CTRL fixes aspect",
         "arrows",
         "pan"
        ],
        [
         "Zoom",
         "Zoom to rectangle\nx/y fixes axis, CTRL fixes aspect",
         "square-o",
         "zoom"
        ],
        [
         "Download",
         "Download plot",
         "floppy-o",
         "save_figure"
        ]
       ]
      }
     },
     "e5d6b59e6d6643919e9b180f839af94b": {
      "model_module": "@jupyter-widgets/controls",
      "model_module_version": "1.5.0",
      "model_name": "SliderStyleModel",
      "state": {
       "description_width": "initial"
      }
     },
     "e5ed0268129944bc8d86af0247f64ed5": {
      "model_module": "@jupyter-widgets/base",
      "model_module_version": "1.2.0",
      "model_name": "LayoutModel",
      "state": {}
     },
     "e5ff00d78c8a47a59d66d314ad1e63b9": {
      "model_module": "@jupyter-widgets/base",
      "model_module_version": "1.2.0",
      "model_name": "LayoutModel",
      "state": {}
     },
     "e614b1065e004da48c79982260666a18": {
      "model_module": "@jupyter-widgets/base",
      "model_module_version": "1.2.0",
      "model_name": "LayoutModel",
      "state": {}
     },
     "e67e2a285b704c24ab775443373c3f13": {
      "model_module": "@jupyter-widgets/base",
      "model_module_version": "1.2.0",
      "model_name": "LayoutModel",
      "state": {}
     },
     "e6919632119042c29db266bdce590ceb": {
      "model_module": "jupyter-matplotlib",
      "model_module_version": "^0.7.4",
      "model_name": "ToolbarModel",
      "state": {
       "layout": "IPY_MODEL_cd8ab0bd74eb41f1a1a989de2ff6afc0",
       "toolitems": [
        [
         "Home",
         "Reset original view",
         "home",
         "home"
        ],
        [
         "Back",
         "Back to previous view",
         "arrow-left",
         "back"
        ],
        [
         "Forward",
         "Forward to next view",
         "arrow-right",
         "forward"
        ],
        [
         "Pan",
         "Left button pans, Right button zooms\nx/y fixes axis, CTRL fixes aspect",
         "arrows",
         "pan"
        ],
        [
         "Zoom",
         "Zoom to rectangle\nx/y fixes axis, CTRL fixes aspect",
         "square-o",
         "zoom"
        ],
        [
         "Download",
         "Download plot",
         "floppy-o",
         "save_figure"
        ]
       ]
      }
     },
     "e6f0bad1f5154d4f8675c6867d711bcf": {
      "model_module": "@jupyter-widgets/base",
      "model_module_version": "1.2.0",
      "model_name": "LayoutModel",
      "state": {}
     },
     "e6f7c3d6e3f34899837a004b55dc38eb": {
      "model_module": "@jupyter-widgets/base",
      "model_module_version": "1.2.0",
      "model_name": "LayoutModel",
      "state": {}
     },
     "e6f9ee87915e48fb93b1ccc64f9e9e18": {
      "model_module": "@jupyter-widgets/base",
      "model_module_version": "1.2.0",
      "model_name": "LayoutModel",
      "state": {}
     },
     "e7055fb9470643528ce8f8dfc448f45e": {
      "model_module": "@jupyter-widgets/base",
      "model_module_version": "1.2.0",
      "model_name": "LayoutModel",
      "state": {}
     },
     "e70f25b3203a413691b55c9616a0a60f": {
      "model_module": "@jupyter-widgets/base",
      "model_module_version": "1.2.0",
      "model_name": "LayoutModel",
      "state": {}
     },
     "e7303aef26cf4619aa068d012a857368": {
      "model_module": "@jupyter-widgets/base",
      "model_module_version": "1.2.0",
      "model_name": "LayoutModel",
      "state": {}
     },
     "e737402f84d341deaf29bc6b9685e1bb": {
      "model_module": "@jupyter-widgets/output",
      "model_module_version": "1.0.0",
      "model_name": "OutputModel",
      "state": {
       "layout": "IPY_MODEL_1d58c8b84c0940dab64e2c0bda23f026",
       "outputs": [
        {
         "data": {
          "application/vnd.jupyter.widget-view+json": {
           "model_id": "f91b5fcd0222462dbc75820819acd1ac",
           "version_major": 2,
           "version_minor": 0
          },
          "text/plain": "Canvas(toolbar=Toolbar(toolitems=[('Home', 'Reset original view', 'home', 'home'), ('Back', 'Back to previous …"
         },
         "metadata": {},
         "output_type": "display_data"
        }
       ]
      }
     },
     "e76571db87ab43ebbd984576830b7f2d": {
      "model_module": "@jupyter-widgets/controls",
      "model_module_version": "1.5.0",
      "model_name": "VBoxModel",
      "state": {
       "_dom_classes": [
        "widget-interact"
       ],
       "children": [
        "IPY_MODEL_bbeb2dc264e74b8f85234fc166da5f2b",
        "IPY_MODEL_6eadcdac02fa458aba7298bffdaa513e",
        "IPY_MODEL_8ad21104cf824586801a46509dfd0ec3",
        "IPY_MODEL_5ee4964f61b640db89f4a74b4f484ccd"
       ],
       "layout": "IPY_MODEL_e7c696e44977481b88a9a9aae765a1bf"
      }
     },
     "e769e3f3faee4e08a28d4003a19ee6a7": {
      "model_module": "@jupyter-widgets/base",
      "model_module_version": "1.2.0",
      "model_name": "LayoutModel",
      "state": {}
     },
     "e7703bbe82194f64bd218aa7b94a5405": {
      "model_module": "@jupyter-widgets/controls",
      "model_module_version": "1.5.0",
      "model_name": "IntSliderModel",
      "state": {
       "continuous_update": false,
       "description": "Sampling (Hz)",
       "layout": "IPY_MODEL_d8586a5fb55b40f6b7716f653c249ba8",
       "max": 20,
       "min": 2,
       "step": 2,
       "style": "IPY_MODEL_c15c88280a5f40f49d58663c971960fa",
       "value": 4
      }
     },
     "e77378d0bcf549bf9e2c24ebd3959964": {
      "model_module": "@jupyter-widgets/base",
      "model_module_version": "1.2.0",
      "model_name": "LayoutModel",
      "state": {}
     },
     "e79834366f8741509ef8471445b94322": {
      "model_module": "@jupyter-widgets/controls",
      "model_module_version": "1.5.0",
      "model_name": "SliderStyleModel",
      "state": {
       "description_width": "initial"
      }
     },
     "e7b0dac9fa7d4e27914d508cc352ab73": {
      "model_module": "jupyter-matplotlib",
      "model_module_version": "^0.7.4",
      "model_name": "ToolbarModel",
      "state": {
       "layout": "IPY_MODEL_2eed60f6ed6446c2855ba07829e1910b",
       "toolitems": [
        [
         "Home",
         "Reset original view",
         "home",
         "home"
        ],
        [
         "Back",
         "Back to previous view",
         "arrow-left",
         "back"
        ],
        [
         "Forward",
         "Forward to next view",
         "arrow-right",
         "forward"
        ],
        [
         "Pan",
         "Left button pans, Right button zooms\nx/y fixes axis, CTRL fixes aspect",
         "arrows",
         "pan"
        ],
        [
         "Zoom",
         "Zoom to rectangle\nx/y fixes axis, CTRL fixes aspect",
         "square-o",
         "zoom"
        ],
        [
         "Download",
         "Download plot",
         "floppy-o",
         "save_figure"
        ]
       ]
      }
     },
     "e7c696e44977481b88a9a9aae765a1bf": {
      "model_module": "@jupyter-widgets/base",
      "model_module_version": "1.2.0",
      "model_name": "LayoutModel",
      "state": {}
     },
     "e7c990233d6a4c23b5e521c21ce695f7": {
      "model_module": "@jupyter-widgets/base",
      "model_module_version": "1.2.0",
      "model_name": "LayoutModel",
      "state": {}
     },
     "e851bc1fff364610b8745d2c34debcd8": {
      "model_module": "@jupyter-widgets/output",
      "model_module_version": "1.0.0",
      "model_name": "OutputModel",
      "state": {
       "layout": "IPY_MODEL_d0fa957ff7dd4284b0ad2b93be5e4e48"
      }
     },
     "e85b39f2164a4d16884a5c20a78df4d5": {
      "model_module": "@jupyter-widgets/output",
      "model_module_version": "1.0.0",
      "model_name": "OutputModel",
      "state": {
       "layout": "IPY_MODEL_00862ee89c89413c9f9266ace5c7ea12",
       "outputs": [
        {
         "ename": "TypeError",
         "evalue": "'Text' object is not callable",
         "output_type": "error",
         "traceback": [
          "\u001b[1;31m---------------------------------------------------------------------------\u001b[0m",
          "\u001b[1;31mTypeError\u001b[0m                                 Traceback (most recent call last)",
          "\u001b[1;32mE:\\Software\\Anaconda3\\lib\\site-packages\\ipywidgets\\widgets\\interaction.py\u001b[0m in \u001b[0;36mupdate\u001b[1;34m(self, *args)\u001b[0m\n\u001b[0;32m    254\u001b[0m                     \u001b[0mvalue\u001b[0m \u001b[1;33m=\u001b[0m \u001b[0mwidget\u001b[0m\u001b[1;33m.\u001b[0m\u001b[0mget_interact_value\u001b[0m\u001b[1;33m(\u001b[0m\u001b[1;33m)\u001b[0m\u001b[1;33m\u001b[0m\u001b[1;33m\u001b[0m\u001b[0m\n\u001b[0;32m    255\u001b[0m                     \u001b[0mself\u001b[0m\u001b[1;33m.\u001b[0m\u001b[0mkwargs\u001b[0m\u001b[1;33m[\u001b[0m\u001b[0mwidget\u001b[0m\u001b[1;33m.\u001b[0m\u001b[0m_kwarg\u001b[0m\u001b[1;33m]\u001b[0m \u001b[1;33m=\u001b[0m \u001b[0mvalue\u001b[0m\u001b[1;33m\u001b[0m\u001b[1;33m\u001b[0m\u001b[0m\n\u001b[1;32m--> 256\u001b[1;33m                 \u001b[0mself\u001b[0m\u001b[1;33m.\u001b[0m\u001b[0mresult\u001b[0m \u001b[1;33m=\u001b[0m \u001b[0mself\u001b[0m\u001b[1;33m.\u001b[0m\u001b[0mf\u001b[0m\u001b[1;33m(\u001b[0m\u001b[1;33m**\u001b[0m\u001b[0mself\u001b[0m\u001b[1;33m.\u001b[0m\u001b[0mkwargs\u001b[0m\u001b[1;33m)\u001b[0m\u001b[1;33m\u001b[0m\u001b[1;33m\u001b[0m\u001b[0m\n\u001b[0m\u001b[0;32m    257\u001b[0m                 \u001b[0mshow_inline_matplotlib_plots\u001b[0m\u001b[1;33m(\u001b[0m\u001b[1;33m)\u001b[0m\u001b[1;33m\u001b[0m\u001b[1;33m\u001b[0m\u001b[0m\n\u001b[0;32m    258\u001b[0m                 \u001b[1;32mif\u001b[0m \u001b[0mself\u001b[0m\u001b[1;33m.\u001b[0m\u001b[0mauto_display\u001b[0m \u001b[1;32mand\u001b[0m \u001b[0mself\u001b[0m\u001b[1;33m.\u001b[0m\u001b[0mresult\u001b[0m \u001b[1;32mis\u001b[0m \u001b[1;32mnot\u001b[0m \u001b[1;32mNone\u001b[0m\u001b[1;33m:\u001b[0m\u001b[1;33m\u001b[0m\u001b[1;33m\u001b[0m\u001b[0m\n",
          "\u001b[1;32m<ipython-input-5-026d6c99b518>\u001b[0m in \u001b[0;36mdisplayDFT\u001b[1;34m(numberOfPeriods, samplesPerPeriod, zeroPadding)\u001b[0m\n\u001b[0;32m     60\u001b[0m     \u001b[1;31m# Signal\u001b[0m\u001b[1;33m\u001b[0m\u001b[1;33m\u001b[0m\u001b[1;33m\u001b[0m\u001b[0m\n\u001b[0;32m     61\u001b[0m     \u001b[0max1\u001b[0m\u001b[1;33m.\u001b[0m\u001b[0mplot\u001b[0m\u001b[1;33m(\u001b[0m\u001b[0mt\u001b[0m\u001b[1;33m,\u001b[0m \u001b[0msignal\u001b[0m\u001b[1;33m)\u001b[0m\u001b[1;33m\u001b[0m\u001b[1;33m\u001b[0m\u001b[0m\n\u001b[1;32m---> 62\u001b[1;33m     \u001b[0max1\u001b[0m\u001b[1;33m.\u001b[0m\u001b[0mtitle\u001b[0m\u001b[1;33m(\u001b[0m\u001b[1;34m'Signal'\u001b[0m\u001b[1;33m)\u001b[0m\u001b[1;33m\u001b[0m\u001b[1;33m\u001b[0m\u001b[0m\n\u001b[0m\u001b[0;32m     63\u001b[0m     \u001b[0max1\u001b[0m\u001b[1;33m.\u001b[0m\u001b[0mxlabel\u001b[0m\u001b[1;33m(\u001b[0m\u001b[1;34m't (s)'\u001b[0m\u001b[1;33m)\u001b[0m\u001b[1;33m\u001b[0m\u001b[1;33m\u001b[0m\u001b[0m\n\u001b[0;32m     64\u001b[0m \u001b[1;33m\u001b[0m\u001b[0m\n",
          "\u001b[1;31mTypeError\u001b[0m: 'Text' object is not callable"
         ]
        }
       ]
      }
     },
     "e86b4d933bda43399d3ec8e081d58745": {
      "model_module": "@jupyter-widgets/base",
      "model_module_version": "1.2.0",
      "model_name": "LayoutModel",
      "state": {}
     },
     "e86d1398e50a49d58f22e4f550eb000b": {
      "model_module": "@jupyter-widgets/controls",
      "model_module_version": "1.5.0",
      "model_name": "IntSliderModel",
      "state": {
       "continuous_update": false,
       "description": "0-Padding",
       "layout": "IPY_MODEL_60ecd7f64f6a4b3081f4fb0c8ceffc7a",
       "max": 500,
       "style": "IPY_MODEL_feb46e6080444663ae254fa6935e6aa9"
      }
     },
     "e8737d8a76fd4541b75911d6fdf51c56": {
      "model_module": "@jupyter-widgets/controls",
      "model_module_version": "1.5.0",
      "model_name": "SliderStyleModel",
      "state": {
       "description_width": "initial"
      }
     },
     "e8c66ab7740d41afbdc9c77889cae7d6": {
      "model_module": "@jupyter-widgets/base",
      "model_module_version": "1.2.0",
      "model_name": "LayoutModel",
      "state": {}
     },
     "e8c909b216bc42ff8bf7b2ecb62a2a75": {
      "model_module": "@jupyter-widgets/base",
      "model_module_version": "1.2.0",
      "model_name": "LayoutModel",
      "state": {}
     },
     "e8ced5ea02fd4ac09c8b51b872d94893": {
      "model_module": "@jupyter-widgets/controls",
      "model_module_version": "1.5.0",
      "model_name": "VBoxModel",
      "state": {
       "_dom_classes": [
        "widget-interact"
       ],
       "children": [
        "IPY_MODEL_fe7d8610d7fd441f9158f04afec50423",
        "IPY_MODEL_4b417fdbfee14c12b5bf08b87ce686e0",
        "IPY_MODEL_c79c777d12fe4a93b565061f32e62463",
        "IPY_MODEL_31c33a6bbc824d3282bc0b46ad0ad029"
       ],
       "layout": "IPY_MODEL_6aaca62500bf4f84b886064dde878c0e"
      }
     },
     "e910b1c5f5f241c2b716c0c67129bf97": {
      "model_module": "@jupyter-widgets/base",
      "model_module_version": "1.2.0",
      "model_name": "LayoutModel",
      "state": {}
     },
     "e952c570850640309e0e7d7baa279ab1": {
      "model_module": "@jupyter-widgets/controls",
      "model_module_version": "1.5.0",
      "model_name": "IntSliderModel",
      "state": {
       "continuous_update": false,
       "description": "0-Padding",
       "layout": "IPY_MODEL_d0e841549d9b432e891b58c1dc08c492",
       "max": 500,
       "style": "IPY_MODEL_ac1f22f8e781499e828b0ed0584cbb09"
      }
     },
     "e97201eba2cb4471bc664673b7e20f4a": {
      "model_module": "@jupyter-widgets/controls",
      "model_module_version": "1.5.0",
      "model_name": "VBoxModel",
      "state": {
       "_dom_classes": [
        "widget-interact"
       ],
       "children": [
        "IPY_MODEL_30e0319a1a404edba19e24165ca8c206",
        "IPY_MODEL_48dc7d7c5a7f4f9d8b683f5eaa8f7414",
        "IPY_MODEL_bb7ca09adedc4136a98eba016c9989c8",
        "IPY_MODEL_377351407e3b459aa364caf2b888cd27"
       ],
       "layout": "IPY_MODEL_c5ebe1a7c588457f9bbae3581bc4f562"
      }
     },
     "e983735bc7464cd8b1153884c6780d2d": {
      "model_module": "@jupyter-widgets/base",
      "model_module_version": "1.2.0",
      "model_name": "LayoutModel",
      "state": {}
     },
     "e99a26f5a2644aa6a2b6873ac727e1f7": {
      "model_module": "@jupyter-widgets/output",
      "model_module_version": "1.0.0",
      "model_name": "OutputModel",
      "state": {
       "layout": "IPY_MODEL_818644e142274b3cbff047cea778c4e9"
      }
     },
     "e99b6e97e2924523ade9499c798dbca2": {
      "model_module": "@jupyter-widgets/base",
      "model_module_version": "1.2.0",
      "model_name": "LayoutModel",
      "state": {}
     },
     "e9b23766243b4b80868a9bc064d29283": {
      "model_module": "@jupyter-widgets/controls",
      "model_module_version": "1.5.0",
      "model_name": "IntSliderModel",
      "state": {
       "continuous_update": false,
       "description": "Sampling (Hz)",
       "layout": "IPY_MODEL_fc147286c96244ce947213a5ae4ba148",
       "max": 20,
       "min": 2,
       "step": 2,
       "style": "IPY_MODEL_7b67df3609034682aa9ef7e200cd8557",
       "value": 12
      }
     },
     "e9c81a716a4544df8bdc1659193778dc": {
      "model_module": "@jupyter-widgets/base",
      "model_module_version": "1.2.0",
      "model_name": "LayoutModel",
      "state": {}
     },
     "e9d0ada5d6e74067b876be03825ecfea": {
      "model_module": "@jupyter-widgets/base",
      "model_module_version": "1.2.0",
      "model_name": "LayoutModel",
      "state": {}
     },
     "ea12334eb57a4bab84a73c969b8d7f8a": {
      "model_module": "@jupyter-widgets/base",
      "model_module_version": "1.2.0",
      "model_name": "LayoutModel",
      "state": {}
     },
     "ea3fece15e5e4b00b7857558c5c449ee": {
      "model_module": "@jupyter-widgets/base",
      "model_module_version": "1.2.0",
      "model_name": "LayoutModel",
      "state": {}
     },
     "ea6ad2dde399464fb85e09c500fe1cb7": {
      "model_module": "@jupyter-widgets/controls",
      "model_module_version": "1.5.0",
      "model_name": "SliderStyleModel",
      "state": {
       "description_width": "initial"
      }
     },
     "ead411c4a39f464786e3bad9c8a5a69e": {
      "model_module": "@jupyter-widgets/base",
      "model_module_version": "1.2.0",
      "model_name": "LayoutModel",
      "state": {}
     },
     "eadb06b190a84884bb04587f9e4e4484": {
      "model_module": "@jupyter-widgets/base",
      "model_module_version": "1.2.0",
      "model_name": "LayoutModel",
      "state": {}
     },
     "eb44569e0d6a44b69c6400cd2d64d52a": {
      "model_module": "@jupyter-widgets/base",
      "model_module_version": "1.2.0",
      "model_name": "LayoutModel",
      "state": {}
     },
     "eb4f47174545441aaa0c9b770ccbed6f": {
      "model_module": "@jupyter-widgets/base",
      "model_module_version": "1.2.0",
      "model_name": "LayoutModel",
      "state": {}
     },
     "eb4f7a21acb145dbb0aa092af5c20bb1": {
      "model_module": "@jupyter-widgets/base",
      "model_module_version": "1.2.0",
      "model_name": "LayoutModel",
      "state": {}
     },
     "eb57c5e6e6bf46bd9c0a2d6a515abb88": {
      "model_module": "@jupyter-widgets/base",
      "model_module_version": "1.2.0",
      "model_name": "LayoutModel",
      "state": {}
     },
     "eb5ee3a3f6864eddb8d7681d018cec25": {
      "model_module": "@jupyter-widgets/base",
      "model_module_version": "1.2.0",
      "model_name": "LayoutModel",
      "state": {}
     },
     "eb62a05c6339461f8c4782639d2266a6": {
      "model_module": "@jupyter-widgets/output",
      "model_module_version": "1.0.0",
      "model_name": "OutputModel",
      "state": {
       "layout": "IPY_MODEL_8c857628b58f438eaeb2b59b361ff37b",
       "outputs": [
        {
         "data": {
          "application/vnd.jupyter.widget-view+json": {
           "model_id": "ba3329a76e934239a7fcb40dc85049af",
           "version_major": 2,
           "version_minor": 0
          },
          "text/plain": "Canvas(toolbar=Toolbar(toolitems=[('Home', 'Reset original view', 'home', 'home'), ('Back', 'Back to previous …"
         },
         "metadata": {},
         "output_type": "display_data"
        }
       ]
      }
     },
     "eb655486be19423a87f173b6b41722a3": {
      "model_module": "@jupyter-widgets/base",
      "model_module_version": "1.2.0",
      "model_name": "LayoutModel",
      "state": {}
     },
     "eb714303e982479cb6e7232729fe2882": {
      "model_module": "@jupyter-widgets/base",
      "model_module_version": "1.2.0",
      "model_name": "LayoutModel",
      "state": {}
     },
     "ebade1cfd1b441a3b748154cb9a14f80": {
      "model_module": "@jupyter-widgets/base",
      "model_module_version": "1.2.0",
      "model_name": "LayoutModel",
      "state": {}
     },
     "ebb47674d2954884809f29c3a3ca7c54": {
      "model_module": "jupyter-matplotlib",
      "model_module_version": "^0.7.4",
      "model_name": "ToolbarModel",
      "state": {
       "layout": "IPY_MODEL_1d287dfd188949f59617a4104bdef7f7",
       "toolitems": [
        [
         "Home",
         "Reset original view",
         "home",
         "home"
        ],
        [
         "Back",
         "Back to previous view",
         "arrow-left",
         "back"
        ],
        [
         "Forward",
         "Forward to next view",
         "arrow-right",
         "forward"
        ],
        [
         "Pan",
         "Left button pans, Right button zooms\nx/y fixes axis, CTRL fixes aspect",
         "arrows",
         "pan"
        ],
        [
         "Zoom",
         "Zoom to rectangle\nx/y fixes axis, CTRL fixes aspect",
         "square-o",
         "zoom"
        ],
        [
         "Download",
         "Download plot",
         "floppy-o",
         "save_figure"
        ]
       ]
      }
     },
     "ebb4f4efe1f04f33b83938faba4f435f": {
      "model_module": "@jupyter-widgets/base",
      "model_module_version": "1.2.0",
      "model_name": "LayoutModel",
      "state": {
       "flex_flow": "row wrap"
      }
     },
     "ebbad18a07ea4ed19394d5ff88c71ef9": {
      "model_module": "@jupyter-widgets/output",
      "model_module_version": "1.0.0",
      "model_name": "OutputModel",
      "state": {
       "layout": "IPY_MODEL_3bdd885b269048a99cdca451938e0ea7"
      }
     },
     "ebc1118b62844ce79fa0e8dfc3708efb": {
      "model_module": "@jupyter-widgets/controls",
      "model_module_version": "1.5.0",
      "model_name": "IntSliderModel",
      "state": {
       "continuous_update": false,
       "description": "Periods",
       "layout": "IPY_MODEL_ad5f9d960d9f4d7bb446b0b11bf6fda8",
       "max": 50,
       "min": 1,
       "style": "IPY_MODEL_b748ca21850d4cfea12189d7edec47e3",
       "value": 2
      }
     },
     "ebce83a856c7495e86d0d8963d5dd089": {
      "model_module": "@jupyter-widgets/controls",
      "model_module_version": "1.5.0",
      "model_name": "IntSliderModel",
      "state": {
       "description": "Sampling (Hz)",
       "layout": "IPY_MODEL_0190e51c66374459932896747ce0e7b0",
       "max": 12,
       "min": 2,
       "step": 2,
       "style": "IPY_MODEL_a17b807709744761a5ec35ff46b97e28",
       "value": 4
      }
     },
     "ec2c1672e8254dfaac40ae460f59ad88": {
      "model_module": "@jupyter-widgets/controls",
      "model_module_version": "1.5.0",
      "model_name": "VBoxModel",
      "state": {
       "children": [
        "IPY_MODEL_23a3febecabe4e72bd8c98e2910fa340",
        "IPY_MODEL_e0304e025987476e8d9d889890b0c1bf",
        "IPY_MODEL_3ace9d59b0b640e19f69096bd7b26b53"
       ],
       "layout": "IPY_MODEL_ce6315a722b543e59391031f30608edd"
      }
     },
     "ec4798cecffb4153ae9ac46c95e5423b": {
      "model_module": "@jupyter-widgets/base",
      "model_module_version": "1.2.0",
      "model_name": "LayoutModel",
      "state": {}
     },
     "ec623f371b6b456ba80b7e319f95ba0c": {
      "model_module": "@jupyter-widgets/controls",
      "model_module_version": "1.5.0",
      "model_name": "SliderStyleModel",
      "state": {
       "description_width": "initial"
      }
     },
     "ec9e7882e7464e3b9426f643e845291d": {
      "model_module": "@jupyter-widgets/base",
      "model_module_version": "1.2.0",
      "model_name": "LayoutModel",
      "state": {}
     },
     "eccf123792284cca98e6e72cdee50700": {
      "model_module": "@jupyter-widgets/base",
      "model_module_version": "1.2.0",
      "model_name": "LayoutModel",
      "state": {}
     },
     "ecd1ac765fff4b8e906fcf26b8a4389a": {
      "model_module": "@jupyter-widgets/controls",
      "model_module_version": "1.5.0",
      "model_name": "IntSliderModel",
      "state": {
       "description": "Sampling (Hz)",
       "layout": "IPY_MODEL_6014333391e04f888961c6b3bc4ada89",
       "max": 12,
       "min": 2,
       "step": 2,
       "style": "IPY_MODEL_5a3b61dc320b4d3fa5a25e09cb86aab5",
       "value": 4
      }
     },
     "ecde1de44b1e45ffb9ab6bba394db5db": {
      "model_module": "@jupyter-widgets/base",
      "model_module_version": "1.2.0",
      "model_name": "LayoutModel",
      "state": {}
     },
     "ed0055f07b504240863c5a543fb121f3": {
      "model_module": "@jupyter-widgets/base",
      "model_module_version": "1.2.0",
      "model_name": "LayoutModel",
      "state": {}
     },
     "ed3b192f2c0940989086d4018ebfe23c": {
      "model_module": "@jupyter-widgets/base",
      "model_module_version": "1.2.0",
      "model_name": "LayoutModel",
      "state": {}
     },
     "ed3f0bfe747b4affa8e4eedcfc966a7e": {
      "model_module": "jupyter-matplotlib",
      "model_module_version": "^0.7.4",
      "model_name": "ToolbarModel",
      "state": {
       "layout": "IPY_MODEL_c4327ed62c3e43428a6f1fdef1084663",
       "toolitems": [
        [
         "Home",
         "Reset original view",
         "home",
         "home"
        ],
        [
         "Back",
         "Back to previous view",
         "arrow-left",
         "back"
        ],
        [
         "Forward",
         "Forward to next view",
         "arrow-right",
         "forward"
        ],
        [
         "Pan",
         "Left button pans, Right button zooms\nx/y fixes axis, CTRL fixes aspect",
         "arrows",
         "pan"
        ],
        [
         "Zoom",
         "Zoom to rectangle\nx/y fixes axis, CTRL fixes aspect",
         "square-o",
         "zoom"
        ],
        [
         "Download",
         "Download plot",
         "floppy-o",
         "save_figure"
        ]
       ]
      }
     },
     "ed41c5a2754d4be48001cb8ef26bdee5": {
      "model_module": "@jupyter-widgets/base",
      "model_module_version": "1.2.0",
      "model_name": "LayoutModel",
      "state": {}
     },
     "ed436dcd57924c9a929422977ad76df4": {
      "model_module": "@jupyter-widgets/base",
      "model_module_version": "1.2.0",
      "model_name": "LayoutModel",
      "state": {}
     },
     "ed4473b10c6c41c1bd8555fa9c9e98f8": {
      "model_module": "@jupyter-widgets/base",
      "model_module_version": "1.2.0",
      "model_name": "LayoutModel",
      "state": {}
     },
     "ed4ba8d2067c4b49a0037c732139c95c": {
      "model_module": "@jupyter-widgets/base",
      "model_module_version": "1.2.0",
      "model_name": "LayoutModel",
      "state": {}
     },
     "ed4cc62229254a2e8171b6fbd2c15ae3": {
      "model_module": "jupyter-matplotlib",
      "model_module_version": "^0.7.4",
      "model_name": "ToolbarModel",
      "state": {
       "_current_action": "pan",
       "layout": "IPY_MODEL_c4486f28c0d94259ab0e97742d1fba98",
       "toolitems": [
        [
         "Home",
         "Reset original view",
         "home",
         "home"
        ],
        [
         "Back",
         "Back to previous view",
         "arrow-left",
         "back"
        ],
        [
         "Forward",
         "Forward to next view",
         "arrow-right",
         "forward"
        ],
        [
         "Pan",
         "Left button pans, Right button zooms\nx/y fixes axis, CTRL fixes aspect",
         "arrows",
         "pan"
        ],
        [
         "Zoom",
         "Zoom to rectangle\nx/y fixes axis, CTRL fixes aspect",
         "square-o",
         "zoom"
        ],
        [
         "Download",
         "Download plot",
         "floppy-o",
         "save_figure"
        ]
       ]
      }
     },
     "ed4eb1c2feb4421688749ba62afd7554": {
      "model_module": "@jupyter-widgets/base",
      "model_module_version": "1.2.0",
      "model_name": "LayoutModel",
      "state": {}
     },
     "ed6dd70d730e443486b87afe3031416a": {
      "model_module": "@jupyter-widgets/controls",
      "model_module_version": "1.5.0",
      "model_name": "SliderStyleModel",
      "state": {
       "description_width": "initial"
      }
     },
     "ed7a6bd8b08445b787ba149e9998821c": {
      "model_module": "@jupyter-widgets/controls",
      "model_module_version": "1.5.0",
      "model_name": "SliderStyleModel",
      "state": {
       "description_width": "initial"
      }
     },
     "ed7d33f8016a4935b9ced1ee142e9279": {
      "model_module": "@jupyter-widgets/base",
      "model_module_version": "1.2.0",
      "model_name": "LayoutModel",
      "state": {}
     },
     "ed85db57e55841dc92184e8dd57cebcb": {
      "model_module": "@jupyter-widgets/controls",
      "model_module_version": "1.5.0",
      "model_name": "SliderStyleModel",
      "state": {
       "description_width": "initial"
      }
     },
     "ed9231e8179e47e3b0f7f0723554a0e5": {
      "model_module": "@jupyter-widgets/base",
      "model_module_version": "1.2.0",
      "model_name": "LayoutModel",
      "state": {}
     },
     "edd2d00575f2483890b0e79c80a16e97": {
      "model_module": "@jupyter-widgets/base",
      "model_module_version": "1.2.0",
      "model_name": "LayoutModel",
      "state": {
       "flex_flow": "row wrap"
      }
     },
     "edd9c89d56984f66a8fb88ed6a414a99": {
      "model_module": "@jupyter-widgets/output",
      "model_module_version": "1.0.0",
      "model_name": "OutputModel",
      "state": {
       "layout": "IPY_MODEL_9976de4f33cf46fcad9e30a1aa7fe4d4"
      }
     },
     "ede2d4420b0041d7b00f4aebfacdd4d5": {
      "model_module": "@jupyter-widgets/controls",
      "model_module_version": "1.5.0",
      "model_name": "IntSliderModel",
      "state": {
       "continuous_update": false,
       "description": "0-Padding",
       "layout": "IPY_MODEL_19a5ff1865574d6cbf3ba7ea8c8d7447",
       "max": 500,
       "style": "IPY_MODEL_3de20aa65e524fedb938197915b54394"
      }
     },
     "edf2965f167a42bab748afbf8d1e9dbb": {
      "model_module": "@jupyter-widgets/base",
      "model_module_version": "1.2.0",
      "model_name": "LayoutModel",
      "state": {
       "flex_flow": "row wrap"
      }
     },
     "edfc6adff6a04b1d8fdce0a98c11dfb5": {
      "model_module": "@jupyter-widgets/base",
      "model_module_version": "1.2.0",
      "model_name": "LayoutModel",
      "state": {}
     },
     "ee2ac4efd048415f9993ff92b4d49301": {
      "model_module": "@jupyter-widgets/controls",
      "model_module_version": "1.5.0",
      "model_name": "IntSliderModel",
      "state": {
       "continuous_update": false,
       "description": "Periods",
       "layout": "IPY_MODEL_56f57da8663c4a6abb3520297188e59e",
       "max": 50,
       "min": 1,
       "style": "IPY_MODEL_3615ba1eb234403aa213c32964fd0db3",
       "value": 2
      }
     },
     "ee3f8063d64e4d218f2870165b155c11": {
      "model_module": "@jupyter-widgets/base",
      "model_module_version": "1.2.0",
      "model_name": "LayoutModel",
      "state": {}
     },
     "ee4b6abd5ba64fa28390686fac91421a": {
      "model_module": "@jupyter-widgets/controls",
      "model_module_version": "1.5.0",
      "model_name": "SliderStyleModel",
      "state": {
       "description_width": "initial"
      }
     },
     "ee4c1804de134c1cb6c4c47a7d336dac": {
      "model_module": "jupyter-matplotlib",
      "model_module_version": "^0.7.4",
      "model_name": "ToolbarModel",
      "state": {
       "layout": "IPY_MODEL_ca599124cf3043e2bf58888728f2ed3e",
       "toolitems": [
        [
         "Home",
         "Reset original view",
         "home",
         "home"
        ],
        [
         "Back",
         "Back to previous view",
         "arrow-left",
         "back"
        ],
        [
         "Forward",
         "Forward to next view",
         "arrow-right",
         "forward"
        ],
        [
         "Pan",
         "Left button pans, Right button zooms\nx/y fixes axis, CTRL fixes aspect",
         "arrows",
         "pan"
        ],
        [
         "Zoom",
         "Zoom to rectangle\nx/y fixes axis, CTRL fixes aspect",
         "square-o",
         "zoom"
        ],
        [
         "Download",
         "Download plot",
         "floppy-o",
         "save_figure"
        ]
       ]
      }
     },
     "ee4c3611847545ceb27bd451fe8fe70a": {
      "model_module": "@jupyter-widgets/base",
      "model_module_version": "1.2.0",
      "model_name": "LayoutModel",
      "state": {}
     },
     "ee55b4689d4a47f48599b3f837763456": {
      "model_module": "@jupyter-widgets/base",
      "model_module_version": "1.2.0",
      "model_name": "LayoutModel",
      "state": {}
     },
     "ee56b361d0e345b689080cbbfe057c1d": {
      "model_module": "@jupyter-widgets/base",
      "model_module_version": "1.2.0",
      "model_name": "LayoutModel",
      "state": {}
     },
     "ee5b53db16da453d8d5004940c5e74e9": {
      "model_module": "@jupyter-widgets/controls",
      "model_module_version": "1.5.0",
      "model_name": "IntSliderModel",
      "state": {
       "continuous_update": false,
       "description": "Periods",
       "layout": "IPY_MODEL_08daf4ac1ff54f0da8c202621da37d97",
       "max": 50,
       "min": 1,
       "style": "IPY_MODEL_a6693a22b95b4c75b2715db62564ee04",
       "value": 22
      }
     },
     "ee7a1131528141ed89276883f4dfeb49": {
      "model_module": "@jupyter-widgets/base",
      "model_module_version": "1.2.0",
      "model_name": "LayoutModel",
      "state": {
       "flex_flow": "column wrap"
      }
     },
     "ee9b62ff97074eae96fdd6004228330a": {
      "model_module": "@jupyter-widgets/output",
      "model_module_version": "1.0.0",
      "model_name": "OutputModel",
      "state": {
       "layout": "IPY_MODEL_8d6be070db1b4f399d6532523145c1a7"
      }
     },
     "eea332e865944189b5465aa208c501ad": {
      "model_module": "@jupyter-widgets/base",
      "model_module_version": "1.2.0",
      "model_name": "LayoutModel",
      "state": {}
     },
     "eeb12a2e687843208c20e56cf37532ef": {
      "model_module": "@jupyter-widgets/base",
      "model_module_version": "1.2.0",
      "model_name": "LayoutModel",
      "state": {}
     },
     "eedb249f2a114c33b0f9bdf0f89b1abe": {
      "model_module": "@jupyter-widgets/base",
      "model_module_version": "1.2.0",
      "model_name": "LayoutModel",
      "state": {}
     },
     "eef69486c14647cc9e0e2f39e100f7bb": {
      "model_module": "@jupyter-widgets/controls",
      "model_module_version": "1.5.0",
      "model_name": "VBoxModel",
      "state": {
       "_dom_classes": [
        "widget-interact"
       ],
       "children": [
        "IPY_MODEL_91fd35ba6627491f953820b2300a51c0",
        "IPY_MODEL_586b8216bb054f7cb92726437d6ed08b",
        "IPY_MODEL_55996d0405e84f2b90a4622425bc8943",
        "IPY_MODEL_2392cc9517794f4890afad1dfdf6a302"
       ],
       "layout": "IPY_MODEL_cea3e710ef504fc490574927588be84f"
      }
     },
     "eefdd9e79faf4d7080d426981bcb85ec": {
      "model_module": "@jupyter-widgets/base",
      "model_module_version": "1.2.0",
      "model_name": "LayoutModel",
      "state": {}
     },
     "ef17b0fac013438296405b156df7df38": {
      "model_module": "@jupyter-widgets/output",
      "model_module_version": "1.0.0",
      "model_name": "OutputModel",
      "state": {
       "layout": "IPY_MODEL_24b6cf4658984e749a93346b0cdf3860",
       "outputs": [
        {
         "data": {
          "application/vnd.jupyter.widget-view+json": {
           "model_id": "f414158796114002bb6a331f5d172c1d",
           "version_major": 2,
           "version_minor": 0
          },
          "text/plain": "Canvas(toolbar=Toolbar(toolitems=[('Home', 'Reset original view', 'home', 'home'), ('Back', 'Back to previous …"
         },
         "metadata": {},
         "output_type": "display_data"
        }
       ]
      }
     },
     "ef1f37a8311f4f6688c39d36d8bb6b13": {
      "model_module": "@jupyter-widgets/base",
      "model_module_version": "1.2.0",
      "model_name": "LayoutModel",
      "state": {}
     },
     "ef48f8a686034d9e8b4e1d35bee4b3aa": {
      "model_module": "@jupyter-widgets/base",
      "model_module_version": "1.2.0",
      "model_name": "LayoutModel",
      "state": {}
     },
     "ef4b074f18454f369f72ccc5c9b6208c": {
      "model_module": "@jupyter-widgets/controls",
      "model_module_version": "1.5.0",
      "model_name": "IntSliderModel",
      "state": {
       "description": "Periods",
       "layout": "IPY_MODEL_6ea9177dca1b42f39196b81f859ca873",
       "max": 50,
       "min": 1,
       "style": "IPY_MODEL_3d086273cf5d4d978b179ee6f19e2a10",
       "value": 4
      }
     },
     "ef61fd9274f84553b632c33433661b78": {
      "model_module": "@jupyter-widgets/controls",
      "model_module_version": "1.5.0",
      "model_name": "SliderStyleModel",
      "state": {
       "description_width": "initial"
      }
     },
     "ef7f44f5f4014ffca2bd27b963fa92fd": {
      "model_module": "@jupyter-widgets/base",
      "model_module_version": "1.2.0",
      "model_name": "LayoutModel",
      "state": {}
     },
     "ef941b452f3a46cda17788d2482864e8": {
      "model_module": "@jupyter-widgets/base",
      "model_module_version": "1.2.0",
      "model_name": "LayoutModel",
      "state": {}
     },
     "efae0e9734df4d9eb365d4af49398b96": {
      "model_module": "@jupyter-widgets/controls",
      "model_module_version": "1.5.0",
      "model_name": "SliderStyleModel",
      "state": {
       "description_width": "initial"
      }
     },
     "efbbd28badb544acb94859bf5bebc923": {
      "model_module": "@jupyter-widgets/controls",
      "model_module_version": "1.5.0",
      "model_name": "SliderStyleModel",
      "state": {
       "description_width": "initial"
      }
     },
     "efc662bcc9c342b5b1dd819ea552e877": {
      "model_module": "@jupyter-widgets/base",
      "model_module_version": "1.2.0",
      "model_name": "LayoutModel",
      "state": {}
     },
     "efe02bb379d846e18aff95441605a98a": {
      "model_module": "@jupyter-widgets/output",
      "model_module_version": "1.0.0",
      "model_name": "OutputModel",
      "state": {
       "layout": "IPY_MODEL_3293b5b7f6a74ffabc057f9284521323"
      }
     },
     "eff7b6860e774d4babbcb0c5d66049ff": {
      "model_module": "@jupyter-widgets/base",
      "model_module_version": "1.2.0",
      "model_name": "LayoutModel",
      "state": {}
     },
     "f03f9265e5ca44669ee897e57eeed020": {
      "model_module": "@jupyter-widgets/controls",
      "model_module_version": "1.5.0",
      "model_name": "IntSliderModel",
      "state": {
       "continuous_update": false,
       "description": "Sampling (Hz)",
       "layout": "IPY_MODEL_81e724b2500f4aa6808cb23f22eed93f",
       "max": 20,
       "min": 2,
       "step": 2,
       "style": "IPY_MODEL_979d1b9d074b4f60a0053258a4dcda73",
       "value": 4
      }
     },
     "f055697b667c44a0ae7ed6a047d73a2d": {
      "model_module": "@jupyter-widgets/controls",
      "model_module_version": "1.5.0",
      "model_name": "SliderStyleModel",
      "state": {
       "description_width": "initial"
      }
     },
     "f0723377af034a9097418733251ee796": {
      "model_module": "@jupyter-widgets/base",
      "model_module_version": "1.2.0",
      "model_name": "LayoutModel",
      "state": {}
     },
     "f079a899ff764a588cf6d28fe3a63bc0": {
      "model_module": "@jupyter-widgets/output",
      "model_module_version": "1.0.0",
      "model_name": "OutputModel",
      "state": {
       "layout": "IPY_MODEL_94da799e39cc4967ae97eb89aa8d6633"
      }
     },
     "f07d47a02bbc4d779ad1fb62e1621d97": {
      "model_module": "@jupyter-widgets/output",
      "model_module_version": "1.0.0",
      "model_name": "OutputModel",
      "state": {
       "layout": "IPY_MODEL_d785958650fd4e0a90d9ecc5917d94c2"
      }
     },
     "f0816a64439c44cc9132ef14b48c2ac6": {
      "model_module": "@jupyter-widgets/controls",
      "model_module_version": "1.5.0",
      "model_name": "SliderStyleModel",
      "state": {
       "description_width": "initial"
      }
     },
     "f08c42f9474d4dc5bc2d3870d41544f8": {
      "model_module": "@jupyter-widgets/base",
      "model_module_version": "1.2.0",
      "model_name": "LayoutModel",
      "state": {}
     },
     "f08c8efc4ec94d9ab69a7af52d60b741": {
      "model_module": "@jupyter-widgets/base",
      "model_module_version": "1.2.0",
      "model_name": "LayoutModel",
      "state": {}
     },
     "f0e63f1172b0449b8ed31af600cc05a7": {
      "model_module": "@jupyter-widgets/controls",
      "model_module_version": "1.5.0",
      "model_name": "SliderStyleModel",
      "state": {
       "description_width": "initial"
      }
     },
     "f0ff3306522d4200a6930515abe51369": {
      "model_module": "@jupyter-widgets/controls",
      "model_module_version": "1.5.0",
      "model_name": "VBoxModel",
      "state": {
       "_dom_classes": [
        "widget-interact"
       ],
       "children": [
        "IPY_MODEL_fb739def388b4a9aa475cc0dbbc5cbbe",
        "IPY_MODEL_02583b5ba97f412287e72f9a2352e693",
        "IPY_MODEL_ca65e5f342f24a9e8c1d626b0787a21d",
        "IPY_MODEL_24933e7e992c4c939fe1850a67138eab"
       ],
       "layout": "IPY_MODEL_7a9119ec176c4a2881e3ad0d1d8fb66f"
      }
     },
     "f1099fb1c5ae4258af3dbc8ce6380448": {
      "model_module": "@jupyter-widgets/controls",
      "model_module_version": "1.5.0",
      "model_name": "SliderStyleModel",
      "state": {
       "description_width": "initial"
      }
     },
     "f128f16fdc7c47c7ad48c25d2e9c03a0": {
      "model_module": "@jupyter-widgets/base",
      "model_module_version": "1.2.0",
      "model_name": "LayoutModel",
      "state": {
       "flex_flow": "row wrap"
      }
     },
     "f12c5cfe08f3496c91442692522e1089": {
      "model_module": "@jupyter-widgets/base",
      "model_module_version": "1.2.0",
      "model_name": "LayoutModel",
      "state": {}
     },
     "f12c817e975a453982ff2d2db15128c7": {
      "model_module": "@jupyter-widgets/base",
      "model_module_version": "1.2.0",
      "model_name": "LayoutModel",
      "state": {}
     },
     "f13226d742da4cb19864cb6a26fa5478": {
      "model_module": "@jupyter-widgets/controls",
      "model_module_version": "1.5.0",
      "model_name": "SliderStyleModel",
      "state": {
       "description_width": "initial"
      }
     },
     "f14e38023972418aa7eb94b8b40ab564": {
      "model_module": "@jupyter-widgets/base",
      "model_module_version": "1.2.0",
      "model_name": "LayoutModel",
      "state": {}
     },
     "f152758821b54a4bba4e771b8371cda5": {
      "model_module": "@jupyter-widgets/base",
      "model_module_version": "1.2.0",
      "model_name": "LayoutModel",
      "state": {}
     },
     "f170e6b32d0541ebb6894490ca222caa": {
      "model_module": "@jupyter-widgets/output",
      "model_module_version": "1.0.0",
      "model_name": "OutputModel",
      "state": {
       "layout": "IPY_MODEL_23713090123b43deb60f0f75a13616e0"
      }
     },
     "f19d5eb933c547a49ac3c76fc33546a5": {
      "model_module": "@jupyter-widgets/controls",
      "model_module_version": "1.5.0",
      "model_name": "IntSliderModel",
      "state": {
       "continuous_update": false,
       "description": "Sampling (Hz)",
       "layout": "IPY_MODEL_eb4f7a21acb145dbb0aa092af5c20bb1",
       "max": 20,
       "min": 2,
       "step": 2,
       "style": "IPY_MODEL_fb60be8e7a374067a6b9b0bd81c23368",
       "value": 12
      }
     },
     "f1a6f5403b7a44faab261b531fabcef7": {
      "model_module": "@jupyter-widgets/base",
      "model_module_version": "1.2.0",
      "model_name": "LayoutModel",
      "state": {}
     },
     "f1abcb3a747d45da99ec1b73340e5b8b": {
      "model_module": "@jupyter-widgets/controls",
      "model_module_version": "1.5.0",
      "model_name": "SliderStyleModel",
      "state": {
       "description_width": "initial"
      }
     },
     "f1dee05a045040b798d42b8c974fbf16": {
      "model_module": "@jupyter-widgets/base",
      "model_module_version": "1.2.0",
      "model_name": "LayoutModel",
      "state": {}
     },
     "f20b4d01ea5b418780c8a400987fb14a": {
      "model_module": "@jupyter-widgets/base",
      "model_module_version": "1.2.0",
      "model_name": "LayoutModel",
      "state": {}
     },
     "f22113eaab64485aa60c8bba2463e60d": {
      "model_module": "@jupyter-widgets/controls",
      "model_module_version": "1.5.0",
      "model_name": "IntSliderModel",
      "state": {
       "continuous_update": false,
       "description": "Sampling (Hz)",
       "layout": "IPY_MODEL_3639d97b4b784edda97d650595b93069",
       "max": 20,
       "min": 2,
       "step": 2,
       "style": "IPY_MODEL_32e4259b1b7c4b92b953c3f6213f67cf",
       "value": 12
      }
     },
     "f2374f97d28b4826985a825cf9004d1e": {
      "model_module": "@jupyter-widgets/controls",
      "model_module_version": "1.5.0",
      "model_name": "SliderStyleModel",
      "state": {
       "description_width": "initial"
      }
     },
     "f26acdc2210b45f8929c9cef212524b0": {
      "model_module": "@jupyter-widgets/output",
      "model_module_version": "1.0.0",
      "model_name": "OutputModel",
      "state": {
       "layout": "IPY_MODEL_801e1b8173454965955ce13222f78a6e",
       "outputs": [
        {
         "ename": "TypeError",
         "evalue": "'Text' object is not callable",
         "output_type": "error",
         "traceback": [
          "\u001b[1;31m---------------------------------------------------------------------------\u001b[0m",
          "\u001b[1;31mTypeError\u001b[0m                                 Traceback (most recent call last)",
          "\u001b[1;32mE:\\Software\\Anaconda3\\lib\\site-packages\\ipywidgets\\widgets\\interaction.py\u001b[0m in \u001b[0;36mupdate\u001b[1;34m(self, *args)\u001b[0m\n\u001b[0;32m    254\u001b[0m                     \u001b[0mvalue\u001b[0m \u001b[1;33m=\u001b[0m \u001b[0mwidget\u001b[0m\u001b[1;33m.\u001b[0m\u001b[0mget_interact_value\u001b[0m\u001b[1;33m(\u001b[0m\u001b[1;33m)\u001b[0m\u001b[1;33m\u001b[0m\u001b[1;33m\u001b[0m\u001b[0m\n\u001b[0;32m    255\u001b[0m                     \u001b[0mself\u001b[0m\u001b[1;33m.\u001b[0m\u001b[0mkwargs\u001b[0m\u001b[1;33m[\u001b[0m\u001b[0mwidget\u001b[0m\u001b[1;33m.\u001b[0m\u001b[0m_kwarg\u001b[0m\u001b[1;33m]\u001b[0m \u001b[1;33m=\u001b[0m \u001b[0mvalue\u001b[0m\u001b[1;33m\u001b[0m\u001b[1;33m\u001b[0m\u001b[0m\n\u001b[1;32m--> 256\u001b[1;33m                 \u001b[0mself\u001b[0m\u001b[1;33m.\u001b[0m\u001b[0mresult\u001b[0m \u001b[1;33m=\u001b[0m \u001b[0mself\u001b[0m\u001b[1;33m.\u001b[0m\u001b[0mf\u001b[0m\u001b[1;33m(\u001b[0m\u001b[1;33m**\u001b[0m\u001b[0mself\u001b[0m\u001b[1;33m.\u001b[0m\u001b[0mkwargs\u001b[0m\u001b[1;33m)\u001b[0m\u001b[1;33m\u001b[0m\u001b[1;33m\u001b[0m\u001b[0m\n\u001b[0m\u001b[0;32m    257\u001b[0m                 \u001b[0mshow_inline_matplotlib_plots\u001b[0m\u001b[1;33m(\u001b[0m\u001b[1;33m)\u001b[0m\u001b[1;33m\u001b[0m\u001b[1;33m\u001b[0m\u001b[0m\n\u001b[0;32m    258\u001b[0m                 \u001b[1;32mif\u001b[0m \u001b[0mself\u001b[0m\u001b[1;33m.\u001b[0m\u001b[0mauto_display\u001b[0m \u001b[1;32mand\u001b[0m \u001b[0mself\u001b[0m\u001b[1;33m.\u001b[0m\u001b[0mresult\u001b[0m \u001b[1;32mis\u001b[0m \u001b[1;32mnot\u001b[0m \u001b[1;32mNone\u001b[0m\u001b[1;33m:\u001b[0m\u001b[1;33m\u001b[0m\u001b[1;33m\u001b[0m\u001b[0m\n",
          "\u001b[1;32m<ipython-input-8-0da1f704d50b>\u001b[0m in \u001b[0;36mdisplayDFT\u001b[1;34m(numberOfPeriods, samplesPerPeriod, zeroPadding)\u001b[0m\n\u001b[0;32m     65\u001b[0m     \u001b[1;31m# DFT\u001b[0m\u001b[1;33m\u001b[0m\u001b[1;33m\u001b[0m\u001b[1;33m\u001b[0m\u001b[0m\n\u001b[0;32m     66\u001b[0m     \u001b[0max2\u001b[0m\u001b[1;33m.\u001b[0m\u001b[0mplot\u001b[0m\u001b[1;33m(\u001b[0m\u001b[0mf\u001b[0m\u001b[1;33m,\u001b[0m \u001b[0mnp\u001b[0m\u001b[1;33m.\u001b[0m\u001b[0mconcatenate\u001b[0m\u001b[1;33m(\u001b[0m\u001b[1;33m[\u001b[0m\u001b[1;33m(\u001b[0m\u001b[0mnormalizedMagnitudeDFT\u001b[0m\u001b[1;33m)\u001b[0m\u001b[1;33m[\u001b[0m\u001b[0mint\u001b[0m\u001b[1;33m(\u001b[0m\u001b[1;33m(\u001b[0m\u001b[0mN\u001b[0m\u001b[1;33m/\u001b[0m\u001b[1;36m2\u001b[0m\u001b[1;33m)\u001b[0m\u001b[1;33m)\u001b[0m\u001b[1;33m+\u001b[0m\u001b[1;36m1\u001b[0m\u001b[1;33m:\u001b[0m\u001b[0mN\u001b[0m\u001b[1;33m]\u001b[0m\u001b[1;33m,\u001b[0m\u001b[1;33m(\u001b[0m\u001b[0mnormalizedMagnitudeDFT\u001b[0m\u001b[1;33m)\u001b[0m\u001b[1;33m[\u001b[0m\u001b[1;36m0\u001b[0m\u001b[1;33m:\u001b[0m\u001b[0mint\u001b[0m\u001b[1;33m(\u001b[0m\u001b[1;33m(\u001b[0m\u001b[0mN\u001b[0m\u001b[1;33m/\u001b[0m\u001b[1;36m2\u001b[0m\u001b[1;33m)\u001b[0m\u001b[1;33m)\u001b[0m\u001b[1;33m+\u001b[0m\u001b[1;36m1\u001b[0m\u001b[1;33m]\u001b[0m\u001b[1;33m]\u001b[0m\u001b[1;33m)\u001b[0m\u001b[1;33m)\u001b[0m\u001b[1;33m\u001b[0m\u001b[1;33m\u001b[0m\u001b[0m\n\u001b[1;32m---> 67\u001b[1;33m     \u001b[0max2\u001b[0m\u001b[1;33m.\u001b[0m\u001b[0mtitle\u001b[0m\u001b[1;33m(\u001b[0m\u001b[1;34m'DFT'\u001b[0m\u001b[1;33m)\u001b[0m\u001b[1;33m\u001b[0m\u001b[1;33m\u001b[0m\u001b[0m\n\u001b[0m\u001b[0;32m     68\u001b[0m     \u001b[0max2\u001b[0m\u001b[1;33m.\u001b[0m\u001b[0mxlabel\u001b[0m\u001b[1;33m(\u001b[0m\u001b[1;34m'f (Hz)'\u001b[0m\u001b[1;33m)\u001b[0m\u001b[1;33m\u001b[0m\u001b[1;33m\u001b[0m\u001b[0m\n\u001b[0;32m     69\u001b[0m \u001b[1;33m\u001b[0m\u001b[0m\n",
          "\u001b[1;31mTypeError\u001b[0m: 'Text' object is not callable"
         ]
        }
       ]
      }
     },
     "f2b2cc9f294a48feafebd07a114e356c": {
      "model_module": "@jupyter-widgets/controls",
      "model_module_version": "1.5.0",
      "model_name": "SliderStyleModel",
      "state": {
       "description_width": "initial"
      }
     },
     "f3068b028b9c40b39a1fcd9783796cf2": {
      "model_module": "@jupyter-widgets/controls",
      "model_module_version": "1.5.0",
      "model_name": "IntSliderModel",
      "state": {
       "description": "Periods",
       "layout": "IPY_MODEL_69a9a5c29b794e07a0af85431ef816e3",
       "max": 50,
       "min": 1,
       "style": "IPY_MODEL_0403012e9d21462999478f4ae670e520",
       "value": 3
      }
     },
     "f3202719e0234a5d9510a03745c72077": {
      "model_module": "jupyter-matplotlib",
      "model_module_version": "^0.7.4",
      "model_name": "ToolbarModel",
      "state": {
       "layout": "IPY_MODEL_0fe5a9b4ef2d4e0a822303692d4716f2",
       "toolitems": [
        [
         "Home",
         "Reset original view",
         "home",
         "home"
        ],
        [
         "Back",
         "Back to previous view",
         "arrow-left",
         "back"
        ],
        [
         "Forward",
         "Forward to next view",
         "arrow-right",
         "forward"
        ],
        [
         "Pan",
         "Left button pans, Right button zooms\nx/y fixes axis, CTRL fixes aspect",
         "arrows",
         "pan"
        ],
        [
         "Zoom",
         "Zoom to rectangle\nx/y fixes axis, CTRL fixes aspect",
         "square-o",
         "zoom"
        ],
        [
         "Download",
         "Download plot",
         "floppy-o",
         "save_figure"
        ]
       ]
      }
     },
     "f35443a80dc84e3f848538c8f328e84a": {
      "model_module": "@jupyter-widgets/controls",
      "model_module_version": "1.5.0",
      "model_name": "SliderStyleModel",
      "state": {
       "description_width": "initial"
      }
     },
     "f38c9c0379bc42cfb9a2ce9f6086a0e6": {
      "model_module": "@jupyter-widgets/controls",
      "model_module_version": "1.5.0",
      "model_name": "HBoxModel",
      "state": {
       "children": [
        "IPY_MODEL_11fff34b7f03426984e13bfda8f4930c",
        "IPY_MODEL_0758050ee84d4815b07fb0ef6bddaa12"
       ],
       "layout": "IPY_MODEL_d6dc49616c314f75ba0abbdc20906cef"
      }
     },
     "f3c94691345e4b08bb0fe8d95c3a239e": {
      "model_module": "@jupyter-widgets/controls",
      "model_module_version": "1.5.0",
      "model_name": "IntSliderModel",
      "state": {
       "continuous_update": false,
       "description": "0-Padding",
       "layout": "IPY_MODEL_f12c817e975a453982ff2d2db15128c7",
       "max": 500,
       "style": "IPY_MODEL_3c7d8cfda0ca489d8be5ee769c348c3f"
      }
     },
     "f411c4222ced4bfca81d991b341038ff": {
      "model_module": "@jupyter-widgets/controls",
      "model_module_version": "1.5.0",
      "model_name": "VBoxModel",
      "state": {
       "_dom_classes": [
        "widget-interact"
       ],
       "children": [
        "IPY_MODEL_aa7db81e3aed46758d180c0e6ad2d81f",
        "IPY_MODEL_6703a33218334e50b2790253a2d897aa",
        "IPY_MODEL_9f2ab2c962544b2fb54c51ecf419dbe9",
        "IPY_MODEL_aa8b0c7c668346fca5fc7a7f89191eca"
       ],
       "layout": "IPY_MODEL_97c15602592a414f937271682716d582"
      }
     },
     "f4140f44e3274fea9b5afc43fc7da54b": {
      "model_module": "@jupyter-widgets/controls",
      "model_module_version": "1.5.0",
      "model_name": "SliderStyleModel",
      "state": {
       "description_width": "initial"
      }
     },
     "f416ab2d05414538957ce89b79eecbaf": {
      "model_module": "@jupyter-widgets/controls",
      "model_module_version": "1.5.0",
      "model_name": "SliderStyleModel",
      "state": {
       "description_width": "initial"
      }
     },
     "f418a5eaac644ad49139372b48227dd6": {
      "model_module": "@jupyter-widgets/controls",
      "model_module_version": "1.5.0",
      "model_name": "SliderStyleModel",
      "state": {
       "description_width": "initial"
      }
     },
     "f4234439e93a431b9b4e1d60742c31a3": {
      "model_module": "@jupyter-widgets/base",
      "model_module_version": "1.2.0",
      "model_name": "LayoutModel",
      "state": {}
     },
     "f4316b9c6cfe4719bd2faa0004edc3ee": {
      "model_module": "@jupyter-widgets/controls",
      "model_module_version": "1.5.0",
      "model_name": "IntSliderModel",
      "state": {
       "continuous_update": false,
       "description": "Periods",
       "layout": "IPY_MODEL_b4e5b8572d2f443a8d7cbf18f7c22a3a",
       "max": 50,
       "min": 1,
       "style": "IPY_MODEL_a7fbd05fe9e04225a44fbe9f1008fde2",
       "value": 2
      }
     },
     "f433b9692c9247aca54a84a7c478098a": {
      "model_module": "@jupyter-widgets/base",
      "model_module_version": "1.2.0",
      "model_name": "LayoutModel",
      "state": {}
     },
     "f45ae1e41a7b46628d66b5def7abc711": {
      "model_module": "@jupyter-widgets/base",
      "model_module_version": "1.2.0",
      "model_name": "LayoutModel",
      "state": {}
     },
     "f45c3035f81c47f1b7f131f261593a5c": {
      "model_module": "@jupyter-widgets/base",
      "model_module_version": "1.2.0",
      "model_name": "LayoutModel",
      "state": {}
     },
     "f46831012d9c434887b4f9e46fa4df5f": {
      "model_module": "@jupyter-widgets/controls",
      "model_module_version": "1.5.0",
      "model_name": "SliderStyleModel",
      "state": {
       "description_width": "initial"
      }
     },
     "f46a828f46ca4d1283faa5e52fcde5cd": {
      "model_module": "@jupyter-widgets/base",
      "model_module_version": "1.2.0",
      "model_name": "LayoutModel",
      "state": {}
     },
     "f4ab969c69834edb96ec5c2c443a5656": {
      "model_module": "@jupyter-widgets/base",
      "model_module_version": "1.2.0",
      "model_name": "LayoutModel",
      "state": {}
     },
     "f4b8f248c97744a3916170f2b7081aa5": {
      "model_module": "@jupyter-widgets/controls",
      "model_module_version": "1.5.0",
      "model_name": "SliderStyleModel",
      "state": {
       "description_width": "initial"
      }
     },
     "f4cb6c2c7d174ad7aa0eea20d1f1a117": {
      "model_module": "@jupyter-widgets/base",
      "model_module_version": "1.2.0",
      "model_name": "LayoutModel",
      "state": {}
     },
     "f4fb6f52efcd4d449bb7c56106884e71": {
      "model_module": "@jupyter-widgets/controls",
      "model_module_version": "1.5.0",
      "model_name": "IntSliderModel",
      "state": {
       "description": "Periods",
       "layout": "IPY_MODEL_2807fd563a6949cca512d11397b13c8a",
       "max": 50,
       "min": 1,
       "style": "IPY_MODEL_6d8d4b3d1b8042978142173926a8220d",
       "value": 19
      }
     },
     "f53eff7a22b3454380be6f546e05acf9": {
      "model_module": "@jupyter-widgets/controls",
      "model_module_version": "1.5.0",
      "model_name": "VBoxModel",
      "state": {
       "_dom_classes": [
        "widget-interact"
       ],
       "children": [
        "IPY_MODEL_ca65057dae00483fa1a71e1a1cb6a4a5",
        "IPY_MODEL_4c9bdf292e0d445083e604dbc1feb415",
        "IPY_MODEL_9aaac5901f3d4f21922f94fe32cbce84",
        "IPY_MODEL_5719e64015a642918df45a9738501782"
       ],
       "layout": "IPY_MODEL_6bb54660e6d248a3bb346ca56410cee0"
      }
     },
     "f5440c39c7e5467b8e5016cd7d05d66e": {
      "model_module": "@jupyter-widgets/controls",
      "model_module_version": "1.5.0",
      "model_name": "IntSliderModel",
      "state": {
       "continuous_update": false,
       "description": "Sampling (Hz)",
       "layout": "IPY_MODEL_25e143cbe51f416bb0556d60dbfd5971",
       "max": 12,
       "min": 2,
       "step": 2,
       "style": "IPY_MODEL_d5e73a806c754b3082cfa7f0dc18612a",
       "value": 4
      }
     },
     "f554076571a0493580ca19ce825bf7fb": {
      "model_module": "@jupyter-widgets/base",
      "model_module_version": "1.2.0",
      "model_name": "LayoutModel",
      "state": {}
     },
     "f5542719dd494bacaa0ed836f4722091": {
      "model_module": "@jupyter-widgets/controls",
      "model_module_version": "1.5.0",
      "model_name": "SliderStyleModel",
      "state": {
       "description_width": "initial"
      }
     },
     "f5626dbb25424b1e8215c21567ba419c": {
      "model_module": "@jupyter-widgets/controls",
      "model_module_version": "1.5.0",
      "model_name": "VBoxModel",
      "state": {
       "children": [
        "IPY_MODEL_a484e3dd20e14f72aaf3e61a097f9def",
        "IPY_MODEL_26054f8c17a245afb466276507107536",
        "IPY_MODEL_cc0b3861abb74d968f6bbf4d0bf4b989"
       ],
       "layout": "IPY_MODEL_fe971bd0b2c4448b9cb1d278892252dc"
      }
     },
     "f59950d49a5f473096df8360848f28ee": {
      "model_module": "@jupyter-widgets/base",
      "model_module_version": "1.2.0",
      "model_name": "LayoutModel",
      "state": {}
     },
     "f5bf914608f84cb5aee9df4ad673d6ab": {
      "model_module": "@jupyter-widgets/controls",
      "model_module_version": "1.5.0",
      "model_name": "SliderStyleModel",
      "state": {
       "description_width": "initial"
      }
     },
     "f5c4a2bd5d7845ada37e722c05ed8601": {
      "model_module": "@jupyter-widgets/controls",
      "model_module_version": "1.5.0",
      "model_name": "VBoxModel",
      "state": {
       "_dom_classes": [
        "widget-interact"
       ],
       "children": [
        "IPY_MODEL_50a6b4bcb10c4a5cbedf373abfb42ec3",
        "IPY_MODEL_961f6d94c42c400c9d82a66ed75bd5da",
        "IPY_MODEL_9e5e7616cade4d339087c3dd19540569",
        "IPY_MODEL_891e700b65884cbe93b473bf9feedfb1"
       ],
       "layout": "IPY_MODEL_3564ef6e51744649a68bb191af04f69f"
      }
     },
     "f5c5d03f23af4483b2c4e10b05c3ea8f": {
      "model_module": "jupyter-matplotlib",
      "model_module_version": "^0.7.4",
      "model_name": "ToolbarModel",
      "state": {
       "layout": "IPY_MODEL_6d96bb242a09496cbbbfc51933a2e622",
       "toolitems": [
        [
         "Home",
         "Reset original view",
         "home",
         "home"
        ],
        [
         "Back",
         "Back to previous view",
         "arrow-left",
         "back"
        ],
        [
         "Forward",
         "Forward to next view",
         "arrow-right",
         "forward"
        ],
        [
         "Pan",
         "Left button pans, Right button zooms\nx/y fixes axis, CTRL fixes aspect",
         "arrows",
         "pan"
        ],
        [
         "Zoom",
         "Zoom to rectangle\nx/y fixes axis, CTRL fixes aspect",
         "square-o",
         "zoom"
        ],
        [
         "Download",
         "Download plot",
         "floppy-o",
         "save_figure"
        ]
       ]
      }
     },
     "f5d3b5c3458e42d785db04e4fbea28a8": {
      "model_module": "@jupyter-widgets/controls",
      "model_module_version": "1.5.0",
      "model_name": "IntSliderModel",
      "state": {
       "continuous_update": false,
       "description": "0-Padding",
       "layout": "IPY_MODEL_a548377bddf444448698e274fbb9e6dc",
       "max": 500,
       "style": "IPY_MODEL_b5deff6ff8334f56b4ed9159bed5760b"
      }
     },
     "f606d61eaff74f88bc55f7e47f9524b5": {
      "model_module": "@jupyter-widgets/base",
      "model_module_version": "1.2.0",
      "model_name": "LayoutModel",
      "state": {}
     },
     "f609708e851f4f968acdec6731b935f2": {
      "model_module": "@jupyter-widgets/controls",
      "model_module_version": "1.5.0",
      "model_name": "IntSliderModel",
      "state": {
       "continuous_update": false,
       "description": "Sampling (Hz)",
       "layout": "IPY_MODEL_08d4d0e1452749a9b88389027725578a",
       "max": 12,
       "min": 2,
       "step": 2,
       "style": "IPY_MODEL_85a0f14434144487ad61d190c36e7cbd",
       "value": 4
      }
     },
     "f621ba403ac8487986daf7ffd2b07cd7": {
      "model_module": "@jupyter-widgets/base",
      "model_module_version": "1.2.0",
      "model_name": "LayoutModel",
      "state": {}
     },
     "f65f6842c35e4d18937fd6b78222edb3": {
      "model_module": "@jupyter-widgets/base",
      "model_module_version": "1.2.0",
      "model_name": "LayoutModel",
      "state": {}
     },
     "f686b4bd468643ed960d1a8ff0bd35a6": {
      "model_module": "@jupyter-widgets/base",
      "model_module_version": "1.2.0",
      "model_name": "LayoutModel",
      "state": {}
     },
     "f68f80691da742f9b31d8874de832c6c": {
      "model_module": "@jupyter-widgets/base",
      "model_module_version": "1.2.0",
      "model_name": "LayoutModel",
      "state": {}
     },
     "f6a29d7b55e549faa816eb5fa8b281a0": {
      "model_module": "@jupyter-widgets/controls",
      "model_module_version": "1.5.0",
      "model_name": "IntSliderModel",
      "state": {
       "continuous_update": false,
       "description": "Periods",
       "layout": "IPY_MODEL_efc662bcc9c342b5b1dd819ea552e877",
       "max": 50,
       "min": 1,
       "style": "IPY_MODEL_fb38aa2c5dae4448a53c2bff5d9464d6",
       "value": 19
      }
     },
     "f6bbe60a3c4947ec906ef690bdcbdec3": {
      "model_module": "@jupyter-widgets/controls",
      "model_module_version": "1.5.0",
      "model_name": "IntSliderModel",
      "state": {
       "continuous_update": false,
       "description": "Periods",
       "layout": "IPY_MODEL_2e74f9e0d6184eb8b37c337c1d2ed148",
       "max": 50,
       "min": 1,
       "style": "IPY_MODEL_4fd6c4d97dcd47e7bfdb7ff425ba58a2",
       "value": 2
      }
     },
     "f700523de9b649c081889796b7811ac0": {
      "model_module": "@jupyter-widgets/controls",
      "model_module_version": "1.5.0",
      "model_name": "HBoxModel",
      "state": {
       "children": [
        "IPY_MODEL_f170e6b32d0541ebb6894490ca222caa",
        "IPY_MODEL_6189b09af9a14815a69913e31e6fca95"
       ],
       "layout": "IPY_MODEL_ecde1de44b1e45ffb9ab6bba394db5db"
      }
     },
     "f730d5304086450596a0b87d2877ba75": {
      "model_module": "@jupyter-widgets/base",
      "model_module_version": "1.2.0",
      "model_name": "LayoutModel",
      "state": {}
     },
     "f744cf5e50be4f2ab7328d99cc7a242a": {
      "model_module": "@jupyter-widgets/controls",
      "model_module_version": "1.5.0",
      "model_name": "IntSliderModel",
      "state": {
       "continuous_update": false,
       "description": "Periods",
       "layout": "IPY_MODEL_e8c909b216bc42ff8bf7b2ecb62a2a75",
       "max": 50,
       "min": 1,
       "style": "IPY_MODEL_8040751b49b24a7db68198e9e298f33c",
       "value": 2
      }
     },
     "f771a5636bdb4d408ded5a92ab6cb6e2": {
      "model_module": "@jupyter-widgets/base",
      "model_module_version": "1.2.0",
      "model_name": "LayoutModel",
      "state": {}
     },
     "f778290869a24641be2c3e1b81c19d7d": {
      "model_module": "jupyter-matplotlib",
      "model_module_version": "^0.7.4",
      "model_name": "ToolbarModel",
      "state": {
       "layout": "IPY_MODEL_2f69cf066751488b9060d57b75607373",
       "toolitems": [
        [
         "Home",
         "Reset original view",
         "home",
         "home"
        ],
        [
         "Back",
         "Back to previous view",
         "arrow-left",
         "back"
        ],
        [
         "Forward",
         "Forward to next view",
         "arrow-right",
         "forward"
        ],
        [
         "Pan",
         "Left button pans, Right button zooms\nx/y fixes axis, CTRL fixes aspect",
         "arrows",
         "pan"
        ],
        [
         "Zoom",
         "Zoom to rectangle\nx/y fixes axis, CTRL fixes aspect",
         "square-o",
         "zoom"
        ],
        [
         "Download",
         "Download plot",
         "floppy-o",
         "save_figure"
        ]
       ]
      }
     },
     "f78f26d21a9e49e58b3b635a22eaa379": {
      "model_module": "@jupyter-widgets/base",
      "model_module_version": "1.2.0",
      "model_name": "LayoutModel",
      "state": {}
     },
     "f7dd68c70fe2462c81b0a7864fd6099f": {
      "model_module": "@jupyter-widgets/controls",
      "model_module_version": "1.5.0",
      "model_name": "IntSliderModel",
      "state": {
       "description": "Periods",
       "layout": "IPY_MODEL_6fb7f022cdc2464280ba56f21b33af6e",
       "max": 50,
       "min": 1,
       "style": "IPY_MODEL_cd20df7c9f424e2a8c9a1cd357f32bb7",
       "value": 2
      }
     },
     "f7fbd9fbdbc642a69ac0e1e3d7548e23": {
      "model_module": "@jupyter-widgets/controls",
      "model_module_version": "1.5.0",
      "model_name": "SliderStyleModel",
      "state": {
       "description_width": "initial"
      }
     },
     "f7ff0206ba464419bc5f0244d4c83822": {
      "model_module": "@jupyter-widgets/controls",
      "model_module_version": "1.5.0",
      "model_name": "VBoxModel",
      "state": {
       "children": [
        "IPY_MODEL_176e873b63df4c65b18a4a523e79ce6d",
        "IPY_MODEL_7005ea37577c493594147507e723bec3"
       ],
       "layout": "IPY_MODEL_75f7363913fb4c6088a46f9f336fefa0"
      }
     },
     "f80eeb143f34469b958bf5ea17974bdf": {
      "model_module": "@jupyter-widgets/controls",
      "model_module_version": "1.5.0",
      "model_name": "IntSliderModel",
      "state": {
       "continuous_update": false,
       "description": "Sampling (Hz)",
       "layout": "IPY_MODEL_bc77b52be3c94fab8721565faf17ec1e",
       "max": 20,
       "min": 2,
       "step": 2,
       "style": "IPY_MODEL_4b1487497282434b929980dbf1682683",
       "value": 4
      }
     },
     "f81dbaa7cd5d433dacaaf809cc207b5f": {
      "model_module": "@jupyter-widgets/base",
      "model_module_version": "1.2.0",
      "model_name": "LayoutModel",
      "state": {}
     },
     "f850efddf2a7471d8ce219ed0dea6735": {
      "model_module": "@jupyter-widgets/controls",
      "model_module_version": "1.5.0",
      "model_name": "SliderStyleModel",
      "state": {
       "description_width": "initial"
      }
     },
     "f854f53499ea4e7abca830a85781d562": {
      "model_module": "@jupyter-widgets/base",
      "model_module_version": "1.2.0",
      "model_name": "LayoutModel",
      "state": {}
     },
     "f85c06f1f07f4b8f94bceb064abca48f": {
      "model_module": "@jupyter-widgets/controls",
      "model_module_version": "1.5.0",
      "model_name": "SliderStyleModel",
      "state": {
       "description_width": "initial"
      }
     },
     "f87ba0ade03c474d97a70120c70b3062": {
      "model_module": "@jupyter-widgets/base",
      "model_module_version": "1.2.0",
      "model_name": "LayoutModel",
      "state": {}
     },
     "f8b610aaa29e49dd9ab7801fe329e61f": {
      "model_module": "@jupyter-widgets/controls",
      "model_module_version": "1.5.0",
      "model_name": "IntSliderModel",
      "state": {
       "continuous_update": false,
       "description": "Periods",
       "layout": "IPY_MODEL_a627e60744d74f8fb201c0d9b595c7e3",
       "max": 50,
       "min": 1,
       "style": "IPY_MODEL_785efff0a70445c9bed8b2dfc8653dad",
       "value": 2
      }
     },
     "f8d769398df74c86917f26e4a0ad051b": {
      "model_module": "@jupyter-widgets/output",
      "model_module_version": "1.0.0",
      "model_name": "OutputModel",
      "state": {
       "layout": "IPY_MODEL_2a9b4cf965cd4c7ca098c98da0dd112b"
      }
     },
     "f8fa2af96f9d4d9497e2e9b4c146a6ac": {
      "model_module": "@jupyter-widgets/base",
      "model_module_version": "1.2.0",
      "model_name": "LayoutModel",
      "state": {}
     },
     "f9068c83c5b14b22958ccd0b8907c584": {
      "model_module": "@jupyter-widgets/base",
      "model_module_version": "1.2.0",
      "model_name": "LayoutModel",
      "state": {}
     },
     "f90b63da835f43f395e300cff8881925": {
      "model_module": "jupyter-matplotlib",
      "model_module_version": "^0.7.4",
      "model_name": "ToolbarModel",
      "state": {
       "layout": "IPY_MODEL_6c3818305986465e9a6060331bf676df",
       "toolitems": [
        [
         "Home",
         "Reset original view",
         "home",
         "home"
        ],
        [
         "Back",
         "Back to previous view",
         "arrow-left",
         "back"
        ],
        [
         "Forward",
         "Forward to next view",
         "arrow-right",
         "forward"
        ],
        [
         "Pan",
         "Left button pans, Right button zooms\nx/y fixes axis, CTRL fixes aspect",
         "arrows",
         "pan"
        ],
        [
         "Zoom",
         "Zoom to rectangle\nx/y fixes axis, CTRL fixes aspect",
         "square-o",
         "zoom"
        ],
        [
         "Download",
         "Download plot",
         "floppy-o",
         "save_figure"
        ]
       ]
      }
     },
     "f9105586f0a64cc3869585f5e5b6ca04": {
      "model_module": "@jupyter-widgets/base",
      "model_module_version": "1.2.0",
      "model_name": "LayoutModel",
      "state": {}
     },
     "f92772941b1a4b9db8ab8667d72f59db": {
      "model_module": "@jupyter-widgets/controls",
      "model_module_version": "1.5.0",
      "model_name": "IntSliderModel",
      "state": {
       "continuous_update": false,
       "description": "Periods",
       "layout": "IPY_MODEL_b8bf63157e6144489dc0499a46efd2d2",
       "max": 50,
       "min": 1,
       "style": "IPY_MODEL_16db6e45c6644840b9f775cf98f6d04e",
       "value": 2
      }
     },
     "f9415616c543432f9c21b9c9305ac71e": {
      "model_module": "@jupyter-widgets/controls",
      "model_module_version": "1.5.0",
      "model_name": "SliderStyleModel",
      "state": {
       "description_width": "initial"
      }
     },
     "f9a79f7a105a4bf59c70e01403b3489a": {
      "model_module": "@jupyter-widgets/base",
      "model_module_version": "1.2.0",
      "model_name": "LayoutModel",
      "state": {}
     },
     "f9bae904cc074a0794a1770097ffb2f7": {
      "model_module": "@jupyter-widgets/controls",
      "model_module_version": "1.5.0",
      "model_name": "IntSliderModel",
      "state": {
       "continuous_update": false,
       "description": "Periods",
       "layout": "IPY_MODEL_5c2044c7e96d49ba939519cdd0967cb4",
       "max": 50,
       "min": 1,
       "style": "IPY_MODEL_9bcaa655103f44aab3233a8d45de5196",
       "value": 2
      }
     },
     "f9ce9129094241b49c5e4de921b5457a": {
      "model_module": "@jupyter-widgets/base",
      "model_module_version": "1.2.0",
      "model_name": "LayoutModel",
      "state": {}
     },
     "f9d0b62efdb34e9b9cd728d2863fd711": {
      "model_module": "@jupyter-widgets/base",
      "model_module_version": "1.2.0",
      "model_name": "LayoutModel",
      "state": {}
     },
     "f9f59596cc434129b2b5da3e5e0cbc05": {
      "model_module": "@jupyter-widgets/base",
      "model_module_version": "1.2.0",
      "model_name": "LayoutModel",
      "state": {}
     },
     "fa14142577704665866c0aebb3e9b193": {
      "model_module": "@jupyter-widgets/controls",
      "model_module_version": "1.5.0",
      "model_name": "IntSliderModel",
      "state": {
       "continuous_update": false,
       "description": "0-Padding",
       "layout": "IPY_MODEL_cc19559fa412481583ffb023c75d63fe",
       "max": 500,
       "style": "IPY_MODEL_184eac9470b646718ed2331044ddbbfc"
      }
     },
     "fa1779b782294c62bfcb99b7eeac9f23": {
      "model_module": "@jupyter-widgets/controls",
      "model_module_version": "1.5.0",
      "model_name": "VBoxModel",
      "state": {
       "_dom_classes": [
        "widget-interact"
       ],
       "children": [
        "IPY_MODEL_6d237fa0843a4aad9cd8874fc75f2547",
        "IPY_MODEL_c6584a04ca2447edb0321b07c015e5d2",
        "IPY_MODEL_9fa1eeb25d7649d89c99f714932ceb83",
        "IPY_MODEL_4040e2b2fec949628acc81bed623f6f7"
       ],
       "layout": "IPY_MODEL_ba280b9bfd6e4968a55ebf392db12982"
      }
     },
     "fa35ac7e674d436c8108c4f083519581": {
      "model_module": "@jupyter-widgets/controls",
      "model_module_version": "1.5.0",
      "model_name": "IntSliderModel",
      "state": {
       "continuous_update": false,
       "description": "Periods",
       "layout": "IPY_MODEL_425df8bacb664795969b6569a98a3cf6",
       "max": 50,
       "min": 1,
       "style": "IPY_MODEL_73c2f5d84e67423a82c11554450853cd",
       "value": 2
      }
     },
     "fa3770b4feb141a4bc31bcfce038d8c5": {
      "model_module": "@jupyter-widgets/controls",
      "model_module_version": "1.5.0",
      "model_name": "IntSliderModel",
      "state": {
       "description": "Periods",
       "layout": "IPY_MODEL_541621dce1134039a60f292cbb75cac6",
       "max": 50,
       "min": 1,
       "style": "IPY_MODEL_5d810269378e4501b316dbde781017f4",
       "value": 23
      }
     },
     "fa54e1f535014662bc518bbf969d0579": {
      "model_module": "@jupyter-widgets/base",
      "model_module_version": "1.2.0",
      "model_name": "LayoutModel",
      "state": {}
     },
     "fa60a80d5e6b48e184f59e7ff484fb93": {
      "model_module": "@jupyter-widgets/controls",
      "model_module_version": "1.5.0",
      "model_name": "SliderStyleModel",
      "state": {
       "description_width": "initial"
      }
     },
     "fa69f2bc645d4070a697fe3274546e38": {
      "model_module": "@jupyter-widgets/base",
      "model_module_version": "1.2.0",
      "model_name": "LayoutModel",
      "state": {}
     },
     "fa77aa23f5714d40baba58f4431e0651": {
      "model_module": "jupyter-matplotlib",
      "model_module_version": "^0.7.4",
      "model_name": "ToolbarModel",
      "state": {
       "layout": "IPY_MODEL_e4117c60bf9a41d9a49089007b60e161",
       "toolitems": [
        [
         "Home",
         "Reset original view",
         "home",
         "home"
        ],
        [
         "Back",
         "Back to previous view",
         "arrow-left",
         "back"
        ],
        [
         "Forward",
         "Forward to next view",
         "arrow-right",
         "forward"
        ],
        [
         "Pan",
         "Left button pans, Right button zooms\nx/y fixes axis, CTRL fixes aspect",
         "arrows",
         "pan"
        ],
        [
         "Zoom",
         "Zoom to rectangle\nx/y fixes axis, CTRL fixes aspect",
         "square-o",
         "zoom"
        ],
        [
         "Download",
         "Download plot",
         "floppy-o",
         "save_figure"
        ]
       ]
      }
     },
     "fa8b3bb89af74d75a0458c07745f2f71": {
      "model_module": "@jupyter-widgets/controls",
      "model_module_version": "1.5.0",
      "model_name": "SliderStyleModel",
      "state": {
       "description_width": "initial"
      }
     },
     "fa91525ac08a43b189e355a922a66c76": {
      "model_module": "@jupyter-widgets/base",
      "model_module_version": "1.2.0",
      "model_name": "LayoutModel",
      "state": {}
     },
     "facb8cd79d6b497496ae7abd58804253": {
      "model_module": "@jupyter-widgets/controls",
      "model_module_version": "1.5.0",
      "model_name": "IntSliderModel",
      "state": {
       "continuous_update": false,
       "description": "Sampling (Hz)",
       "layout": "IPY_MODEL_987eed72299d4402946c80ff5d7fd5bd",
       "max": 20,
       "min": 2,
       "step": 2,
       "style": "IPY_MODEL_a41ac292800e41ed8f39c9ae3792d515",
       "value": 10
      }
     },
     "fb1294dd92e64f2ea179081d2923280b": {
      "model_module": "@jupyter-widgets/output",
      "model_module_version": "1.0.0",
      "model_name": "OutputModel",
      "state": {
       "layout": "IPY_MODEL_647dad33ff3941e5b525eebd3aab790e",
       "outputs": [
        {
         "data": {
          "application/vnd.jupyter.widget-view+json": {
           "model_id": "249b9cd613d742f593776417437f35d1",
           "version_major": 2,
           "version_minor": 0
          },
          "text/plain": "Canvas(toolbar=Toolbar(toolitems=[('Home', 'Reset original view', 'home', 'home'), ('Back', 'Back to previous …"
         },
         "metadata": {},
         "output_type": "display_data"
        }
       ]
      }
     },
     "fb14e9c93a47488d9b78ccef0882e062": {
      "model_module": "@jupyter-widgets/controls",
      "model_module_version": "1.5.0",
      "model_name": "SliderStyleModel",
      "state": {
       "description_width": "initial"
      }
     },
     "fb1aa7e2eea1407085e786ad21fc1097": {
      "model_module": "@jupyter-widgets/base",
      "model_module_version": "1.2.0",
      "model_name": "LayoutModel",
      "state": {}
     },
     "fb1e2f7beca74f76a2fc8f144f62b5e2": {
      "model_module": "jupyter-matplotlib",
      "model_module_version": "^0.7.4",
      "model_name": "ToolbarModel",
      "state": {
       "layout": "IPY_MODEL_1de2186c862b4e5e8aaeb5a2b3df9129",
       "toolitems": [
        [
         "Home",
         "Reset original view",
         "home",
         "home"
        ],
        [
         "Back",
         "Back to previous view",
         "arrow-left",
         "back"
        ],
        [
         "Forward",
         "Forward to next view",
         "arrow-right",
         "forward"
        ],
        [
         "Pan",
         "Left button pans, Right button zooms\nx/y fixes axis, CTRL fixes aspect",
         "arrows",
         "pan"
        ],
        [
         "Zoom",
         "Zoom to rectangle\nx/y fixes axis, CTRL fixes aspect",
         "square-o",
         "zoom"
        ],
        [
         "Download",
         "Download plot",
         "floppy-o",
         "save_figure"
        ]
       ]
      }
     },
     "fb38aa2c5dae4448a53c2bff5d9464d6": {
      "model_module": "@jupyter-widgets/controls",
      "model_module_version": "1.5.0",
      "model_name": "SliderStyleModel",
      "state": {
       "description_width": "initial"
      }
     },
     "fb5aa49667ef4bdda7e7d452735f61d7": {
      "model_module": "@jupyter-widgets/base",
      "model_module_version": "1.2.0",
      "model_name": "LayoutModel",
      "state": {}
     },
     "fb60be8e7a374067a6b9b0bd81c23368": {
      "model_module": "@jupyter-widgets/controls",
      "model_module_version": "1.5.0",
      "model_name": "SliderStyleModel",
      "state": {
       "description_width": "initial"
      }
     },
     "fb739def388b4a9aa475cc0dbbc5cbbe": {
      "model_module": "@jupyter-widgets/controls",
      "model_module_version": "1.5.0",
      "model_name": "IntSliderModel",
      "state": {
       "continuous_update": false,
       "description": "Periods",
       "layout": "IPY_MODEL_f81dbaa7cd5d433dacaaf809cc207b5f",
       "max": 50,
       "min": 1,
       "style": "IPY_MODEL_502a0b30948a4864abbf1499b4c16f57",
       "value": 2
      }
     },
     "fb97eb15368f414a9bd09410f8c87d71": {
      "model_module": "@jupyter-widgets/base",
      "model_module_version": "1.2.0",
      "model_name": "LayoutModel",
      "state": {}
     },
     "fb9acaa4b25c403a9de2605631ce241d": {
      "model_module": "@jupyter-widgets/controls",
      "model_module_version": "1.5.0",
      "model_name": "SliderStyleModel",
      "state": {
       "description_width": "initial"
      }
     },
     "fbfa3358b18540a4a1b36fafb9fc0b4e": {
      "model_module": "@jupyter-widgets/base",
      "model_module_version": "1.2.0",
      "model_name": "LayoutModel",
      "state": {}
     },
     "fbfee9d08d784308a86c37f16ed6ca05": {
      "model_module": "@jupyter-widgets/controls",
      "model_module_version": "1.5.0",
      "model_name": "IntSliderModel",
      "state": {
       "continuous_update": false,
       "description": "Periods",
       "layout": "IPY_MODEL_1ef1d31bd80f451a806c529879290ccb",
       "max": 50,
       "min": 1,
       "style": "IPY_MODEL_cd4532d6087849b9a14f692a6326d249",
       "value": 2
      }
     },
     "fc147286c96244ce947213a5ae4ba148": {
      "model_module": "@jupyter-widgets/base",
      "model_module_version": "1.2.0",
      "model_name": "LayoutModel",
      "state": {}
     },
     "fc51b07b2ddc4c229521b38abfdf6fb8": {
      "model_module": "@jupyter-widgets/controls",
      "model_module_version": "1.5.0",
      "model_name": "SliderStyleModel",
      "state": {
       "description_width": "initial"
      }
     },
     "fc6c209671984562b4f04571764d77bd": {
      "model_module": "@jupyter-widgets/controls",
      "model_module_version": "1.5.0",
      "model_name": "SliderStyleModel",
      "state": {
       "description_width": "initial"
      }
     },
     "fc767b68ae71469a90ee1094c7809f25": {
      "model_module": "@jupyter-widgets/base",
      "model_module_version": "1.2.0",
      "model_name": "LayoutModel",
      "state": {}
     },
     "fc8728025c8442da9dd657dd485547ac": {
      "model_module": "@jupyter-widgets/controls",
      "model_module_version": "1.5.0",
      "model_name": "SliderStyleModel",
      "state": {
       "description_width": "initial"
      }
     },
     "fc8a3f6a58e54f1dbbaf5f17463561d1": {
      "model_module": "@jupyter-widgets/base",
      "model_module_version": "1.2.0",
      "model_name": "LayoutModel",
      "state": {}
     },
     "fcac8d1fe5c14cd8860dd67fb2bdc6bc": {
      "model_module": "@jupyter-widgets/controls",
      "model_module_version": "1.5.0",
      "model_name": "VBoxModel",
      "state": {
       "_dom_classes": [
        "widget-interact"
       ],
       "children": [
        "IPY_MODEL_b1cf9ef923ae40308b4a345a60ea02f1",
        "IPY_MODEL_69a4636621ec406b9169b2d99a2cdec5",
        "IPY_MODEL_a8536dddd31c4d1f8c9b8acfe0b88011",
        "IPY_MODEL_488e8ae1719e4da78f32ea8aa2dc2a75"
       ],
       "layout": "IPY_MODEL_cb39c0e0bd4e4aa6b3c9aef3e3ef3379"
      }
     },
     "fcb989a016d84558a30dd3613d8c3545": {
      "model_module": "@jupyter-widgets/base",
      "model_module_version": "1.2.0",
      "model_name": "LayoutModel",
      "state": {}
     },
     "fcc947fb18c648ee9a430ce87da04f32": {
      "model_module": "@jupyter-widgets/controls",
      "model_module_version": "1.5.0",
      "model_name": "SliderStyleModel",
      "state": {
       "description_width": "initial"
      }
     },
     "fce84762f1804941b6ec15cd1cd13707": {
      "model_module": "@jupyter-widgets/controls",
      "model_module_version": "1.5.0",
      "model_name": "SliderStyleModel",
      "state": {
       "description_width": "initial"
      }
     },
     "fd03cf87047340949aeef6d04a862891": {
      "model_module": "@jupyter-widgets/base",
      "model_module_version": "1.2.0",
      "model_name": "LayoutModel",
      "state": {}
     },
     "fd300e2ea5274cf39e5017beb0eccbf2": {
      "model_module": "@jupyter-widgets/base",
      "model_module_version": "1.2.0",
      "model_name": "LayoutModel",
      "state": {}
     },
     "fd30b106d83747d891c66e351e9ed20e": {
      "model_module": "@jupyter-widgets/base",
      "model_module_version": "1.2.0",
      "model_name": "LayoutModel",
      "state": {}
     },
     "fd3b66466cc14e47b41517bd06e52efa": {
      "model_module": "jupyter-matplotlib",
      "model_module_version": "^0.7.4",
      "model_name": "ToolbarModel",
      "state": {
       "layout": "IPY_MODEL_702d637d44d540898b322ca1b189d371",
       "toolitems": [
        [
         "Home",
         "Reset original view",
         "home",
         "home"
        ],
        [
         "Back",
         "Back to previous view",
         "arrow-left",
         "back"
        ],
        [
         "Forward",
         "Forward to next view",
         "arrow-right",
         "forward"
        ],
        [
         "Pan",
         "Left button pans, Right button zooms\nx/y fixes axis, CTRL fixes aspect",
         "arrows",
         "pan"
        ],
        [
         "Zoom",
         "Zoom to rectangle\nx/y fixes axis, CTRL fixes aspect",
         "square-o",
         "zoom"
        ],
        [
         "Download",
         "Download plot",
         "floppy-o",
         "save_figure"
        ]
       ]
      }
     },
     "fd499748e750422e94d7d9b9908a1925": {
      "model_module": "@jupyter-widgets/controls",
      "model_module_version": "1.5.0",
      "model_name": "VBoxModel",
      "state": {
       "_dom_classes": [
        "widget-interact"
       ],
       "children": [
        "IPY_MODEL_07cb252ae06d49559f28b336343e632a",
        "IPY_MODEL_71ffd9e0fe8246baab23b55187bf0319",
        "IPY_MODEL_db01701d16ee4df0b66052c7422c0cb2",
        "IPY_MODEL_a3b41b373d9340e0ba249bcec2ce4a37"
       ],
       "layout": "IPY_MODEL_8cb7564261354fe285dbe881b9c1c369"
      }
     },
     "fd5cef97decb489483df3e117673aef9": {
      "model_module": "@jupyter-widgets/output",
      "model_module_version": "1.0.0",
      "model_name": "OutputModel",
      "state": {
       "layout": "IPY_MODEL_c3c6d5c0348843aa86689a15a93e22ef",
       "outputs": [
        {
         "data": {
          "application/vnd.jupyter.widget-view+json": {
           "model_id": "cc4e1784ba4c4a0582caeb73e87e5094",
           "version_major": 2,
           "version_minor": 0
          },
          "text/plain": "Canvas(toolbar=Toolbar(toolitems=[('Home', 'Reset original view', 'home', 'home'), ('Back', 'Back to previous …"
         },
         "metadata": {},
         "output_type": "display_data"
        }
       ]
      }
     },
     "fda1dc8601b742558a31ff4cba2bf659": {
      "model_module": "jupyter-matplotlib",
      "model_module_version": "^0.7.4",
      "model_name": "ToolbarModel",
      "state": {
       "layout": "IPY_MODEL_16a699d7e8b7444dae44c914ac9cbeda",
       "toolitems": [
        [
         "Home",
         "Reset original view",
         "home",
         "home"
        ],
        [
         "Back",
         "Back to previous view",
         "arrow-left",
         "back"
        ],
        [
         "Forward",
         "Forward to next view",
         "arrow-right",
         "forward"
        ],
        [
         "Pan",
         "Left button pans, Right button zooms\nx/y fixes axis, CTRL fixes aspect",
         "arrows",
         "pan"
        ],
        [
         "Zoom",
         "Zoom to rectangle\nx/y fixes axis, CTRL fixes aspect",
         "square-o",
         "zoom"
        ],
        [
         "Download",
         "Download plot",
         "floppy-o",
         "save_figure"
        ]
       ]
      }
     },
     "fdca85a2fa9049599138cd6edc443fc7": {
      "model_module": "@jupyter-widgets/controls",
      "model_module_version": "1.5.0",
      "model_name": "IntSliderModel",
      "state": {
       "continuous_update": false,
       "description": "Sampling (Hz)",
       "layout": "IPY_MODEL_cdc554cb94ff447e889b890cb930e4cb",
       "max": 20,
       "min": 2,
       "step": 2,
       "style": "IPY_MODEL_f85c06f1f07f4b8f94bceb064abca48f",
       "value": 4
      }
     },
     "fde4ebc54956449b914f395e1c7e1f18": {
      "model_module": "@jupyter-widgets/base",
      "model_module_version": "1.2.0",
      "model_name": "LayoutModel",
      "state": {}
     },
     "fe086d734c70428696adc210326a6422": {
      "model_module": "@jupyter-widgets/base",
      "model_module_version": "1.2.0",
      "model_name": "LayoutModel",
      "state": {}
     },
     "fe0c434ea8e54ac28ac449675ecf5339": {
      "model_module": "@jupyter-widgets/controls",
      "model_module_version": "1.5.0",
      "model_name": "IntSliderModel",
      "state": {
       "continuous_update": false,
       "description": "Periods",
       "layout": "IPY_MODEL_ee56b361d0e345b689080cbbfe057c1d",
       "max": 50,
       "min": 1,
       "style": "IPY_MODEL_08cfa550fb1a43ada3efe8c2f07612cc",
       "value": 1
      }
     },
     "fe5ee09dde3b477bbb93910e6b6d1522": {
      "model_module": "@jupyter-widgets/base",
      "model_module_version": "1.2.0",
      "model_name": "LayoutModel",
      "state": {}
     },
     "fe65ee96ef5e4123a326a934e436be28": {
      "model_module": "@jupyter-widgets/base",
      "model_module_version": "1.2.0",
      "model_name": "LayoutModel",
      "state": {}
     },
     "fe7bfba7bf2a4870989f6a2fd07d79f6": {
      "model_module": "@jupyter-widgets/base",
      "model_module_version": "1.2.0",
      "model_name": "LayoutModel",
      "state": {}
     },
     "fe7d8610d7fd441f9158f04afec50423": {
      "model_module": "@jupyter-widgets/controls",
      "model_module_version": "1.5.0",
      "model_name": "IntSliderModel",
      "state": {
       "continuous_update": false,
       "description": "Periods",
       "layout": "IPY_MODEL_652712c450934ee39924cdebfe9e3aa7",
       "max": 50,
       "min": 1,
       "style": "IPY_MODEL_21d80f42016e49b8b5aba98a2ad14bf9",
       "value": 28
      }
     },
     "fe96e050ef8a476c890e68a5962bab6b": {
      "model_module": "@jupyter-widgets/controls",
      "model_module_version": "1.5.0",
      "model_name": "SliderStyleModel",
      "state": {
       "description_width": "initial"
      }
     },
     "fe971bd0b2c4448b9cb1d278892252dc": {
      "model_module": "@jupyter-widgets/base",
      "model_module_version": "1.2.0",
      "model_name": "LayoutModel",
      "state": {}
     },
     "fea47ef9f1c54c42b28b423535d55852": {
      "model_module": "@jupyter-widgets/controls",
      "model_module_version": "1.5.0",
      "model_name": "HBoxModel",
      "state": {
       "children": [
        "IPY_MODEL_bbeb2dc264e74b8f85234fc166da5f2b",
        "IPY_MODEL_6eadcdac02fa458aba7298bffdaa513e",
        "IPY_MODEL_8ad21104cf824586801a46509dfd0ec3"
       ],
       "layout": "IPY_MODEL_1ba542cddb8444b6ae14f656ccf3f8aa"
      }
     },
     "feb46e6080444663ae254fa6935e6aa9": {
      "model_module": "@jupyter-widgets/controls",
      "model_module_version": "1.5.0",
      "model_name": "SliderStyleModel",
      "state": {
       "description_width": "initial"
      }
     },
     "fed273fbb591484492a1d60df265c535": {
      "model_module": "@jupyter-widgets/base",
      "model_module_version": "1.2.0",
      "model_name": "LayoutModel",
      "state": {}
     },
     "ff18d5d94d554298ad04cd22ecc1dbc7": {
      "model_module": "@jupyter-widgets/base",
      "model_module_version": "1.2.0",
      "model_name": "LayoutModel",
      "state": {}
     },
     "ff55f6a28e634b4783945012b1857a58": {
      "model_module": "@jupyter-widgets/base",
      "model_module_version": "1.2.0",
      "model_name": "LayoutModel",
      "state": {}
     },
     "ff666953f9ce4037a274181cecc1556f": {
      "model_module": "jupyter-matplotlib",
      "model_module_version": "^0.7.4",
      "model_name": "ToolbarModel",
      "state": {
       "layout": "IPY_MODEL_c5353bba528c4ab386a3325258b9e9b0",
       "toolitems": [
        [
         "Home",
         "Reset original view",
         "home",
         "home"
        ],
        [
         "Back",
         "Back to previous view",
         "arrow-left",
         "back"
        ],
        [
         "Forward",
         "Forward to next view",
         "arrow-right",
         "forward"
        ],
        [
         "Pan",
         "Left button pans, Right button zooms\nx/y fixes axis, CTRL fixes aspect",
         "arrows",
         "pan"
        ],
        [
         "Zoom",
         "Zoom to rectangle\nx/y fixes axis, CTRL fixes aspect",
         "square-o",
         "zoom"
        ],
        [
         "Download",
         "Download plot",
         "floppy-o",
         "save_figure"
        ]
       ]
      }
     },
     "ff6e5c65eab145fd9e2760d1fb00ea24": {
      "model_module": "@jupyter-widgets/controls",
      "model_module_version": "1.5.0",
      "model_name": "VBoxModel",
      "state": {
       "children": [
        "IPY_MODEL_f9bae904cc074a0794a1770097ffb2f7",
        "IPY_MODEL_88e47621e75e4932ba8f2f79ade8295b",
        "IPY_MODEL_4da54b5745c3498fa6af5a51d6dab01d"
       ],
       "layout": "IPY_MODEL_15cf586548914a1fb1d8ef5d1238b1c9"
      }
     },
     "ff9510de126044dc9af208d836bef9fa": {
      "model_module": "jupyter-matplotlib",
      "model_module_version": "^0.7.4",
      "model_name": "ToolbarModel",
      "state": {
       "layout": "IPY_MODEL_cf1617d137fd40ce900a8ebee86b5ed3",
       "toolitems": [
        [
         "Home",
         "Reset original view",
         "home",
         "home"
        ],
        [
         "Back",
         "Back to previous view",
         "arrow-left",
         "back"
        ],
        [
         "Forward",
         "Forward to next view",
         "arrow-right",
         "forward"
        ],
        [
         "Pan",
         "Left button pans, Right button zooms\nx/y fixes axis, CTRL fixes aspect",
         "arrows",
         "pan"
        ],
        [
         "Zoom",
         "Zoom to rectangle\nx/y fixes axis, CTRL fixes aspect",
         "square-o",
         "zoom"
        ],
        [
         "Download",
         "Download plot",
         "floppy-o",
         "save_figure"
        ]
       ]
      }
     },
     "ffbaee0a30db44d2928544601c637bbc": {
      "model_module": "@jupyter-widgets/base",
      "model_module_version": "1.2.0",
      "model_name": "LayoutModel",
      "state": {}
     },
     "fff031203b49413291b1f6239125eea3": {
      "model_module": "@jupyter-widgets/base",
      "model_module_version": "1.2.0",
      "model_name": "LayoutModel",
      "state": {}
     }
    },
    "version_major": 2,
    "version_minor": 0
   }
  }
 },
 "nbformat": 4,
 "nbformat_minor": 4
}
